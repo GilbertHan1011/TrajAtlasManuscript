{
 "cells": [
  {
   "cell_type": "code",
   "execution_count": 4,
   "id": "397c8917-b444-45c0-8c4c-c592b5597b42",
   "metadata": {},
   "outputs": [],
   "source": [
    "import scanpy as sc\n",
    "sc.settings.figdir = \"../results/reduction/\"\n",
    "sc._settings.settings._vector_friendly=True\n",
    "import scanpy.external as sce"
   ]
  },
  {
   "cell_type": "code",
   "execution_count": 2,
   "id": "8b742d4c-864c-4a71-a505-295a96651765",
   "metadata": {},
   "outputs": [],
   "source": [
    "adata = sc.read(\"../../important_processed_data/5.22_integrate_adata.h5ad\")"
   ]
  },
  {
   "cell_type": "code",
   "execution_count": 6,
   "id": "e0c3768d-b5a1-4224-8301-b035c6d14588",
   "metadata": {},
   "outputs": [],
   "source": [
    "adata.obsm[\"X_pca\"]  = adata.obsm[\"X_scANVI\"]"
   ]
  },
  {
   "cell_type": "code",
   "execution_count": null,
   "id": "9cf2980a-084c-4a79-af29-408e390294fe",
   "metadata": {},
   "outputs": [
    {
     "name": "stderr",
     "output_type": "stream",
     "text": [
      "/home/zhanglab/mambaforge/envs/py311/lib/python3.11/site-packages/joblib/externals/loky/backend/fork_exec.py:38: RuntimeWarning: os.fork() was called. os.fork() is incompatible with multithreaded code, and JAX is multithreaded, so this will likely lead to a deadlock.\n",
      "  pid = os.fork()\n",
      "/home/zhanglab/mambaforge/envs/py311/lib/python3.11/site-packages/joblib/externals/loky/process_executor.py:752: UserWarning: A worker stopped while some jobs were given to the executor. This can be caused by a too short worker timeout or by a memory leak.\n",
      "  warnings.warn(\n"
     ]
    }
   ],
   "source": [
    "sce.tl.palantir(adata, n_components=15, knn=30)"
   ]
  },
  {
   "cell_type": "code",
   "execution_count": null,
   "id": "c51d6f83-b9eb-4edb-8a93-3986f9863d0e",
   "metadata": {},
   "outputs": [],
   "source": [
    "pr_res = sce.tl.palantir_results(\n",
    "    adata,\n",
    "    ms_data='X_palantir_multiscale',\n",
    "    num_waypoints=500,100\n",
    "    dfd\n",
    ")"
   ]
  },
  {
   "cell_type": "code",
   "execution_count": null,
   "id": "98d21db2-731f-4125-bbf6-b52a1c6f68cc",
   "metadata": {},
   "outputs": [],
   "source": [
    "adata"
   ]
  }
 ],
 "metadata": {
  "kernelspec": {
   "display_name": "py311",
   "language": "python",
   "name": "py311"
  },
  "language_info": {
   "codemirror_mode": {
    "name": "ipython",
    "version": 3
   },
   "file_extension": ".py",
   "mimetype": "text/x-python",
   "name": "python",
   "nbconvert_exporter": "python",
   "pygments_lexer": "ipython3",
   "version": "3.11.0"
  }
 },
 "nbformat": 4,
 "nbformat_minor": 5
}
