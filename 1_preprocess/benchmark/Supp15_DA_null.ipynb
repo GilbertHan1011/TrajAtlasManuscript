{
 "cells": [
  {
   "cell_type": "markdown",
   "id": "2c952080-974f-4b7f-b7d1-be6fdc745da5",
   "metadata": {},
   "source": [
    "Use kernel 11.20_progress"
   ]
  },
  {
   "cell_type": "code",
   "execution_count": 901,
   "id": "3bffa497-708f-4066-9a0e-804ac2cb91a2",
   "metadata": {},
   "outputs": [],
   "source": [
    "null=adata.copy()"
   ]
  },
  {
   "cell_type": "code",
   "execution_count": 903,
   "id": "9c59bd03-4361-42fc-824b-ce89eef48663",
   "metadata": {},
   "outputs": [],
   "source": [
    "del null.X"
   ]
  },
  {
   "cell_type": "code",
   "execution_count": 905,
   "id": "a4610046-587f-4c09-8b2d-ab0425d69068",
   "metadata": {},
   "outputs": [],
   "source": [
    "del null.layers"
   ]
  },
  {
   "cell_type": "code",
   "execution_count": 910,
   "id": "87fab66d-a4bb-41e1-888f-ab4ada6749d4",
   "metadata": {},
   "outputs": [],
   "source": [
    "del null.raw"
   ]
  },
  {
   "cell_type": "code",
   "execution_count": 912,
   "id": "f1c93952-cedd-48d6-a2f8-c61227ac8122",
   "metadata": {},
   "outputs": [],
   "source": [
    "del null.var"
   ]
  },
  {
   "cell_type": "code",
   "execution_count": 922,
   "id": "d4a68a5b-62e6-428a-a458-0c08bc9ad876",
   "metadata": {},
   "outputs": [],
   "source": [
    "sampleDf=mdata[\"milo\"].obs.copy()"
   ]
  },
  {
   "cell_type": "code",
   "execution_count": 926,
   "id": "2d57fbfb-8df9-4ed0-adf9-91e9b770acd1",
   "metadata": {},
   "outputs": [],
   "source": [
    "random.shuffle(sampleDf[\"Stage\"])"
   ]
  },
  {
   "cell_type": "code",
   "execution_count": 935,
   "id": "289a364d-aaa5-48f5-8b84-9b8ec6ed15be",
   "metadata": {},
   "outputs": [],
   "source": [
    "sampleDict= dict(zip(sampleDf['Sample'], sampleDf['Stage']))"
   ]
  },
  {
   "cell_type": "code",
   "execution_count": 938,
   "id": "0d29c436-bc6d-4b70-bd4a-e7f734c9c391",
   "metadata": {},
   "outputs": [],
   "source": [
    "null.obs['Stage_shuffle'] = null.obs['Sample'].map(sampleDict)"
   ]
  },
  {
   "cell_type": "code",
   "execution_count": 980,
   "id": "13d2e78f-e870-44c8-8134-863b8c986277",
   "metadata": {},
   "outputs": [
    {
     "data": {
      "text/plain": [
       "AnnData object with n_obs × n_vars = 67329 × 17312\n",
       "    obs: 'orig.ident', 'nCount_originalexp', 'nFeature_originalexp', 'Sample', 'Project', 'Limb.Atlas', 'Organ', 'Tissue', 'Tissue.Specific.', 'Stage', 'Gene.type', 'Treatment', 'Age', 'Age.In.Detail.', 'Machine', 'Species', 'Isolation.approach', 'Digestion', 'Enzymes', 'Bone.Forming.Methods', 'Data.Source', 'Related.Assay', 'Origin', 'nCount_RNA', 'nFeature_RNA', 'paper_label', 'coarse_label', 'scDblFinder_class', 'short_id', 'temp_cluster', 'batch', 'batch_atlas', 'size_factors', 'n_genes_by_counts', 'log1p_n_genes_by_counts', 'total_counts', 'log1p_total_counts', 'pct_counts_in_top_50_genes', 'pct_counts_in_top_100_genes', 'pct_counts_in_top_200_genes', 'pct_counts_in_top_500_genes', 'new_totals_log', 'anno_level_1', 'anno_level_2', 'anno_level_3', 'anno_level_4', 'anno_level_5', 'mix_level_1', 'mix_level_2', 'merge_id_level3', 'merge_id_level4', 'merge_id_level5', 'cellid', 'leiden_clusters_level_1', 'leiden_clusters_level_2', 'leiden_clusters_level_3', 'leiden_clusters_level_4', 'leiden_clusters_level_5', 'leiden_clusters_level_6', 'leiden_clusters_level_7', 'K2', 'K7', 'K19', 'K36', 'K66', 'K112', 'K220', 'C2', 'C7', 'C19', 'C36', 'C49', 'C90', 'C137', 'C2_named', 'C7_named', 'C19_named', 'C36_named', 'C49_named', 'C90_named', 'C137_named', 'sample_coarse', 'lineage_string', 'dpt_pseudotime', 'start', 'palantir_pseudotime', 'palantir_entropy', 'palantir_norm', 'lineage_chondro', 'lineage_laFibro', 'lineage_lepr', 'lineage_mesenchyme', 'pred_dpt', 'dpt_pred', 'nhood_ixs_random', 'nhood_ixs_refined', 'nhood_kth_distance'\n",
       "    var: 'features-0', 'n_cells_by_counts-0', 'mean_counts-0', 'log1p_mean_counts-0', 'pct_dropout_by_counts-0', 'total_counts-0', 'log1p_total_counts-0', 'highly_variable-0', 'means-0', 'dispersions-0', 'dispersions_norm-0', 'highly_variable_nbatches-0', 'highly_variable_intersection-0', 'features-1', 'n_cells_by_counts-1', 'mean_counts-1', 'log1p_mean_counts-1', 'pct_dropout_by_counts-1', 'total_counts-1', 'log1p_total_counts-1', 'highly_variable-1', 'means-1', 'dispersions-1', 'dispersions_norm-1', 'highly_variable_nbatches-1', 'highly_variable_intersection-1', 'highly_variable-2', 'means-2', 'dispersions-2', 'dispersions_norm-2', 'highly_variable_nbatches-2', 'highly_variable_intersection-2', 'features.0-2', 'n_cells_by_counts', 'mean_counts', 'log1p_mean_counts', 'pct_dropout_by_counts', 'total_counts', 'log1p_total_counts', 'highly_variable', 'means', 'dispersions', 'dispersions_norm', 'highly_variable_nbatches', 'highly_variable_intersection', 'n_cells', 'RF_highly'\n",
       "    uns: 'C19_named_colors', 'C7_named_colors', 'DM_EigenValues', 'coarse_label_colors', 'diffmap_evals', 'draw_graph', 'hvg', 'iroot', 'lineage_laFibro_colors', 'lineage_string_colors', 'mix_level_2_colors', 'mix_level_2_sizes', 'neighbors', 'paga', 'palantir_waypoints', 'sample_coarse_sizes', 'umap', 'nhood_neighbors_key'\n",
       "    obsm: 'DM_EigenVectors', 'DM_EigenVectors_multiscaled', 'X_diffmap', 'X_draw_graph_fa', 'X_pca', 'X_scANVI', 'X_umap', 'palantir_fate_probabilities', 'nhoods'\n",
       "    layers: 'counts'\n",
       "    obsp: 'DM_Kernel', 'DM_Similarity', 'connectivities', 'distances'"
      ]
     },
     "execution_count": 980,
     "metadata": {},
     "output_type": "execute_result"
    }
   ],
   "source": [
    "adata"
   ]
  },
  {
   "cell_type": "code",
   "execution_count": 981,
   "id": "95bb748c-8016-4846-aef0-1ea18cd2285f",
   "metadata": {},
   "outputs": [],
   "source": [
    "null.obs[\"dpt_pred\"]=adata.obs[\"dpt_pred\"]"
   ]
  },
  {
   "cell_type": "code",
   "execution_count": 978,
   "id": "53468e56-656b-40f5-a150-b186b9d6577e",
   "metadata": {},
   "outputs": [],
   "source": [
    "null.obsm[\"X_scANVI\"]=adata.obsm[\"X_scANVI\"]"
   ]
  },
  {
   "cell_type": "code",
   "execution_count": 941,
   "id": "6d39f427-1241-4454-8318-e49a4993820a",
   "metadata": {},
   "outputs": [],
   "source": [
    "obs_keep=[\"Sample\",\"Stage\",'Stage_shuffle']"
   ]
  },
  {
   "cell_type": "code",
   "execution_count": 942,
   "id": "a2b88fb6-6578-4957-88c1-af77a0a6b607",
   "metadata": {},
   "outputs": [],
   "source": [
    "null.obs=null.obs[obs_keep]"
   ]
  },
  {
   "cell_type": "code",
   "execution_count": 975,
   "id": "0a1f6ae4-6a1a-4cd3-b23e-52f6b260d9d0",
   "metadata": {},
   "outputs": [],
   "source": [
    "del null.obsm[\"X_scANVI\"]"
   ]
  },
  {
   "cell_type": "code",
   "execution_count": 972,
   "id": "2759289e-0686-4bb0-a2b7-15ab470819a1",
   "metadata": {},
   "outputs": [],
   "source": [
    "del null.obsm['X_diffmap']"
   ]
  },
  {
   "cell_type": "code",
   "execution_count": 946,
   "id": "900c5090-6424-41c3-8f83-b7b020c2d1f2",
   "metadata": {},
   "outputs": [],
   "source": [
    "obsp_keep=['X_scANVI', 'X_umap']"
   ]
  },
  {
   "cell_type": "code",
   "execution_count": 982,
   "id": "5a873ea3-5360-44f0-b74f-af45fc83e7ed",
   "metadata": {},
   "outputs": [],
   "source": [
    "null.write_h5ad(\"../processed_data/11.23_process_null/11.23_process_null.h5ad\")"
   ]
  },
  {
   "cell_type": "code",
   "execution_count": null,
   "id": "09995b64-9d2f-4935-89b8-4237c85db2fa",
   "metadata": {},
   "outputs": [],
   "source": []
  },
  {
   "cell_type": "code",
   "execution_count": null,
   "id": "3fe62c81-25f6-4cef-92d4-56a2c5c94651",
   "metadata": {},
   "outputs": [],
   "source": [
    "null_half=sc.pp.subsample(null,fraction=0.5,copy=True)"
   ]
  },
  {
   "cell_type": "markdown",
   "id": "9e7616a9-106e-4c9f-b838-ef8dd6f7dc49",
   "metadata": {},
   "source": [
    "## Null_test"
   ]
  },
  {
   "cell_type": "code",
   "execution_count": 1001,
   "id": "2e7efb34-34d7-4c30-a1db-fbcf7db1af19",
   "metadata": {},
   "outputs": [
    {
     "data": {
      "text/plain": [
       "65217"
      ]
     },
     "execution_count": 1001,
     "metadata": {},
     "output_type": "execute_result"
    }
   ],
   "source": [
    "sum(null.obs[\"Stage\"]!=\"Injury\")"
   ]
  },
  {
   "cell_type": "code",
   "execution_count": 992,
   "id": "ecb3c1af-4107-4645-805b-5475ea630ae7",
   "metadata": {},
   "outputs": [],
   "source": [
    "null=null[null.obs[\"Stage\"]!=\"Injury\"]"
   ]
  },
  {
   "cell_type": "code",
   "execution_count": 1005,
   "id": "dceaaf8f-7b74-4212-928e-75dab377ef4d",
   "metadata": {},
   "outputs": [],
   "source": [
    "null=null[pseudo_name.index]"
   ]
  },
  {
   "cell_type": "code",
   "execution_count": 1006,
   "id": "9d8e29c1-d1f8-4f6a-88b7-1fbf0765ec5b",
   "metadata": {},
   "outputs": [],
   "source": [
    "null_bk=null.copy()"
   ]
  },
  {
   "cell_type": "code",
   "execution_count": 984,
   "id": "8f89f459-3cc3-4b2f-99f4-6481712c298b",
   "metadata": {},
   "outputs": [],
   "source": [
    "pseudo_name=pd.read_csv(\"../processed_data/11.23_process_null/11.23_lamian_composition_name.csv\",index_col=0)"
   ]
  },
  {
   "cell_type": "code",
   "execution_count": 996,
   "id": "c9702ad9-2147-4fe2-a34c-c861803e33a8",
   "metadata": {},
   "outputs": [
    {
     "data": {
      "text/plain": [
       "AnnData object with n_obs × n_vars = 65217 × 17312\n",
       "    obs: 'Sample', 'Stage', 'Stage_shuffle', 'dpt_pred'\n",
       "    obsm: 'X_draw_graph_fa', 'X_umap', 'X_scANVI'\n",
       "    obsp: 'connectivities', 'distances'"
      ]
     },
     "execution_count": 996,
     "metadata": {},
     "output_type": "execute_result"
    }
   ],
   "source": [
    "null_bk"
   ]
  },
  {
   "cell_type": "code",
   "execution_count": 1007,
   "id": "ae48fc5a-ed22-42ad-9331-a9582c346cc5",
   "metadata": {},
   "outputs": [
    {
     "data": {
      "text/html": [
       "<div>\n",
       "<style scoped>\n",
       "    .dataframe tbody tr th:only-of-type {\n",
       "        vertical-align: middle;\n",
       "    }\n",
       "\n",
       "    .dataframe tbody tr th {\n",
       "        vertical-align: top;\n",
       "    }\n",
       "\n",
       "    .dataframe thead th {\n",
       "        text-align: right;\n",
       "    }\n",
       "</style>\n",
       "<table border=\"1\" class=\"dataframe\">\n",
       "  <thead>\n",
       "    <tr style=\"text-align: right;\">\n",
       "      <th></th>\n",
       "      <th>0</th>\n",
       "      <th>1</th>\n",
       "      <th>2</th>\n",
       "      <th>3</th>\n",
       "      <th>4</th>\n",
       "      <th>5</th>\n",
       "      <th>6</th>\n",
       "      <th>7</th>\n",
       "      <th>8</th>\n",
       "      <th>9</th>\n",
       "      <th>10</th>\n",
       "    </tr>\n",
       "    <tr>\n",
       "      <th>Unnamed: 0</th>\n",
       "      <th></th>\n",
       "      <th></th>\n",
       "      <th></th>\n",
       "      <th></th>\n",
       "      <th></th>\n",
       "      <th></th>\n",
       "      <th></th>\n",
       "      <th></th>\n",
       "      <th></th>\n",
       "      <th></th>\n",
       "      <th></th>\n",
       "    </tr>\n",
       "  </thead>\n",
       "  <tbody>\n",
       "    <tr>\n",
       "      <th>BmscEndosteal_Ono_Prrx1creP21_CACAGATGTGCCCGTA-1_6-0-2</th>\n",
       "      <td>BmscEndosteal_Ono_Prrx1creP21_CACAGATGTGCCCGTA...</td>\n",
       "      <td>Septoclasts_Kishor_Longbone2_TCACTATGTGCTCTTC_...</td>\n",
       "      <td>BmscEndosteal_Ono_Fgfr3CEp53cHet_ATTCAGGTCCTAC...</td>\n",
       "      <td>BmscEndosteal_Ono_Prrx1creP21_TGCACGGGTCGAATTC...</td>\n",
       "      <td>BmscEndosteal_Ono_Prrx1creP21_TGCACGGGTCGAATTC...</td>\n",
       "      <td>BmscEndosteal_Ono_Prrx1creP21_TGCACGGGTCGAATTC...</td>\n",
       "      <td>Ablation_Matsushita_abl7con2_CTCATTACAGACGGAT-...</td>\n",
       "      <td>Ablation_Matsushita_abl7con2_CTCATTACAGACGGAT-...</td>\n",
       "      <td>Ablation_Matsushita_abl7con2_CTCATTACAGACGGAT-...</td>\n",
       "      <td>BmscEndosteal_Ono_Fgfr3CEp53cKO_AGACCCGTCTGACC...</td>\n",
       "      <td>BmscEndosteal_Ono_Fgfr3CEp53cKO_AGACCCGTCTGACC...</td>\n",
       "    </tr>\n",
       "    <tr>\n",
       "      <th>BmscEndosteal_Ono_Prrx1cre18M_ACTCCCAGTCTGTTAG-1_5-0-2</th>\n",
       "      <td>BmscEndosteal_Ono_Prrx1cre18M_ACTCCCAGTCTGTTAG...</td>\n",
       "      <td>Septoclasts_Kishor_Pdgfra_TAACGACGTAGTTAGA_3-0-2</td>\n",
       "      <td>Septoclasts_Kishor_Pdgfra_GTCTTTACATAATCCG_3-0-2</td>\n",
       "      <td>Bmsc2019_Regev_bm3_GCATGATTCGCTAGCG-1_3-0-2</td>\n",
       "      <td>Ablation_Matsushita_cxcl2_TGCGGGTGTCTGTCCT-1_7...</td>\n",
       "      <td>Ablation_Matsushita_cxcl2_TGCGGGTGTCTGTCCT-1_7...</td>\n",
       "      <td>BmscEndosteal_Ono_Prrx1cre18M_ACGTAGTCATCGATGT...</td>\n",
       "      <td>BmscEndosteal_Ono_Prrx1cre18M_ACGTAGTCATCGATGT...</td>\n",
       "      <td>BmscEndosteal_Ono_Prrx1cre18M_ACGTAGTCATCGATGT...</td>\n",
       "      <td>Ablation_Matsushita_abl7con2_CTCATTACAGACGGAT-...</td>\n",
       "      <td>BmscEndosteal_Ono_Fgfr3CEp53cKO_TGGTTAGCAAATTA...</td>\n",
       "    </tr>\n",
       "    <tr>\n",
       "      <th>BmscEndosteal_Ono_Fgfr3CEp53cHet_TCATACTAGCAATTCC-1_3-0-2</th>\n",
       "      <td>BmscEndosteal_Ono_Fgfr3CEp53cHet_TCATACTAGCAAT...</td>\n",
       "      <td>Septoclasts_Kishor_Pdgfra_GTCTTTACATAATCCG_3-0-2</td>\n",
       "      <td>PerichondrialP21_Matsushita_FR3CreCxcl12GfpP21...</td>\n",
       "      <td>Ablation_Matsushita_abl7con2_CTCATTACAGACGGAT-...</td>\n",
       "      <td>Bmsc2019_Regev_bm3_GCATGATTCGCTAGCG-1_3-0-2</td>\n",
       "      <td>Bmsc2019_Regev_bm3_GCATGATTCGCTAGCG-1_3-0-2</td>\n",
       "      <td>Septoclasts_Kishor_Longbone1_CAGAGCCAGACATCAA_...</td>\n",
       "      <td>Septoclasts_Kishor_Longbone1_CAGAGCCAGACATCAA_...</td>\n",
       "      <td>Septoclasts_Kishor_Longbone1_CAGAGCCAGACATCAA_...</td>\n",
       "      <td>BmscEndosteal_Ono_Prrx1cre18M_ACGTAGTCATCGATGT...</td>\n",
       "      <td>Ablation_Matsushita_abl7con2_CTCATTACAGACGGAT-...</td>\n",
       "    </tr>\n",
       "    <tr>\n",
       "      <th>Bmsc2019_Regev_samp1_baryawno:std1_CATATGGTCACAGGCC-0-2</th>\n",
       "      <td>Bmsc2019_Regev_samp1_baryawno:std1_CATATGGTCAC...</td>\n",
       "      <td>BmscEndosteal_Ono_Prrx1cre18M_TCACATTAGGTCATTC...</td>\n",
       "      <td>Ablation_Matsushita_abl7con2_CTCATTACAGACGGAT-...</td>\n",
       "      <td>BmscEndosteal_Ono_Prrx1creP21_GCATCGGAGGAAGTAG...</td>\n",
       "      <td>Bmsc2019_Regev_bm4_GCAAACTGTGCCTTGG-1_4-0-2</td>\n",
       "      <td>Bmsc2019_Regev_bm4_GCAAACTGTGCCTTGG-1_4-0-2</td>\n",
       "      <td>BmscEndosteal_Ono_Prrx1cre18M_GTCGTTCGTCCTTTGC...</td>\n",
       "      <td>BmscEndosteal_Ono_Prrx1cre18M_GTCGTTCGTCCTTTGC...</td>\n",
       "      <td>BmscEndosteal_Ono_Prrx1cre18M_GTCGTTCGTCCTTTGC...</td>\n",
       "      <td>Septoclasts_Kishor_Longbone1_CAGAGCCAGACATCAA_...</td>\n",
       "      <td>BmscEndosteal_Ono_Prrx1cre18M_ACGTAGTCATCGATGT...</td>\n",
       "    </tr>\n",
       "    <tr>\n",
       "      <th>BmscSpecification_Kishor_3_ATTCTACAGATCCTGT_3-0-2</th>\n",
       "      <td>BmscSpecification_Kishor_3_ATTCTACAGATCCTGT_3-0-2</td>\n",
       "      <td>CACTGGGTCACGGGAA-1_3-1-2</td>\n",
       "      <td>Bmsc2019_Regev_samp3_baryawno:std3_AAGTCTGGTAT...</td>\n",
       "      <td>Septoclasts_Kishor_Pdgfra_TATCTTGTCAGAGCGA_3-0-2</td>\n",
       "      <td>Ablation_Matsushita_abl7con2_CTCATTACAGACGGAT-...</td>\n",
       "      <td>BmscEndosteal_Ono_Fgfr3CEp53cHet_GGGAGATTCTTAG...</td>\n",
       "      <td>Septoclasts_Kishor_Pdgfra_CATCGCTCAGTGTATC_3-0-2</td>\n",
       "      <td>Septoclasts_Kishor_Pdgfra_CATCGCTCAGTGTATC_3-0-2</td>\n",
       "      <td>Septoclasts_Kishor_Pdgfra_CATCGCTCAGTGTATC_3-0-2</td>\n",
       "      <td>BmscEndosteal_Ono_Prrx1cre18M_GTCGTTCGTCCTTTGC...</td>\n",
       "      <td>Septoclasts_Kishor_Longbone1_CAGAGCCAGACATCAA_...</td>\n",
       "    </tr>\n",
       "    <tr>\n",
       "      <th>...</th>\n",
       "      <td>...</td>\n",
       "      <td>...</td>\n",
       "      <td>...</td>\n",
       "      <td>...</td>\n",
       "      <td>...</td>\n",
       "      <td>...</td>\n",
       "      <td>...</td>\n",
       "      <td>...</td>\n",
       "      <td>...</td>\n",
       "      <td>...</td>\n",
       "      <td>...</td>\n",
       "    </tr>\n",
       "    <tr>\n",
       "      <th>TAACTTCAGCGCACAA-1_3-1-2</th>\n",
       "      <td>TAACTTCAGCGCACAA-1_3-1-2</td>\n",
       "      <td>TAACTTCAGCGCACAA-1_3-1-2</td>\n",
       "      <td>TAACTTCAGCGCACAA-1_3-1-2</td>\n",
       "      <td>TAACTTCAGCGCACAA-1_3-1-2</td>\n",
       "      <td>TAACTTCAGCGCACAA-1_3-1-2</td>\n",
       "      <td>TAACTTCAGCGCACAA-1_3-1-2</td>\n",
       "      <td>TAACTTCAGCGCACAA-1_3-1-2</td>\n",
       "      <td>TAACTTCAGCGCACAA-1_3-1-2</td>\n",
       "      <td>TAACTTCAGCGCACAA-1_3-1-2</td>\n",
       "      <td>TAACTTCAGCGCACAA-1_3-1-2</td>\n",
       "      <td>Bmsc2019_Regev_samp6_baryawno:std8_ATTGGACGTTA...</td>\n",
       "    </tr>\n",
       "    <tr>\n",
       "      <th>PerichondrialP21_Matsushita_HesCreCxcl12GfpP21_GGGATGATCTTTACGT-1_2-0-2</th>\n",
       "      <td>PerichondrialP21_Matsushita_HesCreCxcl12GfpP21...</td>\n",
       "      <td>PerichondrialP21_Matsushita_HesCreCxcl12GfpP21...</td>\n",
       "      <td>PerichondrialP21_Matsushita_HesCreCxcl12GfpP21...</td>\n",
       "      <td>PerichondrialP21_Matsushita_HesCreCxcl12GfpP21...</td>\n",
       "      <td>PerichondrialP21_Matsushita_HesCreCxcl12GfpP21...</td>\n",
       "      <td>PerichondrialP21_Matsushita_HesCreCxcl12GfpP21...</td>\n",
       "      <td>PerichondrialP21_Matsushita_HesCreCxcl12GfpP21...</td>\n",
       "      <td>PerichondrialP21_Matsushita_HesCreCxcl12GfpP21...</td>\n",
       "      <td>PerichondrialP21_Matsushita_HesCreCxcl12GfpP21...</td>\n",
       "      <td>PerichondrialP21_Matsushita_HesCreCxcl12GfpP21...</td>\n",
       "      <td>BmscTime_Zhong_16M_CCGATCTGTCGAGTGA_4-0-2</td>\n",
       "    </tr>\n",
       "    <tr>\n",
       "      <th>Septoclasts_Kishor_Pdgfra_GACCAATCAGGAACCA_3-0-2</th>\n",
       "      <td>Septoclasts_Kishor_Pdgfra_GACCAATCAGGAACCA_3-0-2</td>\n",
       "      <td>Septoclasts_Kishor_Pdgfra_GACCAATCAGGAACCA_3-0-2</td>\n",
       "      <td>Septoclasts_Kishor_Pdgfra_GACCAATCAGGAACCA_3-0-2</td>\n",
       "      <td>Septoclasts_Kishor_Pdgfra_GACCAATCAGGAACCA_3-0-2</td>\n",
       "      <td>Septoclasts_Kishor_Pdgfra_GACCAATCAGGAACCA_3-0-2</td>\n",
       "      <td>Septoclasts_Kishor_Pdgfra_GACCAATCAGGAACCA_3-0-2</td>\n",
       "      <td>Septoclasts_Kishor_Pdgfra_GACCAATCAGGAACCA_3-0-2</td>\n",
       "      <td>Septoclasts_Kishor_Pdgfra_GACCAATCAGGAACCA_3-0-2</td>\n",
       "      <td>Septoclasts_Kishor_Pdgfra_GACCAATCAGGAACCA_3-0-2</td>\n",
       "      <td>Septoclasts_Kishor_Pdgfra_GACCAATCAGGAACCA_3-0-2</td>\n",
       "      <td>BmscEndosteal_Ono_Prrx1cre18M_ACAACCAGTAGTAAGT...</td>\n",
       "    </tr>\n",
       "    <tr>\n",
       "      <th>BmscTime_Zhong_16M_CCCGGAATCGAGTGGA_4-0-2</th>\n",
       "      <td>BmscTime_Zhong_16M_CCCGGAATCGAGTGGA_4-0-2</td>\n",
       "      <td>BmscTime_Zhong_16M_CCCGGAATCGAGTGGA_4-0-2</td>\n",
       "      <td>BmscTime_Zhong_16M_CCCGGAATCGAGTGGA_4-0-2</td>\n",
       "      <td>BmscTime_Zhong_16M_CCCGGAATCGAGTGGA_4-0-2</td>\n",
       "      <td>BmscTime_Zhong_16M_CCCGGAATCGAGTGGA_4-0-2</td>\n",
       "      <td>BmscTime_Zhong_16M_CCCGGAATCGAGTGGA_4-0-2</td>\n",
       "      <td>BmscTime_Zhong_16M_CCCGGAATCGAGTGGA_4-0-2</td>\n",
       "      <td>BmscTime_Zhong_16M_CCCGGAATCGAGTGGA_4-0-2</td>\n",
       "      <td>BmscTime_Zhong_16M_CCCGGAATCGAGTGGA_4-0-2</td>\n",
       "      <td>BmscTime_Zhong_16M_CCCGGAATCGAGTGGA_4-0-2</td>\n",
       "      <td>Bmsc2019_Regev_samp1_baryawno:std1_CCTATTATCAC...</td>\n",
       "    </tr>\n",
       "    <tr>\n",
       "      <th>BmscSpecification_Kishor_2_ACATACGCACTCGACG_2-0-2</th>\n",
       "      <td>BmscSpecification_Kishor_2_ACATACGCACTCGACG_2-0-2</td>\n",
       "      <td>BmscSpecification_Kishor_2_ACATACGCACTCGACG_2-0-2</td>\n",
       "      <td>BmscSpecification_Kishor_2_ACATACGCACTCGACG_2-0-2</td>\n",
       "      <td>BmscSpecification_Kishor_2_ACATACGCACTCGACG_2-0-2</td>\n",
       "      <td>BmscSpecification_Kishor_2_ACATACGCACTCGACG_2-0-2</td>\n",
       "      <td>BmscSpecification_Kishor_2_ACATACGCACTCGACG_2-0-2</td>\n",
       "      <td>BmscSpecification_Kishor_2_ACATACGCACTCGACG_2-0-2</td>\n",
       "      <td>BmscSpecification_Kishor_2_ACATACGCACTCGACG_2-0-2</td>\n",
       "      <td>BmscSpecification_Kishor_2_ACATACGCACTCGACG_2-0-2</td>\n",
       "      <td>BmscSpecification_Kishor_2_ACATACGCACTCGACG_2-0-2</td>\n",
       "      <td>Ablation_Matsushita_cxcl2_AGCTACACATGTTCGA-1_7...</td>\n",
       "    </tr>\n",
       "  </tbody>\n",
       "</table>\n",
       "<p>64107 rows × 11 columns</p>\n",
       "</div>"
      ],
      "text/plain": [
       "                                                                                                    0  \\\n",
       "Unnamed: 0                                                                                              \n",
       "BmscEndosteal_Ono_Prrx1creP21_CACAGATGTGCCCGTA-...  BmscEndosteal_Ono_Prrx1creP21_CACAGATGTGCCCGTA...   \n",
       "BmscEndosteal_Ono_Prrx1cre18M_ACTCCCAGTCTGTTAG-...  BmscEndosteal_Ono_Prrx1cre18M_ACTCCCAGTCTGTTAG...   \n",
       "BmscEndosteal_Ono_Fgfr3CEp53cHet_TCATACTAGCAATT...  BmscEndosteal_Ono_Fgfr3CEp53cHet_TCATACTAGCAAT...   \n",
       "Bmsc2019_Regev_samp1_baryawno:std1_CATATGGTCACA...  Bmsc2019_Regev_samp1_baryawno:std1_CATATGGTCAC...   \n",
       "BmscSpecification_Kishor_3_ATTCTACAGATCCTGT_3-0-2   BmscSpecification_Kishor_3_ATTCTACAGATCCTGT_3-0-2   \n",
       "...                                                                                               ...   \n",
       "TAACTTCAGCGCACAA-1_3-1-2                                                     TAACTTCAGCGCACAA-1_3-1-2   \n",
       "PerichondrialP21_Matsushita_HesCreCxcl12GfpP21_...  PerichondrialP21_Matsushita_HesCreCxcl12GfpP21...   \n",
       "Septoclasts_Kishor_Pdgfra_GACCAATCAGGAACCA_3-0-2     Septoclasts_Kishor_Pdgfra_GACCAATCAGGAACCA_3-0-2   \n",
       "BmscTime_Zhong_16M_CCCGGAATCGAGTGGA_4-0-2                   BmscTime_Zhong_16M_CCCGGAATCGAGTGGA_4-0-2   \n",
       "BmscSpecification_Kishor_2_ACATACGCACTCGACG_2-0-2   BmscSpecification_Kishor_2_ACATACGCACTCGACG_2-0-2   \n",
       "\n",
       "                                                                                                    1  \\\n",
       "Unnamed: 0                                                                                              \n",
       "BmscEndosteal_Ono_Prrx1creP21_CACAGATGTGCCCGTA-...  Septoclasts_Kishor_Longbone2_TCACTATGTGCTCTTC_...   \n",
       "BmscEndosteal_Ono_Prrx1cre18M_ACTCCCAGTCTGTTAG-...   Septoclasts_Kishor_Pdgfra_TAACGACGTAGTTAGA_3-0-2   \n",
       "BmscEndosteal_Ono_Fgfr3CEp53cHet_TCATACTAGCAATT...   Septoclasts_Kishor_Pdgfra_GTCTTTACATAATCCG_3-0-2   \n",
       "Bmsc2019_Regev_samp1_baryawno:std1_CATATGGTCACA...  BmscEndosteal_Ono_Prrx1cre18M_TCACATTAGGTCATTC...   \n",
       "BmscSpecification_Kishor_3_ATTCTACAGATCCTGT_3-0-2                            CACTGGGTCACGGGAA-1_3-1-2   \n",
       "...                                                                                               ...   \n",
       "TAACTTCAGCGCACAA-1_3-1-2                                                     TAACTTCAGCGCACAA-1_3-1-2   \n",
       "PerichondrialP21_Matsushita_HesCreCxcl12GfpP21_...  PerichondrialP21_Matsushita_HesCreCxcl12GfpP21...   \n",
       "Septoclasts_Kishor_Pdgfra_GACCAATCAGGAACCA_3-0-2     Septoclasts_Kishor_Pdgfra_GACCAATCAGGAACCA_3-0-2   \n",
       "BmscTime_Zhong_16M_CCCGGAATCGAGTGGA_4-0-2                   BmscTime_Zhong_16M_CCCGGAATCGAGTGGA_4-0-2   \n",
       "BmscSpecification_Kishor_2_ACATACGCACTCGACG_2-0-2   BmscSpecification_Kishor_2_ACATACGCACTCGACG_2-0-2   \n",
       "\n",
       "                                                                                                    2  \\\n",
       "Unnamed: 0                                                                                              \n",
       "BmscEndosteal_Ono_Prrx1creP21_CACAGATGTGCCCGTA-...  BmscEndosteal_Ono_Fgfr3CEp53cHet_ATTCAGGTCCTAC...   \n",
       "BmscEndosteal_Ono_Prrx1cre18M_ACTCCCAGTCTGTTAG-...   Septoclasts_Kishor_Pdgfra_GTCTTTACATAATCCG_3-0-2   \n",
       "BmscEndosteal_Ono_Fgfr3CEp53cHet_TCATACTAGCAATT...  PerichondrialP21_Matsushita_FR3CreCxcl12GfpP21...   \n",
       "Bmsc2019_Regev_samp1_baryawno:std1_CATATGGTCACA...  Ablation_Matsushita_abl7con2_CTCATTACAGACGGAT-...   \n",
       "BmscSpecification_Kishor_3_ATTCTACAGATCCTGT_3-0-2   Bmsc2019_Regev_samp3_baryawno:std3_AAGTCTGGTAT...   \n",
       "...                                                                                               ...   \n",
       "TAACTTCAGCGCACAA-1_3-1-2                                                     TAACTTCAGCGCACAA-1_3-1-2   \n",
       "PerichondrialP21_Matsushita_HesCreCxcl12GfpP21_...  PerichondrialP21_Matsushita_HesCreCxcl12GfpP21...   \n",
       "Septoclasts_Kishor_Pdgfra_GACCAATCAGGAACCA_3-0-2     Septoclasts_Kishor_Pdgfra_GACCAATCAGGAACCA_3-0-2   \n",
       "BmscTime_Zhong_16M_CCCGGAATCGAGTGGA_4-0-2                   BmscTime_Zhong_16M_CCCGGAATCGAGTGGA_4-0-2   \n",
       "BmscSpecification_Kishor_2_ACATACGCACTCGACG_2-0-2   BmscSpecification_Kishor_2_ACATACGCACTCGACG_2-0-2   \n",
       "\n",
       "                                                                                                    3  \\\n",
       "Unnamed: 0                                                                                              \n",
       "BmscEndosteal_Ono_Prrx1creP21_CACAGATGTGCCCGTA-...  BmscEndosteal_Ono_Prrx1creP21_TGCACGGGTCGAATTC...   \n",
       "BmscEndosteal_Ono_Prrx1cre18M_ACTCCCAGTCTGTTAG-...        Bmsc2019_Regev_bm3_GCATGATTCGCTAGCG-1_3-0-2   \n",
       "BmscEndosteal_Ono_Fgfr3CEp53cHet_TCATACTAGCAATT...  Ablation_Matsushita_abl7con2_CTCATTACAGACGGAT-...   \n",
       "Bmsc2019_Regev_samp1_baryawno:std1_CATATGGTCACA...  BmscEndosteal_Ono_Prrx1creP21_GCATCGGAGGAAGTAG...   \n",
       "BmscSpecification_Kishor_3_ATTCTACAGATCCTGT_3-0-2    Septoclasts_Kishor_Pdgfra_TATCTTGTCAGAGCGA_3-0-2   \n",
       "...                                                                                               ...   \n",
       "TAACTTCAGCGCACAA-1_3-1-2                                                     TAACTTCAGCGCACAA-1_3-1-2   \n",
       "PerichondrialP21_Matsushita_HesCreCxcl12GfpP21_...  PerichondrialP21_Matsushita_HesCreCxcl12GfpP21...   \n",
       "Septoclasts_Kishor_Pdgfra_GACCAATCAGGAACCA_3-0-2     Septoclasts_Kishor_Pdgfra_GACCAATCAGGAACCA_3-0-2   \n",
       "BmscTime_Zhong_16M_CCCGGAATCGAGTGGA_4-0-2                   BmscTime_Zhong_16M_CCCGGAATCGAGTGGA_4-0-2   \n",
       "BmscSpecification_Kishor_2_ACATACGCACTCGACG_2-0-2   BmscSpecification_Kishor_2_ACATACGCACTCGACG_2-0-2   \n",
       "\n",
       "                                                                                                    4  \\\n",
       "Unnamed: 0                                                                                              \n",
       "BmscEndosteal_Ono_Prrx1creP21_CACAGATGTGCCCGTA-...  BmscEndosteal_Ono_Prrx1creP21_TGCACGGGTCGAATTC...   \n",
       "BmscEndosteal_Ono_Prrx1cre18M_ACTCCCAGTCTGTTAG-...  Ablation_Matsushita_cxcl2_TGCGGGTGTCTGTCCT-1_7...   \n",
       "BmscEndosteal_Ono_Fgfr3CEp53cHet_TCATACTAGCAATT...        Bmsc2019_Regev_bm3_GCATGATTCGCTAGCG-1_3-0-2   \n",
       "Bmsc2019_Regev_samp1_baryawno:std1_CATATGGTCACA...        Bmsc2019_Regev_bm4_GCAAACTGTGCCTTGG-1_4-0-2   \n",
       "BmscSpecification_Kishor_3_ATTCTACAGATCCTGT_3-0-2   Ablation_Matsushita_abl7con2_CTCATTACAGACGGAT-...   \n",
       "...                                                                                               ...   \n",
       "TAACTTCAGCGCACAA-1_3-1-2                                                     TAACTTCAGCGCACAA-1_3-1-2   \n",
       "PerichondrialP21_Matsushita_HesCreCxcl12GfpP21_...  PerichondrialP21_Matsushita_HesCreCxcl12GfpP21...   \n",
       "Septoclasts_Kishor_Pdgfra_GACCAATCAGGAACCA_3-0-2     Septoclasts_Kishor_Pdgfra_GACCAATCAGGAACCA_3-0-2   \n",
       "BmscTime_Zhong_16M_CCCGGAATCGAGTGGA_4-0-2                   BmscTime_Zhong_16M_CCCGGAATCGAGTGGA_4-0-2   \n",
       "BmscSpecification_Kishor_2_ACATACGCACTCGACG_2-0-2   BmscSpecification_Kishor_2_ACATACGCACTCGACG_2-0-2   \n",
       "\n",
       "                                                                                                    5  \\\n",
       "Unnamed: 0                                                                                              \n",
       "BmscEndosteal_Ono_Prrx1creP21_CACAGATGTGCCCGTA-...  BmscEndosteal_Ono_Prrx1creP21_TGCACGGGTCGAATTC...   \n",
       "BmscEndosteal_Ono_Prrx1cre18M_ACTCCCAGTCTGTTAG-...  Ablation_Matsushita_cxcl2_TGCGGGTGTCTGTCCT-1_7...   \n",
       "BmscEndosteal_Ono_Fgfr3CEp53cHet_TCATACTAGCAATT...        Bmsc2019_Regev_bm3_GCATGATTCGCTAGCG-1_3-0-2   \n",
       "Bmsc2019_Regev_samp1_baryawno:std1_CATATGGTCACA...        Bmsc2019_Regev_bm4_GCAAACTGTGCCTTGG-1_4-0-2   \n",
       "BmscSpecification_Kishor_3_ATTCTACAGATCCTGT_3-0-2   BmscEndosteal_Ono_Fgfr3CEp53cHet_GGGAGATTCTTAG...   \n",
       "...                                                                                               ...   \n",
       "TAACTTCAGCGCACAA-1_3-1-2                                                     TAACTTCAGCGCACAA-1_3-1-2   \n",
       "PerichondrialP21_Matsushita_HesCreCxcl12GfpP21_...  PerichondrialP21_Matsushita_HesCreCxcl12GfpP21...   \n",
       "Septoclasts_Kishor_Pdgfra_GACCAATCAGGAACCA_3-0-2     Septoclasts_Kishor_Pdgfra_GACCAATCAGGAACCA_3-0-2   \n",
       "BmscTime_Zhong_16M_CCCGGAATCGAGTGGA_4-0-2                   BmscTime_Zhong_16M_CCCGGAATCGAGTGGA_4-0-2   \n",
       "BmscSpecification_Kishor_2_ACATACGCACTCGACG_2-0-2   BmscSpecification_Kishor_2_ACATACGCACTCGACG_2-0-2   \n",
       "\n",
       "                                                                                                    6  \\\n",
       "Unnamed: 0                                                                                              \n",
       "BmscEndosteal_Ono_Prrx1creP21_CACAGATGTGCCCGTA-...  Ablation_Matsushita_abl7con2_CTCATTACAGACGGAT-...   \n",
       "BmscEndosteal_Ono_Prrx1cre18M_ACTCCCAGTCTGTTAG-...  BmscEndosteal_Ono_Prrx1cre18M_ACGTAGTCATCGATGT...   \n",
       "BmscEndosteal_Ono_Fgfr3CEp53cHet_TCATACTAGCAATT...  Septoclasts_Kishor_Longbone1_CAGAGCCAGACATCAA_...   \n",
       "Bmsc2019_Regev_samp1_baryawno:std1_CATATGGTCACA...  BmscEndosteal_Ono_Prrx1cre18M_GTCGTTCGTCCTTTGC...   \n",
       "BmscSpecification_Kishor_3_ATTCTACAGATCCTGT_3-0-2    Septoclasts_Kishor_Pdgfra_CATCGCTCAGTGTATC_3-0-2   \n",
       "...                                                                                               ...   \n",
       "TAACTTCAGCGCACAA-1_3-1-2                                                     TAACTTCAGCGCACAA-1_3-1-2   \n",
       "PerichondrialP21_Matsushita_HesCreCxcl12GfpP21_...  PerichondrialP21_Matsushita_HesCreCxcl12GfpP21...   \n",
       "Septoclasts_Kishor_Pdgfra_GACCAATCAGGAACCA_3-0-2     Septoclasts_Kishor_Pdgfra_GACCAATCAGGAACCA_3-0-2   \n",
       "BmscTime_Zhong_16M_CCCGGAATCGAGTGGA_4-0-2                   BmscTime_Zhong_16M_CCCGGAATCGAGTGGA_4-0-2   \n",
       "BmscSpecification_Kishor_2_ACATACGCACTCGACG_2-0-2   BmscSpecification_Kishor_2_ACATACGCACTCGACG_2-0-2   \n",
       "\n",
       "                                                                                                    7  \\\n",
       "Unnamed: 0                                                                                              \n",
       "BmscEndosteal_Ono_Prrx1creP21_CACAGATGTGCCCGTA-...  Ablation_Matsushita_abl7con2_CTCATTACAGACGGAT-...   \n",
       "BmscEndosteal_Ono_Prrx1cre18M_ACTCCCAGTCTGTTAG-...  BmscEndosteal_Ono_Prrx1cre18M_ACGTAGTCATCGATGT...   \n",
       "BmscEndosteal_Ono_Fgfr3CEp53cHet_TCATACTAGCAATT...  Septoclasts_Kishor_Longbone1_CAGAGCCAGACATCAA_...   \n",
       "Bmsc2019_Regev_samp1_baryawno:std1_CATATGGTCACA...  BmscEndosteal_Ono_Prrx1cre18M_GTCGTTCGTCCTTTGC...   \n",
       "BmscSpecification_Kishor_3_ATTCTACAGATCCTGT_3-0-2    Septoclasts_Kishor_Pdgfra_CATCGCTCAGTGTATC_3-0-2   \n",
       "...                                                                                               ...   \n",
       "TAACTTCAGCGCACAA-1_3-1-2                                                     TAACTTCAGCGCACAA-1_3-1-2   \n",
       "PerichondrialP21_Matsushita_HesCreCxcl12GfpP21_...  PerichondrialP21_Matsushita_HesCreCxcl12GfpP21...   \n",
       "Septoclasts_Kishor_Pdgfra_GACCAATCAGGAACCA_3-0-2     Septoclasts_Kishor_Pdgfra_GACCAATCAGGAACCA_3-0-2   \n",
       "BmscTime_Zhong_16M_CCCGGAATCGAGTGGA_4-0-2                   BmscTime_Zhong_16M_CCCGGAATCGAGTGGA_4-0-2   \n",
       "BmscSpecification_Kishor_2_ACATACGCACTCGACG_2-0-2   BmscSpecification_Kishor_2_ACATACGCACTCGACG_2-0-2   \n",
       "\n",
       "                                                                                                    8  \\\n",
       "Unnamed: 0                                                                                              \n",
       "BmscEndosteal_Ono_Prrx1creP21_CACAGATGTGCCCGTA-...  Ablation_Matsushita_abl7con2_CTCATTACAGACGGAT-...   \n",
       "BmscEndosteal_Ono_Prrx1cre18M_ACTCCCAGTCTGTTAG-...  BmscEndosteal_Ono_Prrx1cre18M_ACGTAGTCATCGATGT...   \n",
       "BmscEndosteal_Ono_Fgfr3CEp53cHet_TCATACTAGCAATT...  Septoclasts_Kishor_Longbone1_CAGAGCCAGACATCAA_...   \n",
       "Bmsc2019_Regev_samp1_baryawno:std1_CATATGGTCACA...  BmscEndosteal_Ono_Prrx1cre18M_GTCGTTCGTCCTTTGC...   \n",
       "BmscSpecification_Kishor_3_ATTCTACAGATCCTGT_3-0-2    Septoclasts_Kishor_Pdgfra_CATCGCTCAGTGTATC_3-0-2   \n",
       "...                                                                                               ...   \n",
       "TAACTTCAGCGCACAA-1_3-1-2                                                     TAACTTCAGCGCACAA-1_3-1-2   \n",
       "PerichondrialP21_Matsushita_HesCreCxcl12GfpP21_...  PerichondrialP21_Matsushita_HesCreCxcl12GfpP21...   \n",
       "Septoclasts_Kishor_Pdgfra_GACCAATCAGGAACCA_3-0-2     Septoclasts_Kishor_Pdgfra_GACCAATCAGGAACCA_3-0-2   \n",
       "BmscTime_Zhong_16M_CCCGGAATCGAGTGGA_4-0-2                   BmscTime_Zhong_16M_CCCGGAATCGAGTGGA_4-0-2   \n",
       "BmscSpecification_Kishor_2_ACATACGCACTCGACG_2-0-2   BmscSpecification_Kishor_2_ACATACGCACTCGACG_2-0-2   \n",
       "\n",
       "                                                                                                    9  \\\n",
       "Unnamed: 0                                                                                              \n",
       "BmscEndosteal_Ono_Prrx1creP21_CACAGATGTGCCCGTA-...  BmscEndosteal_Ono_Fgfr3CEp53cKO_AGACCCGTCTGACC...   \n",
       "BmscEndosteal_Ono_Prrx1cre18M_ACTCCCAGTCTGTTAG-...  Ablation_Matsushita_abl7con2_CTCATTACAGACGGAT-...   \n",
       "BmscEndosteal_Ono_Fgfr3CEp53cHet_TCATACTAGCAATT...  BmscEndosteal_Ono_Prrx1cre18M_ACGTAGTCATCGATGT...   \n",
       "Bmsc2019_Regev_samp1_baryawno:std1_CATATGGTCACA...  Septoclasts_Kishor_Longbone1_CAGAGCCAGACATCAA_...   \n",
       "BmscSpecification_Kishor_3_ATTCTACAGATCCTGT_3-0-2   BmscEndosteal_Ono_Prrx1cre18M_GTCGTTCGTCCTTTGC...   \n",
       "...                                                                                               ...   \n",
       "TAACTTCAGCGCACAA-1_3-1-2                                                     TAACTTCAGCGCACAA-1_3-1-2   \n",
       "PerichondrialP21_Matsushita_HesCreCxcl12GfpP21_...  PerichondrialP21_Matsushita_HesCreCxcl12GfpP21...   \n",
       "Septoclasts_Kishor_Pdgfra_GACCAATCAGGAACCA_3-0-2     Septoclasts_Kishor_Pdgfra_GACCAATCAGGAACCA_3-0-2   \n",
       "BmscTime_Zhong_16M_CCCGGAATCGAGTGGA_4-0-2                   BmscTime_Zhong_16M_CCCGGAATCGAGTGGA_4-0-2   \n",
       "BmscSpecification_Kishor_2_ACATACGCACTCGACG_2-0-2   BmscSpecification_Kishor_2_ACATACGCACTCGACG_2-0-2   \n",
       "\n",
       "                                                                                                   10  \n",
       "Unnamed: 0                                                                                             \n",
       "BmscEndosteal_Ono_Prrx1creP21_CACAGATGTGCCCGTA-...  BmscEndosteal_Ono_Fgfr3CEp53cKO_AGACCCGTCTGACC...  \n",
       "BmscEndosteal_Ono_Prrx1cre18M_ACTCCCAGTCTGTTAG-...  BmscEndosteal_Ono_Fgfr3CEp53cKO_TGGTTAGCAAATTA...  \n",
       "BmscEndosteal_Ono_Fgfr3CEp53cHet_TCATACTAGCAATT...  Ablation_Matsushita_abl7con2_CTCATTACAGACGGAT-...  \n",
       "Bmsc2019_Regev_samp1_baryawno:std1_CATATGGTCACA...  BmscEndosteal_Ono_Prrx1cre18M_ACGTAGTCATCGATGT...  \n",
       "BmscSpecification_Kishor_3_ATTCTACAGATCCTGT_3-0-2   Septoclasts_Kishor_Longbone1_CAGAGCCAGACATCAA_...  \n",
       "...                                                                                               ...  \n",
       "TAACTTCAGCGCACAA-1_3-1-2                            Bmsc2019_Regev_samp6_baryawno:std8_ATTGGACGTTA...  \n",
       "PerichondrialP21_Matsushita_HesCreCxcl12GfpP21_...          BmscTime_Zhong_16M_CCGATCTGTCGAGTGA_4-0-2  \n",
       "Septoclasts_Kishor_Pdgfra_GACCAATCAGGAACCA_3-0-2    BmscEndosteal_Ono_Prrx1cre18M_ACAACCAGTAGTAAGT...  \n",
       "BmscTime_Zhong_16M_CCCGGAATCGAGTGGA_4-0-2           Bmsc2019_Regev_samp1_baryawno:std1_CCTATTATCAC...  \n",
       "BmscSpecification_Kishor_2_ACATACGCACTCGACG_2-0-2   Ablation_Matsushita_cxcl2_AGCTACACATGTTCGA-1_7...  \n",
       "\n",
       "[64107 rows x 11 columns]"
      ]
     },
     "execution_count": 1007,
     "metadata": {},
     "output_type": "execute_result"
    }
   ],
   "source": [
    "pseudo_name.loc[null_bk.obs_names]"
   ]
  },
  {
   "cell_type": "code",
   "execution_count": 1009,
   "id": "79525ca3-2508-40d1-af3a-1759055bcf43",
   "metadata": {},
   "outputs": [],
   "source": [
    "cellSampleDict= dict(zip(null_bk.obs_names, null_bk.obs[\"Sample\"]))\n",
    "cellStageDict= dict(zip(null_bk.obs_names, null_bk.obs[\"Stage\"]))"
   ]
  },
  {
   "cell_type": "code",
   "execution_count": 1046,
   "id": "e9827d2f-d85e-4325-a2a0-85bfb35f6483",
   "metadata": {},
   "outputs": [
    {
     "name": "stdout",
     "output_type": "stream",
     "text": [
      "computing neighbors\n",
      "    finished: added to `.uns['neighbors']`\n",
      "    `.obsp['distances']`, distances for each pair of neighbors\n",
      "    `.obsp['connectivities']`, weighted adjacency matrix (0:03:34)\n"
     ]
    }
   ],
   "source": [
    "sc.pp.neighbors(null_bk, use_rep='X_scANVI', n_neighbors=150, n_pcs=15)\n",
    "milo2.make_nhoods(null_bk, prop=0.1)"
   ]
  },
  {
   "cell_type": "code",
   "execution_count": 1047,
   "id": "09a98e7d-64f6-4ade-a5f6-916b9095afba",
   "metadata": {},
   "outputs": [
    {
     "data": {
      "text/plain": [
       "AnnData object with n_obs × n_vars = 64107 × 17312\n",
       "    obs: 'Sample', 'Stage', 'Stage_shuffle', 'dpt_pred', 'nhood_ixs_random', 'nhood_ixs_refined', 'nhood_kth_distance'\n",
       "    uns: 'neighbors', 'nhood_neighbors_key'\n",
       "    obsm: 'X_draw_graph_fa', 'X_umap', 'X_scANVI', 'nhoods'\n",
       "    obsp: 'connectivities', 'distances'"
      ]
     },
     "execution_count": 1047,
     "metadata": {},
     "output_type": "execute_result"
    }
   ],
   "source": [
    "null_bk"
   ]
  },
  {
   "cell_type": "code",
   "execution_count": 1041,
   "id": "1c1d18a3-9b96-4ccd-b24f-d77772bc6340",
   "metadata": {},
   "outputs": [],
   "source": [
    "null.obs[\"Sample\"]=np.vectorize(cellSampleDict.get)(pseudo_name['10'])\n",
    "null.obs[\"Stage\"]=np.vectorize(cellStageDict.get)(pseudo_name['10'])"
   ]
  },
  {
   "cell_type": "code",
   "execution_count": null,
   "id": "214f232f-b262-4350-ab80-aa09a7a71b81",
   "metadata": {},
   "outputs": [],
   "source": []
  },
  {
   "cell_type": "code",
   "execution_count": 1043,
   "id": "07bc7f7e-f08a-43c5-a0df-78e40c342cd0",
   "metadata": {},
   "outputs": [],
   "source": [
    "milo2=Milo2()"
   ]
  },
  {
   "cell_type": "code",
   "execution_count": 1044,
   "id": "af049a93-fa03-4da2-baae-eb5d06407de9",
   "metadata": {},
   "outputs": [],
   "source": [
    "nulldata = milo2.load(null)"
   ]
  },
  {
   "cell_type": "code",
   "execution_count": 1048,
   "id": "199cdcbb-97c8-4622-a1bd-fe38f6f9e845",
   "metadata": {},
   "outputs": [],
   "source": [
    "null.obsm[\"nhoods\"]=null_bk.obsm[\"nhoods\"]\n",
    "null.obs[[\"nhood_ixs_refined\",\"nhood_kth_distance\",\"nhood_ixs_random\"]]=null_bk.obs[[\"nhood_ixs_refined\",\"nhood_kth_distance\",\"nhood_ixs_random\"]]\n",
    "null.uns=null_bk.uns"
   ]
  },
  {
   "cell_type": "code",
   "execution_count": 1054,
   "id": "1eb7eb3e-850a-48b6-9eb7-42ed1d747af4",
   "metadata": {},
   "outputs": [],
   "source": [
    "null.obsp=null_bk.obsp"
   ]
  },
  {
   "cell_type": "code",
   "execution_count": 1057,
   "id": "79a68375-6a16-4c6f-8d53-29d43530f5b8",
   "metadata": {},
   "outputs": [],
   "source": []
  },
  {
   "cell_type": "code",
   "execution_count": 1050,
   "id": "99022406-8049-4f2d-a213-b138e5aedbe1",
   "metadata": {},
   "outputs": [],
   "source": [
    "nulldata = milo2.load(null)\n",
    "nulldata = milo2.count_nhoods(nulldata, sample_col=\"Sample\")"
   ]
  },
  {
   "cell_type": "code",
   "execution_count": 1065,
   "id": "64f2dfae-812c-4aeb-b1b5-919ea649e163",
   "metadata": {},
   "outputs": [
    {
     "data": {
      "text/html": [
       "<div>\n",
       "<style scoped>\n",
       "    .dataframe tbody tr th:only-of-type {\n",
       "        vertical-align: middle;\n",
       "    }\n",
       "\n",
       "    .dataframe tbody tr th {\n",
       "        vertical-align: top;\n",
       "    }\n",
       "\n",
       "    .dataframe thead th {\n",
       "        text-align: right;\n",
       "    }\n",
       "</style>\n",
       "<table border=\"1\" class=\"dataframe\">\n",
       "  <thead>\n",
       "    <tr style=\"text-align: right;\">\n",
       "      <th></th>\n",
       "      <th>index_cell</th>\n",
       "      <th>kth_distance</th>\n",
       "      <th>logFC</th>\n",
       "      <th>logCPM</th>\n",
       "      <th>F</th>\n",
       "      <th>PValue</th>\n",
       "      <th>FDR</th>\n",
       "      <th>SpatialFDR</th>\n",
       "      <th>null</th>\n",
       "    </tr>\n",
       "  </thead>\n",
       "  <tbody>\n",
       "    <tr>\n",
       "      <th>0</th>\n",
       "      <td>BmscEndosteal_Ono_Prrx1creP21_TATATCCGTACAATAG...</td>\n",
       "      <td>1.592432</td>\n",
       "      <td>-0.014387</td>\n",
       "      <td>8.582565</td>\n",
       "      <td>0.006704</td>\n",
       "      <td>0.934741</td>\n",
       "      <td>0.998168</td>\n",
       "      <td>0.998214</td>\n",
       "      <td>0.0</td>\n",
       "    </tr>\n",
       "    <tr>\n",
       "      <th>1</th>\n",
       "      <td>PerichondrialP21_Matsushita_FR3CreCxcl12GfpP21...</td>\n",
       "      <td>0.936314</td>\n",
       "      <td>-0.011422</td>\n",
       "      <td>9.092590</td>\n",
       "      <td>0.005876</td>\n",
       "      <td>0.938898</td>\n",
       "      <td>0.998168</td>\n",
       "      <td>0.998214</td>\n",
       "      <td>0.0</td>\n",
       "    </tr>\n",
       "    <tr>\n",
       "      <th>2</th>\n",
       "      <td>BmscSpecification_Kishor_1_ATCCACCAGGACAGAA_1-0-2</td>\n",
       "      <td>0.990178</td>\n",
       "      <td>0.120337</td>\n",
       "      <td>8.907336</td>\n",
       "      <td>0.579702</td>\n",
       "      <td>0.446430</td>\n",
       "      <td>0.997839</td>\n",
       "      <td>0.998214</td>\n",
       "      <td>0.0</td>\n",
       "    </tr>\n",
       "    <tr>\n",
       "      <th>3</th>\n",
       "      <td>Septoclasts_Kishor_Pdgfra_TGCTGAATCAGATTGC_3-0-2</td>\n",
       "      <td>1.431972</td>\n",
       "      <td>-0.027874</td>\n",
       "      <td>8.334290</td>\n",
       "      <td>0.020326</td>\n",
       "      <td>0.886630</td>\n",
       "      <td>0.997839</td>\n",
       "      <td>0.998214</td>\n",
       "      <td>0.0</td>\n",
       "    </tr>\n",
       "    <tr>\n",
       "      <th>4</th>\n",
       "      <td>BmscEndosteal_Ono_Fgfr3CEp53cHet_GTCATGACAGCTC...</td>\n",
       "      <td>1.831202</td>\n",
       "      <td>0.088032</td>\n",
       "      <td>8.409947</td>\n",
       "      <td>0.217231</td>\n",
       "      <td>0.641159</td>\n",
       "      <td>0.997839</td>\n",
       "      <td>0.998214</td>\n",
       "      <td>0.0</td>\n",
       "    </tr>\n",
       "    <tr>\n",
       "      <th>...</th>\n",
       "      <td>...</td>\n",
       "      <td>...</td>\n",
       "      <td>...</td>\n",
       "      <td>...</td>\n",
       "      <td>...</td>\n",
       "      <td>...</td>\n",
       "      <td>...</td>\n",
       "      <td>...</td>\n",
       "      <td>...</td>\n",
       "    </tr>\n",
       "    <tr>\n",
       "      <th>4327</th>\n",
       "      <td>BmscSpecification_Kishor_4_CGACCTTGTGCACTTA_4-0-2</td>\n",
       "      <td>0.910152</td>\n",
       "      <td>-0.177432</td>\n",
       "      <td>9.053631</td>\n",
       "      <td>1.380586</td>\n",
       "      <td>0.240003</td>\n",
       "      <td>0.997839</td>\n",
       "      <td>0.998214</td>\n",
       "      <td>0.0</td>\n",
       "    </tr>\n",
       "    <tr>\n",
       "      <th>4328</th>\n",
       "      <td>BmscEndosteal_Ono_Prrx1creP21_GAACGTTGTTCCACAA...</td>\n",
       "      <td>1.421570</td>\n",
       "      <td>0.041780</td>\n",
       "      <td>8.291911</td>\n",
       "      <td>0.044824</td>\n",
       "      <td>0.832329</td>\n",
       "      <td>0.997839</td>\n",
       "      <td>0.998214</td>\n",
       "      <td>0.0</td>\n",
       "    </tr>\n",
       "    <tr>\n",
       "      <th>4329</th>\n",
       "      <td>Ablation_Matsushita_abl7con1_TGAGCCGCACTGCCAG-...</td>\n",
       "      <td>0.908404</td>\n",
       "      <td>0.133211</td>\n",
       "      <td>9.206080</td>\n",
       "      <td>0.846325</td>\n",
       "      <td>0.357595</td>\n",
       "      <td>0.997839</td>\n",
       "      <td>0.998214</td>\n",
       "      <td>0.0</td>\n",
       "    </tr>\n",
       "    <tr>\n",
       "      <th>4330</th>\n",
       "      <td>BmscSpecification_Kishor_4_TTGTAGGCATCTCGCT_4-0-2</td>\n",
       "      <td>1.739673</td>\n",
       "      <td>-0.101526</td>\n",
       "      <td>8.738896</td>\n",
       "      <td>0.372507</td>\n",
       "      <td>0.541642</td>\n",
       "      <td>0.997839</td>\n",
       "      <td>0.998214</td>\n",
       "      <td>0.0</td>\n",
       "    </tr>\n",
       "    <tr>\n",
       "      <th>4331</th>\n",
       "      <td>BmscEndosteal_Ono_Prrx1creP21_TTACGCCTCTTCTGGC...</td>\n",
       "      <td>1.990822</td>\n",
       "      <td>-0.068883</td>\n",
       "      <td>8.223410</td>\n",
       "      <td>0.113854</td>\n",
       "      <td>0.735799</td>\n",
       "      <td>0.997839</td>\n",
       "      <td>0.998214</td>\n",
       "      <td>0.0</td>\n",
       "    </tr>\n",
       "  </tbody>\n",
       "</table>\n",
       "<p>4332 rows × 9 columns</p>\n",
       "</div>"
      ],
      "text/plain": [
       "                                             index_cell  kth_distance  \\\n",
       "0     BmscEndosteal_Ono_Prrx1creP21_TATATCCGTACAATAG...      1.592432   \n",
       "1     PerichondrialP21_Matsushita_FR3CreCxcl12GfpP21...      0.936314   \n",
       "2     BmscSpecification_Kishor_1_ATCCACCAGGACAGAA_1-0-2      0.990178   \n",
       "3      Septoclasts_Kishor_Pdgfra_TGCTGAATCAGATTGC_3-0-2      1.431972   \n",
       "4     BmscEndosteal_Ono_Fgfr3CEp53cHet_GTCATGACAGCTC...      1.831202   \n",
       "...                                                 ...           ...   \n",
       "4327  BmscSpecification_Kishor_4_CGACCTTGTGCACTTA_4-0-2      0.910152   \n",
       "4328  BmscEndosteal_Ono_Prrx1creP21_GAACGTTGTTCCACAA...      1.421570   \n",
       "4329  Ablation_Matsushita_abl7con1_TGAGCCGCACTGCCAG-...      0.908404   \n",
       "4330  BmscSpecification_Kishor_4_TTGTAGGCATCTCGCT_4-0-2      1.739673   \n",
       "4331  BmscEndosteal_Ono_Prrx1creP21_TTACGCCTCTTCTGGC...      1.990822   \n",
       "\n",
       "         logFC    logCPM         F    PValue       FDR  SpatialFDR  null  \n",
       "0    -0.014387  8.582565  0.006704  0.934741  0.998168    0.998214   0.0  \n",
       "1    -0.011422  9.092590  0.005876  0.938898  0.998168    0.998214   0.0  \n",
       "2     0.120337  8.907336  0.579702  0.446430  0.997839    0.998214   0.0  \n",
       "3    -0.027874  8.334290  0.020326  0.886630  0.997839    0.998214   0.0  \n",
       "4     0.088032  8.409947  0.217231  0.641159  0.997839    0.998214   0.0  \n",
       "...        ...       ...       ...       ...       ...         ...   ...  \n",
       "4327 -0.177432  9.053631  1.380586  0.240003  0.997839    0.998214   0.0  \n",
       "4328  0.041780  8.291911  0.044824  0.832329  0.997839    0.998214   0.0  \n",
       "4329  0.133211  9.206080  0.846325  0.357595  0.997839    0.998214   0.0  \n",
       "4330 -0.101526  8.738896  0.372507  0.541642  0.997839    0.998214   0.0  \n",
       "4331 -0.068883  8.223410  0.113854  0.735799  0.997839    0.998214   0.0  \n",
       "\n",
       "[4332 rows x 9 columns]"
      ]
     },
     "execution_count": 1065,
     "metadata": {},
     "output_type": "execute_result"
    }
   ],
   "source": [
    "nulldata[\"milo\"].var"
   ]
  },
  {
   "cell_type": "code",
   "execution_count": 1058,
   "id": "b2a1a185-fc74-44a3-b9a9-2f303de99289",
   "metadata": {},
   "outputs": [],
   "source": [
    "milo2.da_nhoods(nulldata, design='~Stage',model_contrasts='StageDevelopment-StageSteady')"
   ]
  },
  {
   "cell_type": "code",
   "execution_count": 1062,
   "id": "98cd871e-efc0-4075-81be-ea84563fda42",
   "metadata": {},
   "outputs": [],
   "source": [
    "milo2.make_null(nulldata, design='~Stage',model_contrasts='StageDevelopment-StageSteady',times=10)"
   ]
  },
  {
   "cell_type": "code",
   "execution_count": 1119,
   "id": "f48f8b87-0c73-4a0a-80e0-0522e3e7d6cb",
   "metadata": {},
   "outputs": [
    {
     "data": {
      "text/html": [
       "<div>\n",
       "<style scoped>\n",
       "    .dataframe tbody tr th:only-of-type {\n",
       "        vertical-align: middle;\n",
       "    }\n",
       "\n",
       "    .dataframe tbody tr th {\n",
       "        vertical-align: top;\n",
       "    }\n",
       "\n",
       "    .dataframe thead th {\n",
       "        text-align: right;\n",
       "    }\n",
       "</style>\n",
       "<table border=\"1\" class=\"dataframe\">\n",
       "  <thead>\n",
       "    <tr style=\"text-align: right;\">\n",
       "      <th></th>\n",
       "      <th>index_cell</th>\n",
       "      <th>kth_distance</th>\n",
       "      <th>logFC</th>\n",
       "      <th>logCPM</th>\n",
       "      <th>F</th>\n",
       "      <th>PValue</th>\n",
       "      <th>FDR</th>\n",
       "      <th>SpatialFDR</th>\n",
       "      <th>null</th>\n",
       "      <th>time</th>\n",
       "      <th>range_down</th>\n",
       "      <th>range_up</th>\n",
       "      <th>Accept</th>\n",
       "      <th>logChange</th>\n",
       "    </tr>\n",
       "    <tr>\n",
       "      <th>index_cell</th>\n",
       "      <th></th>\n",
       "      <th></th>\n",
       "      <th></th>\n",
       "      <th></th>\n",
       "      <th></th>\n",
       "      <th></th>\n",
       "      <th></th>\n",
       "      <th></th>\n",
       "      <th></th>\n",
       "      <th></th>\n",
       "      <th></th>\n",
       "      <th></th>\n",
       "      <th></th>\n",
       "      <th></th>\n",
       "    </tr>\n",
       "  </thead>\n",
       "  <tbody>\n",
       "    <tr>\n",
       "      <th>BmscEndosteal_Ono_Prrx1creP21_TATATCCGTACAATAG-1_6-0-2</th>\n",
       "      <td>BmscEndosteal_Ono_Prrx1creP21_TATATCCGTACAATAG...</td>\n",
       "      <td>1.592432</td>\n",
       "      <td>-0.014387</td>\n",
       "      <td>8.582565</td>\n",
       "      <td>0.006704</td>\n",
       "      <td>0.934741</td>\n",
       "      <td>0.998168</td>\n",
       "      <td>0.998214</td>\n",
       "      <td>0.0</td>\n",
       "      <td>0.301083</td>\n",
       "      <td>0.259997</td>\n",
       "      <td>0.344450</td>\n",
       "      <td>False</td>\n",
       "      <td>-0.123480</td>\n",
       "    </tr>\n",
       "    <tr>\n",
       "      <th>PerichondrialP21_Matsushita_FR3CreCxcl12GfpP21_ACAGCTACACTTACGA-1_1-0-2</th>\n",
       "      <td>PerichondrialP21_Matsushita_FR3CreCxcl12GfpP21...</td>\n",
       "      <td>0.936314</td>\n",
       "      <td>-0.011422</td>\n",
       "      <td>9.092590</td>\n",
       "      <td>0.005876</td>\n",
       "      <td>0.938898</td>\n",
       "      <td>0.998168</td>\n",
       "      <td>0.998214</td>\n",
       "      <td>0.0</td>\n",
       "      <td>0.043012</td>\n",
       "      <td>0.036035</td>\n",
       "      <td>0.072043</td>\n",
       "      <td>False</td>\n",
       "      <td>-0.103857</td>\n",
       "    </tr>\n",
       "    <tr>\n",
       "      <th>BmscSpecification_Kishor_1_ATCCACCAGGACAGAA_1-0-2</th>\n",
       "      <td>BmscSpecification_Kishor_1_ATCCACCAGGACAGAA_1-0-2</td>\n",
       "      <td>0.990178</td>\n",
       "      <td>0.120337</td>\n",
       "      <td>8.907336</td>\n",
       "      <td>0.579702</td>\n",
       "      <td>0.446430</td>\n",
       "      <td>0.997839</td>\n",
       "      <td>0.998214</td>\n",
       "      <td>0.0</td>\n",
       "      <td>0.052769</td>\n",
       "      <td>0.034204</td>\n",
       "      <td>0.066592</td>\n",
       "      <td>False</td>\n",
       "      <td>1.071884</td>\n",
       "    </tr>\n",
       "    <tr>\n",
       "      <th>Septoclasts_Kishor_Pdgfra_TGCTGAATCAGATTGC_3-0-2</th>\n",
       "      <td>Septoclasts_Kishor_Pdgfra_TGCTGAATCAGATTGC_3-0-2</td>\n",
       "      <td>1.431972</td>\n",
       "      <td>-0.027874</td>\n",
       "      <td>8.334290</td>\n",
       "      <td>0.020326</td>\n",
       "      <td>0.886630</td>\n",
       "      <td>0.997839</td>\n",
       "      <td>0.998214</td>\n",
       "      <td>0.0</td>\n",
       "      <td>0.269159</td>\n",
       "      <td>0.245132</td>\n",
       "      <td>0.293220</td>\n",
       "      <td>False</td>\n",
       "      <td>-0.232309</td>\n",
       "    </tr>\n",
       "    <tr>\n",
       "      <th>BmscEndosteal_Ono_Fgfr3CEp53cHet_GTCATGACAGCTCGGT-1_3-0-2</th>\n",
       "      <td>BmscEndosteal_Ono_Fgfr3CEp53cHet_GTCATGACAGCTC...</td>\n",
       "      <td>1.831202</td>\n",
       "      <td>0.088032</td>\n",
       "      <td>8.409947</td>\n",
       "      <td>0.217231</td>\n",
       "      <td>0.641159</td>\n",
       "      <td>0.997839</td>\n",
       "      <td>0.998214</td>\n",
       "      <td>0.0</td>\n",
       "      <td>0.398998</td>\n",
       "      <td>0.365430</td>\n",
       "      <td>0.485181</td>\n",
       "      <td>False</td>\n",
       "      <td>0.740348</td>\n",
       "    </tr>\n",
       "    <tr>\n",
       "      <th>...</th>\n",
       "      <td>...</td>\n",
       "      <td>...</td>\n",
       "      <td>...</td>\n",
       "      <td>...</td>\n",
       "      <td>...</td>\n",
       "      <td>...</td>\n",
       "      <td>...</td>\n",
       "      <td>...</td>\n",
       "      <td>...</td>\n",
       "      <td>...</td>\n",
       "      <td>...</td>\n",
       "      <td>...</td>\n",
       "      <td>...</td>\n",
       "      <td>...</td>\n",
       "    </tr>\n",
       "    <tr>\n",
       "      <th>BmscSpecification_Kishor_4_CGACCTTGTGCACTTA_4-0-2</th>\n",
       "      <td>BmscSpecification_Kishor_4_CGACCTTGTGCACTTA_4-0-2</td>\n",
       "      <td>0.910152</td>\n",
       "      <td>-0.177432</td>\n",
       "      <td>9.053631</td>\n",
       "      <td>1.380586</td>\n",
       "      <td>0.240003</td>\n",
       "      <td>0.997839</td>\n",
       "      <td>0.998214</td>\n",
       "      <td>0.0</td>\n",
       "      <td>0.021688</td>\n",
       "      <td>0.020690</td>\n",
       "      <td>0.042434</td>\n",
       "      <td>False</td>\n",
       "      <td>-1.606404</td>\n",
       "    </tr>\n",
       "    <tr>\n",
       "      <th>BmscEndosteal_Ono_Prrx1creP21_GAACGTTGTTCCACAA-1_6-0-2</th>\n",
       "      <td>BmscEndosteal_Ono_Prrx1creP21_GAACGTTGTTCCACAA...</td>\n",
       "      <td>1.421570</td>\n",
       "      <td>0.041780</td>\n",
       "      <td>8.291911</td>\n",
       "      <td>0.044824</td>\n",
       "      <td>0.832329</td>\n",
       "      <td>0.997839</td>\n",
       "      <td>0.998214</td>\n",
       "      <td>0.0</td>\n",
       "      <td>0.857848</td>\n",
       "      <td>0.772555</td>\n",
       "      <td>0.875828</td>\n",
       "      <td>False</td>\n",
       "      <td>0.346438</td>\n",
       "    </tr>\n",
       "    <tr>\n",
       "      <th>Ablation_Matsushita_abl7con1_TGAGCCGCACTGCCAG-1_2-0-2</th>\n",
       "      <td>Ablation_Matsushita_abl7con1_TGAGCCGCACTGCCAG-...</td>\n",
       "      <td>0.908404</td>\n",
       "      <td>0.133211</td>\n",
       "      <td>9.206080</td>\n",
       "      <td>0.846325</td>\n",
       "      <td>0.357595</td>\n",
       "      <td>0.997839</td>\n",
       "      <td>0.998214</td>\n",
       "      <td>0.0</td>\n",
       "      <td>0.044864</td>\n",
       "      <td>0.029942</td>\n",
       "      <td>0.057498</td>\n",
       "      <td>False</td>\n",
       "      <td>1.226347</td>\n",
       "    </tr>\n",
       "    <tr>\n",
       "      <th>BmscSpecification_Kishor_4_TTGTAGGCATCTCGCT_4-0-2</th>\n",
       "      <td>BmscSpecification_Kishor_4_TTGTAGGCATCTCGCT_4-0-2</td>\n",
       "      <td>1.739673</td>\n",
       "      <td>-0.101526</td>\n",
       "      <td>8.738896</td>\n",
       "      <td>0.372507</td>\n",
       "      <td>0.541642</td>\n",
       "      <td>0.997839</td>\n",
       "      <td>0.998214</td>\n",
       "      <td>0.0</td>\n",
       "      <td>0.368183</td>\n",
       "      <td>0.280509</td>\n",
       "      <td>0.384329</td>\n",
       "      <td>False</td>\n",
       "      <td>-0.887228</td>\n",
       "    </tr>\n",
       "    <tr>\n",
       "      <th>BmscEndosteal_Ono_Prrx1creP21_TTACGCCTCTTCTGGC-1_6-0-2</th>\n",
       "      <td>BmscEndosteal_Ono_Prrx1creP21_TTACGCCTCTTCTGGC...</td>\n",
       "      <td>1.990822</td>\n",
       "      <td>-0.068883</td>\n",
       "      <td>8.223410</td>\n",
       "      <td>0.113854</td>\n",
       "      <td>0.735799</td>\n",
       "      <td>0.997839</td>\n",
       "      <td>0.998214</td>\n",
       "      <td>0.0</td>\n",
       "      <td>0.374019</td>\n",
       "      <td>0.291787</td>\n",
       "      <td>0.413714</td>\n",
       "      <td>False</td>\n",
       "      <td>-0.566455</td>\n",
       "    </tr>\n",
       "  </tbody>\n",
       "</table>\n",
       "<p>4332 rows × 14 columns</p>\n",
       "</div>"
      ],
      "text/plain": [
       "                                                                                           index_cell  \\\n",
       "index_cell                                                                                              \n",
       "BmscEndosteal_Ono_Prrx1creP21_TATATCCGTACAATAG-...  BmscEndosteal_Ono_Prrx1creP21_TATATCCGTACAATAG...   \n",
       "PerichondrialP21_Matsushita_FR3CreCxcl12GfpP21_...  PerichondrialP21_Matsushita_FR3CreCxcl12GfpP21...   \n",
       "BmscSpecification_Kishor_1_ATCCACCAGGACAGAA_1-0-2   BmscSpecification_Kishor_1_ATCCACCAGGACAGAA_1-0-2   \n",
       "Septoclasts_Kishor_Pdgfra_TGCTGAATCAGATTGC_3-0-2     Septoclasts_Kishor_Pdgfra_TGCTGAATCAGATTGC_3-0-2   \n",
       "BmscEndosteal_Ono_Fgfr3CEp53cHet_GTCATGACAGCTCG...  BmscEndosteal_Ono_Fgfr3CEp53cHet_GTCATGACAGCTC...   \n",
       "...                                                                                               ...   \n",
       "BmscSpecification_Kishor_4_CGACCTTGTGCACTTA_4-0-2   BmscSpecification_Kishor_4_CGACCTTGTGCACTTA_4-0-2   \n",
       "BmscEndosteal_Ono_Prrx1creP21_GAACGTTGTTCCACAA-...  BmscEndosteal_Ono_Prrx1creP21_GAACGTTGTTCCACAA...   \n",
       "Ablation_Matsushita_abl7con1_TGAGCCGCACTGCCAG-1...  Ablation_Matsushita_abl7con1_TGAGCCGCACTGCCAG-...   \n",
       "BmscSpecification_Kishor_4_TTGTAGGCATCTCGCT_4-0-2   BmscSpecification_Kishor_4_TTGTAGGCATCTCGCT_4-0-2   \n",
       "BmscEndosteal_Ono_Prrx1creP21_TTACGCCTCTTCTGGC-...  BmscEndosteal_Ono_Prrx1creP21_TTACGCCTCTTCTGGC...   \n",
       "\n",
       "                                                    kth_distance     logFC  \\\n",
       "index_cell                                                                   \n",
       "BmscEndosteal_Ono_Prrx1creP21_TATATCCGTACAATAG-...      1.592432 -0.014387   \n",
       "PerichondrialP21_Matsushita_FR3CreCxcl12GfpP21_...      0.936314 -0.011422   \n",
       "BmscSpecification_Kishor_1_ATCCACCAGGACAGAA_1-0-2       0.990178  0.120337   \n",
       "Septoclasts_Kishor_Pdgfra_TGCTGAATCAGATTGC_3-0-2        1.431972 -0.027874   \n",
       "BmscEndosteal_Ono_Fgfr3CEp53cHet_GTCATGACAGCTCG...      1.831202  0.088032   \n",
       "...                                                          ...       ...   \n",
       "BmscSpecification_Kishor_4_CGACCTTGTGCACTTA_4-0-2       0.910152 -0.177432   \n",
       "BmscEndosteal_Ono_Prrx1creP21_GAACGTTGTTCCACAA-...      1.421570  0.041780   \n",
       "Ablation_Matsushita_abl7con1_TGAGCCGCACTGCCAG-1...      0.908404  0.133211   \n",
       "BmscSpecification_Kishor_4_TTGTAGGCATCTCGCT_4-0-2       1.739673 -0.101526   \n",
       "BmscEndosteal_Ono_Prrx1creP21_TTACGCCTCTTCTGGC-...      1.990822 -0.068883   \n",
       "\n",
       "                                                      logCPM         F  \\\n",
       "index_cell                                                               \n",
       "BmscEndosteal_Ono_Prrx1creP21_TATATCCGTACAATAG-...  8.582565  0.006704   \n",
       "PerichondrialP21_Matsushita_FR3CreCxcl12GfpP21_...  9.092590  0.005876   \n",
       "BmscSpecification_Kishor_1_ATCCACCAGGACAGAA_1-0-2   8.907336  0.579702   \n",
       "Septoclasts_Kishor_Pdgfra_TGCTGAATCAGATTGC_3-0-2    8.334290  0.020326   \n",
       "BmscEndosteal_Ono_Fgfr3CEp53cHet_GTCATGACAGCTCG...  8.409947  0.217231   \n",
       "...                                                      ...       ...   \n",
       "BmscSpecification_Kishor_4_CGACCTTGTGCACTTA_4-0-2   9.053631  1.380586   \n",
       "BmscEndosteal_Ono_Prrx1creP21_GAACGTTGTTCCACAA-...  8.291911  0.044824   \n",
       "Ablation_Matsushita_abl7con1_TGAGCCGCACTGCCAG-1...  9.206080  0.846325   \n",
       "BmscSpecification_Kishor_4_TTGTAGGCATCTCGCT_4-0-2   8.738896  0.372507   \n",
       "BmscEndosteal_Ono_Prrx1creP21_TTACGCCTCTTCTGGC-...  8.223410  0.113854   \n",
       "\n",
       "                                                      PValue       FDR  \\\n",
       "index_cell                                                               \n",
       "BmscEndosteal_Ono_Prrx1creP21_TATATCCGTACAATAG-...  0.934741  0.998168   \n",
       "PerichondrialP21_Matsushita_FR3CreCxcl12GfpP21_...  0.938898  0.998168   \n",
       "BmscSpecification_Kishor_1_ATCCACCAGGACAGAA_1-0-2   0.446430  0.997839   \n",
       "Septoclasts_Kishor_Pdgfra_TGCTGAATCAGATTGC_3-0-2    0.886630  0.997839   \n",
       "BmscEndosteal_Ono_Fgfr3CEp53cHet_GTCATGACAGCTCG...  0.641159  0.997839   \n",
       "...                                                      ...       ...   \n",
       "BmscSpecification_Kishor_4_CGACCTTGTGCACTTA_4-0-2   0.240003  0.997839   \n",
       "BmscEndosteal_Ono_Prrx1creP21_GAACGTTGTTCCACAA-...  0.832329  0.997839   \n",
       "Ablation_Matsushita_abl7con1_TGAGCCGCACTGCCAG-1...  0.357595  0.997839   \n",
       "BmscSpecification_Kishor_4_TTGTAGGCATCTCGCT_4-0-2   0.541642  0.997839   \n",
       "BmscEndosteal_Ono_Prrx1creP21_TTACGCCTCTTCTGGC-...  0.735799  0.997839   \n",
       "\n",
       "                                                    SpatialFDR  null  \\\n",
       "index_cell                                                             \n",
       "BmscEndosteal_Ono_Prrx1creP21_TATATCCGTACAATAG-...    0.998214   0.0   \n",
       "PerichondrialP21_Matsushita_FR3CreCxcl12GfpP21_...    0.998214   0.0   \n",
       "BmscSpecification_Kishor_1_ATCCACCAGGACAGAA_1-0-2     0.998214   0.0   \n",
       "Septoclasts_Kishor_Pdgfra_TGCTGAATCAGATTGC_3-0-2      0.998214   0.0   \n",
       "BmscEndosteal_Ono_Fgfr3CEp53cHet_GTCATGACAGCTCG...    0.998214   0.0   \n",
       "...                                                        ...   ...   \n",
       "BmscSpecification_Kishor_4_CGACCTTGTGCACTTA_4-0-2     0.998214   0.0   \n",
       "BmscEndosteal_Ono_Prrx1creP21_GAACGTTGTTCCACAA-...    0.998214   0.0   \n",
       "Ablation_Matsushita_abl7con1_TGAGCCGCACTGCCAG-1...    0.998214   0.0   \n",
       "BmscSpecification_Kishor_4_TTGTAGGCATCTCGCT_4-0-2     0.998214   0.0   \n",
       "BmscEndosteal_Ono_Prrx1creP21_TTACGCCTCTTCTGGC-...    0.998214   0.0   \n",
       "\n",
       "                                                        time  range_down  \\\n",
       "index_cell                                                                 \n",
       "BmscEndosteal_Ono_Prrx1creP21_TATATCCGTACAATAG-...  0.301083    0.259997   \n",
       "PerichondrialP21_Matsushita_FR3CreCxcl12GfpP21_...  0.043012    0.036035   \n",
       "BmscSpecification_Kishor_1_ATCCACCAGGACAGAA_1-0-2   0.052769    0.034204   \n",
       "Septoclasts_Kishor_Pdgfra_TGCTGAATCAGATTGC_3-0-2    0.269159    0.245132   \n",
       "BmscEndosteal_Ono_Fgfr3CEp53cHet_GTCATGACAGCTCG...  0.398998    0.365430   \n",
       "...                                                      ...         ...   \n",
       "BmscSpecification_Kishor_4_CGACCTTGTGCACTTA_4-0-2   0.021688    0.020690   \n",
       "BmscEndosteal_Ono_Prrx1creP21_GAACGTTGTTCCACAA-...  0.857848    0.772555   \n",
       "Ablation_Matsushita_abl7con1_TGAGCCGCACTGCCAG-1...  0.044864    0.029942   \n",
       "BmscSpecification_Kishor_4_TTGTAGGCATCTCGCT_4-0-2   0.368183    0.280509   \n",
       "BmscEndosteal_Ono_Prrx1creP21_TTACGCCTCTTCTGGC-...  0.374019    0.291787   \n",
       "\n",
       "                                                    range_up  Accept  \\\n",
       "index_cell                                                             \n",
       "BmscEndosteal_Ono_Prrx1creP21_TATATCCGTACAATAG-...  0.344450   False   \n",
       "PerichondrialP21_Matsushita_FR3CreCxcl12GfpP21_...  0.072043   False   \n",
       "BmscSpecification_Kishor_1_ATCCACCAGGACAGAA_1-0-2   0.066592   False   \n",
       "Septoclasts_Kishor_Pdgfra_TGCTGAATCAGATTGC_3-0-2    0.293220   False   \n",
       "BmscEndosteal_Ono_Fgfr3CEp53cHet_GTCATGACAGCTCG...  0.485181   False   \n",
       "...                                                      ...     ...   \n",
       "BmscSpecification_Kishor_4_CGACCTTGTGCACTTA_4-0-2   0.042434   False   \n",
       "BmscEndosteal_Ono_Prrx1creP21_GAACGTTGTTCCACAA-...  0.875828   False   \n",
       "Ablation_Matsushita_abl7con1_TGAGCCGCACTGCCAG-1...  0.057498   False   \n",
       "BmscSpecification_Kishor_4_TTGTAGGCATCTCGCT_4-0-2   0.384329   False   \n",
       "BmscEndosteal_Ono_Prrx1creP21_TTACGCCTCTTCTGGC-...  0.413714   False   \n",
       "\n",
       "                                                    logChange  \n",
       "index_cell                                                     \n",
       "BmscEndosteal_Ono_Prrx1creP21_TATATCCGTACAATAG-...  -0.123480  \n",
       "PerichondrialP21_Matsushita_FR3CreCxcl12GfpP21_...  -0.103857  \n",
       "BmscSpecification_Kishor_1_ATCCACCAGGACAGAA_1-0-2    1.071884  \n",
       "Septoclasts_Kishor_Pdgfra_TGCTGAATCAGATTGC_3-0-2    -0.232309  \n",
       "BmscEndosteal_Ono_Fgfr3CEp53cHet_GTCATGACAGCTCG...   0.740348  \n",
       "...                                                       ...  \n",
       "BmscSpecification_Kishor_4_CGACCTTGTGCACTTA_4-0-2   -1.606404  \n",
       "BmscEndosteal_Ono_Prrx1creP21_GAACGTTGTTCCACAA-...   0.346438  \n",
       "Ablation_Matsushita_abl7con1_TGAGCCGCACTGCCAG-1...   1.226347  \n",
       "BmscSpecification_Kishor_4_TTGTAGGCATCTCGCT_4-0-2   -0.887228  \n",
       "BmscEndosteal_Ono_Prrx1creP21_TTACGCCTCTTCTGGC-...  -0.566455  \n",
       "\n",
       "[4332 rows x 14 columns]"
      ]
     },
     "execution_count": 1119,
     "metadata": {},
     "output_type": "execute_result"
    }
   ],
   "source": [
    "nulldata[\"milo\"].var"
   ]
  },
  {
   "cell_type": "code",
   "execution_count": 1118,
   "id": "3736b9e0-de08-423b-9aa2-ebb99dad6546",
   "metadata": {},
   "outputs": [
    {
     "data": {
      "text/html": [
       "<div>\n",
       "<style scoped>\n",
       "    .dataframe tbody tr th:only-of-type {\n",
       "        vertical-align: middle;\n",
       "    }\n",
       "\n",
       "    .dataframe tbody tr th {\n",
       "        vertical-align: top;\n",
       "    }\n",
       "\n",
       "    .dataframe thead th {\n",
       "        text-align: right;\n",
       "    }\n",
       "</style>\n",
       "<table border=\"1\" class=\"dataframe\">\n",
       "  <thead>\n",
       "    <tr style=\"text-align: right;\">\n",
       "      <th></th>\n",
       "      <th>index_cell</th>\n",
       "      <th>kth_distance</th>\n",
       "      <th>logFC</th>\n",
       "      <th>logCPM</th>\n",
       "      <th>F</th>\n",
       "      <th>PValue</th>\n",
       "      <th>FDR</th>\n",
       "      <th>SpatialFDR</th>\n",
       "      <th>Nhood_size</th>\n",
       "      <th>time</th>\n",
       "      <th>range_down</th>\n",
       "      <th>range_up</th>\n",
       "      <th>logChagnge</th>\n",
       "      <th>Accept</th>\n",
       "      <th>logChange</th>\n",
       "      <th>test</th>\n",
       "    </tr>\n",
       "    <tr>\n",
       "      <th>index_cell</th>\n",
       "      <th></th>\n",
       "      <th></th>\n",
       "      <th></th>\n",
       "      <th></th>\n",
       "      <th></th>\n",
       "      <th></th>\n",
       "      <th></th>\n",
       "      <th></th>\n",
       "      <th></th>\n",
       "      <th></th>\n",
       "      <th></th>\n",
       "      <th></th>\n",
       "      <th></th>\n",
       "      <th></th>\n",
       "      <th></th>\n",
       "      <th></th>\n",
       "    </tr>\n",
       "  </thead>\n",
       "  <tbody>\n",
       "    <tr>\n",
       "      <th>Ablation_Matsushita_abl14_AACTCCCGTTATGCGT-1_1-0-2</th>\n",
       "      <td>Ablation_Matsushita_abl14_AACTCCCGTTATGCGT-1_1...</td>\n",
       "      <td>1.096115</td>\n",
       "      <td>-0.692189</td>\n",
       "      <td>8.835335</td>\n",
       "      <td>0.824361</td>\n",
       "      <td>0.364410</td>\n",
       "      <td>0.624997</td>\n",
       "      <td>0.645592</td>\n",
       "      <td>308.0</td>\n",
       "      <td>0.074847</td>\n",
       "      <td>0.032624</td>\n",
       "      <td>0.084575</td>\n",
       "      <td>-6.115718</td>\n",
       "      <td>False</td>\n",
       "      <td>-6.115718</td>\n",
       "      <td>0.037360</td>\n",
       "    </tr>\n",
       "    <tr>\n",
       "      <th>Ablation_Matsushita_abl14_AAGACCTCATTTCACT-1_1-0-2</th>\n",
       "      <td>Ablation_Matsushita_abl14_AAGACCTCATTTCACT-1_1...</td>\n",
       "      <td>1.293735</td>\n",
       "      <td>0.452812</td>\n",
       "      <td>8.909455</td>\n",
       "      <td>0.357065</td>\n",
       "      <td>0.550451</td>\n",
       "      <td>0.759243</td>\n",
       "      <td>0.774392</td>\n",
       "      <td>324.0</td>\n",
       "      <td>0.900439</td>\n",
       "      <td>0.807772</td>\n",
       "      <td>0.909485</td>\n",
       "      <td>4.034306</td>\n",
       "      <td>False</td>\n",
       "      <td>4.034306</td>\n",
       "      <td>0.832181</td>\n",
       "    </tr>\n",
       "    <tr>\n",
       "      <th>Ablation_Matsushita_abl14_ACGCCGAGTCTCGTTC-1_1-0-2</th>\n",
       "      <td>Ablation_Matsushita_abl14_ACGCCGAGTCTCGTTC-1_1...</td>\n",
       "      <td>1.075640</td>\n",
       "      <td>-0.043033</td>\n",
       "      <td>8.936551</td>\n",
       "      <td>0.003066</td>\n",
       "      <td>0.955867</td>\n",
       "      <td>0.983146</td>\n",
       "      <td>0.984532</td>\n",
       "      <td>313.0</td>\n",
       "      <td>0.047024</td>\n",
       "      <td>0.035030</td>\n",
       "      <td>0.091321</td>\n",
       "      <td>-0.384563</td>\n",
       "      <td>False</td>\n",
       "      <td>-0.384563</td>\n",
       "      <td>0.039822</td>\n",
       "    </tr>\n",
       "    <tr>\n",
       "      <th>Ablation_Matsushita_abl14_ACTTGTTCAAGCCCAC-1_1-0-2</th>\n",
       "      <td>Ablation_Matsushita_abl14_ACTTGTTCAAGCCCAC-1_1...</td>\n",
       "      <td>1.059737</td>\n",
       "      <td>-0.714250</td>\n",
       "      <td>8.729686</td>\n",
       "      <td>0.893688</td>\n",
       "      <td>0.345004</td>\n",
       "      <td>0.606178</td>\n",
       "      <td>0.627003</td>\n",
       "      <td>354.0</td>\n",
       "      <td>0.038977</td>\n",
       "      <td>0.021157</td>\n",
       "      <td>0.076122</td>\n",
       "      <td>-6.235180</td>\n",
       "      <td>False</td>\n",
       "      <td>-6.235180</td>\n",
       "      <td>0.024811</td>\n",
       "    </tr>\n",
       "    <tr>\n",
       "      <th>Ablation_Matsushita_abl14_AGCGTATAGCCTCGTG-1_1-0-2</th>\n",
       "      <td>Ablation_Matsushita_abl14_AGCGTATAGCCTCGTG-1_1...</td>\n",
       "      <td>0.969336</td>\n",
       "      <td>0.284651</td>\n",
       "      <td>8.916444</td>\n",
       "      <td>0.141650</td>\n",
       "      <td>0.706829</td>\n",
       "      <td>0.856055</td>\n",
       "      <td>0.865167</td>\n",
       "      <td>332.0</td>\n",
       "      <td>0.048661</td>\n",
       "      <td>0.029632</td>\n",
       "      <td>0.074772</td>\n",
       "      <td>2.538078</td>\n",
       "      <td>False</td>\n",
       "      <td>2.538078</td>\n",
       "      <td>0.032963</td>\n",
       "    </tr>\n",
       "    <tr>\n",
       "      <th>...</th>\n",
       "      <td>...</td>\n",
       "      <td>...</td>\n",
       "      <td>...</td>\n",
       "      <td>...</td>\n",
       "      <td>...</td>\n",
       "      <td>...</td>\n",
       "      <td>...</td>\n",
       "      <td>...</td>\n",
       "      <td>...</td>\n",
       "      <td>...</td>\n",
       "      <td>...</td>\n",
       "      <td>...</td>\n",
       "      <td>...</td>\n",
       "      <td>...</td>\n",
       "      <td>...</td>\n",
       "      <td>...</td>\n",
       "    </tr>\n",
       "    <tr>\n",
       "      <th>GTTGTCCCAAGAGTTA-1_5-1-2</th>\n",
       "      <td>GTTGTCCCAAGAGTTA-1_5-1-2</td>\n",
       "      <td>1.327168</td>\n",
       "      <td>2.637788</td>\n",
       "      <td>8.736807</td>\n",
       "      <td>11.654103</td>\n",
       "      <td>0.000701</td>\n",
       "      <td>0.006116</td>\n",
       "      <td>0.006653</td>\n",
       "      <td>303.0</td>\n",
       "      <td>0.873149</td>\n",
       "      <td>0.829027</td>\n",
       "      <td>0.911087</td>\n",
       "      <td>23.045843</td>\n",
       "      <td>True</td>\n",
       "      <td>23.045843</td>\n",
       "      <td>0.855309</td>\n",
       "    </tr>\n",
       "    <tr>\n",
       "      <th>TCGTGCTCAAGAAATC-1_5-1-2</th>\n",
       "      <td>TCGTGCTCAAGAAATC-1_5-1-2</td>\n",
       "      <td>1.376076</td>\n",
       "      <td>1.981994</td>\n",
       "      <td>8.923459</td>\n",
       "      <td>6.697720</td>\n",
       "      <td>0.009976</td>\n",
       "      <td>0.054938</td>\n",
       "      <td>0.060653</td>\n",
       "      <td>337.0</td>\n",
       "      <td>0.803790</td>\n",
       "      <td>0.789681</td>\n",
       "      <td>0.895374</td>\n",
       "      <td>17.686241</td>\n",
       "      <td>False</td>\n",
       "      <td>17.686241</td>\n",
       "      <td>0.822383</td>\n",
       "    </tr>\n",
       "    <tr>\n",
       "      <th>TGCACGGCAGCCCAGT-1_5-1-2</th>\n",
       "      <td>TGCACGGCAGCCCAGT-1_5-1-2</td>\n",
       "      <td>1.854552</td>\n",
       "      <td>3.928178</td>\n",
       "      <td>8.679066</td>\n",
       "      <td>24.044495</td>\n",
       "      <td>0.000001</td>\n",
       "      <td>0.000067</td>\n",
       "      <td>0.000067</td>\n",
       "      <td>219.0</td>\n",
       "      <td>0.519280</td>\n",
       "      <td>0.453600</td>\n",
       "      <td>0.688646</td>\n",
       "      <td>34.092913</td>\n",
       "      <td>True</td>\n",
       "      <td>34.092913</td>\n",
       "      <td>0.479841</td>\n",
       "    </tr>\n",
       "    <tr>\n",
       "      <th>TTCCGGTAGTAGCCAG-1_5-1-2</th>\n",
       "      <td>TTCCGGTAGTAGCCAG-1_5-1-2</td>\n",
       "      <td>1.334213</td>\n",
       "      <td>1.320421</td>\n",
       "      <td>8.932567</td>\n",
       "      <td>2.961471</td>\n",
       "      <td>0.086001</td>\n",
       "      <td>0.263879</td>\n",
       "      <td>0.284984</td>\n",
       "      <td>351.0</td>\n",
       "      <td>0.819777</td>\n",
       "      <td>0.800492</td>\n",
       "      <td>0.896271</td>\n",
       "      <td>11.794754</td>\n",
       "      <td>False</td>\n",
       "      <td>11.794754</td>\n",
       "      <td>0.823948</td>\n",
       "    </tr>\n",
       "    <tr>\n",
       "      <th>TTCGATTAGATACTGA-1_5-1-2</th>\n",
       "      <td>TTCGATTAGATACTGA-1_5-1-2</td>\n",
       "      <td>1.288990</td>\n",
       "      <td>4.085041</td>\n",
       "      <td>9.205455</td>\n",
       "      <td>23.199887</td>\n",
       "      <td>0.000002</td>\n",
       "      <td>0.000078</td>\n",
       "      <td>0.000078</td>\n",
       "      <td>371.0</td>\n",
       "      <td>0.775116</td>\n",
       "      <td>0.715405</td>\n",
       "      <td>0.846986</td>\n",
       "      <td>37.604667</td>\n",
       "      <td>True</td>\n",
       "      <td>37.604667</td>\n",
       "      <td>0.760524</td>\n",
       "    </tr>\n",
       "  </tbody>\n",
       "</table>\n",
       "<p>4400 rows × 16 columns</p>\n",
       "</div>"
      ],
      "text/plain": [
       "                                                                                           index_cell  \\\n",
       "index_cell                                                                                              \n",
       "Ablation_Matsushita_abl14_AACTCCCGTTATGCGT-1_1-0-2  Ablation_Matsushita_abl14_AACTCCCGTTATGCGT-1_1...   \n",
       "Ablation_Matsushita_abl14_AAGACCTCATTTCACT-1_1-0-2  Ablation_Matsushita_abl14_AAGACCTCATTTCACT-1_1...   \n",
       "Ablation_Matsushita_abl14_ACGCCGAGTCTCGTTC-1_1-0-2  Ablation_Matsushita_abl14_ACGCCGAGTCTCGTTC-1_1...   \n",
       "Ablation_Matsushita_abl14_ACTTGTTCAAGCCCAC-1_1-0-2  Ablation_Matsushita_abl14_ACTTGTTCAAGCCCAC-1_1...   \n",
       "Ablation_Matsushita_abl14_AGCGTATAGCCTCGTG-1_1-0-2  Ablation_Matsushita_abl14_AGCGTATAGCCTCGTG-1_1...   \n",
       "...                                                                                               ...   \n",
       "GTTGTCCCAAGAGTTA-1_5-1-2                                                     GTTGTCCCAAGAGTTA-1_5-1-2   \n",
       "TCGTGCTCAAGAAATC-1_5-1-2                                                     TCGTGCTCAAGAAATC-1_5-1-2   \n",
       "TGCACGGCAGCCCAGT-1_5-1-2                                                     TGCACGGCAGCCCAGT-1_5-1-2   \n",
       "TTCCGGTAGTAGCCAG-1_5-1-2                                                     TTCCGGTAGTAGCCAG-1_5-1-2   \n",
       "TTCGATTAGATACTGA-1_5-1-2                                                     TTCGATTAGATACTGA-1_5-1-2   \n",
       "\n",
       "                                                    kth_distance     logFC  \\\n",
       "index_cell                                                                   \n",
       "Ablation_Matsushita_abl14_AACTCCCGTTATGCGT-1_1-0-2      1.096115 -0.692189   \n",
       "Ablation_Matsushita_abl14_AAGACCTCATTTCACT-1_1-0-2      1.293735  0.452812   \n",
       "Ablation_Matsushita_abl14_ACGCCGAGTCTCGTTC-1_1-0-2      1.075640 -0.043033   \n",
       "Ablation_Matsushita_abl14_ACTTGTTCAAGCCCAC-1_1-0-2      1.059737 -0.714250   \n",
       "Ablation_Matsushita_abl14_AGCGTATAGCCTCGTG-1_1-0-2      0.969336  0.284651   \n",
       "...                                                          ...       ...   \n",
       "GTTGTCCCAAGAGTTA-1_5-1-2                                1.327168  2.637788   \n",
       "TCGTGCTCAAGAAATC-1_5-1-2                                1.376076  1.981994   \n",
       "TGCACGGCAGCCCAGT-1_5-1-2                                1.854552  3.928178   \n",
       "TTCCGGTAGTAGCCAG-1_5-1-2                                1.334213  1.320421   \n",
       "TTCGATTAGATACTGA-1_5-1-2                                1.288990  4.085041   \n",
       "\n",
       "                                                      logCPM          F  \\\n",
       "index_cell                                                                \n",
       "Ablation_Matsushita_abl14_AACTCCCGTTATGCGT-1_1-0-2  8.835335   0.824361   \n",
       "Ablation_Matsushita_abl14_AAGACCTCATTTCACT-1_1-0-2  8.909455   0.357065   \n",
       "Ablation_Matsushita_abl14_ACGCCGAGTCTCGTTC-1_1-0-2  8.936551   0.003066   \n",
       "Ablation_Matsushita_abl14_ACTTGTTCAAGCCCAC-1_1-0-2  8.729686   0.893688   \n",
       "Ablation_Matsushita_abl14_AGCGTATAGCCTCGTG-1_1-0-2  8.916444   0.141650   \n",
       "...                                                      ...        ...   \n",
       "GTTGTCCCAAGAGTTA-1_5-1-2                            8.736807  11.654103   \n",
       "TCGTGCTCAAGAAATC-1_5-1-2                            8.923459   6.697720   \n",
       "TGCACGGCAGCCCAGT-1_5-1-2                            8.679066  24.044495   \n",
       "TTCCGGTAGTAGCCAG-1_5-1-2                            8.932567   2.961471   \n",
       "TTCGATTAGATACTGA-1_5-1-2                            9.205455  23.199887   \n",
       "\n",
       "                                                      PValue       FDR  \\\n",
       "index_cell                                                               \n",
       "Ablation_Matsushita_abl14_AACTCCCGTTATGCGT-1_1-0-2  0.364410  0.624997   \n",
       "Ablation_Matsushita_abl14_AAGACCTCATTTCACT-1_1-0-2  0.550451  0.759243   \n",
       "Ablation_Matsushita_abl14_ACGCCGAGTCTCGTTC-1_1-0-2  0.955867  0.983146   \n",
       "Ablation_Matsushita_abl14_ACTTGTTCAAGCCCAC-1_1-0-2  0.345004  0.606178   \n",
       "Ablation_Matsushita_abl14_AGCGTATAGCCTCGTG-1_1-0-2  0.706829  0.856055   \n",
       "...                                                      ...       ...   \n",
       "GTTGTCCCAAGAGTTA-1_5-1-2                            0.000701  0.006116   \n",
       "TCGTGCTCAAGAAATC-1_5-1-2                            0.009976  0.054938   \n",
       "TGCACGGCAGCCCAGT-1_5-1-2                            0.000001  0.000067   \n",
       "TTCCGGTAGTAGCCAG-1_5-1-2                            0.086001  0.263879   \n",
       "TTCGATTAGATACTGA-1_5-1-2                            0.000002  0.000078   \n",
       "\n",
       "                                                    SpatialFDR  Nhood_size  \\\n",
       "index_cell                                                                   \n",
       "Ablation_Matsushita_abl14_AACTCCCGTTATGCGT-1_1-0-2    0.645592       308.0   \n",
       "Ablation_Matsushita_abl14_AAGACCTCATTTCACT-1_1-0-2    0.774392       324.0   \n",
       "Ablation_Matsushita_abl14_ACGCCGAGTCTCGTTC-1_1-0-2    0.984532       313.0   \n",
       "Ablation_Matsushita_abl14_ACTTGTTCAAGCCCAC-1_1-0-2    0.627003       354.0   \n",
       "Ablation_Matsushita_abl14_AGCGTATAGCCTCGTG-1_1-0-2    0.865167       332.0   \n",
       "...                                                        ...         ...   \n",
       "GTTGTCCCAAGAGTTA-1_5-1-2                              0.006653       303.0   \n",
       "TCGTGCTCAAGAAATC-1_5-1-2                              0.060653       337.0   \n",
       "TGCACGGCAGCCCAGT-1_5-1-2                              0.000067       219.0   \n",
       "TTCCGGTAGTAGCCAG-1_5-1-2                              0.284984       351.0   \n",
       "TTCGATTAGATACTGA-1_5-1-2                              0.000078       371.0   \n",
       "\n",
       "                                                        time  range_down  \\\n",
       "index_cell                                                                 \n",
       "Ablation_Matsushita_abl14_AACTCCCGTTATGCGT-1_1-0-2  0.074847    0.032624   \n",
       "Ablation_Matsushita_abl14_AAGACCTCATTTCACT-1_1-0-2  0.900439    0.807772   \n",
       "Ablation_Matsushita_abl14_ACGCCGAGTCTCGTTC-1_1-0-2  0.047024    0.035030   \n",
       "Ablation_Matsushita_abl14_ACTTGTTCAAGCCCAC-1_1-0-2  0.038977    0.021157   \n",
       "Ablation_Matsushita_abl14_AGCGTATAGCCTCGTG-1_1-0-2  0.048661    0.029632   \n",
       "...                                                      ...         ...   \n",
       "GTTGTCCCAAGAGTTA-1_5-1-2                            0.873149    0.829027   \n",
       "TCGTGCTCAAGAAATC-1_5-1-2                            0.803790    0.789681   \n",
       "TGCACGGCAGCCCAGT-1_5-1-2                            0.519280    0.453600   \n",
       "TTCCGGTAGTAGCCAG-1_5-1-2                            0.819777    0.800492   \n",
       "TTCGATTAGATACTGA-1_5-1-2                            0.775116    0.715405   \n",
       "\n",
       "                                                    range_up  logChagnge  \\\n",
       "index_cell                                                                 \n",
       "Ablation_Matsushita_abl14_AACTCCCGTTATGCGT-1_1-0-2  0.084575   -6.115718   \n",
       "Ablation_Matsushita_abl14_AAGACCTCATTTCACT-1_1-0-2  0.909485    4.034306   \n",
       "Ablation_Matsushita_abl14_ACGCCGAGTCTCGTTC-1_1-0-2  0.091321   -0.384563   \n",
       "Ablation_Matsushita_abl14_ACTTGTTCAAGCCCAC-1_1-0-2  0.076122   -6.235180   \n",
       "Ablation_Matsushita_abl14_AGCGTATAGCCTCGTG-1_1-0-2  0.074772    2.538078   \n",
       "...                                                      ...         ...   \n",
       "GTTGTCCCAAGAGTTA-1_5-1-2                            0.911087   23.045843   \n",
       "TCGTGCTCAAGAAATC-1_5-1-2                            0.895374   17.686241   \n",
       "TGCACGGCAGCCCAGT-1_5-1-2                            0.688646   34.092913   \n",
       "TTCCGGTAGTAGCCAG-1_5-1-2                            0.896271   11.794754   \n",
       "TTCGATTAGATACTGA-1_5-1-2                            0.846986   37.604667   \n",
       "\n",
       "                                                    Accept  logChange  \\\n",
       "index_cell                                                              \n",
       "Ablation_Matsushita_abl14_AACTCCCGTTATGCGT-1_1-0-2   False  -6.115718   \n",
       "Ablation_Matsushita_abl14_AAGACCTCATTTCACT-1_1-0-2   False   4.034306   \n",
       "Ablation_Matsushita_abl14_ACGCCGAGTCTCGTTC-1_1-0-2   False  -0.384563   \n",
       "Ablation_Matsushita_abl14_ACTTGTTCAAGCCCAC-1_1-0-2   False  -6.235180   \n",
       "Ablation_Matsushita_abl14_AGCGTATAGCCTCGTG-1_1-0-2   False   2.538078   \n",
       "...                                                    ...        ...   \n",
       "GTTGTCCCAAGAGTTA-1_5-1-2                              True  23.045843   \n",
       "TCGTGCTCAAGAAATC-1_5-1-2                             False  17.686241   \n",
       "TGCACGGCAGCCCAGT-1_5-1-2                              True  34.092913   \n",
       "TTCCGGTAGTAGCCAG-1_5-1-2                             False  11.794754   \n",
       "TTCGATTAGATACTGA-1_5-1-2                              True  37.604667   \n",
       "\n",
       "                                                        test  \n",
       "index_cell                                                    \n",
       "Ablation_Matsushita_abl14_AACTCCCGTTATGCGT-1_1-0-2  0.037360  \n",
       "Ablation_Matsushita_abl14_AAGACCTCATTTCACT-1_1-0-2  0.832181  \n",
       "Ablation_Matsushita_abl14_ACGCCGAGTCTCGTTC-1_1-0-2  0.039822  \n",
       "Ablation_Matsushita_abl14_ACTTGTTCAAGCCCAC-1_1-0-2  0.024811  \n",
       "Ablation_Matsushita_abl14_AGCGTATAGCCTCGTG-1_1-0-2  0.032963  \n",
       "...                                                      ...  \n",
       "GTTGTCCCAAGAGTTA-1_5-1-2                            0.855309  \n",
       "TCGTGCTCAAGAAATC-1_5-1-2                            0.822383  \n",
       "TGCACGGCAGCCCAGT-1_5-1-2                            0.479841  \n",
       "TTCCGGTAGTAGCCAG-1_5-1-2                            0.823948  \n",
       "TTCGATTAGATACTGA-1_5-1-2                            0.760524  \n",
       "\n",
       "[4400 rows x 16 columns]"
      ]
     },
     "execution_count": 1118,
     "metadata": {},
     "output_type": "execute_result"
    }
   ],
   "source": [
    "varTable"
   ]
  },
  {
   "cell_type": "code",
   "execution_count": 1078,
   "id": "3782923d-2bee-454d-988b-b3385380b504",
   "metadata": {},
   "outputs": [],
   "source": [
    "milo2.make_range(nulldata,time_col=\"dpt_pred\")"
   ]
  },
  {
   "cell_type": "code",
   "execution_count": 1108,
   "id": "06dce6f8-5727-4c8a-a399-f6ff36f9c079",
   "metadata": {},
   "outputs": [
    {
     "data": {
      "text/html": [
       "<pre>MuData object with n_obs × n_vars = 64107 × 17312\n",
       "  2 modalities\n",
       "    rna:\t64107 x 17312\n",
       "      obs:\t&#x27;Sample&#x27;, &#x27;Stage&#x27;, &#x27;Stage_shuffle&#x27;, &#x27;dpt_pred&#x27;, &#x27;nhood_ixs_refined&#x27;, &#x27;nhood_kth_distance&#x27;, &#x27;nhood_ixs_random&#x27;\n",
       "      uns:\t&#x27;neighbors&#x27;, &#x27;nhood_neighbors_key&#x27;\n",
       "      obsm:\t&#x27;X_draw_graph_fa&#x27;, &#x27;X_umap&#x27;, &#x27;X_scANVI&#x27;, &#x27;nhoods&#x27;\n",
       "      obsp:\t&#x27;connectivities&#x27;, &#x27;distances&#x27;\n",
       "    milo:\t46 x 4332\n",
       "      obs:\t&#x27;Stage&#x27;, &#x27;Sample&#x27;\n",
       "      var:\t&#x27;index_cell&#x27;, &#x27;kth_distance&#x27;, &#x27;logFC&#x27;, &#x27;logCPM&#x27;, &#x27;F&#x27;, &#x27;PValue&#x27;, &#x27;FDR&#x27;, &#x27;SpatialFDR&#x27;, &#x27;null&#x27;, &#x27;time&#x27;, &#x27;range_down&#x27;, &#x27;range_up&#x27;, &#x27;Accept&#x27;, &#x27;logChange&#x27;\n",
       "      uns:\t&#x27;sample_col&#x27;</pre>"
      ],
      "text/plain": [
       "MuData object with n_obs × n_vars = 64107 × 17312\n",
       "  2 modalities\n",
       "    rna:\t64107 x 17312\n",
       "      obs:\t'Sample', 'Stage', 'Stage_shuffle', 'dpt_pred', 'nhood_ixs_refined', 'nhood_kth_distance', 'nhood_ixs_random'\n",
       "      uns:\t'neighbors', 'nhood_neighbors_key'\n",
       "      obsm:\t'X_draw_graph_fa', 'X_umap', 'X_scANVI', 'nhoods'\n",
       "      obsp:\t'connectivities', 'distances'\n",
       "    milo:\t46 x 4332\n",
       "      obs:\t'Stage', 'Sample'\n",
       "      var:\t'index_cell', 'kth_distance', 'logFC', 'logCPM', 'F', 'PValue', 'FDR', 'SpatialFDR', 'null', 'time', 'range_down', 'range_up', 'Accept', 'logChange'\n",
       "      uns:\t'sample_col'"
      ]
     },
     "execution_count": 1108,
     "metadata": {},
     "output_type": "execute_result"
    }
   ],
   "source": [
    "nulldata[]"
   ]
  },
  {
   "cell_type": "code",
   "execution_count": 1110,
   "id": "7e7ad669-d415-4fce-b5fe-d8f4a0fc8dcc",
   "metadata": {},
   "outputs": [],
   "source": [
    "null.uns[\"test\"]=\"test\""
   ]
  },
  {
   "cell_type": "code",
   "execution_count": 1079,
   "id": "5061d823-eb59-4565-8a5a-289546e3b5e5",
   "metadata": {},
   "outputs": [],
   "source": [
    "lenDf1=milo2.permute_test_point(nulldata,n=100,include_null=True)"
   ]
  },
  {
   "cell_type": "code",
   "execution_count": 1098,
   "id": "474e894e-e98b-4abb-afb4-f419658b37e1",
   "metadata": {},
   "outputs": [],
   "source": [
    "lenDf1=milo2.test_binom(lenDf1,times=10)"
   ]
  },
  {
   "cell_type": "code",
   "execution_count": 1127,
   "id": "bf22aa80-6333-4ad5-9a93-23600847bbda",
   "metadata": {},
   "outputs": [],
   "source": [
    "milo2.test_whole(nulldata)"
   ]
  },
  {
   "cell_type": "code",
   "execution_count": 1130,
   "id": "70cf9a24-9a04-473f-91fe-7b60c0d6475f",
   "metadata": {},
   "outputs": [
    {
     "data": {
      "text/plain": [
       "1"
      ]
     },
     "execution_count": 1130,
     "metadata": {},
     "output_type": "execute_result"
    }
   ],
   "source": [
    "nulldata[\"milo\"].uns[\"overall_p_val\"]"
   ]
  },
  {
   "cell_type": "code",
   "execution_count": null,
   "id": "3fb539fd-be24-428d-a8dd-70a07af34a44",
   "metadata": {},
   "outputs": [
    {
     "data": {
      "text/html": [
       "<pre style=\"white-space:pre;overflow-x:auto;line-height:normal;font-family:Menlo,'DejaVu Sans Mono',consolas,'Courier New',monospace\">working on <span style=\"color: #008080; text-decoration-color: #008080; font-weight: bold\">0</span> data\n",
       "</pre>\n"
      ],
      "text/plain": [
       "working on \u001b[1;36m0\u001b[0m data\n"
      ]
     },
     "metadata": {},
     "output_type": "display_data"
    },
    {
     "data": {
      "text/html": [
       "<pre style=\"white-space:pre;overflow-x:auto;line-height:normal;font-family:Menlo,'DejaVu Sans Mono',consolas,'Courier New',monospace\">working on <span style=\"color: #008080; text-decoration-color: #008080; font-weight: bold\">1</span> data\n",
       "</pre>\n"
      ],
      "text/plain": [
       "working on \u001b[1;36m1\u001b[0m data\n"
      ]
     },
     "metadata": {},
     "output_type": "display_data"
    }
   ],
   "source": [
    "lenthDFDict={}\n",
    "pValDict={}\n",
    "varDict={}\n",
    "for i in range(pseudo_name.shape[1]):\n",
    "    print(f\"working on {i} data\")\n",
    "    null=null_bk.copy()\n",
    "    pseudo_loop=pseudo_name.iloc[:,i]\n",
    "    null.obs[\"Sample\"]=np.vectorize(cellSampleDict.get)(pseudo_loop)\n",
    "    null.obs[\"Stage\"]=np.vectorize(cellStageDict.get)(pseudo_loop)\n",
    "    nulldata = milo2.load(null)\n",
    "    nulldata = milo2.count_nhoods(nulldata, sample_col=\"Sample\")\n",
    "    print(\"Make differential_test.......\")\n",
    "    milo2.da_nhoods(nulldata, design='~Stage',model_contrasts='StageDevelopment-StageSteady')\n",
    "    print(\"Make null datasets.......\")\n",
    "    milo2.make_null(nulldata, design='~Stage',model_contrasts='StageDevelopment-StageSteady',times=10)\n",
    "    milo2.make_range(nulldata,time_col=\"dpt_pred\")\n",
    "    lenDf_loop=milo2.permute_test_point(nulldata,n=100,include_null=True)\n",
    "    lenDf_loop=milo2.test_binom(lenDf_loop,times=10)\n",
    "    milo2.test_whole(nulldata)\n",
    "    lenthDFDict[i]=lenDf_loop\n",
    "    varDict[i]=nulldata[\"milo\"].var\n",
    "    pValDict[i]=nulldata[\"milo\"].uns[\"overall_p_val\"]"
   ]
  },
  {
   "cell_type": "code",
   "execution_count": 1172,
   "id": "06574a77-a203-4990-a82b-70b5a9392e3f",
   "metadata": {},
   "outputs": [
    {
     "data": {
      "text/plain": [
       "(array([324., 175., 103.,  47.,  66.,  58.,  75.,  59.,  45.,  40.,  51.,\n",
       "         47.,  40.,  40.,  73.,  59.,  62.,  46.,  63.,  57.,  42.,  56.,\n",
       "         54.,  65.,  72.,  49.,  90.,  70.,  75.,  45., 100., 102.,  54.,\n",
       "        115., 134.,  73.,  88., 123.,  99.,  89.,  96., 106., 116., 120.,\n",
       "        128.,  83., 133., 150., 118., 157.]),\n",
       " array([0.01025016, 0.03004356, 0.04983695, 0.06963034, 0.08942373,\n",
       "        0.10921713, 0.12901052, 0.14880391, 0.1685973 , 0.18839069,\n",
       "        0.20818409, 0.22797748, 0.24777087, 0.26756426, 0.28735766,\n",
       "        0.30715105, 0.32694444, 0.34673783, 0.36653123, 0.38632462,\n",
       "        0.40611801, 0.4259114 , 0.44570479, 0.46549819, 0.48529158,\n",
       "        0.50508497, 0.52487836, 0.54467176, 0.56446515, 0.58425854,\n",
       "        0.60405193, 0.62384533, 0.64363872, 0.66343211, 0.6832255 ,\n",
       "        0.70301889, 0.72281229, 0.74260568, 0.76239907, 0.78219246,\n",
       "        0.80198586, 0.82177925, 0.84157264, 0.86136603, 0.88115943,\n",
       "        0.90095282, 0.92074621, 0.9405396 , 0.960333  , 0.98012639,\n",
       "        0.99991978]),\n",
       " <BarContainer object of 50 artists>)"
      ]
     },
     "execution_count": 1172,
     "metadata": {},
     "output_type": "execute_result"
    },
    {
     "data": {
      "image/png": "[encoded data removed]",
      "text/plain": [
       "<Figure size 700x700 with 1 Axes>"
      ]
     },
     "metadata": {},
     "output_type": "display_data"
    }
   ],
   "source": [
    "plt.hist(varDict[6][\"SpatialFDR\"],bins=50)"
   ]
  },
  {
   "cell_type": "code",
   "execution_count": 1256,
   "id": "5cfcf7d4-45e8-4383-90a2-05dd7c9f3259",
   "metadata": {},
   "outputs": [
    {
     "data": {
      "text/plain": [
       "(array([219.,  45.,  34.,  40.,  41.,  38.,  37.,  33.,  29.,  22.,  12.,\n",
       "         19.,  34.,  24.,  13.,  18.,  27.,  24.,  27.,  33.,  13.,  18.,\n",
       "         12.,   7.,  21.,  31.,  20.,   9.,  25.,  26.,  29.,  23.,  15.,\n",
       "         21.,  18.,  20.,  34.,  30.,  25.,  15.,  34.,  28.,  36.,  26.,\n",
       "         20.,  29.,  20.,  54.,  21.,  23.,  24.,  33.,  16.,  42.,  45.,\n",
       "         44.,  16.,  63.,  49.,  17.,  18.,  43.,  38.,  34.,  66.,  39.,\n",
       "         26.,  27.,  59.,  34.,  77.,  71.,  46.,  42.,  46.,  88.,  33.,\n",
       "         39.,  81.,  34.,  70.,  55.,  55.,  45.,  72., 102.,  64., 121.,\n",
       "         70.,  91.,  93.,  25.,  20.,  56., 117.,  89.,  67.,  66., 151.,\n",
       "        141.]),\n",
       " array([0.07034904, 0.07964436, 0.08893968, 0.098235  , 0.10753031,\n",
       "        0.11682563, 0.12612095, 0.13541626, 0.14471158, 0.1540069 ,\n",
       "        0.16330221, 0.17259753, 0.18189285, 0.19118817, 0.20048348,\n",
       "        0.2097788 , 0.21907412, 0.22836943, 0.23766475, 0.24696007,\n",
       "        0.25625539, 0.2655507 , 0.27484602, 0.28414134, 0.29343665,\n",
       "        0.30273197, 0.31202729, 0.3213226 , 0.33061792, 0.33991324,\n",
       "        0.34920856, 0.35850387, 0.36779919, 0.37709451, 0.38638982,\n",
       "        0.39568514, 0.40498046, 0.41427577, 0.42357109, 0.43286641,\n",
       "        0.44216173, 0.45145704, 0.46075236, 0.47004768, 0.47934299,\n",
       "        0.48863831, 0.49793363, 0.50722895, 0.51652426, 0.52581958,\n",
       "        0.5351149 , 0.54441021, 0.55370553, 0.56300085, 0.57229616,\n",
       "        0.58159148, 0.5908868 , 0.60018212, 0.60947743, 0.61877275,\n",
       "        0.62806807, 0.63736338, 0.6466587 , 0.65595402, 0.66524933,\n",
       "        0.67454465, 0.68383997, 0.69313529, 0.7024306 , 0.71172592,\n",
       "        0.72102124, 0.73031655, 0.73961187, 0.74890719, 0.75820251,\n",
       "        0.76749782, 0.77679314, 0.78608846, 0.79538377, 0.80467909,\n",
       "        0.81397441, 0.82326972, 0.83256504, 0.84186036, 0.85115568,\n",
       "        0.86045099, 0.86974631, 0.87904163, 0.88833694, 0.89763226,\n",
       "        0.90692758, 0.91622289, 0.92551821, 0.93481353, 0.94410885,\n",
       "        0.95340416, 0.96269948, 0.9719948 , 0.98129011, 0.99058543,\n",
       "        0.99988075]),\n",
       " <BarContainer object of 100 artists>)"
      ]
     },
     "execution_count": 1256,
     "metadata": {},
     "output_type": "execute_result"
    },
    {
     "data": {
      "image/png": "[encoded data removed]",
      "text/plain": [
       "<Figure size 700x700 with 1 Axes>"
      ]
     },
     "metadata": {},
     "output_type": "display_data"
    }
   ],
   "source": [
    "plt.hist(varDict[7][\"SpatialFDR\"],bins=100)"
   ]
  },
  {
   "cell_type": "code",
   "execution_count": 1263,
   "id": "1c2f1b5d-3bf0-4d54-af04-41952e6cda6a",
   "metadata": {},
   "outputs": [
    {
     "data": {
      "text/plain": [
       "303"
      ]
     },
     "execution_count": 1263,
     "metadata": {},
     "output_type": "execute_result"
    }
   ],
   "source": [
    "sum(varDict[7][\"SpatialFDR\"]<0.1)"
   ]
  },
  {
   "cell_type": "code",
   "execution_count": 1188,
   "id": "5a22dbd0-927e-4b14-8d64-dd3b079d8fd2",
   "metadata": {},
   "outputs": [],
   "source": [
    "null_bk_1=null_bk.copy()"
   ]
  },
  {
   "cell_type": "code",
   "execution_count": 1189,
   "id": "82b89ab8-f1f2-450f-9986-26342a8136d8",
   "metadata": {},
   "outputs": [],
   "source": [
    "milo2.make_nhoods(null_bk, prop=0.3)"
   ]
  },
  {
   "cell_type": "code",
   "execution_count": 1190,
   "id": "017f958e-858b-4aa1-aa2f-9f0b0e82a416",
   "metadata": {},
   "outputs": [],
   "source": [
    "null.obsm[\"nhoods\"]=null_bk.obsm[\"nhoods\"]\n",
    "null.obs[[\"nhood_ixs_refined\",\"nhood_kth_distance\",\"nhood_ixs_random\"]]=null_bk.obs[[\"nhood_ixs_refined\",\"nhood_kth_distance\",\"nhood_ixs_random\"]]\n",
    "null.uns=null_bk.uns"
   ]
  },
  {
   "cell_type": "code",
   "execution_count": 1191,
   "id": "56f8211a-8d6e-40b3-9fd8-00e0b401a498",
   "metadata": {},
   "outputs": [
    {
     "data": {
      "text/html": [
       "<pre style=\"white-space:pre;overflow-x:auto;line-height:normal;font-family:Menlo,'DejaVu Sans Mono',consolas,'Courier New',monospace\">working on <span style=\"color: #008080; text-decoration-color: #008080; font-weight: bold\">0</span> data\n",
       "</pre>\n"
      ],
      "text/plain": [
       "working on \u001b[1;36m0\u001b[0m data\n"
      ]
     },
     "metadata": {},
     "output_type": "display_data"
    },
    {
     "data": {
      "text/html": [
       "<pre style=\"white-space:pre;overflow-x:auto;line-height:normal;font-family:Menlo,'DejaVu Sans Mono',consolas,'Courier New',monospace\">Make differential_test<span style=\"color: #808000; text-decoration-color: #808000\">......</span>.\n",
       "</pre>\n"
      ],
      "text/plain": [
       "Make differential_test\u001b[33m...\u001b[0m\u001b[33m...\u001b[0m.\n"
      ]
     },
     "metadata": {},
     "output_type": "display_data"
    },
    {
     "data": {
      "text/html": [
       "<pre style=\"white-space:pre;overflow-x:auto;line-height:normal;font-family:Menlo,'DejaVu Sans Mono',consolas,'Courier New',monospace\">Make null datasets<span style=\"color: #808000; text-decoration-color: #808000\">......</span>.\n",
       "</pre>\n"
      ],
      "text/plain": [
       "Make null datasets\u001b[33m...\u001b[0m\u001b[33m...\u001b[0m.\n"
      ]
     },
     "metadata": {},
     "output_type": "display_data"
    },
    {
     "data": {
      "text/html": [
       "<pre style=\"white-space:pre;overflow-x:auto;line-height:normal;font-family:Menlo,'DejaVu Sans Mono',consolas,'Courier New',monospace\">working on <span style=\"color: #008080; text-decoration-color: #008080; font-weight: bold\">1</span> data\n",
       "</pre>\n"
      ],
      "text/plain": [
       "working on \u001b[1;36m1\u001b[0m data\n"
      ]
     },
     "metadata": {},
     "output_type": "display_data"
    },
    {
     "data": {
      "text/html": [
       "<pre style=\"white-space:pre;overflow-x:auto;line-height:normal;font-family:Menlo,'DejaVu Sans Mono',consolas,'Courier New',monospace\">Make differential_test<span style=\"color: #808000; text-decoration-color: #808000\">......</span>.\n",
       "</pre>\n"
      ],
      "text/plain": [
       "Make differential_test\u001b[33m...\u001b[0m\u001b[33m...\u001b[0m.\n"
      ]
     },
     "metadata": {},
     "output_type": "display_data"
    },
    {
     "data": {
      "text/html": [
       "<pre style=\"white-space:pre;overflow-x:auto;line-height:normal;font-family:Menlo,'DejaVu Sans Mono',consolas,'Courier New',monospace\">Make null datasets<span style=\"color: #808000; text-decoration-color: #808000\">......</span>.\n",
       "</pre>\n"
      ],
      "text/plain": [
       "Make null datasets\u001b[33m...\u001b[0m\u001b[33m...\u001b[0m.\n"
      ]
     },
     "metadata": {},
     "output_type": "display_data"
    },
    {
     "data": {
      "text/html": [
       "<pre style=\"white-space:pre;overflow-x:auto;line-height:normal;font-family:Menlo,'DejaVu Sans Mono',consolas,'Courier New',monospace\">working on <span style=\"color: #008080; text-decoration-color: #008080; font-weight: bold\">2</span> data\n",
       "</pre>\n"
      ],
      "text/plain": [
       "working on \u001b[1;36m2\u001b[0m data\n"
      ]
     },
     "metadata": {},
     "output_type": "display_data"
    },
    {
     "data": {
      "text/html": [
       "<pre style=\"white-space:pre;overflow-x:auto;line-height:normal;font-family:Menlo,'DejaVu Sans Mono',consolas,'Courier New',monospace\">Make differential_test<span style=\"color: #808000; text-decoration-color: #808000\">......</span>.\n",
       "</pre>\n"
      ],
      "text/plain": [
       "Make differential_test\u001b[33m...\u001b[0m\u001b[33m...\u001b[0m.\n"
      ]
     },
     "metadata": {},
     "output_type": "display_data"
    },
    {
     "data": {
      "text/html": [
       "<pre style=\"white-space:pre;overflow-x:auto;line-height:normal;font-family:Menlo,'DejaVu Sans Mono',consolas,'Courier New',monospace\">Make null datasets<span style=\"color: #808000; text-decoration-color: #808000\">......</span>.\n",
       "</pre>\n"
      ],
      "text/plain": [
       "Make null datasets\u001b[33m...\u001b[0m\u001b[33m...\u001b[0m.\n"
      ]
     },
     "metadata": {},
     "output_type": "display_data"
    },
    {
     "data": {
      "text/html": [
       "<pre style=\"white-space:pre;overflow-x:auto;line-height:normal;font-family:Menlo,'DejaVu Sans Mono',consolas,'Courier New',monospace\">working on <span style=\"color: #008080; text-decoration-color: #008080; font-weight: bold\">3</span> data\n",
       "</pre>\n"
      ],
      "text/plain": [
       "working on \u001b[1;36m3\u001b[0m data\n"
      ]
     },
     "metadata": {},
     "output_type": "display_data"
    },
    {
     "data": {
      "text/html": [
       "<pre style=\"white-space:pre;overflow-x:auto;line-height:normal;font-family:Menlo,'DejaVu Sans Mono',consolas,'Courier New',monospace\">Make differential_test<span style=\"color: #808000; text-decoration-color: #808000\">......</span>.\n",
       "</pre>\n"
      ],
      "text/plain": [
       "Make differential_test\u001b[33m...\u001b[0m\u001b[33m...\u001b[0m.\n"
      ]
     },
     "metadata": {},
     "output_type": "display_data"
    },
    {
     "data": {
      "text/html": [
       "<pre style=\"white-space:pre;overflow-x:auto;line-height:normal;font-family:Menlo,'DejaVu Sans Mono',consolas,'Courier New',monospace\">Make null datasets<span style=\"color: #808000; text-decoration-color: #808000\">......</span>.\n",
       "</pre>\n"
      ],
      "text/plain": [
       "Make null datasets\u001b[33m...\u001b[0m\u001b[33m...\u001b[0m.\n"
      ]
     },
     "metadata": {},
     "output_type": "display_data"
    },
    {
     "data": {
      "text/html": [
       "<pre style=\"white-space:pre;overflow-x:auto;line-height:normal;font-family:Menlo,'DejaVu Sans Mono',consolas,'Courier New',monospace\">working on <span style=\"color: #008080; text-decoration-color: #008080; font-weight: bold\">4</span> data\n",
       "</pre>\n"
      ],
      "text/plain": [
       "working on \u001b[1;36m4\u001b[0m data\n"
      ]
     },
     "metadata": {},
     "output_type": "display_data"
    },
    {
     "data": {
      "text/html": [
       "<pre style=\"white-space:pre;overflow-x:auto;line-height:normal;font-family:Menlo,'DejaVu Sans Mono',consolas,'Courier New',monospace\">Make differential_test<span style=\"color: #808000; text-decoration-color: #808000\">......</span>.\n",
       "</pre>\n"
      ],
      "text/plain": [
       "Make differential_test\u001b[33m...\u001b[0m\u001b[33m...\u001b[0m.\n"
      ]
     },
     "metadata": {},
     "output_type": "display_data"
    },
    {
     "data": {
      "text/html": [
       "<pre style=\"white-space:pre;overflow-x:auto;line-height:normal;font-family:Menlo,'DejaVu Sans Mono',consolas,'Courier New',monospace\">Make null datasets<span style=\"color: #808000; text-decoration-color: #808000\">......</span>.\n",
       "</pre>\n"
      ],
      "text/plain": [
       "Make null datasets\u001b[33m...\u001b[0m\u001b[33m...\u001b[0m.\n"
      ]
     },
     "metadata": {},
     "output_type": "display_data"
    },
    {
     "data": {
      "text/html": [
       "<pre style=\"white-space:pre;overflow-x:auto;line-height:normal;font-family:Menlo,'DejaVu Sans Mono',consolas,'Courier New',monospace\">working on <span style=\"color: #008080; text-decoration-color: #008080; font-weight: bold\">5</span> data\n",
       "</pre>\n"
      ],
      "text/plain": [
       "working on \u001b[1;36m5\u001b[0m data\n"
      ]
     },
     "metadata": {},
     "output_type": "display_data"
    },
    {
     "data": {
      "text/html": [
       "<pre style=\"white-space:pre;overflow-x:auto;line-height:normal;font-family:Menlo,'DejaVu Sans Mono',consolas,'Courier New',monospace\">Make differential_test<span style=\"color: #808000; text-decoration-color: #808000\">......</span>.\n",
       "</pre>\n"
      ],
      "text/plain": [
       "Make differential_test\u001b[33m...\u001b[0m\u001b[33m...\u001b[0m.\n"
      ]
     },
     "metadata": {},
     "output_type": "display_data"
    },
    {
     "data": {
      "text/html": [
       "<pre style=\"white-space:pre;overflow-x:auto;line-height:normal;font-family:Menlo,'DejaVu Sans Mono',consolas,'Courier New',monospace\">Make null datasets<span style=\"color: #808000; text-decoration-color: #808000\">......</span>.\n",
       "</pre>\n"
      ],
      "text/plain": [
       "Make null datasets\u001b[33m...\u001b[0m\u001b[33m...\u001b[0m.\n"
      ]
     },
     "metadata": {},
     "output_type": "display_data"
    },
    {
     "data": {
      "text/html": [
       "<pre style=\"white-space:pre;overflow-x:auto;line-height:normal;font-family:Menlo,'DejaVu Sans Mono',consolas,'Courier New',monospace\">working on <span style=\"color: #008080; text-decoration-color: #008080; font-weight: bold\">6</span> data\n",
       "</pre>\n"
      ],
      "text/plain": [
       "working on \u001b[1;36m6\u001b[0m data\n"
      ]
     },
     "metadata": {},
     "output_type": "display_data"
    },
    {
     "data": {
      "text/html": [
       "<pre style=\"white-space:pre;overflow-x:auto;line-height:normal;font-family:Menlo,'DejaVu Sans Mono',consolas,'Courier New',monospace\">Make differential_test<span style=\"color: #808000; text-decoration-color: #808000\">......</span>.\n",
       "</pre>\n"
      ],
      "text/plain": [
       "Make differential_test\u001b[33m...\u001b[0m\u001b[33m...\u001b[0m.\n"
      ]
     },
     "metadata": {},
     "output_type": "display_data"
    },
    {
     "data": {
      "text/html": [
       "<pre style=\"white-space:pre;overflow-x:auto;line-height:normal;font-family:Menlo,'DejaVu Sans Mono',consolas,'Courier New',monospace\">Make null datasets<span style=\"color: #808000; text-decoration-color: #808000\">......</span>.\n",
       "</pre>\n"
      ],
      "text/plain": [
       "Make null datasets\u001b[33m...\u001b[0m\u001b[33m...\u001b[0m.\n"
      ]
     },
     "metadata": {},
     "output_type": "display_data"
    },
    {
     "data": {
      "text/html": [
       "<pre style=\"white-space:pre;overflow-x:auto;line-height:normal;font-family:Menlo,'DejaVu Sans Mono',consolas,'Courier New',monospace\">working on <span style=\"color: #008080; text-decoration-color: #008080; font-weight: bold\">7</span> data\n",
       "</pre>\n"
      ],
      "text/plain": [
       "working on \u001b[1;36m7\u001b[0m data\n"
      ]
     },
     "metadata": {},
     "output_type": "display_data"
    },
    {
     "data": {
      "text/html": [
       "<pre style=\"white-space:pre;overflow-x:auto;line-height:normal;font-family:Menlo,'DejaVu Sans Mono',consolas,'Courier New',monospace\">Make differential_test<span style=\"color: #808000; text-decoration-color: #808000\">......</span>.\n",
       "</pre>\n"
      ],
      "text/plain": [
       "Make differential_test\u001b[33m...\u001b[0m\u001b[33m...\u001b[0m.\n"
      ]
     },
     "metadata": {},
     "output_type": "display_data"
    },
    {
     "data": {
      "text/html": [
       "<pre style=\"white-space:pre;overflow-x:auto;line-height:normal;font-family:Menlo,'DejaVu Sans Mono',consolas,'Courier New',monospace\">Make null datasets<span style=\"color: #808000; text-decoration-color: #808000\">......</span>.\n",
       "</pre>\n"
      ],
      "text/plain": [
       "Make null datasets\u001b[33m...\u001b[0m\u001b[33m...\u001b[0m.\n"
      ]
     },
     "metadata": {},
     "output_type": "display_data"
    },
    {
     "data": {
      "text/html": [
       "<pre style=\"white-space:pre;overflow-x:auto;line-height:normal;font-family:Menlo,'DejaVu Sans Mono',consolas,'Courier New',monospace\">working on <span style=\"color: #008080; text-decoration-color: #008080; font-weight: bold\">8</span> data\n",
       "</pre>\n"
      ],
      "text/plain": [
       "working on \u001b[1;36m8\u001b[0m data\n"
      ]
     },
     "metadata": {},
     "output_type": "display_data"
    },
    {
     "data": {
      "text/html": [
       "<pre style=\"white-space:pre;overflow-x:auto;line-height:normal;font-family:Menlo,'DejaVu Sans Mono',consolas,'Courier New',monospace\">Make differential_test<span style=\"color: #808000; text-decoration-color: #808000\">......</span>.\n",
       "</pre>\n"
      ],
      "text/plain": [
       "Make differential_test\u001b[33m...\u001b[0m\u001b[33m...\u001b[0m.\n"
      ]
     },
     "metadata": {},
     "output_type": "display_data"
    },
    {
     "data": {
      "text/html": [
       "<pre style=\"white-space:pre;overflow-x:auto;line-height:normal;font-family:Menlo,'DejaVu Sans Mono',consolas,'Courier New',monospace\">Make null datasets<span style=\"color: #808000; text-decoration-color: #808000\">......</span>.\n",
       "</pre>\n"
      ],
      "text/plain": [
       "Make null datasets\u001b[33m...\u001b[0m\u001b[33m...\u001b[0m.\n"
      ]
     },
     "metadata": {},
     "output_type": "display_data"
    },
    {
     "data": {
      "text/html": [
       "<pre style=\"white-space:pre;overflow-x:auto;line-height:normal;font-family:Menlo,'DejaVu Sans Mono',consolas,'Courier New',monospace\">working on <span style=\"color: #008080; text-decoration-color: #008080; font-weight: bold\">9</span> data\n",
       "</pre>\n"
      ],
      "text/plain": [
       "working on \u001b[1;36m9\u001b[0m data\n"
      ]
     },
     "metadata": {},
     "output_type": "display_data"
    },
    {
     "data": {
      "text/html": [
       "<pre style=\"white-space:pre;overflow-x:auto;line-height:normal;font-family:Menlo,'DejaVu Sans Mono',consolas,'Courier New',monospace\">Make differential_test<span style=\"color: #808000; text-decoration-color: #808000\">......</span>.\n",
       "</pre>\n"
      ],
      "text/plain": [
       "Make differential_test\u001b[33m...\u001b[0m\u001b[33m...\u001b[0m.\n"
      ]
     },
     "metadata": {},
     "output_type": "display_data"
    },
    {
     "data": {
      "text/html": [
       "<pre style=\"white-space:pre;overflow-x:auto;line-height:normal;font-family:Menlo,'DejaVu Sans Mono',consolas,'Courier New',monospace\">Make null datasets<span style=\"color: #808000; text-decoration-color: #808000\">......</span>.\n",
       "</pre>\n"
      ],
      "text/plain": [
       "Make null datasets\u001b[33m...\u001b[0m\u001b[33m...\u001b[0m.\n"
      ]
     },
     "metadata": {},
     "output_type": "display_data"
    },
    {
     "data": {
      "text/html": [
       "<pre style=\"white-space:pre;overflow-x:auto;line-height:normal;font-family:Menlo,'DejaVu Sans Mono',consolas,'Courier New',monospace\">working on <span style=\"color: #008080; text-decoration-color: #008080; font-weight: bold\">10</span> data\n",
       "</pre>\n"
      ],
      "text/plain": [
       "working on \u001b[1;36m10\u001b[0m data\n"
      ]
     },
     "metadata": {},
     "output_type": "display_data"
    },
    {
     "data": {
      "text/html": [
       "<pre style=\"white-space:pre;overflow-x:auto;line-height:normal;font-family:Menlo,'DejaVu Sans Mono',consolas,'Courier New',monospace\">Make differential_test<span style=\"color: #808000; text-decoration-color: #808000\">......</span>.\n",
       "</pre>\n"
      ],
      "text/plain": [
       "Make differential_test\u001b[33m...\u001b[0m\u001b[33m...\u001b[0m.\n"
      ]
     },
     "metadata": {},
     "output_type": "display_data"
    },
    {
     "data": {
      "text/html": [
       "<pre style=\"white-space:pre;overflow-x:auto;line-height:normal;font-family:Menlo,'DejaVu Sans Mono',consolas,'Courier New',monospace\">Make null datasets<span style=\"color: #808000; text-decoration-color: #808000\">......</span>.\n",
       "</pre>\n"
      ],
      "text/plain": [
       "Make null datasets\u001b[33m...\u001b[0m\u001b[33m...\u001b[0m.\n"
      ]
     },
     "metadata": {},
     "output_type": "display_data"
    }
   ],
   "source": [
    "lenthDFDict2={}\n",
    "pValDict2={}\n",
    "varDict2={}\n",
    "for i in range(pseudo_name.shape[1]):\n",
    "    print(f\"working on {i} data\")\n",
    "    null=null_bk.copy()\n",
    "    pseudo_loop=pseudo_name.iloc[:,i]\n",
    "    null.obs[\"Sample\"]=np.vectorize(cellSampleDict.get)(pseudo_loop)\n",
    "    null.obs[\"Stage\"]=np.vectorize(cellStageDict.get)(pseudo_loop)\n",
    "    nulldata = milo2.load(null)\n",
    "    nulldata = milo2.count_nhoods(nulldata, sample_col=\"Sample\")\n",
    "    print(\"Make differential_test.......\")\n",
    "    milo2.da_nhoods(nulldata, design='~Stage',model_contrasts='StageDevelopment-StageSteady')\n",
    "    print(\"Make null datasets.......\")\n",
    "    milo2.make_null(nulldata, design='~Stage',model_contrasts='StageDevelopment-StageSteady',times=10)\n",
    "    milo2.make_range(nulldata,time_col=\"dpt_pred\")\n",
    "    lenDf_loop=milo2.permute_test_point(nulldata,n=100,include_null=True)\n",
    "    lenDf_loop=milo2.test_binom(lenDf_loop,times=10)\n",
    "    milo2.test_whole(nulldata)\n",
    "    lenthDFDict2[i]=lenDf_loop\n",
    "    varDict2[i]=nulldata[\"milo\"].var\n",
    "    pValDict2[i]=nulldata[\"milo\"].uns[\"overall_p_val\"]"
   ]
  },
  {
   "cell_type": "code",
   "execution_count": 1247,
   "id": "a4d016e0-1c94-40f1-b21f-ac62ca6ff4f1",
   "metadata": {},
   "outputs": [],
   "source": [
    "def test_whole(varTable,\n",
    "                     times:int = 10):\n",
    "        varTable=varTable.dropna()\n",
    "        sumVal=varTable.shape[0]\n",
    "        trueVal=sum(varTable[\"Accept\"])\n",
    "        nullVal=sum(varTable[\"null\"])\n",
    "        if nullVal==0:\n",
    "            nullVal=1/(sumVal*times)\n",
    "        else:\n",
    "            nullVal=nullVal/(sumVal)\n",
    "        pval=1- binom.cdf(trueVal, sumVal, nullVal)\n",
    "        if trueVal == 0:\n",
    "            pval=1\n",
    "        return(pval)\n",
    "def return_true(varTable,\n",
    "                     times:int = 10):\n",
    "        varTable=varTable.dropna()\n",
    "        varTable[\"Accept\"]\n",
    "        sumVal=varTable.shape[0]\n",
    "        trueVal=sum(varTable[\"Accept\"])\n",
    "        nullVal=sum(varTable[\"null\"])\n",
    "        return(trueVal/sumVal)"
   ]
  },
  {
   "cell_type": "code",
   "execution_count": 1260,
   "id": "c93d180c-babc-46ba-8527-59fbf0d0c43e",
   "metadata": {},
   "outputs": [
    {
     "data": {
      "text/html": [
       "<div>\n",
       "<style scoped>\n",
       "    .dataframe tbody tr th:only-of-type {\n",
       "        vertical-align: middle;\n",
       "    }\n",
       "\n",
       "    .dataframe tbody tr th {\n",
       "        vertical-align: top;\n",
       "    }\n",
       "\n",
       "    .dataframe thead th {\n",
       "        text-align: right;\n",
       "    }\n",
       "</style>\n",
       "<table border=\"1\" class=\"dataframe\">\n",
       "  <thead>\n",
       "    <tr style=\"text-align: right;\">\n",
       "      <th></th>\n",
       "      <th>index_cell</th>\n",
       "      <th>kth_distance</th>\n",
       "      <th>logFC</th>\n",
       "      <th>logCPM</th>\n",
       "      <th>F</th>\n",
       "      <th>PValue</th>\n",
       "      <th>FDR</th>\n",
       "      <th>SpatialFDR</th>\n",
       "      <th>null</th>\n",
       "      <th>time</th>\n",
       "      <th>range_down</th>\n",
       "      <th>range_up</th>\n",
       "      <th>Accept</th>\n",
       "      <th>logChange</th>\n",
       "    </tr>\n",
       "    <tr>\n",
       "      <th>index_cell</th>\n",
       "      <th></th>\n",
       "      <th></th>\n",
       "      <th></th>\n",
       "      <th></th>\n",
       "      <th></th>\n",
       "      <th></th>\n",
       "      <th></th>\n",
       "      <th></th>\n",
       "      <th></th>\n",
       "      <th></th>\n",
       "      <th></th>\n",
       "      <th></th>\n",
       "      <th></th>\n",
       "      <th></th>\n",
       "    </tr>\n",
       "  </thead>\n",
       "  <tbody>\n",
       "    <tr>\n",
       "      <th>BmscEndosteal_Ono_Prrx1creP21_TATATCCGTACAATAG-1_6-0-2</th>\n",
       "      <td>BmscEndosteal_Ono_Prrx1creP21_TATATCCGTACAATAG...</td>\n",
       "      <td>1.592432</td>\n",
       "      <td>0.464478</td>\n",
       "      <td>7.737632</td>\n",
       "      <td>2.680136</td>\n",
       "      <td>0.103428</td>\n",
       "      <td>0.397462</td>\n",
       "      <td>0.420435</td>\n",
       "      <td>0.0</td>\n",
       "      <td>0.301083</td>\n",
       "      <td>0.259997</td>\n",
       "      <td>0.344450</td>\n",
       "      <td>False</td>\n",
       "      <td>3.593959</td>\n",
       "    </tr>\n",
       "    <tr>\n",
       "      <th>PerichondrialP21_Matsushita_FR3CreCxcl12GfpP21_ACAGCTACACTTACGA-1_1-0-2</th>\n",
       "      <td>PerichondrialP21_Matsushita_FR3CreCxcl12GfpP21...</td>\n",
       "      <td>0.936314</td>\n",
       "      <td>-0.014571</td>\n",
       "      <td>8.212349</td>\n",
       "      <td>0.002552</td>\n",
       "      <td>0.959769</td>\n",
       "      <td>0.991244</td>\n",
       "      <td>0.992347</td>\n",
       "      <td>0.0</td>\n",
       "      <td>0.043012</td>\n",
       "      <td>0.036035</td>\n",
       "      <td>0.072043</td>\n",
       "      <td>False</td>\n",
       "      <td>-0.119659</td>\n",
       "    </tr>\n",
       "    <tr>\n",
       "      <th>TCCATCGCAGCAAGAC-1_1-1-2</th>\n",
       "      <td>TCCATCGCAGCAAGAC-1_1-1-2</td>\n",
       "      <td>1.555860</td>\n",
       "      <td>0.917058</td>\n",
       "      <td>7.636195</td>\n",
       "      <td>6.048358</td>\n",
       "      <td>0.016660</td>\n",
       "      <td>0.154059</td>\n",
       "      <td>0.160769</td>\n",
       "      <td>0.0</td>\n",
       "      <td>0.716801</td>\n",
       "      <td>0.737592</td>\n",
       "      <td>0.830175</td>\n",
       "      <td>False</td>\n",
       "      <td>7.002836</td>\n",
       "    </tr>\n",
       "    <tr>\n",
       "      <th>BmscSpecification_Kishor_1_ATCCACCAGGACAGAA_1-0-2</th>\n",
       "      <td>BmscSpecification_Kishor_1_ATCCACCAGGACAGAA_1-0-2</td>\n",
       "      <td>0.990178</td>\n",
       "      <td>-0.056992</td>\n",
       "      <td>8.056006</td>\n",
       "      <td>0.035428</td>\n",
       "      <td>0.850995</td>\n",
       "      <td>0.955113</td>\n",
       "      <td>0.959989</td>\n",
       "      <td>0.0</td>\n",
       "      <td>0.052769</td>\n",
       "      <td>0.034204</td>\n",
       "      <td>0.066592</td>\n",
       "      <td>False</td>\n",
       "      <td>-0.459125</td>\n",
       "    </tr>\n",
       "    <tr>\n",
       "      <th>Bmsc2019_Regev_samp2_baryawno:std2_GGATTACCAGCGTTCG-0-2</th>\n",
       "      <td>Bmsc2019_Regev_samp2_baryawno:std2_GGATTACCAGC...</td>\n",
       "      <td>1.038132</td>\n",
       "      <td>-0.347948</td>\n",
       "      <td>7.810806</td>\n",
       "      <td>1.350215</td>\n",
       "      <td>0.246844</td>\n",
       "      <td>0.594082</td>\n",
       "      <td>0.619890</td>\n",
       "      <td>0.0</td>\n",
       "      <td>0.082492</td>\n",
       "      <td>0.043030</td>\n",
       "      <td>0.080092</td>\n",
       "      <td>False</td>\n",
       "      <td>-2.717758</td>\n",
       "    </tr>\n",
       "    <tr>\n",
       "      <th>...</th>\n",
       "      <td>...</td>\n",
       "      <td>...</td>\n",
       "      <td>...</td>\n",
       "      <td>...</td>\n",
       "      <td>...</td>\n",
       "      <td>...</td>\n",
       "      <td>...</td>\n",
       "      <td>...</td>\n",
       "      <td>...</td>\n",
       "      <td>...</td>\n",
       "      <td>...</td>\n",
       "      <td>...</td>\n",
       "      <td>...</td>\n",
       "      <td>...</td>\n",
       "    </tr>\n",
       "    <tr>\n",
       "      <th>Septoclasts_Kishor_Pdgfra_CTCTCGATCTTGGTGA_3-0-2</th>\n",
       "      <td>Septoclasts_Kishor_Pdgfra_CTCTCGATCTTGGTGA_3-0-2</td>\n",
       "      <td>1.765353</td>\n",
       "      <td>0.257393</td>\n",
       "      <td>7.441207</td>\n",
       "      <td>0.720936</td>\n",
       "      <td>0.397013</td>\n",
       "      <td>0.719786</td>\n",
       "      <td>0.741618</td>\n",
       "      <td>0.0</td>\n",
       "      <td>0.291599</td>\n",
       "      <td>0.285514</td>\n",
       "      <td>0.353927</td>\n",
       "      <td>False</td>\n",
       "      <td>1.915314</td>\n",
       "    </tr>\n",
       "    <tr>\n",
       "      <th>BmscTime_Zhong_1.5M_GGGAGATTCACGACTA_2-0-2</th>\n",
       "      <td>BmscTime_Zhong_1.5M_GGGAGATTCACGACTA_2-0-2</td>\n",
       "      <td>0.928025</td>\n",
       "      <td>0.282133</td>\n",
       "      <td>7.979015</td>\n",
       "      <td>0.969864</td>\n",
       "      <td>0.326092</td>\n",
       "      <td>0.665079</td>\n",
       "      <td>0.690421</td>\n",
       "      <td>0.0</td>\n",
       "      <td>0.056191</td>\n",
       "      <td>0.034640</td>\n",
       "      <td>0.071319</td>\n",
       "      <td>False</td>\n",
       "      <td>2.251145</td>\n",
       "    </tr>\n",
       "    <tr>\n",
       "      <th>Ablation_Matsushita_abl7con1_GTAACTGTCTATCGCC-1_2-0-2</th>\n",
       "      <td>Ablation_Matsushita_abl7con1_GTAACTGTCTATCGCC-...</td>\n",
       "      <td>1.083056</td>\n",
       "      <td>-0.182187</td>\n",
       "      <td>7.415874</td>\n",
       "      <td>0.369096</td>\n",
       "      <td>0.544295</td>\n",
       "      <td>0.812644</td>\n",
       "      <td>0.828747</td>\n",
       "      <td>0.0</td>\n",
       "      <td>0.037281</td>\n",
       "      <td>0.036980</td>\n",
       "      <td>0.069524</td>\n",
       "      <td>False</td>\n",
       "      <td>-1.351074</td>\n",
       "    </tr>\n",
       "    <tr>\n",
       "      <th>Septoclasts_Kishor_Pdgfra_TGTTGGATCAAATGCC_3-0-2</th>\n",
       "      <td>Septoclasts_Kishor_Pdgfra_TGTTGGATCAAATGCC_3-0-2</td>\n",
       "      <td>1.425450</td>\n",
       "      <td>0.338015</td>\n",
       "      <td>8.131709</td>\n",
       "      <td>1.463900</td>\n",
       "      <td>0.227964</td>\n",
       "      <td>0.577183</td>\n",
       "      <td>0.602529</td>\n",
       "      <td>0.0</td>\n",
       "      <td>0.252530</td>\n",
       "      <td>0.212692</td>\n",
       "      <td>0.290634</td>\n",
       "      <td>False</td>\n",
       "      <td>2.748643</td>\n",
       "    </tr>\n",
       "    <tr>\n",
       "      <th>BmscEndosteal_Ono_Prrx1creP21_TTACGCCTCTTCTGGC-1_6-0-2</th>\n",
       "      <td>BmscEndosteal_Ono_Prrx1creP21_TTACGCCTCTTCTGGC...</td>\n",
       "      <td>1.990822</td>\n",
       "      <td>0.521923</td>\n",
       "      <td>7.384009</td>\n",
       "      <td>3.151815</td>\n",
       "      <td>0.077604</td>\n",
       "      <td>0.346207</td>\n",
       "      <td>0.366696</td>\n",
       "      <td>0.0</td>\n",
       "      <td>0.374019</td>\n",
       "      <td>0.291787</td>\n",
       "      <td>0.413714</td>\n",
       "      <td>False</td>\n",
       "      <td>3.853887</td>\n",
       "    </tr>\n",
       "  </tbody>\n",
       "</table>\n",
       "<p>8512 rows × 14 columns</p>\n",
       "</div>"
      ],
      "text/plain": [
       "                                                                                           index_cell  \\\n",
       "index_cell                                                                                              \n",
       "BmscEndosteal_Ono_Prrx1creP21_TATATCCGTACAATAG-...  BmscEndosteal_Ono_Prrx1creP21_TATATCCGTACAATAG...   \n",
       "PerichondrialP21_Matsushita_FR3CreCxcl12GfpP21_...  PerichondrialP21_Matsushita_FR3CreCxcl12GfpP21...   \n",
       "TCCATCGCAGCAAGAC-1_1-1-2                                                     TCCATCGCAGCAAGAC-1_1-1-2   \n",
       "BmscSpecification_Kishor_1_ATCCACCAGGACAGAA_1-0-2   BmscSpecification_Kishor_1_ATCCACCAGGACAGAA_1-0-2   \n",
       "Bmsc2019_Regev_samp2_baryawno:std2_GGATTACCAGCG...  Bmsc2019_Regev_samp2_baryawno:std2_GGATTACCAGC...   \n",
       "...                                                                                               ...   \n",
       "Septoclasts_Kishor_Pdgfra_CTCTCGATCTTGGTGA_3-0-2     Septoclasts_Kishor_Pdgfra_CTCTCGATCTTGGTGA_3-0-2   \n",
       "BmscTime_Zhong_1.5M_GGGAGATTCACGACTA_2-0-2                 BmscTime_Zhong_1.5M_GGGAGATTCACGACTA_2-0-2   \n",
       "Ablation_Matsushita_abl7con1_GTAACTGTCTATCGCC-1...  Ablation_Matsushita_abl7con1_GTAACTGTCTATCGCC-...   \n",
       "Septoclasts_Kishor_Pdgfra_TGTTGGATCAAATGCC_3-0-2     Septoclasts_Kishor_Pdgfra_TGTTGGATCAAATGCC_3-0-2   \n",
       "BmscEndosteal_Ono_Prrx1creP21_TTACGCCTCTTCTGGC-...  BmscEndosteal_Ono_Prrx1creP21_TTACGCCTCTTCTGGC...   \n",
       "\n",
       "                                                    kth_distance     logFC  \\\n",
       "index_cell                                                                   \n",
       "BmscEndosteal_Ono_Prrx1creP21_TATATCCGTACAATAG-...      1.592432  0.464478   \n",
       "PerichondrialP21_Matsushita_FR3CreCxcl12GfpP21_...      0.936314 -0.014571   \n",
       "TCCATCGCAGCAAGAC-1_1-1-2                                1.555860  0.917058   \n",
       "BmscSpecification_Kishor_1_ATCCACCAGGACAGAA_1-0-2       0.990178 -0.056992   \n",
       "Bmsc2019_Regev_samp2_baryawno:std2_GGATTACCAGCG...      1.038132 -0.347948   \n",
       "...                                                          ...       ...   \n",
       "Septoclasts_Kishor_Pdgfra_CTCTCGATCTTGGTGA_3-0-2        1.765353  0.257393   \n",
       "BmscTime_Zhong_1.5M_GGGAGATTCACGACTA_2-0-2              0.928025  0.282133   \n",
       "Ablation_Matsushita_abl7con1_GTAACTGTCTATCGCC-1...      1.083056 -0.182187   \n",
       "Septoclasts_Kishor_Pdgfra_TGTTGGATCAAATGCC_3-0-2        1.425450  0.338015   \n",
       "BmscEndosteal_Ono_Prrx1creP21_TTACGCCTCTTCTGGC-...      1.990822  0.521923   \n",
       "\n",
       "                                                      logCPM         F  \\\n",
       "index_cell                                                               \n",
       "BmscEndosteal_Ono_Prrx1creP21_TATATCCGTACAATAG-...  7.737632  2.680136   \n",
       "PerichondrialP21_Matsushita_FR3CreCxcl12GfpP21_...  8.212349  0.002552   \n",
       "TCCATCGCAGCAAGAC-1_1-1-2                            7.636195  6.048358   \n",
       "BmscSpecification_Kishor_1_ATCCACCAGGACAGAA_1-0-2   8.056006  0.035428   \n",
       "Bmsc2019_Regev_samp2_baryawno:std2_GGATTACCAGCG...  7.810806  1.350215   \n",
       "...                                                      ...       ...   \n",
       "Septoclasts_Kishor_Pdgfra_CTCTCGATCTTGGTGA_3-0-2    7.441207  0.720936   \n",
       "BmscTime_Zhong_1.5M_GGGAGATTCACGACTA_2-0-2          7.979015  0.969864   \n",
       "Ablation_Matsushita_abl7con1_GTAACTGTCTATCGCC-1...  7.415874  0.369096   \n",
       "Septoclasts_Kishor_Pdgfra_TGTTGGATCAAATGCC_3-0-2    8.131709  1.463900   \n",
       "BmscEndosteal_Ono_Prrx1creP21_TTACGCCTCTTCTGGC-...  7.384009  3.151815   \n",
       "\n",
       "                                                      PValue       FDR  \\\n",
       "index_cell                                                               \n",
       "BmscEndosteal_Ono_Prrx1creP21_TATATCCGTACAATAG-...  0.103428  0.397462   \n",
       "PerichondrialP21_Matsushita_FR3CreCxcl12GfpP21_...  0.959769  0.991244   \n",
       "TCCATCGCAGCAAGAC-1_1-1-2                            0.016660  0.154059   \n",
       "BmscSpecification_Kishor_1_ATCCACCAGGACAGAA_1-0-2   0.850995  0.955113   \n",
       "Bmsc2019_Regev_samp2_baryawno:std2_GGATTACCAGCG...  0.246844  0.594082   \n",
       "...                                                      ...       ...   \n",
       "Septoclasts_Kishor_Pdgfra_CTCTCGATCTTGGTGA_3-0-2    0.397013  0.719786   \n",
       "BmscTime_Zhong_1.5M_GGGAGATTCACGACTA_2-0-2          0.326092  0.665079   \n",
       "Ablation_Matsushita_abl7con1_GTAACTGTCTATCGCC-1...  0.544295  0.812644   \n",
       "Septoclasts_Kishor_Pdgfra_TGTTGGATCAAATGCC_3-0-2    0.227964  0.577183   \n",
       "BmscEndosteal_Ono_Prrx1creP21_TTACGCCTCTTCTGGC-...  0.077604  0.346207   \n",
       "\n",
       "                                                    SpatialFDR  null  \\\n",
       "index_cell                                                             \n",
       "BmscEndosteal_Ono_Prrx1creP21_TATATCCGTACAATAG-...    0.420435   0.0   \n",
       "PerichondrialP21_Matsushita_FR3CreCxcl12GfpP21_...    0.992347   0.0   \n",
       "TCCATCGCAGCAAGAC-1_1-1-2                              0.160769   0.0   \n",
       "BmscSpecification_Kishor_1_ATCCACCAGGACAGAA_1-0-2     0.959989   0.0   \n",
       "Bmsc2019_Regev_samp2_baryawno:std2_GGATTACCAGCG...    0.619890   0.0   \n",
       "...                                                        ...   ...   \n",
       "Septoclasts_Kishor_Pdgfra_CTCTCGATCTTGGTGA_3-0-2      0.741618   0.0   \n",
       "BmscTime_Zhong_1.5M_GGGAGATTCACGACTA_2-0-2            0.690421   0.0   \n",
       "Ablation_Matsushita_abl7con1_GTAACTGTCTATCGCC-1...    0.828747   0.0   \n",
       "Septoclasts_Kishor_Pdgfra_TGTTGGATCAAATGCC_3-0-2      0.602529   0.0   \n",
       "BmscEndosteal_Ono_Prrx1creP21_TTACGCCTCTTCTGGC-...    0.366696   0.0   \n",
       "\n",
       "                                                        time  range_down  \\\n",
       "index_cell                                                                 \n",
       "BmscEndosteal_Ono_Prrx1creP21_TATATCCGTACAATAG-...  0.301083    0.259997   \n",
       "PerichondrialP21_Matsushita_FR3CreCxcl12GfpP21_...  0.043012    0.036035   \n",
       "TCCATCGCAGCAAGAC-1_1-1-2                            0.716801    0.737592   \n",
       "BmscSpecification_Kishor_1_ATCCACCAGGACAGAA_1-0-2   0.052769    0.034204   \n",
       "Bmsc2019_Regev_samp2_baryawno:std2_GGATTACCAGCG...  0.082492    0.043030   \n",
       "...                                                      ...         ...   \n",
       "Septoclasts_Kishor_Pdgfra_CTCTCGATCTTGGTGA_3-0-2    0.291599    0.285514   \n",
       "BmscTime_Zhong_1.5M_GGGAGATTCACGACTA_2-0-2          0.056191    0.034640   \n",
       "Ablation_Matsushita_abl7con1_GTAACTGTCTATCGCC-1...  0.037281    0.036980   \n",
       "Septoclasts_Kishor_Pdgfra_TGTTGGATCAAATGCC_3-0-2    0.252530    0.212692   \n",
       "BmscEndosteal_Ono_Prrx1creP21_TTACGCCTCTTCTGGC-...  0.374019    0.291787   \n",
       "\n",
       "                                                    range_up  Accept  \\\n",
       "index_cell                                                             \n",
       "BmscEndosteal_Ono_Prrx1creP21_TATATCCGTACAATAG-...  0.344450   False   \n",
       "PerichondrialP21_Matsushita_FR3CreCxcl12GfpP21_...  0.072043   False   \n",
       "TCCATCGCAGCAAGAC-1_1-1-2                            0.830175   False   \n",
       "BmscSpecification_Kishor_1_ATCCACCAGGACAGAA_1-0-2   0.066592   False   \n",
       "Bmsc2019_Regev_samp2_baryawno:std2_GGATTACCAGCG...  0.080092   False   \n",
       "...                                                      ...     ...   \n",
       "Septoclasts_Kishor_Pdgfra_CTCTCGATCTTGGTGA_3-0-2    0.353927   False   \n",
       "BmscTime_Zhong_1.5M_GGGAGATTCACGACTA_2-0-2          0.071319   False   \n",
       "Ablation_Matsushita_abl7con1_GTAACTGTCTATCGCC-1...  0.069524   False   \n",
       "Septoclasts_Kishor_Pdgfra_TGTTGGATCAAATGCC_3-0-2    0.290634   False   \n",
       "BmscEndosteal_Ono_Prrx1creP21_TTACGCCTCTTCTGGC-...  0.413714   False   \n",
       "\n",
       "                                                    logChange  \n",
       "index_cell                                                     \n",
       "BmscEndosteal_Ono_Prrx1creP21_TATATCCGTACAATAG-...   3.593959  \n",
       "PerichondrialP21_Matsushita_FR3CreCxcl12GfpP21_...  -0.119659  \n",
       "TCCATCGCAGCAAGAC-1_1-1-2                             7.002836  \n",
       "BmscSpecification_Kishor_1_ATCCACCAGGACAGAA_1-0-2   -0.459125  \n",
       "Bmsc2019_Regev_samp2_baryawno:std2_GGATTACCAGCG...  -2.717758  \n",
       "...                                                       ...  \n",
       "Septoclasts_Kishor_Pdgfra_CTCTCGATCTTGGTGA_3-0-2     1.915314  \n",
       "BmscTime_Zhong_1.5M_GGGAGATTCACGACTA_2-0-2           2.251145  \n",
       "Ablation_Matsushita_abl7con1_GTAACTGTCTATCGCC-1...  -1.351074  \n",
       "Septoclasts_Kishor_Pdgfra_TGTTGGATCAAATGCC_3-0-2     2.748643  \n",
       "BmscEndosteal_Ono_Prrx1creP21_TTACGCCTCTTCTGGC-...   3.853887  \n",
       "\n",
       "[8512 rows x 14 columns]"
      ]
     },
     "execution_count": 1260,
     "metadata": {},
     "output_type": "execute_result"
    }
   ],
   "source": [
    "varDict2[7]"
   ]
  },
  {
   "cell_type": "code",
   "execution_count": 1248,
   "id": "694c8b33-e33c-4210-b26e-115ea44cd5f4",
   "metadata": {},
   "outputs": [],
   "source": []
  },
  {
   "cell_type": "code",
   "execution_count": 1253,
   "id": "9736fff7-9d7d-4cb8-b376-e128fd976007",
   "metadata": {},
   "outputs": [],
   "source": [
    "p_result = {key: test_whole(value) for key, value in varDict2.items()}\n",
    "true_result = {key: return_true(value) for key, value in varDict2.items()}\n",
    "trajDiffmetric=pd.DataFrame(list(zip(p_result.values(), true_result.values())), columns=['p', 'ratio'], index=true_result.keys())"
   ]
  },
  {
   "cell_type": "code",
   "execution_count": 1254,
   "id": "222471f8-737f-4c52-910d-57c0923223fa",
   "metadata": {},
   "outputs": [
    {
     "data": {
      "text/html": [
       "<div>\n",
       "<style scoped>\n",
       "    .dataframe tbody tr th:only-of-type {\n",
       "        vertical-align: middle;\n",
       "    }\n",
       "\n",
       "    .dataframe tbody tr th {\n",
       "        vertical-align: top;\n",
       "    }\n",
       "\n",
       "    .dataframe thead th {\n",
       "        text-align: right;\n",
       "    }\n",
       "</style>\n",
       "<table border=\"1\" class=\"dataframe\">\n",
       "  <thead>\n",
       "    <tr style=\"text-align: right;\">\n",
       "      <th></th>\n",
       "      <th>p</th>\n",
       "      <th>ratio</th>\n",
       "    </tr>\n",
       "  </thead>\n",
       "  <tbody>\n",
       "    <tr>\n",
       "      <th>0</th>\n",
       "      <td>0.0</td>\n",
       "      <td>0.149084</td>\n",
       "    </tr>\n",
       "    <tr>\n",
       "      <th>1</th>\n",
       "      <td>0.0</td>\n",
       "      <td>0.192904</td>\n",
       "    </tr>\n",
       "    <tr>\n",
       "      <th>2</th>\n",
       "      <td>0.0</td>\n",
       "      <td>0.193609</td>\n",
       "    </tr>\n",
       "    <tr>\n",
       "      <th>3</th>\n",
       "      <td>0.0</td>\n",
       "      <td>0.210879</td>\n",
       "    </tr>\n",
       "    <tr>\n",
       "      <th>4</th>\n",
       "      <td>0.0</td>\n",
       "      <td>0.177514</td>\n",
       "    </tr>\n",
       "    <tr>\n",
       "      <th>5</th>\n",
       "      <td>0.0</td>\n",
       "      <td>0.158012</td>\n",
       "    </tr>\n",
       "    <tr>\n",
       "      <th>6</th>\n",
       "      <td>0.0</td>\n",
       "      <td>0.111725</td>\n",
       "    </tr>\n",
       "    <tr>\n",
       "      <th>7</th>\n",
       "      <td>1.0</td>\n",
       "      <td>0.000000</td>\n",
       "    </tr>\n",
       "    <tr>\n",
       "      <th>8</th>\n",
       "      <td>1.0</td>\n",
       "      <td>0.000000</td>\n",
       "    </tr>\n",
       "    <tr>\n",
       "      <th>9</th>\n",
       "      <td>1.0</td>\n",
       "      <td>0.000000</td>\n",
       "    </tr>\n",
       "    <tr>\n",
       "      <th>10</th>\n",
       "      <td>1.0</td>\n",
       "      <td>0.000000</td>\n",
       "    </tr>\n",
       "  </tbody>\n",
       "</table>\n",
       "</div>"
      ],
      "text/plain": [
       "      p     ratio\n",
       "0   0.0  0.149084\n",
       "1   0.0  0.192904\n",
       "2   0.0  0.193609\n",
       "3   0.0  0.210879\n",
       "4   0.0  0.177514\n",
       "5   0.0  0.158012\n",
       "6   0.0  0.111725\n",
       "7   1.0  0.000000\n",
       "8   1.0  0.000000\n",
       "9   1.0  0.000000\n",
       "10  1.0  0.000000"
      ]
     },
     "execution_count": 1254,
     "metadata": {},
     "output_type": "execute_result"
    }
   ],
   "source": [
    "trajDiffmetric"
   ]
  },
  {
   "cell_type": "code",
   "execution_count": 1411,
   "id": "57b9e2c8-06d0-4330-9f0c-be0e162ba3c2",
   "metadata": {},
   "outputs": [],
   "source": [
    "trajDiffmetric.to_csv(\"../processed_data/11.23_process_null/11.23_trajdiff_gradiant_metrics.csv\")\n"
   ]
  },
  {
   "cell_type": "code",
   "execution_count": 1430,
   "id": "77850e8c-18af-4bfc-a25e-72ced62b90d6",
   "metadata": {},
   "outputs": [
    {
     "data": {
      "text/html": [
       "<div>\n",
       "<style scoped>\n",
       "    .dataframe tbody tr th:only-of-type {\n",
       "        vertical-align: middle;\n",
       "    }\n",
       "\n",
       "    .dataframe tbody tr th {\n",
       "        vertical-align: top;\n",
       "    }\n",
       "\n",
       "    .dataframe thead th {\n",
       "        text-align: right;\n",
       "    }\n",
       "</style>\n",
       "<table border=\"1\" class=\"dataframe\">\n",
       "  <thead>\n",
       "    <tr style=\"text-align: right;\">\n",
       "      <th></th>\n",
       "      <th>true</th>\n",
       "      <th>false</th>\n",
       "      <th>meanLogChange</th>\n",
       "      <th>null</th>\n",
       "      <th>rate</th>\n",
       "      <th>binom_p</th>\n",
       "    </tr>\n",
       "  </thead>\n",
       "  <tbody>\n",
       "    <tr>\n",
       "      <th>0</th>\n",
       "      <td>0.0</td>\n",
       "      <td>0.0</td>\n",
       "      <td>NaN</td>\n",
       "      <td>NaN</td>\n",
       "      <td>NaN</td>\n",
       "      <td>1.000000</td>\n",
       "    </tr>\n",
       "    <tr>\n",
       "      <th>1</th>\n",
       "      <td>7.0</td>\n",
       "      <td>403.0</td>\n",
       "      <td>-2.446612</td>\n",
       "      <td>0.016477</td>\n",
       "      <td>0.017073</td>\n",
       "      <td>0.364629</td>\n",
       "    </tr>\n",
       "    <tr>\n",
       "      <th>2</th>\n",
       "      <td>108.0</td>\n",
       "      <td>1993.0</td>\n",
       "      <td>-3.267147</td>\n",
       "      <td>0.007704</td>\n",
       "      <td>0.051404</td>\n",
       "      <td>0.000000</td>\n",
       "    </tr>\n",
       "    <tr>\n",
       "      <th>3</th>\n",
       "      <td>251.0</td>\n",
       "      <td>3486.0</td>\n",
       "      <td>-2.849552</td>\n",
       "      <td>0.010964</td>\n",
       "      <td>0.067166</td>\n",
       "      <td>0.000000</td>\n",
       "    </tr>\n",
       "    <tr>\n",
       "      <th>4</th>\n",
       "      <td>427.0</td>\n",
       "      <td>3299.0</td>\n",
       "      <td>-4.197774</td>\n",
       "      <td>0.030576</td>\n",
       "      <td>0.114600</td>\n",
       "      <td>0.000000</td>\n",
       "    </tr>\n",
       "    <tr>\n",
       "      <th>...</th>\n",
       "      <td>...</td>\n",
       "      <td>...</td>\n",
       "      <td>...</td>\n",
       "      <td>...</td>\n",
       "      <td>...</td>\n",
       "      <td>...</td>\n",
       "    </tr>\n",
       "    <tr>\n",
       "      <th>95</th>\n",
       "      <td>3.0</td>\n",
       "      <td>37.0</td>\n",
       "      <td>5.689735</td>\n",
       "      <td>0.002500</td>\n",
       "      <td>0.075000</td>\n",
       "      <td>0.000003</td>\n",
       "    </tr>\n",
       "    <tr>\n",
       "      <th>96</th>\n",
       "      <td>2.0</td>\n",
       "      <td>36.0</td>\n",
       "      <td>4.956266</td>\n",
       "      <td>0.002632</td>\n",
       "      <td>0.052632</td>\n",
       "      <td>0.000143</td>\n",
       "    </tr>\n",
       "    <tr>\n",
       "      <th>97</th>\n",
       "      <td>2.0</td>\n",
       "      <td>33.0</td>\n",
       "      <td>4.556770</td>\n",
       "      <td>0.002857</td>\n",
       "      <td>0.057143</td>\n",
       "      <td>0.000143</td>\n",
       "    </tr>\n",
       "    <tr>\n",
       "      <th>98</th>\n",
       "      <td>1.0</td>\n",
       "      <td>33.0</td>\n",
       "      <td>4.282919</td>\n",
       "      <td>0.002941</td>\n",
       "      <td>0.029412</td>\n",
       "      <td>0.004559</td>\n",
       "    </tr>\n",
       "    <tr>\n",
       "      <th>99</th>\n",
       "      <td>0.0</td>\n",
       "      <td>32.0</td>\n",
       "      <td>3.951233</td>\n",
       "      <td>0.003125</td>\n",
       "      <td>0.000000</td>\n",
       "      <td>1.000000</td>\n",
       "    </tr>\n",
       "  </tbody>\n",
       "</table>\n",
       "<p>100 rows × 6 columns</p>\n",
       "</div>"
      ],
      "text/plain": [
       "     true   false  meanLogChange      null      rate   binom_p\n",
       "0     0.0     0.0            NaN       NaN       NaN  1.000000\n",
       "1     7.0   403.0      -2.446612  0.016477  0.017073  0.364629\n",
       "2   108.0  1993.0      -3.267147  0.007704  0.051404  0.000000\n",
       "3   251.0  3486.0      -2.849552  0.010964  0.067166  0.000000\n",
       "4   427.0  3299.0      -4.197774  0.030576  0.114600  0.000000\n",
       "..    ...     ...            ...       ...       ...       ...\n",
       "95    3.0    37.0       5.689735  0.002500  0.075000  0.000003\n",
       "96    2.0    36.0       4.956266  0.002632  0.052632  0.000143\n",
       "97    2.0    33.0       4.556770  0.002857  0.057143  0.000143\n",
       "98    1.0    33.0       4.282919  0.002941  0.029412  0.004559\n",
       "99    0.0    32.0       3.951233  0.003125  0.000000  1.000000\n",
       "\n",
       "[100 rows x 6 columns]"
      ]
     },
     "execution_count": 1430,
     "metadata": {},
     "output_type": "execute_result"
    }
   ],
   "source": [
    "lenthDFDict2[1]"
   ]
  },
  {
   "cell_type": "code",
   "execution_count": 1420,
   "id": "816df392-1b47-4075-809c-7d8143b049e0",
   "metadata": {},
   "outputs": [],
   "source": [
    "logFcTab = {key: value[\"meanLogChange\"] for key, value in lenthDFDict2.items()}\n",
    "logFcTab=pd.DataFrame(logFcTab)\n",
    "logFcTab=logFcTab.dropna()\n",
    "PyComplexHeatmap.heatmap(logFcTab.T)\n",
    "plt.savefig(\"../result/11.24_benchmark_composition/grad_logFC_heatmap.pdf\")"
   ]
  },
  {
   "cell_type": "code",
   "execution_count": 1425,
   "id": "1d0c2b45-5454-4ad9-bc6b-ecfee9e8d9f2",
   "metadata": {},
   "outputs": [],
   "source": []
  },
  {
   "cell_type": "code",
   "execution_count": 1446,
   "id": "c5e58aee-c728-4ea8-ac57-6e69ce5cc868",
   "metadata": {},
   "outputs": [
    {
     "data": {
      "image/png": "[encoded data removed]",
      "text/plain": [
       "<Figure size 700x700 with 2 Axes>"
      ]
     },
     "metadata": {},
     "output_type": "display_data"
    }
   ],
   "source": []
  },
  {
   "cell_type": "code",
   "execution_count": 1442,
   "id": "628322f9-81db-4324-8cc5-96da3c2cb084",
   "metadata": {},
   "outputs": [],
   "source": [
    "acceptTab = {key: (-np.log(value[\"binom_p\"]+0.001)).astype(int) for key, value in lenthDFDict2.items()}\n",
    "acceptTab=pd.DataFrame(acceptTab)\n",
    "PyComplexHeatmap.heatmap(acceptTab.T)\n",
    "plt.savefig(\"../result/11.24_benchmark_composition/grad_FDR_heatmap.pdf\")"
   ]
  },
  {
   "cell_type": "code",
   "execution_count": null,
   "id": "97493ba1-2843-4eed-ac95-01352ea643e7",
   "metadata": {},
   "outputs": [],
   "source": []
  },
  {
   "cell_type": "code",
   "execution_count": 1443,
   "id": "85f71072-6b2f-4721-8e1e-69c646d35dc0",
   "metadata": {},
   "outputs": [],
   "source": []
  },
  {
   "cell_type": "code",
   "execution_count": 1445,
   "id": "2a0568ea-c15b-4e66-b385-a8961b7db004",
   "metadata": {},
   "outputs": [
    {
     "data": {
      "image/png": "[encoded data removed]",
      "text/plain": [
       "<Figure size 700x700 with 2 Axes>"
      ]
     },
     "metadata": {},
     "output_type": "display_data"
    }
   ],
   "source": []
  },
  {
   "cell_type": "code",
   "execution_count": 1441,
   "id": "0910a787-46c3-4196-8977-b4c3561dce5e",
   "metadata": {},
   "outputs": [
    {
     "data": {
      "text/plain": [
       "<matplotlib.image.AxesImage at 0x7f3197aab4c0>"
      ]
     },
     "execution_count": 1441,
     "metadata": {},
     "output_type": "execute_result"
    },
    {
     "data": {
      "image/png": "[encoded data removed]",
      "text/plain": [
       "<Figure size 700x700 with 1 Axes>"
      ]
     },
     "metadata": {},
     "output_type": "display_data"
    }
   ],
   "source": [
    "color1 = 'lightblue'\n",
    "color2 = 'darkred'\n",
    "\n",
    "# Set up a diverging color map with only two colors\n",
    "cmap = plt.cm.colors.ListedColormap([color1, color2])\n",
    "\n",
    "# Plot the heatmap\n",
    "plt.imshow(acceptTab.T, cmap=cmap, aspect='auto')\n"
   ]
  },
  {
   "cell_type": "code",
   "execution_count": null,
   "id": "a140ea30-5cf8-4e8b-bd80-ac7d7cb83d81",
   "metadata": {},
   "outputs": [],
   "source": [
    "def return_FC(lenDf):\n",
    "        varTable=varTable.dropna()\n",
    "        varTable[\"Accept\"]\n",
    "        sumVal=varTable.shape[0]\n",
    "        trueVal=sum(varTable[\"Accept\"])\n",
    "        nullVal=sum(varTable[\"null\"])\n",
    "        return(trueVal/sumVal)"
   ]
  },
  {
   "cell_type": "code",
   "execution_count": 1419,
   "id": "6526064a-a16c-4c12-87a7-8ce29e8139fe",
   "metadata": {},
   "outputs": [
    {
     "data": {
      "text/plain": [
       "0          NaN\n",
       "1    -2.446612\n",
       "2    -3.267147\n",
       "3    -2.849552\n",
       "4    -4.197774\n",
       "        ...   \n",
       "95    5.689735\n",
       "96    4.956266\n",
       "97    4.556770\n",
       "98    4.282919\n",
       "99    3.951233\n",
       "Name: meanLogChange, Length: 100, dtype: float64"
      ]
     },
     "execution_count": 1419,
     "metadata": {},
     "output_type": "execute_result"
    }
   ],
   "source": [
    "lenthDFDict2[1][\"meanLogChange\"]"
   ]
  },
  {
   "cell_type": "code",
   "execution_count": 1245,
   "id": "f2d9e0c9-fc36-4302-8d88-78c2df11e9da",
   "metadata": {},
   "outputs": [
    {
     "data": {
      "text/plain": [
       "0.0"
      ]
     },
     "execution_count": 1245,
     "metadata": {},
     "output_type": "execute_result"
    }
   ],
   "source": [
    "pd.DataFrame(p_result)"
   ]
  },
  {
   "cell_type": "code",
   "execution_count": 1281,
   "id": "d50887d8-a3d4-47e8-b70b-b244e717eefa",
   "metadata": {},
   "outputs": [
    {
     "data": {
      "text/html": [
       "<pre style=\"white-space:pre;overflow-x:auto;line-height:normal;font-family:Menlo,'DejaVu Sans Mono',consolas,'Courier New',monospace\">working on <span style=\"color: #008080; text-decoration-color: #008080; font-weight: bold\">0</span> data\n",
       "</pre>\n"
      ],
      "text/plain": [
       "working on \u001b[1;36m0\u001b[0m data\n"
      ]
     },
     "metadata": {},
     "output_type": "display_data"
    },
    {
     "data": {
      "text/html": [
       "<pre style=\"white-space:pre;overflow-x:auto;line-height:normal;font-family:Menlo,'DejaVu Sans Mono',consolas,'Courier New',monospace\">Make differential_test<span style=\"color: #808000; text-decoration-color: #808000\">......</span>.\n",
       "</pre>\n"
      ],
      "text/plain": [
       "Make differential_test\u001b[33m...\u001b[0m\u001b[33m...\u001b[0m.\n"
      ]
     },
     "metadata": {},
     "output_type": "display_data"
    },
    {
     "data": {
      "text/html": [
       "<pre style=\"white-space:pre;overflow-x:auto;line-height:normal;font-family:Menlo,'DejaVu Sans Mono',consolas,'Courier New',monospace\">Make null datasets<span style=\"color: #808000; text-decoration-color: #808000\">......</span>.\n",
       "</pre>\n"
      ],
      "text/plain": [
       "Make null datasets\u001b[33m...\u001b[0m\u001b[33m...\u001b[0m.\n"
      ]
     },
     "metadata": {},
     "output_type": "display_data"
    },
    {
     "data": {
      "text/html": [
       "<pre style=\"white-space:pre;overflow-x:auto;line-height:normal;font-family:Menlo,'DejaVu Sans Mono',consolas,'Courier New',monospace\">working on <span style=\"color: #008080; text-decoration-color: #008080; font-weight: bold\">1</span> data\n",
       "</pre>\n"
      ],
      "text/plain": [
       "working on \u001b[1;36m1\u001b[0m data\n"
      ]
     },
     "metadata": {},
     "output_type": "display_data"
    },
    {
     "data": {
      "text/html": [
       "<pre style=\"white-space:pre;overflow-x:auto;line-height:normal;font-family:Menlo,'DejaVu Sans Mono',consolas,'Courier New',monospace\">Make differential_test<span style=\"color: #808000; text-decoration-color: #808000\">......</span>.\n",
       "</pre>\n"
      ],
      "text/plain": [
       "Make differential_test\u001b[33m...\u001b[0m\u001b[33m...\u001b[0m.\n"
      ]
     },
     "metadata": {},
     "output_type": "display_data"
    },
    {
     "data": {
      "text/html": [
       "<pre style=\"white-space:pre;overflow-x:auto;line-height:normal;font-family:Menlo,'DejaVu Sans Mono',consolas,'Courier New',monospace\">Make null datasets<span style=\"color: #808000; text-decoration-color: #808000\">......</span>.\n",
       "</pre>\n"
      ],
      "text/plain": [
       "Make null datasets\u001b[33m...\u001b[0m\u001b[33m...\u001b[0m.\n"
      ]
     },
     "metadata": {},
     "output_type": "display_data"
    },
    {
     "data": {
      "text/html": [
       "<pre style=\"white-space:pre;overflow-x:auto;line-height:normal;font-family:Menlo,'DejaVu Sans Mono',consolas,'Courier New',monospace\">working on <span style=\"color: #008080; text-decoration-color: #008080; font-weight: bold\">2</span> data\n",
       "</pre>\n"
      ],
      "text/plain": [
       "working on \u001b[1;36m2\u001b[0m data\n"
      ]
     },
     "metadata": {},
     "output_type": "display_data"
    },
    {
     "data": {
      "text/html": [
       "<pre style=\"white-space:pre;overflow-x:auto;line-height:normal;font-family:Menlo,'DejaVu Sans Mono',consolas,'Courier New',monospace\">Make differential_test<span style=\"color: #808000; text-decoration-color: #808000\">......</span>.\n",
       "</pre>\n"
      ],
      "text/plain": [
       "Make differential_test\u001b[33m...\u001b[0m\u001b[33m...\u001b[0m.\n"
      ]
     },
     "metadata": {},
     "output_type": "display_data"
    },
    {
     "data": {
      "text/html": [
       "<pre style=\"white-space:pre;overflow-x:auto;line-height:normal;font-family:Menlo,'DejaVu Sans Mono',consolas,'Courier New',monospace\">Make null datasets<span style=\"color: #808000; text-decoration-color: #808000\">......</span>.\n",
       "</pre>\n"
      ],
      "text/plain": [
       "Make null datasets\u001b[33m...\u001b[0m\u001b[33m...\u001b[0m.\n"
      ]
     },
     "metadata": {},
     "output_type": "display_data"
    },
    {
     "data": {
      "text/html": [
       "<pre style=\"white-space:pre;overflow-x:auto;line-height:normal;font-family:Menlo,'DejaVu Sans Mono',consolas,'Courier New',monospace\">working on <span style=\"color: #008080; text-decoration-color: #008080; font-weight: bold\">3</span> data\n",
       "</pre>\n"
      ],
      "text/plain": [
       "working on \u001b[1;36m3\u001b[0m data\n"
      ]
     },
     "metadata": {},
     "output_type": "display_data"
    },
    {
     "data": {
      "text/html": [
       "<pre style=\"white-space:pre;overflow-x:auto;line-height:normal;font-family:Menlo,'DejaVu Sans Mono',consolas,'Courier New',monospace\">Make differential_test<span style=\"color: #808000; text-decoration-color: #808000\">......</span>.\n",
       "</pre>\n"
      ],
      "text/plain": [
       "Make differential_test\u001b[33m...\u001b[0m\u001b[33m...\u001b[0m.\n"
      ]
     },
     "metadata": {},
     "output_type": "display_data"
    },
    {
     "data": {
      "text/html": [
       "<pre style=\"white-space:pre;overflow-x:auto;line-height:normal;font-family:Menlo,'DejaVu Sans Mono',consolas,'Courier New',monospace\">Make null datasets<span style=\"color: #808000; text-decoration-color: #808000\">......</span>.\n",
       "</pre>\n"
      ],
      "text/plain": [
       "Make null datasets\u001b[33m...\u001b[0m\u001b[33m...\u001b[0m.\n"
      ]
     },
     "metadata": {},
     "output_type": "display_data"
    },
    {
     "data": {
      "text/html": [
       "<pre style=\"white-space:pre;overflow-x:auto;line-height:normal;font-family:Menlo,'DejaVu Sans Mono',consolas,'Courier New',monospace\">working on <span style=\"color: #008080; text-decoration-color: #008080; font-weight: bold\">4</span> data\n",
       "</pre>\n"
      ],
      "text/plain": [
       "working on \u001b[1;36m4\u001b[0m data\n"
      ]
     },
     "metadata": {},
     "output_type": "display_data"
    },
    {
     "data": {
      "text/html": [
       "<pre style=\"white-space:pre;overflow-x:auto;line-height:normal;font-family:Menlo,'DejaVu Sans Mono',consolas,'Courier New',monospace\">Make differential_test<span style=\"color: #808000; text-decoration-color: #808000\">......</span>.\n",
       "</pre>\n"
      ],
      "text/plain": [
       "Make differential_test\u001b[33m...\u001b[0m\u001b[33m...\u001b[0m.\n"
      ]
     },
     "metadata": {},
     "output_type": "display_data"
    },
    {
     "data": {
      "text/html": [
       "<pre style=\"white-space:pre;overflow-x:auto;line-height:normal;font-family:Menlo,'DejaVu Sans Mono',consolas,'Courier New',monospace\">Make null datasets<span style=\"color: #808000; text-decoration-color: #808000\">......</span>.\n",
       "</pre>\n"
      ],
      "text/plain": [
       "Make null datasets\u001b[33m...\u001b[0m\u001b[33m...\u001b[0m.\n"
      ]
     },
     "metadata": {},
     "output_type": "display_data"
    },
    {
     "data": {
      "text/html": [
       "<pre style=\"white-space:pre;overflow-x:auto;line-height:normal;font-family:Menlo,'DejaVu Sans Mono',consolas,'Courier New',monospace\">working on <span style=\"color: #008080; text-decoration-color: #008080; font-weight: bold\">5</span> data\n",
       "</pre>\n"
      ],
      "text/plain": [
       "working on \u001b[1;36m5\u001b[0m data\n"
      ]
     },
     "metadata": {},
     "output_type": "display_data"
    },
    {
     "data": {
      "text/html": [
       "<pre style=\"white-space:pre;overflow-x:auto;line-height:normal;font-family:Menlo,'DejaVu Sans Mono',consolas,'Courier New',monospace\">Make differential_test<span style=\"color: #808000; text-decoration-color: #808000\">......</span>.\n",
       "</pre>\n"
      ],
      "text/plain": [
       "Make differential_test\u001b[33m...\u001b[0m\u001b[33m...\u001b[0m.\n"
      ]
     },
     "metadata": {},
     "output_type": "display_data"
    },
    {
     "data": {
      "text/html": [
       "<pre style=\"white-space:pre;overflow-x:auto;line-height:normal;font-family:Menlo,'DejaVu Sans Mono',consolas,'Courier New',monospace\">Make null datasets<span style=\"color: #808000; text-decoration-color: #808000\">......</span>.\n",
       "</pre>\n"
      ],
      "text/plain": [
       "Make null datasets\u001b[33m...\u001b[0m\u001b[33m...\u001b[0m.\n"
      ]
     },
     "metadata": {},
     "output_type": "display_data"
    },
    {
     "data": {
      "text/html": [
       "<pre style=\"white-space:pre;overflow-x:auto;line-height:normal;font-family:Menlo,'DejaVu Sans Mono',consolas,'Courier New',monospace\">working on <span style=\"color: #008080; text-decoration-color: #008080; font-weight: bold\">6</span> data\n",
       "</pre>\n"
      ],
      "text/plain": [
       "working on \u001b[1;36m6\u001b[0m data\n"
      ]
     },
     "metadata": {},
     "output_type": "display_data"
    },
    {
     "data": {
      "text/html": [
       "<pre style=\"white-space:pre;overflow-x:auto;line-height:normal;font-family:Menlo,'DejaVu Sans Mono',consolas,'Courier New',monospace\">Make differential_test<span style=\"color: #808000; text-decoration-color: #808000\">......</span>.\n",
       "</pre>\n"
      ],
      "text/plain": [
       "Make differential_test\u001b[33m...\u001b[0m\u001b[33m...\u001b[0m.\n"
      ]
     },
     "metadata": {},
     "output_type": "display_data"
    },
    {
     "data": {
      "text/html": [
       "<pre style=\"white-space:pre;overflow-x:auto;line-height:normal;font-family:Menlo,'DejaVu Sans Mono',consolas,'Courier New',monospace\">Make null datasets<span style=\"color: #808000; text-decoration-color: #808000\">......</span>.\n",
       "</pre>\n"
      ],
      "text/plain": [
       "Make null datasets\u001b[33m...\u001b[0m\u001b[33m...\u001b[0m.\n"
      ]
     },
     "metadata": {},
     "output_type": "display_data"
    },
    {
     "data": {
      "text/html": [
       "<pre style=\"white-space:pre;overflow-x:auto;line-height:normal;font-family:Menlo,'DejaVu Sans Mono',consolas,'Courier New',monospace\">working on <span style=\"color: #008080; text-decoration-color: #008080; font-weight: bold\">7</span> data\n",
       "</pre>\n"
      ],
      "text/plain": [
       "working on \u001b[1;36m7\u001b[0m data\n"
      ]
     },
     "metadata": {},
     "output_type": "display_data"
    },
    {
     "data": {
      "text/html": [
       "<pre style=\"white-space:pre;overflow-x:auto;line-height:normal;font-family:Menlo,'DejaVu Sans Mono',consolas,'Courier New',monospace\">Make differential_test<span style=\"color: #808000; text-decoration-color: #808000\">......</span>.\n",
       "</pre>\n"
      ],
      "text/plain": [
       "Make differential_test\u001b[33m...\u001b[0m\u001b[33m...\u001b[0m.\n"
      ]
     },
     "metadata": {},
     "output_type": "display_data"
    },
    {
     "data": {
      "text/html": [
       "<pre style=\"white-space:pre;overflow-x:auto;line-height:normal;font-family:Menlo,'DejaVu Sans Mono',consolas,'Courier New',monospace\">Make null datasets<span style=\"color: #808000; text-decoration-color: #808000\">......</span>.\n",
       "</pre>\n"
      ],
      "text/plain": [
       "Make null datasets\u001b[33m...\u001b[0m\u001b[33m...\u001b[0m.\n"
      ]
     },
     "metadata": {},
     "output_type": "display_data"
    },
    {
     "data": {
      "text/html": [
       "<pre style=\"white-space:pre;overflow-x:auto;line-height:normal;font-family:Menlo,'DejaVu Sans Mono',consolas,'Courier New',monospace\">working on <span style=\"color: #008080; text-decoration-color: #008080; font-weight: bold\">8</span> data\n",
       "</pre>\n"
      ],
      "text/plain": [
       "working on \u001b[1;36m8\u001b[0m data\n"
      ]
     },
     "metadata": {},
     "output_type": "display_data"
    },
    {
     "data": {
      "text/html": [
       "<pre style=\"white-space:pre;overflow-x:auto;line-height:normal;font-family:Menlo,'DejaVu Sans Mono',consolas,'Courier New',monospace\">Make differential_test<span style=\"color: #808000; text-decoration-color: #808000\">......</span>.\n",
       "</pre>\n"
      ],
      "text/plain": [
       "Make differential_test\u001b[33m...\u001b[0m\u001b[33m...\u001b[0m.\n"
      ]
     },
     "metadata": {},
     "output_type": "display_data"
    },
    {
     "data": {
      "text/html": [
       "<pre style=\"white-space:pre;overflow-x:auto;line-height:normal;font-family:Menlo,'DejaVu Sans Mono',consolas,'Courier New',monospace\">Make null datasets<span style=\"color: #808000; text-decoration-color: #808000\">......</span>.\n",
       "</pre>\n"
      ],
      "text/plain": [
       "Make null datasets\u001b[33m...\u001b[0m\u001b[33m...\u001b[0m.\n"
      ]
     },
     "metadata": {},
     "output_type": "display_data"
    },
    {
     "data": {
      "text/html": [
       "<pre style=\"white-space:pre;overflow-x:auto;line-height:normal;font-family:Menlo,'DejaVu Sans Mono',consolas,'Courier New',monospace\">working on <span style=\"color: #008080; text-decoration-color: #008080; font-weight: bold\">9</span> data\n",
       "</pre>\n"
      ],
      "text/plain": [
       "working on \u001b[1;36m9\u001b[0m data\n"
      ]
     },
     "metadata": {},
     "output_type": "display_data"
    },
    {
     "data": {
      "text/html": [
       "<pre style=\"white-space:pre;overflow-x:auto;line-height:normal;font-family:Menlo,'DejaVu Sans Mono',consolas,'Courier New',monospace\">Make differential_test<span style=\"color: #808000; text-decoration-color: #808000\">......</span>.\n",
       "</pre>\n"
      ],
      "text/plain": [
       "Make differential_test\u001b[33m...\u001b[0m\u001b[33m...\u001b[0m.\n"
      ]
     },
     "metadata": {},
     "output_type": "display_data"
    },
    {
     "data": {
      "text/html": [
       "<pre style=\"white-space:pre;overflow-x:auto;line-height:normal;font-family:Menlo,'DejaVu Sans Mono',consolas,'Courier New',monospace\">Make null datasets<span style=\"color: #808000; text-decoration-color: #808000\">......</span>.\n",
       "</pre>\n"
      ],
      "text/plain": [
       "Make null datasets\u001b[33m...\u001b[0m\u001b[33m...\u001b[0m.\n"
      ]
     },
     "metadata": {},
     "output_type": "display_data"
    },
    {
     "data": {
      "text/html": [
       "<pre style=\"white-space:pre;overflow-x:auto;line-height:normal;font-family:Menlo,'DejaVu Sans Mono',consolas,'Courier New',monospace\">working on <span style=\"color: #008080; text-decoration-color: #008080; font-weight: bold\">10</span> data\n",
       "</pre>\n"
      ],
      "text/plain": [
       "working on \u001b[1;36m10\u001b[0m data\n"
      ]
     },
     "metadata": {},
     "output_type": "display_data"
    },
    {
     "data": {
      "text/html": [
       "<pre style=\"white-space:pre;overflow-x:auto;line-height:normal;font-family:Menlo,'DejaVu Sans Mono',consolas,'Courier New',monospace\">Make differential_test<span style=\"color: #808000; text-decoration-color: #808000\">......</span>.\n",
       "</pre>\n"
      ],
      "text/plain": [
       "Make differential_test\u001b[33m...\u001b[0m\u001b[33m...\u001b[0m.\n"
      ]
     },
     "metadata": {},
     "output_type": "display_data"
    },
    {
     "data": {
      "text/html": [
       "<pre style=\"white-space:pre;overflow-x:auto;line-height:normal;font-family:Menlo,'DejaVu Sans Mono',consolas,'Courier New',monospace\">Make null datasets<span style=\"color: #808000; text-decoration-color: #808000\">......</span>.\n",
       "</pre>\n"
      ],
      "text/plain": [
       "Make null datasets\u001b[33m...\u001b[0m\u001b[33m...\u001b[0m.\n"
      ]
     },
     "metadata": {},
     "output_type": "display_data"
    }
   ],
   "source": [
    "lenthDFDict3={}\n",
    "pValDict3={}\n",
    "varDict3={}\n",
    "for i in range(pseudo_name.shape[1]):\n",
    "    print(f\"working on {i} data\")\n",
    "    null=null_bk_1.copy()\n",
    "    pseudo_loop=pseudo_name.iloc[:,i]\n",
    "    null.obs[\"Sample\"]=np.vectorize(cellSampleDict.get)(pseudo_loop)\n",
    "    null.obs[\"Stage\"]=np.vectorize(cellStageDict.get)(pseudo_loop)\n",
    "    nulldata = milo2.load(null)\n",
    "    nulldata = milo2.count_nhoods(nulldata, sample_col=\"Sample\")\n",
    "    print(\"Make differential_test.......\")\n",
    "    milo2.da_nhoods(nulldata, design='~Stage',model_contrasts='StageDevelopment-StageSteady')\n",
    "    print(\"Make null datasets.......\")\n",
    "    milo2.make_null(nulldata, design='~Stage',model_contrasts='StageDevelopment-StageSteady',times=10,FDR=0.1)\n",
    "    milo2.make_range(nulldata,time_col=\"dpt_pred\",FDR=0.1)\n",
    "    lenDf_loop=milo2.permute_test_point(nulldata,n=100,include_null=True)\n",
    "    lenDf_loop=milo2.test_binom(lenDf_loop,times=10)\n",
    "    milo2.test_whole(nulldata)\n",
    "    lenthDFDict3[i]=lenDf_loop\n",
    "    varDict3[i]=nulldata[\"milo\"].var\n",
    "    pValDict3[i]=nulldata[\"milo\"].uns[\"overall_p_val\"]"
   ]
  },
  {
   "cell_type": "code",
   "execution_count": 1278,
   "id": "bffaf909-9c27-4030-a4b7-929d55c7acaa",
   "metadata": {},
   "outputs": [
    {
     "data": {
      "text/plain": [
       "0"
      ]
     },
     "execution_count": 1278,
     "metadata": {},
     "output_type": "execute_result"
    }
   ],
   "source": [
    "sum(varDict3[7][\"Accept\"])"
   ]
  },
  {
   "cell_type": "markdown",
   "id": "dfed22f3-ad87-438e-b279-8b7361381eac",
   "metadata": {},
   "source": [
    "## shuffle"
   ]
  },
  {
   "cell_type": "code",
   "execution_count": 1282,
   "id": "b6c7cc43-ec07-4f08-97b9-464ad0719a3f",
   "metadata": {},
   "outputs": [],
   "source": [
    "condition_shuffle=pd.read_csv(\"../processed_data/11.23_process_null/11.23_shuffle_condition.csv\",index_col=0)"
   ]
  },
  {
   "cell_type": "code",
   "execution_count": 1286,
   "id": "cea330d6-10bf-45b6-8dd1-47b1242f1e02",
   "metadata": {},
   "outputs": [
    {
     "data": {
      "text/plain": [
       "array(['Steady', 'Steady', 'Steady', ..., 'Steady', 'Steady', 'Steady'],\n",
       "      dtype=object)"
      ]
     },
     "execution_count": 1286,
     "metadata": {},
     "output_type": "execute_result"
    }
   ],
   "source": [
    "condition_shuffle.iloc[:,1].values"
   ]
  },
  {
   "cell_type": "code",
   "execution_count": 1288,
   "id": "093b06b1-3eb2-42de-8d6e-fb4005b9c9b4",
   "metadata": {},
   "outputs": [
    {
     "data": {
      "text/plain": [
       "Unnamed: 0\n",
       "BmscEndosteal_Ono_Prrx1creP21_CACAGATGTGCCCGTA-1_6-0-2                     Steady\n",
       "BmscEndosteal_Ono_Prrx1cre18M_ACTCCCAGTCTGTTAG-1_5-0-2                     Steady\n",
       "BmscEndosteal_Ono_Fgfr3CEp53cHet_TCATACTAGCAATTCC-1_3-0-2                  Steady\n",
       "Bmsc2019_Regev_samp1_baryawno:std1_CATATGGTCACAGGCC-0-2                    Steady\n",
       "BmscSpecification_Kishor_3_ATTCTACAGATCCTGT_3-0-2                          Steady\n",
       "                                                                            ...  \n",
       "TAACTTCAGCGCACAA-1_3-1-2                                                   Steady\n",
       "PerichondrialP21_Matsushita_HesCreCxcl12GfpP21_GGGATGATCTTTACGT-1_2-0-2    Steady\n",
       "Septoclasts_Kishor_Pdgfra_GACCAATCAGGAACCA_3-0-2                           Steady\n",
       "BmscTime_Zhong_16M_CCCGGAATCGAGTGGA_4-0-2                                  Steady\n",
       "BmscSpecification_Kishor_2_ACATACGCACTCGACG_2-0-2                          Steady\n",
       "Name: Stage, Length: 64107, dtype: object"
      ]
     },
     "execution_count": 1288,
     "metadata": {},
     "output_type": "execute_result"
    }
   ],
   "source": [
    "null.obs[\"Stage\"]"
   ]
  },
  {
   "cell_type": "code",
   "execution_count": 1291,
   "id": "5e2ffad0-955a-4253-b58f-82bceefdab72",
   "metadata": {},
   "outputs": [
    {
     "data": {
      "text/plain": [
       "Index(['BmscEndosteal_Ono_Prrx1creP21_CACAGATGTGCCCGTA-1_6-0-2',\n",
       "       'BmscEndosteal_Ono_Prrx1cre18M_ACTCCCAGTCTGTTAG-1_5-0-2',\n",
       "       'BmscEndosteal_Ono_Fgfr3CEp53cHet_TCATACTAGCAATTCC-1_3-0-2',\n",
       "       'Bmsc2019_Regev_samp1_baryawno:std1_CATATGGTCACAGGCC-0-2',\n",
       "       'BmscSpecification_Kishor_3_ATTCTACAGATCCTGT_3-0-2',\n",
       "       'Ablation_Matsushita_abl7con2_CTCCCAACAGCAGTCC-1_3-0-2',\n",
       "       'BmscEndosteal_Ono_Prrx1creP21_TATATCCGTACAATAG-1_6-0-2',\n",
       "       'Ablation_Matsushita_abl7con2_GCCAACGTCATGCATG-1_3-0-2',\n",
       "       'Ablation_Matsushita_cxcl2_TCATACTAGATGGCGT-1_7-0-2',\n",
       "       'BmscTime_Zhong_1.5M_TAGCCGGAGGTGCTAG_2-0-2',\n",
       "       ...\n",
       "       'Septoclasts_Kishor_Pdgfra_GAGTGAGTCGGAATTC_3-0-2',\n",
       "       'Bmsc2019_Regev_bm1_CACACAAGTAGGGTAC-1_1-0-2',\n",
       "       'Ablation_Matsushita_cxcl1_TTCTTCCGTTGTATGC-1_6-0-2',\n",
       "       'Septoclasts_Kishor_Pdgfra_CGCGTGAGTTTCACAG_3-0-2',\n",
       "       'Ablation_Matsushita_cxcl2_CGGGACTAGTCAACAA-1_7-0-2',\n",
       "       'TAACTTCAGCGCACAA-1_3-1-2',\n",
       "       'PerichondrialP21_Matsushita_HesCreCxcl12GfpP21_GGGATGATCTTTACGT-1_2-0-2',\n",
       "       'Septoclasts_Kishor_Pdgfra_GACCAATCAGGAACCA_3-0-2',\n",
       "       'BmscTime_Zhong_16M_CCCGGAATCGAGTGGA_4-0-2',\n",
       "       'BmscSpecification_Kishor_2_ACATACGCACTCGACG_2-0-2'],\n",
       "      dtype='object', name='Unnamed: 0', length=64107)"
      ]
     },
     "execution_count": 1291,
     "metadata": {},
     "output_type": "execute_result"
    }
   ],
   "source": [
    "null_bk_1.obs_names"
   ]
  },
  {
   "cell_type": "code",
   "execution_count": 1380,
   "id": "adb25b1b-4adf-4f30-aa42-8d656d8881e2",
   "metadata": {},
   "outputs": [
    {
     "data": {
      "text/html": [
       "<div>\n",
       "<style scoped>\n",
       "    .dataframe tbody tr th:only-of-type {\n",
       "        vertical-align: middle;\n",
       "    }\n",
       "\n",
       "    .dataframe tbody tr th {\n",
       "        vertical-align: top;\n",
       "    }\n",
       "\n",
       "    .dataframe thead th {\n",
       "        text-align: right;\n",
       "    }\n",
       "</style>\n",
       "<table border=\"1\" class=\"dataframe\">\n",
       "  <thead>\n",
       "    <tr style=\"text-align: right;\">\n",
       "      <th></th>\n",
       "      <th>V1</th>\n",
       "      <th>V2</th>\n",
       "      <th>V3</th>\n",
       "      <th>V4</th>\n",
       "      <th>V5</th>\n",
       "      <th>V6</th>\n",
       "      <th>V7</th>\n",
       "      <th>V8</th>\n",
       "      <th>V9</th>\n",
       "      <th>V10</th>\n",
       "    </tr>\n",
       "  </thead>\n",
       "  <tbody>\n",
       "    <tr>\n",
       "      <th>Ablation_Matsushita_abl7con1_AAACCTGCAAAGGCGT-1_2-0-2</th>\n",
       "      <td>Steady</td>\n",
       "      <td>Steady</td>\n",
       "      <td>Steady</td>\n",
       "      <td>Steady</td>\n",
       "      <td>Steady</td>\n",
       "      <td>Development</td>\n",
       "      <td>Development</td>\n",
       "      <td>Development</td>\n",
       "      <td>Steady</td>\n",
       "      <td>Steady</td>\n",
       "    </tr>\n",
       "    <tr>\n",
       "      <th>Ablation_Matsushita_abl7con1_AAACGGGGTGTTCGAT-1_2-0-2</th>\n",
       "      <td>Steady</td>\n",
       "      <td>Steady</td>\n",
       "      <td>Steady</td>\n",
       "      <td>Steady</td>\n",
       "      <td>Steady</td>\n",
       "      <td>Development</td>\n",
       "      <td>Development</td>\n",
       "      <td>Development</td>\n",
       "      <td>Steady</td>\n",
       "      <td>Steady</td>\n",
       "    </tr>\n",
       "    <tr>\n",
       "      <th>Ablation_Matsushita_abl7con1_AAACGGGTCGCCTGTT-1_2-0-2</th>\n",
       "      <td>Steady</td>\n",
       "      <td>Steady</td>\n",
       "      <td>Steady</td>\n",
       "      <td>Steady</td>\n",
       "      <td>Steady</td>\n",
       "      <td>Development</td>\n",
       "      <td>Development</td>\n",
       "      <td>Development</td>\n",
       "      <td>Steady</td>\n",
       "      <td>Steady</td>\n",
       "    </tr>\n",
       "    <tr>\n",
       "      <th>Ablation_Matsushita_abl7con1_AAAGATGCAATGTAAG-1_2-0-2</th>\n",
       "      <td>Steady</td>\n",
       "      <td>Steady</td>\n",
       "      <td>Steady</td>\n",
       "      <td>Steady</td>\n",
       "      <td>Steady</td>\n",
       "      <td>Development</td>\n",
       "      <td>Development</td>\n",
       "      <td>Development</td>\n",
       "      <td>Steady</td>\n",
       "      <td>Steady</td>\n",
       "    </tr>\n",
       "    <tr>\n",
       "      <th>Ablation_Matsushita_abl7con1_AAAGATGGTCGATTGT-1_2-0-2</th>\n",
       "      <td>Steady</td>\n",
       "      <td>Steady</td>\n",
       "      <td>Steady</td>\n",
       "      <td>Steady</td>\n",
       "      <td>Steady</td>\n",
       "      <td>Development</td>\n",
       "      <td>Development</td>\n",
       "      <td>Development</td>\n",
       "      <td>Steady</td>\n",
       "      <td>Steady</td>\n",
       "    </tr>\n",
       "    <tr>\n",
       "      <th>...</th>\n",
       "      <td>...</td>\n",
       "      <td>...</td>\n",
       "      <td>...</td>\n",
       "      <td>...</td>\n",
       "      <td>...</td>\n",
       "      <td>...</td>\n",
       "      <td>...</td>\n",
       "      <td>...</td>\n",
       "      <td>...</td>\n",
       "      <td>...</td>\n",
       "    </tr>\n",
       "    <tr>\n",
       "      <th>TTTCGATTCCTCTAAT-1_5-1-2</th>\n",
       "      <td>Steady</td>\n",
       "      <td>Steady</td>\n",
       "      <td>Steady</td>\n",
       "      <td>Development</td>\n",
       "      <td>Development</td>\n",
       "      <td>Steady</td>\n",
       "      <td>Development</td>\n",
       "      <td>Development</td>\n",
       "      <td>Steady</td>\n",
       "      <td>Development</td>\n",
       "    </tr>\n",
       "    <tr>\n",
       "      <th>TTTCGATTCTGGTGCG-1_5-1-2</th>\n",
       "      <td>Steady</td>\n",
       "      <td>Steady</td>\n",
       "      <td>Steady</td>\n",
       "      <td>Development</td>\n",
       "      <td>Development</td>\n",
       "      <td>Steady</td>\n",
       "      <td>Development</td>\n",
       "      <td>Development</td>\n",
       "      <td>Steady</td>\n",
       "      <td>Development</td>\n",
       "    </tr>\n",
       "    <tr>\n",
       "      <th>TTTGACTGTATTTCCT-1_5-1-2</th>\n",
       "      <td>Steady</td>\n",
       "      <td>Steady</td>\n",
       "      <td>Steady</td>\n",
       "      <td>Development</td>\n",
       "      <td>Development</td>\n",
       "      <td>Steady</td>\n",
       "      <td>Development</td>\n",
       "      <td>Development</td>\n",
       "      <td>Steady</td>\n",
       "      <td>Development</td>\n",
       "    </tr>\n",
       "    <tr>\n",
       "      <th>TTTGGAGCAGCGACAA-1_5-1-2</th>\n",
       "      <td>Steady</td>\n",
       "      <td>Steady</td>\n",
       "      <td>Steady</td>\n",
       "      <td>Development</td>\n",
       "      <td>Development</td>\n",
       "      <td>Steady</td>\n",
       "      <td>Development</td>\n",
       "      <td>Development</td>\n",
       "      <td>Steady</td>\n",
       "      <td>Development</td>\n",
       "    </tr>\n",
       "    <tr>\n",
       "      <th>TTTGGTTCACTACTTT-1_5-1-2</th>\n",
       "      <td>Steady</td>\n",
       "      <td>Steady</td>\n",
       "      <td>Steady</td>\n",
       "      <td>Development</td>\n",
       "      <td>Development</td>\n",
       "      <td>Steady</td>\n",
       "      <td>Development</td>\n",
       "      <td>Development</td>\n",
       "      <td>Steady</td>\n",
       "      <td>Development</td>\n",
       "    </tr>\n",
       "  </tbody>\n",
       "</table>\n",
       "<p>64107 rows × 10 columns</p>\n",
       "</div>"
      ],
      "text/plain": [
       "                                                        V1      V2      V3  \\\n",
       "Ablation_Matsushita_abl7con1_AAACCTGCAAAGGCGT-1...  Steady  Steady  Steady   \n",
       "Ablation_Matsushita_abl7con1_AAACGGGGTGTTCGAT-1...  Steady  Steady  Steady   \n",
       "Ablation_Matsushita_abl7con1_AAACGGGTCGCCTGTT-1...  Steady  Steady  Steady   \n",
       "Ablation_Matsushita_abl7con1_AAAGATGCAATGTAAG-1...  Steady  Steady  Steady   \n",
       "Ablation_Matsushita_abl7con1_AAAGATGGTCGATTGT-1...  Steady  Steady  Steady   \n",
       "...                                                    ...     ...     ...   \n",
       "TTTCGATTCCTCTAAT-1_5-1-2                            Steady  Steady  Steady   \n",
       "TTTCGATTCTGGTGCG-1_5-1-2                            Steady  Steady  Steady   \n",
       "TTTGACTGTATTTCCT-1_5-1-2                            Steady  Steady  Steady   \n",
       "TTTGGAGCAGCGACAA-1_5-1-2                            Steady  Steady  Steady   \n",
       "TTTGGTTCACTACTTT-1_5-1-2                            Steady  Steady  Steady   \n",
       "\n",
       "                                                             V4           V5  \\\n",
       "Ablation_Matsushita_abl7con1_AAACCTGCAAAGGCGT-1...       Steady       Steady   \n",
       "Ablation_Matsushita_abl7con1_AAACGGGGTGTTCGAT-1...       Steady       Steady   \n",
       "Ablation_Matsushita_abl7con1_AAACGGGTCGCCTGTT-1...       Steady       Steady   \n",
       "Ablation_Matsushita_abl7con1_AAAGATGCAATGTAAG-1...       Steady       Steady   \n",
       "Ablation_Matsushita_abl7con1_AAAGATGGTCGATTGT-1...       Steady       Steady   \n",
       "...                                                         ...          ...   \n",
       "TTTCGATTCCTCTAAT-1_5-1-2                            Development  Development   \n",
       "TTTCGATTCTGGTGCG-1_5-1-2                            Development  Development   \n",
       "TTTGACTGTATTTCCT-1_5-1-2                            Development  Development   \n",
       "TTTGGAGCAGCGACAA-1_5-1-2                            Development  Development   \n",
       "TTTGGTTCACTACTTT-1_5-1-2                            Development  Development   \n",
       "\n",
       "                                                             V6           V7  \\\n",
       "Ablation_Matsushita_abl7con1_AAACCTGCAAAGGCGT-1...  Development  Development   \n",
       "Ablation_Matsushita_abl7con1_AAACGGGGTGTTCGAT-1...  Development  Development   \n",
       "Ablation_Matsushita_abl7con1_AAACGGGTCGCCTGTT-1...  Development  Development   \n",
       "Ablation_Matsushita_abl7con1_AAAGATGCAATGTAAG-1...  Development  Development   \n",
       "Ablation_Matsushita_abl7con1_AAAGATGGTCGATTGT-1...  Development  Development   \n",
       "...                                                         ...          ...   \n",
       "TTTCGATTCCTCTAAT-1_5-1-2                                 Steady  Development   \n",
       "TTTCGATTCTGGTGCG-1_5-1-2                                 Steady  Development   \n",
       "TTTGACTGTATTTCCT-1_5-1-2                                 Steady  Development   \n",
       "TTTGGAGCAGCGACAA-1_5-1-2                                 Steady  Development   \n",
       "TTTGGTTCACTACTTT-1_5-1-2                                 Steady  Development   \n",
       "\n",
       "                                                             V8      V9  \\\n",
       "Ablation_Matsushita_abl7con1_AAACCTGCAAAGGCGT-1...  Development  Steady   \n",
       "Ablation_Matsushita_abl7con1_AAACGGGGTGTTCGAT-1...  Development  Steady   \n",
       "Ablation_Matsushita_abl7con1_AAACGGGTCGCCTGTT-1...  Development  Steady   \n",
       "Ablation_Matsushita_abl7con1_AAAGATGCAATGTAAG-1...  Development  Steady   \n",
       "Ablation_Matsushita_abl7con1_AAAGATGGTCGATTGT-1...  Development  Steady   \n",
       "...                                                         ...     ...   \n",
       "TTTCGATTCCTCTAAT-1_5-1-2                            Development  Steady   \n",
       "TTTCGATTCTGGTGCG-1_5-1-2                            Development  Steady   \n",
       "TTTGACTGTATTTCCT-1_5-1-2                            Development  Steady   \n",
       "TTTGGAGCAGCGACAA-1_5-1-2                            Development  Steady   \n",
       "TTTGGTTCACTACTTT-1_5-1-2                            Development  Steady   \n",
       "\n",
       "                                                            V10  \n",
       "Ablation_Matsushita_abl7con1_AAACCTGCAAAGGCGT-1...       Steady  \n",
       "Ablation_Matsushita_abl7con1_AAACGGGGTGTTCGAT-1...       Steady  \n",
       "Ablation_Matsushita_abl7con1_AAACGGGTCGCCTGTT-1...       Steady  \n",
       "Ablation_Matsushita_abl7con1_AAAGATGCAATGTAAG-1...       Steady  \n",
       "Ablation_Matsushita_abl7con1_AAAGATGGTCGATTGT-1...       Steady  \n",
       "...                                                         ...  \n",
       "TTTCGATTCCTCTAAT-1_5-1-2                            Development  \n",
       "TTTCGATTCTGGTGCG-1_5-1-2                            Development  \n",
       "TTTGACTGTATTTCCT-1_5-1-2                            Development  \n",
       "TTTGGAGCAGCGACAA-1_5-1-2                            Development  \n",
       "TTTGGTTCACTACTTT-1_5-1-2                            Development  \n",
       "\n",
       "[64107 rows x 10 columns]"
      ]
     },
     "execution_count": 1380,
     "metadata": {},
     "output_type": "execute_result"
    }
   ],
   "source": [
    "condition_shuffle"
   ]
  },
  {
   "cell_type": "code",
   "execution_count": 1294,
   "id": "b1e61a50-284b-4c69-ae28-7fb75f529255",
   "metadata": {},
   "outputs": [],
   "source": [
    "null_bk_2=null_bk_1[condition_shuffle.index]"
   ]
  },
  {
   "cell_type": "code",
   "execution_count": 1379,
   "id": "518d3414-d783-44f2-8adb-8cdb50f08e40",
   "metadata": {},
   "outputs": [
    {
     "data": {
      "text/html": [
       "<div>\n",
       "<style scoped>\n",
       "    .dataframe tbody tr th:only-of-type {\n",
       "        vertical-align: middle;\n",
       "    }\n",
       "\n",
       "    .dataframe tbody tr th {\n",
       "        vertical-align: top;\n",
       "    }\n",
       "\n",
       "    .dataframe thead th {\n",
       "        text-align: right;\n",
       "    }\n",
       "</style>\n",
       "<table border=\"1\" class=\"dataframe\">\n",
       "  <thead>\n",
       "    <tr style=\"text-align: right;\">\n",
       "      <th></th>\n",
       "      <th>0</th>\n",
       "      <th>1</th>\n",
       "      <th>2</th>\n",
       "      <th>3</th>\n",
       "      <th>4</th>\n",
       "      <th>5</th>\n",
       "      <th>6</th>\n",
       "      <th>7</th>\n",
       "      <th>8</th>\n",
       "      <th>9</th>\n",
       "      <th>10</th>\n",
       "    </tr>\n",
       "  </thead>\n",
       "  <tbody>\n",
       "    <tr>\n",
       "      <th>BmscEndosteal_Ono_Prrx1creP21_CACAGATGTGCCCGTA-1_6-0-2</th>\n",
       "      <td>BmscEndosteal_Ono_Prrx1creP21_CACAGATGTGCCCGTA...</td>\n",
       "      <td>Septoclasts_Kishor_Longbone2_TCACTATGTGCTCTTC_...</td>\n",
       "      <td>BmscEndosteal_Ono_Fgfr3CEp53cHet_ATTCAGGTCCTAC...</td>\n",
       "      <td>BmscEndosteal_Ono_Prrx1creP21_TGCACGGGTCGAATTC...</td>\n",
       "      <td>BmscEndosteal_Ono_Prrx1creP21_TGCACGGGTCGAATTC...</td>\n",
       "      <td>BmscEndosteal_Ono_Prrx1creP21_TGCACGGGTCGAATTC...</td>\n",
       "      <td>Ablation_Matsushita_abl7con2_CTCATTACAGACGGAT-...</td>\n",
       "      <td>Ablation_Matsushita_abl7con2_CTCATTACAGACGGAT-...</td>\n",
       "      <td>Ablation_Matsushita_abl7con2_CTCATTACAGACGGAT-...</td>\n",
       "      <td>BmscEndosteal_Ono_Fgfr3CEp53cKO_AGACCCGTCTGACC...</td>\n",
       "      <td>BmscEndosteal_Ono_Fgfr3CEp53cKO_AGACCCGTCTGACC...</td>\n",
       "    </tr>\n",
       "    <tr>\n",
       "      <th>BmscEndosteal_Ono_Prrx1cre18M_ACTCCCAGTCTGTTAG-1_5-0-2</th>\n",
       "      <td>BmscEndosteal_Ono_Prrx1cre18M_ACTCCCAGTCTGTTAG...</td>\n",
       "      <td>Septoclasts_Kishor_Pdgfra_TAACGACGTAGTTAGA_3-0-2</td>\n",
       "      <td>Septoclasts_Kishor_Pdgfra_GTCTTTACATAATCCG_3-0-2</td>\n",
       "      <td>Bmsc2019_Regev_bm3_GCATGATTCGCTAGCG-1_3-0-2</td>\n",
       "      <td>Ablation_Matsushita_cxcl2_TGCGGGTGTCTGTCCT-1_7...</td>\n",
       "      <td>Ablation_Matsushita_cxcl2_TGCGGGTGTCTGTCCT-1_7...</td>\n",
       "      <td>BmscEndosteal_Ono_Prrx1cre18M_ACGTAGTCATCGATGT...</td>\n",
       "      <td>BmscEndosteal_Ono_Prrx1cre18M_ACGTAGTCATCGATGT...</td>\n",
       "      <td>BmscEndosteal_Ono_Prrx1cre18M_ACGTAGTCATCGATGT...</td>\n",
       "      <td>Ablation_Matsushita_abl7con2_CTCATTACAGACGGAT-...</td>\n",
       "      <td>BmscEndosteal_Ono_Fgfr3CEp53cKO_TGGTTAGCAAATTA...</td>\n",
       "    </tr>\n",
       "    <tr>\n",
       "      <th>BmscEndosteal_Ono_Fgfr3CEp53cHet_TCATACTAGCAATTCC-1_3-0-2</th>\n",
       "      <td>BmscEndosteal_Ono_Fgfr3CEp53cHet_TCATACTAGCAAT...</td>\n",
       "      <td>Septoclasts_Kishor_Pdgfra_GTCTTTACATAATCCG_3-0-2</td>\n",
       "      <td>PerichondrialP21_Matsushita_FR3CreCxcl12GfpP21...</td>\n",
       "      <td>Ablation_Matsushita_abl7con2_CTCATTACAGACGGAT-...</td>\n",
       "      <td>Bmsc2019_Regev_bm3_GCATGATTCGCTAGCG-1_3-0-2</td>\n",
       "      <td>Bmsc2019_Regev_bm3_GCATGATTCGCTAGCG-1_3-0-2</td>\n",
       "      <td>Septoclasts_Kishor_Longbone1_CAGAGCCAGACATCAA_...</td>\n",
       "      <td>Septoclasts_Kishor_Longbone1_CAGAGCCAGACATCAA_...</td>\n",
       "      <td>Septoclasts_Kishor_Longbone1_CAGAGCCAGACATCAA_...</td>\n",
       "      <td>BmscEndosteal_Ono_Prrx1cre18M_ACGTAGTCATCGATGT...</td>\n",
       "      <td>Ablation_Matsushita_abl7con2_CTCATTACAGACGGAT-...</td>\n",
       "    </tr>\n",
       "    <tr>\n",
       "      <th>Bmsc2019_Regev_samp1_baryawno:std1_CATATGGTCACAGGCC-0-2</th>\n",
       "      <td>Bmsc2019_Regev_samp1_baryawno:std1_CATATGGTCAC...</td>\n",
       "      <td>BmscEndosteal_Ono_Prrx1cre18M_TCACATTAGGTCATTC...</td>\n",
       "      <td>Ablation_Matsushita_abl7con2_CTCATTACAGACGGAT-...</td>\n",
       "      <td>BmscEndosteal_Ono_Prrx1creP21_GCATCGGAGGAAGTAG...</td>\n",
       "      <td>Bmsc2019_Regev_bm4_GCAAACTGTGCCTTGG-1_4-0-2</td>\n",
       "      <td>Bmsc2019_Regev_bm4_GCAAACTGTGCCTTGG-1_4-0-2</td>\n",
       "      <td>BmscEndosteal_Ono_Prrx1cre18M_GTCGTTCGTCCTTTGC...</td>\n",
       "      <td>BmscEndosteal_Ono_Prrx1cre18M_GTCGTTCGTCCTTTGC...</td>\n",
       "      <td>BmscEndosteal_Ono_Prrx1cre18M_GTCGTTCGTCCTTTGC...</td>\n",
       "      <td>Septoclasts_Kishor_Longbone1_CAGAGCCAGACATCAA_...</td>\n",
       "      <td>BmscEndosteal_Ono_Prrx1cre18M_ACGTAGTCATCGATGT...</td>\n",
       "    </tr>\n",
       "    <tr>\n",
       "      <th>BmscSpecification_Kishor_3_ATTCTACAGATCCTGT_3-0-2</th>\n",
       "      <td>BmscSpecification_Kishor_3_ATTCTACAGATCCTGT_3-0-2</td>\n",
       "      <td>CACTGGGTCACGGGAA-1_3-1-2</td>\n",
       "      <td>Bmsc2019_Regev_samp3_baryawno:std3_AAGTCTGGTAT...</td>\n",
       "      <td>Septoclasts_Kishor_Pdgfra_TATCTTGTCAGAGCGA_3-0-2</td>\n",
       "      <td>Ablation_Matsushita_abl7con2_CTCATTACAGACGGAT-...</td>\n",
       "      <td>BmscEndosteal_Ono_Fgfr3CEp53cHet_GGGAGATTCTTAG...</td>\n",
       "      <td>Septoclasts_Kishor_Pdgfra_CATCGCTCAGTGTATC_3-0-2</td>\n",
       "      <td>Septoclasts_Kishor_Pdgfra_CATCGCTCAGTGTATC_3-0-2</td>\n",
       "      <td>Septoclasts_Kishor_Pdgfra_CATCGCTCAGTGTATC_3-0-2</td>\n",
       "      <td>BmscEndosteal_Ono_Prrx1cre18M_GTCGTTCGTCCTTTGC...</td>\n",
       "      <td>Septoclasts_Kishor_Longbone1_CAGAGCCAGACATCAA_...</td>\n",
       "    </tr>\n",
       "    <tr>\n",
       "      <th>...</th>\n",
       "      <td>...</td>\n",
       "      <td>...</td>\n",
       "      <td>...</td>\n",
       "      <td>...</td>\n",
       "      <td>...</td>\n",
       "      <td>...</td>\n",
       "      <td>...</td>\n",
       "      <td>...</td>\n",
       "      <td>...</td>\n",
       "      <td>...</td>\n",
       "      <td>...</td>\n",
       "    </tr>\n",
       "    <tr>\n",
       "      <th>TAACTTCAGCGCACAA-1_3-1-2</th>\n",
       "      <td>TAACTTCAGCGCACAA-1_3-1-2</td>\n",
       "      <td>TAACTTCAGCGCACAA-1_3-1-2</td>\n",
       "      <td>TAACTTCAGCGCACAA-1_3-1-2</td>\n",
       "      <td>TAACTTCAGCGCACAA-1_3-1-2</td>\n",
       "      <td>TAACTTCAGCGCACAA-1_3-1-2</td>\n",
       "      <td>TAACTTCAGCGCACAA-1_3-1-2</td>\n",
       "      <td>TAACTTCAGCGCACAA-1_3-1-2</td>\n",
       "      <td>TAACTTCAGCGCACAA-1_3-1-2</td>\n",
       "      <td>TAACTTCAGCGCACAA-1_3-1-2</td>\n",
       "      <td>TAACTTCAGCGCACAA-1_3-1-2</td>\n",
       "      <td>Bmsc2019_Regev_samp6_baryawno:std8_ATTGGACGTTA...</td>\n",
       "    </tr>\n",
       "    <tr>\n",
       "      <th>PerichondrialP21_Matsushita_HesCreCxcl12GfpP21_GGGATGATCTTTACGT-1_2-0-2</th>\n",
       "      <td>PerichondrialP21_Matsushita_HesCreCxcl12GfpP21...</td>\n",
       "      <td>PerichondrialP21_Matsushita_HesCreCxcl12GfpP21...</td>\n",
       "      <td>PerichondrialP21_Matsushita_HesCreCxcl12GfpP21...</td>\n",
       "      <td>PerichondrialP21_Matsushita_HesCreCxcl12GfpP21...</td>\n",
       "      <td>PerichondrialP21_Matsushita_HesCreCxcl12GfpP21...</td>\n",
       "      <td>PerichondrialP21_Matsushita_HesCreCxcl12GfpP21...</td>\n",
       "      <td>PerichondrialP21_Matsushita_HesCreCxcl12GfpP21...</td>\n",
       "      <td>PerichondrialP21_Matsushita_HesCreCxcl12GfpP21...</td>\n",
       "      <td>PerichondrialP21_Matsushita_HesCreCxcl12GfpP21...</td>\n",
       "      <td>PerichondrialP21_Matsushita_HesCreCxcl12GfpP21...</td>\n",
       "      <td>BmscTime_Zhong_16M_CCGATCTGTCGAGTGA_4-0-2</td>\n",
       "    </tr>\n",
       "    <tr>\n",
       "      <th>Septoclasts_Kishor_Pdgfra_GACCAATCAGGAACCA_3-0-2</th>\n",
       "      <td>Septoclasts_Kishor_Pdgfra_GACCAATCAGGAACCA_3-0-2</td>\n",
       "      <td>Septoclasts_Kishor_Pdgfra_GACCAATCAGGAACCA_3-0-2</td>\n",
       "      <td>Septoclasts_Kishor_Pdgfra_GACCAATCAGGAACCA_3-0-2</td>\n",
       "      <td>Septoclasts_Kishor_Pdgfra_GACCAATCAGGAACCA_3-0-2</td>\n",
       "      <td>Septoclasts_Kishor_Pdgfra_GACCAATCAGGAACCA_3-0-2</td>\n",
       "      <td>Septoclasts_Kishor_Pdgfra_GACCAATCAGGAACCA_3-0-2</td>\n",
       "      <td>Septoclasts_Kishor_Pdgfra_GACCAATCAGGAACCA_3-0-2</td>\n",
       "      <td>Septoclasts_Kishor_Pdgfra_GACCAATCAGGAACCA_3-0-2</td>\n",
       "      <td>Septoclasts_Kishor_Pdgfra_GACCAATCAGGAACCA_3-0-2</td>\n",
       "      <td>Septoclasts_Kishor_Pdgfra_GACCAATCAGGAACCA_3-0-2</td>\n",
       "      <td>BmscEndosteal_Ono_Prrx1cre18M_ACAACCAGTAGTAAGT...</td>\n",
       "    </tr>\n",
       "    <tr>\n",
       "      <th>BmscTime_Zhong_16M_CCCGGAATCGAGTGGA_4-0-2</th>\n",
       "      <td>BmscTime_Zhong_16M_CCCGGAATCGAGTGGA_4-0-2</td>\n",
       "      <td>BmscTime_Zhong_16M_CCCGGAATCGAGTGGA_4-0-2</td>\n",
       "      <td>BmscTime_Zhong_16M_CCCGGAATCGAGTGGA_4-0-2</td>\n",
       "      <td>BmscTime_Zhong_16M_CCCGGAATCGAGTGGA_4-0-2</td>\n",
       "      <td>BmscTime_Zhong_16M_CCCGGAATCGAGTGGA_4-0-2</td>\n",
       "      <td>BmscTime_Zhong_16M_CCCGGAATCGAGTGGA_4-0-2</td>\n",
       "      <td>BmscTime_Zhong_16M_CCCGGAATCGAGTGGA_4-0-2</td>\n",
       "      <td>BmscTime_Zhong_16M_CCCGGAATCGAGTGGA_4-0-2</td>\n",
       "      <td>BmscTime_Zhong_16M_CCCGGAATCGAGTGGA_4-0-2</td>\n",
       "      <td>BmscTime_Zhong_16M_CCCGGAATCGAGTGGA_4-0-2</td>\n",
       "      <td>Bmsc2019_Regev_samp1_baryawno:std1_CCTATTATCAC...</td>\n",
       "    </tr>\n",
       "    <tr>\n",
       "      <th>BmscSpecification_Kishor_2_ACATACGCACTCGACG_2-0-2</th>\n",
       "      <td>BmscSpecification_Kishor_2_ACATACGCACTCGACG_2-0-2</td>\n",
       "      <td>BmscSpecification_Kishor_2_ACATACGCACTCGACG_2-0-2</td>\n",
       "      <td>BmscSpecification_Kishor_2_ACATACGCACTCGACG_2-0-2</td>\n",
       "      <td>BmscSpecification_Kishor_2_ACATACGCACTCGACG_2-0-2</td>\n",
       "      <td>BmscSpecification_Kishor_2_ACATACGCACTCGACG_2-0-2</td>\n",
       "      <td>BmscSpecification_Kishor_2_ACATACGCACTCGACG_2-0-2</td>\n",
       "      <td>BmscSpecification_Kishor_2_ACATACGCACTCGACG_2-0-2</td>\n",
       "      <td>BmscSpecification_Kishor_2_ACATACGCACTCGACG_2-0-2</td>\n",
       "      <td>BmscSpecification_Kishor_2_ACATACGCACTCGACG_2-0-2</td>\n",
       "      <td>BmscSpecification_Kishor_2_ACATACGCACTCGACG_2-0-2</td>\n",
       "      <td>Ablation_Matsushita_cxcl2_AGCTACACATGTTCGA-1_7...</td>\n",
       "    </tr>\n",
       "  </tbody>\n",
       "</table>\n",
       "<p>64107 rows × 11 columns</p>\n",
       "</div>"
      ],
      "text/plain": [
       "                                                                                                    0  \\\n",
       "BmscEndosteal_Ono_Prrx1creP21_CACAGATGTGCCCGTA-...  BmscEndosteal_Ono_Prrx1creP21_CACAGATGTGCCCGTA...   \n",
       "BmscEndosteal_Ono_Prrx1cre18M_ACTCCCAGTCTGTTAG-...  BmscEndosteal_Ono_Prrx1cre18M_ACTCCCAGTCTGTTAG...   \n",
       "BmscEndosteal_Ono_Fgfr3CEp53cHet_TCATACTAGCAATT...  BmscEndosteal_Ono_Fgfr3CEp53cHet_TCATACTAGCAAT...   \n",
       "Bmsc2019_Regev_samp1_baryawno:std1_CATATGGTCACA...  Bmsc2019_Regev_samp1_baryawno:std1_CATATGGTCAC...   \n",
       "BmscSpecification_Kishor_3_ATTCTACAGATCCTGT_3-0-2   BmscSpecification_Kishor_3_ATTCTACAGATCCTGT_3-0-2   \n",
       "...                                                                                               ...   \n",
       "TAACTTCAGCGCACAA-1_3-1-2                                                     TAACTTCAGCGCACAA-1_3-1-2   \n",
       "PerichondrialP21_Matsushita_HesCreCxcl12GfpP21_...  PerichondrialP21_Matsushita_HesCreCxcl12GfpP21...   \n",
       "Septoclasts_Kishor_Pdgfra_GACCAATCAGGAACCA_3-0-2     Septoclasts_Kishor_Pdgfra_GACCAATCAGGAACCA_3-0-2   \n",
       "BmscTime_Zhong_16M_CCCGGAATCGAGTGGA_4-0-2                   BmscTime_Zhong_16M_CCCGGAATCGAGTGGA_4-0-2   \n",
       "BmscSpecification_Kishor_2_ACATACGCACTCGACG_2-0-2   BmscSpecification_Kishor_2_ACATACGCACTCGACG_2-0-2   \n",
       "\n",
       "                                                                                                    1  \\\n",
       "BmscEndosteal_Ono_Prrx1creP21_CACAGATGTGCCCGTA-...  Septoclasts_Kishor_Longbone2_TCACTATGTGCTCTTC_...   \n",
       "BmscEndosteal_Ono_Prrx1cre18M_ACTCCCAGTCTGTTAG-...   Septoclasts_Kishor_Pdgfra_TAACGACGTAGTTAGA_3-0-2   \n",
       "BmscEndosteal_Ono_Fgfr3CEp53cHet_TCATACTAGCAATT...   Septoclasts_Kishor_Pdgfra_GTCTTTACATAATCCG_3-0-2   \n",
       "Bmsc2019_Regev_samp1_baryawno:std1_CATATGGTCACA...  BmscEndosteal_Ono_Prrx1cre18M_TCACATTAGGTCATTC...   \n",
       "BmscSpecification_Kishor_3_ATTCTACAGATCCTGT_3-0-2                            CACTGGGTCACGGGAA-1_3-1-2   \n",
       "...                                                                                               ...   \n",
       "TAACTTCAGCGCACAA-1_3-1-2                                                     TAACTTCAGCGCACAA-1_3-1-2   \n",
       "PerichondrialP21_Matsushita_HesCreCxcl12GfpP21_...  PerichondrialP21_Matsushita_HesCreCxcl12GfpP21...   \n",
       "Septoclasts_Kishor_Pdgfra_GACCAATCAGGAACCA_3-0-2     Septoclasts_Kishor_Pdgfra_GACCAATCAGGAACCA_3-0-2   \n",
       "BmscTime_Zhong_16M_CCCGGAATCGAGTGGA_4-0-2                   BmscTime_Zhong_16M_CCCGGAATCGAGTGGA_4-0-2   \n",
       "BmscSpecification_Kishor_2_ACATACGCACTCGACG_2-0-2   BmscSpecification_Kishor_2_ACATACGCACTCGACG_2-0-2   \n",
       "\n",
       "                                                                                                    2  \\\n",
       "BmscEndosteal_Ono_Prrx1creP21_CACAGATGTGCCCGTA-...  BmscEndosteal_Ono_Fgfr3CEp53cHet_ATTCAGGTCCTAC...   \n",
       "BmscEndosteal_Ono_Prrx1cre18M_ACTCCCAGTCTGTTAG-...   Septoclasts_Kishor_Pdgfra_GTCTTTACATAATCCG_3-0-2   \n",
       "BmscEndosteal_Ono_Fgfr3CEp53cHet_TCATACTAGCAATT...  PerichondrialP21_Matsushita_FR3CreCxcl12GfpP21...   \n",
       "Bmsc2019_Regev_samp1_baryawno:std1_CATATGGTCACA...  Ablation_Matsushita_abl7con2_CTCATTACAGACGGAT-...   \n",
       "BmscSpecification_Kishor_3_ATTCTACAGATCCTGT_3-0-2   Bmsc2019_Regev_samp3_baryawno:std3_AAGTCTGGTAT...   \n",
       "...                                                                                               ...   \n",
       "TAACTTCAGCGCACAA-1_3-1-2                                                     TAACTTCAGCGCACAA-1_3-1-2   \n",
       "PerichondrialP21_Matsushita_HesCreCxcl12GfpP21_...  PerichondrialP21_Matsushita_HesCreCxcl12GfpP21...   \n",
       "Septoclasts_Kishor_Pdgfra_GACCAATCAGGAACCA_3-0-2     Septoclasts_Kishor_Pdgfra_GACCAATCAGGAACCA_3-0-2   \n",
       "BmscTime_Zhong_16M_CCCGGAATCGAGTGGA_4-0-2                   BmscTime_Zhong_16M_CCCGGAATCGAGTGGA_4-0-2   \n",
       "BmscSpecification_Kishor_2_ACATACGCACTCGACG_2-0-2   BmscSpecification_Kishor_2_ACATACGCACTCGACG_2-0-2   \n",
       "\n",
       "                                                                                                    3  \\\n",
       "BmscEndosteal_Ono_Prrx1creP21_CACAGATGTGCCCGTA-...  BmscEndosteal_Ono_Prrx1creP21_TGCACGGGTCGAATTC...   \n",
       "BmscEndosteal_Ono_Prrx1cre18M_ACTCCCAGTCTGTTAG-...        Bmsc2019_Regev_bm3_GCATGATTCGCTAGCG-1_3-0-2   \n",
       "BmscEndosteal_Ono_Fgfr3CEp53cHet_TCATACTAGCAATT...  Ablation_Matsushita_abl7con2_CTCATTACAGACGGAT-...   \n",
       "Bmsc2019_Regev_samp1_baryawno:std1_CATATGGTCACA...  BmscEndosteal_Ono_Prrx1creP21_GCATCGGAGGAAGTAG...   \n",
       "BmscSpecification_Kishor_3_ATTCTACAGATCCTGT_3-0-2    Septoclasts_Kishor_Pdgfra_TATCTTGTCAGAGCGA_3-0-2   \n",
       "...                                                                                               ...   \n",
       "TAACTTCAGCGCACAA-1_3-1-2                                                     TAACTTCAGCGCACAA-1_3-1-2   \n",
       "PerichondrialP21_Matsushita_HesCreCxcl12GfpP21_...  PerichondrialP21_Matsushita_HesCreCxcl12GfpP21...   \n",
       "Septoclasts_Kishor_Pdgfra_GACCAATCAGGAACCA_3-0-2     Septoclasts_Kishor_Pdgfra_GACCAATCAGGAACCA_3-0-2   \n",
       "BmscTime_Zhong_16M_CCCGGAATCGAGTGGA_4-0-2                   BmscTime_Zhong_16M_CCCGGAATCGAGTGGA_4-0-2   \n",
       "BmscSpecification_Kishor_2_ACATACGCACTCGACG_2-0-2   BmscSpecification_Kishor_2_ACATACGCACTCGACG_2-0-2   \n",
       "\n",
       "                                                                                                    4  \\\n",
       "BmscEndosteal_Ono_Prrx1creP21_CACAGATGTGCCCGTA-...  BmscEndosteal_Ono_Prrx1creP21_TGCACGGGTCGAATTC...   \n",
       "BmscEndosteal_Ono_Prrx1cre18M_ACTCCCAGTCTGTTAG-...  Ablation_Matsushita_cxcl2_TGCGGGTGTCTGTCCT-1_7...   \n",
       "BmscEndosteal_Ono_Fgfr3CEp53cHet_TCATACTAGCAATT...        Bmsc2019_Regev_bm3_GCATGATTCGCTAGCG-1_3-0-2   \n",
       "Bmsc2019_Regev_samp1_baryawno:std1_CATATGGTCACA...        Bmsc2019_Regev_bm4_GCAAACTGTGCCTTGG-1_4-0-2   \n",
       "BmscSpecification_Kishor_3_ATTCTACAGATCCTGT_3-0-2   Ablation_Matsushita_abl7con2_CTCATTACAGACGGAT-...   \n",
       "...                                                                                               ...   \n",
       "TAACTTCAGCGCACAA-1_3-1-2                                                     TAACTTCAGCGCACAA-1_3-1-2   \n",
       "PerichondrialP21_Matsushita_HesCreCxcl12GfpP21_...  PerichondrialP21_Matsushita_HesCreCxcl12GfpP21...   \n",
       "Septoclasts_Kishor_Pdgfra_GACCAATCAGGAACCA_3-0-2     Septoclasts_Kishor_Pdgfra_GACCAATCAGGAACCA_3-0-2   \n",
       "BmscTime_Zhong_16M_CCCGGAATCGAGTGGA_4-0-2                   BmscTime_Zhong_16M_CCCGGAATCGAGTGGA_4-0-2   \n",
       "BmscSpecification_Kishor_2_ACATACGCACTCGACG_2-0-2   BmscSpecification_Kishor_2_ACATACGCACTCGACG_2-0-2   \n",
       "\n",
       "                                                                                                    5  \\\n",
       "BmscEndosteal_Ono_Prrx1creP21_CACAGATGTGCCCGTA-...  BmscEndosteal_Ono_Prrx1creP21_TGCACGGGTCGAATTC...   \n",
       "BmscEndosteal_Ono_Prrx1cre18M_ACTCCCAGTCTGTTAG-...  Ablation_Matsushita_cxcl2_TGCGGGTGTCTGTCCT-1_7...   \n",
       "BmscEndosteal_Ono_Fgfr3CEp53cHet_TCATACTAGCAATT...        Bmsc2019_Regev_bm3_GCATGATTCGCTAGCG-1_3-0-2   \n",
       "Bmsc2019_Regev_samp1_baryawno:std1_CATATGGTCACA...        Bmsc2019_Regev_bm4_GCAAACTGTGCCTTGG-1_4-0-2   \n",
       "BmscSpecification_Kishor_3_ATTCTACAGATCCTGT_3-0-2   BmscEndosteal_Ono_Fgfr3CEp53cHet_GGGAGATTCTTAG...   \n",
       "...                                                                                               ...   \n",
       "TAACTTCAGCGCACAA-1_3-1-2                                                     TAACTTCAGCGCACAA-1_3-1-2   \n",
       "PerichondrialP21_Matsushita_HesCreCxcl12GfpP21_...  PerichondrialP21_Matsushita_HesCreCxcl12GfpP21...   \n",
       "Septoclasts_Kishor_Pdgfra_GACCAATCAGGAACCA_3-0-2     Septoclasts_Kishor_Pdgfra_GACCAATCAGGAACCA_3-0-2   \n",
       "BmscTime_Zhong_16M_CCCGGAATCGAGTGGA_4-0-2                   BmscTime_Zhong_16M_CCCGGAATCGAGTGGA_4-0-2   \n",
       "BmscSpecification_Kishor_2_ACATACGCACTCGACG_2-0-2   BmscSpecification_Kishor_2_ACATACGCACTCGACG_2-0-2   \n",
       "\n",
       "                                                                                                    6  \\\n",
       "BmscEndosteal_Ono_Prrx1creP21_CACAGATGTGCCCGTA-...  Ablation_Matsushita_abl7con2_CTCATTACAGACGGAT-...   \n",
       "BmscEndosteal_Ono_Prrx1cre18M_ACTCCCAGTCTGTTAG-...  BmscEndosteal_Ono_Prrx1cre18M_ACGTAGTCATCGATGT...   \n",
       "BmscEndosteal_Ono_Fgfr3CEp53cHet_TCATACTAGCAATT...  Septoclasts_Kishor_Longbone1_CAGAGCCAGACATCAA_...   \n",
       "Bmsc2019_Regev_samp1_baryawno:std1_CATATGGTCACA...  BmscEndosteal_Ono_Prrx1cre18M_GTCGTTCGTCCTTTGC...   \n",
       "BmscSpecification_Kishor_3_ATTCTACAGATCCTGT_3-0-2    Septoclasts_Kishor_Pdgfra_CATCGCTCAGTGTATC_3-0-2   \n",
       "...                                                                                               ...   \n",
       "TAACTTCAGCGCACAA-1_3-1-2                                                     TAACTTCAGCGCACAA-1_3-1-2   \n",
       "PerichondrialP21_Matsushita_HesCreCxcl12GfpP21_...  PerichondrialP21_Matsushita_HesCreCxcl12GfpP21...   \n",
       "Septoclasts_Kishor_Pdgfra_GACCAATCAGGAACCA_3-0-2     Septoclasts_Kishor_Pdgfra_GACCAATCAGGAACCA_3-0-2   \n",
       "BmscTime_Zhong_16M_CCCGGAATCGAGTGGA_4-0-2                   BmscTime_Zhong_16M_CCCGGAATCGAGTGGA_4-0-2   \n",
       "BmscSpecification_Kishor_2_ACATACGCACTCGACG_2-0-2   BmscSpecification_Kishor_2_ACATACGCACTCGACG_2-0-2   \n",
       "\n",
       "                                                                                                    7  \\\n",
       "BmscEndosteal_Ono_Prrx1creP21_CACAGATGTGCCCGTA-...  Ablation_Matsushita_abl7con2_CTCATTACAGACGGAT-...   \n",
       "BmscEndosteal_Ono_Prrx1cre18M_ACTCCCAGTCTGTTAG-...  BmscEndosteal_Ono_Prrx1cre18M_ACGTAGTCATCGATGT...   \n",
       "BmscEndosteal_Ono_Fgfr3CEp53cHet_TCATACTAGCAATT...  Septoclasts_Kishor_Longbone1_CAGAGCCAGACATCAA_...   \n",
       "Bmsc2019_Regev_samp1_baryawno:std1_CATATGGTCACA...  BmscEndosteal_Ono_Prrx1cre18M_GTCGTTCGTCCTTTGC...   \n",
       "BmscSpecification_Kishor_3_ATTCTACAGATCCTGT_3-0-2    Septoclasts_Kishor_Pdgfra_CATCGCTCAGTGTATC_3-0-2   \n",
       "...                                                                                               ...   \n",
       "TAACTTCAGCGCACAA-1_3-1-2                                                     TAACTTCAGCGCACAA-1_3-1-2   \n",
       "PerichondrialP21_Matsushita_HesCreCxcl12GfpP21_...  PerichondrialP21_Matsushita_HesCreCxcl12GfpP21...   \n",
       "Septoclasts_Kishor_Pdgfra_GACCAATCAGGAACCA_3-0-2     Septoclasts_Kishor_Pdgfra_GACCAATCAGGAACCA_3-0-2   \n",
       "BmscTime_Zhong_16M_CCCGGAATCGAGTGGA_4-0-2                   BmscTime_Zhong_16M_CCCGGAATCGAGTGGA_4-0-2   \n",
       "BmscSpecification_Kishor_2_ACATACGCACTCGACG_2-0-2   BmscSpecification_Kishor_2_ACATACGCACTCGACG_2-0-2   \n",
       "\n",
       "                                                                                                    8  \\\n",
       "BmscEndosteal_Ono_Prrx1creP21_CACAGATGTGCCCGTA-...  Ablation_Matsushita_abl7con2_CTCATTACAGACGGAT-...   \n",
       "BmscEndosteal_Ono_Prrx1cre18M_ACTCCCAGTCTGTTAG-...  BmscEndosteal_Ono_Prrx1cre18M_ACGTAGTCATCGATGT...   \n",
       "BmscEndosteal_Ono_Fgfr3CEp53cHet_TCATACTAGCAATT...  Septoclasts_Kishor_Longbone1_CAGAGCCAGACATCAA_...   \n",
       "Bmsc2019_Regev_samp1_baryawno:std1_CATATGGTCACA...  BmscEndosteal_Ono_Prrx1cre18M_GTCGTTCGTCCTTTGC...   \n",
       "BmscSpecification_Kishor_3_ATTCTACAGATCCTGT_3-0-2    Septoclasts_Kishor_Pdgfra_CATCGCTCAGTGTATC_3-0-2   \n",
       "...                                                                                               ...   \n",
       "TAACTTCAGCGCACAA-1_3-1-2                                                     TAACTTCAGCGCACAA-1_3-1-2   \n",
       "PerichondrialP21_Matsushita_HesCreCxcl12GfpP21_...  PerichondrialP21_Matsushita_HesCreCxcl12GfpP21...   \n",
       "Septoclasts_Kishor_Pdgfra_GACCAATCAGGAACCA_3-0-2     Septoclasts_Kishor_Pdgfra_GACCAATCAGGAACCA_3-0-2   \n",
       "BmscTime_Zhong_16M_CCCGGAATCGAGTGGA_4-0-2                   BmscTime_Zhong_16M_CCCGGAATCGAGTGGA_4-0-2   \n",
       "BmscSpecification_Kishor_2_ACATACGCACTCGACG_2-0-2   BmscSpecification_Kishor_2_ACATACGCACTCGACG_2-0-2   \n",
       "\n",
       "                                                                                                    9  \\\n",
       "BmscEndosteal_Ono_Prrx1creP21_CACAGATGTGCCCGTA-...  BmscEndosteal_Ono_Fgfr3CEp53cKO_AGACCCGTCTGACC...   \n",
       "BmscEndosteal_Ono_Prrx1cre18M_ACTCCCAGTCTGTTAG-...  Ablation_Matsushita_abl7con2_CTCATTACAGACGGAT-...   \n",
       "BmscEndosteal_Ono_Fgfr3CEp53cHet_TCATACTAGCAATT...  BmscEndosteal_Ono_Prrx1cre18M_ACGTAGTCATCGATGT...   \n",
       "Bmsc2019_Regev_samp1_baryawno:std1_CATATGGTCACA...  Septoclasts_Kishor_Longbone1_CAGAGCCAGACATCAA_...   \n",
       "BmscSpecification_Kishor_3_ATTCTACAGATCCTGT_3-0-2   BmscEndosteal_Ono_Prrx1cre18M_GTCGTTCGTCCTTTGC...   \n",
       "...                                                                                               ...   \n",
       "TAACTTCAGCGCACAA-1_3-1-2                                                     TAACTTCAGCGCACAA-1_3-1-2   \n",
       "PerichondrialP21_Matsushita_HesCreCxcl12GfpP21_...  PerichondrialP21_Matsushita_HesCreCxcl12GfpP21...   \n",
       "Septoclasts_Kishor_Pdgfra_GACCAATCAGGAACCA_3-0-2     Septoclasts_Kishor_Pdgfra_GACCAATCAGGAACCA_3-0-2   \n",
       "BmscTime_Zhong_16M_CCCGGAATCGAGTGGA_4-0-2                   BmscTime_Zhong_16M_CCCGGAATCGAGTGGA_4-0-2   \n",
       "BmscSpecification_Kishor_2_ACATACGCACTCGACG_2-0-2   BmscSpecification_Kishor_2_ACATACGCACTCGACG_2-0-2   \n",
       "\n",
       "                                                                                                   10  \n",
       "BmscEndosteal_Ono_Prrx1creP21_CACAGATGTGCCCGTA-...  BmscEndosteal_Ono_Fgfr3CEp53cKO_AGACCCGTCTGACC...  \n",
       "BmscEndosteal_Ono_Prrx1cre18M_ACTCCCAGTCTGTTAG-...  BmscEndosteal_Ono_Fgfr3CEp53cKO_TGGTTAGCAAATTA...  \n",
       "BmscEndosteal_Ono_Fgfr3CEp53cHet_TCATACTAGCAATT...  Ablation_Matsushita_abl7con2_CTCATTACAGACGGAT-...  \n",
       "Bmsc2019_Regev_samp1_baryawno:std1_CATATGGTCACA...  BmscEndosteal_Ono_Prrx1cre18M_ACGTAGTCATCGATGT...  \n",
       "BmscSpecification_Kishor_3_ATTCTACAGATCCTGT_3-0-2   Septoclasts_Kishor_Longbone1_CAGAGCCAGACATCAA_...  \n",
       "...                                                                                               ...  \n",
       "TAACTTCAGCGCACAA-1_3-1-2                            Bmsc2019_Regev_samp6_baryawno:std8_ATTGGACGTTA...  \n",
       "PerichondrialP21_Matsushita_HesCreCxcl12GfpP21_...          BmscTime_Zhong_16M_CCGATCTGTCGAGTGA_4-0-2  \n",
       "Septoclasts_Kishor_Pdgfra_GACCAATCAGGAACCA_3-0-2    BmscEndosteal_Ono_Prrx1cre18M_ACAACCAGTAGTAAGT...  \n",
       "BmscTime_Zhong_16M_CCCGGAATCGAGTGGA_4-0-2           Bmsc2019_Regev_samp1_baryawno:std1_CCTATTATCAC...  \n",
       "BmscSpecification_Kishor_2_ACATACGCACTCGACG_2-0-2   Ablation_Matsushita_cxcl2_AGCTACACATGTTCGA-1_7...  \n",
       "\n",
       "[64107 rows x 11 columns]"
      ]
     },
     "execution_count": 1379,
     "metadata": {},
     "output_type": "execute_result"
    }
   ],
   "source": [
    "pseudo_name"
   ]
  },
  {
   "cell_type": "code",
   "execution_count": 1381,
   "id": "54fbdb9b-1e9a-480d-b036-f4a63bfdcce8",
   "metadata": {},
   "outputs": [
    {
     "data": {
      "text/html": [
       "<pre style=\"white-space:pre;overflow-x:auto;line-height:normal;font-family:Menlo,'DejaVu Sans Mono',consolas,'Courier New',monospace\">working on <span style=\"color: #008080; text-decoration-color: #008080; font-weight: bold\">0</span> data\n",
       "</pre>\n"
      ],
      "text/plain": [
       "working on \u001b[1;36m0\u001b[0m data\n"
      ]
     },
     "metadata": {},
     "output_type": "display_data"
    },
    {
     "data": {
      "text/html": [
       "<pre style=\"white-space:pre;overflow-x:auto;line-height:normal;font-family:Menlo,'DejaVu Sans Mono',consolas,'Courier New',monospace\">Make differential_test<span style=\"color: #808000; text-decoration-color: #808000\">......</span>.\n",
       "</pre>\n"
      ],
      "text/plain": [
       "Make differential_test\u001b[33m...\u001b[0m\u001b[33m...\u001b[0m.\n"
      ]
     },
     "metadata": {},
     "output_type": "display_data"
    },
    {
     "data": {
      "text/html": [
       "<pre style=\"white-space:pre;overflow-x:auto;line-height:normal;font-family:Menlo,'DejaVu Sans Mono',consolas,'Courier New',monospace\">Make null datasets<span style=\"color: #808000; text-decoration-color: #808000\">......</span>.\n",
       "</pre>\n"
      ],
      "text/plain": [
       "Make null datasets\u001b[33m...\u001b[0m\u001b[33m...\u001b[0m.\n"
      ]
     },
     "metadata": {},
     "output_type": "display_data"
    },
    {
     "data": {
      "text/html": [
       "<pre style=\"white-space:pre;overflow-x:auto;line-height:normal;font-family:Menlo,'DejaVu Sans Mono',consolas,'Courier New',monospace\">working on <span style=\"color: #008080; text-decoration-color: #008080; font-weight: bold\">1</span> data\n",
       "</pre>\n"
      ],
      "text/plain": [
       "working on \u001b[1;36m1\u001b[0m data\n"
      ]
     },
     "metadata": {},
     "output_type": "display_data"
    },
    {
     "data": {
      "text/html": [
       "<pre style=\"white-space:pre;overflow-x:auto;line-height:normal;font-family:Menlo,'DejaVu Sans Mono',consolas,'Courier New',monospace\">Make differential_test<span style=\"color: #808000; text-decoration-color: #808000\">......</span>.\n",
       "</pre>\n"
      ],
      "text/plain": [
       "Make differential_test\u001b[33m...\u001b[0m\u001b[33m...\u001b[0m.\n"
      ]
     },
     "metadata": {},
     "output_type": "display_data"
    },
    {
     "data": {
      "text/html": [
       "<pre style=\"white-space:pre;overflow-x:auto;line-height:normal;font-family:Menlo,'DejaVu Sans Mono',consolas,'Courier New',monospace\">Make null datasets<span style=\"color: #808000; text-decoration-color: #808000\">......</span>.\n",
       "</pre>\n"
      ],
      "text/plain": [
       "Make null datasets\u001b[33m...\u001b[0m\u001b[33m...\u001b[0m.\n"
      ]
     },
     "metadata": {},
     "output_type": "display_data"
    },
    {
     "data": {
      "text/html": [
       "<pre style=\"white-space:pre;overflow-x:auto;line-height:normal;font-family:Menlo,'DejaVu Sans Mono',consolas,'Courier New',monospace\">working on <span style=\"color: #008080; text-decoration-color: #008080; font-weight: bold\">2</span> data\n",
       "</pre>\n"
      ],
      "text/plain": [
       "working on \u001b[1;36m2\u001b[0m data\n"
      ]
     },
     "metadata": {},
     "output_type": "display_data"
    },
    {
     "data": {
      "text/html": [
       "<pre style=\"white-space:pre;overflow-x:auto;line-height:normal;font-family:Menlo,'DejaVu Sans Mono',consolas,'Courier New',monospace\">Make differential_test<span style=\"color: #808000; text-decoration-color: #808000\">......</span>.\n",
       "</pre>\n"
      ],
      "text/plain": [
       "Make differential_test\u001b[33m...\u001b[0m\u001b[33m...\u001b[0m.\n"
      ]
     },
     "metadata": {},
     "output_type": "display_data"
    },
    {
     "data": {
      "text/html": [
       "<pre style=\"white-space:pre;overflow-x:auto;line-height:normal;font-family:Menlo,'DejaVu Sans Mono',consolas,'Courier New',monospace\">Make null datasets<span style=\"color: #808000; text-decoration-color: #808000\">......</span>.\n",
       "</pre>\n"
      ],
      "text/plain": [
       "Make null datasets\u001b[33m...\u001b[0m\u001b[33m...\u001b[0m.\n"
      ]
     },
     "metadata": {},
     "output_type": "display_data"
    },
    {
     "data": {
      "text/html": [
       "<pre style=\"white-space:pre;overflow-x:auto;line-height:normal;font-family:Menlo,'DejaVu Sans Mono',consolas,'Courier New',monospace\">working on <span style=\"color: #008080; text-decoration-color: #008080; font-weight: bold\">3</span> data\n",
       "</pre>\n"
      ],
      "text/plain": [
       "working on \u001b[1;36m3\u001b[0m data\n"
      ]
     },
     "metadata": {},
     "output_type": "display_data"
    },
    {
     "data": {
      "text/html": [
       "<pre style=\"white-space:pre;overflow-x:auto;line-height:normal;font-family:Menlo,'DejaVu Sans Mono',consolas,'Courier New',monospace\">Make differential_test<span style=\"color: #808000; text-decoration-color: #808000\">......</span>.\n",
       "</pre>\n"
      ],
      "text/plain": [
       "Make differential_test\u001b[33m...\u001b[0m\u001b[33m...\u001b[0m.\n"
      ]
     },
     "metadata": {},
     "output_type": "display_data"
    },
    {
     "data": {
      "text/html": [
       "<pre style=\"white-space:pre;overflow-x:auto;line-height:normal;font-family:Menlo,'DejaVu Sans Mono',consolas,'Courier New',monospace\">Make null datasets<span style=\"color: #808000; text-decoration-color: #808000\">......</span>.\n",
       "</pre>\n"
      ],
      "text/plain": [
       "Make null datasets\u001b[33m...\u001b[0m\u001b[33m...\u001b[0m.\n"
      ]
     },
     "metadata": {},
     "output_type": "display_data"
    },
    {
     "data": {
      "text/html": [
       "<pre style=\"white-space:pre;overflow-x:auto;line-height:normal;font-family:Menlo,'DejaVu Sans Mono',consolas,'Courier New',monospace\">working on <span style=\"color: #008080; text-decoration-color: #008080; font-weight: bold\">4</span> data\n",
       "</pre>\n"
      ],
      "text/plain": [
       "working on \u001b[1;36m4\u001b[0m data\n"
      ]
     },
     "metadata": {},
     "output_type": "display_data"
    },
    {
     "data": {
      "text/html": [
       "<pre style=\"white-space:pre;overflow-x:auto;line-height:normal;font-family:Menlo,'DejaVu Sans Mono',consolas,'Courier New',monospace\">Make differential_test<span style=\"color: #808000; text-decoration-color: #808000\">......</span>.\n",
       "</pre>\n"
      ],
      "text/plain": [
       "Make differential_test\u001b[33m...\u001b[0m\u001b[33m...\u001b[0m.\n"
      ]
     },
     "metadata": {},
     "output_type": "display_data"
    },
    {
     "data": {
      "text/html": [
       "<pre style=\"white-space:pre;overflow-x:auto;line-height:normal;font-family:Menlo,'DejaVu Sans Mono',consolas,'Courier New',monospace\">Make null datasets<span style=\"color: #808000; text-decoration-color: #808000\">......</span>.\n",
       "</pre>\n"
      ],
      "text/plain": [
       "Make null datasets\u001b[33m...\u001b[0m\u001b[33m...\u001b[0m.\n"
      ]
     },
     "metadata": {},
     "output_type": "display_data"
    },
    {
     "data": {
      "text/html": [
       "<pre style=\"white-space:pre;overflow-x:auto;line-height:normal;font-family:Menlo,'DejaVu Sans Mono',consolas,'Courier New',monospace\">working on <span style=\"color: #008080; text-decoration-color: #008080; font-weight: bold\">5</span> data\n",
       "</pre>\n"
      ],
      "text/plain": [
       "working on \u001b[1;36m5\u001b[0m data\n"
      ]
     },
     "metadata": {},
     "output_type": "display_data"
    },
    {
     "data": {
      "text/html": [
       "<pre style=\"white-space:pre;overflow-x:auto;line-height:normal;font-family:Menlo,'DejaVu Sans Mono',consolas,'Courier New',monospace\">Make differential_test<span style=\"color: #808000; text-decoration-color: #808000\">......</span>.\n",
       "</pre>\n"
      ],
      "text/plain": [
       "Make differential_test\u001b[33m...\u001b[0m\u001b[33m...\u001b[0m.\n"
      ]
     },
     "metadata": {},
     "output_type": "display_data"
    },
    {
     "data": {
      "text/html": [
       "<pre style=\"white-space:pre;overflow-x:auto;line-height:normal;font-family:Menlo,'DejaVu Sans Mono',consolas,'Courier New',monospace\">Make null datasets<span style=\"color: #808000; text-decoration-color: #808000\">......</span>.\n",
       "</pre>\n"
      ],
      "text/plain": [
       "Make null datasets\u001b[33m...\u001b[0m\u001b[33m...\u001b[0m.\n"
      ]
     },
     "metadata": {},
     "output_type": "display_data"
    },
    {
     "data": {
      "text/html": [
       "<pre style=\"white-space:pre;overflow-x:auto;line-height:normal;font-family:Menlo,'DejaVu Sans Mono',consolas,'Courier New',monospace\">working on <span style=\"color: #008080; text-decoration-color: #008080; font-weight: bold\">6</span> data\n",
       "</pre>\n"
      ],
      "text/plain": [
       "working on \u001b[1;36m6\u001b[0m data\n"
      ]
     },
     "metadata": {},
     "output_type": "display_data"
    },
    {
     "data": {
      "text/html": [
       "<pre style=\"white-space:pre;overflow-x:auto;line-height:normal;font-family:Menlo,'DejaVu Sans Mono',consolas,'Courier New',monospace\">Make differential_test<span style=\"color: #808000; text-decoration-color: #808000\">......</span>.\n",
       "</pre>\n"
      ],
      "text/plain": [
       "Make differential_test\u001b[33m...\u001b[0m\u001b[33m...\u001b[0m.\n"
      ]
     },
     "metadata": {},
     "output_type": "display_data"
    },
    {
     "data": {
      "text/html": [
       "<pre style=\"white-space:pre;overflow-x:auto;line-height:normal;font-family:Menlo,'DejaVu Sans Mono',consolas,'Courier New',monospace\">Make null datasets<span style=\"color: #808000; text-decoration-color: #808000\">......</span>.\n",
       "</pre>\n"
      ],
      "text/plain": [
       "Make null datasets\u001b[33m...\u001b[0m\u001b[33m...\u001b[0m.\n"
      ]
     },
     "metadata": {},
     "output_type": "display_data"
    },
    {
     "data": {
      "text/html": [
       "<pre style=\"white-space:pre;overflow-x:auto;line-height:normal;font-family:Menlo,'DejaVu Sans Mono',consolas,'Courier New',monospace\">working on <span style=\"color: #008080; text-decoration-color: #008080; font-weight: bold\">7</span> data\n",
       "</pre>\n"
      ],
      "text/plain": [
       "working on \u001b[1;36m7\u001b[0m data\n"
      ]
     },
     "metadata": {},
     "output_type": "display_data"
    },
    {
     "data": {
      "text/html": [
       "<pre style=\"white-space:pre;overflow-x:auto;line-height:normal;font-family:Menlo,'DejaVu Sans Mono',consolas,'Courier New',monospace\">Make differential_test<span style=\"color: #808000; text-decoration-color: #808000\">......</span>.\n",
       "</pre>\n"
      ],
      "text/plain": [
       "Make differential_test\u001b[33m...\u001b[0m\u001b[33m...\u001b[0m.\n"
      ]
     },
     "metadata": {},
     "output_type": "display_data"
    },
    {
     "data": {
      "text/html": [
       "<pre style=\"white-space:pre;overflow-x:auto;line-height:normal;font-family:Menlo,'DejaVu Sans Mono',consolas,'Courier New',monospace\">Make null datasets<span style=\"color: #808000; text-decoration-color: #808000\">......</span>.\n",
       "</pre>\n"
      ],
      "text/plain": [
       "Make null datasets\u001b[33m...\u001b[0m\u001b[33m...\u001b[0m.\n"
      ]
     },
     "metadata": {},
     "output_type": "display_data"
    },
    {
     "data": {
      "text/html": [
       "<pre style=\"white-space:pre;overflow-x:auto;line-height:normal;font-family:Menlo,'DejaVu Sans Mono',consolas,'Courier New',monospace\">working on <span style=\"color: #008080; text-decoration-color: #008080; font-weight: bold\">8</span> data\n",
       "</pre>\n"
      ],
      "text/plain": [
       "working on \u001b[1;36m8\u001b[0m data\n"
      ]
     },
     "metadata": {},
     "output_type": "display_data"
    },
    {
     "data": {
      "text/html": [
       "<pre style=\"white-space:pre;overflow-x:auto;line-height:normal;font-family:Menlo,'DejaVu Sans Mono',consolas,'Courier New',monospace\">Make differential_test<span style=\"color: #808000; text-decoration-color: #808000\">......</span>.\n",
       "</pre>\n"
      ],
      "text/plain": [
       "Make differential_test\u001b[33m...\u001b[0m\u001b[33m...\u001b[0m.\n"
      ]
     },
     "metadata": {},
     "output_type": "display_data"
    },
    {
     "data": {
      "text/html": [
       "<pre style=\"white-space:pre;overflow-x:auto;line-height:normal;font-family:Menlo,'DejaVu Sans Mono',consolas,'Courier New',monospace\">Make null datasets<span style=\"color: #808000; text-decoration-color: #808000\">......</span>.\n",
       "</pre>\n"
      ],
      "text/plain": [
       "Make null datasets\u001b[33m...\u001b[0m\u001b[33m...\u001b[0m.\n"
      ]
     },
     "metadata": {},
     "output_type": "display_data"
    },
    {
     "data": {
      "text/html": [
       "<pre style=\"white-space:pre;overflow-x:auto;line-height:normal;font-family:Menlo,'DejaVu Sans Mono',consolas,'Courier New',monospace\">working on <span style=\"color: #008080; text-decoration-color: #008080; font-weight: bold\">9</span> data\n",
       "</pre>\n"
      ],
      "text/plain": [
       "working on \u001b[1;36m9\u001b[0m data\n"
      ]
     },
     "metadata": {},
     "output_type": "display_data"
    },
    {
     "data": {
      "text/html": [
       "<pre style=\"white-space:pre;overflow-x:auto;line-height:normal;font-family:Menlo,'DejaVu Sans Mono',consolas,'Courier New',monospace\">Make differential_test<span style=\"color: #808000; text-decoration-color: #808000\">......</span>.\n",
       "</pre>\n"
      ],
      "text/plain": [
       "Make differential_test\u001b[33m...\u001b[0m\u001b[33m...\u001b[0m.\n"
      ]
     },
     "metadata": {},
     "output_type": "display_data"
    },
    {
     "data": {
      "text/html": [
       "<pre style=\"white-space:pre;overflow-x:auto;line-height:normal;font-family:Menlo,'DejaVu Sans Mono',consolas,'Courier New',monospace\">Make null datasets<span style=\"color: #808000; text-decoration-color: #808000\">......</span>.\n",
       "</pre>\n"
      ],
      "text/plain": [
       "Make null datasets\u001b[33m...\u001b[0m\u001b[33m...\u001b[0m.\n"
      ]
     },
     "metadata": {},
     "output_type": "display_data"
    }
   ],
   "source": [
    "#== for shuffle purpose\n",
    "lenthDFDict4={}\n",
    "pValDict4={}\n",
    "varDict4={}\n",
    "for i in range(condition_shuffle.shape[1]):\n",
    "    print(f\"working on {i} data\")\n",
    "    null=null_bk_2.copy()\n",
    "    condition_loop=condition_shuffle.iloc[:,i]\n",
    "    null.obs[\"Stage\"]=condition_loop.values\n",
    "    nulldata = milo2.load(null)\n",
    "    nulldata = milo2.count_nhoods(nulldata, sample_col=\"Sample\")\n",
    "    print(\"Make differential_test.......\")\n",
    "    milo2.da_nhoods(nulldata, design='~Stage',model_contrasts='StageDevelopment-StageSteady')\n",
    "    print(\"Make null datasets.......\")\n",
    "    milo2.make_null(nulldata, design='~Stage',model_contrasts='StageDevelopment-StageSteady',times=3,FDR=0.01)\n",
    "    milo2.make_range(nulldata,time_col=\"dpt_pred\",FDR=0.01)\n",
    "    lenDf_loop=milo2.permute_test_point(nulldata,n=100,include_null=True)\n",
    "    lenDf_loop=milo2.test_binom(lenDf_loop,times=3)\n",
    "    milo2.test_whole(nulldata)\n",
    "    lenthDFDict4[i]=lenDf_loop\n",
    "    varDict4[i]=nulldata[\"milo\"].var\n",
    "    pValDict4[i]=nulldata[\"milo\"].uns[\"overall_p_val\"]"
   ]
  },
  {
   "cell_type": "code",
   "execution_count": 1382,
   "id": "a82f374d-386d-4679-a54a-4ec1d3b1faff",
   "metadata": {},
   "outputs": [
    {
     "data": {
      "text/plain": [
       "{0: 0.022205363284210633,\n",
       " 1: 1,\n",
       " 2: 0.999999999999935,\n",
       " 3: 0.42704225496868853,\n",
       " 4: 0.9410812967358234,\n",
       " 5: 1,\n",
       " 6: 0.0,\n",
       " 7: 1,\n",
       " 8: 1,\n",
       " 9: 0.0}"
      ]
     },
     "execution_count": 1382,
     "metadata": {},
     "output_type": "execute_result"
    }
   ],
   "source": [
    "pValDict4"
   ]
  },
  {
   "cell_type": "code",
   "execution_count": 1383,
   "id": "27984c5d-edb7-40e3-9bfb-ccb91099e6e4",
   "metadata": {},
   "outputs": [
    {
     "data": {
      "text/plain": [
       "19"
      ]
     },
     "execution_count": 1383,
     "metadata": {},
     "output_type": "execute_result"
    }
   ],
   "source": [
    "sum(varDict4[2][\"SpatialFDR\"]<0.01)"
   ]
  },
  {
   "cell_type": "code",
   "execution_count": 1385,
   "id": "34453f9a-a513-49cc-95e5-22ae3751687b",
   "metadata": {},
   "outputs": [
    {
     "data": {
      "text/plain": [
       "67"
      ]
     },
     "execution_count": 1385,
     "metadata": {},
     "output_type": "execute_result"
    }
   ],
   "source": [
    "sum(varDict4[9][\"Accept\"])"
   ]
  },
  {
   "cell_type": "code",
   "execution_count": 1349,
   "id": "8e09948b-6100-4e96-b1be-f1e7d517c2a4",
   "metadata": {},
   "outputs": [
    {
     "data": {
      "text/plain": [
       "176"
      ]
     },
     "execution_count": 1349,
     "metadata": {},
     "output_type": "execute_result"
    }
   ],
   "source": [
    "sum(varDict4[6][\"SpatialFDR\"]<0.01)"
   ]
  },
  {
   "cell_type": "code",
   "execution_count": 1368,
   "id": "c5cc89e5-e282-4a72-ab6c-fc18076dcb21",
   "metadata": {},
   "outputs": [
    {
     "data": {
      "text/plain": [
       "176"
      ]
     },
     "execution_count": 1368,
     "metadata": {},
     "output_type": "execute_result"
    }
   ],
   "source": [
    "sum(varDict4[6][\"SpatialFDR\"]<0.01)"
   ]
  },
  {
   "cell_type": "code",
   "execution_count": 1366,
   "id": "72aefeb9-0895-41d3-91e1-58f84ddf12ea",
   "metadata": {},
   "outputs": [
    {
     "data": {
      "text/plain": [
       "230.59999999999565"
      ]
     },
     "execution_count": 1366,
     "metadata": {},
     "output_type": "execute_result"
    }
   ],
   "source": [
    "sum(varDict4[6][\"null\"])"
   ]
  },
  {
   "cell_type": "code",
   "execution_count": 1342,
   "id": "0b8a91c8-a44b-4c82-87b7-f42fef1e73da",
   "metadata": {},
   "outputs": [],
   "source": [
    "def test_whole(varTable,\n",
    "                     times:int = 10):\n",
    "        varTable=varTable.dropna()\n",
    "        sumVal=varTable.shape[0]\n",
    "        trueVal=sum(varTable[\"FDR\"]<0.01)\n",
    "        nullVal=sum(varTable[\"null\"])\n",
    "        if nullVal==0:\n",
    "            nullVal=1/(sumVal*times)\n",
    "        else:\n",
    "            nullVal=nullVal/(sumVal)\n",
    "        pval=1- binom.cdf(trueVal, sumVal, nullVal)\n",
    "        if trueVal == 0:\n",
    "            pval=1\n",
    "        return(pval)"
   ]
  },
  {
   "cell_type": "code",
   "execution_count": 1343,
   "id": "c5361746-c07e-4bcd-9c5b-e1146e77a652",
   "metadata": {},
   "outputs": [],
   "source": [
    "p_result_4 = {key: test_whole(value) for key, value in varDict4.items()}"
   ]
  },
  {
   "cell_type": "code",
   "execution_count": 1344,
   "id": "8af6eaf0-0532-4e71-a1ec-752cba01cb61",
   "metadata": {},
   "outputs": [
    {
     "data": {
      "text/plain": [
       "{0: 0.9999999999998973,\n",
       " 1: 1,\n",
       " 2: 1.0,\n",
       " 3: 1.0,\n",
       " 4: 1.0,\n",
       " 5: 1.0,\n",
       " 6: 0.999928055922544,\n",
       " 7: 1,\n",
       " 8: 1,\n",
       " 9: 1.0}"
      ]
     },
     "execution_count": 1344,
     "metadata": {},
     "output_type": "execute_result"
    }
   ],
   "source": [
    "p_result_4"
   ]
  },
  {
   "cell_type": "code",
   "execution_count": 1345,
   "id": "0fe80505-07cf-4311-8ac4-bbb052422e90",
   "metadata": {},
   "outputs": [],
   "source": [
    "p_result_2 = {key: test_whole(value) for key, value in varDict2.items()}"
   ]
  },
  {
   "cell_type": "code",
   "execution_count": 1347,
   "id": "d4244371-7c0d-487a-a37c-6699bd35e625",
   "metadata": {},
   "outputs": [],
   "source": [
    "p_result_3 = {key: test_whole(value) for key, value in varDict3.items()}"
   ]
  },
  {
   "cell_type": "code",
   "execution_count": 1378,
   "id": "1e87b2a6-e53c-4cdc-9a70-8efadea7179f",
   "metadata": {},
   "outputs": [
    {
     "data": {
      "text/plain": [
       "12"
      ]
     },
     "execution_count": 1378,
     "metadata": {},
     "output_type": "execute_result"
    }
   ],
   "source": [
    "sum(lenthDFDict4[9][\"binom_p\"]<0.05)"
   ]
  },
  {
   "cell_type": "code",
   "execution_count": 1386,
   "id": "787a5297-e162-4eb3-810f-08f5e45283f2",
   "metadata": {},
   "outputs": [],
   "source": [
    "new_assign=pd.read_csv(\"../processed_data/11.23_process_null/11.23_shuffle_condition_newassign.csv\",index_col=0)"
   ]
  },
  {
   "cell_type": "code",
   "execution_count": 1387,
   "id": "c4cb96ed-d6b8-433e-b1e9-8668b6f0bb2f",
   "metadata": {},
   "outputs": [
    {
     "data": {
      "text/html": [
       "<div>\n",
       "<style scoped>\n",
       "    .dataframe tbody tr th:only-of-type {\n",
       "        vertical-align: middle;\n",
       "    }\n",
       "\n",
       "    .dataframe tbody tr th {\n",
       "        vertical-align: top;\n",
       "    }\n",
       "\n",
       "    .dataframe thead th {\n",
       "        text-align: right;\n",
       "    }\n",
       "</style>\n",
       "<table border=\"1\" class=\"dataframe\">\n",
       "  <thead>\n",
       "    <tr style=\"text-align: right;\">\n",
       "      <th></th>\n",
       "      <th>V1</th>\n",
       "      <th>V2</th>\n",
       "      <th>V3</th>\n",
       "      <th>V4</th>\n",
       "      <th>V5</th>\n",
       "      <th>V6</th>\n",
       "      <th>V7</th>\n",
       "      <th>V8</th>\n",
       "      <th>V9</th>\n",
       "      <th>V10</th>\n",
       "      <th>random_sample</th>\n",
       "    </tr>\n",
       "  </thead>\n",
       "  <tbody>\n",
       "    <tr>\n",
       "      <th>Ablation_Matsushita_abl7con1_AAACCTGCAAAGGCGT-1_2-0-2</th>\n",
       "      <td>Development</td>\n",
       "      <td>Development</td>\n",
       "      <td>Development</td>\n",
       "      <td>Development</td>\n",
       "      <td>Steady</td>\n",
       "      <td>Development</td>\n",
       "      <td>Development</td>\n",
       "      <td>Steady</td>\n",
       "      <td>Development</td>\n",
       "      <td>Steady</td>\n",
       "      <td>40</td>\n",
       "    </tr>\n",
       "    <tr>\n",
       "      <th>Ablation_Matsushita_abl7con1_AAACGGGGTGTTCGAT-1_2-0-2</th>\n",
       "      <td>Development</td>\n",
       "      <td>Steady</td>\n",
       "      <td>Steady</td>\n",
       "      <td>Development</td>\n",
       "      <td>Development</td>\n",
       "      <td>Development</td>\n",
       "      <td>Development</td>\n",
       "      <td>Steady</td>\n",
       "      <td>Steady</td>\n",
       "      <td>Steady</td>\n",
       "      <td>39</td>\n",
       "    </tr>\n",
       "    <tr>\n",
       "      <th>Ablation_Matsushita_abl7con1_AAACGGGTCGCCTGTT-1_2-0-2</th>\n",
       "      <td>Steady</td>\n",
       "      <td>Development</td>\n",
       "      <td>Steady</td>\n",
       "      <td>Steady</td>\n",
       "      <td>Development</td>\n",
       "      <td>Development</td>\n",
       "      <td>Steady</td>\n",
       "      <td>Steady</td>\n",
       "      <td>Development</td>\n",
       "      <td>Development</td>\n",
       "      <td>37</td>\n",
       "    </tr>\n",
       "    <tr>\n",
       "      <th>Ablation_Matsushita_abl7con1_AAAGATGCAATGTAAG-1_2-0-2</th>\n",
       "      <td>Development</td>\n",
       "      <td>Development</td>\n",
       "      <td>Development</td>\n",
       "      <td>Steady</td>\n",
       "      <td>Steady</td>\n",
       "      <td>Development</td>\n",
       "      <td>Steady</td>\n",
       "      <td>Development</td>\n",
       "      <td>Development</td>\n",
       "      <td>Steady</td>\n",
       "      <td>26</td>\n",
       "    </tr>\n",
       "    <tr>\n",
       "      <th>Ablation_Matsushita_abl7con1_AAAGATGGTCGATTGT-1_2-0-2</th>\n",
       "      <td>Steady</td>\n",
       "      <td>Development</td>\n",
       "      <td>Steady</td>\n",
       "      <td>Steady</td>\n",
       "      <td>Development</td>\n",
       "      <td>Development</td>\n",
       "      <td>Development</td>\n",
       "      <td>Steady</td>\n",
       "      <td>Steady</td>\n",
       "      <td>Steady</td>\n",
       "      <td>22</td>\n",
       "    </tr>\n",
       "    <tr>\n",
       "      <th>...</th>\n",
       "      <td>...</td>\n",
       "      <td>...</td>\n",
       "      <td>...</td>\n",
       "      <td>...</td>\n",
       "      <td>...</td>\n",
       "      <td>...</td>\n",
       "      <td>...</td>\n",
       "      <td>...</td>\n",
       "      <td>...</td>\n",
       "      <td>...</td>\n",
       "      <td>...</td>\n",
       "    </tr>\n",
       "    <tr>\n",
       "      <th>TTTCGATTCCTCTAAT-1_5-1-2</th>\n",
       "      <td>Development</td>\n",
       "      <td>Steady</td>\n",
       "      <td>Development</td>\n",
       "      <td>Development</td>\n",
       "      <td>Development</td>\n",
       "      <td>Development</td>\n",
       "      <td>Development</td>\n",
       "      <td>Steady</td>\n",
       "      <td>Development</td>\n",
       "      <td>Development</td>\n",
       "      <td>1</td>\n",
       "    </tr>\n",
       "    <tr>\n",
       "      <th>TTTCGATTCTGGTGCG-1_5-1-2</th>\n",
       "      <td>Development</td>\n",
       "      <td>Development</td>\n",
       "      <td>Steady</td>\n",
       "      <td>Development</td>\n",
       "      <td>Development</td>\n",
       "      <td>Steady</td>\n",
       "      <td>Development</td>\n",
       "      <td>Steady</td>\n",
       "      <td>Development</td>\n",
       "      <td>Development</td>\n",
       "      <td>5</td>\n",
       "    </tr>\n",
       "    <tr>\n",
       "      <th>TTTGACTGTATTTCCT-1_5-1-2</th>\n",
       "      <td>Development</td>\n",
       "      <td>Steady</td>\n",
       "      <td>Steady</td>\n",
       "      <td>Development</td>\n",
       "      <td>Development</td>\n",
       "      <td>Development</td>\n",
       "      <td>Steady</td>\n",
       "      <td>Steady</td>\n",
       "      <td>Development</td>\n",
       "      <td>Steady</td>\n",
       "      <td>8</td>\n",
       "    </tr>\n",
       "    <tr>\n",
       "      <th>TTTGGAGCAGCGACAA-1_5-1-2</th>\n",
       "      <td>Development</td>\n",
       "      <td>Development</td>\n",
       "      <td>Steady</td>\n",
       "      <td>Development</td>\n",
       "      <td>Development</td>\n",
       "      <td>Steady</td>\n",
       "      <td>Development</td>\n",
       "      <td>Steady</td>\n",
       "      <td>Development</td>\n",
       "      <td>Development</td>\n",
       "      <td>5</td>\n",
       "    </tr>\n",
       "    <tr>\n",
       "      <th>TTTGGTTCACTACTTT-1_5-1-2</th>\n",
       "      <td>Development</td>\n",
       "      <td>Development</td>\n",
       "      <td>Steady</td>\n",
       "      <td>Development</td>\n",
       "      <td>Development</td>\n",
       "      <td>Steady</td>\n",
       "      <td>Steady</td>\n",
       "      <td>Development</td>\n",
       "      <td>Development</td>\n",
       "      <td>Development</td>\n",
       "      <td>11</td>\n",
       "    </tr>\n",
       "  </tbody>\n",
       "</table>\n",
       "<p>64107 rows × 11 columns</p>\n",
       "</div>"
      ],
      "text/plain": [
       "                                                             V1           V2  \\\n",
       "Ablation_Matsushita_abl7con1_AAACCTGCAAAGGCGT-1...  Development  Development   \n",
       "Ablation_Matsushita_abl7con1_AAACGGGGTGTTCGAT-1...  Development       Steady   \n",
       "Ablation_Matsushita_abl7con1_AAACGGGTCGCCTGTT-1...       Steady  Development   \n",
       "Ablation_Matsushita_abl7con1_AAAGATGCAATGTAAG-1...  Development  Development   \n",
       "Ablation_Matsushita_abl7con1_AAAGATGGTCGATTGT-1...       Steady  Development   \n",
       "...                                                         ...          ...   \n",
       "TTTCGATTCCTCTAAT-1_5-1-2                            Development       Steady   \n",
       "TTTCGATTCTGGTGCG-1_5-1-2                            Development  Development   \n",
       "TTTGACTGTATTTCCT-1_5-1-2                            Development       Steady   \n",
       "TTTGGAGCAGCGACAA-1_5-1-2                            Development  Development   \n",
       "TTTGGTTCACTACTTT-1_5-1-2                            Development  Development   \n",
       "\n",
       "                                                             V3           V4  \\\n",
       "Ablation_Matsushita_abl7con1_AAACCTGCAAAGGCGT-1...  Development  Development   \n",
       "Ablation_Matsushita_abl7con1_AAACGGGGTGTTCGAT-1...       Steady  Development   \n",
       "Ablation_Matsushita_abl7con1_AAACGGGTCGCCTGTT-1...       Steady       Steady   \n",
       "Ablation_Matsushita_abl7con1_AAAGATGCAATGTAAG-1...  Development       Steady   \n",
       "Ablation_Matsushita_abl7con1_AAAGATGGTCGATTGT-1...       Steady       Steady   \n",
       "...                                                         ...          ...   \n",
       "TTTCGATTCCTCTAAT-1_5-1-2                            Development  Development   \n",
       "TTTCGATTCTGGTGCG-1_5-1-2                                 Steady  Development   \n",
       "TTTGACTGTATTTCCT-1_5-1-2                                 Steady  Development   \n",
       "TTTGGAGCAGCGACAA-1_5-1-2                                 Steady  Development   \n",
       "TTTGGTTCACTACTTT-1_5-1-2                                 Steady  Development   \n",
       "\n",
       "                                                             V5           V6  \\\n",
       "Ablation_Matsushita_abl7con1_AAACCTGCAAAGGCGT-1...       Steady  Development   \n",
       "Ablation_Matsushita_abl7con1_AAACGGGGTGTTCGAT-1...  Development  Development   \n",
       "Ablation_Matsushita_abl7con1_AAACGGGTCGCCTGTT-1...  Development  Development   \n",
       "Ablation_Matsushita_abl7con1_AAAGATGCAATGTAAG-1...       Steady  Development   \n",
       "Ablation_Matsushita_abl7con1_AAAGATGGTCGATTGT-1...  Development  Development   \n",
       "...                                                         ...          ...   \n",
       "TTTCGATTCCTCTAAT-1_5-1-2                            Development  Development   \n",
       "TTTCGATTCTGGTGCG-1_5-1-2                            Development       Steady   \n",
       "TTTGACTGTATTTCCT-1_5-1-2                            Development  Development   \n",
       "TTTGGAGCAGCGACAA-1_5-1-2                            Development       Steady   \n",
       "TTTGGTTCACTACTTT-1_5-1-2                            Development       Steady   \n",
       "\n",
       "                                                             V7           V8  \\\n",
       "Ablation_Matsushita_abl7con1_AAACCTGCAAAGGCGT-1...  Development       Steady   \n",
       "Ablation_Matsushita_abl7con1_AAACGGGGTGTTCGAT-1...  Development       Steady   \n",
       "Ablation_Matsushita_abl7con1_AAACGGGTCGCCTGTT-1...       Steady       Steady   \n",
       "Ablation_Matsushita_abl7con1_AAAGATGCAATGTAAG-1...       Steady  Development   \n",
       "Ablation_Matsushita_abl7con1_AAAGATGGTCGATTGT-1...  Development       Steady   \n",
       "...                                                         ...          ...   \n",
       "TTTCGATTCCTCTAAT-1_5-1-2                            Development       Steady   \n",
       "TTTCGATTCTGGTGCG-1_5-1-2                            Development       Steady   \n",
       "TTTGACTGTATTTCCT-1_5-1-2                                 Steady       Steady   \n",
       "TTTGGAGCAGCGACAA-1_5-1-2                            Development       Steady   \n",
       "TTTGGTTCACTACTTT-1_5-1-2                                 Steady  Development   \n",
       "\n",
       "                                                             V9          V10  \\\n",
       "Ablation_Matsushita_abl7con1_AAACCTGCAAAGGCGT-1...  Development       Steady   \n",
       "Ablation_Matsushita_abl7con1_AAACGGGGTGTTCGAT-1...       Steady       Steady   \n",
       "Ablation_Matsushita_abl7con1_AAACGGGTCGCCTGTT-1...  Development  Development   \n",
       "Ablation_Matsushita_abl7con1_AAAGATGCAATGTAAG-1...  Development       Steady   \n",
       "Ablation_Matsushita_abl7con1_AAAGATGGTCGATTGT-1...       Steady       Steady   \n",
       "...                                                         ...          ...   \n",
       "TTTCGATTCCTCTAAT-1_5-1-2                            Development  Development   \n",
       "TTTCGATTCTGGTGCG-1_5-1-2                            Development  Development   \n",
       "TTTGACTGTATTTCCT-1_5-1-2                            Development       Steady   \n",
       "TTTGGAGCAGCGACAA-1_5-1-2                            Development  Development   \n",
       "TTTGGTTCACTACTTT-1_5-1-2                            Development  Development   \n",
       "\n",
       "                                                    random_sample  \n",
       "Ablation_Matsushita_abl7con1_AAACCTGCAAAGGCGT-1...             40  \n",
       "Ablation_Matsushita_abl7con1_AAACGGGGTGTTCGAT-1...             39  \n",
       "Ablation_Matsushita_abl7con1_AAACGGGTCGCCTGTT-1...             37  \n",
       "Ablation_Matsushita_abl7con1_AAAGATGCAATGTAAG-1...             26  \n",
       "Ablation_Matsushita_abl7con1_AAAGATGGTCGATTGT-1...             22  \n",
       "...                                                           ...  \n",
       "TTTCGATTCCTCTAAT-1_5-1-2                                        1  \n",
       "TTTCGATTCTGGTGCG-1_5-1-2                                        5  \n",
       "TTTGACTGTATTTCCT-1_5-1-2                                        8  \n",
       "TTTGGAGCAGCGACAA-1_5-1-2                                        5  \n",
       "TTTGGTTCACTACTTT-1_5-1-2                                       11  \n",
       "\n",
       "[64107 rows x 11 columns]"
      ]
     },
     "execution_count": 1387,
     "metadata": {},
     "output_type": "execute_result"
    }
   ],
   "source": [
    "new_assign"
   ]
  },
  {
   "cell_type": "code",
   "execution_count": 1390,
   "id": "463f95c1-ef1a-48ab-a40e-3eaa4cca5116",
   "metadata": {},
   "outputs": [],
   "source": [
    "condition_assign=new_assign.iloc[:,0:10]"
   ]
  },
  {
   "cell_type": "code",
   "execution_count": 1392,
   "id": "bff82dea-227e-4fbd-a1b5-7df863d23343",
   "metadata": {},
   "outputs": [],
   "source": [
    "null_bk_2.obs[\"random\"]=new_assign['random_sample']"
   ]
  },
  {
   "cell_type": "code",
   "execution_count": 1394,
   "id": "03d565b2-01ea-4be3-ba2f-66c198e3bb95",
   "metadata": {},
   "outputs": [
    {
     "data": {
      "text/html": [
       "<pre style=\"white-space:pre;overflow-x:auto;line-height:normal;font-family:Menlo,'DejaVu Sans Mono',consolas,'Courier New',monospace\">working on <span style=\"color: #008080; text-decoration-color: #008080; font-weight: bold\">0</span> data\n",
       "</pre>\n"
      ],
      "text/plain": [
       "working on \u001b[1;36m0\u001b[0m data\n"
      ]
     },
     "metadata": {},
     "output_type": "display_data"
    },
    {
     "data": {
      "text/html": [
       "<pre style=\"white-space:pre;overflow-x:auto;line-height:normal;font-family:Menlo,'DejaVu Sans Mono',consolas,'Courier New',monospace\">Make differential_test<span style=\"color: #808000; text-decoration-color: #808000\">......</span>.\n",
       "</pre>\n"
      ],
      "text/plain": [
       "Make differential_test\u001b[33m...\u001b[0m\u001b[33m...\u001b[0m.\n"
      ]
     },
     "metadata": {},
     "output_type": "display_data"
    },
    {
     "data": {
      "text/html": [
       "<pre style=\"white-space:pre;overflow-x:auto;line-height:normal;font-family:Menlo,'DejaVu Sans Mono',consolas,'Courier New',monospace\">Make null datasets<span style=\"color: #808000; text-decoration-color: #808000\">......</span>.\n",
       "</pre>\n"
      ],
      "text/plain": [
       "Make null datasets\u001b[33m...\u001b[0m\u001b[33m...\u001b[0m.\n"
      ]
     },
     "metadata": {},
     "output_type": "display_data"
    },
    {
     "data": {
      "text/html": [
       "<pre style=\"white-space:pre;overflow-x:auto;line-height:normal;font-family:Menlo,'DejaVu Sans Mono',consolas,'Courier New',monospace\">working on <span style=\"color: #008080; text-decoration-color: #008080; font-weight: bold\">1</span> data\n",
       "</pre>\n"
      ],
      "text/plain": [
       "working on \u001b[1;36m1\u001b[0m data\n"
      ]
     },
     "metadata": {},
     "output_type": "display_data"
    },
    {
     "data": {
      "text/html": [
       "<pre style=\"white-space:pre;overflow-x:auto;line-height:normal;font-family:Menlo,'DejaVu Sans Mono',consolas,'Courier New',monospace\">Make differential_test<span style=\"color: #808000; text-decoration-color: #808000\">......</span>.\n",
       "</pre>\n"
      ],
      "text/plain": [
       "Make differential_test\u001b[33m...\u001b[0m\u001b[33m...\u001b[0m.\n"
      ]
     },
     "metadata": {},
     "output_type": "display_data"
    },
    {
     "data": {
      "text/html": [
       "<pre style=\"white-space:pre;overflow-x:auto;line-height:normal;font-family:Menlo,'DejaVu Sans Mono',consolas,'Courier New',monospace\">Make null datasets<span style=\"color: #808000; text-decoration-color: #808000\">......</span>.\n",
       "</pre>\n"
      ],
      "text/plain": [
       "Make null datasets\u001b[33m...\u001b[0m\u001b[33m...\u001b[0m.\n"
      ]
     },
     "metadata": {},
     "output_type": "display_data"
    },
    {
     "data": {
      "text/html": [
       "<pre style=\"white-space:pre;overflow-x:auto;line-height:normal;font-family:Menlo,'DejaVu Sans Mono',consolas,'Courier New',monospace\">working on <span style=\"color: #008080; text-decoration-color: #008080; font-weight: bold\">2</span> data\n",
       "</pre>\n"
      ],
      "text/plain": [
       "working on \u001b[1;36m2\u001b[0m data\n"
      ]
     },
     "metadata": {},
     "output_type": "display_data"
    },
    {
     "data": {
      "text/html": [
       "<pre style=\"white-space:pre;overflow-x:auto;line-height:normal;font-family:Menlo,'DejaVu Sans Mono',consolas,'Courier New',monospace\">Make differential_test<span style=\"color: #808000; text-decoration-color: #808000\">......</span>.\n",
       "</pre>\n"
      ],
      "text/plain": [
       "Make differential_test\u001b[33m...\u001b[0m\u001b[33m...\u001b[0m.\n"
      ]
     },
     "metadata": {},
     "output_type": "display_data"
    },
    {
     "data": {
      "text/html": [
       "<pre style=\"white-space:pre;overflow-x:auto;line-height:normal;font-family:Menlo,'DejaVu Sans Mono',consolas,'Courier New',monospace\">Make null datasets<span style=\"color: #808000; text-decoration-color: #808000\">......</span>.\n",
       "</pre>\n"
      ],
      "text/plain": [
       "Make null datasets\u001b[33m...\u001b[0m\u001b[33m...\u001b[0m.\n"
      ]
     },
     "metadata": {},
     "output_type": "display_data"
    },
    {
     "data": {
      "text/html": [
       "<pre style=\"white-space:pre;overflow-x:auto;line-height:normal;font-family:Menlo,'DejaVu Sans Mono',consolas,'Courier New',monospace\">working on <span style=\"color: #008080; text-decoration-color: #008080; font-weight: bold\">3</span> data\n",
       "</pre>\n"
      ],
      "text/plain": [
       "working on \u001b[1;36m3\u001b[0m data\n"
      ]
     },
     "metadata": {},
     "output_type": "display_data"
    },
    {
     "data": {
      "text/html": [
       "<pre style=\"white-space:pre;overflow-x:auto;line-height:normal;font-family:Menlo,'DejaVu Sans Mono',consolas,'Courier New',monospace\">Make differential_test<span style=\"color: #808000; text-decoration-color: #808000\">......</span>.\n",
       "</pre>\n"
      ],
      "text/plain": [
       "Make differential_test\u001b[33m...\u001b[0m\u001b[33m...\u001b[0m.\n"
      ]
     },
     "metadata": {},
     "output_type": "display_data"
    },
    {
     "data": {
      "text/html": [
       "<pre style=\"white-space:pre;overflow-x:auto;line-height:normal;font-family:Menlo,'DejaVu Sans Mono',consolas,'Courier New',monospace\">Make null datasets<span style=\"color: #808000; text-decoration-color: #808000\">......</span>.\n",
       "</pre>\n"
      ],
      "text/plain": [
       "Make null datasets\u001b[33m...\u001b[0m\u001b[33m...\u001b[0m.\n"
      ]
     },
     "metadata": {},
     "output_type": "display_data"
    },
    {
     "data": {
      "text/html": [
       "<pre style=\"white-space:pre;overflow-x:auto;line-height:normal;font-family:Menlo,'DejaVu Sans Mono',consolas,'Courier New',monospace\">working on <span style=\"color: #008080; text-decoration-color: #008080; font-weight: bold\">4</span> data\n",
       "</pre>\n"
      ],
      "text/plain": [
       "working on \u001b[1;36m4\u001b[0m data\n"
      ]
     },
     "metadata": {},
     "output_type": "display_data"
    },
    {
     "data": {
      "text/html": [
       "<pre style=\"white-space:pre;overflow-x:auto;line-height:normal;font-family:Menlo,'DejaVu Sans Mono',consolas,'Courier New',monospace\">Make differential_test<span style=\"color: #808000; text-decoration-color: #808000\">......</span>.\n",
       "</pre>\n"
      ],
      "text/plain": [
       "Make differential_test\u001b[33m...\u001b[0m\u001b[33m...\u001b[0m.\n"
      ]
     },
     "metadata": {},
     "output_type": "display_data"
    },
    {
     "data": {
      "text/html": [
       "<pre style=\"white-space:pre;overflow-x:auto;line-height:normal;font-family:Menlo,'DejaVu Sans Mono',consolas,'Courier New',monospace\">Make null datasets<span style=\"color: #808000; text-decoration-color: #808000\">......</span>.\n",
       "</pre>\n"
      ],
      "text/plain": [
       "Make null datasets\u001b[33m...\u001b[0m\u001b[33m...\u001b[0m.\n"
      ]
     },
     "metadata": {},
     "output_type": "display_data"
    },
    {
     "data": {
      "text/html": [
       "<pre style=\"white-space:pre;overflow-x:auto;line-height:normal;font-family:Menlo,'DejaVu Sans Mono',consolas,'Courier New',monospace\">working on <span style=\"color: #008080; text-decoration-color: #008080; font-weight: bold\">5</span> data\n",
       "</pre>\n"
      ],
      "text/plain": [
       "working on \u001b[1;36m5\u001b[0m data\n"
      ]
     },
     "metadata": {},
     "output_type": "display_data"
    },
    {
     "data": {
      "text/html": [
       "<pre style=\"white-space:pre;overflow-x:auto;line-height:normal;font-family:Menlo,'DejaVu Sans Mono',consolas,'Courier New',monospace\">Make differential_test<span style=\"color: #808000; text-decoration-color: #808000\">......</span>.\n",
       "</pre>\n"
      ],
      "text/plain": [
       "Make differential_test\u001b[33m...\u001b[0m\u001b[33m...\u001b[0m.\n"
      ]
     },
     "metadata": {},
     "output_type": "display_data"
    },
    {
     "data": {
      "text/html": [
       "<pre style=\"white-space:pre;overflow-x:auto;line-height:normal;font-family:Menlo,'DejaVu Sans Mono',consolas,'Courier New',monospace\">Make null datasets<span style=\"color: #808000; text-decoration-color: #808000\">......</span>.\n",
       "</pre>\n"
      ],
      "text/plain": [
       "Make null datasets\u001b[33m...\u001b[0m\u001b[33m...\u001b[0m.\n"
      ]
     },
     "metadata": {},
     "output_type": "display_data"
    },
    {
     "data": {
      "text/html": [
       "<pre style=\"white-space:pre;overflow-x:auto;line-height:normal;font-family:Menlo,'DejaVu Sans Mono',consolas,'Courier New',monospace\">working on <span style=\"color: #008080; text-decoration-color: #008080; font-weight: bold\">6</span> data\n",
       "</pre>\n"
      ],
      "text/plain": [
       "working on \u001b[1;36m6\u001b[0m data\n"
      ]
     },
     "metadata": {},
     "output_type": "display_data"
    },
    {
     "data": {
      "text/html": [
       "<pre style=\"white-space:pre;overflow-x:auto;line-height:normal;font-family:Menlo,'DejaVu Sans Mono',consolas,'Courier New',monospace\">Make differential_test<span style=\"color: #808000; text-decoration-color: #808000\">......</span>.\n",
       "</pre>\n"
      ],
      "text/plain": [
       "Make differential_test\u001b[33m...\u001b[0m\u001b[33m...\u001b[0m.\n"
      ]
     },
     "metadata": {},
     "output_type": "display_data"
    },
    {
     "data": {
      "text/html": [
       "<pre style=\"white-space:pre;overflow-x:auto;line-height:normal;font-family:Menlo,'DejaVu Sans Mono',consolas,'Courier New',monospace\">Make null datasets<span style=\"color: #808000; text-decoration-color: #808000\">......</span>.\n",
       "</pre>\n"
      ],
      "text/plain": [
       "Make null datasets\u001b[33m...\u001b[0m\u001b[33m...\u001b[0m.\n"
      ]
     },
     "metadata": {},
     "output_type": "display_data"
    },
    {
     "data": {
      "text/html": [
       "<pre style=\"white-space:pre;overflow-x:auto;line-height:normal;font-family:Menlo,'DejaVu Sans Mono',consolas,'Courier New',monospace\">working on <span style=\"color: #008080; text-decoration-color: #008080; font-weight: bold\">7</span> data\n",
       "</pre>\n"
      ],
      "text/plain": [
       "working on \u001b[1;36m7\u001b[0m data\n"
      ]
     },
     "metadata": {},
     "output_type": "display_data"
    },
    {
     "data": {
      "text/html": [
       "<pre style=\"white-space:pre;overflow-x:auto;line-height:normal;font-family:Menlo,'DejaVu Sans Mono',consolas,'Courier New',monospace\">Make differential_test<span style=\"color: #808000; text-decoration-color: #808000\">......</span>.\n",
       "</pre>\n"
      ],
      "text/plain": [
       "Make differential_test\u001b[33m...\u001b[0m\u001b[33m...\u001b[0m.\n"
      ]
     },
     "metadata": {},
     "output_type": "display_data"
    },
    {
     "data": {
      "text/html": [
       "<pre style=\"white-space:pre;overflow-x:auto;line-height:normal;font-family:Menlo,'DejaVu Sans Mono',consolas,'Courier New',monospace\">Make null datasets<span style=\"color: #808000; text-decoration-color: #808000\">......</span>.\n",
       "</pre>\n"
      ],
      "text/plain": [
       "Make null datasets\u001b[33m...\u001b[0m\u001b[33m...\u001b[0m.\n"
      ]
     },
     "metadata": {},
     "output_type": "display_data"
    },
    {
     "data": {
      "text/html": [
       "<pre style=\"white-space:pre;overflow-x:auto;line-height:normal;font-family:Menlo,'DejaVu Sans Mono',consolas,'Courier New',monospace\">working on <span style=\"color: #008080; text-decoration-color: #008080; font-weight: bold\">8</span> data\n",
       "</pre>\n"
      ],
      "text/plain": [
       "working on \u001b[1;36m8\u001b[0m data\n"
      ]
     },
     "metadata": {},
     "output_type": "display_data"
    },
    {
     "data": {
      "text/html": [
       "<pre style=\"white-space:pre;overflow-x:auto;line-height:normal;font-family:Menlo,'DejaVu Sans Mono',consolas,'Courier New',monospace\">Make differential_test<span style=\"color: #808000; text-decoration-color: #808000\">......</span>.\n",
       "</pre>\n"
      ],
      "text/plain": [
       "Make differential_test\u001b[33m...\u001b[0m\u001b[33m...\u001b[0m.\n"
      ]
     },
     "metadata": {},
     "output_type": "display_data"
    },
    {
     "data": {
      "text/html": [
       "<pre style=\"white-space:pre;overflow-x:auto;line-height:normal;font-family:Menlo,'DejaVu Sans Mono',consolas,'Courier New',monospace\">Make null datasets<span style=\"color: #808000; text-decoration-color: #808000\">......</span>.\n",
       "</pre>\n"
      ],
      "text/plain": [
       "Make null datasets\u001b[33m...\u001b[0m\u001b[33m...\u001b[0m.\n"
      ]
     },
     "metadata": {},
     "output_type": "display_data"
    },
    {
     "data": {
      "text/html": [
       "<pre style=\"white-space:pre;overflow-x:auto;line-height:normal;font-family:Menlo,'DejaVu Sans Mono',consolas,'Courier New',monospace\">working on <span style=\"color: #008080; text-decoration-color: #008080; font-weight: bold\">9</span> data\n",
       "</pre>\n"
      ],
      "text/plain": [
       "working on \u001b[1;36m9\u001b[0m data\n"
      ]
     },
     "metadata": {},
     "output_type": "display_data"
    },
    {
     "data": {
      "text/html": [
       "<pre style=\"white-space:pre;overflow-x:auto;line-height:normal;font-family:Menlo,'DejaVu Sans Mono',consolas,'Courier New',monospace\">Make differential_test<span style=\"color: #808000; text-decoration-color: #808000\">......</span>.\n",
       "</pre>\n"
      ],
      "text/plain": [
       "Make differential_test\u001b[33m...\u001b[0m\u001b[33m...\u001b[0m.\n"
      ]
     },
     "metadata": {},
     "output_type": "display_data"
    },
    {
     "data": {
      "text/html": [
       "<pre style=\"white-space:pre;overflow-x:auto;line-height:normal;font-family:Menlo,'DejaVu Sans Mono',consolas,'Courier New',monospace\">Make null datasets<span style=\"color: #808000; text-decoration-color: #808000\">......</span>.\n",
       "</pre>\n"
      ],
      "text/plain": [
       "Make null datasets\u001b[33m...\u001b[0m\u001b[33m...\u001b[0m.\n"
      ]
     },
     "metadata": {},
     "output_type": "display_data"
    },
    {
     "data": {
      "text/html": [
       "<pre style=\"white-space:pre;overflow-x:auto;line-height:normal;font-family:Menlo,'DejaVu Sans Mono',consolas,'Courier New',monospace\">working on <span style=\"color: #008080; text-decoration-color: #008080; font-weight: bold\">10</span> data\n",
       "</pre>\n"
      ],
      "text/plain": [
       "working on \u001b[1;36m10\u001b[0m data\n"
      ]
     },
     "metadata": {},
     "output_type": "display_data"
    },
    {
     "ename": "IndexError",
     "evalue": "single positional indexer is out-of-bounds",
     "output_type": "error",
     "traceback": [
      "\u001b[0;31m---------------------------------------------------------------------------\u001b[0m",
      "\u001b[0;31mIndexError\u001b[0m                                Traceback (most recent call last)",
      "Cell \u001b[0;32mIn[1394], line 8\u001b[0m\n\u001b[1;32m      6\u001b[0m \u001b[38;5;28mprint\u001b[39m(\u001b[38;5;124mf\u001b[39m\u001b[38;5;124m\"\u001b[39m\u001b[38;5;124mworking on \u001b[39m\u001b[38;5;132;01m{\u001b[39;00mi\u001b[38;5;132;01m}\u001b[39;00m\u001b[38;5;124m data\u001b[39m\u001b[38;5;124m\"\u001b[39m)\n\u001b[1;32m      7\u001b[0m null\u001b[38;5;241m=\u001b[39mnull_bk_2\u001b[38;5;241m.\u001b[39mcopy()\n\u001b[0;32m----> 8\u001b[0m condition_loop\u001b[38;5;241m=\u001b[39m\u001b[43mcondition_assign\u001b[49m\u001b[38;5;241;43m.\u001b[39;49m\u001b[43miloc\u001b[49m\u001b[43m[\u001b[49m\u001b[43m:\u001b[49m\u001b[43m,\u001b[49m\u001b[43mi\u001b[49m\u001b[43m]\u001b[49m\n\u001b[1;32m      9\u001b[0m null\u001b[38;5;241m.\u001b[39mobs[\u001b[38;5;124m\"\u001b[39m\u001b[38;5;124mStage\u001b[39m\u001b[38;5;124m\"\u001b[39m]\u001b[38;5;241m=\u001b[39mcondition_loop\u001b[38;5;241m.\u001b[39mvalues\n\u001b[1;32m     10\u001b[0m nulldata \u001b[38;5;241m=\u001b[39m milo2\u001b[38;5;241m.\u001b[39mload(null)\n",
      "File \u001b[0;32m~/mambaforge/envs/celloracle/lib/python3.9/site-packages/pandas/core/indexing.py:1067\u001b[0m, in \u001b[0;36m_LocationIndexer.__getitem__\u001b[0;34m(self, key)\u001b[0m\n\u001b[1;32m   1065\u001b[0m     \u001b[38;5;28;01mif\u001b[39;00m \u001b[38;5;28mself\u001b[39m\u001b[38;5;241m.\u001b[39m_is_scalar_access(key):\n\u001b[1;32m   1066\u001b[0m         \u001b[38;5;28;01mreturn\u001b[39;00m \u001b[38;5;28mself\u001b[39m\u001b[38;5;241m.\u001b[39mobj\u001b[38;5;241m.\u001b[39m_get_value(\u001b[38;5;241m*\u001b[39mkey, takeable\u001b[38;5;241m=\u001b[39m\u001b[38;5;28mself\u001b[39m\u001b[38;5;241m.\u001b[39m_takeable)\n\u001b[0;32m-> 1067\u001b[0m     \u001b[38;5;28;01mreturn\u001b[39;00m \u001b[38;5;28;43mself\u001b[39;49m\u001b[38;5;241;43m.\u001b[39;49m\u001b[43m_getitem_tuple\u001b[49m\u001b[43m(\u001b[49m\u001b[43mkey\u001b[49m\u001b[43m)\u001b[49m\n\u001b[1;32m   1068\u001b[0m \u001b[38;5;28;01melse\u001b[39;00m:\n\u001b[1;32m   1069\u001b[0m     \u001b[38;5;66;03m# we by definition only have the 0th axis\u001b[39;00m\n\u001b[1;32m   1070\u001b[0m     axis \u001b[38;5;241m=\u001b[39m \u001b[38;5;28mself\u001b[39m\u001b[38;5;241m.\u001b[39maxis \u001b[38;5;129;01mor\u001b[39;00m \u001b[38;5;241m0\u001b[39m\n",
      "File \u001b[0;32m~/mambaforge/envs/celloracle/lib/python3.9/site-packages/pandas/core/indexing.py:1563\u001b[0m, in \u001b[0;36m_iLocIndexer._getitem_tuple\u001b[0;34m(self, tup)\u001b[0m\n\u001b[1;32m   1561\u001b[0m \u001b[38;5;28;01mdef\u001b[39;00m \u001b[38;5;21m_getitem_tuple\u001b[39m(\u001b[38;5;28mself\u001b[39m, tup: \u001b[38;5;28mtuple\u001b[39m):\n\u001b[0;32m-> 1563\u001b[0m     tup \u001b[38;5;241m=\u001b[39m \u001b[38;5;28;43mself\u001b[39;49m\u001b[38;5;241;43m.\u001b[39;49m\u001b[43m_validate_tuple_indexer\u001b[49m\u001b[43m(\u001b[49m\u001b[43mtup\u001b[49m\u001b[43m)\u001b[49m\n\u001b[1;32m   1564\u001b[0m     \u001b[38;5;28;01mwith\u001b[39;00m suppress(IndexingError):\n\u001b[1;32m   1565\u001b[0m         \u001b[38;5;28;01mreturn\u001b[39;00m \u001b[38;5;28mself\u001b[39m\u001b[38;5;241m.\u001b[39m_getitem_lowerdim(tup)\n",
      "File \u001b[0;32m~/mambaforge/envs/celloracle/lib/python3.9/site-packages/pandas/core/indexing.py:873\u001b[0m, in \u001b[0;36m_LocationIndexer._validate_tuple_indexer\u001b[0;34m(self, key)\u001b[0m\n\u001b[1;32m    871\u001b[0m \u001b[38;5;28;01mfor\u001b[39;00m i, k \u001b[38;5;129;01min\u001b[39;00m \u001b[38;5;28menumerate\u001b[39m(key):\n\u001b[1;32m    872\u001b[0m     \u001b[38;5;28;01mtry\u001b[39;00m:\n\u001b[0;32m--> 873\u001b[0m         \u001b[38;5;28;43mself\u001b[39;49m\u001b[38;5;241;43m.\u001b[39;49m\u001b[43m_validate_key\u001b[49m\u001b[43m(\u001b[49m\u001b[43mk\u001b[49m\u001b[43m,\u001b[49m\u001b[43m \u001b[49m\u001b[43mi\u001b[49m\u001b[43m)\u001b[49m\n\u001b[1;32m    874\u001b[0m     \u001b[38;5;28;01mexcept\u001b[39;00m \u001b[38;5;167;01mValueError\u001b[39;00m \u001b[38;5;28;01mas\u001b[39;00m err:\n\u001b[1;32m    875\u001b[0m         \u001b[38;5;28;01mraise\u001b[39;00m \u001b[38;5;167;01mValueError\u001b[39;00m(\n\u001b[1;32m    876\u001b[0m             \u001b[38;5;124m\"\u001b[39m\u001b[38;5;124mLocation based indexing can only have \u001b[39m\u001b[38;5;124m\"\u001b[39m\n\u001b[1;32m    877\u001b[0m             \u001b[38;5;124mf\u001b[39m\u001b[38;5;124m\"\u001b[39m\u001b[38;5;124m[\u001b[39m\u001b[38;5;132;01m{\u001b[39;00m\u001b[38;5;28mself\u001b[39m\u001b[38;5;241m.\u001b[39m_valid_types\u001b[38;5;132;01m}\u001b[39;00m\u001b[38;5;124m] types\u001b[39m\u001b[38;5;124m\"\u001b[39m\n\u001b[1;32m    878\u001b[0m         ) \u001b[38;5;28;01mfrom\u001b[39;00m \u001b[38;5;21;01merr\u001b[39;00m\n",
      "File \u001b[0;32m~/mambaforge/envs/celloracle/lib/python3.9/site-packages/pandas/core/indexing.py:1466\u001b[0m, in \u001b[0;36m_iLocIndexer._validate_key\u001b[0;34m(self, key, axis)\u001b[0m\n\u001b[1;32m   1464\u001b[0m     \u001b[38;5;28;01mreturn\u001b[39;00m\n\u001b[1;32m   1465\u001b[0m \u001b[38;5;28;01melif\u001b[39;00m is_integer(key):\n\u001b[0;32m-> 1466\u001b[0m     \u001b[38;5;28;43mself\u001b[39;49m\u001b[38;5;241;43m.\u001b[39;49m\u001b[43m_validate_integer\u001b[49m\u001b[43m(\u001b[49m\u001b[43mkey\u001b[49m\u001b[43m,\u001b[49m\u001b[43m \u001b[49m\u001b[43maxis\u001b[49m\u001b[43m)\u001b[49m\n\u001b[1;32m   1467\u001b[0m \u001b[38;5;28;01melif\u001b[39;00m \u001b[38;5;28misinstance\u001b[39m(key, \u001b[38;5;28mtuple\u001b[39m):\n\u001b[1;32m   1468\u001b[0m     \u001b[38;5;66;03m# a tuple should already have been caught by this point\u001b[39;00m\n\u001b[1;32m   1469\u001b[0m     \u001b[38;5;66;03m# so don't treat a tuple as a valid indexer\u001b[39;00m\n\u001b[1;32m   1470\u001b[0m     \u001b[38;5;28;01mraise\u001b[39;00m IndexingError(\u001b[38;5;124m\"\u001b[39m\u001b[38;5;124mToo many indexers\u001b[39m\u001b[38;5;124m\"\u001b[39m)\n",
      "File \u001b[0;32m~/mambaforge/envs/celloracle/lib/python3.9/site-packages/pandas/core/indexing.py:1557\u001b[0m, in \u001b[0;36m_iLocIndexer._validate_integer\u001b[0;34m(self, key, axis)\u001b[0m\n\u001b[1;32m   1555\u001b[0m len_axis \u001b[38;5;241m=\u001b[39m \u001b[38;5;28mlen\u001b[39m(\u001b[38;5;28mself\u001b[39m\u001b[38;5;241m.\u001b[39mobj\u001b[38;5;241m.\u001b[39m_get_axis(axis))\n\u001b[1;32m   1556\u001b[0m \u001b[38;5;28;01mif\u001b[39;00m key \u001b[38;5;241m>\u001b[39m\u001b[38;5;241m=\u001b[39m len_axis \u001b[38;5;129;01mor\u001b[39;00m key \u001b[38;5;241m<\u001b[39m \u001b[38;5;241m-\u001b[39mlen_axis:\n\u001b[0;32m-> 1557\u001b[0m     \u001b[38;5;28;01mraise\u001b[39;00m \u001b[38;5;167;01mIndexError\u001b[39;00m(\u001b[38;5;124m\"\u001b[39m\u001b[38;5;124msingle positional indexer is out-of-bounds\u001b[39m\u001b[38;5;124m\"\u001b[39m)\n",
      "\u001b[0;31mIndexError\u001b[0m: single positional indexer is out-of-bounds"
     ]
    }
   ],
   "source": [
    "#== for shuffle purpose\n",
    "lenthDFDict5={}\n",
    "pValDict5={}\n",
    "varDict5={}\n",
    "for i in range(new_assign.shape[1]):\n",
    "    print(f\"working on {i} data\")\n",
    "    null=null_bk_2.copy()\n",
    "    condition_loop=condition_assign.iloc[:,i]\n",
    "    null.obs[\"Stage\"]=condition_loop.values\n",
    "    nulldata = milo2.load(null)\n",
    "    nulldata = milo2.count_nhoods(nulldata, sample_col=\"random\")\n",
    "    print(\"Make differential_test.......\")\n",
    "    milo2.da_nhoods(nulldata, design='~Stage',model_contrasts='StageDevelopment-StageSteady')\n",
    "    print(\"Make null datasets.......\")\n",
    "    milo2.make_null(nulldata, design='~Stage',model_contrasts='StageDevelopment-StageSteady',times=5,FDR=0.01)\n",
    "    milo2.make_range(nulldata,time_col=\"dpt_pred\",FDR=0.01)\n",
    "    lenDf_loop=milo2.permute_test_point(nulldata,n=100,include_null=True)\n",
    "    lenDf_loop=milo2.test_binom(lenDf_loop,times=10)\n",
    "    milo2.test_whole(nulldata)\n",
    "    lenthDFDict5[i]=lenDf_loop\n",
    "    varDict5[i]=nulldata[\"milo\"].var\n",
    "    pValDict5[i]=nulldata[\"milo\"].uns[\"overall_p_val\"]"
   ]
  },
  {
   "cell_type": "code",
   "execution_count": null,
   "id": "bd753fd7-7f6f-4838-a228-3dd1a547e349",
   "metadata": {},
   "outputs": [],
   "source": [
    "lenthDFDict5"
   ]
  },
  {
   "cell_type": "code",
   "execution_count": 1408,
   "id": "5845c68b-f64e-46d8-b38c-9dbb6314a309",
   "metadata": {},
   "outputs": [
    {
     "data": {
      "text/plain": [
       "0"
      ]
     },
     "execution_count": 1408,
     "metadata": {},
     "output_type": "execute_result"
    }
   ],
   "source": [
    "sum(varDict5[6][\"Accept\"])"
   ]
  },
  {
   "cell_type": "code",
   "execution_count": 1412,
   "id": "a8d5659e-2777-4802-ac03-63de3d008267",
   "metadata": {},
   "outputs": [
    {
     "data": {
      "text/plain": [
       "{0: 1, 1: 1, 2: 1, 3: 1, 4: 1, 5: 1, 6: 1, 7: 1, 8: 1, 9: 1}"
      ]
     },
     "execution_count": 1412,
     "metadata": {},
     "output_type": "execute_result"
    }
   ],
   "source": [
    "pValDict5"
   ]
  },
  {
   "cell_type": "code",
   "execution_count": 1414,
   "id": "c8d77f6b-5173-4db9-8366-35191b65a21f",
   "metadata": {},
   "outputs": [],
   "source": [
    "\n",
    "true_result5 = {key: return_true(value) for key, value in varDict5.items()}\n",
    "trajDiffmetric5=pd.DataFrame(list(zip(pValDict5.values(), true_result5.values())), columns=['p', 'ratio'], index=true_result5.keys())"
   ]
  },
  {
   "cell_type": "code",
   "execution_count": 1416,
   "id": "f2eed998-473c-48e9-9a77-995b29b53bd8",
   "metadata": {},
   "outputs": [],
   "source": [
    "trajDiffmetric5.to_csv(\"../processed_data/11.23_process_null/11.24_traj_null.csv\")"
   ]
  },
  {
   "cell_type": "code",
   "execution_count": 1447,
   "id": "0aa724d8-c602-4a54-b917-597fe70e753d",
   "metadata": {},
   "outputs": [
    {
     "data": {
      "image/png": "[encoded data removed]",
      "text/plain": [
       "<Figure size 700x700 with 2 Axes>"
      ]
     },
     "metadata": {},
     "output_type": "display_data"
    }
   ],
   "source": [
    "logFcTab5 = {key: value[\"meanLogChange\"] for key, value in lenthDFDict5.items()}\n",
    "logFcTab5=pd.DataFrame(logFcTab5)\n",
    "logFcTab5=logFcTab5.dropna()\n",
    "PyComplexHeatmap.heatmap(logFcTab5.T)\n",
    "plt.savefig(\"../result/11.24_benchmark_composition/grad_logFC_heatmap_null.pdf\")"
   ]
  },
  {
   "cell_type": "code",
   "execution_count": 1448,
   "id": "ef0f73e1-1817-45ee-bddb-c6093fe480ad",
   "metadata": {},
   "outputs": [
    {
     "data": {
      "image/png": "[encoded data removed]",
      "text/plain": [
       "<Figure size 700x700 with 2 Axes>"
      ]
     },
     "metadata": {},
     "output_type": "display_data"
    }
   ],
   "source": [
    "acceptTab5 = {key: (-np.log(value[\"binom_p\"]+0.001)).astype(int) for key, value in lenthDFDict5.items()}\n",
    "acceptTab5=pd.DataFrame(acceptTab5)\n",
    "PyComplexHeatmap.heatmap(acceptTab5.T)\n",
    "plt.savefig(\"../result/11.24_benchmark_composition/grad_FDR_heatmap_null.pdf\")"
   ]
  },
  {
   "cell_type": "code",
   "execution_count": 1453,
   "id": "e509588a-a6fc-4b89-99b9-dba0e40de2ff",
   "metadata": {},
   "outputs": [],
   "source": [
    "dpt_bin=pd.read_csv(\"../../important_processed_data/11.19_lightGBM_pred_and_orig.csv\",index_col=0)"
   ]
  },
  {
   "cell_type": "code",
   "execution_count": 1459,
   "id": "578b6cdc-cb2e-4507-b05a-f11e08aaad06",
   "metadata": {},
   "outputs": [
    {
     "data": {
      "text/plain": [
       "AnnData object with n_obs × n_vars = 64107 × 17312\n",
       "    obs: 'Sample', 'Stage', 'Stage_shuffle', 'dpt_pred', 'nhood_ixs_random', 'nhood_ixs_refined', 'nhood_kth_distance', 'random'\n",
       "    uns: 'neighbors', 'nhood_neighbors_key'\n",
       "    obsm: 'X_draw_graph_fa', 'X_umap', 'X_scANVI', 'nhoods'\n",
       "    obsp: 'connectivities', 'distances'"
      ]
     },
     "execution_count": 1459,
     "metadata": {},
     "output_type": "execute_result"
    }
   ],
   "source": [
    "null"
   ]
  },
  {
   "cell_type": "code",
   "execution_count": 1501,
   "id": "a02ff6e0-adf4-4af2-a554-f8a1adab04ab",
   "metadata": {},
   "outputs": [],
   "source": [
    "null_bk_2.obs[\"dpt_bin\"]=dpt_bin.loc[null.obs_names][\"dpt_bin\"]"
   ]
  },
  {
   "cell_type": "code",
   "execution_count": 1552,
   "id": "a16814d6-4ef8-40aa-968f-f6979e45d155",
   "metadata": {},
   "outputs": [
    {
     "data": {
      "text/plain": [
       "2728"
      ]
     },
     "execution_count": 1552,
     "metadata": {},
     "output_type": "execute_result"
    }
   ],
   "source": [
    "sum(null.obs[\"dpt_bin\"]==8)"
   ]
  },
  {
   "cell_type": "code",
   "execution_count": 1489,
   "id": "dc125b7f-f202-4c42-afee-b9fe3b037386",
   "metadata": {},
   "outputs": [],
   "source": [
    "select_name=null.obs_names[(null.obs[\"dpt_bin\"]==10)&(null.obs[\"Stage\"]==\"Development\")]\n",
    "# Calculate the number of elements to select (40%)\n",
    "percentage_to_select = 0.4\n",
    "num_elements_to_select = int(len(select_name) * percentage_to_select)\n",
    "\n",
    "# Randomly select elements\n",
    "random_sample = random.sample(list(select_name.values), num_elements_to_select)\n",
    "null.obs.isin(random_sample)"
   ]
  },
  {
   "cell_type": "code",
   "execution_count": 1500,
   "id": "dca0b0c6-3751-483a-8b96-d9fac49aba75",
   "metadata": {},
   "outputs": [
    {
     "data": {
      "text/plain": [
       "View of AnnData object with n_obs × n_vars = 63471 × 17312\n",
       "    obs: 'Sample', 'Stage', 'Stage_shuffle', 'dpt_pred', 'nhood_ixs_random', 'nhood_ixs_refined', 'nhood_kth_distance', 'random', 'dpt_bin'\n",
       "    uns: 'neighbors', 'nhood_neighbors_key'\n",
       "    obsm: 'X_draw_graph_fa', 'X_umap', 'X_scANVI', 'nhoods'\n",
       "    obsp: 'connectivities', 'distances'"
      ]
     },
     "execution_count": 1500,
     "metadata": {},
     "output_type": "execute_result"
    }
   ],
   "source": [
    "null[~null.obs_names.isin(random_sample)]"
   ]
  },
  {
   "cell_type": "code",
   "execution_count": null,
   "id": "bd561564-c16a-4c80-91f0-6d9ad3a3f551",
   "metadata": {},
   "outputs": [],
   "source": [
    "for i in set(null.obs[\"dpt_bin\"])"
   ]
  },
  {
   "cell_type": "code",
   "execution_count": 1549,
   "id": "63c666cf-aa13-4619-ac0f-47b56139b2ec",
   "metadata": {},
   "outputs": [
    {
     "data": {
      "text/plain": [
       "63061"
      ]
     },
     "execution_count": 1549,
     "metadata": {},
     "output_type": "execute_result"
    }
   ],
   "source": [
    "sum(null.obs[\"nhood_ixs_refined\"]!=5)"
   ]
  },
  {
   "cell_type": "code",
   "execution_count": 1557,
   "id": "b0997249-0ee3-4fe9-9ee5-56e24198f969",
   "metadata": {},
   "outputs": [
    {
     "data": {
      "text/plain": [
       "17312"
      ]
     },
     "execution_count": 1557,
     "metadata": {},
     "output_type": "execute_result"
    }
   ],
   "source": [
    "null.shape[1]"
   ]
  },
  {
   "cell_type": "code",
   "execution_count": 1564,
   "id": "ccc34bc5-30d7-452c-bc31-b1340d23a331",
   "metadata": {},
   "outputs": [],
   "source": [
    "from scipy.stats import rankdata\n",
    "import math\n",
    "# Get the ranks\n",
    "null_bk_2.obs[\"rank\"] = rankdata(null_bk_2.obs[\"dpt_pred\"])\n",
    "null_bk_2.obs[\"rank\"] = np.floor(null_bk_2.obs[\"rank\"]/null.shape[0] * 10)"
   ]
  },
  {
   "cell_type": "code",
   "execution_count": 1565,
   "id": "6bdad6d9-fa48-4bc3-9746-286423e64fac",
   "metadata": {},
   "outputs": [
    {
     "data": {
      "text/plain": [
       "Unnamed: 0\n",
       "Ablation_Matsushita_abl7con1_AAACCTGCAAAGGCGT-1_2-0-2    2.0\n",
       "Ablation_Matsushita_abl7con1_AAACGGGGTGTTCGAT-1_2-0-2    4.0\n",
       "Ablation_Matsushita_abl7con1_AAACGGGTCGCCTGTT-1_2-0-2    2.0\n",
       "Ablation_Matsushita_abl7con1_AAAGATGCAATGTAAG-1_2-0-2    2.0\n",
       "Ablation_Matsushita_abl7con1_AAAGATGGTCGATTGT-1_2-0-2    6.0\n",
       "                                                        ... \n",
       "TTTCGATTCCTCTAAT-1_5-1-2                                 7.0\n",
       "TTTCGATTCTGGTGCG-1_5-1-2                                 9.0\n",
       "TTTGACTGTATTTCCT-1_5-1-2                                 6.0\n",
       "TTTGGAGCAGCGACAA-1_5-1-2                                 9.0\n",
       "TTTGGTTCACTACTTT-1_5-1-2                                 8.0\n",
       "Name: rank, Length: 64107, dtype: float64"
      ]
     },
     "execution_count": 1565,
     "metadata": {},
     "output_type": "execute_result"
    }
   ],
   "source": [
    "null_bk_2.obs[\"rank\"]"
   ]
  },
  {
   "cell_type": "code",
   "execution_count": 1570,
   "id": "098751de-d8f8-451a-bbb1-0332145057e0",
   "metadata": {},
   "outputs": [
    {
     "data": {
      "text/html": [
       "<pre style=\"white-space:pre;overflow-x:auto;line-height:normal;font-family:Menlo,'DejaVu Sans Mono',consolas,'Courier New',monospace\">working on <span style=\"color: #008080; text-decoration-color: #008080; font-weight: bold\">0.0</span> data\n",
       "</pre>\n"
      ],
      "text/plain": [
       "working on \u001b[1;36m0.0\u001b[0m data\n"
      ]
     },
     "metadata": {},
     "output_type": "display_data"
    },
    {
     "data": {
      "text/html": [
       "<pre style=\"white-space:pre;overflow-x:auto;line-height:normal;font-family:Menlo,'DejaVu Sans Mono',consolas,'Courier New',monospace\">Make differential_test<span style=\"color: #808000; text-decoration-color: #808000\">......</span>.\n",
       "</pre>\n"
      ],
      "text/plain": [
       "Make differential_test\u001b[33m...\u001b[0m\u001b[33m...\u001b[0m.\n"
      ]
     },
     "metadata": {},
     "output_type": "display_data"
    },
    {
     "data": {
      "text/html": [
       "<pre style=\"white-space:pre;overflow-x:auto;line-height:normal;font-family:Menlo,'DejaVu Sans Mono',consolas,'Courier New',monospace\">Make null datasets<span style=\"color: #808000; text-decoration-color: #808000\">......</span>.\n",
       "</pre>\n"
      ],
      "text/plain": [
       "Make null datasets\u001b[33m...\u001b[0m\u001b[33m...\u001b[0m.\n"
      ]
     },
     "metadata": {},
     "output_type": "display_data"
    },
    {
     "data": {
      "text/html": [
       "<pre style=\"white-space:pre;overflow-x:auto;line-height:normal;font-family:Menlo,'DejaVu Sans Mono',consolas,'Courier New',monospace\">working on <span style=\"color: #008080; text-decoration-color: #008080; font-weight: bold\">1.0</span> data\n",
       "</pre>\n"
      ],
      "text/plain": [
       "working on \u001b[1;36m1.0\u001b[0m data\n"
      ]
     },
     "metadata": {},
     "output_type": "display_data"
    },
    {
     "data": {
      "text/html": [
       "<pre style=\"white-space:pre;overflow-x:auto;line-height:normal;font-family:Menlo,'DejaVu Sans Mono',consolas,'Courier New',monospace\">Make differential_test<span style=\"color: #808000; text-decoration-color: #808000\">......</span>.\n",
       "</pre>\n"
      ],
      "text/plain": [
       "Make differential_test\u001b[33m...\u001b[0m\u001b[33m...\u001b[0m.\n"
      ]
     },
     "metadata": {},
     "output_type": "display_data"
    },
    {
     "data": {
      "text/html": [
       "<pre style=\"white-space:pre;overflow-x:auto;line-height:normal;font-family:Menlo,'DejaVu Sans Mono',consolas,'Courier New',monospace\">Make null datasets<span style=\"color: #808000; text-decoration-color: #808000\">......</span>.\n",
       "</pre>\n"
      ],
      "text/plain": [
       "Make null datasets\u001b[33m...\u001b[0m\u001b[33m...\u001b[0m.\n"
      ]
     },
     "metadata": {},
     "output_type": "display_data"
    },
    {
     "data": {
      "text/html": [
       "<pre style=\"white-space:pre;overflow-x:auto;line-height:normal;font-family:Menlo,'DejaVu Sans Mono',consolas,'Courier New',monospace\">working on <span style=\"color: #008080; text-decoration-color: #008080; font-weight: bold\">2.0</span> data\n",
       "</pre>\n"
      ],
      "text/plain": [
       "working on \u001b[1;36m2.0\u001b[0m data\n"
      ]
     },
     "metadata": {},
     "output_type": "display_data"
    },
    {
     "data": {
      "text/html": [
       "<pre style=\"white-space:pre;overflow-x:auto;line-height:normal;font-family:Menlo,'DejaVu Sans Mono',consolas,'Courier New',monospace\">Make differential_test<span style=\"color: #808000; text-decoration-color: #808000\">......</span>.\n",
       "</pre>\n"
      ],
      "text/plain": [
       "Make differential_test\u001b[33m...\u001b[0m\u001b[33m...\u001b[0m.\n"
      ]
     },
     "metadata": {},
     "output_type": "display_data"
    },
    {
     "data": {
      "text/html": [
       "<pre style=\"white-space:pre;overflow-x:auto;line-height:normal;font-family:Menlo,'DejaVu Sans Mono',consolas,'Courier New',monospace\">Make null datasets<span style=\"color: #808000; text-decoration-color: #808000\">......</span>.\n",
       "</pre>\n"
      ],
      "text/plain": [
       "Make null datasets\u001b[33m...\u001b[0m\u001b[33m...\u001b[0m.\n"
      ]
     },
     "metadata": {},
     "output_type": "display_data"
    },
    {
     "data": {
      "text/html": [
       "<pre style=\"white-space:pre;overflow-x:auto;line-height:normal;font-family:Menlo,'DejaVu Sans Mono',consolas,'Courier New',monospace\">working on <span style=\"color: #008080; text-decoration-color: #008080; font-weight: bold\">3.0</span> data\n",
       "</pre>\n"
      ],
      "text/plain": [
       "working on \u001b[1;36m3.0\u001b[0m data\n"
      ]
     },
     "metadata": {},
     "output_type": "display_data"
    },
    {
     "data": {
      "text/html": [
       "<pre style=\"white-space:pre;overflow-x:auto;line-height:normal;font-family:Menlo,'DejaVu Sans Mono',consolas,'Courier New',monospace\">Make differential_test<span style=\"color: #808000; text-decoration-color: #808000\">......</span>.\n",
       "</pre>\n"
      ],
      "text/plain": [
       "Make differential_test\u001b[33m...\u001b[0m\u001b[33m...\u001b[0m.\n"
      ]
     },
     "metadata": {},
     "output_type": "display_data"
    },
    {
     "data": {
      "text/html": [
       "<pre style=\"white-space:pre;overflow-x:auto;line-height:normal;font-family:Menlo,'DejaVu Sans Mono',consolas,'Courier New',monospace\">Make null datasets<span style=\"color: #808000; text-decoration-color: #808000\">......</span>.\n",
       "</pre>\n"
      ],
      "text/plain": [
       "Make null datasets\u001b[33m...\u001b[0m\u001b[33m...\u001b[0m.\n"
      ]
     },
     "metadata": {},
     "output_type": "display_data"
    },
    {
     "data": {
      "text/html": [
       "<pre style=\"white-space:pre;overflow-x:auto;line-height:normal;font-family:Menlo,'DejaVu Sans Mono',consolas,'Courier New',monospace\">working on <span style=\"color: #008080; text-decoration-color: #008080; font-weight: bold\">4.0</span> data\n",
       "</pre>\n"
      ],
      "text/plain": [
       "working on \u001b[1;36m4.0\u001b[0m data\n"
      ]
     },
     "metadata": {},
     "output_type": "display_data"
    },
    {
     "data": {
      "text/html": [
       "<pre style=\"white-space:pre;overflow-x:auto;line-height:normal;font-family:Menlo,'DejaVu Sans Mono',consolas,'Courier New',monospace\">Make differential_test<span style=\"color: #808000; text-decoration-color: #808000\">......</span>.\n",
       "</pre>\n"
      ],
      "text/plain": [
       "Make differential_test\u001b[33m...\u001b[0m\u001b[33m...\u001b[0m.\n"
      ]
     },
     "metadata": {},
     "output_type": "display_data"
    },
    {
     "data": {
      "text/html": [
       "<pre style=\"white-space:pre;overflow-x:auto;line-height:normal;font-family:Menlo,'DejaVu Sans Mono',consolas,'Courier New',monospace\">Make null datasets<span style=\"color: #808000; text-decoration-color: #808000\">......</span>.\n",
       "</pre>\n"
      ],
      "text/plain": [
       "Make null datasets\u001b[33m...\u001b[0m\u001b[33m...\u001b[0m.\n"
      ]
     },
     "metadata": {},
     "output_type": "display_data"
    },
    {
     "data": {
      "text/html": [
       "<pre style=\"white-space:pre;overflow-x:auto;line-height:normal;font-family:Menlo,'DejaVu Sans Mono',consolas,'Courier New',monospace\">working on <span style=\"color: #008080; text-decoration-color: #008080; font-weight: bold\">5.0</span> data\n",
       "</pre>\n"
      ],
      "text/plain": [
       "working on \u001b[1;36m5.0\u001b[0m data\n"
      ]
     },
     "metadata": {},
     "output_type": "display_data"
    },
    {
     "data": {
      "text/html": [
       "<pre style=\"white-space:pre;overflow-x:auto;line-height:normal;font-family:Menlo,'DejaVu Sans Mono',consolas,'Courier New',monospace\">Make differential_test<span style=\"color: #808000; text-decoration-color: #808000\">......</span>.\n",
       "</pre>\n"
      ],
      "text/plain": [
       "Make differential_test\u001b[33m...\u001b[0m\u001b[33m...\u001b[0m.\n"
      ]
     },
     "metadata": {},
     "output_type": "display_data"
    },
    {
     "data": {
      "text/html": [
       "<pre style=\"white-space:pre;overflow-x:auto;line-height:normal;font-family:Menlo,'DejaVu Sans Mono',consolas,'Courier New',monospace\">Make null datasets<span style=\"color: #808000; text-decoration-color: #808000\">......</span>.\n",
       "</pre>\n"
      ],
      "text/plain": [
       "Make null datasets\u001b[33m...\u001b[0m\u001b[33m...\u001b[0m.\n"
      ]
     },
     "metadata": {},
     "output_type": "display_data"
    },
    {
     "data": {
      "text/html": [
       "<pre style=\"white-space:pre;overflow-x:auto;line-height:normal;font-family:Menlo,'DejaVu Sans Mono',consolas,'Courier New',monospace\">working on <span style=\"color: #008080; text-decoration-color: #008080; font-weight: bold\">6.0</span> data\n",
       "</pre>\n"
      ],
      "text/plain": [
       "working on \u001b[1;36m6.0\u001b[0m data\n"
      ]
     },
     "metadata": {},
     "output_type": "display_data"
    },
    {
     "data": {
      "text/html": [
       "<pre style=\"white-space:pre;overflow-x:auto;line-height:normal;font-family:Menlo,'DejaVu Sans Mono',consolas,'Courier New',monospace\">Make differential_test<span style=\"color: #808000; text-decoration-color: #808000\">......</span>.\n",
       "</pre>\n"
      ],
      "text/plain": [
       "Make differential_test\u001b[33m...\u001b[0m\u001b[33m...\u001b[0m.\n"
      ]
     },
     "metadata": {},
     "output_type": "display_data"
    },
    {
     "data": {
      "text/html": [
       "<pre style=\"white-space:pre;overflow-x:auto;line-height:normal;font-family:Menlo,'DejaVu Sans Mono',consolas,'Courier New',monospace\">Make null datasets<span style=\"color: #808000; text-decoration-color: #808000\">......</span>.\n",
       "</pre>\n"
      ],
      "text/plain": [
       "Make null datasets\u001b[33m...\u001b[0m\u001b[33m...\u001b[0m.\n"
      ]
     },
     "metadata": {},
     "output_type": "display_data"
    },
    {
     "data": {
      "text/html": [
       "<pre style=\"white-space:pre;overflow-x:auto;line-height:normal;font-family:Menlo,'DejaVu Sans Mono',consolas,'Courier New',monospace\">working on <span style=\"color: #008080; text-decoration-color: #008080; font-weight: bold\">7.0</span> data\n",
       "</pre>\n"
      ],
      "text/plain": [
       "working on \u001b[1;36m7.0\u001b[0m data\n"
      ]
     },
     "metadata": {},
     "output_type": "display_data"
    },
    {
     "data": {
      "text/html": [
       "<pre style=\"white-space:pre;overflow-x:auto;line-height:normal;font-family:Menlo,'DejaVu Sans Mono',consolas,'Courier New',monospace\">Make differential_test<span style=\"color: #808000; text-decoration-color: #808000\">......</span>.\n",
       "</pre>\n"
      ],
      "text/plain": [
       "Make differential_test\u001b[33m...\u001b[0m\u001b[33m...\u001b[0m.\n"
      ]
     },
     "metadata": {},
     "output_type": "display_data"
    },
    {
     "data": {
      "text/html": [
       "<pre style=\"white-space:pre;overflow-x:auto;line-height:normal;font-family:Menlo,'DejaVu Sans Mono',consolas,'Courier New',monospace\">Make null datasets<span style=\"color: #808000; text-decoration-color: #808000\">......</span>.\n",
       "</pre>\n"
      ],
      "text/plain": [
       "Make null datasets\u001b[33m...\u001b[0m\u001b[33m...\u001b[0m.\n"
      ]
     },
     "metadata": {},
     "output_type": "display_data"
    },
    {
     "data": {
      "text/html": [
       "<pre style=\"white-space:pre;overflow-x:auto;line-height:normal;font-family:Menlo,'DejaVu Sans Mono',consolas,'Courier New',monospace\">working on <span style=\"color: #008080; text-decoration-color: #008080; font-weight: bold\">8.0</span> data\n",
       "</pre>\n"
      ],
      "text/plain": [
       "working on \u001b[1;36m8.0\u001b[0m data\n"
      ]
     },
     "metadata": {},
     "output_type": "display_data"
    },
    {
     "data": {
      "text/html": [
       "<pre style=\"white-space:pre;overflow-x:auto;line-height:normal;font-family:Menlo,'DejaVu Sans Mono',consolas,'Courier New',monospace\">Make differential_test<span style=\"color: #808000; text-decoration-color: #808000\">......</span>.\n",
       "</pre>\n"
      ],
      "text/plain": [
       "Make differential_test\u001b[33m...\u001b[0m\u001b[33m...\u001b[0m.\n"
      ]
     },
     "metadata": {},
     "output_type": "display_data"
    },
    {
     "data": {
      "text/html": [
       "<pre style=\"white-space:pre;overflow-x:auto;line-height:normal;font-family:Menlo,'DejaVu Sans Mono',consolas,'Courier New',monospace\">Make null datasets<span style=\"color: #808000; text-decoration-color: #808000\">......</span>.\n",
       "</pre>\n"
      ],
      "text/plain": [
       "Make null datasets\u001b[33m...\u001b[0m\u001b[33m...\u001b[0m.\n"
      ]
     },
     "metadata": {},
     "output_type": "display_data"
    },
    {
     "data": {
      "text/html": [
       "<pre style=\"white-space:pre;overflow-x:auto;line-height:normal;font-family:Menlo,'DejaVu Sans Mono',consolas,'Courier New',monospace\">working on <span style=\"color: #008080; text-decoration-color: #008080; font-weight: bold\">9.0</span> data\n",
       "</pre>\n"
      ],
      "text/plain": [
       "working on \u001b[1;36m9.0\u001b[0m data\n"
      ]
     },
     "metadata": {},
     "output_type": "display_data"
    },
    {
     "data": {
      "text/html": [
       "<pre style=\"white-space:pre;overflow-x:auto;line-height:normal;font-family:Menlo,'DejaVu Sans Mono',consolas,'Courier New',monospace\">Make differential_test<span style=\"color: #808000; text-decoration-color: #808000\">......</span>.\n",
       "</pre>\n"
      ],
      "text/plain": [
       "Make differential_test\u001b[33m...\u001b[0m\u001b[33m...\u001b[0m.\n"
      ]
     },
     "metadata": {},
     "output_type": "display_data"
    },
    {
     "data": {
      "text/html": [
       "<pre style=\"white-space:pre;overflow-x:auto;line-height:normal;font-family:Menlo,'DejaVu Sans Mono',consolas,'Courier New',monospace\">Make null datasets<span style=\"color: #808000; text-decoration-color: #808000\">......</span>.\n",
       "</pre>\n"
      ],
      "text/plain": [
       "Make null datasets\u001b[33m...\u001b[0m\u001b[33m...\u001b[0m.\n"
      ]
     },
     "metadata": {},
     "output_type": "display_data"
    },
    {
     "data": {
      "text/html": [
       "<pre style=\"white-space:pre;overflow-x:auto;line-height:normal;font-family:Menlo,'DejaVu Sans Mono',consolas,'Courier New',monospace\">working on <span style=\"color: #008080; text-decoration-color: #008080; font-weight: bold\">10.0</span> data\n",
       "</pre>\n"
      ],
      "text/plain": [
       "working on \u001b[1;36m10.0\u001b[0m data\n"
      ]
     },
     "metadata": {},
     "output_type": "display_data"
    },
    {
     "data": {
      "text/html": [
       "<pre style=\"white-space:pre;overflow-x:auto;line-height:normal;font-family:Menlo,'DejaVu Sans Mono',consolas,'Courier New',monospace\">Make differential_test<span style=\"color: #808000; text-decoration-color: #808000\">......</span>.\n",
       "</pre>\n"
      ],
      "text/plain": [
       "Make differential_test\u001b[33m...\u001b[0m\u001b[33m...\u001b[0m.\n"
      ]
     },
     "metadata": {},
     "output_type": "display_data"
    },
    {
     "data": {
      "text/html": [
       "<pre style=\"white-space:pre;overflow-x:auto;line-height:normal;font-family:Menlo,'DejaVu Sans Mono',consolas,'Courier New',monospace\">Make null datasets<span style=\"color: #808000; text-decoration-color: #808000\">......</span>.\n",
       "</pre>\n"
      ],
      "text/plain": [
       "Make null datasets\u001b[33m...\u001b[0m\u001b[33m...\u001b[0m.\n"
      ]
     },
     "metadata": {},
     "output_type": "display_data"
    }
   ],
   "source": [
    "#== for shuffle purpose\n",
    "lenthDFDict6={}\n",
    "pValDict6={}\n",
    "varDict6={}\n",
    "for i in set(null_bk_2.obs[\"rank\"]):\n",
    "    print(f\"working on {i} data\")\n",
    "    null=null_bk_2.copy()\n",
    "    condition_loop=condition_assign.iloc[:,1]\n",
    "    null.obs[\"Stage\"]=condition_loop.values\n",
    "    select_name=null.obs_names[(null.obs[\"rank\"]==i)&(null.obs[\"Stage\"]==\"Development\")&(null.obs[\"nhood_ixs_refined\"]!=1)]\n",
    "    # Calculate the number of elements to select (40%)\n",
    "    percentage_to_select = 1\n",
    "    num_elements_to_select = int(len(select_name) * percentage_to_select) \n",
    "    # Randomly select elements\n",
    "    random_sample = random.sample(list(select_name.values), num_elements_to_select)\n",
    "    null=null[~null.obs_names.isin(random_sample)]\n",
    "    nulldata = milo2.load(null)\n",
    "    nulldata = milo2.count_nhoods(nulldata, sample_col=\"random\")\n",
    "    print(\"Make differential_test.......\")\n",
    "    milo2.da_nhoods(nulldata, design='~Stage',model_contrasts='StageDevelopment-StageSteady')\n",
    "    print(\"Make null datasets.......\")\n",
    "    milo2.make_null(nulldata, design='~Stage',model_contrasts='StageDevelopment-StageSteady',times=3,FDR=0.05)\n",
    "    milo2.make_range(nulldata,time_col=\"dpt_pred\",FDR=0.05)\n",
    "    lenDf_loop=milo2.permute_test_point(nulldata,n=100,include_null=True)\n",
    "    lenDf_loop=milo2.test_binom(lenDf_loop,times=10)\n",
    "    milo2.test_whole(nulldata)\n",
    "    lenthDFDict6[i]=lenDf_loop\n",
    "    varDict6[i]=nulldata[\"milo\"].var\n",
    "    pValDict6[i]=nulldata[\"milo\"].uns[\"overall_p_val\"]"
   ]
  },
  {
   "cell_type": "code",
   "execution_count": 1522,
   "id": "261bafa4-bdd4-4a1b-a9ae-09c6f2fff496",
   "metadata": {},
   "outputs": [
    {
     "data": {
      "text/plain": [
       "{1: 0.0,\n",
       " 2: 0.0,\n",
       " 3: 0.0,\n",
       " 4: 0.0,\n",
       " 5: 0.0,\n",
       " 6: 0.0,\n",
       " 7: 0.0,\n",
       " 8: 0.0,\n",
       " 9: 0.0,\n",
       " 10: 0.0}"
      ]
     },
     "execution_count": 1522,
     "metadata": {},
     "output_type": "execute_result"
    }
   ],
   "source": [
    "pValDict6"
   ]
  },
  {
   "cell_type": "code",
   "execution_count": 1543,
   "id": "e7c36183-8a19-4607-a5c2-6b483cf42691",
   "metadata": {},
   "outputs": [
    {
     "data": {
      "text/plain": [
       "773"
      ]
     },
     "execution_count": 1543,
     "metadata": {},
     "output_type": "execute_result"
    }
   ],
   "source": [
    "sum(varDict6[9][\"SpatialFDR\"]<0.5)"
   ]
  },
  {
   "cell_type": "code",
   "execution_count": 1523,
   "id": "99c7ab80-cce2-4747-9f70-b97a7f5d49fd",
   "metadata": {},
   "outputs": [
    {
     "data": {
      "text/plain": [
       "40"
      ]
     },
     "execution_count": 1523,
     "metadata": {},
     "output_type": "execute_result"
    }
   ],
   "source": [
    "sum(varDict6[1][\"SpatialFDR\"]<0.05)"
   ]
  },
  {
   "cell_type": "code",
   "execution_count": null,
   "id": "9f197943-04b5-4168-8b15-d5d96d545db8",
   "metadata": {},
   "outputs": [],
   "source": []
  },
  {
   "cell_type": "code",
   "execution_count": 1571,
   "id": "89f94f48-be9f-49d5-b610-373843621257",
   "metadata": {},
   "outputs": [
    {
     "data": {
      "image/png": "[encoded data removed]",
      "text/plain": [
       "<Figure size 700x700 with 2 Axes>"
      ]
     },
     "metadata": {},
     "output_type": "display_data"
    }
   ],
   "source": [
    "logFcTab6 = {key: value[\"meanLogChange\"] for key, value in lenthDFDict6.items()}\n",
    "logFcTab6=pd.DataFrame(logFcTab6)\n",
    "logFcTab6=logFcTab5.dropna()\n",
    "PyComplexHeatmap.heatmap(logFcTab6.T)\n",
    "plt.savefig(\"../result/11.24_benchmark_composition/grad_logFC_heatmap_spike.pdf\")"
   ]
  },
  {
   "cell_type": "code",
   "execution_count": 1572,
   "id": "30d91672-af17-4ec1-85f7-2b435ef410d1",
   "metadata": {},
   "outputs": [
    {
     "data": {
      "image/png": "[encoded data removed]",
      "text/plain": [
       "<Figure size 700x700 with 2 Axes>"
      ]
     },
     "metadata": {},
     "output_type": "display_data"
    }
   ],
   "source": [
    "acceptTab6 = {key: (-np.log(value[\"binom_p\"]+0.001)).astype(int) for key, value in lenthDFDict6.items()}\n",
    "acceptTab6=pd.DataFrame(acceptTab6)\n",
    "PyComplexHeatmap.heatmap(acceptTab6.T)\n",
    "plt.savefig(\"../result/11.24_benchmark_composition/grad_FDR_heatmap_null_spike.pdf\")"
   ]
  },
  {
   "cell_type": "code",
   "execution_count": 1583,
   "id": "6323f606-a100-4832-9140-f28d29bc6701",
   "metadata": {},
   "outputs": [
    {
     "data": {
      "text/plain": [
       "(array([41284.,     0.,  7760.,     0.,     0.,  3165.,     0.,  4416.,\n",
       "            0.,  7482.]),\n",
       " array([0. , 0.4, 0.8, 1.2, 1.6, 2. , 2.4, 2.8, 3.2, 3.6, 4. ]),\n",
       " <BarContainer object of 10 artists>)"
      ]
     },
     "execution_count": 1583,
     "metadata": {},
     "output_type": "execute_result"
    },
    {
     "data": {
      "image/png": "[encoded data removed]",
      "text/plain": [
       "<Figure size 700x700 with 1 Axes>"
      ]
     },
     "metadata": {},
     "output_type": "display_data"
    }
   ],
   "source": [
    "plt.hist(null_bk_2.obs[\"dpt_5_bin\"])"
   ]
  },
  {
   "cell_type": "code",
   "execution_count": 1582,
   "id": "18e3c466-626c-4e43-8219-6f55b071efd4",
   "metadata": {},
   "outputs": [],
   "source": [
    "null_bk_2.obs[\"dpt_5_bin\"] = np.floor(null_bk_2.obs[\"dpt_pred\"] * 5)\n",
    "null_bk_2.obs[\"dpt_5_bin\"][null_bk_2.obs[\"dpt_5_bin\"]==5] = 4"
   ]
  },
  {
   "cell_type": "code",
   "execution_count": 1578,
   "id": "33ffe45f-1359-4240-9de2-bd606e3cecc9",
   "metadata": {},
   "outputs": [
    {
     "data": {
      "text/html": [
       "<pre style=\"white-space:pre;overflow-x:auto;line-height:normal;font-family:Menlo,'DejaVu Sans Mono',consolas,'Courier New',monospace\">working on <span style=\"color: #008080; text-decoration-color: #008080; font-weight: bold\">0.0</span> data\n",
       "</pre>\n"
      ],
      "text/plain": [
       "working on \u001b[1;36m0.0\u001b[0m data\n"
      ]
     },
     "metadata": {},
     "output_type": "display_data"
    },
    {
     "data": {
      "text/html": [
       "<pre style=\"white-space:pre;overflow-x:auto;line-height:normal;font-family:Menlo,'DejaVu Sans Mono',consolas,'Courier New',monospace\">Make differential_test<span style=\"color: #808000; text-decoration-color: #808000\">......</span>.\n",
       "</pre>\n"
      ],
      "text/plain": [
       "Make differential_test\u001b[33m...\u001b[0m\u001b[33m...\u001b[0m.\n"
      ]
     },
     "metadata": {},
     "output_type": "display_data"
    },
    {
     "data": {
      "text/html": [
       "<pre style=\"white-space:pre;overflow-x:auto;line-height:normal;font-family:Menlo,'DejaVu Sans Mono',consolas,'Courier New',monospace\">Make null datasets<span style=\"color: #808000; text-decoration-color: #808000\">......</span>.\n",
       "</pre>\n"
      ],
      "text/plain": [
       "Make null datasets\u001b[33m...\u001b[0m\u001b[33m...\u001b[0m.\n"
      ]
     },
     "metadata": {},
     "output_type": "display_data"
    },
    {
     "data": {
      "text/html": [
       "<pre style=\"white-space:pre;overflow-x:auto;line-height:normal;font-family:Menlo,'DejaVu Sans Mono',consolas,'Courier New',monospace\">working on <span style=\"color: #008080; text-decoration-color: #008080; font-weight: bold\">1.0</span> data\n",
       "</pre>\n"
      ],
      "text/plain": [
       "working on \u001b[1;36m1.0\u001b[0m data\n"
      ]
     },
     "metadata": {},
     "output_type": "display_data"
    },
    {
     "data": {
      "text/html": [
       "<pre style=\"white-space:pre;overflow-x:auto;line-height:normal;font-family:Menlo,'DejaVu Sans Mono',consolas,'Courier New',monospace\">Make differential_test<span style=\"color: #808000; text-decoration-color: #808000\">......</span>.\n",
       "</pre>\n"
      ],
      "text/plain": [
       "Make differential_test\u001b[33m...\u001b[0m\u001b[33m...\u001b[0m.\n"
      ]
     },
     "metadata": {},
     "output_type": "display_data"
    },
    {
     "data": {
      "text/html": [
       "<pre style=\"white-space:pre;overflow-x:auto;line-height:normal;font-family:Menlo,'DejaVu Sans Mono',consolas,'Courier New',monospace\">Make null datasets<span style=\"color: #808000; text-decoration-color: #808000\">......</span>.\n",
       "</pre>\n"
      ],
      "text/plain": [
       "Make null datasets\u001b[33m...\u001b[0m\u001b[33m...\u001b[0m.\n"
      ]
     },
     "metadata": {},
     "output_type": "display_data"
    },
    {
     "data": {
      "text/html": [
       "<pre style=\"white-space:pre;overflow-x:auto;line-height:normal;font-family:Menlo,'DejaVu Sans Mono',consolas,'Courier New',monospace\">working on <span style=\"color: #008080; text-decoration-color: #008080; font-weight: bold\">2.0</span> data\n",
       "</pre>\n"
      ],
      "text/plain": [
       "working on \u001b[1;36m2.0\u001b[0m data\n"
      ]
     },
     "metadata": {},
     "output_type": "display_data"
    },
    {
     "data": {
      "text/html": [
       "<pre style=\"white-space:pre;overflow-x:auto;line-height:normal;font-family:Menlo,'DejaVu Sans Mono',consolas,'Courier New',monospace\">Make differential_test<span style=\"color: #808000; text-decoration-color: #808000\">......</span>.\n",
       "</pre>\n"
      ],
      "text/plain": [
       "Make differential_test\u001b[33m...\u001b[0m\u001b[33m...\u001b[0m.\n"
      ]
     },
     "metadata": {},
     "output_type": "display_data"
    },
    {
     "data": {
      "text/html": [
       "<pre style=\"white-space:pre;overflow-x:auto;line-height:normal;font-family:Menlo,'DejaVu Sans Mono',consolas,'Courier New',monospace\">Make null datasets<span style=\"color: #808000; text-decoration-color: #808000\">......</span>.\n",
       "</pre>\n"
      ],
      "text/plain": [
       "Make null datasets\u001b[33m...\u001b[0m\u001b[33m...\u001b[0m.\n"
      ]
     },
     "metadata": {},
     "output_type": "display_data"
    },
    {
     "data": {
      "text/html": [
       "<pre style=\"white-space:pre;overflow-x:auto;line-height:normal;font-family:Menlo,'DejaVu Sans Mono',consolas,'Courier New',monospace\">working on <span style=\"color: #008080; text-decoration-color: #008080; font-weight: bold\">3.0</span> data\n",
       "</pre>\n"
      ],
      "text/plain": [
       "working on \u001b[1;36m3.0\u001b[0m data\n"
      ]
     },
     "metadata": {},
     "output_type": "display_data"
    },
    {
     "data": {
      "text/html": [
       "<pre style=\"white-space:pre;overflow-x:auto;line-height:normal;font-family:Menlo,'DejaVu Sans Mono',consolas,'Courier New',monospace\">Make differential_test<span style=\"color: #808000; text-decoration-color: #808000\">......</span>.\n",
       "</pre>\n"
      ],
      "text/plain": [
       "Make differential_test\u001b[33m...\u001b[0m\u001b[33m...\u001b[0m.\n"
      ]
     },
     "metadata": {},
     "output_type": "display_data"
    },
    {
     "data": {
      "text/html": [
       "<pre style=\"white-space:pre;overflow-x:auto;line-height:normal;font-family:Menlo,'DejaVu Sans Mono',consolas,'Courier New',monospace\">Make null datasets<span style=\"color: #808000; text-decoration-color: #808000\">......</span>.\n",
       "</pre>\n"
      ],
      "text/plain": [
       "Make null datasets\u001b[33m...\u001b[0m\u001b[33m...\u001b[0m.\n"
      ]
     },
     "metadata": {},
     "output_type": "display_data"
    },
    {
     "data": {
      "text/html": [
       "<pre style=\"white-space:pre;overflow-x:auto;line-height:normal;font-family:Menlo,'DejaVu Sans Mono',consolas,'Courier New',monospace\">working on <span style=\"color: #008080; text-decoration-color: #008080; font-weight: bold\">4.0</span> data\n",
       "</pre>\n"
      ],
      "text/plain": [
       "working on \u001b[1;36m4.0\u001b[0m data\n"
      ]
     },
     "metadata": {},
     "output_type": "display_data"
    },
    {
     "data": {
      "text/html": [
       "<pre style=\"white-space:pre;overflow-x:auto;line-height:normal;font-family:Menlo,'DejaVu Sans Mono',consolas,'Courier New',monospace\">Make differential_test<span style=\"color: #808000; text-decoration-color: #808000\">......</span>.\n",
       "</pre>\n"
      ],
      "text/plain": [
       "Make differential_test\u001b[33m...\u001b[0m\u001b[33m...\u001b[0m.\n"
      ]
     },
     "metadata": {},
     "output_type": "display_data"
    },
    {
     "data": {
      "text/html": [
       "<pre style=\"white-space:pre;overflow-x:auto;line-height:normal;font-family:Menlo,'DejaVu Sans Mono',consolas,'Courier New',monospace\">Make null datasets<span style=\"color: #808000; text-decoration-color: #808000\">......</span>.\n",
       "</pre>\n"
      ],
      "text/plain": [
       "Make null datasets\u001b[33m...\u001b[0m\u001b[33m...\u001b[0m.\n"
      ]
     },
     "metadata": {},
     "output_type": "display_data"
    },
    {
     "data": {
      "text/html": [
       "<pre style=\"white-space:pre;overflow-x:auto;line-height:normal;font-family:Menlo,'DejaVu Sans Mono',consolas,'Courier New',monospace\">working on <span style=\"color: #008080; text-decoration-color: #008080; font-weight: bold\">5.0</span> data\n",
       "</pre>\n"
      ],
      "text/plain": [
       "working on \u001b[1;36m5.0\u001b[0m data\n"
      ]
     },
     "metadata": {},
     "output_type": "display_data"
    },
    {
     "data": {
      "text/html": [
       "<pre style=\"white-space:pre;overflow-x:auto;line-height:normal;font-family:Menlo,'DejaVu Sans Mono',consolas,'Courier New',monospace\">Make differential_test<span style=\"color: #808000; text-decoration-color: #808000\">......</span>.\n",
       "</pre>\n"
      ],
      "text/plain": [
       "Make differential_test\u001b[33m...\u001b[0m\u001b[33m...\u001b[0m.\n"
      ]
     },
     "metadata": {},
     "output_type": "display_data"
    },
    {
     "data": {
      "text/html": [
       "<pre style=\"white-space:pre;overflow-x:auto;line-height:normal;font-family:Menlo,'DejaVu Sans Mono',consolas,'Courier New',monospace\">Make null datasets<span style=\"color: #808000; text-decoration-color: #808000\">......</span>.\n",
       "</pre>\n"
      ],
      "text/plain": [
       "Make null datasets\u001b[33m...\u001b[0m\u001b[33m...\u001b[0m.\n"
      ]
     },
     "metadata": {},
     "output_type": "display_data"
    }
   ],
   "source": [
    "#== for shuffle purpose\n",
    "lenthDFDict7={}\n",
    "pValDict7={}\n",
    "varDict7={}\n",
    "for i in set(null_bk_2.obs[\"dpt_5_bin\"]):\n",
    "    print(f\"working on {i} data\")\n",
    "    null=null_bk_2.copy()\n",
    "    condition_loop=condition_assign.iloc[:,1]\n",
    "    null.obs[\"Stage\"]=condition_loop.values\n",
    "    select_name=null.obs_names[(null.obs[\"dpt_5_bin\"]==i)&(null.obs[\"Stage\"]==\"Development\")&(null.obs[\"nhood_ixs_refined\"]!=1)]\n",
    "    # Calculate the number of elements to select (40%)\n",
    "    percentage_to_select = 0.8\n",
    "    num_elements_to_select = int(len(select_name) * percentage_to_select) \n",
    "    # Randomly select elements\n",
    "    random_sample = random.sample(list(select_name.values), num_elements_to_select)\n",
    "    null=null[~null.obs_names.isin(random_sample)]\n",
    "    nulldata = milo2.load(null)\n",
    "    nulldata = milo2.count_nhoods(nulldata, sample_col=\"random\")\n",
    "    print(\"Make differential_test.......\")\n",
    "    milo2.da_nhoods(nulldata, design='~Stage',model_contrasts='StageDevelopment-StageSteady')\n",
    "    print(\"Make null datasets.......\")\n",
    "    milo2.make_null(nulldata, design='~Stage',model_contrasts='StageDevelopment-StageSteady',times=3,FDR=0.05)\n",
    "    milo2.make_range(nulldata,time_col=\"dpt_pred\",FDR=0.05)\n",
    "    lenDf_loop=milo2.permute_test_point(nulldata,n=100,include_null=True)\n",
    "    lenDf_loop=milo2.test_binom(lenDf_loop,times=10)\n",
    "    milo2.test_whole(nulldata)\n",
    "    lenthDFDict7[i]=lenDf_loop\n",
    "    varDict7[i]=nulldata[\"milo\"].var\n",
    "    pValDict7[i]=nulldata[\"milo\"].uns[\"overall_p_val\"]"
   ]
  },
  {
   "cell_type": "code",
   "execution_count": 1579,
   "id": "f98a8355-052f-4186-9cba-3701dbf1b247",
   "metadata": {},
   "outputs": [
    {
     "data": {
      "text/plain": [
       "<AxesSubplot: >"
      ]
     },
     "execution_count": 1579,
     "metadata": {},
     "output_type": "execute_result"
    },
    {
     "data": {
      "image/png": "[encoded data removed]",
      "text/plain": [
       "<Figure size 700x700 with 2 Axes>"
      ]
     },
     "metadata": {},
     "output_type": "display_data"
    }
   ],
   "source": [
    "acceptTab7 = {key: (-np.log(value[\"binom_p\"]+0.001)).astype(int) for key, value in lenthDFDict7.items()}\n",
    "acceptTab7=pd.DataFrame(acceptTab7)\n",
    "PyComplexHeatmap.heatmap(acceptTab7.T)"
   ]
  },
  {
   "cell_type": "code",
   "execution_count": 1581,
   "id": "55d9da17-1819-4c6f-94b4-7b615870fd2f",
   "metadata": {},
   "outputs": [
    {
     "data": {
      "text/plain": [
       "<AxesSubplot: >"
      ]
     },
     "execution_count": 1581,
     "metadata": {},
     "output_type": "execute_result"
    },
    {
     "data": {
      "image/png": "[encoded data removed]",
      "text/plain": [
       "<Figure size 700x700 with 2 Axes>"
      ]
     },
     "metadata": {},
     "output_type": "display_data"
    }
   ],
   "source": [
    "logFcTab7 = {key: value[\"meanLogChange\"] for key, value in lenthDFDict7.items()}\n",
    "logFcTab7=pd.DataFrame(logFcTab7)\n",
    "logFcTab7=logFcTab7.dropna()\n",
    "PyComplexHeatmap.heatmap(logFcTab7.T)"
   ]
  },
  {
   "cell_type": "code",
   "execution_count": null,
   "id": "2ef7147e-1703-435f-b7a0-02dc4348f955",
   "metadata": {},
   "outputs": [],
   "source": []
  },
  {
   "cell_type": "code",
   "execution_count": 1590,
   "id": "6ec6dc5e-d181-4555-b5b4-291e7b523df3",
   "metadata": {},
   "outputs": [
    {
     "data": {
      "text/html": [
       "<pre style=\"white-space:pre;overflow-x:auto;line-height:normal;font-family:Menlo,'DejaVu Sans Mono',consolas,'Courier New',monospace\">working on <span style=\"color: #008080; text-decoration-color: #008080; font-weight: bold\">0.0</span> data\n",
       "</pre>\n"
      ],
      "text/plain": [
       "working on \u001b[1;36m0.0\u001b[0m data\n"
      ]
     },
     "metadata": {},
     "output_type": "display_data"
    },
    {
     "data": {
      "text/html": [
       "<pre style=\"white-space:pre;overflow-x:auto;line-height:normal;font-family:Menlo,'DejaVu Sans Mono',consolas,'Courier New',monospace\">Make differential_test<span style=\"color: #808000; text-decoration-color: #808000\">......</span>.\n",
       "</pre>\n"
      ],
      "text/plain": [
       "Make differential_test\u001b[33m...\u001b[0m\u001b[33m...\u001b[0m.\n"
      ]
     },
     "metadata": {},
     "output_type": "display_data"
    },
    {
     "data": {
      "text/html": [
       "<pre style=\"white-space:pre;overflow-x:auto;line-height:normal;font-family:Menlo,'DejaVu Sans Mono',consolas,'Courier New',monospace\">Make null datasets<span style=\"color: #808000; text-decoration-color: #808000\">......</span>.\n",
       "</pre>\n"
      ],
      "text/plain": [
       "Make null datasets\u001b[33m...\u001b[0m\u001b[33m...\u001b[0m.\n"
      ]
     },
     "metadata": {},
     "output_type": "display_data"
    },
    {
     "data": {
      "text/html": [
       "<pre style=\"white-space:pre;overflow-x:auto;line-height:normal;font-family:Menlo,'DejaVu Sans Mono',consolas,'Courier New',monospace\">working on <span style=\"color: #008080; text-decoration-color: #008080; font-weight: bold\">1.0</span> data\n",
       "</pre>\n"
      ],
      "text/plain": [
       "working on \u001b[1;36m1.0\u001b[0m data\n"
      ]
     },
     "metadata": {},
     "output_type": "display_data"
    },
    {
     "data": {
      "text/html": [
       "<pre style=\"white-space:pre;overflow-x:auto;line-height:normal;font-family:Menlo,'DejaVu Sans Mono',consolas,'Courier New',monospace\">Make differential_test<span style=\"color: #808000; text-decoration-color: #808000\">......</span>.\n",
       "</pre>\n"
      ],
      "text/plain": [
       "Make differential_test\u001b[33m...\u001b[0m\u001b[33m...\u001b[0m.\n"
      ]
     },
     "metadata": {},
     "output_type": "display_data"
    },
    {
     "data": {
      "text/html": [
       "<pre style=\"white-space:pre;overflow-x:auto;line-height:normal;font-family:Menlo,'DejaVu Sans Mono',consolas,'Courier New',monospace\">Make null datasets<span style=\"color: #808000; text-decoration-color: #808000\">......</span>.\n",
       "</pre>\n"
      ],
      "text/plain": [
       "Make null datasets\u001b[33m...\u001b[0m\u001b[33m...\u001b[0m.\n"
      ]
     },
     "metadata": {},
     "output_type": "display_data"
    },
    {
     "data": {
      "text/html": [
       "<pre style=\"white-space:pre;overflow-x:auto;line-height:normal;font-family:Menlo,'DejaVu Sans Mono',consolas,'Courier New',monospace\">working on <span style=\"color: #008080; text-decoration-color: #008080; font-weight: bold\">2.0</span> data\n",
       "</pre>\n"
      ],
      "text/plain": [
       "working on \u001b[1;36m2.0\u001b[0m data\n"
      ]
     },
     "metadata": {},
     "output_type": "display_data"
    },
    {
     "data": {
      "text/html": [
       "<pre style=\"white-space:pre;overflow-x:auto;line-height:normal;font-family:Menlo,'DejaVu Sans Mono',consolas,'Courier New',monospace\">Make differential_test<span style=\"color: #808000; text-decoration-color: #808000\">......</span>.\n",
       "</pre>\n"
      ],
      "text/plain": [
       "Make differential_test\u001b[33m...\u001b[0m\u001b[33m...\u001b[0m.\n"
      ]
     },
     "metadata": {},
     "output_type": "display_data"
    },
    {
     "data": {
      "text/html": [
       "<pre style=\"white-space:pre;overflow-x:auto;line-height:normal;font-family:Menlo,'DejaVu Sans Mono',consolas,'Courier New',monospace\">Make null datasets<span style=\"color: #808000; text-decoration-color: #808000\">......</span>.\n",
       "</pre>\n"
      ],
      "text/plain": [
       "Make null datasets\u001b[33m...\u001b[0m\u001b[33m...\u001b[0m.\n"
      ]
     },
     "metadata": {},
     "output_type": "display_data"
    },
    {
     "data": {
      "text/html": [
       "<pre style=\"white-space:pre;overflow-x:auto;line-height:normal;font-family:Menlo,'DejaVu Sans Mono',consolas,'Courier New',monospace\">working on <span style=\"color: #008080; text-decoration-color: #008080; font-weight: bold\">3.0</span> data\n",
       "</pre>\n"
      ],
      "text/plain": [
       "working on \u001b[1;36m3.0\u001b[0m data\n"
      ]
     },
     "metadata": {},
     "output_type": "display_data"
    },
    {
     "data": {
      "text/html": [
       "<pre style=\"white-space:pre;overflow-x:auto;line-height:normal;font-family:Menlo,'DejaVu Sans Mono',consolas,'Courier New',monospace\">Make differential_test<span style=\"color: #808000; text-decoration-color: #808000\">......</span>.\n",
       "</pre>\n"
      ],
      "text/plain": [
       "Make differential_test\u001b[33m...\u001b[0m\u001b[33m...\u001b[0m.\n"
      ]
     },
     "metadata": {},
     "output_type": "display_data"
    },
    {
     "data": {
      "text/html": [
       "<pre style=\"white-space:pre;overflow-x:auto;line-height:normal;font-family:Menlo,'DejaVu Sans Mono',consolas,'Courier New',monospace\">Make null datasets<span style=\"color: #808000; text-decoration-color: #808000\">......</span>.\n",
       "</pre>\n"
      ],
      "text/plain": [
       "Make null datasets\u001b[33m...\u001b[0m\u001b[33m...\u001b[0m.\n"
      ]
     },
     "metadata": {},
     "output_type": "display_data"
    },
    {
     "data": {
      "text/html": [
       "<pre style=\"white-space:pre;overflow-x:auto;line-height:normal;font-family:Menlo,'DejaVu Sans Mono',consolas,'Courier New',monospace\">working on <span style=\"color: #008080; text-decoration-color: #008080; font-weight: bold\">4.0</span> data\n",
       "</pre>\n"
      ],
      "text/plain": [
       "working on \u001b[1;36m4.0\u001b[0m data\n"
      ]
     },
     "metadata": {},
     "output_type": "display_data"
    },
    {
     "data": {
      "text/html": [
       "<pre style=\"white-space:pre;overflow-x:auto;line-height:normal;font-family:Menlo,'DejaVu Sans Mono',consolas,'Courier New',monospace\">Make differential_test<span style=\"color: #808000; text-decoration-color: #808000\">......</span>.\n",
       "</pre>\n"
      ],
      "text/plain": [
       "Make differential_test\u001b[33m...\u001b[0m\u001b[33m...\u001b[0m.\n"
      ]
     },
     "metadata": {},
     "output_type": "display_data"
    },
    {
     "data": {
      "text/html": [
       "<pre style=\"white-space:pre;overflow-x:auto;line-height:normal;font-family:Menlo,'DejaVu Sans Mono',consolas,'Courier New',monospace\">Make null datasets<span style=\"color: #808000; text-decoration-color: #808000\">......</span>.\n",
       "</pre>\n"
      ],
      "text/plain": [
       "Make null datasets\u001b[33m...\u001b[0m\u001b[33m...\u001b[0m.\n"
      ]
     },
     "metadata": {},
     "output_type": "display_data"
    }
   ],
   "source": [
    "#== for shuffle purpose\n",
    "lenthDFDict8={}\n",
    "pValDict8={}\n",
    "varDict8={}\n",
    "for i in set(null_bk_2.obs[\"dpt_5_bin\"]):\n",
    "    print(f\"working on {i} data\")\n",
    "    null=null_bk_2.copy()\n",
    "    condition_loop=condition_assign.iloc[:,1]\n",
    "    null.obs[\"Stage\"]=condition_loop.values\n",
    "    select_name=null.obs_names[(null.obs[\"dpt_5_bin\"]==i)&(null.obs[\"Stage\"]==\"Development\")&(null.obs[\"nhood_ixs_refined\"]!=1)]\n",
    "    # Calculate the number of elements to select (40%)\n",
    "    percentage_to_select = 0.75\n",
    "    num_elements_to_select = int(len(select_name) * percentage_to_select) \n",
    "    # Randomly select elements\n",
    "    random_sample = random.sample(list(select_name.values), num_elements_to_select)\n",
    "    null=null[~null.obs_names.isin(random_sample)]\n",
    "    nulldata = milo2.load(null)\n",
    "    nulldata = milo2.count_nhoods(nulldata, sample_col=\"random\")\n",
    "    print(\"Make differential_test.......\")\n",
    "    milo2.da_nhoods(nulldata, design='~Stage',model_contrasts='StageDevelopment-StageSteady')\n",
    "    print(\"Make null datasets.......\")\n",
    "    milo2.make_null(nulldata, design='~Stage',model_contrasts='StageDevelopment-StageSteady',times=3,FDR=0.05)\n",
    "    milo2.make_range(nulldata,time_col=\"dpt_pred\",FDR=0.05)\n",
    "    lenDf_loop=milo2.permute_test_point(nulldata,n=100,include_null=True)\n",
    "    lenDf_loop=milo2.test_binom(lenDf_loop,times=10)\n",
    "    milo2.test_whole(nulldata)\n",
    "    lenthDFDict8[i]=lenDf_loop\n",
    "    varDict8[i]=nulldata[\"milo\"].var\n",
    "    pValDict8[i]=nulldata[\"milo\"].uns[\"overall_p_val\"]"
   ]
  },
  {
   "cell_type": "code",
   "execution_count": 1594,
   "id": "4e618e1d-462e-429b-8f9f-8ff7455ff428",
   "metadata": {},
   "outputs": [
    {
     "data": {
      "image/png": "[encoded data removed]",
      "text/plain": [
       "<Figure size 700x700 with 2 Axes>"
      ]
     },
     "metadata": {},
     "output_type": "display_data"
    }
   ],
   "source": [
    "acceptTab8 = {key: (-np.log(value[\"binom_p\"]+0.001)).astype(int) for key, value in lenthDFDict8.items()}\n",
    "acceptTab8=pd.DataFrame(acceptTab8)\n",
    "PyComplexHeatmap.heatmap(acceptTab8.T)\n",
    "plt.savefig(\"../result/11.24_benchmark_composition/grad_FDR_heatmap_null_spike.pdf\")"
   ]
  },
  {
   "cell_type": "code",
   "execution_count": 1593,
   "id": "3c6e982c-ccdb-43b4-b428-a7b59f59fabe",
   "metadata": {},
   "outputs": [
    {
     "data": {
      "image/png": "[encoded data removed]",
      "text/plain": [
       "<Figure size 700x700 with 2 Axes>"
      ]
     },
     "metadata": {},
     "output_type": "display_data"
    }
   ],
   "source": [
    "logFcTab8 = {key: value[\"meanLogChange\"] for key, value in lenthDFDict8.items()}\n",
    "logFcTab8=pd.DataFrame(logFcTab8)\n",
    "logFcTab8=logFcTab8.dropna()\n",
    "PyComplexHeatmap.heatmap(logFcTab8.T)\n",
    "plt.savefig(\"../result/11.24_benchmark_composition/grad_logFC_heatmap_null_spike.pdf\")"
   ]
  },
  {
   "cell_type": "code",
   "execution_count": 1595,
   "id": "d9b9986e-642d-453a-9768-9941313362d6",
   "metadata": {},
   "outputs": [],
   "source": [
    "acceptTab.to_csv(\"../processed_data/11.23_process_null/11.25_accept_grad.csv\")\n",
    "logFcTab.to_csv(\"../processed_data/11.23_process_null/11.25_logFC_grad.csv\")\n",
    "\n",
    "acceptTab5.to_csv(\"../processed_data/11.23_process_null/11.25_accept_null.csv\")\n",
    "logFcTab5.to_csv(\"../processed_data/11.23_process_null/11.25_logFC_null.csv\")\n",
    "acceptTab8.to_csv(\"../processed_data/11.23_process_null/11.25_accept_spike.csv\")\n",
    "logFcTab8.to_csv(\"../processed_data/11.23_process_null/11.25_logFC_spike.csv\")"
   ]
  },
  {
   "cell_type": "code",
   "execution_count": 1596,
   "id": "bd087529-156c-46ae-92fc-691d1e8072ec",
   "metadata": {},
   "outputs": [],
   "source": [
    "null_bk_2.write_h5ad(\"../processed_data/11.23_process_null/11.25_null.h5ad\")"
   ]
  },
  {
   "cell_type": "code",
   "execution_count": 1602,
   "id": "569fd364-0be3-4052-8359-6f962102d00a",
   "metadata": {},
   "outputs": [
    {
     "data": {
      "text/plain": [
       "OverloadedDict, wrapping:\n",
       "\t{'connectivities_key': 'connectivities', 'distances_key': 'distances', 'params': {'n_neighbors': 150, 'method': 'umap', 'random_state': 0, 'metric': 'euclidean', 'use_rep': 'X_scANVI', 'n_pcs': 15}}\n",
       "With overloaded keys:\n",
       "\t['connectivities', 'distances']."
      ]
     },
     "execution_count": 1602,
     "metadata": {},
     "output_type": "execute_result"
    }
   ],
   "source": [
    "adata.uns[\"neighbors\"][\"params\"][\"use_rep\"]"
   ]
  },
  {
   "cell_type": "code",
   "execution_count": 1604,
   "id": "0f430282-b60f-4db1-b0cc-a2dfdae00917",
   "metadata": {},
   "outputs": [
    {
     "data": {
      "text/plain": [
       "AnnData object with n_obs × n_vars = 67329 × 17312\n",
       "    obs: 'orig.ident', 'nCount_originalexp', 'nFeature_originalexp', 'Sample', 'Project', 'Limb.Atlas', 'Organ', 'Tissue', 'Tissue.Specific.', 'Stage', 'Gene.type', 'Treatment', 'Age', 'Age.In.Detail.', 'Machine', 'Species', 'Isolation.approach', 'Digestion', 'Enzymes', 'Bone.Forming.Methods', 'Data.Source', 'Related.Assay', 'Origin', 'nCount_RNA', 'nFeature_RNA', 'paper_label', 'coarse_label', 'scDblFinder_class', 'short_id', 'temp_cluster', 'batch', 'batch_atlas', 'size_factors', 'n_genes_by_counts', 'log1p_n_genes_by_counts', 'total_counts', 'log1p_total_counts', 'pct_counts_in_top_50_genes', 'pct_counts_in_top_100_genes', 'pct_counts_in_top_200_genes', 'pct_counts_in_top_500_genes', 'new_totals_log', 'anno_level_1', 'anno_level_2', 'anno_level_3', 'anno_level_4', 'anno_level_5', 'mix_level_1', 'mix_level_2', 'merge_id_level3', 'merge_id_level4', 'merge_id_level5', 'cellid', 'leiden_clusters_level_1', 'leiden_clusters_level_2', 'leiden_clusters_level_3', 'leiden_clusters_level_4', 'leiden_clusters_level_5', 'leiden_clusters_level_6', 'leiden_clusters_level_7', 'K2', 'K7', 'K19', 'K36', 'K66', 'K112', 'K220', 'C2', 'C7', 'C19', 'C36', 'C49', 'C90', 'C137', 'C2_named', 'C7_named', 'C19_named', 'C36_named', 'C49_named', 'C90_named', 'C137_named', 'sample_coarse', 'lineage_string', 'dpt_pseudotime', 'start', 'palantir_pseudotime', 'palantir_entropy', 'palantir_norm', 'lineage_chondro', 'lineage_laFibro', 'lineage_lepr', 'lineage_mesenchyme', 'pred_dpt', 'dpt_pred', 'nhood_ixs_random', 'nhood_ixs_refined', 'nhood_kth_distance'\n",
       "    var: 'features-0', 'n_cells_by_counts-0', 'mean_counts-0', 'log1p_mean_counts-0', 'pct_dropout_by_counts-0', 'total_counts-0', 'log1p_total_counts-0', 'highly_variable-0', 'means-0', 'dispersions-0', 'dispersions_norm-0', 'highly_variable_nbatches-0', 'highly_variable_intersection-0', 'features-1', 'n_cells_by_counts-1', 'mean_counts-1', 'log1p_mean_counts-1', 'pct_dropout_by_counts-1', 'total_counts-1', 'log1p_total_counts-1', 'highly_variable-1', 'means-1', 'dispersions-1', 'dispersions_norm-1', 'highly_variable_nbatches-1', 'highly_variable_intersection-1', 'highly_variable-2', 'means-2', 'dispersions-2', 'dispersions_norm-2', 'highly_variable_nbatches-2', 'highly_variable_intersection-2', 'features.0-2', 'n_cells_by_counts', 'mean_counts', 'log1p_mean_counts', 'pct_dropout_by_counts', 'total_counts', 'log1p_total_counts', 'highly_variable', 'means', 'dispersions', 'dispersions_norm', 'highly_variable_nbatches', 'highly_variable_intersection', 'n_cells', 'RF_highly'\n",
       "    uns: 'C19_named_colors', 'C7_named_colors', 'DM_EigenValues', 'coarse_label_colors', 'diffmap_evals', 'draw_graph', 'hvg', 'iroot', 'lineage_laFibro_colors', 'lineage_string_colors', 'mix_level_2_colors', 'mix_level_2_sizes', 'neighbors', 'paga', 'palantir_waypoints', 'sample_coarse_sizes', 'umap', 'nhood_neighbors_key'\n",
       "    obsm: 'DM_EigenVectors', 'DM_EigenVectors_multiscaled', 'X_diffmap', 'X_draw_graph_fa', 'X_pca', 'X_scANVI', 'X_umap', 'palantir_fate_probabilities', 'nhoods'\n",
       "    layers: 'counts'\n",
       "    obsp: 'DM_Kernel', 'DM_Similarity', 'connectivities', 'distances'"
      ]
     },
     "execution_count": 1604,
     "metadata": {},
     "output_type": "execute_result"
    }
   ],
   "source": [
    "adata"
   ]
  },
  {
   "cell_type": "code",
   "execution_count": 1607,
   "id": "517cf247-bf11-4ff3-b60c-653f15e42a48",
   "metadata": {},
   "outputs": [],
   "source": [
    "import palantir"
   ]
  },
  {
   "cell_type": "code",
   "execution_count": 1608,
   "id": "af1e0833-d401-4589-bd2e-d1389da0362a",
   "metadata": {},
   "outputs": [
    {
     "data": {
      "image/png": "[encoded data removed]",
      "text/plain": [
       "<Figure size 400x400 with 2 Axes>"
      ]
     },
     "metadata": {},
     "output_type": "display_data"
    }
   ],
   "source": [
    "sc.pl.umap(adata,color=\"Sp7\",use_raw=False)"
   ]
  },
  {
   "cell_type": "code",
   "execution_count": 1620,
   "id": "62a84995-83f6-4389-9037-866590a64487",
   "metadata": {},
   "outputs": [
    {
     "data": {
      "text/html": [
       "<div>\n",
       "<style scoped>\n",
       "    .dataframe tbody tr th:only-of-type {\n",
       "        vertical-align: middle;\n",
       "    }\n",
       "\n",
       "    .dataframe tbody tr th {\n",
       "        vertical-align: top;\n",
       "    }\n",
       "\n",
       "    .dataframe thead th {\n",
       "        text-align: right;\n",
       "    }\n",
       "</style>\n",
       "<table border=\"1\" class=\"dataframe\">\n",
       "  <thead>\n",
       "    <tr style=\"text-align: right;\">\n",
       "      <th></th>\n",
       "      <th>features-0</th>\n",
       "      <th>n_cells_by_counts-0</th>\n",
       "      <th>mean_counts-0</th>\n",
       "      <th>log1p_mean_counts-0</th>\n",
       "      <th>pct_dropout_by_counts-0</th>\n",
       "      <th>total_counts-0</th>\n",
       "      <th>log1p_total_counts-0</th>\n",
       "      <th>highly_variable-0</th>\n",
       "      <th>means-0</th>\n",
       "      <th>dispersions-0</th>\n",
       "      <th>...</th>\n",
       "      <th>total_counts</th>\n",
       "      <th>log1p_total_counts</th>\n",
       "      <th>highly_variable</th>\n",
       "      <th>means</th>\n",
       "      <th>dispersions</th>\n",
       "      <th>dispersions_norm</th>\n",
       "      <th>highly_variable_nbatches</th>\n",
       "      <th>highly_variable_intersection</th>\n",
       "      <th>n_cells</th>\n",
       "      <th>RF_highly</th>\n",
       "    </tr>\n",
       "  </thead>\n",
       "  <tbody>\n",
       "    <tr>\n",
       "      <th>0610007N19Rik</th>\n",
       "      <td>0610007N19Rik</td>\n",
       "      <td>0.0</td>\n",
       "      <td>0.000000</td>\n",
       "      <td>0.000000</td>\n",
       "      <td>100.000000</td>\n",
       "      <td>0.000000</td>\n",
       "      <td>0.000000</td>\n",
       "      <td>0.0</td>\n",
       "      <td>0.000000</td>\n",
       "      <td>0.000000</td>\n",
       "      <td>...</td>\n",
       "      <td>61078.386719</td>\n",
       "      <td>11.019930</td>\n",
       "      <td>False</td>\n",
       "      <td>0.051725</td>\n",
       "      <td>0.022979</td>\n",
       "      <td>0.007454</td>\n",
       "      <td>0</td>\n",
       "      <td>False</td>\n",
       "      <td>5704</td>\n",
       "      <td>False</td>\n",
       "    </tr>\n",
       "    <tr>\n",
       "      <th>0610007P14Rik</th>\n",
       "      <td>0610007P14Rik</td>\n",
       "      <td>15767.0</td>\n",
       "      <td>0.223641</td>\n",
       "      <td>0.201831</td>\n",
       "      <td>85.104534</td>\n",
       "      <td>23672.655466</td>\n",
       "      <td>10.072118</td>\n",
       "      <td>0.0</td>\n",
       "      <td>0.133046</td>\n",
       "      <td>0.249954</td>\n",
       "      <td>...</td>\n",
       "      <td>123761.968750</td>\n",
       "      <td>11.726124</td>\n",
       "      <td>False</td>\n",
       "      <td>0.238195</td>\n",
       "      <td>0.509076</td>\n",
       "      <td>-0.157988</td>\n",
       "      <td>0</td>\n",
       "      <td>False</td>\n",
       "      <td>44695</td>\n",
       "      <td>True</td>\n",
       "    </tr>\n",
       "    <tr>\n",
       "      <th>0610009B22Rik</th>\n",
       "      <td>0610009B22Rik</td>\n",
       "      <td>30409.0</td>\n",
       "      <td>0.347876</td>\n",
       "      <td>0.298530</td>\n",
       "      <td>71.271882</td>\n",
       "      <td>36823.016599</td>\n",
       "      <td>10.513906</td>\n",
       "      <td>0.0</td>\n",
       "      <td>0.188494</td>\n",
       "      <td>0.739788</td>\n",
       "      <td>...</td>\n",
       "      <td>119780.578125</td>\n",
       "      <td>11.693425</td>\n",
       "      <td>False</td>\n",
       "      <td>0.224686</td>\n",
       "      <td>0.811211</td>\n",
       "      <td>-0.516921</td>\n",
       "      <td>0</td>\n",
       "      <td>False</td>\n",
       "      <td>53356</td>\n",
       "      <td>False</td>\n",
       "    </tr>\n",
       "    <tr>\n",
       "      <th>0610009D07Rik</th>\n",
       "      <td>0610009D07Rik</td>\n",
       "      <td>0.0</td>\n",
       "      <td>0.000000</td>\n",
       "      <td>0.000000</td>\n",
       "      <td>100.000000</td>\n",
       "      <td>0.000000</td>\n",
       "      <td>0.000000</td>\n",
       "      <td>0.0</td>\n",
       "      <td>0.000000</td>\n",
       "      <td>0.000000</td>\n",
       "      <td>...</td>\n",
       "      <td>22710.916016</td>\n",
       "      <td>10.030645</td>\n",
       "      <td>False</td>\n",
       "      <td>0.029726</td>\n",
       "      <td>0.021847</td>\n",
       "      <td>0.000805</td>\n",
       "      <td>0</td>\n",
       "      <td>False</td>\n",
       "      <td>4879</td>\n",
       "      <td>False</td>\n",
       "    </tr>\n",
       "    <tr>\n",
       "      <th>0610009E02Rik</th>\n",
       "      <td>0610009E02Rik</td>\n",
       "      <td>300.0</td>\n",
       "      <td>0.003130</td>\n",
       "      <td>0.003125</td>\n",
       "      <td>99.716583</td>\n",
       "      <td>331.270360</td>\n",
       "      <td>5.805949</td>\n",
       "      <td>0.0</td>\n",
       "      <td>0.001221</td>\n",
       "      <td>0.128718</td>\n",
       "      <td>...</td>\n",
       "      <td>2181.964600</td>\n",
       "      <td>7.688439</td>\n",
       "      <td>False</td>\n",
       "      <td>0.004934</td>\n",
       "      <td>0.245081</td>\n",
       "      <td>0.010241</td>\n",
       "      <td>2</td>\n",
       "      <td>False</td>\n",
       "      <td>1409</td>\n",
       "      <td>False</td>\n",
       "    </tr>\n",
       "    <tr>\n",
       "      <th>...</th>\n",
       "      <td>...</td>\n",
       "      <td>...</td>\n",
       "      <td>...</td>\n",
       "      <td>...</td>\n",
       "      <td>...</td>\n",
       "      <td>...</td>\n",
       "      <td>...</td>\n",
       "      <td>...</td>\n",
       "      <td>...</td>\n",
       "      <td>...</td>\n",
       "      <td>...</td>\n",
       "      <td>...</td>\n",
       "      <td>...</td>\n",
       "      <td>...</td>\n",
       "      <td>...</td>\n",
       "      <td>...</td>\n",
       "      <td>...</td>\n",
       "      <td>...</td>\n",
       "      <td>...</td>\n",
       "      <td>...</td>\n",
       "      <td>...</td>\n",
       "    </tr>\n",
       "    <tr>\n",
       "      <th>mt-Ty</th>\n",
       "      <td>mt-Ty</td>\n",
       "      <td>2967.0</td>\n",
       "      <td>0.034974</td>\n",
       "      <td>0.034376</td>\n",
       "      <td>97.197003</td>\n",
       "      <td>3702.000000</td>\n",
       "      <td>8.216899</td>\n",
       "      <td>0.0</td>\n",
       "      <td>0.012450</td>\n",
       "      <td>0.065605</td>\n",
       "      <td>...</td>\n",
       "      <td>4489.834473</td>\n",
       "      <td>8.409794</td>\n",
       "      <td>False</td>\n",
       "      <td>0.005193</td>\n",
       "      <td>0.027136</td>\n",
       "      <td>-0.048117</td>\n",
       "      <td>0</td>\n",
       "      <td>False</td>\n",
       "      <td>2627</td>\n",
       "      <td>False</td>\n",
       "    </tr>\n",
       "    <tr>\n",
       "      <th>tdT-WPRE-trans</th>\n",
       "      <td>tdT-WPRE-trans</td>\n",
       "      <td>0.0</td>\n",
       "      <td>0.000000</td>\n",
       "      <td>0.000000</td>\n",
       "      <td>100.000000</td>\n",
       "      <td>0.000000</td>\n",
       "      <td>0.000000</td>\n",
       "      <td>0.0</td>\n",
       "      <td>0.000000</td>\n",
       "      <td>0.000000</td>\n",
       "      <td>...</td>\n",
       "      <td>772972.437500</td>\n",
       "      <td>13.558000</td>\n",
       "      <td>False</td>\n",
       "      <td>0.326600</td>\n",
       "      <td>0.070457</td>\n",
       "      <td>0.092797</td>\n",
       "      <td>2</td>\n",
       "      <td>False</td>\n",
       "      <td>33494</td>\n",
       "      <td>True</td>\n",
       "    </tr>\n",
       "    <tr>\n",
       "      <th>tdTomato-WPRE-trans</th>\n",
       "      <td>NaN</td>\n",
       "      <td>NaN</td>\n",
       "      <td>NaN</td>\n",
       "      <td>NaN</td>\n",
       "      <td>NaN</td>\n",
       "      <td>NaN</td>\n",
       "      <td>NaN</td>\n",
       "      <td>NaN</td>\n",
       "      <td>NaN</td>\n",
       "      <td>NaN</td>\n",
       "      <td>...</td>\n",
       "      <td>39834.292969</td>\n",
       "      <td>10.592508</td>\n",
       "      <td>False</td>\n",
       "      <td>0.026470</td>\n",
       "      <td>0.024281</td>\n",
       "      <td>0.036881</td>\n",
       "      <td>2</td>\n",
       "      <td>False</td>\n",
       "      <td>2154</td>\n",
       "      <td>False</td>\n",
       "    </tr>\n",
       "    <tr>\n",
       "      <th>tdtomato</th>\n",
       "      <td>NaN</td>\n",
       "      <td>NaN</td>\n",
       "      <td>NaN</td>\n",
       "      <td>NaN</td>\n",
       "      <td>NaN</td>\n",
       "      <td>NaN</td>\n",
       "      <td>NaN</td>\n",
       "      <td>NaN</td>\n",
       "      <td>NaN</td>\n",
       "      <td>NaN</td>\n",
       "      <td>...</td>\n",
       "      <td>44333.425781</td>\n",
       "      <td>10.699516</td>\n",
       "      <td>False</td>\n",
       "      <td>0.033914</td>\n",
       "      <td>0.000533</td>\n",
       "      <td>-0.028492</td>\n",
       "      <td>0</td>\n",
       "      <td>False</td>\n",
       "      <td>974</td>\n",
       "      <td>True</td>\n",
       "    </tr>\n",
       "    <tr>\n",
       "      <th>tomato</th>\n",
       "      <td>NaN</td>\n",
       "      <td>NaN</td>\n",
       "      <td>NaN</td>\n",
       "      <td>NaN</td>\n",
       "      <td>NaN</td>\n",
       "      <td>NaN</td>\n",
       "      <td>NaN</td>\n",
       "      <td>NaN</td>\n",
       "      <td>NaN</td>\n",
       "      <td>NaN</td>\n",
       "      <td>...</td>\n",
       "      <td>818299.875000</td>\n",
       "      <td>13.614985</td>\n",
       "      <td>False</td>\n",
       "      <td>0.138464</td>\n",
       "      <td>0.002947</td>\n",
       "      <td>-0.069795</td>\n",
       "      <td>0</td>\n",
       "      <td>False</td>\n",
       "      <td>14483</td>\n",
       "      <td>True</td>\n",
       "    </tr>\n",
       "  </tbody>\n",
       "</table>\n",
       "<p>17312 rows × 47 columns</p>\n",
       "</div>"
      ],
      "text/plain": [
       "                         features-0  n_cells_by_counts-0  mean_counts-0  \\\n",
       "0610007N19Rik         0610007N19Rik                  0.0       0.000000   \n",
       "0610007P14Rik         0610007P14Rik              15767.0       0.223641   \n",
       "0610009B22Rik         0610009B22Rik              30409.0       0.347876   \n",
       "0610009D07Rik         0610009D07Rik                  0.0       0.000000   \n",
       "0610009E02Rik         0610009E02Rik                300.0       0.003130   \n",
       "...                             ...                  ...            ...   \n",
       "mt-Ty                         mt-Ty               2967.0       0.034974   \n",
       "tdT-WPRE-trans       tdT-WPRE-trans                  0.0       0.000000   \n",
       "tdTomato-WPRE-trans             NaN                  NaN            NaN   \n",
       "tdtomato                        NaN                  NaN            NaN   \n",
       "tomato                          NaN                  NaN            NaN   \n",
       "\n",
       "                     log1p_mean_counts-0  pct_dropout_by_counts-0  \\\n",
       "0610007N19Rik                   0.000000               100.000000   \n",
       "0610007P14Rik                   0.201831                85.104534   \n",
       "0610009B22Rik                   0.298530                71.271882   \n",
       "0610009D07Rik                   0.000000               100.000000   \n",
       "0610009E02Rik                   0.003125                99.716583   \n",
       "...                                  ...                      ...   \n",
       "mt-Ty                           0.034376                97.197003   \n",
       "tdT-WPRE-trans                  0.000000               100.000000   \n",
       "tdTomato-WPRE-trans                  NaN                      NaN   \n",
       "tdtomato                             NaN                      NaN   \n",
       "tomato                               NaN                      NaN   \n",
       "\n",
       "                     total_counts-0  log1p_total_counts-0  highly_variable-0  \\\n",
       "0610007N19Rik              0.000000              0.000000                0.0   \n",
       "0610007P14Rik          23672.655466             10.072118                0.0   \n",
       "0610009B22Rik          36823.016599             10.513906                0.0   \n",
       "0610009D07Rik              0.000000              0.000000                0.0   \n",
       "0610009E02Rik            331.270360              5.805949                0.0   \n",
       "...                             ...                   ...                ...   \n",
       "mt-Ty                   3702.000000              8.216899                0.0   \n",
       "tdT-WPRE-trans             0.000000              0.000000                0.0   \n",
       "tdTomato-WPRE-trans             NaN                   NaN                NaN   \n",
       "tdtomato                        NaN                   NaN                NaN   \n",
       "tomato                          NaN                   NaN                NaN   \n",
       "\n",
       "                      means-0  dispersions-0  ...   total_counts  \\\n",
       "0610007N19Rik        0.000000       0.000000  ...   61078.386719   \n",
       "0610007P14Rik        0.133046       0.249954  ...  123761.968750   \n",
       "0610009B22Rik        0.188494       0.739788  ...  119780.578125   \n",
       "0610009D07Rik        0.000000       0.000000  ...   22710.916016   \n",
       "0610009E02Rik        0.001221       0.128718  ...    2181.964600   \n",
       "...                       ...            ...  ...            ...   \n",
       "mt-Ty                0.012450       0.065605  ...    4489.834473   \n",
       "tdT-WPRE-trans       0.000000       0.000000  ...  772972.437500   \n",
       "tdTomato-WPRE-trans       NaN            NaN  ...   39834.292969   \n",
       "tdtomato                  NaN            NaN  ...   44333.425781   \n",
       "tomato                    NaN            NaN  ...  818299.875000   \n",
       "\n",
       "                     log1p_total_counts  highly_variable     means  \\\n",
       "0610007N19Rik                 11.019930            False  0.051725   \n",
       "0610007P14Rik                 11.726124            False  0.238195   \n",
       "0610009B22Rik                 11.693425            False  0.224686   \n",
       "0610009D07Rik                 10.030645            False  0.029726   \n",
       "0610009E02Rik                  7.688439            False  0.004934   \n",
       "...                                 ...              ...       ...   \n",
       "mt-Ty                          8.409794            False  0.005193   \n",
       "tdT-WPRE-trans                13.558000            False  0.326600   \n",
       "tdTomato-WPRE-trans           10.592508            False  0.026470   \n",
       "tdtomato                      10.699516            False  0.033914   \n",
       "tomato                        13.614985            False  0.138464   \n",
       "\n",
       "                     dispersions  dispersions_norm  highly_variable_nbatches  \\\n",
       "0610007N19Rik           0.022979          0.007454                         0   \n",
       "0610007P14Rik           0.509076         -0.157988                         0   \n",
       "0610009B22Rik           0.811211         -0.516921                         0   \n",
       "0610009D07Rik           0.021847          0.000805                         0   \n",
       "0610009E02Rik           0.245081          0.010241                         2   \n",
       "...                          ...               ...                       ...   \n",
       "mt-Ty                   0.027136         -0.048117                         0   \n",
       "tdT-WPRE-trans          0.070457          0.092797                         2   \n",
       "tdTomato-WPRE-trans     0.024281          0.036881                         2   \n",
       "tdtomato                0.000533         -0.028492                         0   \n",
       "tomato                  0.002947         -0.069795                         0   \n",
       "\n",
       "                     highly_variable_intersection  n_cells  RF_highly  \n",
       "0610007N19Rik                               False     5704      False  \n",
       "0610007P14Rik                               False    44695       True  \n",
       "0610009B22Rik                               False    53356      False  \n",
       "0610009D07Rik                               False     4879      False  \n",
       "0610009E02Rik                               False     1409      False  \n",
       "...                                           ...      ...        ...  \n",
       "mt-Ty                                       False     2627      False  \n",
       "tdT-WPRE-trans                              False    33494       True  \n",
       "tdTomato-WPRE-trans                         False     2154      False  \n",
       "tdtomato                                    False      974       True  \n",
       "tomato                                      False    14483       True  \n",
       "\n",
       "[17312 rows x 47 columns]"
      ]
     },
     "execution_count": 1620,
     "metadata": {},
     "output_type": "execute_result"
    }
   ],
   "source": [
    "adata.var"
   ]
  },
  {
   "cell_type": "code",
   "execution_count": 1621,
   "id": "6bb69cc5-bec4-4112-8617-aee80e97c339",
   "metadata": {},
   "outputs": [
    {
     "data": {
      "text/plain": [
       "AnnData object with n_obs × n_vars = 67329 × 17312\n",
       "    obs: 'orig.ident', 'nCount_originalexp', 'nFeature_originalexp', 'Sample', 'Project', 'Limb.Atlas', 'Organ', 'Tissue', 'Tissue.Specific.', 'Stage', 'Gene.type', 'Treatment', 'Age', 'Age.In.Detail.', 'Machine', 'Species', 'Isolation.approach', 'Digestion', 'Enzymes', 'Bone.Forming.Methods', 'Data.Source', 'Related.Assay', 'Origin', 'nCount_RNA', 'nFeature_RNA', 'paper_label', 'coarse_label', 'scDblFinder_class', 'short_id', 'temp_cluster', 'batch', 'batch_atlas', 'size_factors', 'n_genes_by_counts', 'log1p_n_genes_by_counts', 'total_counts', 'log1p_total_counts', 'pct_counts_in_top_50_genes', 'pct_counts_in_top_100_genes', 'pct_counts_in_top_200_genes', 'pct_counts_in_top_500_genes', 'new_totals_log', 'anno_level_1', 'anno_level_2', 'anno_level_3', 'anno_level_4', 'anno_level_5', 'mix_level_1', 'mix_level_2', 'merge_id_level3', 'merge_id_level4', 'merge_id_level5', 'cellid', 'leiden_clusters_level_1', 'leiden_clusters_level_2', 'leiden_clusters_level_3', 'leiden_clusters_level_4', 'leiden_clusters_level_5', 'leiden_clusters_level_6', 'leiden_clusters_level_7', 'K2', 'K7', 'K19', 'K36', 'K66', 'K112', 'K220', 'C2', 'C7', 'C19', 'C36', 'C49', 'C90', 'C137', 'C2_named', 'C7_named', 'C19_named', 'C36_named', 'C49_named', 'C90_named', 'C137_named', 'sample_coarse', 'lineage_string', 'dpt_pseudotime', 'start', 'palantir_pseudotime', 'palantir_entropy', 'palantir_norm', 'lineage_chondro', 'lineage_laFibro', 'lineage_lepr', 'lineage_mesenchyme', 'pred_dpt', 'dpt_pred', 'nhood_ixs_random', 'nhood_ixs_refined', 'nhood_kth_distance'\n",
       "    var: 'features-0', 'n_cells_by_counts-0', 'mean_counts-0', 'log1p_mean_counts-0', 'pct_dropout_by_counts-0', 'total_counts-0', 'log1p_total_counts-0', 'highly_variable-0', 'means-0', 'dispersions-0', 'dispersions_norm-0', 'highly_variable_nbatches-0', 'highly_variable_intersection-0', 'features-1', 'n_cells_by_counts-1', 'mean_counts-1', 'log1p_mean_counts-1', 'pct_dropout_by_counts-1', 'total_counts-1', 'log1p_total_counts-1', 'highly_variable-1', 'means-1', 'dispersions-1', 'dispersions_norm-1', 'highly_variable_nbatches-1', 'highly_variable_intersection-1', 'highly_variable-2', 'means-2', 'dispersions-2', 'dispersions_norm-2', 'highly_variable_nbatches-2', 'highly_variable_intersection-2', 'features.0-2', 'n_cells_by_counts', 'mean_counts', 'log1p_mean_counts', 'pct_dropout_by_counts', 'total_counts', 'log1p_total_counts', 'highly_variable', 'means', 'dispersions', 'dispersions_norm', 'highly_variable_nbatches', 'highly_variable_intersection', 'n_cells', 'RF_highly'\n",
       "    uns: 'C19_named_colors', 'C7_named_colors', 'DM_EigenValues', 'coarse_label_colors', 'diffmap_evals', 'draw_graph', 'hvg', 'iroot', 'lineage_laFibro_colors', 'lineage_string_colors', 'mix_level_2_colors', 'mix_level_2_sizes', 'neighbors', 'paga', 'palantir_waypoints', 'sample_coarse_sizes', 'umap', 'nhood_neighbors_key'\n",
       "    obsm: 'DM_EigenVectors', 'DM_EigenVectors_multiscaled', 'X_diffmap', 'X_draw_graph_fa', 'X_pca', 'X_scANVI', 'X_umap', 'palantir_fate_probabilities', 'nhoods'\n",
       "    layers: 'counts'\n",
       "    obsp: 'DM_Kernel', 'DM_Similarity', 'connectivities', 'distances'"
      ]
     },
     "execution_count": 1621,
     "metadata": {},
     "output_type": "execute_result"
    }
   ],
   "source": [
    "adata"
   ]
  }
 ],
 "metadata": {
  "kernelspec": {
   "display_name": "Python 3 (ipykernel)",
   "language": "python",
   "name": "python3"
  },
  "language_info": {
   "codemirror_mode": {
    "name": "ipython",
    "version": 3
   },
   "file_extension": ".py",
   "mimetype": "text/x-python",
   "name": "python",
   "nbconvert_exporter": "python",
   "pygments_lexer": "ipython3",
   "version": "3.10.12"
  }
 },
 "nbformat": 4,
 "nbformat_minor": 5
}
