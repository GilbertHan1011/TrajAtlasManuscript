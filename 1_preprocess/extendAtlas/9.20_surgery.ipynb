{
 "cells": [
  {
   "cell_type": "code",
   "execution_count": 40,
   "id": "47cb25a1-c937-4777-bf78-da642ba3bdc5",
   "metadata": {},
   "outputs": [],
   "source": [
    "\n",
    "def weighted_knn_trainer(train_adata, train_adata_emb, label_key, n_neighbors=50):\n",
    "    \"\"\"Trains a weighted KNN classifier on ``train_adata``.\n",
    "    Parameters\n",
    "    ----------\n",
    "    train_adata: :class:`~anndata.AnnData`\n",
    "        Annotated dataset to be used to train KNN classifier with ``label_key`` as the target variable.\n",
    "    train_adata_emb: str\n",
    "        Name of the obsm layer to be used for calculation of neighbors. If set to \"X\", anndata.X will be\n",
    "        used\n",
    "    label_key: str\n",
    "        Name of the column to be used as target variable (e.g. cell_type) in ``train_adata`` and ``query_adata``.\n",
    "    n_neighbors: int\n",
    "        Number of nearest neighbors in KNN classifier.\n",
    "    \"\"\"\n",
    "    print(\n",
    "        f\"Weighted KNN with n_neighbors = {n_neighbors} ... \",\n",
    "        end=\"\",\n",
    "    )\n",
    "    k_neighbors_transformer = KNeighborsTransformer(\n",
    "        n_neighbors=n_neighbors,\n",
    "        mode=\"distance\",\n",
    "        algorithm=\"brute\",\n",
    "        metric=\"euclidean\",\n",
    "        n_jobs=-1,\n",
    "    )\n",
    "    if train_adata_emb == \"X\":\n",
    "        train_emb = train_adata.X\n",
    "    elif train_adata_emb in train_adata.obsm.keys():\n",
    "        train_emb = train_adata.obsm[train_adata_emb]\n",
    "    else:\n",
    "        raise ValueError(\n",
    "            \"train_adata_emb should be set to either 'X' or the name of the obsm layer to be used!\"\n",
    "        )\n",
    "    k_neighbors_transformer.fit(train_emb)\n",
    "    return k_neighbors_transformer\n",
    "\n",
    "\n",
    "def weighted_knn_transfer(\n",
    "    query_adata,\n",
    "    query_adata_emb,\n",
    "    ref_adata_obs,\n",
    "    label_keys,\n",
    "    knn_model,\n",
    "    threshold=1,\n",
    "    pred_unknown=False,\n",
    "    mode=\"package\",\n",
    "):\n",
    "    \"\"\"Annotates ``query_adata`` cells with an input trained weighted KNN classifier.\n",
    "    Parameters\n",
    "    ----------\n",
    "    query_adata: :class:`~anndata.AnnData`\n",
    "        Annotated dataset to be used to queryate KNN classifier. Embedding to be used\n",
    "    query_adata_emb: str\n",
    "        Name of the obsm layer to be used for label transfer. If set to \"X\",\n",
    "        query_adata.X will be used\n",
    "    ref_adata_obs: :class:`pd.DataFrame`\n",
    "        obs of ref Anndata\n",
    "    label_keys: str\n",
    "        Names of the columns to be used as target variables (e.g. cell_type) in ``query_adata``.\n",
    "    knn_model: :class:`~sklearn.neighbors._graph.KNeighborsTransformer`\n",
    "        knn model trained on reference adata with weighted_knn_trainer function\n",
    "    threshold: float\n",
    "        Threshold of uncertainty used to annotating cells as \"Unknown\". cells with\n",
    "        uncertainties higher than this value will be annotated as \"Unknown\".\n",
    "        Set to 1 to keep all predictions. This enables one to later on play\n",
    "        with thresholds.\n",
    "    pred_unknown: bool\n",
    "        ``False`` by default. Whether to annotate any cell as \"unknown\" or not.\n",
    "        If `False`, ``threshold`` will not be used and each cell will be annotated\n",
    "        with the label which is the most common in its ``n_neighbors`` nearest cells.\n",
    "    mode: str\n",
    "        Has to be one of \"paper\" or \"package\". If mode is set to \"package\",\n",
    "        uncertainties will be 1 - P(pred_label), otherwise it will be 1 - P(true_label).\n",
    "    \"\"\"\n",
    "    if not type(knn_model) == KNeighborsTransformer:\n",
    "        raise ValueError(\n",
    "            \"knn_model should be of type sklearn.neighbors._graph.KNeighborsTransformer!\"\n",
    "        )\n",
    "\n",
    "    if query_adata_emb == \"X\":\n",
    "        query_emb = query_adata.X\n",
    "    elif query_adata_emb in query_adata.obsm.keys():\n",
    "        query_emb = query_adata.obsm[query_adata_emb]\n",
    "    else:\n",
    "        raise ValueError(\n",
    "            \"query_adata_emb should be set to either 'X' or the name of the obsm layer to be used!\"\n",
    "        )\n",
    "    top_k_distances, top_k_indices = knn_model.kneighbors(X=query_emb)\n",
    "\n",
    "    stds = np.std(top_k_distances, axis=1)\n",
    "    stds = (2.0 / stds) ** 2\n",
    "    stds = stds.reshape(-1, 1)\n",
    "\n",
    "    top_k_distances_tilda = np.exp(-np.true_divide(top_k_distances, stds))\n",
    "\n",
    "    weights = top_k_distances_tilda / np.sum(\n",
    "        top_k_distances_tilda, axis=1, keepdims=True\n",
    "    )\n",
    "    cols = ref_adata_obs.columns[ref_adata_obs.columns.str.endswith(label_keys)]\n",
    "    uncertainties = pd.DataFrame(columns=cols, index=query_adata.obs_names)\n",
    "    pred_labels = pd.DataFrame(columns=cols, index=query_adata.obs_names)\n",
    "    for i in range(len(weights)):\n",
    "        for j in cols:\n",
    "            y_train_labels = ref_adata_obs[j].values\n",
    "            unique_labels = np.unique(y_train_labels[top_k_indices[i]])\n",
    "            best_label, best_prob = None, 0.0\n",
    "            for candidate_label in unique_labels:\n",
    "                candidate_prob = weights[\n",
    "                    i, y_train_labels[top_k_indices[i]] == candidate_label\n",
    "                ].sum()\n",
    "                if best_prob < candidate_prob:\n",
    "                    best_prob = candidate_prob\n",
    "                    best_label = candidate_label\n",
    "\n",
    "            if pred_unknown:\n",
    "                if best_prob >= threshold:\n",
    "                    pred_label = best_label\n",
    "                else:\n",
    "                    pred_label = \"Unknown\"\n",
    "            else:\n",
    "                pred_label = best_label\n",
    "\n",
    "            if mode == \"package\":\n",
    "                uncertainties.iloc[i][j] = (max(1 - best_prob, 0))\n",
    "\n",
    "            else:\n",
    "                raise Exception(\"Inquery Mode!\")\n",
    "\n",
    "            pred_labels.iloc[i][j] = (pred_label)\n",
    "\n",
    "    print(\"finished!\")\n",
    "\n",
    "    return pred_labels, uncertainties"
   ]
  },
  {
   "cell_type": "code",
   "execution_count": 41,
   "id": "f657d5a1-e5ef-43a4-a86f-4fd519bbaee1",
   "metadata": {},
   "outputs": [],
   "source": [
    "ref_latent=full_latent[full_latent.obs[\"Core_or_Extand\"]==\"Core\",]"
   ]
  },
  {
   "cell_type": "code",
   "execution_count": 42,
   "id": "1e7f565d-037e-493f-823d-c5f7cbd21e03",
   "metadata": {},
   "outputs": [
    {
     "data": {
      "text/plain": [
       "View of AnnData object with n_obs × n_vars = 273479 × 15\n",
       "    obs: 'orig.ident', 'nCount_originalexp', 'nFeature_originalexp', 'Sample', 'Project', 'Limb.Atlas', 'Organ', 'Tissue', 'Tissue.Specific.', 'Stage', 'Gene.type', 'Treatment', 'Age', 'Age.In.Detail.', 'Machine', 'Species', 'Isolation.approach', 'Digestion', 'Enzymes', 'Cre', 'Bone.Forming.Methods', 'Data.Source', 'Related.Assay', 'Origin', 'nCount_RNA', 'nFeature_RNA', 'paper_label', 'coarse_label', 'C2_named', 'C7_named', 'C19_named', 'C36_named', 'C49_named', 'C90_named', 'C137_named', 'transf_ann_level_7_label', 'transf_ann_level_6_label', 'transf_ann_level_5_label', 'transf_ann_level_4_label', 'transf_ann_level_3_label', 'transf_ann_level_2_label', 'transf_ann_level_1_label', 'n_genes', 'most_confident_level', 'most_confident_uncert', 'most_confident_label', 'transf_ann_level_5_uncert', 'transf_ann_level_4_uncert', 'transf_ann_level_3_uncert', 'transf_ann_level_2_uncert', 'transf_ann_level_1_uncert', 'Tissue.Specific', 'Core_or_Extand'\n",
       "    uns: 'C19_named_colors', 'C36_named_colors', 'C7_named_colors', 'Core_or_Extand_colors', 'neighbors', 'transf_ann_level_1_label_colors', 'transf_ann_level_2_label_colors', 'transf_ann_level_3_label_colors', 'transf_ann_level_4_label_colors', 'transf_ann_level_5_label_colors', 'transf_ann_level_6_label_colors', 'transf_ann_level_7_label_colors', 'umap'\n",
       "    obsm: 'X_umap'\n",
       "    obsp: 'connectivities', 'distances'"
      ]
     },
     "execution_count": 42,
     "metadata": {},
     "output_type": "execute_result"
    }
   ],
   "source": [
    "ref_latent"
   ]
  },
  {
   "cell_type": "code",
   "execution_count": 43,
   "id": "7dd1cc22-d132-48cc-bafd-16ffc6a5c8da",
   "metadata": {},
   "outputs": [
    {
     "name": "stdout",
     "output_type": "stream",
     "text": [
      "Weighted KNN with n_neighbors = 50 ... "
     ]
    }
   ],
   "source": [
    "k_neighbors_transformer = weighted_knn_trainer(\n",
    "        train_adata=ref_latent,\n",
    "        train_adata_emb=\"X\",\n",
    "        label_key=\"_named\",\n",
    "        n_neighbors=50,\n",
    "    )"
   ]
  },
  {
   "cell_type": "code",
   "execution_count": 44,
   "id": "cc2a59de-b331-4718-8ee8-9858ea44a984",
   "metadata": {},
   "outputs": [
    {
     "data": {
      "text/plain": [
       "AnnData object with n_obs × n_vars = 781397 × 20664\n",
       "    obs: 'Sample', 'Project', 'Core Dataset', 'Limb Atlas', 'Cranial Atlas', 'Organ', 'Tissue', 'Tissue(Specific)', 'Stage', 'Gene type', 'Treatment', 'Age', 'Age(In Detail)', 'Machine', 'Species', 'Isolation approach', 'Digestion', 'Enzymes', 'Cre', 'Bone Forming Methods', 'Data Source', 'Related Assay', 'Cell Count After QC', 'Origin', 'orig.ident', 'nCount_RNA', 'nFeature_RNA', 'paper_label', 'coarse_label', 'scDblFinder_class', 'short_id', 'nCount_originalexp', 'nFeature_originalexp', 'n_genes', 'n_genes_by_counts', 'log1p_n_genes_by_counts', 'total_counts', 'log1p_total_counts', 'pct_counts_in_top_50_genes', 'pct_counts_in_top_100_genes', 'pct_counts_in_top_200_genes', 'pct_counts_in_top_500_genes', 'new_totals_log', 'batch', 'log10_total_counts', 'n_genes_detected', 'mito_frac', 'ribo_frac', 'compl', 'transf_ann_level_7_label', 'transf_ann_level_6_label', 'transf_ann_level_5_label', 'transf_ann_level_4_label', 'transf_ann_level_3_label', 'transf_ann_level_2_label', 'transf_ann_level_1_label', 'most_confident_level', 'most_confident_uncert', 'most_confident_label', 'transf_ann_level_5_uncert', 'transf_ann_level_4_uncert', 'transf_ann_level_3_uncert', 'transf_ann_level_2_uncert', 'transf_ann_level_1_uncert', 'transf_ann_level_7_uncert', 'transf_ann_level_6_uncert', 'osteoIndex', 'Age_num', 'Age_detail_num', 'Core_or_Extand'\n",
       "    var: 'features', 'n_cells', 'n_cells_by_counts', 'mean_counts', 'log1p_mean_counts', 'pct_dropout_by_counts', 'total_counts', 'log1p_total_counts', 'highly_variable', 'means', 'dispersions', 'dispersions_norm', 'highly_variable_nbatches', 'highly_variable_intersection'\n",
       "    uns: 'Age_colors', 'hvg', 'log1p', 'transf_ann_level_2_label_colors'\n",
       "    obsm: 'X_umap', 'scANVI', 'UMAP2', 'scANVI_2'\n",
       "    layers: 'counts'"
      ]
     },
     "execution_count": 44,
     "metadata": {},
     "output_type": "execute_result"
    }
   ],
   "source": [
    "adata"
   ]
  },
  {
   "cell_type": "code",
   "execution_count": null,
   "id": "ce7512fe-85a0-4997-939d-b64ae3be7c1d",
   "metadata": {},
   "outputs": [
    {
     "name": "stderr",
     "output_type": "stream",
     "text": [
      "Exception ignored on calling ctypes callback function: <function _ThreadpoolInfo._find_modules_with_dl_iterate_phdr.<locals>.match_module_callback at 0x7fac172dddc0>\n",
      "Traceback (most recent call last):\n",
      "  File \"/home/zhanglab/mambaforge/envs/celloracle/lib/python3.9/site-packages/threadpoolctl.py\", line 400, in match_module_callback\n",
      "    self._make_module_from_path(filepath)\n",
      "  File \"/home/zhanglab/mambaforge/envs/celloracle/lib/python3.9/site-packages/threadpoolctl.py\", line 515, in _make_module_from_path\n",
      "    module = module_class(filepath, prefix, user_api, internal_api)\n",
      "  File \"/home/zhanglab/mambaforge/envs/celloracle/lib/python3.9/site-packages/threadpoolctl.py\", line 606, in __init__\n",
      "    self.version = self.get_version()\n",
      "  File \"/home/zhanglab/mambaforge/envs/celloracle/lib/python3.9/site-packages/threadpoolctl.py\", line 646, in get_version\n",
      "    config = get_config().split()\n",
      "AttributeError: 'NoneType' object has no attribute 'split'\n"
     ]
    }
   ],
   "source": [
    "labels, uncert = weighted_knn_transfer(\n",
    "        query_adata=adata,\n",
    "        query_adata_emb=\"scANVI_2\",\n",
    "        label_keys=\"_named\",\n",
    "        knn_model=k_neighbors_transformer,\n",
    "        ref_adata_obs = ref_latent.obs\n",
    "    )"
   ]
  },
  {
   "cell_type": "code",
   "execution_count": 48,
   "id": "278e00a7-1b91-4785-83af-ba0a3fbcd86f",
   "metadata": {},
   "outputs": [
    {
     "data": {
      "text/plain": [
       "(781397, 15)"
      ]
     },
     "execution_count": 48,
     "metadata": {},
     "output_type": "execute_result"
    }
   ],
   "source": [
    "adata.obsm[\"scANVI_2\"].shape"
   ]
  },
  {
   "cell_type": "code",
   "execution_count": 49,
   "id": "7af2c7c9-7d48-4e93-a38f-e1557e6174a2",
   "metadata": {},
   "outputs": [
    {
     "data": {
      "text/plain": [
       "(781397, 15)"
      ]
     },
     "execution_count": 49,
     "metadata": {},
     "output_type": "execute_result"
    }
   ],
   "source": [
    "adata.obsm[\"scANVI\"].shape"
   ]
  },
  {
   "cell_type": "code",
   "execution_count": 51,
   "id": "88e14df6-9eea-4c2e-9077-2230a5fbd22b",
   "metadata": {},
   "outputs": [
    {
     "data": {
      "text/plain": [
       "(273479, 15)"
      ]
     },
     "execution_count": 51,
     "metadata": {},
     "output_type": "execute_result"
    }
   ],
   "source": [
    "ref_latent.X.shape"
   ]
  },
  {
   "cell_type": "code",
   "execution_count": 59,
   "id": "77d1dfae-f125-4c03-a70e-8a05575c8cc7",
   "metadata": {},
   "outputs": [],
   "source": []
  },
  {
   "cell_type": "code",
   "execution_count": 54,
   "id": "328f6171-73da-46b2-8600-4fcadfc09b1b",
   "metadata": {},
   "outputs": [],
   "source": [
    "labels.to_csv(\"../result/9.18_novel_celltype/new_label_trans.csv\")"
   ]
  },
  {
   "cell_type": "code",
   "execution_count": 55,
   "id": "3fd0260b-ae65-4e11-8ab5-820f10a991c5",
   "metadata": {},
   "outputs": [],
   "source": [
    "uncert.to_csv(\"../result/9.18_novel_celltype/new_uncert_trans.csv\")"
   ]
  },
  {
   "cell_type": "code",
   "execution_count": 133,
   "id": "a517569d-5026-4784-ac6d-d8d32f345a93",
   "metadata": {},
   "outputs": [
    {
     "data": {
      "text/html": [
       "<div>\n",
       "<style scoped>\n",
       "    .dataframe tbody tr th:only-of-type {\n",
       "        vertical-align: middle;\n",
       "    }\n",
       "\n",
       "    .dataframe tbody tr th {\n",
       "        vertical-align: top;\n",
       "    }\n",
       "\n",
       "    .dataframe thead th {\n",
       "        text-align: right;\n",
       "    }\n",
       "</style>\n",
       "<table border=\"1\" class=\"dataframe\">\n",
       "  <thead>\n",
       "    <tr style=\"text-align: right;\">\n",
       "      <th></th>\n",
       "      <th>C2_named</th>\n",
       "      <th>C7_named</th>\n",
       "      <th>C19_named</th>\n",
       "      <th>C36_named</th>\n",
       "      <th>C49_named</th>\n",
       "      <th>C90_named</th>\n",
       "      <th>C137_named</th>\n",
       "    </tr>\n",
       "  </thead>\n",
       "  <tbody>\n",
       "    <tr>\n",
       "      <th>Suture2021_Farmer_E17_AAACCTGCAGACTCGC-1_1-0_1_1</th>\n",
       "      <td>Non-osteo</td>\n",
       "      <td>MSC</td>\n",
       "      <td>Late.MSC</td>\n",
       "      <td>Alcam.Late.MSC</td>\n",
       "      <td>Eln.Alcam.Late.MSC</td>\n",
       "      <td>Eln.Alcam.Late.MSC</td>\n",
       "      <td>Tnn.Eln.Alcam.Late.MSC</td>\n",
       "    </tr>\n",
       "    <tr>\n",
       "      <th>Suture2021_Farmer_E17_AAACCTGGTGCGGTAA-1_1-0_1_1</th>\n",
       "      <td>Non-osteo</td>\n",
       "      <td>Ly6a+ MSC</td>\n",
       "      <td>Ly6a+ MSC</td>\n",
       "      <td>Col6a6.Ly6a+ MSC</td>\n",
       "      <td>Pi16.Col6a6.Ly6a+ MSC</td>\n",
       "      <td>Pi16.Col6a6.Ly6a+ MSC</td>\n",
       "      <td>Krtdap.Pi16.Col6a6.Ly6a+ MSC</td>\n",
       "    </tr>\n",
       "    <tr>\n",
       "      <th>Suture2021_Farmer_E17_AAACCTGGTGGTCTCG-1_1-0_1_1</th>\n",
       "      <td>Ob</td>\n",
       "      <td>Ob</td>\n",
       "      <td>Ob</td>\n",
       "      <td>Col22a1.Ob</td>\n",
       "      <td>Ifitm5.Col22a1.Ob</td>\n",
       "      <td>Ifitm5.Col22a1.Ob</td>\n",
       "      <td>Ifitm5.Col22a1.Ob</td>\n",
       "    </tr>\n",
       "    <tr>\n",
       "      <th>Suture2021_Farmer_E17_AAACCTGTCACCACCT-1_1-0_1_1</th>\n",
       "      <td>Ob</td>\n",
       "      <td>Ob</td>\n",
       "      <td>Ob</td>\n",
       "      <td>Col22a1.Ob</td>\n",
       "      <td>Ifitm5.Col22a1.Ob</td>\n",
       "      <td>Ifitm5.Col22a1.Ob</td>\n",
       "      <td>Ifitm5.Col22a1.Ob</td>\n",
       "    </tr>\n",
       "    <tr>\n",
       "      <th>Suture2021_Farmer_E17_AAACCTGTCGTTACGA-1_1-0_1_1</th>\n",
       "      <td>Non-osteo</td>\n",
       "      <td>Lepr+ BMSC</td>\n",
       "      <td>Lepr+ BMSC</td>\n",
       "      <td>Col6a5.Lepr+ BMSC</td>\n",
       "      <td>Slc16a9.Col6a5.Lepr+ BMSC</td>\n",
       "      <td>Adipoq.Slc16a9.Col6a5.Lepr+ BMSC</td>\n",
       "      <td>Adipoq.Slc16a9.Col6a5.Lepr+ BMSC</td>\n",
       "    </tr>\n",
       "    <tr>\n",
       "      <th>...</th>\n",
       "      <td>...</td>\n",
       "      <td>...</td>\n",
       "      <td>...</td>\n",
       "      <td>...</td>\n",
       "      <td>...</td>\n",
       "      <td>...</td>\n",
       "      <td>...</td>\n",
       "    </tr>\n",
       "    <tr>\n",
       "      <th>TTTGTTGAGGTGATAT-1_8</th>\n",
       "      <td>Non-osteo</td>\n",
       "      <td>Chondro</td>\n",
       "      <td>CPC</td>\n",
       "      <td>Ucma.CPC</td>\n",
       "      <td>Crispld1.Ucma.CPC</td>\n",
       "      <td>Pcp4.Crispld1.Ucma.CPC</td>\n",
       "      <td>Dlk1.Pcp4.Crispld1.Ucma.CPC</td>\n",
       "    </tr>\n",
       "    <tr>\n",
       "      <th>TTTGTTGAGTCTTCCC-1_8</th>\n",
       "      <td>Non-osteo</td>\n",
       "      <td>MSC</td>\n",
       "      <td>Pre-ob</td>\n",
       "      <td>Dapk2.Pre-ob</td>\n",
       "      <td>Tnn.Dapk2.Pre-ob</td>\n",
       "      <td>Tnn+ Aspn+ BMSC</td>\n",
       "      <td>Tnn+ Aspn+ BMSC</td>\n",
       "    </tr>\n",
       "    <tr>\n",
       "      <th>TTTGTTGGTCCACACG-1_8</th>\n",
       "      <td>Non-osteo</td>\n",
       "      <td>Chondro</td>\n",
       "      <td>CPC</td>\n",
       "      <td>Ucma.CPC</td>\n",
       "      <td>Crispld1.Ucma.CPC</td>\n",
       "      <td>Pcp4.Crispld1.Ucma.CPC</td>\n",
       "      <td>Dlk1.Pcp4.Crispld1.Ucma.CPC</td>\n",
       "    </tr>\n",
       "    <tr>\n",
       "      <th>TTTGTTGTCACTACGA-1_8</th>\n",
       "      <td>Non-osteo</td>\n",
       "      <td>Chondro</td>\n",
       "      <td>CPC</td>\n",
       "      <td>Ucma.CPC</td>\n",
       "      <td>C1qtnf3.Ucma.CPC</td>\n",
       "      <td>C1qtnf3.Ucma.CPC</td>\n",
       "      <td>C1qtnf3.Ucma.CPC</td>\n",
       "    </tr>\n",
       "    <tr>\n",
       "      <th>TTTGTTGTCCGGGACT-1_8</th>\n",
       "      <td>Non-osteo</td>\n",
       "      <td>Chondro</td>\n",
       "      <td>CPC</td>\n",
       "      <td>Ucma.CPC</td>\n",
       "      <td>Crispld1.Ucma.CPC</td>\n",
       "      <td>Alas2.Crispld1.Ucma.CPC</td>\n",
       "      <td>Alas2.Crispld1.Ucma.CPC</td>\n",
       "    </tr>\n",
       "  </tbody>\n",
       "</table>\n",
       "<p>781397 rows × 7 columns</p>\n",
       "</div>"
      ],
      "text/plain": [
       "                                                   C2_named    C7_named  \\\n",
       "Suture2021_Farmer_E17_AAACCTGCAGACTCGC-1_1-0_1_1  Non-osteo         MSC   \n",
       "Suture2021_Farmer_E17_AAACCTGGTGCGGTAA-1_1-0_1_1  Non-osteo   Ly6a+ MSC   \n",
       "Suture2021_Farmer_E17_AAACCTGGTGGTCTCG-1_1-0_1_1         Ob          Ob   \n",
       "Suture2021_Farmer_E17_AAACCTGTCACCACCT-1_1-0_1_1         Ob          Ob   \n",
       "Suture2021_Farmer_E17_AAACCTGTCGTTACGA-1_1-0_1_1  Non-osteo  Lepr+ BMSC   \n",
       "...                                                     ...         ...   \n",
       "TTTGTTGAGGTGATAT-1_8                              Non-osteo     Chondro   \n",
       "TTTGTTGAGTCTTCCC-1_8                              Non-osteo         MSC   \n",
       "TTTGTTGGTCCACACG-1_8                              Non-osteo     Chondro   \n",
       "TTTGTTGTCACTACGA-1_8                              Non-osteo     Chondro   \n",
       "TTTGTTGTCCGGGACT-1_8                              Non-osteo     Chondro   \n",
       "\n",
       "                                                   C19_named  \\\n",
       "Suture2021_Farmer_E17_AAACCTGCAGACTCGC-1_1-0_1_1    Late.MSC   \n",
       "Suture2021_Farmer_E17_AAACCTGGTGCGGTAA-1_1-0_1_1   Ly6a+ MSC   \n",
       "Suture2021_Farmer_E17_AAACCTGGTGGTCTCG-1_1-0_1_1          Ob   \n",
       "Suture2021_Farmer_E17_AAACCTGTCACCACCT-1_1-0_1_1          Ob   \n",
       "Suture2021_Farmer_E17_AAACCTGTCGTTACGA-1_1-0_1_1  Lepr+ BMSC   \n",
       "...                                                      ...   \n",
       "TTTGTTGAGGTGATAT-1_8                                     CPC   \n",
       "TTTGTTGAGTCTTCCC-1_8                                  Pre-ob   \n",
       "TTTGTTGGTCCACACG-1_8                                     CPC   \n",
       "TTTGTTGTCACTACGA-1_8                                     CPC   \n",
       "TTTGTTGTCCGGGACT-1_8                                     CPC   \n",
       "\n",
       "                                                          C36_named  \\\n",
       "Suture2021_Farmer_E17_AAACCTGCAGACTCGC-1_1-0_1_1     Alcam.Late.MSC   \n",
       "Suture2021_Farmer_E17_AAACCTGGTGCGGTAA-1_1-0_1_1   Col6a6.Ly6a+ MSC   \n",
       "Suture2021_Farmer_E17_AAACCTGGTGGTCTCG-1_1-0_1_1         Col22a1.Ob   \n",
       "Suture2021_Farmer_E17_AAACCTGTCACCACCT-1_1-0_1_1         Col22a1.Ob   \n",
       "Suture2021_Farmer_E17_AAACCTGTCGTTACGA-1_1-0_1_1  Col6a5.Lepr+ BMSC   \n",
       "...                                                             ...   \n",
       "TTTGTTGAGGTGATAT-1_8                                       Ucma.CPC   \n",
       "TTTGTTGAGTCTTCCC-1_8                                   Dapk2.Pre-ob   \n",
       "TTTGTTGGTCCACACG-1_8                                       Ucma.CPC   \n",
       "TTTGTTGTCACTACGA-1_8                                       Ucma.CPC   \n",
       "TTTGTTGTCCGGGACT-1_8                                       Ucma.CPC   \n",
       "\n",
       "                                                                  C49_named  \\\n",
       "Suture2021_Farmer_E17_AAACCTGCAGACTCGC-1_1-0_1_1         Eln.Alcam.Late.MSC   \n",
       "Suture2021_Farmer_E17_AAACCTGGTGCGGTAA-1_1-0_1_1      Pi16.Col6a6.Ly6a+ MSC   \n",
       "Suture2021_Farmer_E17_AAACCTGGTGGTCTCG-1_1-0_1_1          Ifitm5.Col22a1.Ob   \n",
       "Suture2021_Farmer_E17_AAACCTGTCACCACCT-1_1-0_1_1          Ifitm5.Col22a1.Ob   \n",
       "Suture2021_Farmer_E17_AAACCTGTCGTTACGA-1_1-0_1_1  Slc16a9.Col6a5.Lepr+ BMSC   \n",
       "...                                                                     ...   \n",
       "TTTGTTGAGGTGATAT-1_8                                      Crispld1.Ucma.CPC   \n",
       "TTTGTTGAGTCTTCCC-1_8                                       Tnn.Dapk2.Pre-ob   \n",
       "TTTGTTGGTCCACACG-1_8                                      Crispld1.Ucma.CPC   \n",
       "TTTGTTGTCACTACGA-1_8                                       C1qtnf3.Ucma.CPC   \n",
       "TTTGTTGTCCGGGACT-1_8                                      Crispld1.Ucma.CPC   \n",
       "\n",
       "                                                                         C90_named  \\\n",
       "Suture2021_Farmer_E17_AAACCTGCAGACTCGC-1_1-0_1_1                Eln.Alcam.Late.MSC   \n",
       "Suture2021_Farmer_E17_AAACCTGGTGCGGTAA-1_1-0_1_1             Pi16.Col6a6.Ly6a+ MSC   \n",
       "Suture2021_Farmer_E17_AAACCTGGTGGTCTCG-1_1-0_1_1                 Ifitm5.Col22a1.Ob   \n",
       "Suture2021_Farmer_E17_AAACCTGTCACCACCT-1_1-0_1_1                 Ifitm5.Col22a1.Ob   \n",
       "Suture2021_Farmer_E17_AAACCTGTCGTTACGA-1_1-0_1_1  Adipoq.Slc16a9.Col6a5.Lepr+ BMSC   \n",
       "...                                                                            ...   \n",
       "TTTGTTGAGGTGATAT-1_8                                        Pcp4.Crispld1.Ucma.CPC   \n",
       "TTTGTTGAGTCTTCCC-1_8                                               Tnn+ Aspn+ BMSC   \n",
       "TTTGTTGGTCCACACG-1_8                                        Pcp4.Crispld1.Ucma.CPC   \n",
       "TTTGTTGTCACTACGA-1_8                                              C1qtnf3.Ucma.CPC   \n",
       "TTTGTTGTCCGGGACT-1_8                                       Alas2.Crispld1.Ucma.CPC   \n",
       "\n",
       "                                                                        C137_named  \n",
       "Suture2021_Farmer_E17_AAACCTGCAGACTCGC-1_1-0_1_1            Tnn.Eln.Alcam.Late.MSC  \n",
       "Suture2021_Farmer_E17_AAACCTGGTGCGGTAA-1_1-0_1_1      Krtdap.Pi16.Col6a6.Ly6a+ MSC  \n",
       "Suture2021_Farmer_E17_AAACCTGGTGGTCTCG-1_1-0_1_1                 Ifitm5.Col22a1.Ob  \n",
       "Suture2021_Farmer_E17_AAACCTGTCACCACCT-1_1-0_1_1                 Ifitm5.Col22a1.Ob  \n",
       "Suture2021_Farmer_E17_AAACCTGTCGTTACGA-1_1-0_1_1  Adipoq.Slc16a9.Col6a5.Lepr+ BMSC  \n",
       "...                                                                            ...  \n",
       "TTTGTTGAGGTGATAT-1_8                                   Dlk1.Pcp4.Crispld1.Ucma.CPC  \n",
       "TTTGTTGAGTCTTCCC-1_8                                               Tnn+ Aspn+ BMSC  \n",
       "TTTGTTGGTCCACACG-1_8                                   Dlk1.Pcp4.Crispld1.Ucma.CPC  \n",
       "TTTGTTGTCACTACGA-1_8                                              C1qtnf3.Ucma.CPC  \n",
       "TTTGTTGTCCGGGACT-1_8                                       Alas2.Crispld1.Ucma.CPC  \n",
       "\n",
       "[781397 rows x 7 columns]"
      ]
     },
     "execution_count": 133,
     "metadata": {},
     "output_type": "execute_result"
    }
   ],
   "source": [
    "labels"
   ]
  }
 ],
 "metadata": {
  "kernelspec": {
   "display_name": "Python 3 (ipykernel)",
   "language": "python",
   "name": "python3"
  },
  "language_info": {
   "codemirror_mode": {
    "name": "ipython",
    "version": 3
   },
   "file_extension": ".py",
   "mimetype": "text/x-python",
   "name": "python",
   "nbconvert_exporter": "python",
   "pygments_lexer": "ipython3",
   "version": "3.9.0"
  }
 },
 "nbformat": 4,
 "nbformat_minor": 5
}
