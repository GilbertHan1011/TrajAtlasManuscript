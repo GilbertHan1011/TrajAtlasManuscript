{
 "cells": [
  {
   "cell_type": "code",
   "execution_count": 1,
   "id": "96b7f150-2a12-4bff-8dad-48640d2f29a7",
   "metadata": {},
   "outputs": [],
   "source": [
    "import scanpy as sc\n",
    "import numpy as np\n",
    "import pandas as pd\n",
    "import decoupler\n",
    "import seaborn\n",
    "from itertools import compress"
   ]
  },
  {
   "cell_type": "code",
   "execution_count": 2,
   "id": "8d4596ec-f903-42d7-8e29-7d09eb3a2351",
   "metadata": {},
   "outputs": [],
   "source": [
    "import sys\n",
    "sys.path.append(\"../../function/\")\n",
    "import trajDiff_v133 as trajDiff\n",
    "milo2=trajDiff.Milo2()"
   ]
  },
  {
   "cell_type": "code",
   "execution_count": 3,
   "id": "7ea54aa5-a13e-4e4d-9e65-cb45b8097d86",
   "metadata": {},
   "outputs": [],
   "source": [
    "extendAtlas=sc.read(\"../../important_processed_data/9.18_intergrate.h5ad\")"
   ]
  },
  {
   "cell_type": "code",
   "execution_count": 4,
   "id": "41bf13da-edd1-43d7-a2b6-69e7e473bd41",
   "metadata": {},
   "outputs": [
    {
     "name": "stderr",
     "output_type": "stream",
     "text": [
      "/tmp/ipykernel_2082119/3408913180.py:1: DtypeWarning: Columns (11,16,17,18,19,21,22,28,29,30,31,57,59) have mixed types. Specify dtype option on import or set low_memory=False.\n",
      "  extendMeta=pd.read_csv(\"../../important_processed_data/24.1.7_extendAtlasObs.csv\",index_col=0)\n"
     ]
    }
   ],
   "source": [
    "extendMeta=pd.read_csv(\"../../important_processed_data/24.1.7_extendAtlasObs.csv\",index_col=0)"
   ]
  },
  {
   "cell_type": "code",
   "execution_count": 5,
   "id": "1f4878c3-8b94-46f6-9175-4d1cecaab04d",
   "metadata": {},
   "outputs": [],
   "source": [
    "extendAtlas.obs=extendMeta"
   ]
  },
  {
   "cell_type": "code",
   "execution_count": 6,
   "id": "47754a2d-4ffc-4664-ae6d-58be771f2ca9",
   "metadata": {},
   "outputs": [
    {
     "data": {
      "text/plain": [
       "AnnData object with n_obs × n_vars = 781397 × 20664\n",
       "    obs: 'Sample', 'Project', 'Core Dataset', 'Limb Atlas', 'Cranial Atlas', 'Organ', 'Tissue', 'Tissue(Specific)', 'Stage', 'Gene type', 'Treatment', 'Age', 'Age(In Detail)', 'Machine', 'Species', 'Isolation approach', 'Digestion', 'Enzymes', 'Cre', 'Bone Forming Methods', 'Data Source', 'Related Assay', 'Cell Count After QC', 'Origin', 'orig.ident', 'nCount_RNA', 'nFeature_RNA', 'paper_label', 'coarse_label', 'scDblFinder_class', 'short_id', 'nCount_originalexp', 'nFeature_originalexp', 'n_genes', 'n_genes_by_counts', 'log1p_n_genes_by_counts', 'total_counts', 'log1p_total_counts', 'pct_counts_in_top_50_genes', 'pct_counts_in_top_100_genes', 'pct_counts_in_top_200_genes', 'pct_counts_in_top_500_genes', 'new_totals_log', 'batch', 'log10_total_counts', 'n_genes_detected', 'mito_frac', 'ribo_frac', 'compl', 'transf_ann_level_7_label', 'transf_ann_level_6_label', 'transf_ann_level_5_label', 'transf_ann_level_4_label', 'transf_ann_level_3_label', 'transf_ann_level_2_label', 'transf_ann_level_1_label', 'most_confident_level', 'most_confident_uncert', 'most_confident_label', 'transf_ann_level_5_uncert', 'transf_ann_level_4_uncert', 'transf_ann_level_3_uncert', 'transf_ann_level_2_uncert', 'transf_ann_level_1_uncert', 'transf_ann_level_7_uncert', 'transf_ann_level_6_uncert', 'osteoIndex', 'Age_num', 'Age_detail_num', 'leiden_clusters_0.5', 'update_level2', 'C7_named', 'leiden_clusters_4', 'lineage_chondro', 'lineage_laFibro', 'lineage_lepr', 'lineage_mesenchyme', 'dpt_pred', 'lineage', 'lineage_str'\n",
       "    var: 'features', 'n_cells', 'n_cells_by_counts', 'mean_counts', 'log1p_mean_counts', 'pct_dropout_by_counts', 'total_counts', 'log1p_total_counts', 'highly_variable', 'means', 'dispersions', 'dispersions_norm', 'highly_variable_nbatches', 'highly_variable_intersection'\n",
       "    uns: 'Age_colors', 'hvg', 'log1p', 'transf_ann_level_2_label_colors'\n",
       "    obsm: 'X_umap', 'scANVI'\n",
       "    layers: 'counts'"
      ]
     },
     "execution_count": 6,
     "metadata": {},
     "output_type": "execute_result"
    }
   ],
   "source": [
    "extendAtlas"
   ]
  },
  {
   "cell_type": "code",
   "execution_count": 7,
   "id": "436c04fc-5e8d-4293-846e-47ec0e912b09",
   "metadata": {},
   "outputs": [],
   "source": [
    "fibroLineage=extendAtlas[extendAtlas.obs[\"lineage_laFibro\"]].copy()"
   ]
  },
  {
   "cell_type": "code",
   "execution_count": 8,
   "id": "a867b54a-ea9a-4f90-a46e-ce3c4cfd50c3",
   "metadata": {},
   "outputs": [
    {
     "data": {
      "text/plain": [
       "AnnData object with n_obs × n_vars = 80275 × 20664\n",
       "    obs: 'Sample', 'Project', 'Core Dataset', 'Limb Atlas', 'Cranial Atlas', 'Organ', 'Tissue', 'Tissue(Specific)', 'Stage', 'Gene type', 'Treatment', 'Age', 'Age(In Detail)', 'Machine', 'Species', 'Isolation approach', 'Digestion', 'Enzymes', 'Cre', 'Bone Forming Methods', 'Data Source', 'Related Assay', 'Cell Count After QC', 'Origin', 'orig.ident', 'nCount_RNA', 'nFeature_RNA', 'paper_label', 'coarse_label', 'scDblFinder_class', 'short_id', 'nCount_originalexp', 'nFeature_originalexp', 'n_genes', 'n_genes_by_counts', 'log1p_n_genes_by_counts', 'total_counts', 'log1p_total_counts', 'pct_counts_in_top_50_genes', 'pct_counts_in_top_100_genes', 'pct_counts_in_top_200_genes', 'pct_counts_in_top_500_genes', 'new_totals_log', 'batch', 'log10_total_counts', 'n_genes_detected', 'mito_frac', 'ribo_frac', 'compl', 'transf_ann_level_7_label', 'transf_ann_level_6_label', 'transf_ann_level_5_label', 'transf_ann_level_4_label', 'transf_ann_level_3_label', 'transf_ann_level_2_label', 'transf_ann_level_1_label', 'most_confident_level', 'most_confident_uncert', 'most_confident_label', 'transf_ann_level_5_uncert', 'transf_ann_level_4_uncert', 'transf_ann_level_3_uncert', 'transf_ann_level_2_uncert', 'transf_ann_level_1_uncert', 'transf_ann_level_7_uncert', 'transf_ann_level_6_uncert', 'osteoIndex', 'Age_num', 'Age_detail_num', 'leiden_clusters_0.5', 'update_level2', 'C7_named', 'leiden_clusters_4', 'lineage_chondro', 'lineage_laFibro', 'lineage_lepr', 'lineage_mesenchyme', 'dpt_pred', 'lineage', 'lineage_str'\n",
       "    var: 'features', 'n_cells', 'n_cells_by_counts', 'mean_counts', 'log1p_mean_counts', 'pct_dropout_by_counts', 'total_counts', 'log1p_total_counts', 'highly_variable', 'means', 'dispersions', 'dispersions_norm', 'highly_variable_nbatches', 'highly_variable_intersection'\n",
       "    uns: 'Age_colors', 'hvg', 'log1p', 'transf_ann_level_2_label_colors'\n",
       "    obsm: 'X_umap', 'scANVI'\n",
       "    layers: 'counts'"
      ]
     },
     "execution_count": 8,
     "metadata": {},
     "output_type": "execute_result"
    }
   ],
   "source": [
    "fibroLineage"
   ]
  },
  {
   "cell_type": "code",
   "execution_count": 9,
   "id": "adf90724-f65b-48ab-a239-02611260bcce",
   "metadata": {},
   "outputs": [],
   "source": [
    "mdata_lineage=milo2.load(fibroLineage)"
   ]
  },
  {
   "cell_type": "code",
   "execution_count": 10,
   "id": "334e4462-988d-4a5e-9992-29a0eda7f27b",
   "metadata": {},
   "outputs": [
    {
     "name": "stderr",
     "output_type": "stream",
     "text": [
      "2024-01-08 14:08:29.328031: I tensorflow/core/platform/cpu_feature_guard.cc:182] This TensorFlow binary is optimized to use available CPU instructions in performance-critical operations.\n",
      "To enable the following instructions: AVX2 AVX512F FMA, in other operations, rebuild TensorFlow with the appropriate compiler flags.\n",
      "2024-01-08 14:08:30.767129: W tensorflow/compiler/tf2tensorrt/utils/py_utils.cc:38] TF-TRT Warning: Could not find TensorRT\n",
      "100%|██████████| 1083/1083 [04:53<00:00,  3.69it/s]\n"
     ]
    }
   ],
   "source": [
    "sc.pp.neighbors(mdata_lineage['rna'], use_rep='scANVI', n_neighbors=200, n_pcs=15)\n",
    "milo2.make_nhoods(mdata_lineage['rna'], prop=0.015)\n",
    "mdata_lineage = milo2.count_nhoods(mdata_lineage['rna'], sample_col=\"Sample\")\n",
    "pseudobulk_lineage=milo2.make_pseudobulk_parallel(mdata=mdata_lineage,sample_col=\"Sample\",group_col=\"Stage\",time_col=\"dpt_pred\",njob=25,min_cell=2)\n",
    "milo2.make_range(mdata_lineage,only_range=True)"
   ]
  },
  {
   "cell_type": "code",
   "execution_count": 11,
   "id": "42d75da6-b327-4e54-8bf9-2f55b40828eb",
   "metadata": {},
   "outputs": [
    {
     "data": {
      "text/html": [
       "<pre style=\"white-space:pre;overflow-x:auto;line-height:normal;font-family:Menlo,'DejaVu Sans Mono',consolas,'Courier New',monospace\">Using edgeR to find CPM<span style=\"color: #808000; text-decoration-color: #808000\">......</span>\n",
       "</pre>\n"
      ],
      "text/plain": [
       "Using edgeR to find CPM\u001b[33m...\u001b[0m\u001b[33m...\u001b[0m\n"
      ]
     },
     "metadata": {},
     "output_type": "display_data"
    },
    {
     "name": "stderr",
     "output_type": "stream",
     "text": [
      "  5%|▍         | 50/1083 [00:08<02:59,  5.75it/s]R[write to console]: Warning messages:\n",
      "\n",
      "R[write to console]: 1: \n",
      "R[write to console]: In (function (package, help, pos = 2, lib.loc = NULL, character.only = FALSE,  :\n",
      "R[write to console]: \n",
      " \n",
      "R[write to console]:  图书馆‘/usr/local/lib/R/site-library’, ‘/usr/lib/R/site-library’里没有程辑包\n",
      "\n",
      "R[write to console]: 2: \n",
      "R[write to console]: In (function (package, help, pos = 2, lib.loc = NULL, character.only = FALSE,  :\n",
      "R[write to console]: \n",
      " \n",
      "R[write to console]:  图书馆‘/usr/local/lib/R/site-library’, ‘/usr/lib/R/site-library’里没有程辑包\n",
      "\n",
      "R[write to console]: 3: \n",
      "R[write to console]: In (function (package, help, pos = 2, lib.loc = NULL, character.only = FALSE,  :\n",
      "R[write to console]: \n",
      " \n",
      "R[write to console]:  图书馆‘/usr/local/lib/R/site-library’, ‘/usr/lib/R/site-library’里没有程辑包\n",
      "\n",
      "R[write to console]: 4: \n",
      "R[write to console]: In (function (package, help, pos = 2, lib.loc = NULL, character.only = FALSE,  :\n",
      "R[write to console]: \n",
      " \n",
      "R[write to console]:  图书馆‘/usr/local/lib/R/site-library’, ‘/usr/lib/R/site-library’里没有程辑包\n",
      "\n",
      "/home/gilberthan/anaconda3/envs/scarches/lib/python3.8/site-packages/joblib/externals/loky/process_executor.py:752: UserWarning: A worker stopped while some jobs were given to the executor. This can be caused by a too short worker timeout or by a memory leak.\n",
      "  warnings.warn(\n",
      "  7%|▋         | 75/1083 [00:12<02:42,  6.19it/s]R[write to console]: Warning messages:\n",
      "\n",
      "R[write to console]: 1: \n",
      "R[write to console]: In (function (package, help, pos = 2, lib.loc = NULL, character.only = FALSE,  :\n",
      "R[write to console]: \n",
      " \n",
      "R[write to console]:  图书馆‘/usr/local/lib/R/site-library’, ‘/usr/lib/R/site-library’里没有程辑包\n",
      "\n",
      "R[write to console]: 2: \n",
      "R[write to console]: In (function (package, help, pos = 2, lib.loc = NULL, character.only = FALSE,  :\n",
      "R[write to console]: \n",
      " \n",
      "R[write to console]:  图书馆‘/usr/local/lib/R/site-library’, ‘/usr/lib/R/site-library’里没有程辑包\n",
      "\n",
      "R[write to console]: 3: \n",
      "R[write to console]: In (function (package, help, pos = 2, lib.loc = NULL, character.only = FALSE,  :\n",
      "R[write to console]: \n",
      " \n",
      "R[write to console]:  图书馆‘/usr/local/lib/R/site-library’, ‘/usr/lib/R/site-library’里没有程辑包\n",
      "\n",
      "R[write to console]: 4: \n",
      "R[write to console]: In (function (package, help, pos = 2, lib.loc = NULL, character.only = FALSE,  :\n",
      "R[write to console]: \n",
      " \n",
      "R[write to console]:  图书馆‘/usr/local/lib/R/site-library’, ‘/usr/lib/R/site-library’里没有程辑包\n",
      "\n",
      "/home/gilberthan/anaconda3/envs/scarches/lib/python3.8/site-packages/joblib/externals/loky/process_executor.py:752: UserWarning: A worker stopped while some jobs were given to the executor. This can be caused by a too short worker timeout or by a memory leak.\n",
      "  warnings.warn(\n",
      "R[write to console]: Warning messages:\n",
      "\n",
      "R[write to console]: 1: \n",
      "R[write to console]: In (function (package, help, pos = 2, lib.loc = NULL, character.only = FALSE,  :\n",
      "R[write to console]: \n",
      " \n",
      "R[write to console]:  图书馆‘/usr/local/lib/R/site-library’, ‘/usr/lib/R/site-library’里没有程辑包\n",
      "\n",
      "R[write to console]: 2: \n",
      "R[write to console]: In (function (package, help, pos = 2, lib.loc = NULL, character.only = FALSE,  :\n",
      "R[write to console]: \n",
      " \n",
      "R[write to console]:  图书馆‘/usr/local/lib/R/site-library’, ‘/usr/lib/R/site-library’里没有程辑包\n",
      "\n",
      "R[write to console]: 3: \n",
      "R[write to console]: In (function (package, help, pos = 2, lib.loc = NULL, character.only = FALSE,  :\n",
      "R[write to console]: \n",
      " \n",
      "R[write to console]:  图书馆‘/usr/local/lib/R/site-library’, ‘/usr/lib/R/site-library’里没有程辑包\n",
      "\n",
      "R[write to console]: 4: \n",
      "R[write to console]: In (function (package, help, pos = 2, lib.loc = NULL, character.only = FALSE,  :\n",
      "R[write to console]: \n",
      " \n",
      "R[write to console]:  图书馆‘/usr/local/lib/R/site-library’, ‘/usr/lib/R/site-library’里没有程辑包\n",
      "\n",
      "R[write to console]: Warning messages:\n",
      "\n",
      "R[write to console]: 1: \n",
      "R[write to console]: In (function (package, help, pos = 2, lib.loc = NULL, character.only = FALSE,  :\n",
      "R[write to console]: \n",
      " \n",
      "R[write to console]:  图书馆‘/usr/local/lib/R/site-library’, ‘/usr/lib/R/site-library’里没有程辑包\n",
      "\n",
      "R[write to console]: 2: \n",
      "R[write to console]: In (function (package, help, pos = 2, lib.loc = NULL, character.only = FALSE,  :\n",
      "R[write to console]: \n",
      " \n",
      "R[write to console]:  图书馆‘/usr/local/lib/R/site-library’, ‘/usr/lib/R/site-library’里没有程辑包\n",
      "\n",
      "R[write to console]: 3: \n",
      "R[write to console]: In (function (package, help, pos = 2, lib.loc = NULL, character.only = FALSE,  :\n",
      "R[write to console]: \n",
      " \n",
      "R[write to console]:  图书馆‘/usr/local/lib/R/site-library’, ‘/usr/lib/R/site-library’里没有程辑包\n",
      "\n",
      "R[write to console]: 4: \n",
      "R[write to console]: In (function (package, help, pos = 2, lib.loc = NULL, character.only = FALSE,  :\n",
      "R[write to console]: \n",
      " \n",
      "R[write to console]:  图书馆‘/usr/local/lib/R/site-library’, ‘/usr/lib/R/site-library’里没有程辑包\n",
      "\n",
      "R[write to console]: Warning messages:\n",
      "\n",
      "R[write to console]: 1: \n",
      "R[write to console]: In (function (package, help, pos = 2, lib.loc = NULL, character.only = FALSE,  :\n",
      "R[write to console]: \n",
      " \n",
      "R[write to console]:  图书馆‘/usr/local/lib/R/site-library’, ‘/usr/lib/R/site-library’里没有程辑包\n",
      "\n",
      "R[write to console]: 2: \n",
      "R[write to console]: In (function (package, help, pos = 2, lib.loc = NULL, character.only = FALSE,  :\n",
      "R[write to console]: \n",
      " \n",
      "R[write to console]:  图书馆‘/usr/local/lib/R/site-library’, ‘/usr/lib/R/site-library’里没有程辑包\n",
      "\n",
      "R[write to console]: 3: \n",
      "R[write to console]: In (function (package, help, pos = 2, lib.loc = NULL, character.only = FALSE,  :\n",
      "R[write to console]: \n",
      " \n",
      "R[write to console]:  图书馆‘/usr/local/lib/R/site-library’, ‘/usr/lib/R/site-library’里没有程辑包\n",
      "\n",
      "R[write to console]: 4: \n",
      "R[write to console]: In (function (package, help, pos = 2, lib.loc = NULL, character.only = FALSE,  :\n",
      "R[write to console]: \n",
      " \n",
      "R[write to console]:  图书馆‘/usr/local/lib/R/site-library’, ‘/usr/lib/R/site-library’里没有程辑包\n",
      "\n",
      "R[write to console]: Warning messages:\n",
      "\n",
      "R[write to console]: 1: \n",
      "R[write to console]: In (function (package, help, pos = 2, lib.loc = NULL, character.only = FALSE,  :\n",
      "R[write to console]: \n",
      " \n",
      "R[write to console]:  图书馆‘/usr/local/lib/R/site-library’, ‘/usr/lib/R/site-library’里没有程辑包\n",
      "\n",
      "R[write to console]: 2: \n",
      "R[write to console]: In (function (package, help, pos = 2, lib.loc = NULL, character.only = FALSE,  :\n",
      "R[write to console]: \n",
      " \n",
      "R[write to console]:  图书馆‘/usr/local/lib/R/site-library’, ‘/usr/lib/R/site-library’里没有程辑包\n",
      "\n",
      "R[write to console]: 3: \n",
      "R[write to console]: In (function (package, help, pos = 2, lib.loc = NULL, character.only = FALSE,  :\n",
      "R[write to console]: \n",
      " \n",
      "R[write to console]:  图书馆‘/usr/local/lib/R/site-library’, ‘/usr/lib/R/site-library’里没有程辑包\n",
      "\n",
      "R[write to console]: 4: \n",
      "R[write to console]: In (function (package, help, pos = 2, lib.loc = NULL, character.only = FALSE,  :\n",
      "R[write to console]: \n",
      " \n",
      "R[write to console]:  图书馆‘/usr/local/lib/R/site-library’, ‘/usr/lib/R/site-library’里没有程辑包\n",
      "\n",
      "R[write to console]: 5: \n",
      "R[write to console]: In (function (package, help, pos = 2, lib.loc = NULL, character.only = FALSE,  :\n",
      "R[write to console]: \n",
      " \n",
      "R[write to console]:  图书馆‘/usr/local/lib/R/site-library’, ‘/usr/lib/R/site-library’里没有程辑包\n",
      "\n",
      "R[write to console]: 6: \n",
      "R[write to console]: In (function (package, help, pos = 2, lib.loc = NULL, character.only = FALSE,  :\n",
      "R[write to console]: \n",
      " \n",
      "R[write to console]:  图书馆‘/usr/local/lib/R/site-library’, ‘/usr/lib/R/site-library’里没有程辑包\n",
      "\n",
      "R[write to console]: 7: \n",
      "R[write to console]: In (function (package, help, pos = 2, lib.loc = NULL, character.only = FALSE,  :\n",
      "R[write to console]: \n",
      " \n",
      "R[write to console]:  图书馆‘/usr/local/lib/R/site-library’, ‘/usr/lib/R/site-library’里没有程辑包\n",
      "\n",
      "R[write to console]: 8: \n",
      "R[write to console]: In (function (package, help, pos = 2, lib.loc = NULL, character.only = FALSE,  :\n",
      "R[write to console]: \n",
      " \n",
      "R[write to console]:  图书馆‘/usr/local/lib/R/site-library’, ‘/usr/lib/R/site-library’里没有程辑包\n",
      "\n",
      "R[write to console]: Warning messages:\n",
      "\n",
      "R[write to console]: 1: \n",
      "R[write to console]: In (function (package, help, pos = 2, lib.loc = NULL, character.only = FALSE,  :\n",
      "R[write to console]: \n",
      " \n",
      "R[write to console]:  图书馆‘/usr/local/lib/R/site-library’, ‘/usr/lib/R/site-library’里没有程辑包\n",
      "\n",
      "R[write to console]: 2: \n",
      "R[write to console]: In (function (package, help, pos = 2, lib.loc = NULL, character.only = FALSE,  :\n",
      "R[write to console]: \n",
      " \n",
      "R[write to console]:  图书馆‘/usr/local/lib/R/site-library’, ‘/usr/lib/R/site-library’里没有程辑包\n",
      "\n",
      "R[write to console]: 3: \n",
      "R[write to console]: In (function (package, help, pos = 2, lib.loc = NULL, character.only = FALSE,  :\n",
      "R[write to console]: \n",
      " \n",
      "R[write to console]:  图书馆‘/usr/local/lib/R/site-library’, ‘/usr/lib/R/site-library’里没有程辑包\n",
      "\n",
      "R[write to console]: 4: \n",
      "R[write to console]: In (function (package, help, pos = 2, lib.loc = NULL, character.only = FALSE,  :\n",
      "R[write to console]: \n",
      " \n",
      "R[write to console]:  图书馆‘/usr/local/lib/R/site-library’, ‘/usr/lib/R/site-library’里没有程辑包\n",
      "\n",
      "R[write to console]: 5: \n",
      "R[write to console]: In (function (package, help, pos = 2, lib.loc = NULL, character.only = FALSE,  :\n",
      "R[write to console]: \n",
      " \n",
      "R[write to console]:  图书馆‘/usr/local/lib/R/site-library’, ‘/usr/lib/R/site-library’里没有程辑包\n",
      "\n",
      "R[write to console]: 6: \n",
      "R[write to console]: In (function (package, help, pos = 2, lib.loc = NULL, character.only = FALSE,  :\n",
      "R[write to console]: \n",
      " \n",
      "R[write to console]:  图书馆‘/usr/local/lib/R/site-library’, ‘/usr/lib/R/site-library’里没有程辑包\n",
      "\n",
      "R[write to console]: 7: \n",
      "R[write to console]: In (function (package, help, pos = 2, lib.loc = NULL, character.only = FALSE,  :\n",
      "R[write to console]: \n",
      " \n",
      "R[write to console]:  图书馆‘/usr/local/lib/R/site-library’, ‘/usr/lib/R/site-library’里没有程辑包\n",
      "\n",
      "R[write to console]: 8: \n",
      "R[write to console]: In (function (package, help, pos = 2, lib.loc = NULL, character.only = FALSE,  :\n",
      "R[write to console]: \n",
      " \n",
      "R[write to console]:  图书馆‘/usr/local/lib/R/site-library’, ‘/usr/lib/R/site-library’里没有程辑包\n",
      "\n",
      "R[write to console]: Warning messages:\n",
      "\n",
      "R[write to console]: 1: \n",
      "R[write to console]: In (function (package, help, pos = 2, lib.loc = NULL, character.only = FALSE,  :\n",
      "R[write to console]: \n",
      " \n",
      "R[write to console]:  图书馆‘/usr/local/lib/R/site-library’, ‘/usr/lib/R/site-library’里没有程辑包\n",
      "\n",
      "R[write to console]: 2: \n",
      "R[write to console]: In (function (package, help, pos = 2, lib.loc = NULL, character.only = FALSE,  :\n",
      "R[write to console]: \n",
      " \n",
      "R[write to console]:  图书馆‘/usr/local/lib/R/site-library’, ‘/usr/lib/R/site-library’里没有程辑包\n",
      "\n",
      "R[write to console]: 3: \n",
      "R[write to console]: In (function (package, help, pos = 2, lib.loc = NULL, character.only = FALSE,  :\n",
      "R[write to console]: \n",
      " \n",
      "R[write to console]:  图书馆‘/usr/local/lib/R/site-library’, ‘/usr/lib/R/site-library’里没有程辑包\n",
      "\n",
      "R[write to console]: 4: \n",
      "R[write to console]: In (function (package, help, pos = 2, lib.loc = NULL, character.only = FALSE,  :\n",
      "R[write to console]: \n",
      " \n",
      "R[write to console]:  图书馆‘/usr/local/lib/R/site-library’, ‘/usr/lib/R/site-library’里没有程辑包\n",
      "\n",
      "R[write to console]: 5: \n",
      "R[write to console]: In (function (package, help, pos = 2, lib.loc = NULL, character.only = FALSE,  :\n",
      "R[write to console]: \n",
      " \n",
      "R[write to console]:  图书馆‘/usr/local/lib/R/site-library’, ‘/usr/lib/R/site-library’里没有程辑包\n",
      "\n",
      "R[write to console]: 6: \n",
      "R[write to console]: In (function (package, help, pos = 2, lib.loc = NULL, character.only = FALSE,  :\n",
      "R[write to console]: \n",
      " \n",
      "R[write to console]:  图书馆‘/usr/local/lib/R/site-library’, ‘/usr/lib/R/site-library’里没有程辑包\n",
      "\n",
      "R[write to console]: 7: \n",
      "R[write to console]: In (function (package, help, pos = 2, lib.loc = NULL, character.only = FALSE,  :\n",
      "R[write to console]: \n",
      " \n",
      "R[write to console]:  图书馆‘/usr/local/lib/R/site-library’, ‘/usr/lib/R/site-library’里没有程辑包\n",
      "\n",
      "R[write to console]: 8: \n",
      "R[write to console]: In (function (package, help, pos = 2, lib.loc = NULL, character.only = FALSE,  :\n",
      "R[write to console]: \n",
      " \n",
      "R[write to console]:  图书馆‘/usr/local/lib/R/site-library’, ‘/usr/lib/R/site-library’里没有程辑包\n",
      "\n",
      "R[write to console]: Warning messages:\n",
      "\n",
      "R[write to console]: 1: \n",
      "R[write to console]: In (function (package, help, pos = 2, lib.loc = NULL, character.only = FALSE,  :\n",
      "R[write to console]: \n",
      " \n",
      "R[write to console]:  图书馆‘/usr/local/lib/R/site-library’, ‘/usr/lib/R/site-library’里没有程辑包\n",
      "\n",
      "R[write to console]: 2: \n",
      "R[write to console]: In (function (package, help, pos = 2, lib.loc = NULL, character.only = FALSE,  :\n",
      "R[write to console]: \n",
      " \n",
      "R[write to console]:  图书馆‘/usr/local/lib/R/site-library’, ‘/usr/lib/R/site-library’里没有程辑包\n",
      "\n",
      "R[write to console]: 3: \n",
      "R[write to console]: In (function (package, help, pos = 2, lib.loc = NULL, character.only = FALSE,  :\n",
      "R[write to console]: \n",
      " \n",
      "R[write to console]:  图书馆‘/usr/local/lib/R/site-library’, ‘/usr/lib/R/site-library’里没有程辑包\n",
      "\n",
      "R[write to console]: 4: \n",
      "R[write to console]: In (function (package, help, pos = 2, lib.loc = NULL, character.only = FALSE,  :\n",
      "R[write to console]: \n",
      " \n",
      "R[write to console]:  图书馆‘/usr/local/lib/R/site-library’, ‘/usr/lib/R/site-library’里没有程辑包\n",
      "\n",
      "R[write to console]: 5: \n",
      "R[write to console]: In (function (package, help, pos = 2, lib.loc = NULL, character.only = FALSE,  :\n",
      "R[write to console]: \n",
      " \n",
      "R[write to console]:  图书馆‘/usr/local/lib/R/site-library’, ‘/usr/lib/R/site-library’里没有程辑包\n",
      "\n",
      "R[write to console]: 6: \n",
      "R[write to console]: In (function (package, help, pos = 2, lib.loc = NULL, character.only = FALSE,  :\n",
      "R[write to console]: \n",
      " \n",
      "R[write to console]:  图书馆‘/usr/local/lib/R/site-library’, ‘/usr/lib/R/site-library’里没有程辑包\n",
      "\n",
      "R[write to console]: 7: \n",
      "R[write to console]: In (function (package, help, pos = 2, lib.loc = NULL, character.only = FALSE,  :\n",
      "R[write to console]: \n",
      " \n",
      "R[write to console]:  图书馆‘/usr/local/lib/R/site-library’, ‘/usr/lib/R/site-library’里没有程辑包\n",
      "\n",
      "R[write to console]: 8: \n",
      "R[write to console]: In (function (package, help, pos = 2, lib.loc = NULL, character.only = FALSE,  :\n",
      "R[write to console]: \n",
      " \n",
      "R[write to console]:  图书馆‘/usr/local/lib/R/site-library’, ‘/usr/lib/R/site-library’里没有程辑包\n",
      "\n",
      "R[write to console]: Warning messages:\n",
      "\n",
      "R[write to console]: 1: \n",
      "R[write to console]: In (function (package, help, pos = 2, lib.loc = NULL, character.only = FALSE,  :\n",
      "R[write to console]: \n",
      " \n",
      "R[write to console]:  图书馆‘/usr/local/lib/R/site-library’, ‘/usr/lib/R/site-library’里没有程辑包\n",
      "\n",
      "R[write to console]: 2: \n",
      "R[write to console]: In (function (package, help, pos = 2, lib.loc = NULL, character.only = FALSE,  :\n",
      "R[write to console]: \n",
      " \n",
      "R[write to console]:  图书馆‘/usr/local/lib/R/site-library’, ‘/usr/lib/R/site-library’里没有程辑包\n",
      "\n",
      "R[write to console]: 3: \n",
      "R[write to console]: In (function (package, help, pos = 2, lib.loc = NULL, character.only = FALSE,  :\n",
      "R[write to console]: \n",
      " \n",
      "R[write to console]:  图书馆‘/usr/local/lib/R/site-library’, ‘/usr/lib/R/site-library’里没有程辑包\n",
      "\n",
      "R[write to console]: 4: \n",
      "R[write to console]: In (function (package, help, pos = 2, lib.loc = NULL, character.only = FALSE,  :\n",
      "R[write to console]: \n",
      " \n",
      "R[write to console]:  图书馆‘/usr/local/lib/R/site-library’, ‘/usr/lib/R/site-library’里没有程辑包\n",
      "\n",
      "R[write to console]: 5: \n",
      "R[write to console]: In (function (package, help, pos = 2, lib.loc = NULL, character.only = FALSE,  :\n",
      "R[write to console]: \n",
      " \n",
      "R[write to console]:  图书馆‘/usr/local/lib/R/site-library’, ‘/usr/lib/R/site-library’里没有程辑包\n",
      "\n",
      "R[write to console]: 6: \n",
      "R[write to console]: In (function (package, help, pos = 2, lib.loc = NULL, character.only = FALSE,  :\n",
      "R[write to console]: \n",
      " \n",
      "R[write to console]:  图书馆‘/usr/local/lib/R/site-library’, ‘/usr/lib/R/site-library’里没有程辑包\n",
      "\n",
      "R[write to console]: 7: \n",
      "R[write to console]: In (function (package, help, pos = 2, lib.loc = NULL, character.only = FALSE,  :\n",
      "R[write to console]: \n",
      " \n",
      "R[write to console]:  图书馆‘/usr/local/lib/R/site-library’, ‘/usr/lib/R/site-library’里没有程辑包\n",
      "\n",
      "R[write to console]: 8: \n",
      "R[write to console]: In (function (package, help, pos = 2, lib.loc = NULL, character.only = FALSE,  :\n",
      "R[write to console]: \n",
      " \n",
      "R[write to console]:  图书馆‘/usr/local/lib/R/site-library’, ‘/usr/lib/R/site-library’里没有程辑包\n",
      "\n",
      "R[write to console]: Warning messages:\n",
      "\n",
      "R[write to console]: 1: \n",
      "R[write to console]: In (function (package, help, pos = 2, lib.loc = NULL, character.only = FALSE,  :\n",
      "R[write to console]: \n",
      " \n",
      "R[write to console]:  图书馆‘/usr/local/lib/R/site-library’, ‘/usr/lib/R/site-library’里没有程辑包\n",
      "\n",
      "R[write to console]: 2: \n",
      "R[write to console]: In (function (package, help, pos = 2, lib.loc = NULL, character.only = FALSE,  :\n",
      "R[write to console]: \n",
      " \n",
      "R[write to console]:  图书馆‘/usr/local/lib/R/site-library’, ‘/usr/lib/R/site-library’里没有程辑包\n",
      "\n",
      "R[write to console]: 3: \n",
      "R[write to console]: In (function (package, help, pos = 2, lib.loc = NULL, character.only = FALSE,  :\n",
      "R[write to console]: \n",
      " \n",
      "R[write to console]:  图书馆‘/usr/local/lib/R/site-library’, ‘/usr/lib/R/site-library’里没有程辑包\n",
      "\n",
      "R[write to console]: 4: \n",
      "R[write to console]: In (function (package, help, pos = 2, lib.loc = NULL, character.only = FALSE,  :\n",
      "R[write to console]: \n",
      " \n",
      "R[write to console]:  图书馆‘/usr/local/lib/R/site-library’, ‘/usr/lib/R/site-library’里没有程辑包\n",
      "\n",
      "R[write to console]: Warning messages:\n",
      "\n",
      "R[write to console]: 1: \n",
      "R[write to console]: In (function (package, help, pos = 2, lib.loc = NULL, character.only = FALSE,  :\n",
      "R[write to console]: \n",
      " \n",
      "R[write to console]:  图书馆‘/usr/local/lib/R/site-library’, ‘/usr/lib/R/site-library’里没有程辑包\n",
      "\n",
      "R[write to console]: 2: \n",
      "/home/gilberthan/anaconda3/envs/scarches/lib/python3.8/site-packages/joblib/externals/loky/process_executor.py:752: UserWarning: A worker stopped while some jobs were given to the executor. This can be caused by a too short worker timeout or by a memory leak.\n",
      "  warnings.warn(\n",
      "  9%|▉         | 100/1083 [00:36<07:28,  2.19it/s]/home/gilberthan/anaconda3/envs/scarches/lib/python3.8/site-packages/joblib/externals/loky/process_executor.py:752: UserWarning: A worker stopped while some jobs were given to the executor. This can be caused by a too short worker timeout or by a memory leak.\n",
      "  warnings.warn(\n",
      "100%|██████████| 1083/1083 [03:24<00:00,  5.29it/s]\n",
      "100%|██████████| 244/244 [04:25<00:00,  1.09s/it]\n"
     ]
    }
   ],
   "source": [
    "\n",
    "wholeCpm=milo2.make_whole_cpm(mdata_lineage,n_jobs=25)\n",
    "milo2.permute_point_cpm_parallel(mdata_lineage,n_jobs=25)\n"
   ]
  },
  {
   "cell_type": "code",
   "execution_count": 14,
   "id": "f2a214ff-2d2b-4589-9216-201ccbfa0a5d",
   "metadata": {},
   "outputs": [],
   "source": [
    "cpmDict_fibro=mdata_lineage[\"milo\"].uns[\"cpm_dict\"]"
   ]
  },
  {
   "cell_type": "code",
   "execution_count": 13,
   "id": "233a1cad-bd76-4e6c-8151-97bb70560d7d",
   "metadata": {},
   "outputs": [],
   "source": [
    "!mkdir ../process_data/traj_diff/cpm/fibro/"
   ]
  },
  {
   "cell_type": "code",
   "execution_count": 16,
   "id": "468f0afb-40d3-44c3-a820-8d2662a037fe",
   "metadata": {},
   "outputs": [],
   "source": [
    "# Specify the directory where you want to save the CSV files\n",
    "output_directory = '../process_data/traj_diff/cpm/fibro/'\n",
    "\n",
    "# Export each DataFrame in the dictionary to a separate CSV file\n",
    "for df_name, df in cpmDict_fibro.items():\n",
    "    df.to_csv(output_directory + f'{df_name}.csv', index=True)"
   ]
  },
  {
   "cell_type": "code",
   "execution_count": 17,
   "id": "835fb79f-be5f-4791-a6ee-2fef96d3470f",
   "metadata": {},
   "outputs": [],
   "source": [
    "chondroLineage=extendAtlas[extendAtlas.obs[\"lineage_chondro\"]].copy()"
   ]
  },
  {
   "cell_type": "code",
   "execution_count": 18,
   "id": "6dc01e6f-fbef-4fa6-a485-66a67af5315b",
   "metadata": {},
   "outputs": [],
   "source": [
    "mdata_lineage=milo2.load(chondroLineage)"
   ]
  },
  {
   "cell_type": "code",
   "execution_count": 19,
   "id": "2eedfdd8-99be-47c8-b202-e2d65df65f64",
   "metadata": {},
   "outputs": [
    {
     "name": "stderr",
     "output_type": "stream",
     "text": [
      "100%|██████████| 619/619 [03:27<00:00,  2.98it/s]\n"
     ]
    }
   ],
   "source": [
    "sc.pp.neighbors(mdata_lineage['rna'], use_rep='scANVI', n_neighbors=200, n_pcs=15)\n",
    "milo2.make_nhoods(mdata_lineage['rna'], prop=0.015)\n",
    "mdata_lineage = milo2.count_nhoods(mdata_lineage['rna'], sample_col=\"Sample\")\n",
    "pseudobulk_lineage=milo2.make_pseudobulk_parallel(mdata=mdata_lineage,sample_col=\"Sample\",group_col=\"Stage\",time_col=\"dpt_pred\",njob=25,min_cell=2)\n",
    "milo2.make_range(mdata_lineage,only_range=True)"
   ]
  },
  {
   "cell_type": "code",
   "execution_count": 27,
   "id": "ff404be2-8cd9-44a2-bab6-1b865c12fb2f",
   "metadata": {},
   "outputs": [],
   "source": [
    "mdata_lineage[\"milo\"].write_h5ad(\"../process_data/traj_diff/fibro_milo.h5ad\")\n",
    "mdata_lineage[\"pseudobulk\"].write_h5ad(\"../process_data/traj_diff/fibro_pseudobulk.h5ad\")"
   ]
  },
  {
   "cell_type": "code",
   "execution_count": 8,
   "id": "087757fc-ac2b-480f-b691-1a9871012099",
   "metadata": {},
   "outputs": [
    {
     "name": "stderr",
     "output_type": "stream",
     "text": [
      "/home/gilberthan/anaconda3/envs/scarches/lib/python3.8/site-packages/anndata/_core/anndata.py:1830: UserWarning: Observation names are not unique. To make them unique, call `.obs_names_make_unique`.\n",
      "  utils.warn_names_duplicates(\"obs\")\n"
     ]
    }
   ],
   "source": [
    "lineageMilo=sc.read_h5ad(\"../process_data/traj_diff/fibro_milo.h5ad\")\n",
    "lineagePesudo=sc.read_h5ad(\"../process_data/traj_diff/fibro_pseudobulk.h5ad\")"
   ]
  },
  {
   "cell_type": "code",
   "execution_count": 9,
   "id": "aa32e100-82ea-4036-a2d8-1348159e18d0",
   "metadata": {},
   "outputs": [],
   "source": [
    "mdata_lineage=milo2.load(lineageMilo)"
   ]
  },
  {
   "cell_type": "code",
   "execution_count": 10,
   "id": "1a1225c2-2f26-4a45-8898-d65c5ecc6583",
   "metadata": {},
   "outputs": [],
   "source": [
    "mdata_lineage.mod[\"milo\"]=lineageMilo\n",
    "mdata_lineage.mod[\"pseudobulk\"]=lineagePesudo"
   ]
  },
  {
   "cell_type": "code",
   "execution_count": 11,
   "id": "6b28d60c-35af-46dc-b391-31f970dc1554",
   "metadata": {},
   "outputs": [
    {
     "data": {
      "text/html": [
       "<pre style=\"white-space:pre;overflow-x:auto;line-height:normal;font-family:Menlo,'DejaVu Sans Mono',consolas,'Courier New',monospace\">Using edgeR to find CPM<span style=\"color: #808000; text-decoration-color: #808000\">......</span>\n",
       "</pre>\n"
      ],
      "text/plain": [
       "Using edgeR to find CPM\u001b[33m...\u001b[0m\u001b[33m...\u001b[0m\n"
      ]
     },
     "metadata": {},
     "output_type": "display_data"
    },
    {
     "name": "stderr",
     "output_type": "stream",
     "text": [
      "100%|██████████| 619/619 [01:45<00:00,  5.84it/s]\n",
      "100%|██████████| 164/164 [00:49<00:00,  3.33it/s]\n"
     ]
    }
   ],
   "source": [
    "\n",
    "wholeCpm=milo2.make_whole_cpm(mdata_lineage,n_jobs=25)\n",
    "milo2.permute_point_cpm_parallel(mdata_lineage,n_jobs=25)\n"
   ]
  },
  {
   "cell_type": "code",
   "execution_count": 12,
   "id": "a1d5658d-e003-4687-bb65-a31dd2b18529",
   "metadata": {},
   "outputs": [],
   "source": [
    "!mkdir ../process_data/traj_diff/cpm/chondro/"
   ]
  },
  {
   "cell_type": "code",
   "execution_count": 13,
   "id": "1a177a6f-55d5-4129-b7c8-ffa59e833b09",
   "metadata": {
    "scrolled": true
   },
   "outputs": [
    {
     "name": "stderr",
     "output_type": "stream",
     "text": [
      "R[write to console]: There were 50 or more warnings (use warnings() to see the first 50)\n",
      "R[write to console]: \n",
      "\n",
      "R[write to console]: There were 50 or more warnings (use warnings() to see the first 50)\n",
      "R[write to console]: \n",
      "\n",
      "R[write to console]: There were 50 or more warnings (use warnings() to see the first 50)\n",
      "R[write to console]: \n",
      "\n",
      "R[write to console]: There were 50 or more warnings (use warnings() to see the first 50)\n",
      "R[write to console]: \n",
      "\n",
      "R[write to console]: There were 50 or more warnings (use warnings() to see the first 50)\n",
      "R[write to console]: \n",
      "\n",
      "R[write to console]: There were 50 or more warnings (use warnings() to see the first 50)\n",
      "R[write to console]: \n",
      "\n",
      "R[write to console]: There were 50 or more warnings (use warnings() to see the first 50)\n",
      "R[write to console]: \n",
      "\n",
      "R[write to console]: There were 50 or more warnings (use warnings() to see the first 50)\n",
      "R[write to console]: \n",
      "\n",
      "R[write to console]: There were 50 or more warnings (use warnings() to see the first 50)\n",
      "R[write to console]: \n",
      "\n",
      "R[write to console]: There were 50 or more warnings (use warnings() to see the first 50)\n",
      "R[write to console]: \n",
      "\n",
      "R[write to console]: There were 50 or more warnings (use warnings() to see the first 50)\n",
      "R[write to console]: \n",
      "\n",
      "R[write to console]: There were 50 or more warnings (use warnings() to see the first 50)\n",
      "R[write to console]: \n",
      "\n",
      "R[write to console]: There were 50 or more warnings (use warnings() to see the first 50)\n",
      "R[write to console]: \n",
      "\n",
      "R[write to console]: There were 50 or more warnings (use warnings() to see the first 50)\n",
      "R[write to console]: \n",
      "\n",
      "R[write to console]: There were 50 or more warnings (use warnings() to see the first 50)\n",
      "R[write to console]: \n",
      "\n",
      "R[write to console]: There were 50 or more warnings (use warnings() to see the first 50)\n",
      "R[write to console]: \n",
      "\n",
      "R[write to console]: There were 50 or more warnings (use warnings() to see the first 50)\n",
      "R[write to console]: \n",
      "\n",
      "R[write to console]: There were 50 or more warnings (use warnings() to see the first 50)\n",
      "R[write to console]: \n",
      "\n",
      "R[write to console]: There were 50 or more warnings (use warnings() to see the first 50)\n",
      "R[write to console]: \n",
      "\n",
      "R[write to console]: There were 50 or more warnings (use warnings() to see the first 50)\n",
      "R[write to console]: \n",
      "\n",
      "R[write to console]: There were 50 or more warnings (use warnings() to see the first 50)\n",
      "R[write to console]: \n",
      "\n",
      "R[write to console]: There were 50 or more warnings (use warnings() to see the first 50)\n",
      "R[write to console]: \n",
      "\n",
      "R[write to console]: There were 50 or more warnings (use warnings() to see the first 50)\n",
      "R[write to console]: \n",
      "\n",
      "R[write to console]: There were 50 or more warnings (use warnings() to see the first 50)\n",
      "R[write to console]: \n",
      "\n",
      "R[write to console]: There were 50 or more warnings (use warnings() to see the first 50)\n",
      "R[write to console]: \n",
      "\n"
     ]
    }
   ],
   "source": [
    "cpmDict=mdata_lineage[\"milo\"].uns[\"cpm_dict\"]\n",
    "# Specify the directory where you want to save the CSV files\n",
    "output_directory = '../process_data/traj_diff/cpm/chondro/'\n",
    "\n",
    "# Export each DataFrame in the dictionary to a separate CSV file\n",
    "for df_name, df in cpmDict.items():\n",
    "    df.to_csv(output_directory + f'{df_name}.csv', index=True)"
   ]
  },
  {
   "cell_type": "code",
   "execution_count": 22,
   "id": "4d783d1c-dd21-43f0-a527-665d49998214",
   "metadata": {},
   "outputs": [
    {
     "ename": "KeyError",
     "evalue": "'whole_cpm'",
     "output_type": "error",
     "traceback": [
      "\u001b[0;31m---------------------------------------------------------------------------\u001b[0m",
      "\u001b[0;31mKeyError\u001b[0m                                  Traceback (most recent call last)",
      "Cell \u001b[0;32mIn[22], line 1\u001b[0m\n\u001b[0;32m----> 1\u001b[0m \u001b[43mmilo2\u001b[49m\u001b[38;5;241;43m.\u001b[39;49m\u001b[43mpermute_point_cpm_parallel\u001b[49m\u001b[43m(\u001b[49m\u001b[43mmdata_lineage\u001b[49m\u001b[43m,\u001b[49m\u001b[43mn_jobs\u001b[49m\u001b[38;5;241;43m=\u001b[39;49m\u001b[38;5;241;43m25\u001b[39;49m\u001b[43m)\u001b[49m\n",
      "File \u001b[0;32m~/Desktop/disk1/limb/8.25_full_integration/script/../../function/trajDiff_v133.py:1731\u001b[0m, in \u001b[0;36mMilo2.permute_point_cpm_parallel\u001b[0;34m(self, mdata, n, n_jobs)\u001b[0m\n\u001b[1;32m   1729\u001b[0m varTable \u001b[38;5;241m=\u001b[39m milo\u001b[38;5;241m.\u001b[39mvar\n\u001b[1;32m   1730\u001b[0m range_data \u001b[38;5;241m=\u001b[39m varTable[[\u001b[38;5;124m\"\u001b[39m\u001b[38;5;124mrange_down\u001b[39m\u001b[38;5;124m\"\u001b[39m, \u001b[38;5;124m\"\u001b[39m\u001b[38;5;124mrange_up\u001b[39m\u001b[38;5;124m\"\u001b[39m]]\u001b[38;5;241m.\u001b[39mvalues\n\u001b[0;32m-> 1731\u001b[0m whole_cpm \u001b[38;5;241m=\u001b[39m \u001b[43mpseudobulk\u001b[49m\u001b[38;5;241;43m.\u001b[39;49m\u001b[43mvarm\u001b[49m\u001b[43m[\u001b[49m\u001b[38;5;124;43m\"\u001b[39;49m\u001b[38;5;124;43mwhole_cpm\u001b[39;49m\u001b[38;5;124;43m\"\u001b[39;49m\u001b[43m]\u001b[49m\n\u001b[1;32m   1732\u001b[0m colName \u001b[38;5;241m=\u001b[39m whole_cpm\u001b[38;5;241m.\u001b[39mcolumns\n\u001b[1;32m   1733\u001b[0m attr1 \u001b[38;5;241m=\u001b[39m [s\u001b[38;5;241m.\u001b[39msplit(\u001b[38;5;124m\"\u001b[39m\u001b[38;5;124m_sep_\u001b[39m\u001b[38;5;124m\"\u001b[39m)[\u001b[38;5;241m0\u001b[39m] \u001b[38;5;28;01mfor\u001b[39;00m s \u001b[38;5;129;01min\u001b[39;00m colName]\n",
      "File \u001b[0;32m~/anaconda3/envs/scarches/lib/python3.8/site-packages/anndata/_core/aligned_mapping.py:178\u001b[0m, in \u001b[0;36mAlignedActualMixin.__getitem__\u001b[0;34m(self, key)\u001b[0m\n\u001b[1;32m    177\u001b[0m \u001b[38;5;28;01mdef\u001b[39;00m \u001b[38;5;21m__getitem__\u001b[39m(\u001b[38;5;28mself\u001b[39m, key: \u001b[38;5;28mstr\u001b[39m) \u001b[38;5;241m-\u001b[39m\u001b[38;5;241m>\u001b[39m V:\n\u001b[0;32m--> 178\u001b[0m     \u001b[38;5;28;01mreturn\u001b[39;00m \u001b[38;5;28;43mself\u001b[39;49m\u001b[38;5;241;43m.\u001b[39;49m\u001b[43m_data\u001b[49m\u001b[43m[\u001b[49m\u001b[43mkey\u001b[49m\u001b[43m]\u001b[49m\n",
      "\u001b[0;31mKeyError\u001b[0m: 'whole_cpm'"
     ]
    }
   ],
   "source": [
    "milo2.permute_point_cpm_parallel(mdata_lineage,n_jobs=25)"
   ]
  },
  {
   "cell_type": "code",
   "execution_count": 3,
   "id": "cd7dc1c0-8ae6-417c-ab05-c67fc75e6bc7",
   "metadata": {},
   "outputs": [
    {
     "name": "stderr",
     "output_type": "stream",
     "text": [
      "/home/gilberthan/anaconda3/envs/scarches/lib/python3.8/site-packages/anndata/_core/anndata.py:1830: UserWarning: Observation names are not unique. To make them unique, call `.obs_names_make_unique`.\n",
      "  utils.warn_names_duplicates(\"obs\")\n"
     ]
    }
   ],
   "source": [
    "pseudobulk_lineage=sc.read_h5ad(\"../process_data/traj_diff/lepr_pseudobulk.h5ad\")\n",
    "milo_lineage=sc.read_h5ad(\"../process_data/traj_diff/milo_lineage_lepr.h5ad\")"
   ]
  },
  {
   "cell_type": "code",
   "execution_count": 4,
   "id": "bba4240e-1813-4872-bcf0-b96d034ea7b0",
   "metadata": {},
   "outputs": [],
   "source": [
    "mdata_lineage=milo2.load(milo_lineage)\n",
    "mdata_lineage.mod[\"milo\"]=milo_lineage\n",
    "mdata_lineage.mod[\"pseudobulk\"]=pseudobulk_lineage"
   ]
  },
  {
   "cell_type": "code",
   "execution_count": 5,
   "id": "03e7779c-1cb0-4c4e-9900-53866ddfac83",
   "metadata": {
    "scrolled": true
   },
   "outputs": [
    {
     "data": {
      "text/html": [
       "<pre style=\"white-space:pre;overflow-x:auto;line-height:normal;font-family:Menlo,'DejaVu Sans Mono',consolas,'Courier New',monospace\">Using edgeR to find CPM<span style=\"color: #808000; text-decoration-color: #808000\">......</span>\n",
       "</pre>\n"
      ],
      "text/plain": [
       "Using edgeR to find CPM\u001b[33m...\u001b[0m\u001b[33m...\u001b[0m\n"
      ]
     },
     "metadata": {},
     "output_type": "display_data"
    },
    {
     "name": "stderr",
     "output_type": "stream",
     "text": [
      "100%|██████████| 2662/2662 [06:26<00:00,  6.89it/s]\n",
      "R[write to console]: There were 50 or more warnings (use warnings() to see the first 50)\n",
      "R[write to console]: \n",
      "\n",
      "R[write to console]: There were 50 or more warnings (use warnings() to see the first 50)\n",
      "R[write to console]: \n",
      "\n",
      "R[write to console]: There were 50 or more warnings (use warnings() to see the first 50)\n",
      "R[write to console]: \n",
      "\n",
      "R[write to console]: There were 50 or more warnings (use warnings() to see the first 50)\n",
      "R[write to console]: \n",
      "\n",
      "R[write to console]: There were 50 or more warnings (use warnings() to see the first 50)\n",
      "R[write to console]: \n",
      "\n",
      "R[write to console]: There were 50 or more warnings (use warnings() to see the first 50)\n",
      "R[write to console]: \n",
      "\n",
      "R[write to console]: There were 50 or more warnings (use warnings() to see the first 50)\n",
      "R[write to console]: \n",
      "\n",
      "R[write to console]: There were 50 or more warnings (use warnings() to see the first 50)\n",
      "R[write to console]: \n",
      "\n",
      "R[write to console]: There were 50 or more warnings (use warnings() to see the first 50)\n",
      "R[write to console]: \n",
      "\n",
      "R[write to console]: There were 50 or more warnings (use warnings() to see the first 50)\n",
      "R[write to console]: \n",
      "\n",
      "R[write to console]: There were 50 or more warnings (use warnings() to see the first 50)\n",
      "R[write to console]: \n",
      "\n",
      "R[write to console]: There were 50 or more warnings (use warnings() to see the first 50)\n",
      "R[write to console]: \n",
      "\n",
      "R[write to console]: There were 50 or more warnings (use warnings() to see the first 50)\n",
      "R[write to console]: \n",
      "\n",
      "R[write to console]: There were 50 or more warnings (use warnings() to see the first 50)\n",
      "R[write to console]: \n",
      "\n",
      "R[write to console]: There were 50 or more warnings (use warnings() to see the first 50)\n",
      "R[write to console]: \n",
      "\n",
      "R[write to console]: There were 50 or more warnings (use warnings() to see the first 50)\n",
      "R[write to console]: \n",
      "\n",
      "R[write to console]: There were 50 or more warnings (use warnings() to see the first 50)\n",
      "R[write to console]: \n",
      "\n",
      "R[write to console]: There were 50 or more warnings (use warnings() to see the first 50)\n",
      "R[write to console]: \n",
      "\n",
      "R[write to console]: There were 50 or more warnings (use warnings() to see the first 50)\n",
      "R[write to console]: \n",
      "\n",
      "R[write to console]: There were 50 or more warnings (use warnings() to see the first 50)\n",
      "R[write to console]: \n",
      "\n",
      "R[write to console]: There were 50 or more warnings (use warnings() to see the first 50)\n",
      "R[write to console]: \n",
      "\n",
      "R[write to console]: There were 50 or more warnings (use warnings() to see the first 50)\n",
      "R[write to console]: \n",
      "\n",
      "R[write to console]: There were 50 or more warnings (use warnings() to see the first 50)\n",
      "R[write to console]: \n",
      "\n",
      "R[write to console]: There were 50 or more warnings (use warnings() to see the first 50)\n",
      "R[write to console]: \n",
      "\n",
      "R[write to console]: There were 50 or more warnings (use warnings() to see the first 50)\n",
      "R[write to console]: \n",
      "\n",
      "100%|██████████| 258/258 [05:46<00:00,  1.34s/it]\n"
     ]
    }
   ],
   "source": [
    "\n",
    "wholeCpm=milo2.make_whole_cpm(mdata_lineage,n_jobs=25)\n",
    "milo2.permute_point_cpm_parallel(mdata_lineage,n_jobs=25)\n"
   ]
  },
  {
   "cell_type": "code",
   "execution_count": 6,
   "id": "8346cabc-ea0a-4e11-8f87-8dca3efe13bb",
   "metadata": {},
   "outputs": [],
   "source": [
    "!mkdir ../process_data/traj_diff/cpm/lepr/"
   ]
  },
  {
   "cell_type": "code",
   "execution_count": 7,
   "id": "735b131a-d526-4ad1-b4f2-8d1cdf95fd73",
   "metadata": {},
   "outputs": [],
   "source": [
    "cpmDict=mdata_lineage[\"milo\"].uns[\"cpm_dict\"]\n",
    "# Specify the directory where you want to save the CSV files\n",
    "output_directory = '../process_data/traj_diff/cpm/lepr/'\n",
    "\n",
    "# Export each DataFrame in the dictionary to a separate CSV file\n",
    "for df_name, df in cpmDict.items():\n",
    "    df.to_csv(output_directory + f'{df_name}.csv', index=True)"
   ]
  },
  {
   "cell_type": "code",
   "execution_count": null,
   "id": "d0aa14a9-2222-4b6c-af4a-d214bf9e20df",
   "metadata": {},
   "outputs": [],
   "source": []
  }
 ],
 "metadata": {
  "kernelspec": {
   "display_name": "scarcheses",
   "language": "python",
   "name": "scarcheses"
  },
  "language_info": {
   "codemirror_mode": {
    "name": "ipython",
    "version": 3
   },
   "file_extension": ".py",
   "mimetype": "text/x-python",
   "name": "python",
   "nbconvert_exporter": "python",
   "pygments_lexer": "ipython3",
   "version": "3.8.15"
  }
 },
 "nbformat": 4,
 "nbformat_minor": 5
}
