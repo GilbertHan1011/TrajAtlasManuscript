{
 "cells": [
  {
   "cell_type": "code",
   "execution_count": 1,
   "id": "7107ec4c-2d8b-4414-a2de-0eb940d65966",
   "metadata": {},
   "outputs": [
    {
     "name": "stderr",
     "output_type": "stream",
     "text": [
      "/home/zhanglab/mambaforge/envs/celloracle/lib/python3.9/site-packages/loompy/bus_file.py:68: NumbaDeprecationWarning: \u001b[1mThe 'nopython' keyword argument was not supplied to the 'numba.jit' decorator. The implicit default value for this argument is currently False, but it will be changed to True in Numba 0.59.0. See https://numba.readthedocs.io/en/stable/reference/deprecation.html#deprecation-of-object-mode-fall-back-behaviour-when-using-jit for details.\u001b[0m\n",
      "  def twobit_to_dna(twobit: int, size: int) -> str:\n",
      "/home/zhanglab/mambaforge/envs/celloracle/lib/python3.9/site-packages/loompy/bus_file.py:85: NumbaDeprecationWarning: \u001b[1mThe 'nopython' keyword argument was not supplied to the 'numba.jit' decorator. The implicit default value for this argument is currently False, but it will be changed to True in Numba 0.59.0. See https://numba.readthedocs.io/en/stable/reference/deprecation.html#deprecation-of-object-mode-fall-back-behaviour-when-using-jit for details.\u001b[0m\n",
      "  def dna_to_twobit(dna: str) -> int:\n",
      "/home/zhanglab/mambaforge/envs/celloracle/lib/python3.9/site-packages/loompy/bus_file.py:102: NumbaDeprecationWarning: \u001b[1mThe 'nopython' keyword argument was not supplied to the 'numba.jit' decorator. The implicit default value for this argument is currently False, but it will be changed to True in Numba 0.59.0. See https://numba.readthedocs.io/en/stable/reference/deprecation.html#deprecation-of-object-mode-fall-back-behaviour-when-using-jit for details.\u001b[0m\n",
      "  def twobit_1hamming(twobit: int, size: int) -> List[int]:\n"
     ]
    }
   ],
   "source": [
    "import loompy"
   ]
  },
  {
   "cell_type": "code",
   "execution_count": 2,
   "id": "54b6d883-514a-4578-8af2-614283a754fd",
   "metadata": {},
   "outputs": [],
   "source": [
    "file_path = '../9.5_scenic/9.22_wt_dpt_prepare.loom'\n",
    "\n",
    "# Load the Loom file\n",
    "with loompy.connect(file_path, 'r') as ds:\n",
    "    # Access the data matrix (expression data)\n",
    "    expression_data = ds[:, :]\n"
   ]
  },
  {
   "cell_type": "code",
   "execution_count": 13,
   "id": "1eb6a892-259e-4a89-857d-4402db31259d",
   "metadata": {},
   "outputs": [
    {
     "data": {
      "text/plain": [
       "array([[0., 0., 0., ..., 0., 0., 0.],\n",
       "       [0., 0., 0., ..., 0., 0., 0.],\n",
       "       [0., 0., 0., ..., 1., 1., 1.],\n",
       "       ...,\n",
       "       [0., 0., 0., ..., 0., 0., 0.],\n",
       "       [0., 0., 0., ..., 0., 0., 0.],\n",
       "       [0., 0., 0., ..., 0., 0., 0.]], dtype=float32)"
      ]
     },
     "execution_count": 13,
     "metadata": {},
     "output_type": "execute_result"
    }
   ],
   "source": [
    "expression_data"
   ]
  },
  {
   "cell_type": "code",
   "execution_count": 14,
   "id": "7c682afc-f235-4c9c-b00b-8c7237e8588e",
   "metadata": {},
   "outputs": [],
   "source": [
    "with loompy.connect(file_path, 'r') as ds:\n",
    "    # Access cell names and gene names\n",
    "    cell_names = ds.ca['CellID']\n",
    "    gene_names = ds.ra['Gene']"
   ]
  },
  {
   "cell_type": "code",
   "execution_count": 15,
   "id": "cfdfd28d-855c-4314-9499-6f2e92261426",
   "metadata": {},
   "outputs": [
    {
     "data": {
      "text/plain": [
       "array(['Suture2021_Farmer_E17_AAACCTGCAGACTCGC-1_1-0',\n",
       "       'Suture2021_Farmer_E17_AAACCTGGTGGTCTCG-1_1-0',\n",
       "       'Suture2021_Farmer_E17_AAACCTGTCACCACCT-1_1-0', ...,\n",
       "       'TTTGACTTCTTGGGCG-1_5-1-2', 'TTTGGAGCAGCGACAA-1_5-1-2',\n",
       "       'TTTGGTTCACTACTTT-1_5-1-2'], dtype=object)"
      ]
     },
     "execution_count": 15,
     "metadata": {},
     "output_type": "execute_result"
    }
   ],
   "source": [
    "cell_names"
   ]
  },
  {
   "cell_type": "code",
   "execution_count": 17,
   "id": "6cca4cba-0072-4d4f-b892-614cbd1c571e",
   "metadata": {},
   "outputs": [],
   "source": [
    "import scanpy as sc\n",
    "adata=sc.read(\"../../important_processed_data/6.18_dpt_wt_sub.h5ad\")"
   ]
  },
  {
   "cell_type": "code",
   "execution_count": 19,
   "id": "72ff4e35-71ed-4d58-8ff6-41d3629e1819",
   "metadata": {},
   "outputs": [],
   "source": [
    "adata=adata[:,gene_names]"
   ]
  },
  {
   "cell_type": "code",
   "execution_count": 20,
   "id": "226f16c7-a20b-46d3-9908-8f8699a91a12",
   "metadata": {},
   "outputs": [],
   "source": [
    "adataSub=sc.pp.subsample(adata,fraction=0.5,copy=True)"
   ]
  },
  {
   "cell_type": "code",
   "execution_count": null,
   "id": "5b270790-5835-456d-899b-351f74fc546f",
   "metadata": {},
   "outputs": [],
   "source": [
    "adata[]"
   ]
  },
  {
   "cell_type": "code",
   "execution_count": 25,
   "id": "a66f8026-6e47-41d5-baa5-8a7d2f86fd5e",
   "metadata": {},
   "outputs": [],
   "source": [
    "cellRes=[cell for cell in adata.obs_names if cell not in adataSub.obs_names]"
   ]
  },
  {
   "cell_type": "code",
   "execution_count": 29,
   "id": "63905a6e-2a58-4fa3-ba70-99d58434b838",
   "metadata": {},
   "outputs": [],
   "source": [
    "adataSubSub=sc.pp.subsample(adata[cellRes,:],fraction=0.5,copy=True)"
   ]
  },
  {
   "cell_type": "code",
   "execution_count": 30,
   "id": "bea180a7-7fe6-411d-8abb-d75c03537ee7",
   "metadata": {},
   "outputs": [
    {
     "data": {
      "text/plain": [
       "AnnData object with n_obs × n_vars = 41536 × 24407\n",
       "    obs: 'orig.ident', 'nCount_originalexp', 'nFeature_originalexp', 'Sample', 'Project', 'Limb.Atlas', 'Organ', 'Tissue', 'Tissue.Specific.', 'Stage', 'Gene.type', 'Treatment', 'Age', 'Age.In.Detail.', 'Machine', 'Species', 'Isolation.approach', 'Digestion', 'Enzymes', 'Bone.Forming.Methods', 'Data.Source', 'Related.Assay', 'Origin', 'nCount_RNA', 'nFeature_RNA', 'paper_label', 'coarse_label', 'scDblFinder_class', 'short_id', 'temp_cluster', 'batch', 'batch_atlas', 'size_factors', 'n_genes_by_counts', 'log1p_n_genes_by_counts', 'total_counts', 'log1p_total_counts', 'pct_counts_in_top_50_genes', 'pct_counts_in_top_100_genes', 'pct_counts_in_top_200_genes', 'pct_counts_in_top_500_genes', 'new_totals_log', 'anno_level_1', 'anno_level_2', 'anno_level_3', 'anno_level_4', 'anno_level_5', 'mix_level_1', 'mix_level_2', 'merge_id_level3', 'merge_id_level4', 'merge_id_level5', 'cellid', 'leiden_clusters_level_1', 'leiden_clusters_level_2', 'leiden_clusters_level_3', 'leiden_clusters_level_4', 'leiden_clusters_level_5', 'leiden_clusters_level_6', 'leiden_clusters_level_7', 'K2', 'K7', 'K19', 'K36', 'K66', 'K112', 'K220', 'C2', 'C7', 'C19', 'C36', 'C49', 'C90', 'C137', 'C2_named', 'C7_named', 'C19_named', 'C36_named', 'C49_named', 'C90_named', 'C137_named', 'sample_coarse', 'dpt_pseudotime', 'dpt_norm'\n",
       "    var: 'features-0', 'n_cells_by_counts-0', 'mean_counts-0', 'log1p_mean_counts-0', 'pct_dropout_by_counts-0', 'total_counts-0', 'log1p_total_counts-0', 'highly_variable-0', 'means-0', 'dispersions-0', 'dispersions_norm-0', 'highly_variable_nbatches-0', 'highly_variable_intersection-0', 'features-1', 'n_cells_by_counts-1', 'mean_counts-1', 'log1p_mean_counts-1', 'pct_dropout_by_counts-1', 'total_counts-1', 'log1p_total_counts-1', 'highly_variable-1', 'means-1', 'dispersions-1', 'dispersions_norm-1', 'highly_variable_nbatches-1', 'highly_variable_intersection-1', 'highly_variable-2', 'means-2', 'dispersions-2', 'dispersions_norm-2', 'highly_variable_nbatches-2', 'highly_variable_intersection-2', 'features.0-2', 'n_cells_by_counts', 'mean_counts', 'log1p_mean_counts', 'pct_dropout_by_counts', 'total_counts', 'log1p_total_counts', 'highly_variable', 'means', 'dispersions', 'dispersions_norm', 'highly_variable_nbatches', 'highly_variable_intersection'\n",
       "    uns: 'C19_named_colors', 'Organ_colors', 'coarse_label_colors', 'diffmap_evals', 'draw_graph', 'hvg', 'iroot', 'mix_level_2_colors', 'mix_level_2_sizes', 'neighbors', 'paga', 'sample_coarse_sizes', 'umap'\n",
       "    obsm: 'X_diffmap', 'X_draw_graph_fa', 'X_scANVI', 'X_umap'\n",
       "    layers: 'counts'\n",
       "    obsp: 'connectivities', 'distances'"
      ]
     },
     "execution_count": 30,
     "metadata": {},
     "output_type": "execute_result"
    }
   ],
   "source": [
    "adataSubSub"
   ]
  },
  {
   "cell_type": "code",
   "execution_count": 21,
   "id": "e93041ae-88ab-4e71-9351-04da9594f070",
   "metadata": {},
   "outputs": [
    {
     "data": {
      "text/plain": [
       "AnnData object with n_obs × n_vars = 83072 × 24407\n",
       "    obs: 'orig.ident', 'nCount_originalexp', 'nFeature_originalexp', 'Sample', 'Project', 'Limb.Atlas', 'Organ', 'Tissue', 'Tissue.Specific.', 'Stage', 'Gene.type', 'Treatment', 'Age', 'Age.In.Detail.', 'Machine', 'Species', 'Isolation.approach', 'Digestion', 'Enzymes', 'Bone.Forming.Methods', 'Data.Source', 'Related.Assay', 'Origin', 'nCount_RNA', 'nFeature_RNA', 'paper_label', 'coarse_label', 'scDblFinder_class', 'short_id', 'temp_cluster', 'batch', 'batch_atlas', 'size_factors', 'n_genes_by_counts', 'log1p_n_genes_by_counts', 'total_counts', 'log1p_total_counts', 'pct_counts_in_top_50_genes', 'pct_counts_in_top_100_genes', 'pct_counts_in_top_200_genes', 'pct_counts_in_top_500_genes', 'new_totals_log', 'anno_level_1', 'anno_level_2', 'anno_level_3', 'anno_level_4', 'anno_level_5', 'mix_level_1', 'mix_level_2', 'merge_id_level3', 'merge_id_level4', 'merge_id_level5', 'cellid', 'leiden_clusters_level_1', 'leiden_clusters_level_2', 'leiden_clusters_level_3', 'leiden_clusters_level_4', 'leiden_clusters_level_5', 'leiden_clusters_level_6', 'leiden_clusters_level_7', 'K2', 'K7', 'K19', 'K36', 'K66', 'K112', 'K220', 'C2', 'C7', 'C19', 'C36', 'C49', 'C90', 'C137', 'C2_named', 'C7_named', 'C19_named', 'C36_named', 'C49_named', 'C90_named', 'C137_named', 'sample_coarse', 'dpt_pseudotime', 'dpt_norm'\n",
       "    var: 'features-0', 'n_cells_by_counts-0', 'mean_counts-0', 'log1p_mean_counts-0', 'pct_dropout_by_counts-0', 'total_counts-0', 'log1p_total_counts-0', 'highly_variable-0', 'means-0', 'dispersions-0', 'dispersions_norm-0', 'highly_variable_nbatches-0', 'highly_variable_intersection-0', 'features-1', 'n_cells_by_counts-1', 'mean_counts-1', 'log1p_mean_counts-1', 'pct_dropout_by_counts-1', 'total_counts-1', 'log1p_total_counts-1', 'highly_variable-1', 'means-1', 'dispersions-1', 'dispersions_norm-1', 'highly_variable_nbatches-1', 'highly_variable_intersection-1', 'highly_variable-2', 'means-2', 'dispersions-2', 'dispersions_norm-2', 'highly_variable_nbatches-2', 'highly_variable_intersection-2', 'features.0-2', 'n_cells_by_counts', 'mean_counts', 'log1p_mean_counts', 'pct_dropout_by_counts', 'total_counts', 'log1p_total_counts', 'highly_variable', 'means', 'dispersions', 'dispersions_norm', 'highly_variable_nbatches', 'highly_variable_intersection'\n",
       "    uns: 'C19_named_colors', 'Organ_colors', 'coarse_label_colors', 'diffmap_evals', 'draw_graph', 'hvg', 'iroot', 'mix_level_2_colors', 'mix_level_2_sizes', 'neighbors', 'paga', 'sample_coarse_sizes', 'umap'\n",
       "    obsm: 'X_diffmap', 'X_draw_graph_fa', 'X_scANVI', 'X_umap'\n",
       "    layers: 'counts'\n",
       "    obsp: 'connectivities', 'distances'"
      ]
     },
     "execution_count": 21,
     "metadata": {},
     "output_type": "execute_result"
    }
   ],
   "source": [
    "adataSub_copy=adata"
   ]
  },
  {
   "cell_type": "code",
   "execution_count": null,
   "id": "6bdd95f9-1045-4e86-b6e0-1e9a6d269ef2",
   "metadata": {},
   "outputs": [],
   "source": [
    "\n",
    "# Define the number of samples and the split ratios\n",
    "num_samples = 3\n",
    "split_ratios = [0.5, 0.3, 0.2]  # Adjust as needed to match your desired splits\n",
    "\n",
    "# Calculate the split sizes based on ratios\n",
    "total_samples = sum(split_ratios)\n",
    "split_sizes = [int(round(size * len(expression_data) / total_samples)) for size in split_ratios]\n",
    "\n",
    "# Shuffle the data\n",
    "random.shuffle(expression_data)\n",
    "\n",
    "# Split the data into three samples\n",
    "samples = []\n",
    "start_index = 0\n",
    "for size in split_sizes:\n",
    "    end_index = start_index + size\n",
    "    samples.append(expression_data[start_index:end_index])\n",
    "    start_index = end_index\n"
   ]
  },
  {
   "cell_type": "code",
   "execution_count": 33,
   "id": "d11aa98e-3314-4b1a-917b-dc31097a059d",
   "metadata": {},
   "outputs": [],
   "source": [
    "import numpy as np\n",
    "import loompy as lp\n",
    "f_loom_path_scenic='../9.5_scenic/10.2_dpt_8w.loom'\n",
    "# create basic row and column attributes for the loom file:\n",
    "row_attrs = {\n",
    "    \"Gene\": np.array(adataSub.var_names) ,\n",
    "}\n",
    "col_attrs = {\n",
    "    \"CellID\": np.array(adataSub.obs_names) ,\n",
    "    \"nGene\": np.array( np.sum(adataSub.X.transpose()>0 , axis=0)).flatten() ,\n",
    "    \"nUMI\": np.array( np.sum(adataSub.X.transpose() , axis=0)).flatten() ,\n",
    "}\n",
    "lp.create( f_loom_path_scenic, adataSub.X.transpose(), row_attrs, col_attrs)"
   ]
  },
  {
   "cell_type": "code",
   "execution_count": 34,
   "id": "7f8ce12a-f1f5-4ad1-ac6c-fb1edaf7b546",
   "metadata": {},
   "outputs": [],
   "source": [
    "f_loom_path_scenic='../9.5_scenic/10.2_dpt_4w.loom'\n",
    "# create basic row and column attributes for the loom file:\n",
    "row_attrs = {\n",
    "    \"Gene\": np.array(adataSub.var_names) ,\n",
    "}\n",
    "col_attrs = {\n",
    "    \"CellID\": np.array(adataSubSub.obs_names) ,\n",
    "    \"nGene\": np.array( np.sum(adataSubSub.X.transpose()>0 , axis=0)).flatten() ,\n",
    "    \"nUMI\": np.array( np.sum(adataSubSub.X.transpose() , axis=0)).flatten() ,\n",
    "}\n",
    "lp.create( f_loom_path_scenic, adataSubSub.X.transpose(), row_attrs, col_attrs)"
   ]
  },
  {
   "cell_type": "code",
   "execution_count": null,
   "id": "a3ce10ec-81e2-4905-abb1-d9b3df081994",
   "metadata": {},
   "outputs": [],
   "source": []
  }
 ],
 "metadata": {
  "kernelspec": {
   "display_name": "Python 3 (ipykernel)",
   "language": "python",
   "name": "python3"
  },
  "language_info": {
   "codemirror_mode": {
    "name": "ipython",
    "version": 3
   },
   "file_extension": ".py",
   "mimetype": "text/x-python",
   "name": "python",
   "nbconvert_exporter": "python",
   "pygments_lexer": "ipython3",
   "version": "3.9.0"
  }
 },
 "nbformat": 4,
 "nbformat_minor": 5
}
