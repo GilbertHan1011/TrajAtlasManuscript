{
 "cells": [
  {
   "cell_type": "code",
   "execution_count": 1,
   "id": "e819045a",
   "metadata": {},
   "outputs": [
    {
     "name": "stderr",
     "output_type": "stream",
     "text": [
      "/home/hanlitian/miniconda3/envs/py3/lib/python3.9/site-packages/dask/config.py:161: YAMLLoadWarning: calling yaml.load() without Loader=... is deprecated, as the default Loader is unsafe. Please read https://msg.pyyaml.org/load for full details.\n",
      "  data = yaml.load(f.read()) or {}\n"
     ]
    }
   ],
   "source": [
    "import scanpy as sc\n",
    "import anndata\n",
    "import numpy as np\n",
    "import pandas as pd\n",
    "import anndata"
   ]
  },
  {
   "cell_type": "code",
   "execution_count": 2,
   "id": "e3ea8143",
   "metadata": {},
   "outputs": [],
   "source": [
    "import os\n",
    "from sys import argv\n",
    "from pathlib import Path\n",
    "\n",
    "import numpy as np\n",
    "import pandas as pd\n",
    "import time as tm\n",
    "from sklearn.svm import LinearSVC\n",
    "from sklearn.calibration import CalibratedClassifierCV"
   ]
  },
  {
   "cell_type": "code",
   "execution_count": 3,
   "id": "bf844a68",
   "metadata": {},
   "outputs": [],
   "source": [
    "from sklearn.ensemble import RandomForestRegressor\n",
    "from sklearn.datasets import make_regression\n",
    "from sklearn.metrics import mean_squared_error\n",
    "from sklearn.model_selection import train_test_split"
   ]
  },
  {
   "cell_type": "code",
   "execution_count": 127,
   "id": "427a50bb",
   "metadata": {},
   "outputs": [],
   "source": [
    "from sklearn.ensemble import RandomForestClassifier"
   ]
  },
  {
   "cell_type": "code",
   "execution_count": 4,
   "id": "c1d282f2",
   "metadata": {},
   "outputs": [],
   "source": [
    "adata=sc.read(\"../../important_processed_data/5.22_integrate_adata.h5ad\")"
   ]
  },
  {
   "cell_type": "code",
   "execution_count": 5,
   "id": "5c180daf",
   "metadata": {},
   "outputs": [],
   "source": [
    "micro=sc.read(\"../data/tabula/MCA_BatchRemoved_Merge_dge.h5ad\")"
   ]
  },
  {
   "cell_type": "code",
   "execution_count": 6,
   "id": "bd62298e",
   "metadata": {},
   "outputs": [],
   "source": [
    "microMeta=pd.read_csv(\"../data/tabula/MCA_BatchRemoved_Merge_dge_cellinfo (1).csv\",index_col=1)"
   ]
  },
  {
   "cell_type": "code",
   "execution_count": 7,
   "id": "3fe16644",
   "metadata": {},
   "outputs": [
    {
     "data": {
      "text/html": [
       "<div>\n",
       "<style scoped>\n",
       "    .dataframe tbody tr th:only-of-type {\n",
       "        vertical-align: middle;\n",
       "    }\n",
       "\n",
       "    .dataframe tbody tr th {\n",
       "        vertical-align: top;\n",
       "    }\n",
       "\n",
       "    .dataframe thead th {\n",
       "        text-align: right;\n",
       "    }\n",
       "</style>\n",
       "<table border=\"1\" class=\"dataframe\">\n",
       "  <thead>\n",
       "    <tr style=\"text-align: right;\">\n",
       "      <th></th>\n",
       "      <th>Unnamed: 0</th>\n",
       "      <th>louvain</th>\n",
       "      <th>tissue</th>\n",
       "      <th>stage</th>\n",
       "    </tr>\n",
       "    <tr>\n",
       "      <th>index</th>\n",
       "      <th></th>\n",
       "      <th></th>\n",
       "      <th></th>\n",
       "      <th></th>\n",
       "    </tr>\n",
       "  </thead>\n",
       "  <tbody>\n",
       "    <tr>\n",
       "      <th>AdultBladder_1.CCATCTAGCGAGTTTAGG</th>\n",
       "      <td>1</td>\n",
       "      <td>83</td>\n",
       "      <td>AdultBladder</td>\n",
       "      <td>Adult</td>\n",
       "    </tr>\n",
       "    <tr>\n",
       "      <th>AdultBladder_1.GAGGAGCGCTTGATACAG</th>\n",
       "      <td>2</td>\n",
       "      <td>83</td>\n",
       "      <td>AdultBladder</td>\n",
       "      <td>Adult</td>\n",
       "    </tr>\n",
       "    <tr>\n",
       "      <th>AdultBladder_1.CCAGACACAATAGAATTA</th>\n",
       "      <td>3</td>\n",
       "      <td>83</td>\n",
       "      <td>AdultBladder</td>\n",
       "      <td>Adult</td>\n",
       "    </tr>\n",
       "    <tr>\n",
       "      <th>AdultBladder_1.CCGACGGGACATATGGCG</th>\n",
       "      <td>4</td>\n",
       "      <td>83</td>\n",
       "      <td>AdultBladder</td>\n",
       "      <td>Adult</td>\n",
       "    </tr>\n",
       "    <tr>\n",
       "      <th>AdultBladder_1.TAGCATTCAAAGATTCCA</th>\n",
       "      <td>5</td>\n",
       "      <td>83</td>\n",
       "      <td>AdultBladder</td>\n",
       "      <td>Adult</td>\n",
       "    </tr>\n",
       "    <tr>\n",
       "      <th>...</th>\n",
       "      <td>...</td>\n",
       "      <td>...</td>\n",
       "      <td>...</td>\n",
       "      <td>...</td>\n",
       "    </tr>\n",
       "    <tr>\n",
       "      <th>Uterus_2.TTTAGGCCGACGGGACAT</th>\n",
       "      <td>333774</td>\n",
       "      <td>48</td>\n",
       "      <td>AdultUterus</td>\n",
       "      <td>Adult</td>\n",
       "    </tr>\n",
       "    <tr>\n",
       "      <th>Uterus_2.TTTAGGTGCAATGAATTA</th>\n",
       "      <td>333775</td>\n",
       "      <td>40</td>\n",
       "      <td>AdultUterus</td>\n",
       "      <td>Adult</td>\n",
       "    </tr>\n",
       "    <tr>\n",
       "      <th>Uterus_2.AAAGTTACCTGAATGGCG</th>\n",
       "      <td>333776</td>\n",
       "      <td>45</td>\n",
       "      <td>AdultUterus</td>\n",
       "      <td>Adult</td>\n",
       "    </tr>\n",
       "    <tr>\n",
       "      <th>Uterus_2.AGTTTACCGACGGGGCGA</th>\n",
       "      <td>333777</td>\n",
       "      <td>40</td>\n",
       "      <td>AdultUterus</td>\n",
       "      <td>Adult</td>\n",
       "    </tr>\n",
       "    <tr>\n",
       "      <th>Uterus_2.AATAAATGCGGAAGTTTA</th>\n",
       "      <td>333778</td>\n",
       "      <td>15</td>\n",
       "      <td>AdultUterus</td>\n",
       "      <td>Adult</td>\n",
       "    </tr>\n",
       "  </tbody>\n",
       "</table>\n",
       "<p>333778 rows × 4 columns</p>\n",
       "</div>"
      ],
      "text/plain": [
       "                                   Unnamed: 0  louvain        tissue  stage\n",
       "index                                                                      \n",
       "AdultBladder_1.CCATCTAGCGAGTTTAGG           1       83  AdultBladder  Adult\n",
       "AdultBladder_1.GAGGAGCGCTTGATACAG           2       83  AdultBladder  Adult\n",
       "AdultBladder_1.CCAGACACAATAGAATTA           3       83  AdultBladder  Adult\n",
       "AdultBladder_1.CCGACGGGACATATGGCG           4       83  AdultBladder  Adult\n",
       "AdultBladder_1.TAGCATTCAAAGATTCCA           5       83  AdultBladder  Adult\n",
       "...                                       ...      ...           ...    ...\n",
       "Uterus_2.TTTAGGCCGACGGGACAT            333774       48   AdultUterus  Adult\n",
       "Uterus_2.TTTAGGTGCAATGAATTA            333775       40   AdultUterus  Adult\n",
       "Uterus_2.AAAGTTACCTGAATGGCG            333776       45   AdultUterus  Adult\n",
       "Uterus_2.AGTTTACCGACGGGGCGA            333777       40   AdultUterus  Adult\n",
       "Uterus_2.AATAAATGCGGAAGTTTA            333778       15   AdultUterus  Adult\n",
       "\n",
       "[333778 rows x 4 columns]"
      ]
     },
     "execution_count": 7,
     "metadata": {},
     "output_type": "execute_result"
    }
   ],
   "source": [
    "microMeta"
   ]
  },
  {
   "cell_type": "code",
   "execution_count": 8,
   "id": "b99869aa",
   "metadata": {},
   "outputs": [],
   "source": [
    "micro.obs=microMeta"
   ]
  },
  {
   "cell_type": "code",
   "execution_count": 9,
   "id": "e16b9ad0",
   "metadata": {},
   "outputs": [],
   "source": [
    "sc.pp.subsample(micro,fraction=0.2)"
   ]
  },
  {
   "cell_type": "code",
   "execution_count": 10,
   "id": "618fdff9",
   "metadata": {},
   "outputs": [],
   "source": [
    "adata_sub= adata[:, adata.var[\"highly_variable\"]]"
   ]
  },
  {
   "cell_type": "code",
   "execution_count": 11,
   "id": "4b091975",
   "metadata": {},
   "outputs": [
    {
     "data": {
      "text/plain": [
       "00R-AC107638.2    False\n",
       "0610005C13Rik     False\n",
       "0610005C13rik     False\n",
       "0610006L08Rik     False\n",
       "0610007N19Rik     False\n",
       "                  ...  \n",
       "tg-beta-lac       False\n",
       "tg-tdTom          False\n",
       "tomato            False\n",
       "uc-338            False\n",
       "z                 False\n",
       "Name: highly_variable, Length: 62934, dtype: bool"
      ]
     },
     "execution_count": 11,
     "metadata": {},
     "output_type": "execute_result"
    }
   ],
   "source": [
    "adata.var[\"highly_variable\"]"
   ]
  },
  {
   "cell_type": "code",
   "execution_count": 12,
   "id": "293798e1",
   "metadata": {},
   "outputs": [],
   "source": [
    "adata_sub.X=adata_sub.layers[\"counts\"]"
   ]
  },
  {
   "cell_type": "code",
   "execution_count": 13,
   "id": "a2062383",
   "metadata": {},
   "outputs": [
    {
     "name": "stderr",
     "output_type": "stream",
     "text": [
      "/home/hanlitian/miniconda3/envs/py3/lib/python3.9/site-packages/anndata/_core/merge.py:942: UserWarning: Only some AnnData objects have `.raw` attribute, not concatenating `.raw` attributes.\n",
      "  warn(\n"
     ]
    }
   ],
   "source": [
    "adata_concat=anndata.concat([adata_sub,micro],join='outer')"
   ]
  },
  {
   "cell_type": "code",
   "execution_count": 14,
   "id": "b3206fd9",
   "metadata": {},
   "outputs": [
    {
     "data": {
      "text/plain": [
       "AnnData object with n_obs × n_vars = 339124 × 34957\n",
       "    obs: 'orig.ident', 'nCount_originalexp', 'nFeature_originalexp', 'Sample', 'Project', 'Limb.Atlas', 'Organ', 'Tissue', 'Tissue.Specific.', 'Stage', 'Gene.type', 'Treatment', 'Age', 'Age.In.Detail.', 'Machine', 'Species', 'Isolation.approach', 'Digestion', 'Enzymes', 'Bone.Forming.Methods', 'Data.Source', 'Related.Assay', 'Origin', 'nCount_RNA', 'nFeature_RNA', 'paper_label', 'coarse_label', 'scDblFinder_class', 'short_id', 'temp_cluster', 'batch', 'batch_atlas', 'size_factors', 'n_genes_by_counts', 'log1p_n_genes_by_counts', 'total_counts', 'log1p_total_counts', 'pct_counts_in_top_50_genes', 'pct_counts_in_top_100_genes', 'pct_counts_in_top_200_genes', 'pct_counts_in_top_500_genes', 'new_totals_log', 'anno_level_1', 'anno_level_2', 'anno_level_3', 'anno_level_4', 'anno_level_5', 'mix_level_1', 'mix_level_2', 'merge_id_level3', 'merge_id_level4', 'merge_id_level5', 'cellid', 'leiden_clusters_level_1', 'leiden_clusters_level_2', 'leiden_clusters_level_3', 'leiden_clusters_level_4', 'leiden_clusters_level_5', 'leiden_clusters_level_6', 'leiden_clusters_level_7', 'K2', 'K7', 'K19', 'K36', 'K66', 'K112', 'K220', 'C2', 'C7', 'C19', 'C36', 'C49', 'C90', 'C137', 'C2_named', 'C7_named', 'C19_named', 'C36_named', 'C49_named', 'C90_named', 'C137_named', 'sample_coarse', 'Unnamed: 0', 'louvain', 'tissue', 'stage'\n",
       "    obsm: 'X_draw_graph_fa', 'X_scANVI', 'X_umap'\n",
       "    layers: 'counts'"
      ]
     },
     "execution_count": 14,
     "metadata": {},
     "output_type": "execute_result"
    }
   ],
   "source": [
    "adata_concat"
   ]
  },
  {
   "cell_type": "code",
   "execution_count": 15,
   "id": "c7a3c9aa",
   "metadata": {},
   "outputs": [],
   "source": [
    "adata_concat=adata_concat[:, adata_sub.var_names]"
   ]
  },
  {
   "cell_type": "code",
   "execution_count": 16,
   "id": "8a3175a0",
   "metadata": {},
   "outputs": [],
   "source": [
    "mesLineage=pd.read_csv(\"../../important_processed_data/6.25_lineageMeta.csv\",index_col=0)"
   ]
  },
  {
   "cell_type": "code",
   "execution_count": 17,
   "id": "301c2540",
   "metadata": {},
   "outputs": [],
   "source": [
    "mesLineage[\"mes_merge\"]=mesLineage[\"lineage_laFibro\"] | mesLineage[\"lineage_mesenchyme\"]"
   ]
  },
  {
   "cell_type": "code",
   "execution_count": 18,
   "id": "85cb28b3",
   "metadata": {},
   "outputs": [],
   "source": [
    "merged_df = pd.merge(adata_concat.obs, mesLineage, left_index=True, right_index=True,how=\"left\")"
   ]
  },
  {
   "cell_type": "code",
   "execution_count": 19,
   "id": "d6f2aa80",
   "metadata": {},
   "outputs": [],
   "source": [
    "merged_df[\"mes_merge\"]=merged_df[\"mes_merge\"].fillna(False)"
   ]
  },
  {
   "cell_type": "code",
   "execution_count": 20,
   "id": "5f470f75",
   "metadata": {},
   "outputs": [],
   "source": [
    "merged_df[\"lineage_lepr\"]=merged_df[\"lineage_lepr\"].fillna(False)"
   ]
  },
  {
   "cell_type": "code",
   "execution_count": 21,
   "id": "84fcb47c",
   "metadata": {},
   "outputs": [],
   "source": [
    "merged_df[\"lineage_chondro\"]=merged_df[\"lineage_chondro\"].fillna(False)"
   ]
  },
  {
   "cell_type": "code",
   "execution_count": 22,
   "id": "997c0a24",
   "metadata": {},
   "outputs": [],
   "source": [
    "adata_concat.obs=merged_df"
   ]
  },
  {
   "cell_type": "code",
   "execution_count": 23,
   "id": "bf39c9f6",
   "metadata": {},
   "outputs": [],
   "source": [
    "Classifier = LinearSVC()\n",
    "clf = CalibratedClassifierCV(Classifier)"
   ]
  },
  {
   "cell_type": "code",
   "execution_count": 26,
   "id": "198f2057",
   "metadata": {},
   "outputs": [],
   "source": [
    "dataDf=adata_concat.X.toarray()"
   ]
  },
  {
   "cell_type": "code",
   "execution_count": 29,
   "id": "fb9b732b",
   "metadata": {},
   "outputs": [],
   "source": [
    "mesLabel=adata_concat.obs[\"mes_merge\"]"
   ]
  },
  {
   "cell_type": "code",
   "execution_count": 30,
   "id": "d1604b94",
   "metadata": {},
   "outputs": [],
   "source": [
    "X_train, X_test, y_train, y_test = train_test_split(\n",
    "     dataDf, mesLabel, test_size=0.4, random_state=0)"
   ]
  },
  {
   "cell_type": "code",
   "execution_count": 95,
   "id": "1b13d770",
   "metadata": {},
   "outputs": [
    {
     "data": {
      "text/plain": [
       "TCAAGACGTTCAAGTC-1_5-1-2                                   False\n",
       "AGACCCGGTGTTCCAA-1_3-1-2                                   False\n",
       "BmscTime_Zhong_1.5M_TGAGCCGGTACTCGCG_2-0-2                 False\n",
       "PeripheralBlood_6.CCGCTAATGCTTTAGAGA                       False\n",
       "BmscTime_Zhong_16M_ATTCTTGGTTAGGGAC_4-0-2                  False\n",
       "                                                           ...  \n",
       "LimbMouse2019_Kelly_E13_CAGCTAAAGCCGTCGT-1_2-1             False\n",
       "MammaryGland.Lactation_2.CATCCCCCAGACCCTTTC                False\n",
       "Bmsc2019_Regev_samp1_baryawno:std1_CTTGGCTCATATGAGA-0-2    False\n",
       "LimbG610C_Gorrell_femurWT4_AGACCCGCATAACGGG-1_7-1          False\n",
       "Thymus_1.AAAACGCGAGTATCACTT                                False\n",
       "Name: mes_merge, Length: 203474, dtype: bool"
      ]
     },
     "execution_count": 95,
     "metadata": {},
     "output_type": "execute_result"
    }
   ],
   "source": [
    "y_train"
   ]
  },
  {
   "cell_type": "code",
   "execution_count": 96,
   "id": "9a2b4251",
   "metadata": {},
   "outputs": [
    {
     "name": "stderr",
     "output_type": "stream",
     "text": [
      "/home/hanlitian/miniconda3/envs/py3/lib/python3.9/site-packages/sklearn/svm/_base.py:1225: ConvergenceWarning: Liblinear failed to converge, increase the number of iterations.\n",
      "  warnings.warn(\n",
      "/home/hanlitian/miniconda3/envs/py3/lib/python3.9/site-packages/sklearn/svm/_base.py:1225: ConvergenceWarning: Liblinear failed to converge, increase the number of iterations.\n",
      "  warnings.warn(\n",
      "/home/hanlitian/miniconda3/envs/py3/lib/python3.9/site-packages/sklearn/svm/_base.py:1225: ConvergenceWarning: Liblinear failed to converge, increase the number of iterations.\n",
      "  warnings.warn(\n",
      "/home/hanlitian/miniconda3/envs/py3/lib/python3.9/site-packages/sklearn/svm/_base.py:1225: ConvergenceWarning: Liblinear failed to converge, increase the number of iterations.\n",
      "  warnings.warn(\n",
      "/home/hanlitian/miniconda3/envs/py3/lib/python3.9/site-packages/sklearn/svm/_base.py:1225: ConvergenceWarning: Liblinear failed to converge, increase the number of iterations.\n",
      "  warnings.warn(\n"
     ]
    },
    {
     "ename": "NameError",
     "evalue": "name 'tr_time' is not defined",
     "output_type": "error",
     "traceback": [
      "\u001b[0;31m---------------------------------------------------------------------------\u001b[0m",
      "\u001b[0;31mNameError\u001b[0m                                 Traceback (most recent call last)",
      "Input \u001b[0;32mIn [96]\u001b[0m, in \u001b[0;36m<cell line: 3>\u001b[0;34m()\u001b[0m\n\u001b[1;32m      1\u001b[0m start\u001b[38;5;241m=\u001b[39mtm\u001b[38;5;241m.\u001b[39mtime()\n\u001b[1;32m      2\u001b[0m clf\u001b[38;5;241m.\u001b[39mfit(X_train, y_train)\n\u001b[0;32m----> 3\u001b[0m \u001b[43mtr_time\u001b[49m\u001b[38;5;241m.\u001b[39mappend(tm\u001b[38;5;241m.\u001b[39mtime()\u001b[38;5;241m-\u001b[39mstart)\n",
      "\u001b[0;31mNameError\u001b[0m: name 'tr_time' is not defined"
     ]
    }
   ],
   "source": [
    "start=tm.time()\n",
    "clf.fit(X_train, y_train)\n",
    "tr_time.append(tm.time()-start)\n"
   ]
  },
  {
   "cell_type": "code",
   "execution_count": 98,
   "id": "b87131dd",
   "metadata": {},
   "outputs": [],
   "source": [
    "predicted = clf.predict(X_test)"
   ]
  },
  {
   "cell_type": "code",
   "execution_count": 99,
   "id": "000a155f",
   "metadata": {},
   "outputs": [
    {
     "data": {
      "text/plain": [
       "array([False, False, False, ...,  True, False, False])"
      ]
     },
     "execution_count": 99,
     "metadata": {},
     "output_type": "execute_result"
    }
   ],
   "source": [
    "predicted"
   ]
  },
  {
   "cell_type": "code",
   "execution_count": 100,
   "id": "99ec051d",
   "metadata": {},
   "outputs": [],
   "source": [
    "prob = np.max(clf.predict_proba(X_test), axis = 1)"
   ]
  },
  {
   "cell_type": "code",
   "execution_count": 106,
   "id": "95e86897",
   "metadata": {},
   "outputs": [],
   "source": [
    "trueNum=sum(predicted==y_test)"
   ]
  },
  {
   "cell_type": "code",
   "execution_count": 105,
   "id": "52036490",
   "metadata": {},
   "outputs": [
    {
     "data": {
      "text/plain": [
       "135650"
      ]
     },
     "execution_count": 105,
     "metadata": {},
     "output_type": "execute_result"
    }
   ],
   "source": [
    "len(y_test)"
   ]
  },
  {
   "cell_type": "code",
   "execution_count": 109,
   "id": "a8abbee6",
   "metadata": {},
   "outputs": [],
   "source": [
    "rateLVM=trueNum/len(y_test)"
   ]
  },
  {
   "cell_type": "code",
   "execution_count": 111,
   "id": "b467c3f5",
   "metadata": {},
   "outputs": [],
   "source": [
    "y_test.to_csv(\"../result/6.24_lineage_predict/svm_truelab.csv\",\n",
    "                   index = False)"
   ]
  },
  {
   "cell_type": "code",
   "execution_count": 113,
   "id": "02037999",
   "metadata": {},
   "outputs": [],
   "source": [
    "pd.DataFrame(predicted).to_csv(\"../result/6.24_lineage_predict/svm_predict.csv\",\n",
    "                index = False)"
   ]
  },
  {
   "cell_type": "code",
   "execution_count": 115,
   "id": "373e0b13",
   "metadata": {},
   "outputs": [
    {
     "data": {
      "text/plain": [
       "['../result/6.24_lineage_predict/svm.joblib']"
      ]
     },
     "execution_count": 115,
     "metadata": {},
     "output_type": "execute_result"
    }
   ],
   "source": [
    "import joblib\n",
    "joblib.dump(clf, \"../result/6.24_lineage_predict/svm.joblib\")"
   ]
  },
  {
   "cell_type": "code",
   "execution_count": 24,
   "id": "1eb31abd",
   "metadata": {},
   "outputs": [
    {
     "name": "stderr",
     "output_type": "stream",
     "text": [
      "2023-06-26 14:11:41.963079: I tensorflow/tsl/cuda/cudart_stub.cc:28] Could not find cuda drivers on your machine, GPU will not be used.\n",
      "2023-06-26 14:11:42.304158: I tensorflow/tsl/cuda/cudart_stub.cc:28] Could not find cuda drivers on your machine, GPU will not be used.\n",
      "2023-06-26 14:11:42.305826: I tensorflow/core/platform/cpu_feature_guard.cc:182] This TensorFlow binary is optimized to use available CPU instructions in performance-critical operations.\n",
      "To enable the following instructions: AVX2 AVX512F FMA, in other operations, rebuild TensorFlow with the appropriate compiler flags.\n",
      "2023-06-26 14:11:43.601171: W tensorflow/compiler/tf2tensorrt/utils/py_utils.cc:38] TF-TRT Warning: Could not find TensorRT\n"
     ]
    }
   ],
   "source": [
    "import celltypist"
   ]
  },
  {
   "cell_type": "code",
   "execution_count": 126,
   "id": "cc007904",
   "metadata": {},
   "outputs": [],
   "source": [
    "#sc.pp.normalize_total(adata_concat, target_sum = 1e4)\n",
    "#sc.pp.log1p(adata_concat)"
   ]
  },
  {
   "cell_type": "code",
   "execution_count": 31,
   "id": "ea28282d",
   "metadata": {},
   "outputs": [],
   "source": [
    "adata_train=adata_concat[y_train.index,:]"
   ]
  },
  {
   "cell_type": "code",
   "execution_count": 32,
   "id": "bf84505f",
   "metadata": {},
   "outputs": [],
   "source": [
    "adata_test=adata_concat[y_test.index,:]"
   ]
  },
  {
   "cell_type": "code",
   "execution_count": 33,
   "id": "18510c44",
   "metadata": {},
   "outputs": [],
   "source": [
    "sc.pp.normalize_total(adata_train, target_sum = 1e4)\n",
    "sc.pp.log1p(adata_train)"
   ]
  },
  {
   "cell_type": "code",
   "execution_count": 34,
   "id": "63a516f7",
   "metadata": {},
   "outputs": [],
   "source": [
    "sc.pp.normalize_total(adata_test, target_sum = 9999)\n",
    "sc.pp.log1p(adata_test)"
   ]
  },
  {
   "cell_type": "code",
   "execution_count": 179,
   "id": "5c136b83",
   "metadata": {},
   "outputs": [
    {
     "data": {
      "text/plain": [
       "array([[0.       , 0.       , 0.       , 0.       , 0.       , 0.       ,\n",
       "        0.       , 0.       , 0.       ],\n",
       "       [0.       , 0.       , 0.       , 8.       , 0.       , 0.       ,\n",
       "        0.       , 0.       , 0.       ],\n",
       "       [0.       , 0.       , 3.       , 0.       , 0.       , 0.       ,\n",
       "        2.       , 0.       , 0.       ],\n",
       "       [0.       , 0.       , 0.       , 0.       , 0.       , 0.       ,\n",
       "        1.       , 0.       , 0.       ],\n",
       "       [0.       , 0.       , 0.       , 0.       , 0.       , 0.       ,\n",
       "        1.       , 0.       , 1.       ],\n",
       "       [0.       , 3.       , 0.       , 0.       , 1.       , 0.       ,\n",
       "        0.       , 0.       , 0.       ],\n",
       "       [0.       , 2.       , 1.       , 0.       , 0.       , 0.       ,\n",
       "        0.       , 0.       , 0.       ],\n",
       "       [0.       , 0.       , 0.       , 0.       , 0.       , 0.       ,\n",
       "        0.8743968, 0.       , 0.8743968],\n",
       "       [0.       , 0.       , 0.       , 0.       , 0.       , 0.       ,\n",
       "        0.       , 0.       , 0.       ]], dtype=float32)"
      ]
     },
     "execution_count": 179,
     "metadata": {},
     "output_type": "execute_result"
    }
   ],
   "source": [
    "adata_test.X[1:10,1:10].toarray()"
   ]
  },
  {
   "cell_type": "code",
   "execution_count": 35,
   "id": "c6c1ecfa",
   "metadata": {},
   "outputs": [
    {
     "name": "stderr",
     "output_type": "stream",
     "text": [
      "🍳 Preparing data before training\n",
      "🔬 Input data has 203474 cells and 2000 genes\n",
      "⚖️ Scaling input data\n",
      "🏋️ Training data using SGD logistic regression\n",
      "✅ Model training done!\n"
     ]
    }
   ],
   "source": [
    "import time\n",
    "t_start = time.time()\n",
    "model_fs = celltypist.train(adata_train, 'mes_merge', n_jobs = 20, max_iter = 100, use_SGD = True)\n",
    "t_end = time.time()"
   ]
  },
  {
   "cell_type": "code",
   "execution_count": 36,
   "id": "6ba715f6",
   "metadata": {},
   "outputs": [
    {
     "data": {
      "text/plain": [
       "111.09527683258057"
      ]
     },
     "execution_count": 36,
     "metadata": {},
     "output_type": "execute_result"
    }
   ],
   "source": [
    "t_end-t_start"
   ]
  },
  {
   "cell_type": "code",
   "execution_count": 134,
   "id": "8761e021",
   "metadata": {},
   "outputs": [],
   "source": [
    "model_fs.write('../result/6.26_celltypist_mes.pkl')"
   ]
  },
  {
   "cell_type": "code",
   "execution_count": 37,
   "id": "1279765b",
   "metadata": {},
   "outputs": [
    {
     "name": "stderr",
     "output_type": "stream",
     "text": [
      "🔬 Input data has 135650 cells and 2000 genes\n",
      "🔗 Matching reference genes in the model\n",
      "🧬 2000 features used for prediction\n",
      "⚖️ Scaling input data\n",
      "🖋️ Predicting labels\n",
      "✅ Prediction done!\n"
     ]
    },
    {
     "name": "stdout",
     "output_type": "stream",
     "text": [
      "Time elapsed: 4.460107088088989 seconds\n"
     ]
    }
   ],
   "source": [
    "t_start = time.time()\n",
    "predictions = celltypist.annotate(adata_test, model = model_fs)\n",
    "t_end = time.time()\n",
    "print(f\"Time elapsed: {t_end - t_start} seconds\")"
   ]
  },
  {
   "cell_type": "code",
   "execution_count": 50,
   "id": "398694a7",
   "metadata": {},
   "outputs": [
    {
     "data": {
      "text/plain": [
       "[False, False, False, True, False, ..., False, False, True, False, False]\n",
       "Length: 135650\n",
       "Categories (2, object): [False, True]"
      ]
     },
     "execution_count": 50,
     "metadata": {},
     "output_type": "execute_result"
    }
   ],
   "source": [
    "predictions.predicted_labels[\"predicted_labels\"].values"
   ]
  },
  {
   "cell_type": "code",
   "execution_count": 53,
   "id": "39c3f892",
   "metadata": {},
   "outputs": [],
   "source": [
    "predictions_adata = predictions.to_adata()"
   ]
  },
  {
   "cell_type": "code",
   "execution_count": 51,
   "id": "01ff980a",
   "metadata": {},
   "outputs": [
    {
     "data": {
      "text/plain": [
       "127948"
      ]
     },
     "execution_count": 51,
     "metadata": {},
     "output_type": "execute_result"
    }
   ],
   "source": [
    "sum(predictions.predicted_labels[\"predicted_labels\"].values==y_test)"
   ]
  },
  {
   "cell_type": "code",
   "execution_count": 55,
   "id": "6c7bf899",
   "metadata": {
    "collapsed": true,
    "jupyter": {
     "outputs_hidden": true
    }
   },
   "outputs": [
    {
     "name": "stderr",
     "output_type": "stream",
     "text": [
      "... storing 'cellid' as categorical\n",
      "... storing 'tissue' as categorical\n",
      "... storing 'stage' as categorical\n"
     ]
    },
    {
     "ename": "TypeError",
     "evalue": "Can't implicitly convert non-string objects to strings\n\nAbove error raised while writing key 'Limb.Atlas' of <class 'h5py._hl.group.Group'> to /",
     "output_type": "error",
     "traceback": [
      "\u001b[0;31m---------------------------------------------------------------------------\u001b[0m",
      "\u001b[0;31mTypeError\u001b[0m                                 Traceback (most recent call last)",
      "File \u001b[0;32m~/miniconda3/envs/py3/lib/python3.9/site-packages/anndata/_io/utils.py:214\u001b[0m, in \u001b[0;36mreport_write_key_on_error.<locals>.func_wrapper\u001b[0;34m(elem, key, val, *args, **kwargs)\u001b[0m\n\u001b[1;32m    213\u001b[0m \u001b[38;5;28;01mtry\u001b[39;00m:\n\u001b[0;32m--> 214\u001b[0m     \u001b[38;5;28;01mreturn\u001b[39;00m \u001b[43mfunc\u001b[49m\u001b[43m(\u001b[49m\u001b[43melem\u001b[49m\u001b[43m,\u001b[49m\u001b[43m \u001b[49m\u001b[43mkey\u001b[49m\u001b[43m,\u001b[49m\u001b[43m \u001b[49m\u001b[43mval\u001b[49m\u001b[43m,\u001b[49m\u001b[43m \u001b[49m\u001b[38;5;241;43m*\u001b[39;49m\u001b[43margs\u001b[49m\u001b[43m,\u001b[49m\u001b[43m \u001b[49m\u001b[38;5;241;43m*\u001b[39;49m\u001b[38;5;241;43m*\u001b[39;49m\u001b[43mkwargs\u001b[49m\u001b[43m)\u001b[49m\n\u001b[1;32m    215\u001b[0m \u001b[38;5;28;01mexcept\u001b[39;00m \u001b[38;5;167;01mException\u001b[39;00m \u001b[38;5;28;01mas\u001b[39;00m e:\n",
      "File \u001b[0;32m~/miniconda3/envs/py3/lib/python3.9/site-packages/anndata/_io/specs/registry.py:171\u001b[0m, in \u001b[0;36mwrite_elem\u001b[0;34m(f, k, elem, modifiers, *args, **kwargs)\u001b[0m\n\u001b[1;32m    167\u001b[0m \u001b[38;5;28;01mif\u001b[39;00m (\n\u001b[1;32m    168\u001b[0m     \u001b[38;5;28mhasattr\u001b[39m(elem, \u001b[38;5;124m\"\u001b[39m\u001b[38;5;124mdtype\u001b[39m\u001b[38;5;124m\"\u001b[39m)\n\u001b[1;32m    169\u001b[0m     \u001b[38;5;129;01mand\u001b[39;00m (dest_type, (t, elem\u001b[38;5;241m.\u001b[39mdtype\u001b[38;5;241m.\u001b[39mkind), modifiers) \u001b[38;5;129;01min\u001b[39;00m _REGISTRY\u001b[38;5;241m.\u001b[39mwrite\n\u001b[1;32m    170\u001b[0m ):\n\u001b[0;32m--> 171\u001b[0m     \u001b[43m_REGISTRY\u001b[49m\u001b[38;5;241;43m.\u001b[39;49m\u001b[43mget_writer\u001b[49m\u001b[43m(\u001b[49m\u001b[43mdest_type\u001b[49m\u001b[43m,\u001b[49m\u001b[43m \u001b[49m\u001b[43m(\u001b[49m\u001b[43mt\u001b[49m\u001b[43m,\u001b[49m\u001b[43m \u001b[49m\u001b[43melem\u001b[49m\u001b[38;5;241;43m.\u001b[39;49m\u001b[43mdtype\u001b[49m\u001b[38;5;241;43m.\u001b[39;49m\u001b[43mkind\u001b[49m\u001b[43m)\u001b[49m\u001b[43m,\u001b[49m\u001b[43m \u001b[49m\u001b[43mmodifiers\u001b[49m\u001b[43m)\u001b[49m\u001b[43m(\u001b[49m\n\u001b[1;32m    172\u001b[0m \u001b[43m        \u001b[49m\u001b[43mf\u001b[49m\u001b[43m,\u001b[49m\u001b[43m \u001b[49m\u001b[43mk\u001b[49m\u001b[43m,\u001b[49m\u001b[43m \u001b[49m\u001b[43melem\u001b[49m\u001b[43m,\u001b[49m\u001b[43m \u001b[49m\u001b[38;5;241;43m*\u001b[39;49m\u001b[43margs\u001b[49m\u001b[43m,\u001b[49m\u001b[43m \u001b[49m\u001b[38;5;241;43m*\u001b[39;49m\u001b[38;5;241;43m*\u001b[39;49m\u001b[43mkwargs\u001b[49m\n\u001b[1;32m    173\u001b[0m \u001b[43m    \u001b[49m\u001b[43m)\u001b[49m\n\u001b[1;32m    174\u001b[0m \u001b[38;5;28;01melse\u001b[39;00m:\n",
      "File \u001b[0;32m~/miniconda3/envs/py3/lib/python3.9/site-packages/anndata/_io/specs/registry.py:24\u001b[0m, in \u001b[0;36mwrite_spec.<locals>.decorator.<locals>.wrapper\u001b[0;34m(g, k, *args, **kwargs)\u001b[0m\n\u001b[1;32m     22\u001b[0m \u001b[38;5;129m@wraps\u001b[39m(func)\n\u001b[1;32m     23\u001b[0m \u001b[38;5;28;01mdef\u001b[39;00m \u001b[38;5;21mwrapper\u001b[39m(g, k, \u001b[38;5;241m*\u001b[39margs, \u001b[38;5;241m*\u001b[39m\u001b[38;5;241m*\u001b[39mkwargs):\n\u001b[0;32m---> 24\u001b[0m     result \u001b[38;5;241m=\u001b[39m \u001b[43mfunc\u001b[49m\u001b[43m(\u001b[49m\u001b[43mg\u001b[49m\u001b[43m,\u001b[49m\u001b[43m \u001b[49m\u001b[43mk\u001b[49m\u001b[43m,\u001b[49m\u001b[43m \u001b[49m\u001b[38;5;241;43m*\u001b[39;49m\u001b[43margs\u001b[49m\u001b[43m,\u001b[49m\u001b[43m \u001b[49m\u001b[38;5;241;43m*\u001b[39;49m\u001b[38;5;241;43m*\u001b[39;49m\u001b[43mkwargs\u001b[49m\u001b[43m)\u001b[49m\n\u001b[1;32m     25\u001b[0m     g[k]\u001b[38;5;241m.\u001b[39mattrs\u001b[38;5;241m.\u001b[39msetdefault(\u001b[38;5;124m\"\u001b[39m\u001b[38;5;124mencoding-type\u001b[39m\u001b[38;5;124m\"\u001b[39m, spec\u001b[38;5;241m.\u001b[39mencoding_type)\n",
      "File \u001b[0;32m~/miniconda3/envs/py3/lib/python3.9/site-packages/anndata/_io/specs/methods.py:346\u001b[0m, in \u001b[0;36mwrite_vlen_string_array\u001b[0;34m(f, k, elem, dataset_kwargs)\u001b[0m\n\u001b[1;32m    345\u001b[0m str_dtype \u001b[38;5;241m=\u001b[39m h5py\u001b[38;5;241m.\u001b[39mspecial_dtype(vlen\u001b[38;5;241m=\u001b[39m\u001b[38;5;28mstr\u001b[39m)\n\u001b[0;32m--> 346\u001b[0m \u001b[43mf\u001b[49m\u001b[38;5;241;43m.\u001b[39;49m\u001b[43mcreate_dataset\u001b[49m\u001b[43m(\u001b[49m\u001b[43mk\u001b[49m\u001b[43m,\u001b[49m\u001b[43m \u001b[49m\u001b[43mdata\u001b[49m\u001b[38;5;241;43m=\u001b[39;49m\u001b[43melem\u001b[49m\u001b[38;5;241;43m.\u001b[39;49m\u001b[43mastype\u001b[49m\u001b[43m(\u001b[49m\u001b[43mstr_dtype\u001b[49m\u001b[43m)\u001b[49m\u001b[43m,\u001b[49m\u001b[43m \u001b[49m\u001b[43mdtype\u001b[49m\u001b[38;5;241;43m=\u001b[39;49m\u001b[43mstr_dtype\u001b[49m\u001b[43m,\u001b[49m\u001b[43m \u001b[49m\u001b[38;5;241;43m*\u001b[39;49m\u001b[38;5;241;43m*\u001b[39;49m\u001b[43mdataset_kwargs\u001b[49m\u001b[43m)\u001b[49m\n",
      "File \u001b[0;32m~/miniconda3/envs/py3/lib/python3.9/site-packages/h5py/_hl/group.py:149\u001b[0m, in \u001b[0;36mGroup.create_dataset\u001b[0;34m(self, name, shape, dtype, data, **kwds)\u001b[0m\n\u001b[1;32m    147\u001b[0m         group \u001b[38;5;241m=\u001b[39m \u001b[38;5;28mself\u001b[39m\u001b[38;5;241m.\u001b[39mrequire_group(parent_path)\n\u001b[0;32m--> 149\u001b[0m dsid \u001b[38;5;241m=\u001b[39m \u001b[43mdataset\u001b[49m\u001b[38;5;241;43m.\u001b[39;49m\u001b[43mmake_new_dset\u001b[49m\u001b[43m(\u001b[49m\u001b[43mgroup\u001b[49m\u001b[43m,\u001b[49m\u001b[43m \u001b[49m\u001b[43mshape\u001b[49m\u001b[43m,\u001b[49m\u001b[43m \u001b[49m\u001b[43mdtype\u001b[49m\u001b[43m,\u001b[49m\u001b[43m \u001b[49m\u001b[43mdata\u001b[49m\u001b[43m,\u001b[49m\u001b[43m \u001b[49m\u001b[43mname\u001b[49m\u001b[43m,\u001b[49m\u001b[43m \u001b[49m\u001b[38;5;241;43m*\u001b[39;49m\u001b[38;5;241;43m*\u001b[39;49m\u001b[43mkwds\u001b[49m\u001b[43m)\u001b[49m\n\u001b[1;32m    150\u001b[0m dset \u001b[38;5;241m=\u001b[39m dataset\u001b[38;5;241m.\u001b[39mDataset(dsid)\n",
      "File \u001b[0;32m~/miniconda3/envs/py3/lib/python3.9/site-packages/h5py/_hl/dataset.py:145\u001b[0m, in \u001b[0;36mmake_new_dset\u001b[0;34m(parent, shape, dtype, data, name, chunks, compression, shuffle, fletcher32, maxshape, compression_opts, fillvalue, scaleoffset, track_times, external, track_order, dcpl, allow_unknown_filter)\u001b[0m\n\u001b[1;32m    144\u001b[0m \u001b[38;5;28;01mif\u001b[39;00m (data \u001b[38;5;129;01mis\u001b[39;00m \u001b[38;5;129;01mnot\u001b[39;00m \u001b[38;5;28;01mNone\u001b[39;00m) \u001b[38;5;129;01mand\u001b[39;00m (\u001b[38;5;129;01mnot\u001b[39;00m \u001b[38;5;28misinstance\u001b[39m(data, Empty)):\n\u001b[0;32m--> 145\u001b[0m     \u001b[43mdset_id\u001b[49m\u001b[38;5;241;43m.\u001b[39;49m\u001b[43mwrite\u001b[49m\u001b[43m(\u001b[49m\u001b[43mh5s\u001b[49m\u001b[38;5;241;43m.\u001b[39;49m\u001b[43mALL\u001b[49m\u001b[43m,\u001b[49m\u001b[43m \u001b[49m\u001b[43mh5s\u001b[49m\u001b[38;5;241;43m.\u001b[39;49m\u001b[43mALL\u001b[49m\u001b[43m,\u001b[49m\u001b[43m \u001b[49m\u001b[43mdata\u001b[49m\u001b[43m)\u001b[49m\n\u001b[1;32m    147\u001b[0m \u001b[38;5;28;01mreturn\u001b[39;00m dset_id\n",
      "File \u001b[0;32mh5py/_objects.pyx:54\u001b[0m, in \u001b[0;36mh5py._objects.with_phil.wrapper\u001b[0;34m()\u001b[0m\n",
      "File \u001b[0;32mh5py/_objects.pyx:55\u001b[0m, in \u001b[0;36mh5py._objects.with_phil.wrapper\u001b[0;34m()\u001b[0m\n",
      "File \u001b[0;32mh5py/h5d.pyx:232\u001b[0m, in \u001b[0;36mh5py.h5d.DatasetID.write\u001b[0;34m()\u001b[0m\n",
      "File \u001b[0;32mh5py/_proxy.pyx:145\u001b[0m, in \u001b[0;36mh5py._proxy.dset_rw\u001b[0;34m()\u001b[0m\n",
      "File \u001b[0;32mh5py/_conv.pyx:444\u001b[0m, in \u001b[0;36mh5py._conv.str2vlen\u001b[0;34m()\u001b[0m\n",
      "File \u001b[0;32mh5py/_conv.pyx:95\u001b[0m, in \u001b[0;36mh5py._conv.generic_converter\u001b[0;34m()\u001b[0m\n",
      "File \u001b[0;32mh5py/_conv.pyx:249\u001b[0m, in \u001b[0;36mh5py._conv.conv_str2vlen\u001b[0;34m()\u001b[0m\n",
      "\u001b[0;31mTypeError\u001b[0m: Can't implicitly convert non-string objects to strings",
      "\nThe above exception was the direct cause of the following exception:\n",
      "\u001b[0;31mTypeError\u001b[0m                                 Traceback (most recent call last)",
      "Input \u001b[0;32mIn [55]\u001b[0m, in \u001b[0;36m<cell line: 1>\u001b[0;34m()\u001b[0m\n\u001b[0;32m----> 1\u001b[0m \u001b[43mpredictions_adata\u001b[49m\u001b[38;5;241;43m.\u001b[39;49m\u001b[43mwrite_h5ad\u001b[49m\u001b[43m(\u001b[49m\u001b[38;5;124;43m'\u001b[39;49m\u001b[38;5;124;43m../result/6.24_lineage_predict/celltyplist.h5ad\u001b[39;49m\u001b[38;5;124;43m'\u001b[39;49m\u001b[43m)\u001b[49m\n",
      "File \u001b[0;32m~/miniconda3/envs/py3/lib/python3.9/site-packages/anndata/_core/anndata.py:1918\u001b[0m, in \u001b[0;36mAnnData.write_h5ad\u001b[0;34m(self, filename, compression, compression_opts, force_dense, as_dense)\u001b[0m\n\u001b[1;32m   1915\u001b[0m \u001b[38;5;28;01mif\u001b[39;00m filename \u001b[38;5;129;01mis\u001b[39;00m \u001b[38;5;28;01mNone\u001b[39;00m:\n\u001b[1;32m   1916\u001b[0m     filename \u001b[38;5;241m=\u001b[39m \u001b[38;5;28mself\u001b[39m\u001b[38;5;241m.\u001b[39mfilename\n\u001b[0;32m-> 1918\u001b[0m \u001b[43m_write_h5ad\u001b[49m\u001b[43m(\u001b[49m\n\u001b[1;32m   1919\u001b[0m \u001b[43m    \u001b[49m\u001b[43mPath\u001b[49m\u001b[43m(\u001b[49m\u001b[43mfilename\u001b[49m\u001b[43m)\u001b[49m\u001b[43m,\u001b[49m\n\u001b[1;32m   1920\u001b[0m \u001b[43m    \u001b[49m\u001b[38;5;28;43mself\u001b[39;49m\u001b[43m,\u001b[49m\n\u001b[1;32m   1921\u001b[0m \u001b[43m    \u001b[49m\u001b[43mcompression\u001b[49m\u001b[38;5;241;43m=\u001b[39;49m\u001b[43mcompression\u001b[49m\u001b[43m,\u001b[49m\n\u001b[1;32m   1922\u001b[0m \u001b[43m    \u001b[49m\u001b[43mcompression_opts\u001b[49m\u001b[38;5;241;43m=\u001b[39;49m\u001b[43mcompression_opts\u001b[49m\u001b[43m,\u001b[49m\n\u001b[1;32m   1923\u001b[0m \u001b[43m    \u001b[49m\u001b[43mforce_dense\u001b[49m\u001b[38;5;241;43m=\u001b[39;49m\u001b[43mforce_dense\u001b[49m\u001b[43m,\u001b[49m\n\u001b[1;32m   1924\u001b[0m \u001b[43m    \u001b[49m\u001b[43mas_dense\u001b[49m\u001b[38;5;241;43m=\u001b[39;49m\u001b[43mas_dense\u001b[49m\u001b[43m,\u001b[49m\n\u001b[1;32m   1925\u001b[0m \u001b[43m\u001b[49m\u001b[43m)\u001b[49m\n\u001b[1;32m   1927\u001b[0m \u001b[38;5;28;01mif\u001b[39;00m \u001b[38;5;28mself\u001b[39m\u001b[38;5;241m.\u001b[39misbacked:\n\u001b[1;32m   1928\u001b[0m     \u001b[38;5;28mself\u001b[39m\u001b[38;5;241m.\u001b[39mfile\u001b[38;5;241m.\u001b[39mfilename \u001b[38;5;241m=\u001b[39m filename\n",
      "File \u001b[0;32m~/miniconda3/envs/py3/lib/python3.9/site-packages/anndata/_io/h5ad.py:98\u001b[0m, in \u001b[0;36mwrite_h5ad\u001b[0;34m(filepath, adata, force_dense, as_dense, dataset_kwargs, **kwargs)\u001b[0m\n\u001b[1;32m     96\u001b[0m \u001b[38;5;28;01melif\u001b[39;00m adata\u001b[38;5;241m.\u001b[39mraw \u001b[38;5;129;01mis\u001b[39;00m \u001b[38;5;129;01mnot\u001b[39;00m \u001b[38;5;28;01mNone\u001b[39;00m:\n\u001b[1;32m     97\u001b[0m     write_elem(f, \u001b[38;5;124m\"\u001b[39m\u001b[38;5;124mraw\u001b[39m\u001b[38;5;124m\"\u001b[39m, adata\u001b[38;5;241m.\u001b[39mraw, dataset_kwargs\u001b[38;5;241m=\u001b[39mdataset_kwargs)\n\u001b[0;32m---> 98\u001b[0m \u001b[43mwrite_elem\u001b[49m\u001b[43m(\u001b[49m\u001b[43mf\u001b[49m\u001b[43m,\u001b[49m\u001b[43m \u001b[49m\u001b[38;5;124;43m\"\u001b[39;49m\u001b[38;5;124;43mobs\u001b[39;49m\u001b[38;5;124;43m\"\u001b[39;49m\u001b[43m,\u001b[49m\u001b[43m \u001b[49m\u001b[43madata\u001b[49m\u001b[38;5;241;43m.\u001b[39;49m\u001b[43mobs\u001b[49m\u001b[43m,\u001b[49m\u001b[43m \u001b[49m\u001b[43mdataset_kwargs\u001b[49m\u001b[38;5;241;43m=\u001b[39;49m\u001b[43mdataset_kwargs\u001b[49m\u001b[43m)\u001b[49m\n\u001b[1;32m     99\u001b[0m write_elem(f, \u001b[38;5;124m\"\u001b[39m\u001b[38;5;124mvar\u001b[39m\u001b[38;5;124m\"\u001b[39m, adata\u001b[38;5;241m.\u001b[39mvar, dataset_kwargs\u001b[38;5;241m=\u001b[39mdataset_kwargs)\n\u001b[1;32m    100\u001b[0m write_elem(f, \u001b[38;5;124m\"\u001b[39m\u001b[38;5;124mobsm\u001b[39m\u001b[38;5;124m\"\u001b[39m, \u001b[38;5;28mdict\u001b[39m(adata\u001b[38;5;241m.\u001b[39mobsm), dataset_kwargs\u001b[38;5;241m=\u001b[39mdataset_kwargs)\n",
      "File \u001b[0;32m~/miniconda3/envs/py3/lib/python3.9/site-packages/anndata/_io/utils.py:214\u001b[0m, in \u001b[0;36mreport_write_key_on_error.<locals>.func_wrapper\u001b[0;34m(elem, key, val, *args, **kwargs)\u001b[0m\n\u001b[1;32m    211\u001b[0m \u001b[38;5;129m@wraps\u001b[39m(func)\n\u001b[1;32m    212\u001b[0m \u001b[38;5;28;01mdef\u001b[39;00m \u001b[38;5;21mfunc_wrapper\u001b[39m(elem, key, val, \u001b[38;5;241m*\u001b[39margs, \u001b[38;5;241m*\u001b[39m\u001b[38;5;241m*\u001b[39mkwargs):\n\u001b[1;32m    213\u001b[0m     \u001b[38;5;28;01mtry\u001b[39;00m:\n\u001b[0;32m--> 214\u001b[0m         \u001b[38;5;28;01mreturn\u001b[39;00m \u001b[43mfunc\u001b[49m\u001b[43m(\u001b[49m\u001b[43melem\u001b[49m\u001b[43m,\u001b[49m\u001b[43m \u001b[49m\u001b[43mkey\u001b[49m\u001b[43m,\u001b[49m\u001b[43m \u001b[49m\u001b[43mval\u001b[49m\u001b[43m,\u001b[49m\u001b[43m \u001b[49m\u001b[38;5;241;43m*\u001b[39;49m\u001b[43margs\u001b[49m\u001b[43m,\u001b[49m\u001b[43m \u001b[49m\u001b[38;5;241;43m*\u001b[39;49m\u001b[38;5;241;43m*\u001b[39;49m\u001b[43mkwargs\u001b[49m\u001b[43m)\u001b[49m\n\u001b[1;32m    215\u001b[0m     \u001b[38;5;28;01mexcept\u001b[39;00m \u001b[38;5;167;01mException\u001b[39;00m \u001b[38;5;28;01mas\u001b[39;00m e:\n\u001b[1;32m    216\u001b[0m         \u001b[38;5;28;01mif\u001b[39;00m \u001b[38;5;124m\"\u001b[39m\u001b[38;5;124mAbove error raised while writing key\u001b[39m\u001b[38;5;124m\"\u001b[39m \u001b[38;5;129;01min\u001b[39;00m \u001b[38;5;28mformat\u001b[39m(e):\n",
      "File \u001b[0;32m~/miniconda3/envs/py3/lib/python3.9/site-packages/anndata/_io/specs/registry.py:175\u001b[0m, in \u001b[0;36mwrite_elem\u001b[0;34m(f, k, elem, modifiers, *args, **kwargs)\u001b[0m\n\u001b[1;32m    171\u001b[0m     _REGISTRY\u001b[38;5;241m.\u001b[39mget_writer(dest_type, (t, elem\u001b[38;5;241m.\u001b[39mdtype\u001b[38;5;241m.\u001b[39mkind), modifiers)(\n\u001b[1;32m    172\u001b[0m         f, k, elem, \u001b[38;5;241m*\u001b[39margs, \u001b[38;5;241m*\u001b[39m\u001b[38;5;241m*\u001b[39mkwargs\n\u001b[1;32m    173\u001b[0m     )\n\u001b[1;32m    174\u001b[0m \u001b[38;5;28;01melse\u001b[39;00m:\n\u001b[0;32m--> 175\u001b[0m     \u001b[43m_REGISTRY\u001b[49m\u001b[38;5;241;43m.\u001b[39;49m\u001b[43mget_writer\u001b[49m\u001b[43m(\u001b[49m\u001b[43mdest_type\u001b[49m\u001b[43m,\u001b[49m\u001b[43m \u001b[49m\u001b[43mt\u001b[49m\u001b[43m,\u001b[49m\u001b[43m \u001b[49m\u001b[43mmodifiers\u001b[49m\u001b[43m)\u001b[49m\u001b[43m(\u001b[49m\u001b[43mf\u001b[49m\u001b[43m,\u001b[49m\u001b[43m \u001b[49m\u001b[43mk\u001b[49m\u001b[43m,\u001b[49m\u001b[43m \u001b[49m\u001b[43melem\u001b[49m\u001b[43m,\u001b[49m\u001b[43m \u001b[49m\u001b[38;5;241;43m*\u001b[39;49m\u001b[43margs\u001b[49m\u001b[43m,\u001b[49m\u001b[43m \u001b[49m\u001b[38;5;241;43m*\u001b[39;49m\u001b[38;5;241;43m*\u001b[39;49m\u001b[43mkwargs\u001b[49m\u001b[43m)\u001b[49m\n",
      "File \u001b[0;32m~/miniconda3/envs/py3/lib/python3.9/site-packages/anndata/_io/specs/registry.py:24\u001b[0m, in \u001b[0;36mwrite_spec.<locals>.decorator.<locals>.wrapper\u001b[0;34m(g, k, *args, **kwargs)\u001b[0m\n\u001b[1;32m     22\u001b[0m \u001b[38;5;129m@wraps\u001b[39m(func)\n\u001b[1;32m     23\u001b[0m \u001b[38;5;28;01mdef\u001b[39;00m \u001b[38;5;21mwrapper\u001b[39m(g, k, \u001b[38;5;241m*\u001b[39margs, \u001b[38;5;241m*\u001b[39m\u001b[38;5;241m*\u001b[39mkwargs):\n\u001b[0;32m---> 24\u001b[0m     result \u001b[38;5;241m=\u001b[39m \u001b[43mfunc\u001b[49m\u001b[43m(\u001b[49m\u001b[43mg\u001b[49m\u001b[43m,\u001b[49m\u001b[43m \u001b[49m\u001b[43mk\u001b[49m\u001b[43m,\u001b[49m\u001b[43m \u001b[49m\u001b[38;5;241;43m*\u001b[39;49m\u001b[43margs\u001b[49m\u001b[43m,\u001b[49m\u001b[43m \u001b[49m\u001b[38;5;241;43m*\u001b[39;49m\u001b[38;5;241;43m*\u001b[39;49m\u001b[43mkwargs\u001b[49m\u001b[43m)\u001b[49m\n\u001b[1;32m     25\u001b[0m     g[k]\u001b[38;5;241m.\u001b[39mattrs\u001b[38;5;241m.\u001b[39msetdefault(\u001b[38;5;124m\"\u001b[39m\u001b[38;5;124mencoding-type\u001b[39m\u001b[38;5;124m\"\u001b[39m, spec\u001b[38;5;241m.\u001b[39mencoding_type)\n\u001b[1;32m     26\u001b[0m     g[k]\u001b[38;5;241m.\u001b[39mattrs\u001b[38;5;241m.\u001b[39msetdefault(\u001b[38;5;124m\"\u001b[39m\u001b[38;5;124mencoding-version\u001b[39m\u001b[38;5;124m\"\u001b[39m, spec\u001b[38;5;241m.\u001b[39mencoding_version)\n",
      "File \u001b[0;32m~/miniconda3/envs/py3/lib/python3.9/site-packages/anndata/_io/specs/methods.py:514\u001b[0m, in \u001b[0;36mwrite_dataframe\u001b[0;34m(f, key, df, dataset_kwargs)\u001b[0m\n\u001b[1;32m    511\u001b[0m write_elem(group, index_name, df\u001b[38;5;241m.\u001b[39mindex\u001b[38;5;241m.\u001b[39m_values, dataset_kwargs\u001b[38;5;241m=\u001b[39mdataset_kwargs)\n\u001b[1;32m    512\u001b[0m \u001b[38;5;28;01mfor\u001b[39;00m colname, series \u001b[38;5;129;01min\u001b[39;00m df\u001b[38;5;241m.\u001b[39mitems():\n\u001b[1;32m    513\u001b[0m     \u001b[38;5;66;03m# TODO: this should write the \"true\" representation of the series (i.e. the underlying array or ndarray depending)\u001b[39;00m\n\u001b[0;32m--> 514\u001b[0m     \u001b[43mwrite_elem\u001b[49m\u001b[43m(\u001b[49m\u001b[43mgroup\u001b[49m\u001b[43m,\u001b[49m\u001b[43m \u001b[49m\u001b[43mcolname\u001b[49m\u001b[43m,\u001b[49m\u001b[43m \u001b[49m\u001b[43mseries\u001b[49m\u001b[38;5;241;43m.\u001b[39;49m\u001b[43m_values\u001b[49m\u001b[43m,\u001b[49m\u001b[43m \u001b[49m\u001b[43mdataset_kwargs\u001b[49m\u001b[38;5;241;43m=\u001b[39;49m\u001b[43mdataset_kwargs\u001b[49m\u001b[43m)\u001b[49m\n",
      "File \u001b[0;32m~/miniconda3/envs/py3/lib/python3.9/site-packages/anndata/_io/utils.py:220\u001b[0m, in \u001b[0;36mreport_write_key_on_error.<locals>.func_wrapper\u001b[0;34m(elem, key, val, *args, **kwargs)\u001b[0m\n\u001b[1;32m    218\u001b[0m \u001b[38;5;28;01melse\u001b[39;00m:\n\u001b[1;32m    219\u001b[0m     parent \u001b[38;5;241m=\u001b[39m _get_parent(elem)\n\u001b[0;32m--> 220\u001b[0m     \u001b[38;5;28;01mraise\u001b[39;00m \u001b[38;5;28mtype\u001b[39m(e)(\n\u001b[1;32m    221\u001b[0m         \u001b[38;5;124mf\u001b[39m\u001b[38;5;124m\"\u001b[39m\u001b[38;5;132;01m{\u001b[39;00me\u001b[38;5;132;01m}\u001b[39;00m\u001b[38;5;130;01m\\n\u001b[39;00m\u001b[38;5;130;01m\\n\u001b[39;00m\u001b[38;5;124m\"\u001b[39m\n\u001b[1;32m    222\u001b[0m         \u001b[38;5;124mf\u001b[39m\u001b[38;5;124m\"\u001b[39m\u001b[38;5;124mAbove error raised while writing key \u001b[39m\u001b[38;5;132;01m{\u001b[39;00mkey\u001b[38;5;132;01m!r}\u001b[39;00m\u001b[38;5;124m of \u001b[39m\u001b[38;5;132;01m{\u001b[39;00m\u001b[38;5;28mtype\u001b[39m(elem)\u001b[38;5;132;01m}\u001b[39;00m\u001b[38;5;124m \u001b[39m\u001b[38;5;124m\"\u001b[39m\n\u001b[1;32m    223\u001b[0m         \u001b[38;5;124mf\u001b[39m\u001b[38;5;124m\"\u001b[39m\u001b[38;5;124mto \u001b[39m\u001b[38;5;132;01m{\u001b[39;00mparent\u001b[38;5;132;01m}\u001b[39;00m\u001b[38;5;124m\"\u001b[39m\n\u001b[1;32m    224\u001b[0m     ) \u001b[38;5;28;01mfrom\u001b[39;00m \u001b[38;5;21;01me\u001b[39;00m\n",
      "\u001b[0;31mTypeError\u001b[0m: Can't implicitly convert non-string objects to strings\n\nAbove error raised while writing key 'Limb.Atlas' of <class 'h5py._hl.group.Group'> to /"
     ]
    }
   ],
   "source": [
    "predictions_adata.write_h5ad('../result/6.24_lineage_predict/celltyplist.h5ad')"
   ]
  },
  {
   "cell_type": "code",
   "execution_count": 62,
   "id": "3b1b19bf",
   "metadata": {},
   "outputs": [
    {
     "data": {
      "text/html": [
       "<div>\n",
       "<style scoped>\n",
       "    .dataframe tbody tr th:only-of-type {\n",
       "        vertical-align: middle;\n",
       "    }\n",
       "\n",
       "    .dataframe tbody tr th {\n",
       "        vertical-align: top;\n",
       "    }\n",
       "\n",
       "    .dataframe thead th {\n",
       "        text-align: right;\n",
       "    }\n",
       "</style>\n",
       "<table border=\"1\" class=\"dataframe\">\n",
       "  <thead>\n",
       "    <tr style=\"text-align: right;\">\n",
       "      <th></th>\n",
       "      <th>orig.ident</th>\n",
       "      <th>nCount_originalexp</th>\n",
       "      <th>nFeature_originalexp</th>\n",
       "      <th>Sample</th>\n",
       "      <th>Project</th>\n",
       "      <th>Limb.Atlas</th>\n",
       "      <th>Organ</th>\n",
       "      <th>Tissue</th>\n",
       "      <th>Tissue.Specific.</th>\n",
       "      <th>Stage</th>\n",
       "      <th>...</th>\n",
       "      <th>louvain</th>\n",
       "      <th>tissue</th>\n",
       "      <th>stage</th>\n",
       "      <th>lineage_chondro</th>\n",
       "      <th>lineage_laFibro</th>\n",
       "      <th>lineage_lepr</th>\n",
       "      <th>lineage_mesenchyme</th>\n",
       "      <th>mes_merge</th>\n",
       "      <th>predicted_labels</th>\n",
       "      <th>conf_score</th>\n",
       "    </tr>\n",
       "  </thead>\n",
       "  <tbody>\n",
       "    <tr>\n",
       "      <th>Frontal_Holmes_WTE18.5_3_GCTCAAAAGGTCGACA_11-0</th>\n",
       "      <td>Frontal_Holmes_WTE18.5_3</td>\n",
       "      <td>3407.39713</td>\n",
       "      <td>5428.0</td>\n",
       "      <td>Frontal_Holmes_WTE18.5_3</td>\n",
       "      <td>Frontal_Holmes</td>\n",
       "      <td>False</td>\n",
       "      <td>Head</td>\n",
       "      <td>Suture mesenchyme</td>\n",
       "      <td>Frontal suture</td>\n",
       "      <td>Development</td>\n",
       "      <td>...</td>\n",
       "      <td>NaN</td>\n",
       "      <td>NaN</td>\n",
       "      <td>NaN</td>\n",
       "      <td>False</td>\n",
       "      <td>False</td>\n",
       "      <td>False</td>\n",
       "      <td>False</td>\n",
       "      <td>False</td>\n",
       "      <td>False</td>\n",
       "      <td>1.0</td>\n",
       "    </tr>\n",
       "    <tr>\n",
       "      <th>AdultBladder_1.TTCCGCTAGAGAGGGCGA</th>\n",
       "      <td>NaN</td>\n",
       "      <td>NaN</td>\n",
       "      <td>NaN</td>\n",
       "      <td>NaN</td>\n",
       "      <td>NaN</td>\n",
       "      <td>NaN</td>\n",
       "      <td>NaN</td>\n",
       "      <td>NaN</td>\n",
       "      <td>NaN</td>\n",
       "      <td>NaN</td>\n",
       "      <td>...</td>\n",
       "      <td>83.0</td>\n",
       "      <td>AdultBladder</td>\n",
       "      <td>Adult</td>\n",
       "      <td>False</td>\n",
       "      <td>NaN</td>\n",
       "      <td>False</td>\n",
       "      <td>NaN</td>\n",
       "      <td>False</td>\n",
       "      <td>False</td>\n",
       "      <td>1.0</td>\n",
       "    </tr>\n",
       "    <tr>\n",
       "      <th>Testis_1.CCGCTAAATAAATGCAAT</th>\n",
       "      <td>NaN</td>\n",
       "      <td>NaN</td>\n",
       "      <td>NaN</td>\n",
       "      <td>NaN</td>\n",
       "      <td>NaN</td>\n",
       "      <td>NaN</td>\n",
       "      <td>NaN</td>\n",
       "      <td>NaN</td>\n",
       "      <td>NaN</td>\n",
       "      <td>NaN</td>\n",
       "      <td>...</td>\n",
       "      <td>37.0</td>\n",
       "      <td>AdultTestis</td>\n",
       "      <td>Adult</td>\n",
       "      <td>False</td>\n",
       "      <td>NaN</td>\n",
       "      <td>False</td>\n",
       "      <td>NaN</td>\n",
       "      <td>False</td>\n",
       "      <td>False</td>\n",
       "      <td>1.0</td>\n",
       "    </tr>\n",
       "    <tr>\n",
       "      <th>sagittal_Holmes_E18_AGCATACTCCGTAGGC-1-0</th>\n",
       "      <td>sagittal_Holmes_E18</td>\n",
       "      <td>8314.00000</td>\n",
       "      <td>2196.0</td>\n",
       "      <td>sagittal_Holmes_E18</td>\n",
       "      <td>sagittal_Holmes</td>\n",
       "      <td>False</td>\n",
       "      <td>Head</td>\n",
       "      <td>Suture mesenchyme</td>\n",
       "      <td>Sagittal suture</td>\n",
       "      <td>Development</td>\n",
       "      <td>...</td>\n",
       "      <td>NaN</td>\n",
       "      <td>NaN</td>\n",
       "      <td>NaN</td>\n",
       "      <td>False</td>\n",
       "      <td>False</td>\n",
       "      <td>False</td>\n",
       "      <td>True</td>\n",
       "      <td>True</td>\n",
       "      <td>True</td>\n",
       "      <td>1.0</td>\n",
       "    </tr>\n",
       "    <tr>\n",
       "      <th>BmscSpecification_Kishor_3_TACGGATCACGAAACG_3-0-2</th>\n",
       "      <td>BmscSpecification_Kishor_3</td>\n",
       "      <td>5632.00000</td>\n",
       "      <td>2179.0</td>\n",
       "      <td>BmscSpecification_Kishor_3</td>\n",
       "      <td>BMSC-Specification_Kishor</td>\n",
       "      <td>True</td>\n",
       "      <td>Limb_adult</td>\n",
       "      <td>Femur;Tibia</td>\n",
       "      <td>Diaphysis and Epiphysis</td>\n",
       "      <td>Steady</td>\n",
       "      <td>...</td>\n",
       "      <td>NaN</td>\n",
       "      <td>NaN</td>\n",
       "      <td>NaN</td>\n",
       "      <td>False</td>\n",
       "      <td>False</td>\n",
       "      <td>True</td>\n",
       "      <td>False</td>\n",
       "      <td>False</td>\n",
       "      <td>False</td>\n",
       "      <td>1.0</td>\n",
       "    </tr>\n",
       "    <tr>\n",
       "      <th>...</th>\n",
       "      <td>...</td>\n",
       "      <td>...</td>\n",
       "      <td>...</td>\n",
       "      <td>...</td>\n",
       "      <td>...</td>\n",
       "      <td>...</td>\n",
       "      <td>...</td>\n",
       "      <td>...</td>\n",
       "      <td>...</td>\n",
       "      <td>...</td>\n",
       "      <td>...</td>\n",
       "      <td>...</td>\n",
       "      <td>...</td>\n",
       "      <td>...</td>\n",
       "      <td>...</td>\n",
       "      <td>...</td>\n",
       "      <td>...</td>\n",
       "      <td>...</td>\n",
       "      <td>...</td>\n",
       "      <td>...</td>\n",
       "      <td>...</td>\n",
       "    </tr>\n",
       "    <tr>\n",
       "      <th>Septoclasts_Kishor_Pdgfra_GCACGTGAGCTACTGT_3-0-2</th>\n",
       "      <td>Septoclasts_Kishor_Pdgfra</td>\n",
       "      <td>2475.00000</td>\n",
       "      <td>1324.0</td>\n",
       "      <td>Septoclasts_Kishor_Pdgfra</td>\n",
       "      <td>Septoclasts_Kishor</td>\n",
       "      <td>True</td>\n",
       "      <td>Limb_adult</td>\n",
       "      <td>Femur;Tibia</td>\n",
       "      <td>Diaphysis</td>\n",
       "      <td>Development</td>\n",
       "      <td>...</td>\n",
       "      <td>NaN</td>\n",
       "      <td>NaN</td>\n",
       "      <td>NaN</td>\n",
       "      <td>False</td>\n",
       "      <td>False</td>\n",
       "      <td>True</td>\n",
       "      <td>False</td>\n",
       "      <td>False</td>\n",
       "      <td>False</td>\n",
       "      <td>1.0</td>\n",
       "    </tr>\n",
       "    <tr>\n",
       "      <th>Ablation_Matsushita_cxcl2_TACCCACCAGGGAGAG-1_7-0-2</th>\n",
       "      <td>Ablation_Matsushita_cxcl2</td>\n",
       "      <td>39117.00000</td>\n",
       "      <td>5833.0</td>\n",
       "      <td>Ablation_Matsushita_cxcl2</td>\n",
       "      <td>Ablation_Matsushita</td>\n",
       "      <td>True</td>\n",
       "      <td>Limb_adult</td>\n",
       "      <td>Femur</td>\n",
       "      <td>Diaphysis</td>\n",
       "      <td>Development</td>\n",
       "      <td>...</td>\n",
       "      <td>NaN</td>\n",
       "      <td>NaN</td>\n",
       "      <td>NaN</td>\n",
       "      <td>False</td>\n",
       "      <td>False</td>\n",
       "      <td>False</td>\n",
       "      <td>False</td>\n",
       "      <td>False</td>\n",
       "      <td>False</td>\n",
       "      <td>1.0</td>\n",
       "    </tr>\n",
       "    <tr>\n",
       "      <th>BmscEndosteal_Ono_Gas1CE_ATTCTACGTACGAGTG-1_4-0-2</th>\n",
       "      <td>BmscEndosteal_Ono_Gas1CE</td>\n",
       "      <td>63904.00000</td>\n",
       "      <td>5914.0</td>\n",
       "      <td>BmscEndosteal_Ono_Gas1CE</td>\n",
       "      <td>BmscEndosteal_Ono</td>\n",
       "      <td>True</td>\n",
       "      <td>Limb_adult</td>\n",
       "      <td>Femur</td>\n",
       "      <td>Stroma</td>\n",
       "      <td>Development</td>\n",
       "      <td>...</td>\n",
       "      <td>NaN</td>\n",
       "      <td>NaN</td>\n",
       "      <td>NaN</td>\n",
       "      <td>False</td>\n",
       "      <td>True</td>\n",
       "      <td>True</td>\n",
       "      <td>False</td>\n",
       "      <td>True</td>\n",
       "      <td>True</td>\n",
       "      <td>1.0</td>\n",
       "    </tr>\n",
       "    <tr>\n",
       "      <th>Bmsc2019_Regev_b2_TCATTACCATTCTTAC-1_2-0-2</th>\n",
       "      <td>Bmsc2019_Regev_b2</td>\n",
       "      <td>4581.00000</td>\n",
       "      <td>1962.0</td>\n",
       "      <td>Bmsc2019_Regev_b2</td>\n",
       "      <td>Bmsc2019_Regev</td>\n",
       "      <td>True</td>\n",
       "      <td>Limb_adult</td>\n",
       "      <td>Femur;Tibia</td>\n",
       "      <td>Bone</td>\n",
       "      <td>Steady</td>\n",
       "      <td>...</td>\n",
       "      <td>NaN</td>\n",
       "      <td>NaN</td>\n",
       "      <td>NaN</td>\n",
       "      <td>False</td>\n",
       "      <td>False</td>\n",
       "      <td>True</td>\n",
       "      <td>False</td>\n",
       "      <td>False</td>\n",
       "      <td>False</td>\n",
       "      <td>1.0</td>\n",
       "    </tr>\n",
       "    <tr>\n",
       "      <th>Bmsc2019_Regev_b1_ACACCGGAGAGGGATA-1_1-0-2</th>\n",
       "      <td>Bmsc2019_Regev_b1</td>\n",
       "      <td>3005.00000</td>\n",
       "      <td>1180.0</td>\n",
       "      <td>Bmsc2019_Regev_b1</td>\n",
       "      <td>Bmsc2019_Regev</td>\n",
       "      <td>True</td>\n",
       "      <td>Limb_adult</td>\n",
       "      <td>Femur;Tibia</td>\n",
       "      <td>Bone</td>\n",
       "      <td>Steady</td>\n",
       "      <td>...</td>\n",
       "      <td>NaN</td>\n",
       "      <td>NaN</td>\n",
       "      <td>NaN</td>\n",
       "      <td>False</td>\n",
       "      <td>False</td>\n",
       "      <td>False</td>\n",
       "      <td>False</td>\n",
       "      <td>False</td>\n",
       "      <td>False</td>\n",
       "      <td>1.0</td>\n",
       "    </tr>\n",
       "  </tbody>\n",
       "</table>\n",
       "<p>135650 rows × 93 columns</p>\n",
       "</div>"
      ],
      "text/plain": [
       "                                                                    orig.ident  \\\n",
       "Frontal_Holmes_WTE18.5_3_GCTCAAAAGGTCGACA_11-0        Frontal_Holmes_WTE18.5_3   \n",
       "AdultBladder_1.TTCCGCTAGAGAGGGCGA                                          NaN   \n",
       "Testis_1.CCGCTAAATAAATGCAAT                                                NaN   \n",
       "sagittal_Holmes_E18_AGCATACTCCGTAGGC-1-0                   sagittal_Holmes_E18   \n",
       "BmscSpecification_Kishor_3_TACGGATCACGAAACG_3-0-2   BmscSpecification_Kishor_3   \n",
       "...                                                                        ...   \n",
       "Septoclasts_Kishor_Pdgfra_GCACGTGAGCTACTGT_3-0-2     Septoclasts_Kishor_Pdgfra   \n",
       "Ablation_Matsushita_cxcl2_TACCCACCAGGGAGAG-1_7-0-2   Ablation_Matsushita_cxcl2   \n",
       "BmscEndosteal_Ono_Gas1CE_ATTCTACGTACGAGTG-1_4-0-2     BmscEndosteal_Ono_Gas1CE   \n",
       "Bmsc2019_Regev_b2_TCATTACCATTCTTAC-1_2-0-2                   Bmsc2019_Regev_b2   \n",
       "Bmsc2019_Regev_b1_ACACCGGAGAGGGATA-1_1-0-2                   Bmsc2019_Regev_b1   \n",
       "\n",
       "                                                    nCount_originalexp  \\\n",
       "Frontal_Holmes_WTE18.5_3_GCTCAAAAGGTCGACA_11-0              3407.39713   \n",
       "AdultBladder_1.TTCCGCTAGAGAGGGCGA                                  NaN   \n",
       "Testis_1.CCGCTAAATAAATGCAAT                                        NaN   \n",
       "sagittal_Holmes_E18_AGCATACTCCGTAGGC-1-0                    8314.00000   \n",
       "BmscSpecification_Kishor_3_TACGGATCACGAAACG_3-0-2           5632.00000   \n",
       "...                                                                ...   \n",
       "Septoclasts_Kishor_Pdgfra_GCACGTGAGCTACTGT_3-0-2            2475.00000   \n",
       "Ablation_Matsushita_cxcl2_TACCCACCAGGGAGAG-1_7-0-2         39117.00000   \n",
       "BmscEndosteal_Ono_Gas1CE_ATTCTACGTACGAGTG-1_4-0-2          63904.00000   \n",
       "Bmsc2019_Regev_b2_TCATTACCATTCTTAC-1_2-0-2                  4581.00000   \n",
       "Bmsc2019_Regev_b1_ACACCGGAGAGGGATA-1_1-0-2                  3005.00000   \n",
       "\n",
       "                                                    nFeature_originalexp  \\\n",
       "Frontal_Holmes_WTE18.5_3_GCTCAAAAGGTCGACA_11-0                    5428.0   \n",
       "AdultBladder_1.TTCCGCTAGAGAGGGCGA                                    NaN   \n",
       "Testis_1.CCGCTAAATAAATGCAAT                                          NaN   \n",
       "sagittal_Holmes_E18_AGCATACTCCGTAGGC-1-0                          2196.0   \n",
       "BmscSpecification_Kishor_3_TACGGATCACGAAACG_3-0-2                 2179.0   \n",
       "...                                                                  ...   \n",
       "Septoclasts_Kishor_Pdgfra_GCACGTGAGCTACTGT_3-0-2                  1324.0   \n",
       "Ablation_Matsushita_cxcl2_TACCCACCAGGGAGAG-1_7-0-2                5833.0   \n",
       "BmscEndosteal_Ono_Gas1CE_ATTCTACGTACGAGTG-1_4-0-2                 5914.0   \n",
       "Bmsc2019_Regev_b2_TCATTACCATTCTTAC-1_2-0-2                        1962.0   \n",
       "Bmsc2019_Regev_b1_ACACCGGAGAGGGATA-1_1-0-2                        1180.0   \n",
       "\n",
       "                                                                        Sample  \\\n",
       "Frontal_Holmes_WTE18.5_3_GCTCAAAAGGTCGACA_11-0        Frontal_Holmes_WTE18.5_3   \n",
       "AdultBladder_1.TTCCGCTAGAGAGGGCGA                                          NaN   \n",
       "Testis_1.CCGCTAAATAAATGCAAT                                                NaN   \n",
       "sagittal_Holmes_E18_AGCATACTCCGTAGGC-1-0                   sagittal_Holmes_E18   \n",
       "BmscSpecification_Kishor_3_TACGGATCACGAAACG_3-0-2   BmscSpecification_Kishor_3   \n",
       "...                                                                        ...   \n",
       "Septoclasts_Kishor_Pdgfra_GCACGTGAGCTACTGT_3-0-2     Septoclasts_Kishor_Pdgfra   \n",
       "Ablation_Matsushita_cxcl2_TACCCACCAGGGAGAG-1_7-0-2   Ablation_Matsushita_cxcl2   \n",
       "BmscEndosteal_Ono_Gas1CE_ATTCTACGTACGAGTG-1_4-0-2     BmscEndosteal_Ono_Gas1CE   \n",
       "Bmsc2019_Regev_b2_TCATTACCATTCTTAC-1_2-0-2                   Bmsc2019_Regev_b2   \n",
       "Bmsc2019_Regev_b1_ACACCGGAGAGGGATA-1_1-0-2                   Bmsc2019_Regev_b1   \n",
       "\n",
       "                                                                      Project  \\\n",
       "Frontal_Holmes_WTE18.5_3_GCTCAAAAGGTCGACA_11-0                 Frontal_Holmes   \n",
       "AdultBladder_1.TTCCGCTAGAGAGGGCGA                                         NaN   \n",
       "Testis_1.CCGCTAAATAAATGCAAT                                               NaN   \n",
       "sagittal_Holmes_E18_AGCATACTCCGTAGGC-1-0                      sagittal_Holmes   \n",
       "BmscSpecification_Kishor_3_TACGGATCACGAAACG_3-0-2   BMSC-Specification_Kishor   \n",
       "...                                                                       ...   \n",
       "Septoclasts_Kishor_Pdgfra_GCACGTGAGCTACTGT_3-0-2           Septoclasts_Kishor   \n",
       "Ablation_Matsushita_cxcl2_TACCCACCAGGGAGAG-1_7-0-2        Ablation_Matsushita   \n",
       "BmscEndosteal_Ono_Gas1CE_ATTCTACGTACGAGTG-1_4-0-2           BmscEndosteal_Ono   \n",
       "Bmsc2019_Regev_b2_TCATTACCATTCTTAC-1_2-0-2                     Bmsc2019_Regev   \n",
       "Bmsc2019_Regev_b1_ACACCGGAGAGGGATA-1_1-0-2                     Bmsc2019_Regev   \n",
       "\n",
       "                                                   Limb.Atlas       Organ  \\\n",
       "Frontal_Holmes_WTE18.5_3_GCTCAAAAGGTCGACA_11-0          False        Head   \n",
       "AdultBladder_1.TTCCGCTAGAGAGGGCGA                         NaN         NaN   \n",
       "Testis_1.CCGCTAAATAAATGCAAT                               NaN         NaN   \n",
       "sagittal_Holmes_E18_AGCATACTCCGTAGGC-1-0                False        Head   \n",
       "BmscSpecification_Kishor_3_TACGGATCACGAAACG_3-0-2        True  Limb_adult   \n",
       "...                                                       ...         ...   \n",
       "Septoclasts_Kishor_Pdgfra_GCACGTGAGCTACTGT_3-0-2         True  Limb_adult   \n",
       "Ablation_Matsushita_cxcl2_TACCCACCAGGGAGAG-1_7-0-2       True  Limb_adult   \n",
       "BmscEndosteal_Ono_Gas1CE_ATTCTACGTACGAGTG-1_4-0-2        True  Limb_adult   \n",
       "Bmsc2019_Regev_b2_TCATTACCATTCTTAC-1_2-0-2               True  Limb_adult   \n",
       "Bmsc2019_Regev_b1_ACACCGGAGAGGGATA-1_1-0-2               True  Limb_adult   \n",
       "\n",
       "                                                               Tissue  \\\n",
       "Frontal_Holmes_WTE18.5_3_GCTCAAAAGGTCGACA_11-0      Suture mesenchyme   \n",
       "AdultBladder_1.TTCCGCTAGAGAGGGCGA                                 NaN   \n",
       "Testis_1.CCGCTAAATAAATGCAAT                                       NaN   \n",
       "sagittal_Holmes_E18_AGCATACTCCGTAGGC-1-0            Suture mesenchyme   \n",
       "BmscSpecification_Kishor_3_TACGGATCACGAAACG_3-0-2         Femur;Tibia   \n",
       "...                                                               ...   \n",
       "Septoclasts_Kishor_Pdgfra_GCACGTGAGCTACTGT_3-0-2          Femur;Tibia   \n",
       "Ablation_Matsushita_cxcl2_TACCCACCAGGGAGAG-1_7-0-2              Femur   \n",
       "BmscEndosteal_Ono_Gas1CE_ATTCTACGTACGAGTG-1_4-0-2               Femur   \n",
       "Bmsc2019_Regev_b2_TCATTACCATTCTTAC-1_2-0-2                Femur;Tibia   \n",
       "Bmsc2019_Regev_b1_ACACCGGAGAGGGATA-1_1-0-2                Femur;Tibia   \n",
       "\n",
       "                                                           Tissue.Specific.  \\\n",
       "Frontal_Holmes_WTE18.5_3_GCTCAAAAGGTCGACA_11-0               Frontal suture   \n",
       "AdultBladder_1.TTCCGCTAGAGAGGGCGA                                       NaN   \n",
       "Testis_1.CCGCTAAATAAATGCAAT                                             NaN   \n",
       "sagittal_Holmes_E18_AGCATACTCCGTAGGC-1-0                    Sagittal suture   \n",
       "BmscSpecification_Kishor_3_TACGGATCACGAAACG_3-0-2   Diaphysis and Epiphysis   \n",
       "...                                                                     ...   \n",
       "Septoclasts_Kishor_Pdgfra_GCACGTGAGCTACTGT_3-0-2                  Diaphysis   \n",
       "Ablation_Matsushita_cxcl2_TACCCACCAGGGAGAG-1_7-0-2                Diaphysis   \n",
       "BmscEndosteal_Ono_Gas1CE_ATTCTACGTACGAGTG-1_4-0-2                    Stroma   \n",
       "Bmsc2019_Regev_b2_TCATTACCATTCTTAC-1_2-0-2                             Bone   \n",
       "Bmsc2019_Regev_b1_ACACCGGAGAGGGATA-1_1-0-2                             Bone   \n",
       "\n",
       "                                                          Stage  ... louvain  \\\n",
       "Frontal_Holmes_WTE18.5_3_GCTCAAAAGGTCGACA_11-0      Development  ...     NaN   \n",
       "AdultBladder_1.TTCCGCTAGAGAGGGCGA                           NaN  ...    83.0   \n",
       "Testis_1.CCGCTAAATAAATGCAAT                                 NaN  ...    37.0   \n",
       "sagittal_Holmes_E18_AGCATACTCCGTAGGC-1-0            Development  ...     NaN   \n",
       "BmscSpecification_Kishor_3_TACGGATCACGAAACG_3-0-2        Steady  ...     NaN   \n",
       "...                                                         ...  ...     ...   \n",
       "Septoclasts_Kishor_Pdgfra_GCACGTGAGCTACTGT_3-0-2    Development  ...     NaN   \n",
       "Ablation_Matsushita_cxcl2_TACCCACCAGGGAGAG-1_7-0-2  Development  ...     NaN   \n",
       "BmscEndosteal_Ono_Gas1CE_ATTCTACGTACGAGTG-1_4-0-2   Development  ...     NaN   \n",
       "Bmsc2019_Regev_b2_TCATTACCATTCTTAC-1_2-0-2               Steady  ...     NaN   \n",
       "Bmsc2019_Regev_b1_ACACCGGAGAGGGATA-1_1-0-2               Steady  ...     NaN   \n",
       "\n",
       "                                                          tissue  stage  \\\n",
       "Frontal_Holmes_WTE18.5_3_GCTCAAAAGGTCGACA_11-0               NaN    NaN   \n",
       "AdultBladder_1.TTCCGCTAGAGAGGGCGA                   AdultBladder  Adult   \n",
       "Testis_1.CCGCTAAATAAATGCAAT                          AdultTestis  Adult   \n",
       "sagittal_Holmes_E18_AGCATACTCCGTAGGC-1-0                     NaN    NaN   \n",
       "BmscSpecification_Kishor_3_TACGGATCACGAAACG_3-0-2            NaN    NaN   \n",
       "...                                                          ...    ...   \n",
       "Septoclasts_Kishor_Pdgfra_GCACGTGAGCTACTGT_3-0-2             NaN    NaN   \n",
       "Ablation_Matsushita_cxcl2_TACCCACCAGGGAGAG-1_7-0-2           NaN    NaN   \n",
       "BmscEndosteal_Ono_Gas1CE_ATTCTACGTACGAGTG-1_4-0-2            NaN    NaN   \n",
       "Bmsc2019_Regev_b2_TCATTACCATTCTTAC-1_2-0-2                   NaN    NaN   \n",
       "Bmsc2019_Regev_b1_ACACCGGAGAGGGATA-1_1-0-2                   NaN    NaN   \n",
       "\n",
       "                                                   lineage_chondro  \\\n",
       "Frontal_Holmes_WTE18.5_3_GCTCAAAAGGTCGACA_11-0               False   \n",
       "AdultBladder_1.TTCCGCTAGAGAGGGCGA                            False   \n",
       "Testis_1.CCGCTAAATAAATGCAAT                                  False   \n",
       "sagittal_Holmes_E18_AGCATACTCCGTAGGC-1-0                     False   \n",
       "BmscSpecification_Kishor_3_TACGGATCACGAAACG_3-0-2            False   \n",
       "...                                                            ...   \n",
       "Septoclasts_Kishor_Pdgfra_GCACGTGAGCTACTGT_3-0-2             False   \n",
       "Ablation_Matsushita_cxcl2_TACCCACCAGGGAGAG-1_7-0-2           False   \n",
       "BmscEndosteal_Ono_Gas1CE_ATTCTACGTACGAGTG-1_4-0-2            False   \n",
       "Bmsc2019_Regev_b2_TCATTACCATTCTTAC-1_2-0-2                   False   \n",
       "Bmsc2019_Regev_b1_ACACCGGAGAGGGATA-1_1-0-2                   False   \n",
       "\n",
       "                                                   lineage_laFibro  \\\n",
       "Frontal_Holmes_WTE18.5_3_GCTCAAAAGGTCGACA_11-0               False   \n",
       "AdultBladder_1.TTCCGCTAGAGAGGGCGA                              NaN   \n",
       "Testis_1.CCGCTAAATAAATGCAAT                                    NaN   \n",
       "sagittal_Holmes_E18_AGCATACTCCGTAGGC-1-0                     False   \n",
       "BmscSpecification_Kishor_3_TACGGATCACGAAACG_3-0-2            False   \n",
       "...                                                            ...   \n",
       "Septoclasts_Kishor_Pdgfra_GCACGTGAGCTACTGT_3-0-2             False   \n",
       "Ablation_Matsushita_cxcl2_TACCCACCAGGGAGAG-1_7-0-2           False   \n",
       "BmscEndosteal_Ono_Gas1CE_ATTCTACGTACGAGTG-1_4-0-2             True   \n",
       "Bmsc2019_Regev_b2_TCATTACCATTCTTAC-1_2-0-2                   False   \n",
       "Bmsc2019_Regev_b1_ACACCGGAGAGGGATA-1_1-0-2                   False   \n",
       "\n",
       "                                                   lineage_lepr  \\\n",
       "Frontal_Holmes_WTE18.5_3_GCTCAAAAGGTCGACA_11-0            False   \n",
       "AdultBladder_1.TTCCGCTAGAGAGGGCGA                         False   \n",
       "Testis_1.CCGCTAAATAAATGCAAT                               False   \n",
       "sagittal_Holmes_E18_AGCATACTCCGTAGGC-1-0                  False   \n",
       "BmscSpecification_Kishor_3_TACGGATCACGAAACG_3-0-2          True   \n",
       "...                                                         ...   \n",
       "Septoclasts_Kishor_Pdgfra_GCACGTGAGCTACTGT_3-0-2           True   \n",
       "Ablation_Matsushita_cxcl2_TACCCACCAGGGAGAG-1_7-0-2        False   \n",
       "BmscEndosteal_Ono_Gas1CE_ATTCTACGTACGAGTG-1_4-0-2          True   \n",
       "Bmsc2019_Regev_b2_TCATTACCATTCTTAC-1_2-0-2                 True   \n",
       "Bmsc2019_Regev_b1_ACACCGGAGAGGGATA-1_1-0-2                False   \n",
       "\n",
       "                                                   lineage_mesenchyme  \\\n",
       "Frontal_Holmes_WTE18.5_3_GCTCAAAAGGTCGACA_11-0                  False   \n",
       "AdultBladder_1.TTCCGCTAGAGAGGGCGA                                 NaN   \n",
       "Testis_1.CCGCTAAATAAATGCAAT                                       NaN   \n",
       "sagittal_Holmes_E18_AGCATACTCCGTAGGC-1-0                         True   \n",
       "BmscSpecification_Kishor_3_TACGGATCACGAAACG_3-0-2               False   \n",
       "...                                                               ...   \n",
       "Septoclasts_Kishor_Pdgfra_GCACGTGAGCTACTGT_3-0-2                False   \n",
       "Ablation_Matsushita_cxcl2_TACCCACCAGGGAGAG-1_7-0-2              False   \n",
       "BmscEndosteal_Ono_Gas1CE_ATTCTACGTACGAGTG-1_4-0-2               False   \n",
       "Bmsc2019_Regev_b2_TCATTACCATTCTTAC-1_2-0-2                      False   \n",
       "Bmsc2019_Regev_b1_ACACCGGAGAGGGATA-1_1-0-2                      False   \n",
       "\n",
       "                                                   mes_merge predicted_labels  \\\n",
       "Frontal_Holmes_WTE18.5_3_GCTCAAAAGGTCGACA_11-0         False            False   \n",
       "AdultBladder_1.TTCCGCTAGAGAGGGCGA                      False            False   \n",
       "Testis_1.CCGCTAAATAAATGCAAT                            False            False   \n",
       "sagittal_Holmes_E18_AGCATACTCCGTAGGC-1-0                True             True   \n",
       "BmscSpecification_Kishor_3_TACGGATCACGAAACG_3-0-2      False            False   \n",
       "...                                                      ...              ...   \n",
       "Septoclasts_Kishor_Pdgfra_GCACGTGAGCTACTGT_3-0-2       False            False   \n",
       "Ablation_Matsushita_cxcl2_TACCCACCAGGGAGAG-1_7-0-2     False            False   \n",
       "BmscEndosteal_Ono_Gas1CE_ATTCTACGTACGAGTG-1_4-0-2       True             True   \n",
       "Bmsc2019_Regev_b2_TCATTACCATTCTTAC-1_2-0-2             False            False   \n",
       "Bmsc2019_Regev_b1_ACACCGGAGAGGGATA-1_1-0-2             False            False   \n",
       "\n",
       "                                                   conf_score  \n",
       "Frontal_Holmes_WTE18.5_3_GCTCAAAAGGTCGACA_11-0            1.0  \n",
       "AdultBladder_1.TTCCGCTAGAGAGGGCGA                         1.0  \n",
       "Testis_1.CCGCTAAATAAATGCAAT                               1.0  \n",
       "sagittal_Holmes_E18_AGCATACTCCGTAGGC-1-0                  1.0  \n",
       "BmscSpecification_Kishor_3_TACGGATCACGAAACG_3-0-2         1.0  \n",
       "...                                                       ...  \n",
       "Septoclasts_Kishor_Pdgfra_GCACGTGAGCTACTGT_3-0-2          1.0  \n",
       "Ablation_Matsushita_cxcl2_TACCCACCAGGGAGAG-1_7-0-2        1.0  \n",
       "BmscEndosteal_Ono_Gas1CE_ATTCTACGTACGAGTG-1_4-0-2         1.0  \n",
       "Bmsc2019_Regev_b2_TCATTACCATTCTTAC-1_2-0-2                1.0  \n",
       "Bmsc2019_Regev_b1_ACACCGGAGAGGGATA-1_1-0-2                1.0  \n",
       "\n",
       "[135650 rows x 93 columns]"
      ]
     },
     "execution_count": 62,
     "metadata": {},
     "output_type": "execute_result"
    }
   ],
   "source": [
    "predictions_adata.obs"
   ]
  },
  {
   "cell_type": "code",
   "execution_count": 52,
   "id": "f1b0b065",
   "metadata": {},
   "outputs": [
    {
     "data": {
      "text/plain": [
       "0.9432215259859934"
      ]
     },
     "execution_count": 52,
     "metadata": {},
     "output_type": "execute_result"
    }
   ],
   "source": [
    "sum(predictions.predicted_labels[\"predicted_labels\"].values==y_test)/len(y_test)"
   ]
  },
  {
   "cell_type": "code",
   "execution_count": 68,
   "id": "470f34f7",
   "metadata": {},
   "outputs": [
    {
     "name": "stderr",
     "output_type": "stream",
     "text": [
      "In order to use the mouse gastrulation seqFISH datsets, please install squidpy (see https://github.com/scverse/squidpy).\n",
      "In order to use sagenet models, please install pytorch geometric (see https://pytorch-geometric.readthedocs.io) and \n",
      " captum (see https://github.com/pytorch/captum).\n",
      "mvTCR is not installed. To use mvTCR models, please install it first using \"pip install mvtcr\"\n",
      "multigrate is not installed. To use multigrate models, please install it first using \"pip install multigrate\".\n"
     ]
    }
   ],
   "source": [
    "import scvi\n",
    "import scarches as sca"
   ]
  },
  {
   "cell_type": "code",
   "execution_count": 64,
   "id": "da5897a0",
   "metadata": {},
   "outputs": [],
   "source": [
    "adata_train=adata_concat[y_train.index,:]"
   ]
  },
  {
   "cell_type": "code",
   "execution_count": 70,
   "id": "ee0879a5",
   "metadata": {},
   "outputs": [],
   "source": [
    "adata_train = adata_train.copy()"
   ]
  },
  {
   "cell_type": "code",
   "execution_count": 74,
   "id": "cb43a281",
   "metadata": {},
   "outputs": [],
   "source": [
    "adata_train.obs[\"batch\"] = adata_train.obs[\"batch\"].cat.add_categories(['MCA'])"
   ]
  },
  {
   "cell_type": "code",
   "execution_count": 75,
   "id": "d30b7df0",
   "metadata": {},
   "outputs": [],
   "source": [
    "adata_train.obs[\"batch\"]=adata_train.obs[\"batch\"].fillna(\"MCA\")"
   ]
  },
  {
   "cell_type": "code",
   "execution_count": 77,
   "id": "2bd23657",
   "metadata": {},
   "outputs": [],
   "source": [
    "adata_test.obs[\"batch\"] = adata_test.obs[\"batch\"].cat.add_categories(['MCA'])\n",
    "adata_test.obs[\"batch\"]=adata_test.obs[\"batch\"].fillna(\"MCA\")"
   ]
  },
  {
   "cell_type": "code",
   "execution_count": 85,
   "id": "13fcbf30",
   "metadata": {},
   "outputs": [],
   "source": [
    "adata_concat.obs[\"mes_test\"]=adata_concat.obs[\"mes_merge\"]"
   ]
  },
  {
   "cell_type": "code",
   "execution_count": 87,
   "id": "0d3cd59e",
   "metadata": {},
   "outputs": [
    {
     "name": "stderr",
     "output_type": "stream",
     "text": [
      "/tmp/ipykernel_3932753/2783646643.py:1: SettingWithCopyWarning: \n",
      "A value is trying to be set on a copy of a slice from a DataFrame\n",
      "\n",
      "See the caveats in the documentation: https://pandas.pydata.org/pandas-docs/stable/user_guide/indexing.html#returning-a-view-versus-a-copy\n",
      "  adata_concat.obs[\"mes_test\"][y_test.index]=\"Unkown\"\n"
     ]
    }
   ],
   "source": [
    "adata_concat.obs[\"mes_test\"][y_test.index]=\"Unkown\""
   ]
  },
  {
   "cell_type": "code",
   "execution_count": 89,
   "id": "94e2d1ba",
   "metadata": {},
   "outputs": [],
   "source": [
    "adata_concat.obs[\"mes_test\"]=adata_concat.obs[\"mes_test\"].replace(True,\"True\")\n",
    "adata_concat.obs[\"mes_test\"]=adata_concat.obs[\"mes_test\"].replace(False,\"False\")"
   ]
  },
  {
   "cell_type": "code",
   "execution_count": 94,
   "id": "6f553d00",
   "metadata": {},
   "outputs": [],
   "source": [
    "adata_concat.obs[\"batch\"] = adata_concat.obs[\"batch\"].cat.add_categories(['MCA'])\n",
    "adata_concat.obs[\"batch\"]=adata_concat.obs[\"batch\"].fillna(\"MCA\")"
   ]
  },
  {
   "cell_type": "code",
   "execution_count": 98,
   "id": "c215e5ac",
   "metadata": {},
   "outputs": [],
   "source": [
    "sca.models.SCVI.setup_anndata(adata_concat, batch_key=\"batch\", labels_key=\"mes_test\")"
   ]
  },
  {
   "cell_type": "code",
   "execution_count": 99,
   "id": "c8b003e3",
   "metadata": {},
   "outputs": [],
   "source": [
    "vae = sca.models.SCVI(\n",
    "    adata_concat,\n",
    "    n_layers=2,\n",
    "    encode_covariates=True,\n",
    "    deeply_inject_covariates=False,\n",
    "    use_layer_norm=\"both\",\n",
    "    use_batch_norm=\"none\",\n",
    ")"
   ]
  },
  {
   "cell_type": "code",
   "execution_count": 101,
   "id": "748e62a8",
   "metadata": {},
   "outputs": [
    {
     "name": "stderr",
     "output_type": "stream",
     "text": [
      "GPU available: True (cuda), used: True\n",
      "TPU available: False, using: 0 TPU cores\n",
      "IPU available: False, using: 0 IPUs\n",
      "HPU available: False, using: 0 HPUs\n",
      "LOCAL_RANK: 0 - CUDA_VISIBLE_DEVICES: [0]\n"
     ]
    },
    {
     "name": "stdout",
     "output_type": "stream",
     "text": [
      "Epoch 24/24: 100%|██████████| 24/24 [23:45<00:00, 60.04s/it, loss=887, v_num=1]"
     ]
    },
    {
     "name": "stderr",
     "output_type": "stream",
     "text": [
      "`Trainer.fit` stopped: `max_epochs=24` reached.\n"
     ]
    },
    {
     "name": "stdout",
     "output_type": "stream",
     "text": [
      "Epoch 24/24: 100%|██████████| 24/24 [23:45<00:00, 59.40s/it, loss=887, v_num=1]\n"
     ]
    }
   ],
   "source": [
    "vae.train()"
   ]
  },
  {
   "cell_type": "code",
   "execution_count": 102,
   "id": "4d089fb2",
   "metadata": {},
   "outputs": [],
   "source": [
    "scanvae = sca.models.SCANVI.from_scvi_model(vae,unlabeled_category=\"Unkown\")"
   ]
  },
  {
   "cell_type": "code",
   "execution_count": null,
   "id": "2b97261e",
   "metadata": {},
   "outputs": [
    {
     "name": "stdout",
     "output_type": "stream",
     "text": [
      "\u001b[34mINFO    \u001b[0m Training for \u001b[1;36m20\u001b[0m epochs.                                                                                   \n"
     ]
    },
    {
     "name": "stderr",
     "output_type": "stream",
     "text": [
      "GPU available: True (cuda), used: True\n",
      "TPU available: False, using: 0 TPU cores\n",
      "IPU available: False, using: 0 IPUs\n",
      "HPU available: False, using: 0 HPUs\n",
      "LOCAL_RANK: 0 - CUDA_VISIBLE_DEVICES: [0]\n"
     ]
    },
    {
     "name": "stdout",
     "output_type": "stream",
     "text": [
      "Epoch 3/20:  10%|█         | 2/20 [02:55<26:22, 87.91s/it, loss=917, v_num=1]"
     ]
    }
   ],
   "source": [
    "scanvae.train(max_epochs=20)"
   ]
  },
  {
   "cell_type": "code",
   "execution_count": 123,
   "id": "b45c23dc",
   "metadata": {},
   "outputs": [],
   "source": [
    "adata_concat.obs[\"prediction\"]=scanvae.predict()"
   ]
  },
  {
   "cell_type": "code",
   "execution_count": 122,
   "id": "14956b9d",
   "metadata": {},
   "outputs": [],
   "source": [
    "scanvae.save(\"../result/6.24_lineage_predict/scanvae\", overwrite=True)"
   ]
  },
  {
   "cell_type": "code",
   "execution_count": 107,
   "id": "6e519c6b",
   "metadata": {},
   "outputs": [
    {
     "data": {
      "text/plain": [
       "Suture2021_Farmer_E17_AAACCTGCAGACTCGC-1_1-0          True\n",
       "Suture2021_Farmer_E17_AAACCTGGTGCGGTAA-1_1-0         False\n",
       "Suture2021_Farmer_E17_AAACCTGGTGGTCTCG-1_1-0          True\n",
       "Suture2021_Farmer_E17_AAACCTGTCACCACCT-1_1-0          True\n",
       "Suture2021_Farmer_E17_AAACCTGTCGTTACGA-1_1-0         False\n",
       "                                                     ...  \n",
       "FetalIntestine_1.TGATCAGCTGTGTAGCAT                  False\n",
       "AdultOmentum_3.GAGGAGAGCGAGCTCGCA                    False\n",
       "NeonatalSkin_1.TTCATACGCACCTATGTA                    False\n",
       "AdultMammaryGland.Involution_1.CACAAGTTTAGGATTCCA    False\n",
       "AdultBrain_1.GTCGGTAGATGGAAAGTT                      False\n",
       "Name: mes_merge, Length: 339124, dtype: bool"
      ]
     },
     "execution_count": 107,
     "metadata": {},
     "output_type": "execute_result"
    }
   ],
   "source": [
    "adata_concat.obs[\"mes_merge\"]"
   ]
  },
  {
   "cell_type": "code",
   "execution_count": 124,
   "id": "be0a7edc",
   "metadata": {},
   "outputs": [],
   "source": [
    "adata_concat.obs[\"prediction\"]=adata_concat.obs[\"prediction\"].replace(\"True\",True)\n",
    "adata_concat.obs[\"prediction\"]=adata_concat.obs[\"prediction\"].replace(\"False\",False)"
   ]
  },
  {
   "cell_type": "code",
   "execution_count": 138,
   "id": "ddfd6575",
   "metadata": {},
   "outputs": [],
   "source": [
    "accuracy_mes_arches=sum(adata_concat.obs[\"prediction\"][y_test.index]==adata_concat.obs[\"mes_merge\"][y_test.index])/len(adata_concat.obs[\"mes_merge\"][y_test.index])"
   ]
  },
  {
   "cell_type": "code",
   "execution_count": 117,
   "id": "d48a847a",
   "metadata": {},
   "outputs": [
    {
     "data": {
      "text/plain": [
       "Frontal_Holmes_WTE18.5_3_GCTCAAAAGGTCGACA_11-0        False\n",
       "AdultBladder_1.TTCCGCTAGAGAGGGCGA                     False\n",
       "Testis_1.CCGCTAAATAAATGCAAT                           False\n",
       "sagittal_Holmes_E18_AGCATACTCCGTAGGC-1-0               True\n",
       "BmscSpecification_Kishor_3_TACGGATCACGAAACG_3-0-2     False\n",
       "                                                      ...  \n",
       "Septoclasts_Kishor_Pdgfra_GCACGTGAGCTACTGT_3-0-2      False\n",
       "Ablation_Matsushita_cxcl2_TACCCACCAGGGAGAG-1_7-0-2    False\n",
       "BmscEndosteal_Ono_Gas1CE_ATTCTACGTACGAGTG-1_4-0-2      True\n",
       "Bmsc2019_Regev_b2_TCATTACCATTCTTAC-1_2-0-2            False\n",
       "Bmsc2019_Regev_b1_ACACCGGAGAGGGATA-1_1-0-2            False\n",
       "Name: mes_merge, Length: 135650, dtype: bool"
      ]
     },
     "execution_count": 117,
     "metadata": {},
     "output_type": "execute_result"
    }
   ],
   "source": [
    "adata_concat.obs[\"mes_merge\"][y_test.index]"
   ]
  },
  {
   "cell_type": "code",
   "execution_count": 128,
   "id": "508adaeb",
   "metadata": {},
   "outputs": [],
   "source": [
    "Classifier = RandomForestClassifier(n_estimators = 50)"
   ]
  },
  {
   "cell_type": "code",
   "execution_count": 130,
   "id": "7dd1f3ed",
   "metadata": {},
   "outputs": [],
   "source": [
    "tr_time=[]\n",
    "ts_time=[]\n",
    "start=tm.time()\n",
    "Classifier.fit(X_train, y_train)\n",
    "tr_time.append(tm.time()-start)"
   ]
  },
  {
   "cell_type": "code",
   "execution_count": 131,
   "id": "f1962009",
   "metadata": {},
   "outputs": [],
   "source": [
    "start=tm.time()\n",
    "predicted = Classifier.predict(X_test)\n",
    "ts_time.append(tm.time()-start)"
   ]
  },
  {
   "cell_type": "code",
   "execution_count": 137,
   "id": "7cd52001",
   "metadata": {},
   "outputs": [],
   "source": [
    "accuracy_mes_rf=sum(predicted==y_test)/len(y_test)"
   ]
  },
  {
   "cell_type": "code",
   "execution_count": 136,
   "id": "4416eaa7",
   "metadata": {},
   "outputs": [
    {
     "data": {
      "text/plain": [
       "['../result/6.24_lineage_predict/mes_randomforest.joblib']"
      ]
     },
     "execution_count": 136,
     "metadata": {},
     "output_type": "execute_result"
    }
   ],
   "source": [
    "import joblib\n",
    "joblib.dump(Classifier, \"../result/6.24_lineage_predict/mes_randomforest.joblib\")"
   ]
  },
  {
   "cell_type": "code",
   "execution_count": 139,
   "id": "a287f89e",
   "metadata": {},
   "outputs": [],
   "source": [
    "pd.DataFrame(predicted).to_csv(\"../result/6.24_lineage_predict/rf_pred_mes.csv\")"
   ]
  },
  {
   "cell_type": "code",
   "execution_count": 140,
   "id": "9635dbfe",
   "metadata": {},
   "outputs": [
    {
     "data": {
      "text/plain": [
       "AnnData object with n_obs × n_vars = 339124 × 2000\n",
       "    obs: 'orig.ident', 'nCount_originalexp', 'nFeature_originalexp', 'Sample', 'Project', 'Limb.Atlas', 'Organ', 'Tissue', 'Tissue.Specific.', 'Stage', 'Gene.type', 'Treatment', 'Age', 'Age.In.Detail.', 'Machine', 'Species', 'Isolation.approach', 'Digestion', 'Enzymes', 'Bone.Forming.Methods', 'Data.Source', 'Related.Assay', 'Origin', 'nCount_RNA', 'nFeature_RNA', 'paper_label', 'coarse_label', 'scDblFinder_class', 'short_id', 'temp_cluster', 'batch', 'batch_atlas', 'size_factors', 'n_genes_by_counts', 'log1p_n_genes_by_counts', 'total_counts', 'log1p_total_counts', 'pct_counts_in_top_50_genes', 'pct_counts_in_top_100_genes', 'pct_counts_in_top_200_genes', 'pct_counts_in_top_500_genes', 'new_totals_log', 'anno_level_1', 'anno_level_2', 'anno_level_3', 'anno_level_4', 'anno_level_5', 'mix_level_1', 'mix_level_2', 'merge_id_level3', 'merge_id_level4', 'merge_id_level5', 'cellid', 'leiden_clusters_level_1', 'leiden_clusters_level_2', 'leiden_clusters_level_3', 'leiden_clusters_level_4', 'leiden_clusters_level_5', 'leiden_clusters_level_6', 'leiden_clusters_level_7', 'K2', 'K7', 'K19', 'K36', 'K66', 'K112', 'K220', 'C2', 'C7', 'C19', 'C36', 'C49', 'C90', 'C137', 'C2_named', 'C7_named', 'C19_named', 'C36_named', 'C49_named', 'C90_named', 'C137_named', 'sample_coarse', 'Unnamed: 0', 'louvain', 'tissue', 'stage', 'lineage_chondro', 'lineage_laFibro', 'lineage_lepr', 'lineage_mesenchyme', 'mes_merge', 'mes_test', '_scvi_batch', '_scvi_labels', 'prediction'\n",
       "    uns: '_scvi_uuid', '_scvi_manager_uuid'\n",
       "    obsm: 'X_draw_graph_fa', 'X_scANVI', 'X_umap'\n",
       "    layers: 'counts'"
      ]
     },
     "execution_count": 140,
     "metadata": {},
     "output_type": "execute_result"
    }
   ],
   "source": [
    "adata_concat"
   ]
  },
  {
   "cell_type": "code",
   "execution_count": 148,
   "id": "ffb3b511",
   "metadata": {},
   "outputs": [],
   "source": [
    "diff = list(set(adata_concat.obs_names) - set(y_test.index))"
   ]
  },
  {
   "cell_type": "code",
   "execution_count": 146,
   "id": "ebf1e98e",
   "metadata": {},
   "outputs": [
    {
     "data": {
      "text/plain": [
       "array([False, False, False, False, False, False, False, ..., False, False,\n",
       "       False, False, False, False, False])"
      ]
     },
     "execution_count": 146,
     "metadata": {},
     "output_type": "execute_result"
    }
   ],
   "source": [
    "y_train"
   ]
  },
  {
   "cell_type": "code",
   "execution_count": 150,
   "id": "0cab69c8",
   "metadata": {},
   "outputs": [],
   "source": [
    "y_train_lepr=adata_concat.obs[\"lineage_lepr\"][diff].values"
   ]
  },
  {
   "cell_type": "code",
   "execution_count": 153,
   "id": "cb7ca7ba",
   "metadata": {},
   "outputs": [],
   "source": [
    "y_test_lepr=adata_concat.obs[\"lineage_lepr\"][y_test.index].values"
   ]
  },
  {
   "cell_type": "code",
   "execution_count": 152,
   "id": "df4fb6f6",
   "metadata": {},
   "outputs": [
    {
     "data": {
      "text/plain": [
       "39310"
      ]
     },
     "execution_count": 152,
     "metadata": {},
     "output_type": "execute_result"
    }
   ],
   "source": [
    "sum(y_train_lepr)"
   ]
  },
  {
   "cell_type": "code",
   "execution_count": 154,
   "id": "6db92175",
   "metadata": {},
   "outputs": [
    {
     "data": {
      "text/plain": [
       "26014"
      ]
     },
     "execution_count": 154,
     "metadata": {},
     "output_type": "execute_result"
    }
   ],
   "source": [
    "sum(y_test_lepr)"
   ]
  },
  {
   "cell_type": "code",
   "execution_count": 143,
   "id": "dceb279c",
   "metadata": {},
   "outputs": [
    {
     "data": {
      "text/plain": [
       "65324"
      ]
     },
     "execution_count": 143,
     "metadata": {},
     "output_type": "execute_result"
    }
   ],
   "source": [
    "sum(y_train)"
   ]
  },
  {
   "cell_type": "code",
   "execution_count": 157,
   "id": "0682e534",
   "metadata": {},
   "outputs": [],
   "source": [
    "rfc_lepr = RandomForestClassifier(n_estimators = 50,n_jobs=-1)"
   ]
  },
  {
   "cell_type": "code",
   "execution_count": 158,
   "id": "24587af8",
   "metadata": {},
   "outputs": [
    {
     "data": {
      "text/html": [
       "<style>#sk-container-id-1 {color: black;background-color: white;}#sk-container-id-1 pre{padding: 0;}#sk-container-id-1 div.sk-toggleable {background-color: white;}#sk-container-id-1 label.sk-toggleable__label {cursor: pointer;display: block;width: 100%;margin-bottom: 0;padding: 0.3em;box-sizing: border-box;text-align: center;}#sk-container-id-1 label.sk-toggleable__label-arrow:before {content: \"▸\";float: left;margin-right: 0.25em;color: #696969;}#sk-container-id-1 label.sk-toggleable__label-arrow:hover:before {color: black;}#sk-container-id-1 div.sk-estimator:hover label.sk-toggleable__label-arrow:before {color: black;}#sk-container-id-1 div.sk-toggleable__content {max-height: 0;max-width: 0;overflow: hidden;text-align: left;background-color: #f0f8ff;}#sk-container-id-1 div.sk-toggleable__content pre {margin: 0.2em;color: black;border-radius: 0.25em;background-color: #f0f8ff;}#sk-container-id-1 input.sk-toggleable__control:checked~div.sk-toggleable__content {max-height: 200px;max-width: 100%;overflow: auto;}#sk-container-id-1 input.sk-toggleable__control:checked~label.sk-toggleable__label-arrow:before {content: \"▾\";}#sk-container-id-1 div.sk-estimator input.sk-toggleable__control:checked~label.sk-toggleable__label {background-color: #d4ebff;}#sk-container-id-1 div.sk-label input.sk-toggleable__control:checked~label.sk-toggleable__label {background-color: #d4ebff;}#sk-container-id-1 input.sk-hidden--visually {border: 0;clip: rect(1px 1px 1px 1px);clip: rect(1px, 1px, 1px, 1px);height: 1px;margin: -1px;overflow: hidden;padding: 0;position: absolute;width: 1px;}#sk-container-id-1 div.sk-estimator {font-family: monospace;background-color: #f0f8ff;border: 1px dotted black;border-radius: 0.25em;box-sizing: border-box;margin-bottom: 0.5em;}#sk-container-id-1 div.sk-estimator:hover {background-color: #d4ebff;}#sk-container-id-1 div.sk-parallel-item::after {content: \"\";width: 100%;border-bottom: 1px solid gray;flex-grow: 1;}#sk-container-id-1 div.sk-label:hover label.sk-toggleable__label {background-color: #d4ebff;}#sk-container-id-1 div.sk-serial::before {content: \"\";position: absolute;border-left: 1px solid gray;box-sizing: border-box;top: 0;bottom: 0;left: 50%;z-index: 0;}#sk-container-id-1 div.sk-serial {display: flex;flex-direction: column;align-items: center;background-color: white;padding-right: 0.2em;padding-left: 0.2em;position: relative;}#sk-container-id-1 div.sk-item {position: relative;z-index: 1;}#sk-container-id-1 div.sk-parallel {display: flex;align-items: stretch;justify-content: center;background-color: white;position: relative;}#sk-container-id-1 div.sk-item::before, #sk-container-id-1 div.sk-parallel-item::before {content: \"\";position: absolute;border-left: 1px solid gray;box-sizing: border-box;top: 0;bottom: 0;left: 50%;z-index: -1;}#sk-container-id-1 div.sk-parallel-item {display: flex;flex-direction: column;z-index: 1;position: relative;background-color: white;}#sk-container-id-1 div.sk-parallel-item:first-child::after {align-self: flex-end;width: 50%;}#sk-container-id-1 div.sk-parallel-item:last-child::after {align-self: flex-start;width: 50%;}#sk-container-id-1 div.sk-parallel-item:only-child::after {width: 0;}#sk-container-id-1 div.sk-dashed-wrapped {border: 1px dashed gray;margin: 0 0.4em 0.5em 0.4em;box-sizing: border-box;padding-bottom: 0.4em;background-color: white;}#sk-container-id-1 div.sk-label label {font-family: monospace;font-weight: bold;display: inline-block;line-height: 1.2em;}#sk-container-id-1 div.sk-label-container {text-align: center;}#sk-container-id-1 div.sk-container {/* jupyter's `normalize.less` sets `[hidden] { display: none; }` but bootstrap.min.css set `[hidden] { display: none !important; }` so we also need the `!important` here to be able to override the default hidden behavior on the sphinx rendered scikit-learn.org. See: https://github.com/scikit-learn/scikit-learn/issues/21755 */display: inline-block !important;position: relative;}#sk-container-id-1 div.sk-text-repr-fallback {display: none;}</style><div id=\"sk-container-id-1\" class=\"sk-top-container\"><div class=\"sk-text-repr-fallback\"><pre>RandomForestClassifier(n_estimators=50, n_jobs=-1)</pre><b>In a Jupyter environment, please rerun this cell to show the HTML representation or trust the notebook. <br />On GitHub, the HTML representation is unable to render, please try loading this page with nbviewer.org.</b></div><div class=\"sk-container\" hidden><div class=\"sk-item\"><div class=\"sk-estimator sk-toggleable\"><input class=\"sk-toggleable__control sk-hidden--visually\" id=\"sk-estimator-id-1\" type=\"checkbox\" checked><label for=\"sk-estimator-id-1\" class=\"sk-toggleable__label sk-toggleable__label-arrow\">RandomForestClassifier</label><div class=\"sk-toggleable__content\"><pre>RandomForestClassifier(n_estimators=50, n_jobs=-1)</pre></div></div></div></div></div>"
      ],
      "text/plain": [
       "RandomForestClassifier(n_estimators=50, n_jobs=-1)"
      ]
     },
     "execution_count": 158,
     "metadata": {},
     "output_type": "execute_result"
    }
   ],
   "source": [
    "rfc_lepr.fit(X_train, y_train_lepr)"
   ]
  },
  {
   "cell_type": "code",
   "execution_count": 159,
   "id": "7bfc4e88",
   "metadata": {},
   "outputs": [],
   "source": [
    "predicted_lepr = rfc_lepr.predict(X_test)\n",
    "accuracy_lepr_rf=sum(predicted_lepr==y_test_lepr)/len(y_test_lepr)"
   ]
  },
  {
   "cell_type": "code",
   "execution_count": 160,
   "id": "c7c81e74",
   "metadata": {},
   "outputs": [
    {
     "data": {
      "text/plain": [
       "0.8080058975304092"
      ]
     },
     "execution_count": 160,
     "metadata": {},
     "output_type": "execute_result"
    }
   ],
   "source": [
    "accuracy_mes_rf"
   ]
  },
  {
   "cell_type": "code",
   "execution_count": 163,
   "id": "1ce596a5",
   "metadata": {},
   "outputs": [],
   "source": [
    "from sklearn.metrics import accuracy_score, confusion_matrix, precision_score, recall_score, ConfusionMatrixDisplay\n",
    "\n",
    "accuracy_lepr = accuracy_score(y_test_lepr, predicted_lepr)"
   ]
  },
  {
   "cell_type": "code",
   "execution_count": 165,
   "id": "b3557f63",
   "metadata": {},
   "outputs": [],
   "source": [
    "adata_concat.obs[\"lepr_test\"]=adata_concat.obs[\"lineage_lepr\"]"
   ]
  },
  {
   "cell_type": "code",
   "execution_count": 173,
   "id": "59c919fe",
   "metadata": {
    "scrolled": true
   },
   "outputs": [
    {
     "name": "stderr",
     "output_type": "stream",
     "text": [
      "/tmp/ipykernel_3932753/1706647893.py:1: SettingWithCopyWarning: \n",
      "A value is trying to be set on a copy of a slice from a DataFrame\n",
      "\n",
      "See the caveats in the documentation: https://pandas.pydata.org/pandas-docs/stable/user_guide/indexing.html#returning-a-view-versus-a-copy\n",
      "  adata_concat.obs[\"lepr_test\"][y_test.index]=\"Unkown\"\n"
     ]
    }
   ],
   "source": [
    "adata_concat.obs[\"lepr_test\"][y_test.index]=\"Unkown\"\n",
    "adata_concat.obs[\"lepr_test\"]=adata_concat.obs[\"lepr_test\"].replace(True,\"True\")\n",
    "adata_concat.obs[\"lepr_test\"]=adata_concat.obs[\"lepr_test\"].replace(False,\"False\")"
   ]
  },
  {
   "cell_type": "code",
   "execution_count": 299,
   "id": "1281b72b",
   "metadata": {},
   "outputs": [
    {
     "data": {
      "text/plain": [
       "'Unkown'"
      ]
     },
     "execution_count": 299,
     "metadata": {},
     "output_type": "execute_result"
    }
   ],
   "source": [
    "scanvae.unlabeled_category_"
   ]
  },
  {
   "cell_type": "code",
   "execution_count": 174,
   "id": "0a2d5621",
   "metadata": {},
   "outputs": [],
   "source": [
    "sca.models.SCVI.setup_anndata(adata_concat, batch_key=\"batch\", labels_key=\"lepr_test\")"
   ]
  },
  {
   "cell_type": "code",
   "execution_count": 175,
   "id": "c79213b1",
   "metadata": {},
   "outputs": [],
   "source": [
    "vae_lepr = sca.models.SCVI(\n",
    "    adata_concat,\n",
    "    n_layers=2,\n",
    "    encode_covariates=True,\n",
    "    deeply_inject_covariates=False,\n",
    "    use_layer_norm=\"both\",\n",
    "    use_batch_norm=\"none\",\n",
    ")"
   ]
  },
  {
   "cell_type": "code",
   "execution_count": 181,
   "id": "ce15e3e5",
   "metadata": {},
   "outputs": [
    {
     "name": "stderr",
     "output_type": "stream",
     "text": [
      "GPU available: True (cuda), used: True\n",
      "TPU available: False, using: 0 TPU cores\n",
      "IPU available: False, using: 0 IPUs\n",
      "HPU available: False, using: 0 HPUs\n",
      "LOCAL_RANK: 0 - CUDA_VISIBLE_DEVICES: [0]\n"
     ]
    },
    {
     "name": "stdout",
     "output_type": "stream",
     "text": [
      "Epoch 24/24: 100%|██████████| 24/24 [23:34<00:00, 58.82s/it, loss=906, v_num=1]"
     ]
    },
    {
     "name": "stderr",
     "output_type": "stream",
     "text": [
      "`Trainer.fit` stopped: `max_epochs=24` reached.\n"
     ]
    },
    {
     "name": "stdout",
     "output_type": "stream",
     "text": [
      "Epoch 24/24: 100%|██████████| 24/24 [23:34<00:00, 58.92s/it, loss=906, v_num=1]\n"
     ]
    }
   ],
   "source": [
    "vae_lepr.train()"
   ]
  },
  {
   "cell_type": "code",
   "execution_count": 182,
   "id": "89042046",
   "metadata": {},
   "outputs": [],
   "source": [
    "scanvae_lepr = sca.models.SCANVI.from_scvi_model(vae_lepr,unlabeled_category=\"Unkown\")"
   ]
  },
  {
   "cell_type": "code",
   "execution_count": 183,
   "id": "fe53101e",
   "metadata": {},
   "outputs": [
    {
     "name": "stdout",
     "output_type": "stream",
     "text": [
      "\u001b[34mINFO    \u001b[0m Training for \u001b[1;36m20\u001b[0m epochs.                                                                                   \n"
     ]
    },
    {
     "name": "stderr",
     "output_type": "stream",
     "text": [
      "GPU available: True (cuda), used: True\n",
      "TPU available: False, using: 0 TPU cores\n",
      "IPU available: False, using: 0 IPUs\n",
      "HPU available: False, using: 0 HPUs\n",
      "LOCAL_RANK: 0 - CUDA_VISIBLE_DEVICES: [0]\n"
     ]
    },
    {
     "name": "stdout",
     "output_type": "stream",
     "text": [
      "Epoch 20/20: 100%|██████████| 20/20 [29:34<00:00, 88.84s/it, loss=921, v_num=1]"
     ]
    },
    {
     "name": "stderr",
     "output_type": "stream",
     "text": [
      "`Trainer.fit` stopped: `max_epochs=20` reached.\n"
     ]
    },
    {
     "name": "stdout",
     "output_type": "stream",
     "text": [
      "Epoch 20/20: 100%|██████████| 20/20 [29:34<00:00, 88.74s/it, loss=921, v_num=1]\n"
     ]
    }
   ],
   "source": [
    "scanvae_lepr.train(max_epochs=20)"
   ]
  },
  {
   "cell_type": "code",
   "execution_count": null,
   "id": "bfd8b737",
   "metadata": {},
   "outputs": [],
   "source": []
  },
  {
   "cell_type": "code",
   "execution_count": 191,
   "id": "c718d5a7",
   "metadata": {},
   "outputs": [],
   "source": [
    "scanvae_lepr.save(\"../result/6.24_lineage_predict/scanvae_lepr\", overwrite=True)"
   ]
  },
  {
   "cell_type": "code",
   "execution_count": 297,
   "id": "2e53b45d",
   "metadata": {},
   "outputs": [
    {
     "name": "stdout",
     "output_type": "stream",
     "text": [
      "\u001b[34mINFO    \u001b[0m File ..\u001b[35m/result/6.24_lineage_predict/scanvae_lepr/\u001b[0m\u001b[95mmodel.pt\u001b[0m already downloaded                              \n"
     ]
    }
   ],
   "source": [
    "model_test = scvi.model.SCANVI.load(\"../result/6.24_lineage_predict/scanvae_lepr\", adata_concat)"
   ]
  },
  {
   "cell_type": "code",
   "execution_count": 296,
   "id": "61b3d828",
   "metadata": {},
   "outputs": [
    {
     "data": {
      "text/html": [
       "<pre style=\"white-space:pre;overflow-x:auto;line-height:normal;font-family:Menlo,'DejaVu Sans Mono',consolas,'Courier New',monospace\">ScanVI Model with the following params: \n",
       "unlabeled_category: Unkown, n_hidden: <span style=\"color: #008080; text-decoration-color: #008080; font-weight: bold\">128</span>, n_latent: <span style=\"color: #008080; text-decoration-color: #008080; font-weight: bold\">10</span>, n_layers: <span style=\"color: #008080; text-decoration-color: #008080; font-weight: bold\">2</span>, dropout_rate: <span style=\"color: #008080; text-decoration-color: #008080; font-weight: bold\">0.1</span>, dispersion: gene, \n",
       "gene_likelihood: zinb\n",
       "Training status: Trained\n",
       "</pre>\n"
      ],
      "text/plain": [
       "ScanVI Model with the following params: \n",
       "unlabeled_category: Unkown, n_hidden: \u001b[1;36m128\u001b[0m, n_latent: \u001b[1;36m10\u001b[0m, n_layers: \u001b[1;36m2\u001b[0m, dropout_rate: \u001b[1;36m0.1\u001b[0m, dispersion: gene, \n",
       "gene_likelihood: zinb\n",
       "Training status: Trained\n"
      ]
     },
     "metadata": {},
     "output_type": "display_data"
    },
    {
     "data": {
      "text/plain": []
     },
     "execution_count": 296,
     "metadata": {},
     "output_type": "execute_result"
    }
   ],
   "source": [
    "scanvae_lepr"
   ]
  },
  {
   "cell_type": "code",
   "execution_count": 298,
   "id": "9aea47a5",
   "metadata": {},
   "outputs": [
    {
     "data": {
      "text/html": [
       "<pre style=\"white-space:pre;overflow-x:auto;line-height:normal;font-family:Menlo,'DejaVu Sans Mono',consolas,'Courier New',monospace\">ScanVI Model with the following params: \n",
       "unlabeled_category: Unkown, n_hidden: <span style=\"color: #008080; text-decoration-color: #008080; font-weight: bold\">128</span>, n_latent: <span style=\"color: #008080; text-decoration-color: #008080; font-weight: bold\">10</span>, n_layers: <span style=\"color: #008080; text-decoration-color: #008080; font-weight: bold\">2</span>, dropout_rate: <span style=\"color: #008080; text-decoration-color: #008080; font-weight: bold\">0.1</span>, dispersion: gene, \n",
       "gene_likelihood: zinb\n",
       "Training status: Trained\n",
       "</pre>\n"
      ],
      "text/plain": [
       "ScanVI Model with the following params: \n",
       "unlabeled_category: Unkown, n_hidden: \u001b[1;36m128\u001b[0m, n_latent: \u001b[1;36m10\u001b[0m, n_layers: \u001b[1;36m2\u001b[0m, dropout_rate: \u001b[1;36m0.1\u001b[0m, dispersion: gene, \n",
       "gene_likelihood: zinb\n",
       "Training status: Trained\n"
      ]
     },
     "metadata": {},
     "output_type": "display_data"
    },
    {
     "data": {
      "text/plain": []
     },
     "execution_count": 298,
     "metadata": {},
     "output_type": "execute_result"
    }
   ],
   "source": [
    "model_test"
   ]
  },
  {
   "cell_type": "code",
   "execution_count": 185,
   "id": "3ac6aca5",
   "metadata": {},
   "outputs": [],
   "source": [
    "adata_concat.obs[\"lepr_prediction\"]=scanvae_lepr.predict()"
   ]
  },
  {
   "cell_type": "code",
   "execution_count": 186,
   "id": "fa1623cc",
   "metadata": {},
   "outputs": [],
   "source": [
    "adata_concat.obs[\"lepr_prediction\"]=adata_concat.obs[\"lepr_prediction\"].replace(\"True\",True)\n",
    "adata_concat.obs[\"lepr_prediction\"]=adata_concat.obs[\"lepr_prediction\"].replace(\"False\",False)"
   ]
  },
  {
   "cell_type": "code",
   "execution_count": 188,
   "id": "f379db2c",
   "metadata": {},
   "outputs": [],
   "source": [
    "accuracy_lepr_arches=sum(adata_concat.obs[\"lepr_prediction\"][y_test.index]==adata_concat.obs[\"lineage_lepr\"][y_test.index])/len(adata_concat.obs[\"lineage_lepr\"][y_test.index])"
   ]
  },
  {
   "cell_type": "code",
   "execution_count": 189,
   "id": "f1a9f476",
   "metadata": {},
   "outputs": [
    {
     "data": {
      "text/plain": [
       "0.993328418724659"
      ]
     },
     "execution_count": 189,
     "metadata": {},
     "output_type": "execute_result"
    }
   ],
   "source": [
    "accuracy_lepr_arches"
   ]
  },
  {
   "cell_type": "code",
   "execution_count": 190,
   "id": "1a336c93",
   "metadata": {},
   "outputs": [
    {
     "name": "stderr",
     "output_type": "stream",
     "text": [
      "/tmp/ipykernel_3932753/3572145086.py:2: SettingWithCopyWarning: \n",
      "A value is trying to be set on a copy of a slice from a DataFrame\n",
      "\n",
      "See the caveats in the documentation: https://pandas.pydata.org/pandas-docs/stable/user_guide/indexing.html#returning-a-view-versus-a-copy\n",
      "  adata_concat.obs[\"chondro_test\"][y_test.index]=\"Unkown\"\n"
     ]
    }
   ],
   "source": [
    "adata_concat.obs[\"chondro_test\"]=adata_concat.obs[\"lineage_chondro\"]\n",
    "adata_concat.obs[\"chondro_test\"][y_test.index]=\"Unkown\"\n",
    "adata_concat.obs[\"chondro_test\"]=adata_concat.obs[\"chondro_test\"].replace(True,\"True\")\n",
    "adata_concat.obs[\"chondro_test\"]=adata_concat.obs[\"chondro_test\"].replace(False,\"False\")"
   ]
  },
  {
   "cell_type": "code",
   "execution_count": 192,
   "id": "7ce5c52d",
   "metadata": {},
   "outputs": [],
   "source": [
    "sca.models.SCVI.setup_anndata(adata_concat, batch_key=\"batch\", labels_key=\"chondro_test\")\n",
    "vae_chondro = sca.models.SCVI(\n",
    "    adata_concat,\n",
    "    n_layers=2,\n",
    "    encode_covariates=True,\n",
    "    deeply_inject_covariates=False,\n",
    "    use_layer_norm=\"both\",\n",
    "    use_batch_norm=\"none\",\n",
    ")"
   ]
  },
  {
   "cell_type": "code",
   "execution_count": 193,
   "id": "a41291ef",
   "metadata": {},
   "outputs": [
    {
     "name": "stderr",
     "output_type": "stream",
     "text": [
      "GPU available: True (cuda), used: True\n",
      "TPU available: False, using: 0 TPU cores\n",
      "IPU available: False, using: 0 IPUs\n",
      "HPU available: False, using: 0 HPUs\n",
      "LOCAL_RANK: 0 - CUDA_VISIBLE_DEVICES: [0]\n"
     ]
    },
    {
     "name": "stdout",
     "output_type": "stream",
     "text": [
      "Epoch 24/24: 100%|██████████| 24/24 [23:35<00:00, 59.96s/it, loss=913, v_num=1]"
     ]
    },
    {
     "name": "stderr",
     "output_type": "stream",
     "text": [
      "`Trainer.fit` stopped: `max_epochs=24` reached.\n"
     ]
    },
    {
     "name": "stdout",
     "output_type": "stream",
     "text": [
      "Epoch 24/24: 100%|██████████| 24/24 [23:35<00:00, 58.99s/it, loss=913, v_num=1]\n"
     ]
    }
   ],
   "source": [
    "vae_chondro.train()"
   ]
  },
  {
   "cell_type": "code",
   "execution_count": 194,
   "id": "fad833e7",
   "metadata": {},
   "outputs": [],
   "source": [
    "scanvae_chondro = sca.models.SCANVI.from_scvi_model(vae_chondro,unlabeled_category=\"Unkown\")"
   ]
  },
  {
   "cell_type": "code",
   "execution_count": 195,
   "id": "557eff1b",
   "metadata": {},
   "outputs": [
    {
     "name": "stdout",
     "output_type": "stream",
     "text": [
      "\u001b[34mINFO    \u001b[0m Training for \u001b[1;36m20\u001b[0m epochs.                                                                                   \n"
     ]
    },
    {
     "name": "stderr",
     "output_type": "stream",
     "text": [
      "GPU available: True (cuda), used: True\n",
      "TPU available: False, using: 0 TPU cores\n",
      "IPU available: False, using: 0 IPUs\n",
      "HPU available: False, using: 0 HPUs\n",
      "LOCAL_RANK: 0 - CUDA_VISIBLE_DEVICES: [0]\n"
     ]
    },
    {
     "name": "stdout",
     "output_type": "stream",
     "text": [
      "Epoch 20/20: 100%|██████████| 20/20 [29:26<00:00, 87.49s/it, loss=900, v_num=1]"
     ]
    },
    {
     "name": "stderr",
     "output_type": "stream",
     "text": [
      "`Trainer.fit` stopped: `max_epochs=20` reached.\n"
     ]
    },
    {
     "name": "stdout",
     "output_type": "stream",
     "text": [
      "Epoch 20/20: 100%|██████████| 20/20 [29:26<00:00, 88.31s/it, loss=900, v_num=1]\n"
     ]
    }
   ],
   "source": [
    "scanvae_chondro.train(max_epochs=20)"
   ]
  },
  {
   "cell_type": "code",
   "execution_count": 196,
   "id": "d199b106",
   "metadata": {},
   "outputs": [],
   "source": [
    "scanvae_chondro.save(\"../result/6.24_lineage_predict/scanvae_chondro\", overwrite=True)"
   ]
  },
  {
   "cell_type": "code",
   "execution_count": 197,
   "id": "ba416b41",
   "metadata": {},
   "outputs": [],
   "source": [
    "adata_concat.obs[\"chondro_prediction\"]=scanvae_chondro.predict()"
   ]
  },
  {
   "cell_type": "code",
   "execution_count": 198,
   "id": "746769f8",
   "metadata": {},
   "outputs": [],
   "source": [
    "adata_concat.obs[\"chondro_prediction\"]=adata_concat.obs[\"chondro_prediction\"].replace(\"True\",True)\n",
    "adata_concat.obs[\"chondro_prediction\"]=adata_concat.obs[\"chondro_prediction\"].replace(\"False\",False)"
   ]
  },
  {
   "cell_type": "code",
   "execution_count": 199,
   "id": "e7aba8fd",
   "metadata": {},
   "outputs": [],
   "source": [
    "accuracy_chondro_arches=sum(adata_concat.obs[\"chondro_prediction\"][y_test.index]==adata_concat.obs[\"lineage_chondro\"][y_test.index])/len(adata_concat.obs[\"lineage_chondro\"][y_test.index])"
   ]
  },
  {
   "cell_type": "code",
   "execution_count": 200,
   "id": "829ea3e9",
   "metadata": {},
   "outputs": [
    {
     "data": {
      "text/plain": [
       "0.9884039808330262"
      ]
     },
     "execution_count": 200,
     "metadata": {},
     "output_type": "execute_result"
    }
   ],
   "source": [
    "accuracy_chondro_arches"
   ]
  },
  {
   "cell_type": "code",
   "execution_count": 201,
   "id": "882ce7d7",
   "metadata": {},
   "outputs": [],
   "source": [
    "y_train_chondro=adata_concat.obs[\"lineage_chondro\"][diff].values"
   ]
  },
  {
   "cell_type": "code",
   "execution_count": 202,
   "id": "9a303997",
   "metadata": {},
   "outputs": [],
   "source": [
    "y_test_chondro=adata_concat.obs[\"lineage_chondro\"][y_test.index].values"
   ]
  },
  {
   "cell_type": "code",
   "execution_count": 203,
   "id": "4c2bc214",
   "metadata": {},
   "outputs": [
    {
     "data": {
      "text/plain": [
       "11701"
      ]
     },
     "execution_count": 203,
     "metadata": {},
     "output_type": "execute_result"
    }
   ],
   "source": [
    "sum(y_test_chondro)"
   ]
  },
  {
   "cell_type": "code",
   "execution_count": 204,
   "id": "88760523",
   "metadata": {},
   "outputs": [
    {
     "data": {
      "text/plain": [
       "17245"
      ]
     },
     "execution_count": 204,
     "metadata": {},
     "output_type": "execute_result"
    }
   ],
   "source": [
    "sum(y_train_chondro)"
   ]
  },
  {
   "cell_type": "code",
   "execution_count": 205,
   "id": "679b1030",
   "metadata": {},
   "outputs": [
    {
     "data": {
      "text/plain": [
       "65324"
      ]
     },
     "execution_count": 205,
     "metadata": {},
     "output_type": "execute_result"
    }
   ],
   "source": [
    "sum(y_train)"
   ]
  },
  {
   "cell_type": "code",
   "execution_count": 206,
   "id": "f2220650",
   "metadata": {},
   "outputs": [],
   "source": [
    "rfc_chondro = RandomForestClassifier(n_estimators = 50,n_jobs=-1)"
   ]
  },
  {
   "cell_type": "code",
   "execution_count": 207,
   "id": "d31604f5",
   "metadata": {},
   "outputs": [
    {
     "data": {
      "text/html": [
       "<style>#sk-container-id-2 {color: black;background-color: white;}#sk-container-id-2 pre{padding: 0;}#sk-container-id-2 div.sk-toggleable {background-color: white;}#sk-container-id-2 label.sk-toggleable__label {cursor: pointer;display: block;width: 100%;margin-bottom: 0;padding: 0.3em;box-sizing: border-box;text-align: center;}#sk-container-id-2 label.sk-toggleable__label-arrow:before {content: \"▸\";float: left;margin-right: 0.25em;color: #696969;}#sk-container-id-2 label.sk-toggleable__label-arrow:hover:before {color: black;}#sk-container-id-2 div.sk-estimator:hover label.sk-toggleable__label-arrow:before {color: black;}#sk-container-id-2 div.sk-toggleable__content {max-height: 0;max-width: 0;overflow: hidden;text-align: left;background-color: #f0f8ff;}#sk-container-id-2 div.sk-toggleable__content pre {margin: 0.2em;color: black;border-radius: 0.25em;background-color: #f0f8ff;}#sk-container-id-2 input.sk-toggleable__control:checked~div.sk-toggleable__content {max-height: 200px;max-width: 100%;overflow: auto;}#sk-container-id-2 input.sk-toggleable__control:checked~label.sk-toggleable__label-arrow:before {content: \"▾\";}#sk-container-id-2 div.sk-estimator input.sk-toggleable__control:checked~label.sk-toggleable__label {background-color: #d4ebff;}#sk-container-id-2 div.sk-label input.sk-toggleable__control:checked~label.sk-toggleable__label {background-color: #d4ebff;}#sk-container-id-2 input.sk-hidden--visually {border: 0;clip: rect(1px 1px 1px 1px);clip: rect(1px, 1px, 1px, 1px);height: 1px;margin: -1px;overflow: hidden;padding: 0;position: absolute;width: 1px;}#sk-container-id-2 div.sk-estimator {font-family: monospace;background-color: #f0f8ff;border: 1px dotted black;border-radius: 0.25em;box-sizing: border-box;margin-bottom: 0.5em;}#sk-container-id-2 div.sk-estimator:hover {background-color: #d4ebff;}#sk-container-id-2 div.sk-parallel-item::after {content: \"\";width: 100%;border-bottom: 1px solid gray;flex-grow: 1;}#sk-container-id-2 div.sk-label:hover label.sk-toggleable__label {background-color: #d4ebff;}#sk-container-id-2 div.sk-serial::before {content: \"\";position: absolute;border-left: 1px solid gray;box-sizing: border-box;top: 0;bottom: 0;left: 50%;z-index: 0;}#sk-container-id-2 div.sk-serial {display: flex;flex-direction: column;align-items: center;background-color: white;padding-right: 0.2em;padding-left: 0.2em;position: relative;}#sk-container-id-2 div.sk-item {position: relative;z-index: 1;}#sk-container-id-2 div.sk-parallel {display: flex;align-items: stretch;justify-content: center;background-color: white;position: relative;}#sk-container-id-2 div.sk-item::before, #sk-container-id-2 div.sk-parallel-item::before {content: \"\";position: absolute;border-left: 1px solid gray;box-sizing: border-box;top: 0;bottom: 0;left: 50%;z-index: -1;}#sk-container-id-2 div.sk-parallel-item {display: flex;flex-direction: column;z-index: 1;position: relative;background-color: white;}#sk-container-id-2 div.sk-parallel-item:first-child::after {align-self: flex-end;width: 50%;}#sk-container-id-2 div.sk-parallel-item:last-child::after {align-self: flex-start;width: 50%;}#sk-container-id-2 div.sk-parallel-item:only-child::after {width: 0;}#sk-container-id-2 div.sk-dashed-wrapped {border: 1px dashed gray;margin: 0 0.4em 0.5em 0.4em;box-sizing: border-box;padding-bottom: 0.4em;background-color: white;}#sk-container-id-2 div.sk-label label {font-family: monospace;font-weight: bold;display: inline-block;line-height: 1.2em;}#sk-container-id-2 div.sk-label-container {text-align: center;}#sk-container-id-2 div.sk-container {/* jupyter's `normalize.less` sets `[hidden] { display: none; }` but bootstrap.min.css set `[hidden] { display: none !important; }` so we also need the `!important` here to be able to override the default hidden behavior on the sphinx rendered scikit-learn.org. See: https://github.com/scikit-learn/scikit-learn/issues/21755 */display: inline-block !important;position: relative;}#sk-container-id-2 div.sk-text-repr-fallback {display: none;}</style><div id=\"sk-container-id-2\" class=\"sk-top-container\"><div class=\"sk-text-repr-fallback\"><pre>RandomForestClassifier(n_estimators=50, n_jobs=-1)</pre><b>In a Jupyter environment, please rerun this cell to show the HTML representation or trust the notebook. <br />On GitHub, the HTML representation is unable to render, please try loading this page with nbviewer.org.</b></div><div class=\"sk-container\" hidden><div class=\"sk-item\"><div class=\"sk-estimator sk-toggleable\"><input class=\"sk-toggleable__control sk-hidden--visually\" id=\"sk-estimator-id-2\" type=\"checkbox\" checked><label for=\"sk-estimator-id-2\" class=\"sk-toggleable__label sk-toggleable__label-arrow\">RandomForestClassifier</label><div class=\"sk-toggleable__content\"><pre>RandomForestClassifier(n_estimators=50, n_jobs=-1)</pre></div></div></div></div></div>"
      ],
      "text/plain": [
       "RandomForestClassifier(n_estimators=50, n_jobs=-1)"
      ]
     },
     "execution_count": 207,
     "metadata": {},
     "output_type": "execute_result"
    }
   ],
   "source": [
    "rfc_chondro.fit(X_train, y_train_chondro)"
   ]
  },
  {
   "cell_type": "code",
   "execution_count": 208,
   "id": "7fa7741b",
   "metadata": {},
   "outputs": [],
   "source": [
    "predicted_chondro = rfc_lepr.predict(X_test)\n",
    "accuracy_chondro_rf=sum(predicted_lepr==y_test_chondro)/len(y_test_chondro)"
   ]
  },
  {
   "cell_type": "code",
   "execution_count": 209,
   "id": "53ae8df2",
   "metadata": {},
   "outputs": [
    {
     "data": {
      "text/plain": [
       "0.9133431625506819"
      ]
     },
     "execution_count": 209,
     "metadata": {},
     "output_type": "execute_result"
    }
   ],
   "source": [
    "accuracy_chondro_rf"
   ]
  },
  {
   "cell_type": "code",
   "execution_count": 210,
   "id": "1ce18d7a",
   "metadata": {},
   "outputs": [
    {
     "data": {
      "text/plain": [
       "['../result/6.24_lineage_predict/rfc_chondro.joblib']"
      ]
     },
     "execution_count": 210,
     "metadata": {},
     "output_type": "execute_result"
    }
   ],
   "source": [
    "joblib.dump(rfc_chondro, \"../result/6.24_lineage_predict/rfc_chondro.joblib\")"
   ]
  },
  {
   "cell_type": "code",
   "execution_count": 215,
   "id": "f199e647",
   "metadata": {},
   "outputs": [],
   "source": [
    "Classifier = LinearSVC()\n",
    "clf_chondro = CalibratedClassifierCV(Classifier,n_jobs=-1)"
   ]
  },
  {
   "cell_type": "code",
   "execution_count": 216,
   "id": "24ad297b",
   "metadata": {},
   "outputs": [
    {
     "name": "stderr",
     "output_type": "stream",
     "text": [
      "/home/hanlitian/miniconda3/envs/py3/lib/python3.9/site-packages/sklearn/svm/_base.py:1225: ConvergenceWarning: Liblinear failed to converge, increase the number of iterations.\n",
      "  warnings.warn(\n",
      "/home/hanlitian/miniconda3/envs/py3/lib/python3.9/site-packages/sklearn/svm/_base.py:1225: ConvergenceWarning: Liblinear failed to converge, increase the number of iterations.\n",
      "  warnings.warn(\n",
      "/home/hanlitian/miniconda3/envs/py3/lib/python3.9/site-packages/sklearn/svm/_base.py:1225: ConvergenceWarning: Liblinear failed to converge, increase the number of iterations.\n",
      "  warnings.warn(\n",
      "/home/hanlitian/miniconda3/envs/py3/lib/python3.9/site-packages/sklearn/svm/_base.py:1225: ConvergenceWarning: Liblinear failed to converge, increase the number of iterations.\n",
      "  warnings.warn(\n",
      "/home/hanlitian/miniconda3/envs/py3/lib/python3.9/site-packages/sklearn/svm/_base.py:1225: ConvergenceWarning: Liblinear failed to converge, increase the number of iterations.\n",
      "  warnings.warn(\n"
     ]
    },
    {
     "data": {
      "text/html": [
       "<style>#sk-container-id-3 {color: black;background-color: white;}#sk-container-id-3 pre{padding: 0;}#sk-container-id-3 div.sk-toggleable {background-color: white;}#sk-container-id-3 label.sk-toggleable__label {cursor: pointer;display: block;width: 100%;margin-bottom: 0;padding: 0.3em;box-sizing: border-box;text-align: center;}#sk-container-id-3 label.sk-toggleable__label-arrow:before {content: \"▸\";float: left;margin-right: 0.25em;color: #696969;}#sk-container-id-3 label.sk-toggleable__label-arrow:hover:before {color: black;}#sk-container-id-3 div.sk-estimator:hover label.sk-toggleable__label-arrow:before {color: black;}#sk-container-id-3 div.sk-toggleable__content {max-height: 0;max-width: 0;overflow: hidden;text-align: left;background-color: #f0f8ff;}#sk-container-id-3 div.sk-toggleable__content pre {margin: 0.2em;color: black;border-radius: 0.25em;background-color: #f0f8ff;}#sk-container-id-3 input.sk-toggleable__control:checked~div.sk-toggleable__content {max-height: 200px;max-width: 100%;overflow: auto;}#sk-container-id-3 input.sk-toggleable__control:checked~label.sk-toggleable__label-arrow:before {content: \"▾\";}#sk-container-id-3 div.sk-estimator input.sk-toggleable__control:checked~label.sk-toggleable__label {background-color: #d4ebff;}#sk-container-id-3 div.sk-label input.sk-toggleable__control:checked~label.sk-toggleable__label {background-color: #d4ebff;}#sk-container-id-3 input.sk-hidden--visually {border: 0;clip: rect(1px 1px 1px 1px);clip: rect(1px, 1px, 1px, 1px);height: 1px;margin: -1px;overflow: hidden;padding: 0;position: absolute;width: 1px;}#sk-container-id-3 div.sk-estimator {font-family: monospace;background-color: #f0f8ff;border: 1px dotted black;border-radius: 0.25em;box-sizing: border-box;margin-bottom: 0.5em;}#sk-container-id-3 div.sk-estimator:hover {background-color: #d4ebff;}#sk-container-id-3 div.sk-parallel-item::after {content: \"\";width: 100%;border-bottom: 1px solid gray;flex-grow: 1;}#sk-container-id-3 div.sk-label:hover label.sk-toggleable__label {background-color: #d4ebff;}#sk-container-id-3 div.sk-serial::before {content: \"\";position: absolute;border-left: 1px solid gray;box-sizing: border-box;top: 0;bottom: 0;left: 50%;z-index: 0;}#sk-container-id-3 div.sk-serial {display: flex;flex-direction: column;align-items: center;background-color: white;padding-right: 0.2em;padding-left: 0.2em;position: relative;}#sk-container-id-3 div.sk-item {position: relative;z-index: 1;}#sk-container-id-3 div.sk-parallel {display: flex;align-items: stretch;justify-content: center;background-color: white;position: relative;}#sk-container-id-3 div.sk-item::before, #sk-container-id-3 div.sk-parallel-item::before {content: \"\";position: absolute;border-left: 1px solid gray;box-sizing: border-box;top: 0;bottom: 0;left: 50%;z-index: -1;}#sk-container-id-3 div.sk-parallel-item {display: flex;flex-direction: column;z-index: 1;position: relative;background-color: white;}#sk-container-id-3 div.sk-parallel-item:first-child::after {align-self: flex-end;width: 50%;}#sk-container-id-3 div.sk-parallel-item:last-child::after {align-self: flex-start;width: 50%;}#sk-container-id-3 div.sk-parallel-item:only-child::after {width: 0;}#sk-container-id-3 div.sk-dashed-wrapped {border: 1px dashed gray;margin: 0 0.4em 0.5em 0.4em;box-sizing: border-box;padding-bottom: 0.4em;background-color: white;}#sk-container-id-3 div.sk-label label {font-family: monospace;font-weight: bold;display: inline-block;line-height: 1.2em;}#sk-container-id-3 div.sk-label-container {text-align: center;}#sk-container-id-3 div.sk-container {/* jupyter's `normalize.less` sets `[hidden] { display: none; }` but bootstrap.min.css set `[hidden] { display: none !important; }` so we also need the `!important` here to be able to override the default hidden behavior on the sphinx rendered scikit-learn.org. See: https://github.com/scikit-learn/scikit-learn/issues/21755 */display: inline-block !important;position: relative;}#sk-container-id-3 div.sk-text-repr-fallback {display: none;}</style><div id=\"sk-container-id-3\" class=\"sk-top-container\"><div class=\"sk-text-repr-fallback\"><pre>CalibratedClassifierCV(base_estimator=LinearSVC(), n_jobs=-1)</pre><b>In a Jupyter environment, please rerun this cell to show the HTML representation or trust the notebook. <br />On GitHub, the HTML representation is unable to render, please try loading this page with nbviewer.org.</b></div><div class=\"sk-container\" hidden><div class=\"sk-item sk-dashed-wrapped\"><div class=\"sk-label-container\"><div class=\"sk-label sk-toggleable\"><input class=\"sk-toggleable__control sk-hidden--visually\" id=\"sk-estimator-id-3\" type=\"checkbox\" ><label for=\"sk-estimator-id-3\" class=\"sk-toggleable__label sk-toggleable__label-arrow\">CalibratedClassifierCV</label><div class=\"sk-toggleable__content\"><pre>CalibratedClassifierCV(base_estimator=LinearSVC(), n_jobs=-1)</pre></div></div></div><div class=\"sk-parallel\"><div class=\"sk-parallel-item\"><div class=\"sk-item\"><div class=\"sk-label-container\"><div class=\"sk-label sk-toggleable\"><input class=\"sk-toggleable__control sk-hidden--visually\" id=\"sk-estimator-id-4\" type=\"checkbox\" ><label for=\"sk-estimator-id-4\" class=\"sk-toggleable__label sk-toggleable__label-arrow\">base_estimator: LinearSVC</label><div class=\"sk-toggleable__content\"><pre>LinearSVC()</pre></div></div></div><div class=\"sk-serial\"><div class=\"sk-item\"><div class=\"sk-estimator sk-toggleable\"><input class=\"sk-toggleable__control sk-hidden--visually\" id=\"sk-estimator-id-5\" type=\"checkbox\" ><label for=\"sk-estimator-id-5\" class=\"sk-toggleable__label sk-toggleable__label-arrow\">LinearSVC</label><div class=\"sk-toggleable__content\"><pre>LinearSVC()</pre></div></div></div></div></div></div></div></div></div></div>"
      ],
      "text/plain": [
       "CalibratedClassifierCV(base_estimator=LinearSVC(), n_jobs=-1)"
      ]
     },
     "execution_count": 216,
     "metadata": {},
     "output_type": "execute_result"
    }
   ],
   "source": [
    "clf_chondro.fit(X_train, y_train_chondro)"
   ]
  },
  {
   "cell_type": "code",
   "execution_count": 219,
   "id": "9bacc46d",
   "metadata": {},
   "outputs": [],
   "source": [
    "predicted_chondro = clf_chondro.predict(X_test)\n",
    "accuracy_chondro_clf=sum(predicted_chondro==y_test_chondro)/len(y_test_chondro)"
   ]
  },
  {
   "cell_type": "code",
   "execution_count": 222,
   "id": "356352d5",
   "metadata": {},
   "outputs": [
    {
     "data": {
      "text/plain": [
       "['../result/6.24_lineage_predict/clf_chondro.joblib']"
      ]
     },
     "execution_count": 222,
     "metadata": {},
     "output_type": "execute_result"
    }
   ],
   "source": [
    "joblib.dump(rfc_chondro, \"../result/6.24_lineage_predict/clf_chondro.joblib\")"
   ]
  },
  {
   "cell_type": "code",
   "execution_count": 221,
   "id": "7db03453",
   "metadata": {},
   "outputs": [
    {
     "data": {
      "text/plain": [
       "0.913741245853299"
      ]
     },
     "execution_count": 221,
     "metadata": {},
     "output_type": "execute_result"
    }
   ],
   "source": [
    "accuracy_chondro_clf"
   ]
  },
  {
   "cell_type": "code",
   "execution_count": 225,
   "id": "5765783d",
   "metadata": {},
   "outputs": [
    {
     "data": {
      "text/plain": [
       "['Bmsc2019_Regev_b3_CTGATCCTCCAGAAGG-1_3-0-2',\n",
       " 'BmscEndosteal_Ono_Fgfr3CE_TCGACCTGTCCCTGTT-1_1-0-2',\n",
       " 'Bmsc2019_Regev_samp2_baryawno:std2_CGGAGTCGTAGCTGCC-0-2',\n",
       " 'Maxillary_Bian_E10.5_GGGGTCCTAACT_1-0',\n",
       " 'Frontal_Holmes_WTE18.5_4_ACTATTCGTCTACATG_12-0',\n",
       " 'BmscEndosteal_Ono_Prrx1creP21_CAGATTGGTCGATTTG-1_6-0-2',\n",
       " 'TCGGGTGCAGATGCGA-1_1-1-2',\n",
       " 'Forelimb_He_E13_1_limb12_13_0GATCAGTCAGATCTGT_1-1',\n",
       " 'SOXC_WT_E12.5_TTCCGTGCAGATTCGT-1_7-0',\n",
       " 'GrowthPlateP0_Mizuhashi_GCTGCAGAGCCAACCC-1-0-2',\n",
       " 'PerichondrialP21_Matsushita_FR3CreCxcl12GfpP21_TTCTCCTAGGATCGCA-1_1-0-2',\n",
       " 'BmscSpecification_Kishor_3_CTGATAGGTATTACCG_3-0-2',\n",
       " 'Septoclasts_Kishor_Pdgfra_TCGATTTAGCTACGTT_3-0-2',\n",
       " 'BmscTime_Zhong_16M_CCGGACACAGGTCTCG_4-0-2',\n",
       " 'BmscEndosteal_Ono_Prrx1cre18M_TTCACGCGTCGACTGC-1_5-0-2',\n",
       " 'LimbMouse2019_Kelly_E15_GCTCTGTAGGCTAGGT-1_3-1',\n",
       " 'BmscEndosteal_Ono_Prrx1creP21_ATCGATGCAAGGCTTT-1_6-0-2',\n",
       " 'Septoclasts_Kishor_Pdgfra_TTCCTTCAGGACAAGA_3-0-2',\n",
       " 'BmscEndosteal_Ono_Prrx1creP21_GAGTTTGGTCCGTACG-1_6-0-2',\n",
       " 'Bmsc2019_Regev_b3_AGCGTCGAGAAGGCCT-1_3-0-2',\n",
       " 'Frontal_Holmes_WTP28_TCAGGGCAGTAGTCCT-1_8-0',\n",
       " 'SOXC_WT_E17.5_AGTGTTGTCGACGCTG-1_10-0',\n",
       " 'LimbMouse2019_Kelly_E15_CGTTAGACAAGGCTCC-1_3-1',\n",
       " 'Septoclasts_Kishor_Pdgfra_GCTGGGTGTTTCCATT_3-0-2',\n",
       " 'Maxillary_Bian_E14.5_E14.5-707_AAGGTACAGAATCTGACAACCACA_4-0',\n",
       " 'BmscSpecification_Kishor_3_ACACCAAGTTCCATGA_3-0-2',\n",
       " 'LimbMouse2019_Kelly_E15_ATAAGAGGTTAGTGGG-1_3-1',\n",
       " 'Bmsc2019_Regev_samp4_baryawno:std4_CATGGCGAGGATATAC-0-2',\n",
       " 'Suture2021_Farmer_E17_TCTGAGAGTGTGAAAT-2_1-0',\n",
       " 'GrowthPlateP0_Mizuhashi_GGTGTTAAGACGACTG-1-0-2',\n",
       " 'GrowthplateSox9_Abdul_WTP13_GCAGGCTCATAATGCC-1_3-0-2',\n",
       " 'SOXC_WT_E13.5_CATGCCTAGGTAATCA-1_8-0',\n",
       " 'Forelimb_He_E11_limb3_11_0CGGAGCTCATGGATGG_1-1',\n",
       " 'Bmsc2019_Regev_samp2_baryawno:std2_TCTGAGACAAGTACCT-0-2',\n",
       " 'SOXC_WT_E15.5_TCTTCGGTCTCGAGTA-1_9-0',\n",
       " 'Suture2021_Farmer_E17_GTAGGCCAGGCATGGT-1_1-0',\n",
       " 'Septoclasts_Kishor_Pdgfra_TACCGAAGTGTGTGTT_3-0-2',\n",
       " 'SOXC_WT_E15.5_CACCAGGCAAGCGATG-1_9-0',\n",
       " 'PerichondrialP21_Matsushita_Prrx1creE11.5_CGGCAGTAGACCTCCG-1_3-1',\n",
       " 'LimbG610C_Gorrell_femurWT1_CACATGATCCACGTAA-1_10-1',\n",
       " 'LimbMouse2019_Kelly_E15_GCGCAACGTACAGTTC-1_3-1',\n",
       " 'SOXC_WT_E13.5_GAAGTAACACAGTATC-1_8-0',\n",
       " 'BmscSpecification_Kishor_3_ATGTGTGAGATCTGAA_3-0-2',\n",
       " 'Ablation_Matsushita_cxcl2_GGGCTCAGTGTCTTCC-1_7-0-2',\n",
       " 'Suture2021_Farmer_E15_TTTACTGAGCATGGCA-1_2-0',\n",
       " 'LimbG610C_Gorrell_femurWT2_CTCACTGAGCCGTCGT-1_2-1',\n",
       " 'Bmsc2019_Regev_samp1_baryawno:std1_CTGCGGACATCACGTA-0-2',\n",
       " 'TAGACCAAGTAGACAT-1_4-1-2',\n",
       " 'SOXC_WT_E15.5_GACGCGTAGCTGGAAC-1_9-0',\n",
       " 'Mesenchymal2022_Zhang_E14.5_TCTCAGCAGATTACCC-2-0',\n",
       " 'SOXC_WT_E15.5_CCTTCGACACTAGTAC-1_9-0',\n",
       " 'BmscTime_Zhong_1.5M_AGCGTATCATCTGGTA_2-0-2',\n",
       " 'Maxillary_Bian_E14.5_E14.5-707_CATACCAACAAGGAGCCAAGGAGC_4-0',\n",
       " 'PerichondrialE13.5_TCAGGATAGGTAGCTG-1-1',\n",
       " 'BmscEndosteal_Ono_Fgfr3CEp53cKO_GATCGTACAGTAGAGC-1_2-0-2',\n",
       " 'GrowthPlateP0_Mizuhashi_TTGGGCGAGCGCCCAT-1-0-2',\n",
       " 'BmscEndosteal_Ono_Fgfr3CEp53cHet_ACTATGGCAGGTCCGT-1_3-0-2',\n",
       " 'LimbMouse2019_Kelly_E18_GCACATACATGCCTAA-1_4-1',\n",
       " 'TTACTGTCAGCCGTTG-1_4-1-2',\n",
       " 'TCCGTGTTCAGTGGGA-1_3-1-2',\n",
       " 'Maxillary_Bian_E11.5_AACACCAATTAC_2-0',\n",
       " 'BmscTime_Zhong_3M_CTCCTAGCATCTATGG_3-0-2',\n",
       " 'BmscTime_Zhong_1.5M_GTGAAGGTCTAGAGTC_2-0-2',\n",
       " 'Frontal_Holmes_WTE18.5_1_CATACAGGTACGAGTG-1_7-0',\n",
       " 'Frontal_Holmes_WTE18.5_4_TAATCTCGTTTACGTG_12-0',\n",
       " 'BmscSpecification_Kishor_2_CGGCTAGAGATCCCAT_2-0-2',\n",
       " 'Maxillary_Bian_E11.5_TTACCCTTCCTG_2-0',\n",
       " 'sagittal_Holmes_E18_TTGGCAAAGTGTTTGC-1-0',\n",
       " 'PerichondrialP21_Matsushita_HesCreCxcl12GfpP21_ACGCAGCGTATGAATG-1_2-0-2',\n",
       " 'CTGCTCAGTCGTATTG-1_3-1-2',\n",
       " 'SOXC_WT_E12.5_TACCTCGAGGGTGAGG-1_7-0',\n",
       " 'Maxillary_Bian_E12.5_TGACGACAGACG_3-0',\n",
       " 'BmscTime_Zhong_16M_ACTGATGCAGCGCTTG_4-0-2',\n",
       " 'BmscTime_Zhong_1M_GCATGATTCGTGGACC_1-0-2',\n",
       " 'BmscEndosteal_Ono_Fgfr3CE_AACGGGATCACATACG-1_1-0-2',\n",
       " 'PerichondrialE13.5_ACGAGCCTCCTCAATT-1-1',\n",
       " 'LimbMouse2019_Kelly_E15_GTTTCTACACGACTCG-1_3-1',\n",
       " 'Maxillary_Bian_E11.5_CGTCCCGCACAT_2-0',\n",
       " 'TACTTACTCTCATTGT-1_4-1-2',\n",
       " 'sagittal_Holmes_E18_ATGAGGGAGCACGCCT-1-0',\n",
       " 'Maxillary_Bian_E14.5_E14.5-707_AGATGTACGAGTTAGCACAGATTC_4-0',\n",
       " 'PerichondrialE13.5_TAGAGCTGTACAGTTC-1-1',\n",
       " 'BmscSpecification_Kishor_3_TGCCAAACATGGATGG_3-0-2',\n",
       " 'PerichondrialE13.5_TCCACACAGATCCCGC-1-1',\n",
       " 'coronal_Holmes_E18_1_CTACGTCGTCGCATCG-1_3-0',\n",
       " 'Septoclasts_Kishor_Pdgfra_TCCGAAATCTCTAGGA_3-0-2',\n",
       " 'Ablation_Matsushita_cxcl2_AACCCAATCCGCAACG-1_7-0-2',\n",
       " 'PerichondrialP21_Matsushita_HesCreCxcl12GfpP21_CTCGTACTCAGTCAGT-1_2-0-2',\n",
       " 'PerichondrialP21_Matsushita_Prrx1creE11.5_TTCGGTCTCTTTGCGC-1_3-1',\n",
       " 'BmscEndosteal_Ono_Prrx1creP21_AGCCAATGTTGGCCTG-1_6-0-2',\n",
       " 'SOXC_WT_E13.5_AGACTCAGTTCCGTTC-1_8-0',\n",
       " 'Ablation_Matsushita_abl7con2_TTTCATGGTAGACGGT-1_3-0-2',\n",
       " 'BmscEndosteal_Ono_Prrx1creP21_ATTATCCTCAAAGGTA-1_6-0-2',\n",
       " 'BmscTime_Zhong_16M_GTGAGGATCTTGAACG_4-0-2',\n",
       " 'BmscSpecification_Kishor_1_GTCGTAACACGCGAAA_1-0-2',\n",
       " 'Bmsc2019_Regev_samp6_baryawno:std8_CGGCTAGTCTTCGAGA-0-2',\n",
       " 'Suture2021_Farmer_E17_CGGACACAGACATAAC-2_1-0',\n",
       " 'coronal_Holmes_E18_1_CGTCTACCATATGGTC-1_3-0',\n",
       " 'Mandible2020_Chai_E12_CCTACACAGATGTGTA_2-0',\n",
       " 'BmscTime_Zhong_16M_TTCATTGCAGGTAGTG_4-0-2',\n",
       " 'LimbMouse2019_Kelly_E18_AGGGATGCAGGTGCCT-1_4-1',\n",
       " 'GrowthPlateP0_Mizuhashi_TTTACCACACGTCTCT-1-0-2',\n",
       " 'GrowthplateSox9_Abdul_WTP13_GGTGGCTCATGACCCG-1_3-0-2',\n",
       " 'Ablation_Matsushita_treat2_TAATTCCAGGGTCAAC-1_5-0-2',\n",
       " 'SOXC_WT_E17.5_GGCAGTCAGGTTGGTG-1_10-0',\n",
       " 'Mesenchymal2022_Zhang_E14.5_TAACACGCAGGTTACT-2-0',\n",
       " 'sagittal_Holmes_E18_CTACATTAGCCGGTAA-1-0',\n",
       " 'Forelimb_He_E11_limb3_11_0TCGTACCTCTAACTCT_1-1',\n",
       " 'GrowthplateSox9_Abdul_WTP19_ACAACCAGTATCCCAA-1_4-0-2',\n",
       " 'Bmsc2019_Regev_b3_TCGTACCAGGGTATCG-1_3-0-2',\n",
       " 'BmscTime_Zhong_16M_TGTGAGTTCGGTGAAG_4-0-2',\n",
       " 'Ablation_Matsushita_treat2_GGGTATTAGCAGGCAT-1_5-0-2',\n",
       " 'BmscSpecification_Kishor_3_ACACCGGAGATCCTGT_3-0-2',\n",
       " 'Mandible2020_Chai_E12_CACACTCAGGACTGGT_2-0',\n",
       " 'Bmsc2019_Regev_b3_GCTTCCAAGACCTAGG-1_3-0-2',\n",
       " 'Ablation_Matsushita_treat2_CCCTCAAGTTATTCCT-1_5-0-2',\n",
       " 'Bmsc2019_Regev_bm1_TGGTTAGGTTATGTGC-1_1-0-2',\n",
       " 'SOXC_WT_E13.5_TGTCAGATCCAATGCA-1_8-0',\n",
       " 'Septoclasts_Kishor_Pdgfra_CGATGGCGTCTAACTG_3-0-2',\n",
       " 'SOXC_WT_E12.5_CTCTCAGGTTGCATTG-1_7-0',\n",
       " 'Mesenchymal2022_Zhang_E11.5_CTGCAGGGTCGTATGT-1-0',\n",
       " 'Forelimb_He_E13.5_limb1_13_5GTATTCTTCGCGTTTC_1-1',\n",
       " 'PerichondrialE13.5_GGAGCAAAGCAGATCG-1-1',\n",
       " 'Frontal_Holmes_WTE18.5_1_CGAGTGCGTTATGGTC-1_7-0',\n",
       " 'BmscEndosteal_Ono_Fgfr3CEp53cHet_ATTCCATCAAATCCCA-1_3-0-2',\n",
       " 'Mandible2020_Chai_AACCATGGTGAGGGAG-0',\n",
       " 'Forelimb_He_E13_2_limb5_13_0TCAGCAAAGGGCTCTC_1-1',\n",
       " 'Bmsc2019_Regev_samp4_baryawno:std4_CAACTAGAGGTGACCA-0-2',\n",
       " 'Bmsc2019_Regev_samp4_baryawno:std4_GGCTCGATCCAGAGGA-0-2',\n",
       " 'Mandible2020_Chai_E12_CGCTTCATCATGGTCA_2-0',\n",
       " 'SOXC_WT_E13.5_AACCCAATCTTCGATT-1_8-0',\n",
       " 'BmscTime_Zhong_1.5M_ACCCACTTCATGTGGT_2-0-2',\n",
       " 'SOXC_WT_E13.5_GTCATCCCATCAACCA-1_8-0',\n",
       " 'TACCGAACATGAGAAT-1_1-1-2',\n",
       " 'Bmsc2019_Regev_bm1_TGACGGCCAGTAGAGC-1_1-0-2',\n",
       " 'Mesenchymal2022_Zhang_E14.5_CCTCAGTCAAGGCAAC-2-0',\n",
       " 'Septoclasts_Kishor_Pdgfra_CTACCCACATTCTCTA_3-0-2',\n",
       " 'Mandible2020_Chai_TTAGGACCATTCCTGC-0',\n",
       " 'Maxillary_Bian_E10.5_AACGCCCGACAG_1-0',\n",
       " 'Forelimb_He_E14_limb13_14_0TGGCTGGAGTCATCCA_1-1',\n",
       " 'Suture2021_Farmer_E17_ATTGGACAGAAGCCCA-2_1-0',\n",
       " 'Maxillary_Bian_E14.5_E14.5-707_AGAGTCAATGGCTTCACCGACAAC_4-0',\n",
       " 'BmscEndosteal_Ono_Fgfr3CEp53cKO_TTAGGGTAGAGTGACC-1_2-0-2',\n",
       " 'Maxillary_Bian_E12.5_CAGACCCGAATC_3-0',\n",
       " 'Bmsc2019_Regev_b3_TTTCCTCGTCACCTAA-1_3-0-2',\n",
       " 'Septoclasts_Kishor_Pdgfra_GTACAACAGTCGAATA_3-0-2',\n",
       " 'SOXC_WT_E17.5_AGCGCCACACTATGTG-1_10-0',\n",
       " 'Forelimb_He_E13.5_limb1_13_5CGTTAGACATTTGCTT_1-1',\n",
       " 'Bmsc2019_Regev_b1_CTTAACTAGGGTCGAT-1_1-0-2',\n",
       " 'Bmsc2019_Regev_b1_AAGCCGCGTTAGTGGG-1_1-0-2',\n",
       " 'BmscEndosteal_Ono_Fgfr3CEp53cKO_GGGTTATGTGGTCCCA-1_2-0-2',\n",
       " 'PerichondrialP21_Matsushita_FR3CreCxcl12GfpP21_GAACATCGTAACGCGA-1_1-0-2',\n",
       " 'Bmsc2019_Regev_samp4_baryawno:std4_GCCTCTACAAACGTGG-0-2',\n",
       " 'Frontal_Holmes_WTE18.5_2_GAGCAGAGTTACGCGC_10-0',\n",
       " 'Mesenchymal2022_Zhang_E14.5_CATTCCGGTTGCACGC-2-0',\n",
       " 'SOXC_WT_E15.5_CATGGCGCAGCGTAAG-1_9-0',\n",
       " 'BmscEndosteal_Ono_Fgfr3CE_AGGGTCCAGGATGTTA-1_1-0-2',\n",
       " 'Maxillary_Bian_E10.5_GGGCTCCTGTTC_1-0',\n",
       " 'Septoclasts_Kishor_Pdgfra_TTACTGTTCCCAGTGG_3-0-2',\n",
       " 'coronal_Holmes_E16_2_TGAGCATGTTGTCTAG-1_2-0',\n",
       " 'GrowthPlateP0_Mizuhashi_CTCAAGAAGAGAGCAA-1-0-2',\n",
       " 'BmscTime_Zhong_1M_GCGCCAATCTGTTTGT_1-0-2',\n",
       " 'Maxillary_Bian_E12.5_GGGGTTATCGAT_3-0',\n",
       " 'LimbMouse2019_Kelly_E11_CGTGTCTCACGGCTAC-1_1-1',\n",
       " 'Ablation_Matsushita_abl14_GACTGCGCAGTGACAG-1_1-0-2',\n",
       " 'LimbG610C_Gorrell_femurWT2_TTCGGTCTCGAGTGGA-1_2-1',\n",
       " 'Maxillary_Bian_E11.5_CCCGAGAGGCTG_2-0',\n",
       " 'Bmsc2019_Regev_b2_CACTCCAGTCAGAGGT-1_2-0-2',\n",
       " 'Bmsc2019_Regev_b1_GAAACTCTCTGGTGTA-1_1-0-2',\n",
       " 'BmscTime_Zhong_1M_GTAACTGGTACTTCTT_1-0-2',\n",
       " 'Maxillary_Bian_E11.5_GCGGCCCTGCCA_2-0',\n",
       " 'Mesenchymal2022_Zhang_E11.5_GACCCTTGTCTGCGCA-1-0',\n",
       " 'Frontal_Holmes_WTE18.5_4_GTAACACGTCCACAGC_12-0',\n",
       " 'Maxillary_Bian_E12.5_TGACTCCTGGTA_3-0',\n",
       " 'Suture2021_Farmer_E17_TGTGGTAGTTAGTGGG-3_1-0',\n",
       " 'BmscTime_Zhong_16M_GGGTGAAAGCACTCTA_4-0-2',\n",
       " 'Forelimb_He_E11_limb3_11_0CGTGTAATCCGCGGTA_1-1',\n",
       " 'lambdoid_Holmes_P10_GGGATGACAGCGTAAG_2-0',\n",
       " 'GrowthPlateP0_Mizuhashi_ACTGATGGTCATCTAG-1-0-2',\n",
       " 'BmscSpecification_Kishor_3_TACACGATCACTGGGC_3-0-2',\n",
       " 'BmscTime_Zhong_1.5M_CTTTGCGGTCCGAGTC_2-0-2',\n",
       " 'BmscEndosteal_Ono_Prrx1cre18M_CGATGCGGTGTGACCC-1_5-0-2',\n",
       " 'Forelimb_He_E13_1_limb12_13_0AACTTTCGTTCGTCTC_1-1',\n",
       " 'BmscEndosteal_Ono_Prrx1creP21_ATTCAGGGTAAGTCAA-1_6-0-2',\n",
       " 'BmscEndosteal_Ono_Prrx1creP21_TGGGTTAAGAAGGGAT-1_6-0-2',\n",
       " 'Forelimb_He_E11_limb3_11_0AGAATAGCATGTCGAT_1-1',\n",
       " 'SOXC_WT_E15.5_TTCGAAGCACATGACT-1_9-0',\n",
       " 'Mesenchymal2022_Zhang_E11.5_CCTTTGGCATATGCGT-1-0',\n",
       " 'SOXC_WT_E13.5_GGAGAACTCACTACGA-1_8-0',\n",
       " 'SOXC_WT_E17.5_TTTGGAGGTCAAGCCC-1_10-0',\n",
       " 'PerichondrialP21_Matsushita_FR3CreCxcl12GfpP21_GCGCAGTCAGTAAGCG-1_1-0-2',\n",
       " 'BmscSpecification_Kishor_4_CTGCCTAAGATAGTCA_4-0-2',\n",
       " 'BmscSpecification_Kishor_3_CTGAAACTCCAGGGCT_3-0-2',\n",
       " 'GrowthplateSox9_Abdul_WTP13_CTTTCGGTCTCTTAAC-1_3-0-2',\n",
       " 'PerichondrialP21_Matsushita_HesCreCxcl12GfpP21_CAGCATAAGAATAGGG-1_2-0-2',\n",
       " 'Maxillary_Bian_E14.5_E14.5-707_CCGTGAGAATTGAGGAATTGGCTC_4-0',\n",
       " 'Frontal_Holmes_WTE18.5_4_GCTGCAGAGTTCTCTT_12-0',\n",
       " 'sagittal_Holmes_E18_CAAGTTGCACCAGTTA-1-0',\n",
       " 'Ablation_Matsushita_treat2_AGAGAATCAAGTTCGT-1_5-0-2',\n",
       " 'SOXC_WT_E11.5_GATGAGGGTCAGACGA-1_6-0',\n",
       " 'GrowthplateSox9_Abdul_WTP13_TTCCGGTTCGGTCTAA-1_3-0-2',\n",
       " 'BmscTime_Zhong_16M_CAACAACTCCTAAGTG_4-0-2',\n",
       " 'Ablation_Matsushita_abl7con2_CGCATAACACGGGTAA-1_3-0-2',\n",
       " 'Mesenchymal2022_Zhang_E14.5_AGATCGTTCAACGCTA-2-0',\n",
       " 'Mesenchymal2022_Zhang_E11.5_CGAGGCTGTTAGCGGA-1-0',\n",
       " 'Bmsc2019_Regev_samp1_baryawno:std1_GTCACAAAGCGGATCA-0-2',\n",
       " 'GrowthplateSox9_Abdul_WTP13_TACGGTAAGCTCCGAC-1_3-0-2',\n",
       " 'Suture2021_Farmer_E15_ATCTACTAGACACGAC-1_2-0',\n",
       " 'GrowthPlateP0_Mizuhashi_GCTGCAGGTTGTACGT-1-0-2',\n",
       " 'Suture2021_Farmer_E15_GCTTCCATCGGCGGTT-1_2-0',\n",
       " 'Bmsc2019_Regev_b1_CTGAAGTTCCGTACAA-1_1-0-2',\n",
       " 'SOXC_WT_E15.5_TGGGAAGGTCCAGTAT-1_9-0',\n",
       " 'Maxillary_Bian_E12.5_CCCTTCCTTCCA_3-0',\n",
       " 'SOXC_WT_E17.5_ATCCATTAGAAGGTAG-1_10-0',\n",
       " 'GrowthPlateP0_Mizuhashi_TAGGTTGCAGGGATAC-1-0-2',\n",
       " 'SOXC_WT_E17.5_GTACAACCACTCCTGT-1_10-0',\n",
       " 'Septoclasts_Kishor_Pdgfra_GTGCGTGTCGTAGTCA_3-0-2',\n",
       " 'GrowthPlateP0_Mizuhashi_TCGACGGGTGAGCCAA-1-0-2',\n",
       " 'BmscEndosteal_Ono_Fgfr3CEp53cKO_CTAGACAAGGTCATTC-1_2-0-2',\n",
       " 'Forelimb_He_E14_limb13_14_0CCTACCAGTGTATGGG_1-1',\n",
       " 'Bmsc2019_Regev_samp1_baryawno:std1_CGCTGGACACGTGAGA-0-2',\n",
       " 'Mesenchymal2022_Zhang_E14.5_CCGTAGGGTTAGTCGT-2-0',\n",
       " 'Suture2021_Farmer_E17_ATCTGCCTCCAGGGCT-2_1-0',\n",
       " 'GrowthPlateP0_Mizuhashi_GGAGCAAAGCCGATTT-1-0-2',\n",
       " 'PerichondrialP21_Matsushita_FR3CreCxcl12GfpP21_CTGCGGACATCCGGGT-1_1-0-2',\n",
       " 'Forelimb_He_E12_limb4_12_0GATGAAATCACCCGAG_1-1',\n",
       " 'Maxillary_Bian_E12.5_CGCGTGCCGACA_3-0',\n",
       " 'Mandible2020_Chai_E12_AAAGCAACAGATAATG_2-0',\n",
       " 'BmscEndosteal_Ono_Prrx1cre18M_CTCTGGTGTCATCGGC-1_5-0-2',\n",
       " 'BmscTime_Zhong_1.5M_TAGAGCTCACGGACAA_2-0-2',\n",
       " 'SOXC_WT_E17.5_GTTGCTCTCTAGACAC-1_10-0',\n",
       " 'Bmsc2019_Regev_samp4_baryawno:std4_AACTCAGAGCGATCCC-0-2',\n",
       " 'Maxillary_Bian_E12.5_AATTTCGGCGAA_3-0',\n",
       " 'GrowthplateSox9_Abdul_WTP13_GGAGCAATCAGATGCT-1_3-0-2',\n",
       " 'CGGACACAGGGACACT-1_4-1-2',\n",
       " 'Suture2021_Farmer_E17_ACGCAGCTCCAGTATG-3_1-0',\n",
       " 'BmscSpecification_Kishor_2_ACTGATGCACGTCTCT_2-0-2',\n",
       " 'BmscTime_Zhong_3M_TACTCATTCTATCCTA_3-0-2',\n",
       " 'BmscTime_Zhong_3M_CAAGGCCGTAAGTGTA_3-0-2',\n",
       " 'CalvariaP4_Ayturk_TGGTTAGGTCGGCACT-1-0',\n",
       " 'BmscSpecification_Kishor_3_CTAACTTAGTTCCACA_3-0-2',\n",
       " 'Mandible2020_Chai_GGACGTCTCCTAGGGC-0',\n",
       " 'Maxillary_Bian_E10.5_ATTCTAGGTTCT_1-0',\n",
       " 'Bmsc2019_Regev_bm2_CTACCCAAGTATCGAA-1_2-0-2',\n",
       " 'GrowthplateSox9_Abdul_WTP13_ATTCTTGGTTTCACAG-1_3-0-2',\n",
       " 'BmscSpecification_Kishor_1_TGAGCATGTCTGCAAT_1-0-2',\n",
       " 'PerichondrialP21_Matsushita_Prrx1creE11.5_AGCGCTGCAGTTTGGT-1_3-1',\n",
       " 'Maxillary_Bian_E12.5_TTTCACTGCAAC_3-0',\n",
       " 'Suture2021_Farmer_E15_AACTTTCTCAGCTTAG-1_2-0',\n",
       " 'Septoclasts_Kishor_Pdgfra_GCACGGTAGATGGGCT_3-0-2',\n",
       " 'Maxillary_Bian_E12.5_GCGTGGTGGAAT_3-0',\n",
       " 'SOXC_WT_E12.5_CGAGGCTAGTTGAAGT-1_7-0',\n",
       " 'CTGGCAGTCATTGCCC-1_3-1-2',\n",
       " 'Septoclasts_Kishor_Pdgfra_CCGTGAGAGTTGGCTT_3-0-2',\n",
       " 'BmscTime_Zhong_16M_TAGCACATCAAGTCTG_4-0-2',\n",
       " 'Mandible2020_Chai_E12_AAACGGGAGGACCACA_2-0',\n",
       " 'BmscTime_Zhong_16M_CGTTAGAAGGGCAATC_4-0-2',\n",
       " 'Septoclasts_Kishor_Pdgfra_TCCACGTGTGTTCCTC_3-0-2',\n",
       " 'BmscTime_Zhong_1.5M_ACCTTTATCCGTCAAA_2-0-2',\n",
       " 'BmscEndosteal_Ono_Prrx1creP21_TAATTCCGTTACTCAG-1_6-0-2',\n",
       " 'Suture2021_Farmer_E17_CTCGGGAGTCATATCG-3_1-0',\n",
       " 'Suture2021_Farmer_E15_AGCATACAGTCCAGGA-1_2-0',\n",
       " 'Maxillary_Bian_E12.5_ACCGGCGGATCT_3-0',\n",
       " 'TCATCATCAAACTCTG-1_1-1-2',\n",
       " 'Bmsc2019_Regev_samp3_baryawno:std3_TACCTATCAGGGCATA-0-2',\n",
       " 'BmscEndosteal_Ono_Prrx1creP21_TGATTCTTCTTGCGCT-1_6-0-2',\n",
       " 'Frontal_Holmes_WTE18.5_3_CACTGTCAGTCAAGCG_11-0',\n",
       " 'BmscChondro_Long_ATCCGTCTCCCATGGG-0-2',\n",
       " 'Maxillary_Bian_E10.5_AGACACTGAGTG_1-0',\n",
       " 'Mesenchymal2022_Zhang_E10_TATTTCGCAAGTCCAT-3-0',\n",
       " 'PerichondrialE13.5_ACGATGTGTAGGGACT-1-1',\n",
       " 'Bmsc2019_Regev_b4_GCACTCTAGGTGTGGT-1_4-0-2',\n",
       " 'Forelimb_He_E11_limb3_11_0CGGGTCAGTCTCCATC_1-1',\n",
       " 'SOXC_WT_E13.5_TTCTTGATCAAGCCCG-1_8-0',\n",
       " 'Suture2021_Farmer_E17_CTGATCCGTCGTTGTA-2_1-0',\n",
       " 'BmscTime_Zhong_16M_ATTCTACAGGGCCCTT_4-0-2',\n",
       " 'SOXC_WT_E17.5_AACAAAGCATCAACCA-1_10-0',\n",
       " 'Ablation_Matsushita_cxcl1_TTGTTTGAGGTAGATT-1_6-0-2',\n",
       " 'Maxillary_Bian_E10.5_TCAGTGCACACA_1-0',\n",
       " 'Bmsc2019_Regev_b4_CCGGTAGGTGGCCCTA-1_4-0-2',\n",
       " 'sagittal_Holmes_E18_CACAAACAGGACAGCT-1-0',\n",
       " 'SOXC_WT_E13.5_GATGTTGGTGGCGCTT-1_8-0',\n",
       " 'BmscEndosteal_Ono_Prrx1cre18M_ACTATTCGTTAGAAAC-1_5-0-2',\n",
       " 'LimbG610C_Gorrell_femurWT3_TTGTTGTAGATGGCGT-1_4-1',\n",
       " 'Septoclasts_Kishor_Pdgfra_TTCATTGAGCATGATA_3-0-2',\n",
       " 'BmscEndosteal_Ono_Prrx1cre18M_AAGCGAGAGACCCTTA-1_5-0-2',\n",
       " 'Suture2021_Farmer_E17_CGGAGCTAGCAATCTC-3_1-0',\n",
       " 'SOXC_WT_E12.5_CTGAGGCCACATACTG-1_7-0',\n",
       " 'SOXC_WT_E17.5_TGAGGTTTCTTAGTTC-1_10-0',\n",
       " 'PerichondrialP21_Matsushita_Prrx1creE11.5_ACCCTTGGTCCACGCA-1_3-1',\n",
       " 'PerichondrialE13.5_TGCTACCTCGTCGTTC-1-1',\n",
       " 'SOXC_WT_E15.5_TGACTAGCATTGGGCC-1_9-0',\n",
       " 'BmscTime_Zhong_16M_GGGTTTACACGTGTGC_4-0-2',\n",
       " 'Ablation_Matsushita_cxcl1_AGTCATGCACGCTGCA-1_6-0-2',\n",
       " 'PerichondrialP21_Matsushita_FR3CreCxcl12GfpP21_TTGCGTCCACATTTCT-1_1-0-2',\n",
       " 'Frontal_Holmes_WTE18.5_1_GCAACATTCGCCTAGG-1_7-0',\n",
       " 'SOXC_WT_E17.5_ATCACTTCACACCTAA-1_10-0',\n",
       " 'Ablation_Matsushita_treat2_AGGGCCTTCCATTTCA-1_5-0-2',\n",
       " 'Maxillary_Bian_E14.5_E14.5-707_ACAGCAGAAACTCACCCGCATACA_4-0',\n",
       " 'SOXC_WT_E17.5_CGGGACTAGTAAATGC-1_10-0',\n",
       " 'Ablation_Matsushita_treat1_CTCTACGAGTACGTAA-1_4-0-2',\n",
       " 'PerichondrialE13.5_TGGCGCAAGTCACGCC-1-1',\n",
       " 'Maxillary_Bian_E10.5_ATCGGGGAACTA_1-0',\n",
       " 'Ablation_Matsushita_abl7con1_CGAGCCAGTGATAAGT-1_2-0-2',\n",
       " 'Ablation_Matsushita_treat2_GGGAGATTCTACGCGG-1_5-0-2',\n",
       " 'Bmsc2019_Regev_b3_CCGTACTTCCTGTACC-1_3-0-2',\n",
       " 'PerichondrialE13.5_GGAATAAGTGTAACGG-1-1',\n",
       " 'Forelimb_He_E11_limb3_11_0GGATTACGTACATGTC_1-1',\n",
       " 'Bmsc2019_Regev_samp6_baryawno:std8_CTGATCCAGCTCCCAG-0-2',\n",
       " 'BmscSpecification_Kishor_1_ACCAGTACATAGGATA_1-0-2',\n",
       " 'Maxillary_Bian_E14.5_E14.5-707_CTGTAGCCAACTCACCCAATGGAA_4-0',\n",
       " 'Bmsc2019_Regev_b1_AGTGGGATCATTCACT-1_1-0-2',\n",
       " 'Ablation_Matsushita_cxcl1_CTGGCAGCACTCTCGT-1_6-0-2',\n",
       " 'Mesenchymal2022_Zhang_E14.5_CACTAAGTCCATAAGC-2-0',\n",
       " 'Maxillary_Bian_E14.5_E14.5-707_ACCACTGTAGATGTACACGTATCA_4-0',\n",
       " 'BmscSpecification_Kishor_3_AGCGTCGCAGTAAGAT_3-0-2',\n",
       " 'PerichondrialE13.5_GTGCGGTAGTGTGAAT-1-1',\n",
       " 'BmscSpecification_Kishor_1_ACGAGGAAGGAATTAC_1-0-2',\n",
       " 'PerichondrialP21_Matsushita_FR3CreCxcl12GfpP21_GTGAAGGGTCCAGTAT-1_1-0-2',\n",
       " 'Forelimb_He_E13_1_limb12_13_0GGAATAAAGGGTTTCT_1-1',\n",
       " 'BmscEndosteal_Ono_Fgfr3CEp53cKO_AAAGTGACATCCAATG-1_2-0-2',\n",
       " 'Mesenchymal2022_Zhang_E11.5_CGAGGCTCATTCTCCG-1-0',\n",
       " 'SOXC_WT_E13.5_TGGGAGATCCATCAGA-1_8-0',\n",
       " 'Maxillary_Bian_E10.5_TCGCGTATGAAG_1-0',\n",
       " 'Maxillary_Bian_E10.5_TAAACTGGAACC_1-0',\n",
       " 'Forelimb_He_E11_limb3_11_0TAGACCACAGACAGGT_1-1',\n",
       " 'Mesenchymal2022_Zhang_E14.5_GACCGTGCAACATACC-2-0',\n",
       " 'Maxillary_Bian_E11.5_GCGTAGGTGACG_2-0',\n",
       " 'Ablation_Matsushita_cxcl1_CCGTTCACAGCACACC-1_6-0-2',\n",
       " 'BmscEndosteal_Ono_Prrx1cre18M_GTCCTCATCCTTCACG-1_5-0-2',\n",
       " 'BmscSpecification_Kishor_3_ACGATACTCACCGGGT_3-0-2',\n",
       " 'Frontal_Holmes_WTE16.5_2_TTGGGATAGGGTTAGC-1_6-0',\n",
       " 'BmscEndosteal_Ono_Prrx1cre18M_CGATGCGAGCATAGGC-1_5-0-2',\n",
       " 'LimbMouse2019_Kelly_E15_TATCAGGAGCCAGTAG-1_3-1',\n",
       " 'coronal_Holmes_E18_1_ACGCCAGGTAGGGTAC-1_3-0',\n",
       " 'SOXC_WT_E11.5_AGTGCCGAGCACCGAA-1_6-0',\n",
       " 'SOXC_WT_E17.5_CGGGCATGTCCAGGTC-1_10-0',\n",
       " 'BmscEndosteal_Ono_Prrx1cre18M_AGTAACCGTTTACACG-1_5-0-2',\n",
       " 'GGTGAAGAGACTAGAT-1_4-1-2',\n",
       " 'Mesenchymal2022_Zhang_E9_CTCCATGGTGCAGTGA-4-0',\n",
       " 'PerichondrialP21_Matsushita_Prrx1creE11.5_GATGGAGTCTGTGCAA-1_3-1',\n",
       " 'BmscTime_Zhong_3M_AGAATAGTCGTGGACC_3-0-2',\n",
       " 'Suture2021_Farmer_E17_ACCAGTAAGAGTACCG-2_1-0',\n",
       " 'Septoclasts_Kishor_Pdgfra_AGCTCAAAGTGCTCAT_3-0-2',\n",
       " 'coronal_Holmes_E18_1_TCGTACCTCCTTAATC-1_3-0',\n",
       " 'sagittal_Holmes_E18_GTCACAAAGGATGTAT-1-0',\n",
       " 'Ablation_Matsushita_abl7con2_TTACGCCAGTCTCTGA-1_3-0-2',\n",
       " 'PerichondrialP21_Matsushita_HesCreCxcl12GfpP21_GCTCCTATCCTTGGTC-1_2-0-2',\n",
       " 'PerichondrialP21_Matsushita_Prrx1creE11.5_TGCACGGTCGTAACTG-1_3-1',\n",
       " 'Ablation_Matsushita_treat1_ATAACGCCACGGCGTT-1_4-0-2',\n",
       " 'GrowthplateSox9_Abdul_WTP13_AGAGCCCGTGCGTCGT-1_3-0-2',\n",
       " 'Maxillary_Bian_E10.5_CACCAATCTACC_1-0',\n",
       " 'GrowthPlateP0_Mizuhashi_ATATCCTGTCAGGCAA-1-0-2',\n",
       " 'Forelimb_He_E13_1_limb12_13_0CACATAGAGTTACCCA_1-1',\n",
       " 'Mandible2020_Chai_E12_CACACAATCGGAAACG_2-0',\n",
       " 'BmscSpecification_Kishor_3_CGGACGTCAATGGTCT_3-0-2',\n",
       " 'PerichondrialE13.5_GGACGTCTCACTATTC-1-1',\n",
       " 'PerichondrialP21_Matsushita_Prrx1creE11.5_TTGGTTTAGTCAACAA-1_3-1',\n",
       " 'Septoclasts_Kishor_Pdgfra_TCGTAGATCGCAACAT_3-0-2',\n",
       " 'PerichondrialP21_Matsushita_Prrx1creE11.5_AAATGGATCCTCTGCA-1_3-1',\n",
       " 'Mesenchymal2022_Zhang_E14.5_GAGTGAGTCTGTCCCA-2-0',\n",
       " 'Frontal_Holmes_WTE16.5_2_CGATGGCCAGCACCCA-1_6-0',\n",
       " 'Frontal_Holmes_WTE18.5_4_CGCCATTAGATGTTCC_12-0',\n",
       " 'GrowthplateSox9_Abdul_WTP19_GTTACCCTCACTAGCA-1_4-0-2',\n",
       " 'LimbMouse2019_Kelly_E13_CGCGTTTAGGAGTTTA-1_2-1',\n",
       " 'Maxillary_Bian_E10.5_AGCCATGAGCAG_1-0',\n",
       " 'ACATCCCAGCCTGGAA-1_4-1-2',\n",
       " 'Mesenchymal2022_Zhang_E14.5_CTTCTCTGTGCCTTCT-2-0',\n",
       " 'Bmsc2019_Regev_b2_GGGATGATCGACCAGC-1_2-0-2',\n",
       " 'Mandible2020_Chai_E12_ACGAGCCTCTACTCAT_2-0',\n",
       " 'GrowthplateSox9_Abdul_WTP13_AGTCACAGTATGTGTC-1_3-0-2',\n",
       " 'Septoclasts_Kishor_Pdgfra_ACATCCCGTACAGAGC_3-0-2',\n",
       " 'Bmsc2019_Regev_samp6_baryawno:std8_CACAGTAAGTCGTTTG-0-2',\n",
       " 'Ablation_Matsushita_abl14_TACAGTGTCTAACCGA-1_1-0-2',\n",
       " 'Mesenchymal2022_Zhang_E9_TTCGATTCACCGTGAC-4-0',\n",
       " 'Forelimb_He_E12_limb4_12_0TTCCCAGGTAGTACCT_1-1',\n",
       " 'CalvariaP4_Ayturk_ACGATACTCATCGGAT-1-0',\n",
       " 'PerichondrialE13.5_TTAACTCGTGGTTTCA-1-1',\n",
       " 'BmscEndosteal_Ono_Fgfr3CEp53cKO_ATGAAAGTCATGCGGC-1_2-0-2',\n",
       " 'Suture2021_Farmer_E15_TGAGGGAGTCAGATAA-1_2-0',\n",
       " 'BmscEndosteal_Ono_Fgfr3CEp53cHet_TGACGCGTCTGAATGC-1_3-0-2',\n",
       " 'Bmsc2019_Regev_samp6_baryawno:std8_CGGCTAGTCAAAGTAG-0-2',\n",
       " 'coronal_Holmes_E18_2_GTGTTAGGTCATACTG-1_4-0',\n",
       " 'CalvariaP4_Ayturk_GTGCGGTTCAGTTTGG-2-0',\n",
       " 'SOXC_WT_E15.5_TGACGGCAGAGGGATA-1_9-0',\n",
       " 'LimbMouse2019_Kelly_E13_AGTGTCACAAGTCTAC-1_2-1',\n",
       " 'Mandible2020_Chai_TGAGCATGTCATACTG-0',\n",
       " 'BmscEndosteal_Ono_Gas1CE_GTCATGAGTGAATAAC-1_4-0-2',\n",
       " 'GrowthplateSox9_Abdul_WTP13_GTTACCCAGCACCGAA-1_3-0-2',\n",
       " 'Maxillary_Bian_E14.5_E14.5-707_AGCCATGCGACAGTGCTAGGATGA_4-0',\n",
       " 'coronal_Holmes_E18_1_TATCAGGAGCGATCCC-1_3-0',\n",
       " 'Maxillary_Bian_E10.5_CCGCAAGCGCCA_1-0',\n",
       " 'Bmsc2019_Regev_samp2_baryawno:std2_GTGAAGGAGGCTCTTA-0-2',\n",
       " 'Suture2021_Farmer_E17_GCATACAAGTGGACGT-3_1-0',\n",
       " 'Suture2021_Farmer_E17_TGCCCATCAATCTGCA-2_1-0',\n",
       " 'BmscTime_Zhong_16M_TGTCCACTCGGTCATA_4-0-2',\n",
       " 'Septoclasts_Kishor_Pdgfra_GAAGTAAAGCAGAAAG_3-0-2',\n",
       " 'Bmsc2019_Regev_b4_CGGCTAGGTTCAACCA-1_4-0-2',\n",
       " 'Mandible2020_Chai_CACATAGTCTCTTGAT-0',\n",
       " 'GrowthplateSox9_Abdul_WTP13_TCGCACTAGAATAACC-1_3-0-2',\n",
       " 'Maxillary_Bian_E11.5_CCGGTCTCTAGT_2-0',\n",
       " 'PerichondrialE13.5_CTAGAGTAGGGCTTGA-1-1',\n",
       " 'BmscTime_Zhong_1.5M_CGAGCCAGTTTGACTG_2-0-2',\n",
       " 'Suture2021_Farmer_E17_GGACAGATCAGCGATT-2_1-0',\n",
       " 'LimbMouse2019_Kelly_E13_TACGGATCACCCATGG-1_2-1',\n",
       " 'SOXC_WT_E13.5_ATGATCGTCTGTGCAA-1_8-0',\n",
       " 'Bmsc2019_Regev_samp3_baryawno:std3_GTCTCGTTCAAACCGT-0-2',\n",
       " 'BmscTime_Zhong_16M_ATGACCATCTCCGATC_4-0-2',\n",
       " 'LimbMouse2019_Kelly_E18_ATCTACTGTGTCAATC-1_4-1',\n",
       " 'coronal_Holmes_E18_2_GAAATGAGTGCATCTA-1_4-0',\n",
       " 'Maxillary_Bian_E14.5_E14.5-707_GATAGACACACTTCGACCTCTATC_4-0',\n",
       " 'PerichondrialP21_Matsushita_Prrx1creE11.5_TGCATCCAGTAATTGG-1_3-1',\n",
       " 'Suture2021_Farmer_E17_TAAGTGCTCATAGCAC-3_1-0',\n",
       " 'Mandible2020_Chai_ATCATCTTCCATGAGT-0',\n",
       " 'GrowthPlateP0_Mizuhashi_GTCCACTAGAGGATCC-1-0-2',\n",
       " 'BmscEndosteal_Ono_Prrx1creP21_GTCATCCGTGCCTGAC-1_6-0-2',\n",
       " 'BmscTime_Zhong_1M_GGAATAACACGAAATA_1-0-2',\n",
       " 'Ablation_Matsushita_cxcl2_AAGCGAGGTAGCTTAC-1_7-0-2',\n",
       " 'Forelimb_He_E15_2_limb8_15_0TCCCGATCAAGCTGAG_1-1',\n",
       " 'Ablation_Matsushita_abl7con1_CCACTACGTCCGAATT-1_2-0-2',\n",
       " 'LimbMouse2019_Kelly_E13_GTCTCGTAGATGCCTT-1_2-1',\n",
       " 'Mandible2020_Chai_E10_ACCTTTAAGCTAGTGG_1-0',\n",
       " 'BmscTime_Zhong_16M_CAATCGAAGATTCGAA_4-0-2',\n",
       " 'Mesenchymal2022_Zhang_E14.5_GCAACCGCATGACGGA-2-0',\n",
       " 'PerichondrialP21_Matsushita_Prrx1creE11.5_CTGCATCAGCACTCGC-1_3-1',\n",
       " 'Forelimb_He_E13_1_limb12_13_0AGGCCACCATAGGATA_1-1',\n",
       " 'SOXC_WT_E17.5_CGTGAATTCCATCAGA-1_10-0',\n",
       " 'Maxillary_Bian_E14.5_E14.5-707_TATCAGCAAAACATCGCATCAAGT_4-0',\n",
       " 'Forelimb_He_E13.5_limb1_13_5AGGGTGAAGCAGCGTA_1-1',\n",
       " 'BmscEndosteal_Ono_Prrx1cre18M_AATGCCAGTCGGAACA-1_5-0-2',\n",
       " 'Bmsc2019_Regev_samp4_baryawno:std4_CACACTCAGAAACGCC-0-2',\n",
       " 'BmscSpecification_Kishor_3_TCTCTAATCAACACCA_3-0-2',\n",
       " 'sagittal_Holmes_E18_GGATTACAGATATGGT-1-0',\n",
       " 'Septoclasts_Kishor_Pdgfra_TGGTACAAGATACCAA_3-0-2',\n",
       " 'PerichondrialP21_Matsushita_Prrx1creE11.5_ATCAGGTGTTGAGAGC-1_3-1',\n",
       " 'Mandible2020_Chai_GCGCAGTTCAATAAGG-0',\n",
       " 'SOXC_WT_E17.5_GTTGCTCAGTGCAGGT-1_10-0',\n",
       " 'lambdoid_Holmes_P10_GAGTCCGTCCGTACAA_2-0',\n",
       " 'BmscSpecification_Kishor_3_ATGGGAGCAGACGTAG_3-0-2',\n",
       " 'Mandible2020_Chai_CACACAAGTGCGGTAA-0',\n",
       " 'LimbG610C_Gorrell_femurWT2_TGCACGGAGATAACGT-1_2-1',\n",
       " 'AAGCCATCACTGAATC-1_4-1-2',\n",
       " 'Bmsc2019_Regev_samp5_baryawno:std7_CATTCGCTCGGAGCAA-0-2',\n",
       " 'Maxillary_Bian_E10.5_GATTACAGCGTA_1-0',\n",
       " 'BmscTime_Zhong_1.5M_GCTGCTTGTGTAATGA_2-0-2',\n",
       " 'GrowthplateSox9_Abdul_WTP13_TTTGGAGCAACTGCTA-1_3-0-2',\n",
       " 'SOXC_WT_E11.5_TTGCGTCTCGTCGCTT-1_6-0',\n",
       " 'SOXC_WT_E12.5_TGTTTGTCATTGCCTC-1_7-0',\n",
       " 'PerichondrialP21_Matsushita_FR3CreCxcl12GfpP21_TTATGCTAGCGAGAAA-1_1-0-2',\n",
       " 'Suture2021_Farmer_E17_TTTGTCATCTGTCTCG-2_1-0',\n",
       " 'GATGACTTCGCAGTTA-1_3-1-2',\n",
       " 'Maxillary_Bian_E14.5_E14.5-707_ATTGAGGAGTCGTAGACATCAAGT_4-0',\n",
       " 'BmscTime_Zhong_1.5M_ATTGGTGTCCACGTGG_2-0-2',\n",
       " 'Forelimb_He_E14_limb13_14_0CATCGAAAGTGTACGG_1-1',\n",
       " 'BmscEndosteal_Ono_Prrx1cre18M_AGCATCAAGCACCGTC-1_5-0-2',\n",
       " 'GrowthPlateP0_Mizuhashi_TCGGGTGAGAGGTCAC-1-0-2',\n",
       " 'Mandible2020_Chai_CGATGGCTCTCAACTT-0',\n",
       " 'CATCGCTCACGTGTGC-1_3-1-2',\n",
       " 'GrowthplateSox9_Abdul_WTP19_CAATCGAAGTCCTACA-1_4-0-2',\n",
       " 'BmscSpecification_Kishor_2_ATCTGCCTCAGAGGTG_2-0-2',\n",
       " 'Maxillary_Bian_E11.5_CACCTGTCAAAT_2-0',\n",
       " 'BmscTime_Zhong_16M_CTTAGGAGTTCTGACA_4-0-2',\n",
       " 'Bmsc2019_Regev_samp3_baryawno:std3_CTCTAATTCCTAGTGA-0-2',\n",
       " 'BmscTime_Zhong_3M_ACACCGGCAGATCCAT_3-0-2',\n",
       " 'Bmsc2019_Regev_b2_TGGTTCCCATCACAAC-1_2-0-2',\n",
       " 'lambdoid_Holmes_P10_CGGTTAAAGTGTACCT_2-0',\n",
       " 'BmscTime_Zhong_16M_TTTAGTCAGGAAAGTG_4-0-2',\n",
       " 'BmscEndosteal_Ono_Prrx1creP21multiome_TTAGAAGCACCCTCAC-1_7-0-2',\n",
       " 'PerichondrialP21_Matsushita_FR3CreCxcl12GfpP21_CTCGAAATCGATGAGG-1_1-0-2',\n",
       " 'coronal_Holmes_E18_2_CTGGTCTCATTGTGCA-1_4-0',\n",
       " 'BmscEndosteal_Ono_Fgfr3CEp53cHet_GTAATGCTCTCGACCT-1_3-0-2',\n",
       " 'Septoclasts_Kishor_Pdgfra_GGACGTCAGAATTCAG_3-0-2',\n",
       " 'Ablation_Matsushita_abl14_GTAACTGAGTGTTGAA-1_1-0-2',\n",
       " 'Bmsc2019_Regev_samp2_baryawno:std2_ACGTCAACAAAGCGGT-0-2',\n",
       " 'PerichondrialP21_Matsushita_FR3CreCxcl12GfpP21_GGAGCAATCCTGCCAT-1_1-0-2',\n",
       " 'CATGCAACAATACGAA-1_1-1-2',\n",
       " 'Forelimb_He_E11_limb3_11_0CGTTAGAAGTTACCCA_1-1',\n",
       " 'Maxillary_Bian_E14.5_E14.5-707_AACCGAGAGACTAGTAGCTCGGTA_4-0',\n",
       " 'sagittal_Holmes_E18_CCACGGAAGGGAAACA-1-0',\n",
       " 'CalvariaP4_Ayturk_TGTATTCTCGTATCAG-2-0',\n",
       " 'BmscEndosteal_Ono_Prrx1cre18M_ACTACGAGTAACACGG-1_5-0-2',\n",
       " 'Frontal_Holmes_WTE18.5_1_GGTGAAGAGGTAAACT-1_7-0',\n",
       " 'GrowthplateSox9_Abdul_WTP13_CCTACGTCATTCTCTA-1_3-0-2',\n",
       " 'Mesenchymal2022_Zhang_E14.5_TATCCTAAGACATCAA-2-0',\n",
       " 'GrowthPlateP0_Mizuhashi_AGCATCACAAGAAATC-1-0-2',\n",
       " 'BmscEndosteal_Ono_Fgfr3CE_GTAATGCGTCGCGTTG-1_1-0-2',\n",
       " 'SOXC_WT_E13.5_TGATCTTAGCGTTGTT-1_8-0',\n",
       " 'Mandible2020_Chai_E12_CCTATTATCTTGACGA_2-0',\n",
       " 'Suture2021_Farmer_E15_TGCTACCGTGAGGGAG-1_2-0',\n",
       " 'SOXC_WT_E17.5_TCAGGGCAGAGCCGAT-1_10-0',\n",
       " 'SOXC_WT_E15.5_CAGATCATCTTTCCTC-1_9-0',\n",
       " 'PerichondrialP21_Matsushita_FR3CreCxcl12GfpP21_CAAGTTGGTGTTGAGG-1_1-0-2',\n",
       " 'Bmsc2019_Regev_bm1_GGCCGATTCGCGCCAA-1_1-0-2',\n",
       " 'SOXC_WT_E11.5_CCCAACTAGTTTGCTG-1_6-0',\n",
       " 'Mesenchymal2022_Zhang_E11.5_GTAGGAGGTTCATCGA-1-0',\n",
       " 'PerichondrialP21_Matsushita_FR3CreCxcl12GfpP21_ACTTTCATCGGCATCG-1_1-0-2',\n",
       " 'PerichondrialP21_Matsushita_Prrx1creE11.5_ACTATGGTCTAAGGAA-1_3-1',\n",
       " 'Bmsc2019_Regev_samp5_baryawno:std7_CACACCTTCAGCGACC-0-2',\n",
       " 'BmscTime_Zhong_1.5M_GGCGTGTCATCGATGT_2-0-2',\n",
       " 'Suture2021_Farmer_E15_GTGCTTCGTATATGGA-1_2-0',\n",
       " 'Mesenchymal2022_Zhang_E9_CGCAGGTAGCTGCCAC-4-0',\n",
       " 'Septoclasts_Kishor_Pdgfra_ATTGTTCGTTATCCAG_3-0-2',\n",
       " 'BmscEndosteal_Ono_Prrx1cre18M_GGGTTTATCTTGTGCC-1_5-0-2',\n",
       " 'BmscTime_Zhong_1.5M_TGGCTGGCAAGTAATG_2-0-2',\n",
       " 'SOXC_WT_E17.5_CTAGGTAAGAGGTTAT-1_10-0',\n",
       " 'Septoclasts_Kishor_Pdgfra_GTTGTGAAGCGTATAA_3-0-2',\n",
       " 'sagittal_Holmes_E18_GTCAAGTCAGTCACTA-1-0',\n",
       " 'Maxillary_Bian_E14.5_E14.5-707_ACGTATCACTGAGCCATATCAGCA_4-0',\n",
       " 'Maxillary_Bian_E10.5_TCGTCCCCAACT_1-0',\n",
       " 'GrowthPlateP0_Mizuhashi_TGCATCCCATGGAATA-1-0-2',\n",
       " 'ChondroOsteo_Long_TTGTGGAAGTCATGGG-1-1',\n",
       " 'Forelimb_He_E13_2_limb5_13_0CGTAGCGTCGGAATCT_1-1',\n",
       " 'BmscEndosteal_Ono_Prrx1creP21multiome_AGCTACGTCAATCTCT-1_7-0-2',\n",
       " 'BmscEndosteal_Ono_Prrx1creP21_AACTTCTGTAGTTACC-1_6-0-2',\n",
       " 'TTCCGGTAGTCGCCCA-1_3-1-2',\n",
       " 'Mesenchymal2022_Zhang_E9_TTACGCCCAGATCCTA-4-0',\n",
       " 'PerichondrialP21_Matsushita_FR3CreCxcl12GfpP21_GCGAGAATCTCACATT-1_1-0-2',\n",
       " 'GTAATCGGTGTCGATT-1_3-1-2',\n",
       " 'BmscEndosteal_Ono_Fgfr3CE_GACTTCCCATGGGAAC-1_1-0-2',\n",
       " 'Ablation_Matsushita_abl7con2_GAGGCCTTCCGTAGGC-1_3-0-2',\n",
       " 'SOXC_WT_E12.5_TGAGACTAGTATCCTG-1_7-0',\n",
       " 'LimbG610C_Gorrell_femurWT3_TCAGTGAAGTTGCTCA-1_4-1',\n",
       " 'SOXC_WT_E12.5_GTCACTCGTACGTACT-1_7-0',\n",
       " 'Maxillary_Bian_E14.5_E14.5-707_GGAGAACACATACCAAACGCTCGA_4-0',\n",
       " 'GrowthPlateP0_Mizuhashi_CTGCTCAAGCATTTGC-1-0-2',\n",
       " 'Bmsc2019_Regev_samp5_baryawno:std7_TTTCCTCAGAAGGGTA-0-2',\n",
       " 'Bmsc2019_Regev_samp5_baryawno:std7_GTATCTTTCTTGTACT-0-2',\n",
       " 'BmscEndosteal_Ono_Prrx1creP21_CCTAACCTCTCACCCA-1_6-0-2',\n",
       " 'BmscEndosteal_Ono_Fgfr3CEp53cHet_TCGGGCACAACTGCCG-1_3-0-2',\n",
       " 'LimbG610C_Gorrell_femurWT2_GGGTTATAGTTGGCGA-1_2-1',\n",
       " 'AAAGTCCCACCCAAGC-1_3-1-2',\n",
       " 'BmscEndosteal_Ono_Fgfr3CE_GAAGCCCCACCTTCGT-1_1-0-2',\n",
       " 'Septoclasts_Kishor_Pdgfra_GACCGTGAGTCAGAGC_3-0-2',\n",
       " 'Mesenchymal2022_Zhang_E9_TGTTCTAGTTAGAAGT-4-0',\n",
       " 'lambdoid_Holmes_P10_CGAGAAGGTTGGAGGT_2-0',\n",
       " 'CalvariaP4_Ayturk_GAACGGATCTCGAGTA-2-0',\n",
       " 'Mesenchymal2022_Zhang_E14.5_AAAGGATCATCTTCGC-2-0',\n",
       " 'LimbMouse2019_Kelly_E13_TCAGGATAGGCATTGG-1_2-1',\n",
       " 'BmscEndosteal_Ono_Fgfr3CE_ACTTTCACATAACTCG-1_1-0-2',\n",
       " 'Maxillary_Bian_E14.5_E14.5-707_ACAAGCTACTGTAGCCCCGTGAGA_4-0',\n",
       " 'Maxillary_Bian_E11.5_TGATTAACACAA_2-0',\n",
       " 'Ablation_Matsushita_treat2_TCACATTTCAAGAATG-1_5-0-2',\n",
       " 'Septoclasts_Kishor_Pdgfra_AGGATCTCATCCTCAC_3-0-2',\n",
       " 'Suture2021_Farmer_E17_CGAATGTGTACAAGTA-3_1-0',\n",
       " 'BmscEndosteal_Ono_Prrx1cre18M_ACTATTCCAAAGCTAA-1_5-0-2',\n",
       " 'BmscSpecification_Kishor_1_CCCTCCTGTCAGCTAT_1-0-2',\n",
       " 'SOXC_WT_E15.5_TTAACTCTCAGAGGTG-1_9-0',\n",
       " 'Septoclasts_Kishor_Pdgfra_CTCCTTTAGTGAGCCA_3-0-2',\n",
       " 'SOXC_WT_E11.5_CGAATTGCACTGCGTG-1_6-0',\n",
       " 'BmscEndosteal_Ono_Prrx1creP21_TCCATCGAGGTTCATC-1_6-0-2',\n",
       " 'Mandible2020_Chai_CCTATTACATGGAATA-0',\n",
       " 'Maxillary_Bian_E11.5_CCCGGTTCAAAA_2-0',\n",
       " 'GrowthPlateP0_Mizuhashi_GATTCGAGTTGTCTAG-1-0-2',\n",
       " 'Ablation_Matsushita_cxcl1_CCCAACTTCTCCGAGG-1_6-0-2',\n",
       " 'Mesenchymal2022_Zhang_E14.5_AACAGGGTCCATGATG-2-0',\n",
       " 'GrowthplateSox9_Abdul_WTP13_ATGAGTCTCCTGGCTT-1_3-0-2',\n",
       " 'GrowthplateSox9_Abdul_WTP19_GTAATCGCATCGAGCC-1_4-0-2',\n",
       " 'BmscTime_Zhong_1.5M_TTCTCAATCCTTTCGG_2-0-2',\n",
       " 'Frontal_Holmes_WTE18.5_3_TCCACCATCAACCTTT_11-0',\n",
       " 'Ablation_Matsushita_cxcl2_CGCATGGGTTTACTTC-1_7-0-2',\n",
       " 'Mandible2020_Chai_GGGAGATGTCTAGGTT-0',\n",
       " 'Bmsc2019_Regev_samp6_baryawno:std8_AGCTTGAAGCAATCTC-0-2',\n",
       " 'Bmsc2019_Regev_samp2_baryawno:std2_CGTCAGGTCTCGGACG-0-2',\n",
       " 'BmscTime_Zhong_1M_AGCCTAAAGCCACGCT_1-0-2',\n",
       " 'Bmsc2019_Regev_b3_GCAAACTAGATGTGGC-1_3-0-2',\n",
       " 'lambdoid_Holmes_P10_ATAAGAGAGGGAACGG_2-0',\n",
       " 'coronal_Holmes_E16_2_CGGGTGTGTTTGCCGG-1_2-0',\n",
       " 'AAAGGATTCAGTCCGG-1_1-1-2',\n",
       " 'LimbMouse2019_Kelly_E11_TTTGTCATCTTTAGGG-1_1-1',\n",
       " 'BmscSpecification_Kishor_1_CACTCCATCACTATTC_1-0-2',\n",
       " 'BmscEndosteal_Ono_Prrx1cre18M_CAGGTATAGTGGTGAC-1_5-0-2',\n",
       " 'SOXC_WT_E13.5_ATTCCATCACATTGTG-1_8-0',\n",
       " 'Maxillary_Bian_E12.5_GGAGCCTTCTTA_3-0',\n",
       " 'SOXC_WT_E15.5_CGCTGGACAGGTCGTC-1_9-0',\n",
       " 'BmscSpecification_Kishor_1_CGCCAAGCAATTGCTG_1-0-2',\n",
       " 'SOXC_WT_E17.5_ACCAAACAGCGCACAA-1_10-0',\n",
       " 'BmscTime_Zhong_1.5M_CAACTAGTCCGCGGTA_2-0-2',\n",
       " 'Mandible2020_Chai_E10_TCAACGACAATGGAAT_1-0',\n",
       " 'Suture2021_Farmer_E15_ACGAGCCGTCGAGATG-1_2-0',\n",
       " 'BmscEndosteal_Ono_Prrx1creP21_GGGCTCACATCTGCGG-1_6-0-2',\n",
       " 'Suture2021_Farmer_E17_GCGCAACCACTGTCGG-1_1-0',\n",
       " 'SOXC_WT_E17.5_TGTACAGGTCTGGTTA-1_10-0',\n",
       " 'Bmsc2019_Regev_b1_GTTCGGGAGAGCTGGT-1_1-0-2',\n",
       " 'Ablation_Matsushita_cxcl2_GTGAGGACACCAACAT-1_7-0-2',\n",
       " 'LimbMouse2019_Kelly_E13_CGTGTAATCGATGAGG-1_2-1',\n",
       " 'Ablation_Matsushita_treat1_ACTGCTCAGCTATGCT-1_4-0-2',\n",
       " 'Mesenchymal2022_Zhang_E14.5_GCCCAGACAGGTTTAC-2-0',\n",
       " 'Frontal_Holmes_WTE18.5_1_CCTCACACACGCTGAC-1_7-0',\n",
       " 'SOXC_WT_E17.5_CCACCATAGATACCAA-1_10-0',\n",
       " 'SOXC_WT_E13.5_ATGCCTCAGTGATCGG-1_8-0',\n",
       " 'TACCTGCTCGAAGGAC-1_3-1-2',\n",
       " 'Mandible2020_Chai_TCCCGATTCCCTTGTG-0',\n",
       " 'LimbMouse2019_Kelly_E15_CGTCACTTCAACACGT-1_3-1',\n",
       " 'BmscSpecification_Kishor_2_GCTCTGTCAAGAGGCT_2-0-2',\n",
       " 'PerichondrialP21_Matsushita_FR3CreCxcl12GfpP21_GTATTCTCACAGACAG-1_1-0-2',\n",
       " 'BmscTime_Zhong_1.5M_CCCAGTTTCAATCACG_2-0-2',\n",
       " 'BmscSpecification_Kishor_1_AGTGAGGAGGCCCTCA_1-0-2',\n",
       " 'BmscTime_Zhong_1.5M_GAGGTGACATCCGCGA_2-0-2',\n",
       " 'Maxillary_Bian_E14.5_E14.5-707_AGGCTAACAAGGTACACGACTGGA_4-0',\n",
       " 'LimbMouse2019_Kelly_E13_GACGGCTCAGGAATGC-1_2-1',\n",
       " 'ChondroOsteo_Long_TCCGATCAGAGCTTTC-1-1',\n",
       " 'BmscEndosteal_Ono_Prrx1cre18M_TACGGGCAGAATCGAT-1_5-0-2',\n",
       " 'PerichondrialE13.5_CTCACACGTGGAAAGA-1-1',\n",
       " 'BmscEndosteal_Ono_Prrx1cre18M_CGCGTGACAACACGTT-1_5-0-2',\n",
       " 'PerichondrialP21_Matsushita_Prrx1creE11.5_CGGAACCAGTATTCCG-1_3-1',\n",
       " 'LimbMouse2019_Kelly_E18_AGTAGTCCATTGCGGC-1_4-1',\n",
       " 'BmscTime_Zhong_16M_CTCGAGGCAAGTATCC_4-0-2',\n",
       " 'Ablation_Matsushita_abl7con2_TCAGCCTCACTGTCCT-1_3-0-2',\n",
       " 'BmscEndosteal_Ono_Gas1CE_GTGCTTCAGCATCGAG-1_4-0-2',\n",
       " 'Septoclasts_Kishor_Pdgfra_ACTGTGAAGGACGGAG_3-0-2',\n",
       " 'BmscTime_Zhong_1M_GCATGCGAGCCACCTG_1-0-2',\n",
       " 'BmscEndosteal_Ono_Gas1CE_GATTTCTGTCATAGTC-1_4-0-2',\n",
       " 'Forelimb_He_E12_limb4_12_0GTGTGCGGTAAGTAGT_1-1',\n",
       " 'BmscEndosteal_Ono_Fgfr3CE_TCCACGTAGAAGAGCA-1_1-0-2',\n",
       " 'GrowthPlateP0_Mizuhashi_GGGTAGAAGAGCATAT-1-0-2',\n",
       " 'LimbMouse2019_Kelly_E11_CTCGGAGAGGGCTCTC-1_1-1',\n",
       " 'BmscChondro_Long_ACGGGTCAGCCAGAGT-0-2',\n",
       " 'AGAGCAGGTGATACAA-1_3-1-2',\n",
       " 'lambdoid_Holmes_P10_TAAGAGACACCCATGG_2-0',\n",
       " 'PerichondrialE13.5_ATTATCCAGAACTCGG-1-1',\n",
       " 'SOXC_WT_E11.5_ATCACGAAGAGGTTTA-1_6-0',\n",
       " 'PerichondrialP21_Matsushita_HesCreCxcl12GfpP21_CTACACCTCGCCAGCA-1_2-0-2',\n",
       " 'TAGGAGGGTCATGGCC-1_3-1-2',\n",
       " 'Ablation_Matsushita_treat2_TCACATTGTACGATCT-1_5-0-2',\n",
       " 'Suture2021_Farmer_E17_CATCGAAAGCAACGGT-3_1-0',\n",
       " 'SOXC_WT_E15.5_TGTGGTATCGGAGGTA-1_9-0',\n",
       " 'Septoclasts_Kishor_Longbone1_CTGTGAATCTAGTCAG_1-0-2',\n",
       " 'BmscEndosteal_Ono_Fgfr3CE_ATCCATTAGCCGTTAT-1_1-0-2',\n",
       " 'lambdoid_Holmes_P10_ATTGGTGTCACGGTTA_2-0',\n",
       " 'BmscEndosteal_Ono_Prrx1creP21_ACCGTTCGTGGACAGT-1_6-0-2',\n",
       " 'GATTTCTAGGCCGCTT-1_4-1-2',\n",
       " 'Forelimb_He_E10.5_limb7_10_5TGCCCTAGTTGTACAC_1-1',\n",
       " 'PerichondrialE13.5_TTCTTAGAGTCTCGGC-1-1',\n",
       " 'LimbMouse2019_Kelly_E18_GGGAATGAGAGCTGCA-1_4-1',\n",
       " 'Maxillary_Bian_E14.5_E14.5-707_CATCAAGTTCCGTCTAACACAGAA_4-0',\n",
       " 'GAGTTTGCATTGACAC-1_3-1-2',\n",
       " 'BmscEndosteal_Ono_Fgfr3CE_ATCGTAGAGGTTTACC-1_1-0-2',\n",
       " 'Septoclasts_Kishor_Pdgfra_AATTTCCGTAGGAAAG_3-0-2',\n",
       " 'LimbG610C_Gorrell_femurWT4_ATCCATTAGCTGACTT-1_7-1',\n",
       " 'SOXC_WT_E13.5_TCTGTCGCAATGCTCA-1_8-0',\n",
       " 'Septoclasts_Kishor_Pdgfra_ATTTACCAGATCGCTT_3-0-2',\n",
       " 'Septoclasts_Kishor_Pdgfra_CATACTTGTGATACCT_3-0-2',\n",
       " 'sagittal_Holmes_E18_GATGAAACATAGAAAC-1-0',\n",
       " 'GrowthplateSox9_Abdul_WTP13_GGGACAATCAGGGTAG-1_3-0-2',\n",
       " 'Maxillary_Bian_E11.5_TCCCGGCTTAGC_2-0',\n",
       " 'Maxillary_Bian_E12.5_GTCATAGGGTTC_3-0',\n",
       " 'PerichondrialE13.5_TCATTACCACCAGGCT-1-1',\n",
       " 'Maxillary_Bian_E11.5_ATATGCAGGTCT_2-0',\n",
       " 'Frontal_Holmes_WTE18.5_1_GCTGGGTGTATCGAGG-1_7-0',\n",
       " 'Septoclasts_Kishor_Pdgfra_ATACTTCTCCCTGTTG_3-0-2',\n",
       " 'Suture2021_Farmer_E15_CCTACACCAGTGACAG-1_2-0',\n",
       " 'BmscTime_Zhong_1.5M_CTCTGGTGTAAGCACG_2-0-2',\n",
       " 'Frontal_Holmes_WTE16.5_2_GGTAGAGAGAGCCGTA-1_6-0',\n",
       " 'BmscEndosteal_Ono_Prrx1creP21multiome_TAGCTTGCAAATTGCT-1_7-0-2',\n",
       " 'BmscSpecification_Kishor_2_CAGCTGGGTCGCGTGT_2-0-2',\n",
       " 'PerichondrialP21_Matsushita_Prrx1creE11.5_GGTAATCGTGCGCTCA-1_3-1',\n",
       " 'Mandible2020_Chai_E10_GGATGTTTCGGCGCAT_1-0',\n",
       " 'Mesenchymal2022_Zhang_E9_TCATGTTTCTGTACAG-4-0',\n",
       " 'Septoclasts_Kishor_Pdgfra_ATGCCTCCATCAGCAT_3-0-2',\n",
       " 'Maxillary_Bian_E14.5_E14.5-707_GACAGTGCAACGCTTAACAGCAGA_4-0',\n",
       " 'BmscTime_Zhong_16M_CTATCCGAGCTTTGTG_4-0-2',\n",
       " 'Bmsc2019_Regev_bm2_TCGCGAGGTTTGGGCC-1_2-0-2',\n",
       " 'Mandible2020_Chai_E10_CCGTTCATCGCAGGCT_1-0',\n",
       " 'Septoclasts_Kishor_Pdgfra_CTCTCGAGTAGATTAG_3-0-2',\n",
       " 'SOXC_WT_E17.5_CTCCCAATCATTCCTA-1_10-0',\n",
       " 'coronal_Holmes_P28_TTCATTGGTCAGACGA-1-0',\n",
       " 'LimbMouse2019_Kelly_E15_CATTATCAGAGCTGGT-1_3-1',\n",
       " 'Mesenchymal2022_Zhang_E14.5_GATAGCTCACAAACGG-2-0',\n",
       " 'BmscEndosteal_Ono_Prrx1cre18M_CATCAAGGTACTAGCT-1_5-0-2',\n",
       " 'SOXC_WT_E15.5_GGCGTGTCAGCTGTAT-1_9-0',\n",
       " 'PerichondrialP21_Matsushita_HesCreCxcl12GfpP21_TGAGCATGTCTCCACT-1_2-0-2',\n",
       " 'BmscSpecification_Kishor_3_AGGCCACCACGGCTAC_3-0-2',\n",
       " 'Forelimb_He_E13_2_limb5_13_0GGTGTTACAAACGTGG_1-1',\n",
       " 'Bmsc2019_Regev_samp4_baryawno:std4_CAGCCGACATGTCGAT-0-2',\n",
       " 'SOXC_WT_E17.5_ATAGAGAGTTGCAAGG-1_10-0',\n",
       " 'SOXC_WT_E17.5_CGGGACTCAGTAGTTC-1_10-0',\n",
       " 'lambdoid_Holmes_P10_GTATCTTCAGTAGAGC_2-0',\n",
       " 'Forelimb_He_E10.5_limb7_10_5TGACGGCTCGTAGATC_1-1',\n",
       " 'Bmsc2019_Regev_b1_CACCAGGTCTTGAGAC-1_1-0-2',\n",
       " 'PerichondrialE13.5_GATCGATAGATGAGAG-1-1',\n",
       " 'GrowthplateSox9_Abdul_WTP13_TCGCTTGAGAATCTAG-1_3-0-2',\n",
       " 'BmscEndosteal_Ono_Prrx1cre18M_GAGGCAACACGTCGGT-1_5-0-2',\n",
       " 'Bmsc2019_Regev_samp1_baryawno:std1_CATATTCGTTCGGCAC-0-2',\n",
       " 'Forelimb_He_E13_1_limb12_13_0TGACTAGAGAGAACAG_1-1',\n",
       " 'Forelimb_He_E13_2_limb5_13_0TGACAACGTTGATTCG_1-1',\n",
       " 'Bmsc2019_Regev_samp6_baryawno:std8_TTTGCGCTCTCGAGTA-0-2',\n",
       " 'SOXC_WT_E13.5_CACTGGGTCTCTCTTC-1_8-0',\n",
       " 'Ablation_Matsushita_abl7con1_GAAGCAGCAGGATTGG-1_2-0-2',\n",
       " 'Maxillary_Bian_E14.5_E14.5-707_AGTCACTAAAGAGATCGAGCTGAA_4-0',\n",
       " 'Mandible2020_Chai_CCACCTACAGACAAGC-0',\n",
       " 'Mandible2020_Chai_E12_TGTATTCTCCGCGCAA_2-0',\n",
       " 'BmscTime_Zhong_1.5M_TAGGCATTCTGGCGTG_2-0-2',\n",
       " 'Mandible2020_Chai_E10_GCTCTGTCACGCCAGT_1-0',\n",
       " 'Maxillary_Bian_E11.5_CTGTTAAGTCTC_2-0',\n",
       " 'CalvariaP4_Ayturk_TGAGCCGCATAGAAAC-2-0',\n",
       " 'Frontal_Holmes_WTE18.5_1_CCTCATGCATCAGCGC-1_7-0',\n",
       " 'SOXC_WT_E12.5_ATGTCTTAGTGTAGTA-1_7-0',\n",
       " 'Ablation_Matsushita_cxcl2_TATTGGGTCAGCTGAT-1_7-0-2',\n",
       " 'BmscEndosteal_Ono_Fgfr3CE_CTATAGGCATGGACAG-1_1-0-2',\n",
       " 'PerichondrialP21_Matsushita_HesCreCxcl12GfpP21_TACTTGTTCATGCATG-1_2-0-2',\n",
       " 'Bmsc2019_Regev_b3_GAAGCAGAGTACGCGA-1_3-0-2',\n",
       " 'PerichondrialP21_Matsushita_Prrx1creE11.5_CCGTGAGCAACATCGT-1_3-1',\n",
       " 'GrowthPlateP0_Mizuhashi_ACGGGTCTCAACGCTA-1-0-2',\n",
       " 'LimbMouse2019_Kelly_E11_ATGAGGGGTCTCCCTA-1_1-1',\n",
       " 'Bmsc2019_Regev_samp3_baryawno:std3_TTTGGTTGTCTCGTTC-0-2',\n",
       " 'BmscEndosteal_Ono_Gas1CE_GAATAGAGTGTGGTCC-1_4-0-2',\n",
       " 'ACGATGTGTACGAAAT-1_4-1-2',\n",
       " 'LimbG610C_Gorrell_femurWT4_GATAGCTAGCTAAGTA-1_7-1',\n",
       " 'lambdoid_Holmes_E18_CGCCAAGGTATCGCAT_1-0',\n",
       " 'SOXC_WT_E15.5_GGACATTTCATTGCGA-1_9-0',\n",
       " 'Maxillary_Bian_E10.5_TAAAGGGCATCC_1-0',\n",
       " 'GrowthplateSox9_Abdul_WTP13_GTACAGTGTTCTTCAT-1_3-0-2',\n",
       " 'SOXC_WT_E13.5_GATGATCAGAATCGAT-1_8-0',\n",
       " 'SOXC_WT_E13.5_AAACGAACATCCTAAG-1_8-0',\n",
       " 'Mesenchymal2022_Zhang_E14.5_CAAGACTGTAGCTGTT-2-0',\n",
       " 'Suture2021_Farmer_E15_CTGTTTACATCGGTTA-1_2-0',\n",
       " 'Forelimb_He_E14_limb13_14_0GTGCGGTCACAGGAGT_1-1',\n",
       " 'Mesenchymal2022_Zhang_E11.5_GTAAGTCTCCCTCATG-1-0',\n",
       " 'BmscTime_Zhong_1.5M_AGCTCCTGTAAGCACG_2-0-2',\n",
       " 'Forelimb_He_E11_limb3_11_0TGACAACAGCCCGAAA_1-1',\n",
       " 'Septoclasts_Kishor_Pdgfra_CGCCAGACAATAGTCC_3-0-2',\n",
       " 'Mandible2020_Chai_E12_GCTGCAGCAGCTTAAC_2-0',\n",
       " 'Septoclasts_Kishor_Pdgfra_GTATTTCCACTATGTG_3-0-2',\n",
       " 'GrowthplateSox9_Abdul_WTP13_ACAGAAATCGACCATA-1_3-0-2',\n",
       " 'SOXC_WT_E17.5_ACTACGACATGACGGA-1_10-0',\n",
       " 'Septoclasts_Kishor_Pdgfra_GTAGATCGTTCGGCGT_3-0-2',\n",
       " 'BmscEndosteal_Ono_Gas1CE_AACCAACCATTATGCG-1_4-0-2',\n",
       " 'BmscEndosteal_Ono_Prrx1cre18M_CAACAGTTCAGGAACG-1_5-0-2',\n",
       " 'SOXC_WT_E17.5_TCGTGGGCATGACGTT-1_10-0',\n",
       " 'Forelimb_He_E15_1_limb6_15_0TACAGTGCAGATCTGT_1-1',\n",
       " 'Frontal_Holmes_WTE18.5_4_GGGATGACAGCACAGA_12-0',\n",
       " 'GrowthPlateP0_Mizuhashi_ACATCCCAGACAACAT-1-0-2',\n",
       " 'Maxillary_Bian_E11.5_CCGCAGCTTCCG_2-0',\n",
       " 'Mesenchymal2022_Zhang_E11.5_GTCGTAAAGCCTTCTC-1-0',\n",
       " 'Bmsc2019_Regev_samp3_baryawno:std3_CTGCCTATCGTACCGG-0-2',\n",
       " 'Mesenchymal2022_Zhang_E14.5_CTACATTCAATCCAGT-2-0',\n",
       " 'LimbMouse2019_Kelly_E11_ATTGGACGTAAGGGAA-1_1-1',\n",
       " 'Bmsc2019_Regev_samp5_baryawno:std7_GATGAGGGTCTCTTTA-0-2',\n",
       " 'BmscEndosteal_Ono_Gas1CE_TTGCCTGCAGTTACCA-1_4-0-2',\n",
       " 'BmscEndosteal_Ono_Fgfr3CE_TGCAGTACACCCTTAC-1_1-0-2',\n",
       " 'Bmsc2019_Regev_samp5_baryawno:std7_AGGTCATCAATGGATA-0-2',\n",
       " 'BmscEndosteal_Ono_Fgfr3CE_TCTTCCTTCATTGCGA-1_1-0-2',\n",
       " 'GrowthPlateP0_Mizuhashi_CTCACTGTCTTAAGGC-1-0-2',\n",
       " 'BmscEndosteal_Ono_Fgfr3CE_TCTGGCTTCGGTTCAA-1_1-0-2',\n",
       " 'CTCTCAGTCCTACCAC-1_1-1-2',\n",
       " 'lambdoid_Holmes_P28_TCGAACACACTGTCCT-1_3-0',\n",
       " 'Bmsc2019_Regev_samp4_baryawno:std4_GCGGGTTCAGGTCCAC-0-2',\n",
       " 'Maxillary_Bian_E11.5_AATCCAGCCAAC_2-0',\n",
       " 'Frontal_Holmes_WTE18.5_4_GAGTTACCACATTACG_12-0',\n",
       " 'Mesenchymal2022_Zhang_E14.5_TTACCATGTGTTATCG-2-0',\n",
       " 'Frontal_Holmes_WTE18.5_1_TGCACGGGTTAAGACA-1_7-0',\n",
       " 'Ablation_Matsushita_cxcl2_CGTTAGAGTGTAAACA-1_7-0-2',\n",
       " 'Mandible2020_Chai_GATCGCGCAAGGACTG-0',\n",
       " 'PerichondrialP21_Matsushita_Prrx1creE11.5_CAACAGTCAAGGATGC-1_3-1',\n",
       " 'PerichondrialE13.5_GTTCTCGAGAAGAAGC-1-1',\n",
       " 'BmscEndosteal_Ono_Gas1CE_CTGCCATCAGAATGTA-1_4-0-2',\n",
       " 'lambdoid_Holmes_P10_TGCGGGTGTGCACTTA_2-0',\n",
       " 'GTCCTCAGTCGCAGTC-1_5-1-2',\n",
       " 'CalvariaP4_Ayturk_TACGGTACAACTGCTA-1-0',\n",
       " 'SOXC_WT_E13.5_GCGAGAAAGGTTACCT-1_8-0',\n",
       " 'Maxillary_Bian_E10.5_CCTTTCGACTAG_1-0',\n",
       " 'Suture2021_Farmer_E17_TCTATTGGTATTCTCT-3_1-0',\n",
       " 'PerichondrialP21_Matsushita_HesCreCxcl12GfpP21_TACGGATCACCAACCG-1_2-0-2',\n",
       " 'Mandible2020_Chai_E12_CATTCGCTCCAAGCCG_2-0',\n",
       " 'BmscEndosteal_Ono_Prrx1cre18M_TTCCACGCAGCACCCA-1_5-0-2',\n",
       " 'Forelimb_He_E13_2_limb5_13_0AACCATGAGGTGCACA_1-1',\n",
       " 'BmscSpecification_Kishor_2_TACCTATCAAGGTGTG_2-0-2',\n",
       " 'Septoclasts_Kishor_Longbone1_TAACTTCGTAGCTGAG_1-0-2',\n",
       " 'Mandible2020_Chai_TCAGGTACACTCAGGC-0',\n",
       " 'SOXC_WT_E11.5_TCGCTCACAGCACGAA-1_6-0',\n",
       " 'SOXC_WT_E17.5_TTGGATGAGGGTATAT-1_10-0',\n",
       " 'PerichondrialE13.5_GCGAGAACATCGATTG-1-1',\n",
       " 'BmscEndosteal_Ono_Fgfr3CEp53cKO_AAGATAGCATGTCAGT-1_2-0-2',\n",
       " 'Maxillary_Bian_E14.5_E14.5-707_CATACCAAGCCAAGACAGTGGTCA_4-0',\n",
       " 'Septoclasts_Kishor_Pdgfra_GGTGAAGAGCATTTCG_3-0-2',\n",
       " 'Maxillary_Bian_E14.5_E14.5-707_CAAGGAGCCGACACACTGGAACAA_4-0',\n",
       " 'PerichondrialE13.5_CGAATGTAGAGGGCTT-1-1',\n",
       " 'Frontal_Holmes_WTE18.5_4_ATCGCCTGTCAGTCTA_12-0',\n",
       " 'Bmsc2019_Regev_samp6_baryawno:std8_GATGAGGAGCTTTGGT-0-2',\n",
       " 'Maxillary_Bian_E14.5_E14.5-707_TGAAGAGATAGGATGAACGCTCGA_4-0',\n",
       " 'GrowthplateSox9_Abdul_WTP13_GTCTGTCTCTACAGGT-1_3-0-2',\n",
       " 'coronal_Holmes_E18_1_CCGGTAGAGTACCGGA-1_3-0',\n",
       " 'SOXC_WT_E11.5_TTGCCTGTCCATATGG-1_6-0',\n",
       " 'Mesenchymal2022_Zhang_E10_ATGGTTGTCGGTAGGA-3-0',\n",
       " 'Bmsc2019_Regev_samp5_baryawno:std7_GGAACTTTCTGCCCTA-0-2',\n",
       " 'BmscTime_Zhong_16M_AATAGAGGTTCCAGGC_4-0-2',\n",
       " 'Ablation_Matsushita_treat2_GTATTTCTCAGCTGAT-1_5-0-2',\n",
       " 'LimbMouse2019_Kelly_E15_CTGCCTAAGCACAGGT-1_3-1',\n",
       " 'BmscEndosteal_Ono_Prrx1cre18M_CTCATCGAGTTCACTG-1_5-0-2',\n",
       " 'BmscSpecification_Kishor_3_GCTCCTACAAGTTAAG_3-0-2',\n",
       " 'Bmsc2019_Regev_samp4_baryawno:std4_TGACTAGTCATGTCCC-0-2',\n",
       " 'BmscTime_Zhong_1M_ACACCGGAGAGTAAGG_1-0-2',\n",
       " 'Mandible2020_Chai_AGCAGCCCAAGCTGAG-0',\n",
       " 'Forelimb_He_E15_1_limb6_15_0ATCCACCCATGTCTCC_1-1',\n",
       " 'Bmsc2019_Regev_b1_CTCGTACTCTGGAGCC-1_1-0-2',\n",
       " 'BmscTime_Zhong_16M_AATAGAGGTGTCATGT_4-0-2',\n",
       " 'Mesenchymal2022_Zhang_E14.5_CACTGAACAATCTAGC-2-0',\n",
       " 'SOXC_WT_E11.5_TTACAGGAGCGGCTCT-1_6-0',\n",
       " 'Forelimb_He_E11_limb3_11_0GAAGCAGTCCGCGCAA_1-1',\n",
       " 'Bmsc2019_Regev_samp2_baryawno:std2_GGACGTCGTGCTTCTC-0-2',\n",
       " 'Bmsc2019_Regev_b1_TGAAAGAAGATCCGAG-1_1-0-2',\n",
       " 'BmscEndosteal_Ono_Prrx1cre18M_TACGTCCTCGATTGAC-1_5-0-2',\n",
       " 'Bmsc2019_Regev_b4_TAAGTGCGTTCGTGAT-1_4-0-2',\n",
       " 'BmscEndosteal_Ono_Prrx1creP21_CTCCAACAGCAATAAC-1_6-0-2',\n",
       " 'Maxillary_Bian_E12.5_AATTGCGGTACT_3-0',\n",
       " 'CTCATGCGTGGCAACA-1_1-1-2',\n",
       " 'Mandible2020_Chai_E12_TTTGTCATCTTCCTTC_2-0',\n",
       " 'SOXC_WT_E12.5_CGTCAAAAGCGTATGG-1_7-0',\n",
       " 'CTGTACCCACACTTAG-1_4-1-2',\n",
       " 'Maxillary_Bian_E14.5_E14.5-707_TCCGTCTAACCACTGTAAGAGATC_4-0',\n",
       " 'SOXC_WT_E12.5_GGAACCCGTCGTCAGC-1_7-0',\n",
       " 'AGCCAGCCATGGAACG-1_3-1-2',\n",
       " 'BmscEndosteal_Ono_Prrx1creP21_AGCCAATGTGCTTCAA-1_6-0-2',\n",
       " 'Bmsc2019_Regev_samp3_baryawno:std3_AGCCTAATCTTAGAGC-0-2',\n",
       " 'GrowthPlateP0_Mizuhashi_GTTCCGTGTATCAGGG-1-0-2',\n",
       " 'GrowthplateSox9_Abdul_WTP13_AGTAGTCAGACGAAGA-1_3-0-2',\n",
       " 'CalvariaP4_Ayturk_TACAGTGCACGGCGTT-2-0',\n",
       " 'SOXC_WT_E15.5_GGCCGATTCAGCCTAA-1_9-0',\n",
       " 'BmscTime_Zhong_16M_ATCCTATAGACTACCT_4-0-2',\n",
       " 'SOXC_WT_E13.5_CTGTGAAAGTCTTGGT-1_8-0',\n",
       " 'BmscEndosteal_Ono_Prrx1creP21multiome_AAAGGAGCAGCACCAT-1_7-0-2',\n",
       " 'Frontal_Holmes_WTE18.5_4_TATCCTACAAATCCCA_12-0',\n",
       " 'Frontal_Holmes_WTE18.5_3_CGAAGGATCGGCTATA_11-0',\n",
       " 'CalvariaP4_Ayturk_TACACGAAGCACAGGT-1-0',\n",
       " 'SOXC_WT_E17.5_CCTACGTGTCAACATC-1_10-0',\n",
       " 'Maxillary_Bian_E11.5_ATTAGAGAAGCA_2-0',\n",
       " 'Mesenchymal2022_Zhang_E9_TACGCTCTCTACCAGA-4-0',\n",
       " 'GCGAGAATCATGAGAA-1_3-1-2',\n",
       " 'Forelimb_He_E15_2_limb8_15_0CGATCGGGTTGAACTC_1-1',\n",
       " 'GrowthplateSox9_Abdul_WTP13_CTAAGTGGTTACACAC-1_3-0-2',\n",
       " 'Suture2021_Farmer_E17_ATCTACTTCGCCTGTT-2_1-0',\n",
       " 'BmscEndosteal_Ono_Prrx1creP21_GTAGTACGTATAGCTC-1_6-0-2',\n",
       " 'BmscEndosteal_Ono_Prrx1creP21_TCAGGTACACTCCGGA-1_6-0-2',\n",
       " 'PerichondrialP21_Matsushita_FR3CreCxcl12GfpP21_GTGGGTCTCTGTACGA-1_1-0-2',\n",
       " 'GrowthplateSox9_Abdul_WTP13_GTCCACTCACCGGTCA-1_3-0-2',\n",
       " 'Maxillary_Bian_E14.5_E14.5-707_GAGCTGAACGCTGATCCGAACTTA_4-0',\n",
       " 'Suture2021_Farmer_E17_TTGTAGGCACACCGCA-3_1-0',\n",
       " 'Suture2021_Farmer_E17_TGTCCCACATCGACGC-1_1-0',\n",
       " 'Maxillary_Bian_E12.5_TTCCGGTGCCTG_3-0',\n",
       " 'BmscSpecification_Kishor_3_GAATGAAAGTCTCCTC_3-0-2',\n",
       " 'LimbMouse2019_Kelly_E15_GCGAGAAGTCTGATTG-1_3-1',\n",
       " 'GATAGCTAGGACGCAT-1_5-1-2',\n",
       " 'Septoclasts_Kishor_Pdgfra_TCAATTCTCCACCTCA_3-0-2',\n",
       " 'SOXC_WT_E17.5_AACCTTTTCTGCGGCA-1_10-0',\n",
       " 'SOXC_WT_E15.5_GTTACAGCATGTCTCC-1_9-0',\n",
       " 'BmscSpecification_Kishor_3_GCTGGGTGTAGAGGAA_3-0-2',\n",
       " 'Mandible2020_Chai_E10_CAACCAATCTGAGTGT_1-0',\n",
       " 'BmscSpecification_Kishor_3_TGACAACAGATATGCA_3-0-2',\n",
       " 'BmscTime_Zhong_1.5M_GTCTCGTCAGGAACGT_2-0-2',\n",
       " 'BmscEndosteal_Ono_Fgfr3CE_TCCTCGACACGACAGA-1_1-0-2',\n",
       " 'BmscEndosteal_Ono_Prrx1cre18M_GGGCTCAGTTGGGTAG-1_5-0-2',\n",
       " 'lambdoid_Holmes_P10_GACACGCGTCTCGTTC_2-0',\n",
       " 'PerichondrialP21_Matsushita_Prrx1creE11.5_GATTCGATCTGCATAG-1_3-1',\n",
       " 'SOXC_WT_E11.5_AATCACGTCACCGGTG-1_6-0',\n",
       " 'Bmsc2019_Regev_bm4_TCTGGAAGTCGCATAT-1_4-0-2',\n",
       " 'Mesenchymal2022_Zhang_E14.5_ATCAGGTGTAGACGGT-2-0',\n",
       " 'lambdoid_Holmes_P10_TCAATCTGTCAGAATA_2-0',\n",
       " 'Ablation_Matsushita_abl7con2_GGGAGTAAGAGGCCAT-1_3-0-2',\n",
       " 'SOXC_WT_E11.5_AGACCCGTCTCTCTAA-1_6-0',\n",
       " 'Mandible2020_Chai_E10_CTACGTCGTCTCCACT_1-0',\n",
       " 'SOXC_WT_E11.5_GAAATGATCATTGAGC-1_6-0',\n",
       " 'SOXC_WT_E17.5_TTGAACGTCCGCAAAT-1_10-0',\n",
       " 'BmscEndosteal_Ono_Fgfr3CE_ATCTTCATCCGGCAGT-1_1-0-2',\n",
       " 'Frontal_Holmes_WTE18.5_4_CACTGGGCAGTTCTAG_12-0',\n",
       " 'Maxillary_Bian_E11.5_CTAGGCATTGTT_2-0',\n",
       " 'Frontal_Holmes_WTE16.5_2_GTCATTTCATGTGGCC-1_6-0',\n",
       " 'Maxillary_Bian_E10.5_ACCTTGATCACG_1-0',\n",
       " 'Maxillary_Bian_E12.5_CGCTGATTGACC_3-0',\n",
       " 'coronal_Holmes_E18_2_AGTCTTTAGCCGCCTA-1_4-0',\n",
       " 'Suture2021_Farmer_E17_GTGCATAAGAGCTATA-2_1-0',\n",
       " 'Mesenchymal2022_Zhang_E9_ATCTTCACAATCTCTT-4-0',\n",
       " 'GrowthplateSox9_Abdul_WTP13_GTCTAGACAAGCACAG-1_3-0-2',\n",
       " 'SOXC_WT_E13.5_AAGACAAAGCCTCCAG-1_8-0',\n",
       " 'Ablation_Matsushita_cxcl2_CACCAAAGTATACCTG-1_7-0-2',\n",
       " 'Maxillary_Bian_E10.5_CGTAGGTTACGG_1-0',\n",
       " 'GrowthPlateP0_Mizuhashi_CTCAATTTCTTAGTTC-1-0-2',\n",
       " 'Mesenchymal2022_Zhang_E14.5_ATGTCCCCAGTAACCT-2-0',\n",
       " 'GrowthPlateP0_Mizuhashi_CAGATCACATCCGAAT-1-0-2',\n",
       " 'LimbMouse2019_Kelly_E11_CTCACACTCCGTCATC-1_1-1',\n",
       " 'PerichondrialP21_Matsushita_Prrx1creE11.5_TATCAGGGTTGTGGCC-1_3-1',\n",
       " 'Septoclasts_Kishor_Longbone1_GGGACAAAGGTAGTAT_1-0-2',\n",
       " 'BmscSpecification_Kishor_1_ACGGAGAAGATATGCA_1-0-2',\n",
       " 'BmscEndosteal_Ono_Prrx1creP21_TTTATGCAGATGACAT-1_6-0-2',\n",
       " 'BmscEndosteal_Ono_Prrx1creP21_GTCGTAAGTGGGTTGA-1_6-0-2',\n",
       " 'BmscEndosteal_Ono_Prrx1creP21_CGAGTTAAGGTCGTCC-1_6-0-2',\n",
       " 'BmscTime_Zhong_1M_AGAGCTTAGGGAACGG_1-0-2',\n",
       " 'Septoclasts_Kishor_Pdgfra_AGTTCGATCCTTATCA_3-0-2',\n",
       " 'BmscTime_Zhong_3M_TACCTTATCGCCTGTT_3-0-2',\n",
       " 'Septoclasts_Kishor_Pdgfra_GTGTGATGTAGTTAGA_3-0-2',\n",
       " 'LimbMouse2019_Kelly_E18_ACGCCGACACTGTGTA-1_4-1',\n",
       " 'GrowthPlateP0_Mizuhashi_AAGTTCGGTACGATCT-1-0-2',\n",
       " 'GCCAGCAGTCTTGTCC-1_3-1-2',\n",
       " 'Septoclasts_Kishor_Pdgfra_GTCATCCAGGCTAACG_3-0-2',\n",
       " 'coronal_Holmes_E18_2_TGCCAAACATGCGCAC-1_4-0',\n",
       " 'Suture2021_Farmer_E17_TGCGGGTAGACGCAAC-2_1-0',\n",
       " 'Maxillary_Bian_E14.5_E14.5-707_AAGACGGAATCATTCCGTACGCAA_4-0',\n",
       " 'Maxillary_Bian_E14.5_E14.5-707_AAGGACACATGCCTAACGACACAC_4-0',\n",
       " 'BmscEndosteal_Ono_Fgfr3CEp53cKO_TGAGCGCCAGACACAG-1_2-0-2',\n",
       " 'LimbMouse2019_Kelly_E18_TGATTTCAGTCTTGCA-1_4-1',\n",
       " 'BmscEndosteal_Ono_Prrx1creP21_TTAGGCAGTTGTTGAC-1_6-0-2',\n",
       " 'Bmsc2019_Regev_bm2_CATTATCTCGTCTGAA-1_2-0-2',\n",
       " 'Mandible2020_Chai_E12_GCATGATAGACTAGGC_2-0',\n",
       " 'BmscTime_Zhong_16M_ATGCATGCACGGGCTT_4-0-2',\n",
       " 'BmscEndosteal_Ono_Prrx1cre18M_TGCGATAGTAGTGTGG-1_5-0-2',\n",
       " 'BmscTime_Zhong_16M_AGTCACATCTTTACAC_4-0-2',\n",
       " 'LimbMouse2019_Kelly_E13_GACGGCTCACGTCTCT-1_2-1',\n",
       " 'Bmsc2019_Regev_samp2_baryawno:std2_CCTACCATCGGCGCTA-0-2',\n",
       " 'Mandible2020_Chai_GCTCTGTCAAGGACTG-0',\n",
       " 'AATGGCTGTAATTGGA-1_3-1-2',\n",
       " 'SOXC_WT_E12.5_ACGTAACGTACTAAGA-1_7-0',\n",
       " 'Forelimb_He_E12_limb4_12_0ATAGACCGTAGGGTAC_1-1',\n",
       " 'BmscEndosteal_Ono_Prrx1cre18M_AGCTACAAGCTGCCAC-1_5-0-2',\n",
       " 'Maxillary_Bian_E14.5_E14.5-707_AGATGTACGACAGTGCGTCTGTCA_4-0',\n",
       " 'BmscTime_Zhong_1.5M_CCGTTCAAGACTGGGT_2-0-2',\n",
       " 'coronal_Holmes_E18_1_CCGTGGAAGTCATCCA-1_3-0',\n",
       " 'Mandible2020_Chai_TCACAAGGTCAACATC-0',\n",
       " 'PerichondrialP21_Matsushita_Prrx1creE11.5_TCATTACTCGGTCAGC-1_3-1',\n",
       " 'BmscEndosteal_Ono_Prrx1cre18M_AGTGATCCACTGCACG-1_5-0-2',\n",
       " 'Suture2021_Farmer_E15_CTACGTCCAAGTAATG-1_2-0',\n",
       " 'Septoclasts_Kishor_Longbone1_TTTGTTGTCGAGTCCG_1-0-2',\n",
       " 'Mesenchymal2022_Zhang_E11.5_GACAGCCAGTATGCAA-1-0',\n",
       " 'Frontal_Holmes_WTE16.5_2_GTAGCTAGTAGGCAAC-1_6-0',\n",
       " 'Ablation_Matsushita_abl14_CAGTAACGTACCGTTA-1_1-0-2',\n",
       " 'Maxillary_Bian_E14.5_E14.5-707_ACACAGAAGGTGCGAACAAGGAGC_4-0',\n",
       " 'BmscSpecification_Kishor_3_ATCTACTGTCGACTGC_3-0-2',\n",
       " 'lambdoid_Holmes_P10_GACGTTATCGGCGCTA_2-0',\n",
       " 'LimbG610C_Gorrell_femurWT4_GGTAGAGAGACGGTTG-1_7-1',\n",
       " 'lambdoid_Holmes_P10_GATTCAGAGCTAGTTC_2-0',\n",
       " 'Septoclasts_Kishor_Pdgfra_TCACGGGAGCTCGTGC_3-0-2',\n",
       " 'PerichondrialP21_Matsushita_HesCreCxcl12GfpP21_AGCGGTCGTACTCTCC-1_2-0-2',\n",
       " 'Frontal_Holmes_WTE18.5_1_GTTGAACAGCCTGACC-1_7-0',\n",
       " 'BmscEndosteal_Ono_Prrx1creP21_GATCGTATCTATCCAT-1_6-0-2',\n",
       " 'Mandible2020_Chai_CTGCCTATCAGTCCCT-0',\n",
       " 'PerichondrialP21_Matsushita_FR3CreCxcl12GfpP21_ATTATCCCATAAAGGT-1_1-0-2',\n",
       " 'LimbMouse2019_Kelly_E13_ACACCAAGTATATCCG-1_2-1',\n",
       " 'Mesenchymal2022_Zhang_E11.5_AGTGATCAGACTCTAC-1-0',\n",
       " 'Maxillary_Bian_E14.5_E14.5-707_CCTAATCCCAGATCTGCTAAGGTC_4-0',\n",
       " 'Bmsc2019_Regev_b3_TATCTCAAGCGTAGTG-1_3-0-2',\n",
       " 'BmscEndosteal_Ono_Gas1CE_ACGTACATCAGTGATC-1_4-0-2',\n",
       " 'Ablation_Matsushita_cxcl2_ACACTGATCTTAATCC-1_7-0-2',\n",
       " 'SOXC_WT_E17.5_ATGGTTGCAAGAATGT-1_10-0',\n",
       " 'Bmsc2019_Regev_samp4_baryawno:std4_GTACTTTAGGTAGCTG-0-2',\n",
       " 'BmscEndosteal_Ono_Prrx1cre18M_GACTATGTCACCTCTG-1_5-0-2',\n",
       " 'Mandible2020_Chai_E10_ACCGTAAGTTGCGTTA_1-0',\n",
       " 'Septoclasts_Kishor_Pdgfra_GAGTTTGGTGGTCTGC_3-0-2',\n",
       " 'Maxillary_Bian_E11.5_TAGGAAACAATC_2-0',\n",
       " 'SOXC_WT_E13.5_CTACGGGGTCTCTCCA-1_8-0',\n",
       " 'BmscEndosteal_Ono_Fgfr3CE_AGGACGAGTTGGGCCT-1_1-0-2',\n",
       " 'Bmsc2019_Regev_samp2_baryawno:std2_ACCGTAACACTTCGAA-0-2',\n",
       " 'BmscSpecification_Kishor_3_CATCCACAGGCTAGGT_3-0-2',\n",
       " 'Septoclasts_Kishor_Pdgfra_AGGAAATTCGTTGTAG_3-0-2',\n",
       " 'Suture2021_Farmer_E17_ATCCGAATCGAATGGG-3_1-0',\n",
       " 'BmscSpecification_Kishor_1_CACTCCAAGGCTAGCA_1-0-2',\n",
       " 'PerichondrialE13.5_AAGACCTCACTTCGAA-1-1',\n",
       " 'Mesenchymal2022_Zhang_E10_GATCACAGTGGCTGAA-3-0',\n",
       " 'Bmsc2019_Regev_b2_TGGTTCCTCGGTCCGA-1_2-0-2',\n",
       " 'BmscSpecification_Kishor_3_GAACGGATCGGTCCGA_3-0-2',\n",
       " 'Suture2021_Farmer_E15_CATCAGATCCCTAATT-1_2-0',\n",
       " 'BmscTime_Zhong_1M_TACTCATAGCCAACAG_1-0-2',\n",
       " 'LimbMouse2019_Kelly_E15_TAGGCATCATGGATGG-1_3-1',\n",
       " 'SOXC_WT_E13.5_TTCTAGTCACGATTCA-1_8-0',\n",
       " 'SOXC_WT_E17.5_GAGTCTAGTATCGCAT-1_10-0',\n",
       " 'Bmsc2019_Regev_b1_TGAGCATTCGAATCCA-1_1-0-2',\n",
       " 'Maxillary_Bian_E10.5_CGGTACTGCCAG_1-0',\n",
       " 'Suture2021_Farmer_E17_TAGTTGGTCTAACTTC-1_1-0',\n",
       " 'Bmsc2019_Regev_samp5_baryawno:std7_AACACGTTCAGGTTCA-0-2',\n",
       " 'PerichondrialE13.5_GTGTGCGGTCCATCCT-1-1',\n",
       " 'Mesenchymal2022_Zhang_E9_GTCAAACCACCGTGGT-4-0',\n",
       " 'Bmsc2019_Regev_samp2_baryawno:std2_GATCTAGCATGATCCA-0-2',\n",
       " 'BmscTime_Zhong_16M_ACTTATCCAACAGATA_4-0-2',\n",
       " 'Frontal_Holmes_WTE18.5_4_ATAGAGAAGTAGGCCA_12-0',\n",
       " 'Bmsc2019_Regev_b1_CTTAGGAGTAGCTCCG-1_1-0-2',\n",
       " 'BmscTime_Zhong_16M_GTTACAGAGATAGTGT_4-0-2',\n",
       " 'Mandible2020_Chai_TGCCAAAGTGGCTCCA-0',\n",
       " 'TGATCAGGTGGTCCCA-1_1-1-2',\n",
       " 'PerichondrialP21_Matsushita_Prrx1creE11.5_TGCAGATGTAGACGGT-1_3-1',\n",
       " 'CalvariaP4_Ayturk_GTCACGGCAGAAGCAC-2-0',\n",
       " 'BmscEndosteal_Ono_Prrx1creP21_TGAATGCGTTCTTGTT-1_6-0-2',\n",
       " 'GrowthPlateP0_Mizuhashi_AACAAGAAGGCGCTTC-1-0-2',\n",
       " 'SOXC_WT_E11.5_TGTAACGGTCTGTCAA-1_6-0',\n",
       " 'ChondroOsteo_Long_TATTTCGTCATCGCAA-1-1',\n",
       " 'SOXC_WT_E13.5_GTGTGATAGGTCTACT-1_8-0',\n",
       " 'BmscSpecification_Kishor_1_CCTTACGCAGCCACCA_1-0-2',\n",
       " 'ChondroOsteo_Long_AGGTTGTGTTAGGCTT-1-1',\n",
       " 'SOXC_WT_E17.5_CCGTTCATCACAACCA-1_10-0',\n",
       " 'PerichondrialP21_Matsushita_Prrx1creE11.5_CAGCAATGTCTGCAAT-1_3-1',\n",
       " 'GrowthPlateP0_Mizuhashi_GTTCATTCAAGCTCTA-1-0-2',\n",
       " 'BmscEndosteal_Ono_Prrx1creP21_CTAGACACAAGAGTAT-1_6-0-2',\n",
       " 'SOXC_WT_E17.5_TGCGACGAGCGTGTCC-1_10-0',\n",
       " 'BmscTime_Zhong_1.5M_GTCAAGTTCATTGCCC_2-0-2',\n",
       " 'coronal_Holmes_E18_2_ACCTTTACAAGAAGAG-1_4-0',\n",
       " 'BmscSpecification_Kishor_3_TGGTTCCTCCTACAGA_3-0-2',\n",
       " 'ChondroOsteo_Long_ACTGATGGTACCTAAC-1-1',\n",
       " 'PerichondrialP21_Matsushita_Prrx1creE11.5_GTGCTGGTCACAAGGG-1_3-1',\n",
       " 'SOXC_WT_E17.5_TATTGGGCAAGAGTGC-1_10-0',\n",
       " 'BmscEndosteal_Ono_Fgfr3CEp53cKO_TACCGGGTCGACATAC-1_2-0-2',\n",
       " 'Mandible2020_Chai_AGGGTGAAGGGAACGG-0',\n",
       " 'BmscEndosteal_Ono_Prrx1cre18M_ACTTTGTGTCAACCTA-1_5-0-2',\n",
       " 'SOXC_WT_E12.5_ATTCAGGCAGAGAAAG-1_7-0',\n",
       " 'Maxillary_Bian_E11.5_AAGCAGTCTGGC_2-0',\n",
       " ...]"
      ]
     },
     "execution_count": 225,
     "metadata": {},
     "output_type": "execute_result"
    }
   ],
   "source": [
    "list(set(adata.obs_names) & set(y_test.index))"
   ]
  },
  {
   "cell_type": "code",
   "execution_count": 226,
   "id": "ce7c05c2",
   "metadata": {},
   "outputs": [],
   "source": [
    "adata_sub=adata_test[list(set(adata.obs_names) & set(y_test.index)),:]"
   ]
  },
  {
   "cell_type": "code",
   "execution_count": 229,
   "id": "c5b24f2d",
   "metadata": {},
   "outputs": [
    {
     "data": {
      "text/plain": [
       "View of AnnData object with n_obs × n_vars = 109188 × 2000\n",
       "    obs: 'orig.ident', 'nCount_originalexp', 'nFeature_originalexp', 'Sample', 'Project', 'Limb.Atlas', 'Organ', 'Tissue', 'Tissue.Specific.', 'Stage', 'Gene.type', 'Treatment', 'Age', 'Age.In.Detail.', 'Machine', 'Species', 'Isolation.approach', 'Digestion', 'Enzymes', 'Bone.Forming.Methods', 'Data.Source', 'Related.Assay', 'Origin', 'nCount_RNA', 'nFeature_RNA', 'paper_label', 'coarse_label', 'scDblFinder_class', 'short_id', 'temp_cluster', 'batch', 'batch_atlas', 'size_factors', 'n_genes_by_counts', 'log1p_n_genes_by_counts', 'total_counts', 'log1p_total_counts', 'pct_counts_in_top_50_genes', 'pct_counts_in_top_100_genes', 'pct_counts_in_top_200_genes', 'pct_counts_in_top_500_genes', 'new_totals_log', 'anno_level_1', 'anno_level_2', 'anno_level_3', 'anno_level_4', 'anno_level_5', 'mix_level_1', 'mix_level_2', 'merge_id_level3', 'merge_id_level4', 'merge_id_level5', 'cellid', 'leiden_clusters_level_1', 'leiden_clusters_level_2', 'leiden_clusters_level_3', 'leiden_clusters_level_4', 'leiden_clusters_level_5', 'leiden_clusters_level_6', 'leiden_clusters_level_7', 'K2', 'K7', 'K19', 'K36', 'K66', 'K112', 'K220', 'C2', 'C7', 'C19', 'C36', 'C49', 'C90', 'C137', 'C2_named', 'C7_named', 'C19_named', 'C36_named', 'C49_named', 'C90_named', 'C137_named', 'sample_coarse', 'Unnamed: 0', 'louvain', 'tissue', 'stage', 'lineage_chondro', 'lineage_laFibro', 'lineage_lepr', 'lineage_mesenchyme', 'mes_merge', 'predicted_labels', 'conf_score'\n",
       "    uns: 'log1p'\n",
       "    obsm: 'X_draw_graph_fa', 'X_scANVI', 'X_umap'\n",
       "    layers: 'counts'"
      ]
     },
     "execution_count": 229,
     "metadata": {},
     "output_type": "execute_result"
    }
   ],
   "source": [
    "adata_sub"
   ]
  },
  {
   "cell_type": "code",
   "execution_count": 235,
   "id": "c3871be6",
   "metadata": {},
   "outputs": [],
   "source": [
    "adata_sub.uns=adata[adata_sub.obs_names,:].uns"
   ]
  },
  {
   "cell_type": "code",
   "execution_count": 242,
   "id": "9a5b6755",
   "metadata": {},
   "outputs": [
    {
     "data": {
      "text/plain": [
       "{False, True}"
      ]
     },
     "execution_count": 242,
     "metadata": {},
     "output_type": "execute_result"
    }
   ],
   "source": [
    "set(adata_concat.obs[\"chondro_prediction\"])"
   ]
  },
  {
   "cell_type": "code",
   "execution_count": 250,
   "id": "c7173127",
   "metadata": {},
   "outputs": [
    {
     "data": {
      "text/plain": [
       "AnnData object with n_obs × n_vars = 339124 × 2000\n",
       "    obs: 'orig.ident', 'nCount_originalexp', 'nFeature_originalexp', 'Sample', 'Project', 'Limb.Atlas', 'Organ', 'Tissue', 'Tissue.Specific.', 'Stage', 'Gene.type', 'Treatment', 'Age', 'Age.In.Detail.', 'Machine', 'Species', 'Isolation.approach', 'Digestion', 'Enzymes', 'Bone.Forming.Methods', 'Data.Source', 'Related.Assay', 'Origin', 'nCount_RNA', 'nFeature_RNA', 'paper_label', 'coarse_label', 'scDblFinder_class', 'short_id', 'temp_cluster', 'batch', 'batch_atlas', 'size_factors', 'n_genes_by_counts', 'log1p_n_genes_by_counts', 'total_counts', 'log1p_total_counts', 'pct_counts_in_top_50_genes', 'pct_counts_in_top_100_genes', 'pct_counts_in_top_200_genes', 'pct_counts_in_top_500_genes', 'new_totals_log', 'anno_level_1', 'anno_level_2', 'anno_level_3', 'anno_level_4', 'anno_level_5', 'mix_level_1', 'mix_level_2', 'merge_id_level3', 'merge_id_level4', 'merge_id_level5', 'cellid', 'leiden_clusters_level_1', 'leiden_clusters_level_2', 'leiden_clusters_level_3', 'leiden_clusters_level_4', 'leiden_clusters_level_5', 'leiden_clusters_level_6', 'leiden_clusters_level_7', 'K2', 'K7', 'K19', 'K36', 'K66', 'K112', 'K220', 'C2', 'C7', 'C19', 'C36', 'C49', 'C90', 'C137', 'C2_named', 'C7_named', 'C19_named', 'C36_named', 'C49_named', 'C90_named', 'C137_named', 'sample_coarse', 'Unnamed: 0', 'louvain', 'tissue', 'stage', 'lineage_chondro', 'lineage_laFibro', 'lineage_lepr', 'lineage_mesenchyme', 'mes_merge', 'mes_test', '_scvi_batch', '_scvi_labels', 'prediction', 'lepr_test', 'lepr_prediction', 'chondro_test', 'chondro_prediction'\n",
       "    uns: '_scvi_uuid', '_scvi_manager_uuid'\n",
       "    obsm: 'X_draw_graph_fa', 'X_scANVI', 'X_umap'\n",
       "    layers: 'counts'"
      ]
     },
     "execution_count": 250,
     "metadata": {},
     "output_type": "execute_result"
    }
   ],
   "source": [
    "adata_concat"
   ]
  },
  {
   "cell_type": "code",
   "execution_count": 253,
   "id": "ba8c688b",
   "metadata": {},
   "outputs": [],
   "source": [
    "adata_concat.obs[\"chondro_test\"]=adata_concat.obs[\"chondro_test\"].astype(str)\n",
    "adata_concat.obs[\"chondro_prediction\"]=adata_concat.obs[\"chondro_prediction\"].astype(str)\n",
    "adata_concat.obs[\"lepr_test\"]=adata_concat.obs[\"lepr_test\"].astype(str)\n",
    "adata_concat.obs[\"lepr_prediction\"]=adata_concat.obs[\"lepr_prediction\"].astype(str)\n",
    "adata_concat.obs[\"mes_test\"]=adata_concat.obs[\"mes_test\"].astype(str)\n",
    "adata_concat.obs[\"mes_merge\"]=adata_concat.obs[\"mes_merge\"].astype(str)"
   ]
  },
  {
   "cell_type": "code",
   "execution_count": 286,
   "id": "5e74f96c",
   "metadata": {},
   "outputs": [
    {
     "data": {
      "text/plain": [
       "Suture2021_Farmer_E17_AAACCTGCAGACTCGC-1_1-0          False\n",
       "Suture2021_Farmer_E17_AAACCTGGTGCGGTAA-1_1-0          False\n",
       "Suture2021_Farmer_E17_AAACCTGGTGGTCTCG-1_1-0         Unkown\n",
       "Suture2021_Farmer_E17_AAACCTGTCACCACCT-1_1-0          False\n",
       "Suture2021_Farmer_E17_AAACCTGTCGTTACGA-1_1-0          False\n",
       "                                                      ...  \n",
       "FetalIntestine_1.TGATCAGCTGTGTAGCAT                   False\n",
       "AdultOmentum_3.GAGGAGAGCGAGCTCGCA                     False\n",
       "NeonatalSkin_1.TTCATACGCACCTATGTA                     False\n",
       "AdultMammaryGland.Involution_1.CACAAGTTTAGGATTCCA     False\n",
       "AdultBrain_1.GTCGGTAGATGGAAAGTT                       False\n",
       "Name: chondro_test, Length: 339124, dtype: object"
      ]
     },
     "execution_count": 286,
     "metadata": {},
     "output_type": "execute_result"
    }
   ],
   "source": [
    "adata_concat.obs[\"chondro_test\"]"
   ]
  },
  {
   "cell_type": "code",
   "execution_count": 254,
   "id": "20b9bfb7",
   "metadata": {},
   "outputs": [
    {
     "data": {
      "text/html": [
       "<div>\n",
       "<style scoped>\n",
       "    .dataframe tbody tr th:only-of-type {\n",
       "        vertical-align: middle;\n",
       "    }\n",
       "\n",
       "    .dataframe tbody tr th {\n",
       "        vertical-align: top;\n",
       "    }\n",
       "\n",
       "    .dataframe thead th {\n",
       "        text-align: right;\n",
       "    }\n",
       "</style>\n",
       "<table border=\"1\" class=\"dataframe\">\n",
       "  <thead>\n",
       "    <tr style=\"text-align: right;\">\n",
       "      <th></th>\n",
       "      <th>orig.ident</th>\n",
       "      <th>nCount_originalexp</th>\n",
       "      <th>nFeature_originalexp</th>\n",
       "      <th>Sample</th>\n",
       "      <th>Project</th>\n",
       "      <th>Limb.Atlas</th>\n",
       "      <th>Organ</th>\n",
       "      <th>Tissue</th>\n",
       "      <th>Tissue.Specific.</th>\n",
       "      <th>Stage</th>\n",
       "      <th>...</th>\n",
       "      <th>lineage_mesenchyme</th>\n",
       "      <th>mes_merge</th>\n",
       "      <th>mes_test</th>\n",
       "      <th>_scvi_batch</th>\n",
       "      <th>_scvi_labels</th>\n",
       "      <th>prediction</th>\n",
       "      <th>lepr_test</th>\n",
       "      <th>lepr_prediction</th>\n",
       "      <th>chondro_test</th>\n",
       "      <th>chondro_prediction</th>\n",
       "    </tr>\n",
       "  </thead>\n",
       "  <tbody>\n",
       "    <tr>\n",
       "      <th>Suture2021_Farmer_E17_AAACCTGCAGACTCGC-1_1-0</th>\n",
       "      <td>Suture2021_Farmer_E17</td>\n",
       "      <td>11668.0</td>\n",
       "      <td>3222.0</td>\n",
       "      <td>Suture2021_Farmer_E17</td>\n",
       "      <td>Suture2021_Farmer</td>\n",
       "      <td>False</td>\n",
       "      <td>Head</td>\n",
       "      <td>Suture mesenchyme</td>\n",
       "      <td>Coronal suture</td>\n",
       "      <td>Development</td>\n",
       "      <td>...</td>\n",
       "      <td>True</td>\n",
       "      <td>True</td>\n",
       "      <td>True</td>\n",
       "      <td>75</td>\n",
       "      <td>0</td>\n",
       "      <td>True</td>\n",
       "      <td>False</td>\n",
       "      <td>False</td>\n",
       "      <td>False</td>\n",
       "      <td>False</td>\n",
       "    </tr>\n",
       "    <tr>\n",
       "      <th>Suture2021_Farmer_E17_AAACCTGGTGCGGTAA-1_1-0</th>\n",
       "      <td>Suture2021_Farmer_E17</td>\n",
       "      <td>14744.0</td>\n",
       "      <td>3910.0</td>\n",
       "      <td>Suture2021_Farmer_E17</td>\n",
       "      <td>Suture2021_Farmer</td>\n",
       "      <td>False</td>\n",
       "      <td>Head</td>\n",
       "      <td>Suture mesenchyme</td>\n",
       "      <td>Coronal suture</td>\n",
       "      <td>Development</td>\n",
       "      <td>...</td>\n",
       "      <td>False</td>\n",
       "      <td>False</td>\n",
       "      <td>False</td>\n",
       "      <td>75</td>\n",
       "      <td>0</td>\n",
       "      <td>False</td>\n",
       "      <td>False</td>\n",
       "      <td>False</td>\n",
       "      <td>False</td>\n",
       "      <td>False</td>\n",
       "    </tr>\n",
       "    <tr>\n",
       "      <th>Suture2021_Farmer_E17_AAACCTGGTGGTCTCG-1_1-0</th>\n",
       "      <td>Suture2021_Farmer_E17</td>\n",
       "      <td>14962.0</td>\n",
       "      <td>3533.0</td>\n",
       "      <td>Suture2021_Farmer_E17</td>\n",
       "      <td>Suture2021_Farmer</td>\n",
       "      <td>False</td>\n",
       "      <td>Head</td>\n",
       "      <td>Suture mesenchyme</td>\n",
       "      <td>Coronal suture</td>\n",
       "      <td>Development</td>\n",
       "      <td>...</td>\n",
       "      <td>True</td>\n",
       "      <td>True</td>\n",
       "      <td>Unkown</td>\n",
       "      <td>75</td>\n",
       "      <td>2</td>\n",
       "      <td>True</td>\n",
       "      <td>Unkown</td>\n",
       "      <td>False</td>\n",
       "      <td>Unkown</td>\n",
       "      <td>False</td>\n",
       "    </tr>\n",
       "    <tr>\n",
       "      <th>Suture2021_Farmer_E17_AAACCTGTCACCACCT-1_1-0</th>\n",
       "      <td>Suture2021_Farmer_E17</td>\n",
       "      <td>14473.0</td>\n",
       "      <td>3565.0</td>\n",
       "      <td>Suture2021_Farmer_E17</td>\n",
       "      <td>Suture2021_Farmer</td>\n",
       "      <td>False</td>\n",
       "      <td>Head</td>\n",
       "      <td>Suture mesenchyme</td>\n",
       "      <td>Coronal suture</td>\n",
       "      <td>Development</td>\n",
       "      <td>...</td>\n",
       "      <td>True</td>\n",
       "      <td>True</td>\n",
       "      <td>True</td>\n",
       "      <td>75</td>\n",
       "      <td>0</td>\n",
       "      <td>True</td>\n",
       "      <td>False</td>\n",
       "      <td>False</td>\n",
       "      <td>False</td>\n",
       "      <td>False</td>\n",
       "    </tr>\n",
       "    <tr>\n",
       "      <th>Suture2021_Farmer_E17_AAACCTGTCGTTACGA-1_1-0</th>\n",
       "      <td>Suture2021_Farmer_E17</td>\n",
       "      <td>14249.0</td>\n",
       "      <td>3968.0</td>\n",
       "      <td>Suture2021_Farmer_E17</td>\n",
       "      <td>Suture2021_Farmer</td>\n",
       "      <td>False</td>\n",
       "      <td>Head</td>\n",
       "      <td>Suture mesenchyme</td>\n",
       "      <td>Coronal suture</td>\n",
       "      <td>Development</td>\n",
       "      <td>...</td>\n",
       "      <td>False</td>\n",
       "      <td>False</td>\n",
       "      <td>False</td>\n",
       "      <td>75</td>\n",
       "      <td>0</td>\n",
       "      <td>False</td>\n",
       "      <td>False</td>\n",
       "      <td>False</td>\n",
       "      <td>False</td>\n",
       "      <td>False</td>\n",
       "    </tr>\n",
       "    <tr>\n",
       "      <th>...</th>\n",
       "      <td>...</td>\n",
       "      <td>...</td>\n",
       "      <td>...</td>\n",
       "      <td>...</td>\n",
       "      <td>...</td>\n",
       "      <td>...</td>\n",
       "      <td>...</td>\n",
       "      <td>...</td>\n",
       "      <td>...</td>\n",
       "      <td>...</td>\n",
       "      <td>...</td>\n",
       "      <td>...</td>\n",
       "      <td>...</td>\n",
       "      <td>...</td>\n",
       "      <td>...</td>\n",
       "      <td>...</td>\n",
       "      <td>...</td>\n",
       "      <td>...</td>\n",
       "      <td>...</td>\n",
       "      <td>...</td>\n",
       "      <td>...</td>\n",
       "    </tr>\n",
       "    <tr>\n",
       "      <th>TTTGACTGTATTTCCT-1_5-1-2</th>\n",
       "      <td>Metaphysis_Yang_sorted</td>\n",
       "      <td>11255.0</td>\n",
       "      <td>3122.0</td>\n",
       "      <td>Metaphysis_Yang_sorted</td>\n",
       "      <td>Metaphysis_Yang</td>\n",
       "      <td>True</td>\n",
       "      <td>Limb_adult</td>\n",
       "      <td>Femur;Tibia</td>\n",
       "      <td>Metaphysis</td>\n",
       "      <td>Development</td>\n",
       "      <td>...</td>\n",
       "      <td>False</td>\n",
       "      <td>False</td>\n",
       "      <td>Unkown</td>\n",
       "      <td>68</td>\n",
       "      <td>2</td>\n",
       "      <td>False</td>\n",
       "      <td>Unkown</td>\n",
       "      <td>False</td>\n",
       "      <td>Unkown</td>\n",
       "      <td>False</td>\n",
       "    </tr>\n",
       "    <tr>\n",
       "      <th>TTTGACTGTTGCATTG-1_5-1-2</th>\n",
       "      <td>Metaphysis_Yang_sorted</td>\n",
       "      <td>2748.0</td>\n",
       "      <td>1298.0</td>\n",
       "      <td>Metaphysis_Yang_sorted</td>\n",
       "      <td>Metaphysis_Yang</td>\n",
       "      <td>True</td>\n",
       "      <td>Limb_adult</td>\n",
       "      <td>Femur;Tibia</td>\n",
       "      <td>Metaphysis</td>\n",
       "      <td>Development</td>\n",
       "      <td>...</td>\n",
       "      <td>False</td>\n",
       "      <td>False</td>\n",
       "      <td>False</td>\n",
       "      <td>68</td>\n",
       "      <td>0</td>\n",
       "      <td>False</td>\n",
       "      <td>False</td>\n",
       "      <td>False</td>\n",
       "      <td>False</td>\n",
       "      <td>False</td>\n",
       "    </tr>\n",
       "    <tr>\n",
       "      <th>TTTGACTTCTTGGGCG-1_5-1-2</th>\n",
       "      <td>Metaphysis_Yang_sorted</td>\n",
       "      <td>18312.0</td>\n",
       "      <td>4340.0</td>\n",
       "      <td>Metaphysis_Yang_sorted</td>\n",
       "      <td>Metaphysis_Yang</td>\n",
       "      <td>True</td>\n",
       "      <td>Limb_adult</td>\n",
       "      <td>Femur;Tibia</td>\n",
       "      <td>Metaphysis</td>\n",
       "      <td>Development</td>\n",
       "      <td>...</td>\n",
       "      <td>False</td>\n",
       "      <td>False</td>\n",
       "      <td>False</td>\n",
       "      <td>68</td>\n",
       "      <td>1</td>\n",
       "      <td>False</td>\n",
       "      <td>False</td>\n",
       "      <td>False</td>\n",
       "      <td>True</td>\n",
       "      <td>True</td>\n",
       "    </tr>\n",
       "    <tr>\n",
       "      <th>TTTGGAGCAGCGACAA-1_5-1-2</th>\n",
       "      <td>Metaphysis_Yang_sorted</td>\n",
       "      <td>70471.0</td>\n",
       "      <td>6264.0</td>\n",
       "      <td>Metaphysis_Yang_sorted</td>\n",
       "      <td>Metaphysis_Yang</td>\n",
       "      <td>True</td>\n",
       "      <td>Limb_adult</td>\n",
       "      <td>Femur;Tibia</td>\n",
       "      <td>Metaphysis</td>\n",
       "      <td>Development</td>\n",
       "      <td>...</td>\n",
       "      <td>False</td>\n",
       "      <td>True</td>\n",
       "      <td>Unkown</td>\n",
       "      <td>68</td>\n",
       "      <td>2</td>\n",
       "      <td>True</td>\n",
       "      <td>Unkown</td>\n",
       "      <td>True</td>\n",
       "      <td>Unkown</td>\n",
       "      <td>True</td>\n",
       "    </tr>\n",
       "    <tr>\n",
       "      <th>TTTGGTTCACTACTTT-1_5-1-2</th>\n",
       "      <td>Metaphysis_Yang_sorted</td>\n",
       "      <td>138528.0</td>\n",
       "      <td>8254.0</td>\n",
       "      <td>Metaphysis_Yang_sorted</td>\n",
       "      <td>Metaphysis_Yang</td>\n",
       "      <td>True</td>\n",
       "      <td>Limb_adult</td>\n",
       "      <td>Femur;Tibia</td>\n",
       "      <td>Metaphysis</td>\n",
       "      <td>Development</td>\n",
       "      <td>...</td>\n",
       "      <td>False</td>\n",
       "      <td>True</td>\n",
       "      <td>True</td>\n",
       "      <td>68</td>\n",
       "      <td>0</td>\n",
       "      <td>True</td>\n",
       "      <td>True</td>\n",
       "      <td>True</td>\n",
       "      <td>False</td>\n",
       "      <td>False</td>\n",
       "    </tr>\n",
       "  </tbody>\n",
       "</table>\n",
       "<p>272369 rows × 99 columns</p>\n",
       "</div>"
      ],
      "text/plain": [
       "                                                          orig.ident  \\\n",
       "Suture2021_Farmer_E17_AAACCTGCAGACTCGC-1_1-0   Suture2021_Farmer_E17   \n",
       "Suture2021_Farmer_E17_AAACCTGGTGCGGTAA-1_1-0   Suture2021_Farmer_E17   \n",
       "Suture2021_Farmer_E17_AAACCTGGTGGTCTCG-1_1-0   Suture2021_Farmer_E17   \n",
       "Suture2021_Farmer_E17_AAACCTGTCACCACCT-1_1-0   Suture2021_Farmer_E17   \n",
       "Suture2021_Farmer_E17_AAACCTGTCGTTACGA-1_1-0   Suture2021_Farmer_E17   \n",
       "...                                                              ...   \n",
       "TTTGACTGTATTTCCT-1_5-1-2                      Metaphysis_Yang_sorted   \n",
       "TTTGACTGTTGCATTG-1_5-1-2                      Metaphysis_Yang_sorted   \n",
       "TTTGACTTCTTGGGCG-1_5-1-2                      Metaphysis_Yang_sorted   \n",
       "TTTGGAGCAGCGACAA-1_5-1-2                      Metaphysis_Yang_sorted   \n",
       "TTTGGTTCACTACTTT-1_5-1-2                      Metaphysis_Yang_sorted   \n",
       "\n",
       "                                              nCount_originalexp  \\\n",
       "Suture2021_Farmer_E17_AAACCTGCAGACTCGC-1_1-0             11668.0   \n",
       "Suture2021_Farmer_E17_AAACCTGGTGCGGTAA-1_1-0             14744.0   \n",
       "Suture2021_Farmer_E17_AAACCTGGTGGTCTCG-1_1-0             14962.0   \n",
       "Suture2021_Farmer_E17_AAACCTGTCACCACCT-1_1-0             14473.0   \n",
       "Suture2021_Farmer_E17_AAACCTGTCGTTACGA-1_1-0             14249.0   \n",
       "...                                                          ...   \n",
       "TTTGACTGTATTTCCT-1_5-1-2                                 11255.0   \n",
       "TTTGACTGTTGCATTG-1_5-1-2                                  2748.0   \n",
       "TTTGACTTCTTGGGCG-1_5-1-2                                 18312.0   \n",
       "TTTGGAGCAGCGACAA-1_5-1-2                                 70471.0   \n",
       "TTTGGTTCACTACTTT-1_5-1-2                                138528.0   \n",
       "\n",
       "                                              nFeature_originalexp  \\\n",
       "Suture2021_Farmer_E17_AAACCTGCAGACTCGC-1_1-0                3222.0   \n",
       "Suture2021_Farmer_E17_AAACCTGGTGCGGTAA-1_1-0                3910.0   \n",
       "Suture2021_Farmer_E17_AAACCTGGTGGTCTCG-1_1-0                3533.0   \n",
       "Suture2021_Farmer_E17_AAACCTGTCACCACCT-1_1-0                3565.0   \n",
       "Suture2021_Farmer_E17_AAACCTGTCGTTACGA-1_1-0                3968.0   \n",
       "...                                                            ...   \n",
       "TTTGACTGTATTTCCT-1_5-1-2                                    3122.0   \n",
       "TTTGACTGTTGCATTG-1_5-1-2                                    1298.0   \n",
       "TTTGACTTCTTGGGCG-1_5-1-2                                    4340.0   \n",
       "TTTGGAGCAGCGACAA-1_5-1-2                                    6264.0   \n",
       "TTTGGTTCACTACTTT-1_5-1-2                                    8254.0   \n",
       "\n",
       "                                                              Sample  \\\n",
       "Suture2021_Farmer_E17_AAACCTGCAGACTCGC-1_1-0   Suture2021_Farmer_E17   \n",
       "Suture2021_Farmer_E17_AAACCTGGTGCGGTAA-1_1-0   Suture2021_Farmer_E17   \n",
       "Suture2021_Farmer_E17_AAACCTGGTGGTCTCG-1_1-0   Suture2021_Farmer_E17   \n",
       "Suture2021_Farmer_E17_AAACCTGTCACCACCT-1_1-0   Suture2021_Farmer_E17   \n",
       "Suture2021_Farmer_E17_AAACCTGTCGTTACGA-1_1-0   Suture2021_Farmer_E17   \n",
       "...                                                              ...   \n",
       "TTTGACTGTATTTCCT-1_5-1-2                      Metaphysis_Yang_sorted   \n",
       "TTTGACTGTTGCATTG-1_5-1-2                      Metaphysis_Yang_sorted   \n",
       "TTTGACTTCTTGGGCG-1_5-1-2                      Metaphysis_Yang_sorted   \n",
       "TTTGGAGCAGCGACAA-1_5-1-2                      Metaphysis_Yang_sorted   \n",
       "TTTGGTTCACTACTTT-1_5-1-2                      Metaphysis_Yang_sorted   \n",
       "\n",
       "                                                        Project Limb.Atlas  \\\n",
       "Suture2021_Farmer_E17_AAACCTGCAGACTCGC-1_1-0  Suture2021_Farmer      False   \n",
       "Suture2021_Farmer_E17_AAACCTGGTGCGGTAA-1_1-0  Suture2021_Farmer      False   \n",
       "Suture2021_Farmer_E17_AAACCTGGTGGTCTCG-1_1-0  Suture2021_Farmer      False   \n",
       "Suture2021_Farmer_E17_AAACCTGTCACCACCT-1_1-0  Suture2021_Farmer      False   \n",
       "Suture2021_Farmer_E17_AAACCTGTCGTTACGA-1_1-0  Suture2021_Farmer      False   \n",
       "...                                                         ...        ...   \n",
       "TTTGACTGTATTTCCT-1_5-1-2                        Metaphysis_Yang       True   \n",
       "TTTGACTGTTGCATTG-1_5-1-2                        Metaphysis_Yang       True   \n",
       "TTTGACTTCTTGGGCG-1_5-1-2                        Metaphysis_Yang       True   \n",
       "TTTGGAGCAGCGACAA-1_5-1-2                        Metaphysis_Yang       True   \n",
       "TTTGGTTCACTACTTT-1_5-1-2                        Metaphysis_Yang       True   \n",
       "\n",
       "                                                   Organ             Tissue  \\\n",
       "Suture2021_Farmer_E17_AAACCTGCAGACTCGC-1_1-0        Head  Suture mesenchyme   \n",
       "Suture2021_Farmer_E17_AAACCTGGTGCGGTAA-1_1-0        Head  Suture mesenchyme   \n",
       "Suture2021_Farmer_E17_AAACCTGGTGGTCTCG-1_1-0        Head  Suture mesenchyme   \n",
       "Suture2021_Farmer_E17_AAACCTGTCACCACCT-1_1-0        Head  Suture mesenchyme   \n",
       "Suture2021_Farmer_E17_AAACCTGTCGTTACGA-1_1-0        Head  Suture mesenchyme   \n",
       "...                                                  ...                ...   \n",
       "TTTGACTGTATTTCCT-1_5-1-2                      Limb_adult        Femur;Tibia   \n",
       "TTTGACTGTTGCATTG-1_5-1-2                      Limb_adult        Femur;Tibia   \n",
       "TTTGACTTCTTGGGCG-1_5-1-2                      Limb_adult        Femur;Tibia   \n",
       "TTTGGAGCAGCGACAA-1_5-1-2                      Limb_adult        Femur;Tibia   \n",
       "TTTGGTTCACTACTTT-1_5-1-2                      Limb_adult        Femur;Tibia   \n",
       "\n",
       "                                             Tissue.Specific.        Stage  \\\n",
       "Suture2021_Farmer_E17_AAACCTGCAGACTCGC-1_1-0   Coronal suture  Development   \n",
       "Suture2021_Farmer_E17_AAACCTGGTGCGGTAA-1_1-0   Coronal suture  Development   \n",
       "Suture2021_Farmer_E17_AAACCTGGTGGTCTCG-1_1-0   Coronal suture  Development   \n",
       "Suture2021_Farmer_E17_AAACCTGTCACCACCT-1_1-0   Coronal suture  Development   \n",
       "Suture2021_Farmer_E17_AAACCTGTCGTTACGA-1_1-0   Coronal suture  Development   \n",
       "...                                                       ...          ...   \n",
       "TTTGACTGTATTTCCT-1_5-1-2                           Metaphysis  Development   \n",
       "TTTGACTGTTGCATTG-1_5-1-2                           Metaphysis  Development   \n",
       "TTTGACTTCTTGGGCG-1_5-1-2                           Metaphysis  Development   \n",
       "TTTGGAGCAGCGACAA-1_5-1-2                           Metaphysis  Development   \n",
       "TTTGGTTCACTACTTT-1_5-1-2                           Metaphysis  Development   \n",
       "\n",
       "                                              ... lineage_mesenchyme  \\\n",
       "Suture2021_Farmer_E17_AAACCTGCAGACTCGC-1_1-0  ...               True   \n",
       "Suture2021_Farmer_E17_AAACCTGGTGCGGTAA-1_1-0  ...              False   \n",
       "Suture2021_Farmer_E17_AAACCTGGTGGTCTCG-1_1-0  ...               True   \n",
       "Suture2021_Farmer_E17_AAACCTGTCACCACCT-1_1-0  ...               True   \n",
       "Suture2021_Farmer_E17_AAACCTGTCGTTACGA-1_1-0  ...              False   \n",
       "...                                           ...                ...   \n",
       "TTTGACTGTATTTCCT-1_5-1-2                      ...              False   \n",
       "TTTGACTGTTGCATTG-1_5-1-2                      ...              False   \n",
       "TTTGACTTCTTGGGCG-1_5-1-2                      ...              False   \n",
       "TTTGGAGCAGCGACAA-1_5-1-2                      ...              False   \n",
       "TTTGGTTCACTACTTT-1_5-1-2                      ...              False   \n",
       "\n",
       "                                             mes_merge mes_test _scvi_batch  \\\n",
       "Suture2021_Farmer_E17_AAACCTGCAGACTCGC-1_1-0      True     True          75   \n",
       "Suture2021_Farmer_E17_AAACCTGGTGCGGTAA-1_1-0     False    False          75   \n",
       "Suture2021_Farmer_E17_AAACCTGGTGGTCTCG-1_1-0      True   Unkown          75   \n",
       "Suture2021_Farmer_E17_AAACCTGTCACCACCT-1_1-0      True     True          75   \n",
       "Suture2021_Farmer_E17_AAACCTGTCGTTACGA-1_1-0     False    False          75   \n",
       "...                                                ...      ...         ...   \n",
       "TTTGACTGTATTTCCT-1_5-1-2                         False   Unkown          68   \n",
       "TTTGACTGTTGCATTG-1_5-1-2                         False    False          68   \n",
       "TTTGACTTCTTGGGCG-1_5-1-2                         False    False          68   \n",
       "TTTGGAGCAGCGACAA-1_5-1-2                          True   Unkown          68   \n",
       "TTTGGTTCACTACTTT-1_5-1-2                          True     True          68   \n",
       "\n",
       "                                             _scvi_labels prediction  \\\n",
       "Suture2021_Farmer_E17_AAACCTGCAGACTCGC-1_1-0            0       True   \n",
       "Suture2021_Farmer_E17_AAACCTGGTGCGGTAA-1_1-0            0      False   \n",
       "Suture2021_Farmer_E17_AAACCTGGTGGTCTCG-1_1-0            2       True   \n",
       "Suture2021_Farmer_E17_AAACCTGTCACCACCT-1_1-0            0       True   \n",
       "Suture2021_Farmer_E17_AAACCTGTCGTTACGA-1_1-0            0      False   \n",
       "...                                                   ...        ...   \n",
       "TTTGACTGTATTTCCT-1_5-1-2                                2      False   \n",
       "TTTGACTGTTGCATTG-1_5-1-2                                0      False   \n",
       "TTTGACTTCTTGGGCG-1_5-1-2                                1      False   \n",
       "TTTGGAGCAGCGACAA-1_5-1-2                                2       True   \n",
       "TTTGGTTCACTACTTT-1_5-1-2                                0       True   \n",
       "\n",
       "                                             lepr_test lepr_prediction  \\\n",
       "Suture2021_Farmer_E17_AAACCTGCAGACTCGC-1_1-0     False           False   \n",
       "Suture2021_Farmer_E17_AAACCTGGTGCGGTAA-1_1-0     False           False   \n",
       "Suture2021_Farmer_E17_AAACCTGGTGGTCTCG-1_1-0    Unkown           False   \n",
       "Suture2021_Farmer_E17_AAACCTGTCACCACCT-1_1-0     False           False   \n",
       "Suture2021_Farmer_E17_AAACCTGTCGTTACGA-1_1-0     False           False   \n",
       "...                                                ...             ...   \n",
       "TTTGACTGTATTTCCT-1_5-1-2                        Unkown           False   \n",
       "TTTGACTGTTGCATTG-1_5-1-2                         False           False   \n",
       "TTTGACTTCTTGGGCG-1_5-1-2                         False           False   \n",
       "TTTGGAGCAGCGACAA-1_5-1-2                        Unkown            True   \n",
       "TTTGGTTCACTACTTT-1_5-1-2                          True            True   \n",
       "\n",
       "                                             chondro_test chondro_prediction  \n",
       "Suture2021_Farmer_E17_AAACCTGCAGACTCGC-1_1-0        False              False  \n",
       "Suture2021_Farmer_E17_AAACCTGGTGCGGTAA-1_1-0        False              False  \n",
       "Suture2021_Farmer_E17_AAACCTGGTGGTCTCG-1_1-0       Unkown              False  \n",
       "Suture2021_Farmer_E17_AAACCTGTCACCACCT-1_1-0        False              False  \n",
       "Suture2021_Farmer_E17_AAACCTGTCGTTACGA-1_1-0        False              False  \n",
       "...                                                   ...                ...  \n",
       "TTTGACTGTATTTCCT-1_5-1-2                           Unkown              False  \n",
       "TTTGACTGTTGCATTG-1_5-1-2                            False              False  \n",
       "TTTGACTTCTTGGGCG-1_5-1-2                             True               True  \n",
       "TTTGGAGCAGCGACAA-1_5-1-2                           Unkown               True  \n",
       "TTTGGTTCACTACTTT-1_5-1-2                            False              False  \n",
       "\n",
       "[272369 rows x 99 columns]"
      ]
     },
     "execution_count": 254,
     "metadata": {},
     "output_type": "execute_result"
    }
   ],
   "source": [
    "adata_concat[adata.obs_names,:].obs"
   ]
  },
  {
   "cell_type": "code",
   "execution_count": 256,
   "id": "cf9d1e54",
   "metadata": {},
   "outputs": [],
   "source": [
    "adata_sub.obs=adata_concat[adata_sub.obs_names,:].obs"
   ]
  },
  {
   "cell_type": "code",
   "execution_count": 265,
   "id": "012c1a00",
   "metadata": {},
   "outputs": [],
   "source": [
    "adata_sub.obs[\"lepr_prediction\"]=adata_sub.obs[\"lepr_prediction\"].astype(\"category\")"
   ]
  },
  {
   "cell_type": "code",
   "execution_count": 270,
   "id": "1ffc3ec4",
   "metadata": {},
   "outputs": [
    {
     "data": {
      "text/plain": [
       "Bmsc2019_Regev_b3_CTGATCCTCCAGAAGG-1_3-0-2                 False\n",
       "BmscEndosteal_Ono_Fgfr3CE_TCGACCTGTCCCTGTT-1_1-0-2         False\n",
       "Bmsc2019_Regev_samp2_baryawno:std2_CGGAGTCGTAGCTGCC-0-2    False\n",
       "Maxillary_Bian_E10.5_GGGGTCCTAACT_1-0                      False\n",
       "Frontal_Holmes_WTE18.5_4_ACTATTCGTCTACATG_12-0             False\n",
       "                                                           ...  \n",
       "SOXC_WT_E13.5_GGTAGAGGTGTAAATG-1_8-0                       False\n",
       "lambdoid_Holmes_P10_TGCCCTAGTTCGTGAT_2-0                   False\n",
       "BmscSpecification_Kishor_2_CGAATGTAGTGTCTCA_2-0-2           True\n",
       "BmscSpecification_Kishor_4_CTAACTTCACATCCGG_4-0-2           True\n",
       "Bmsc2019_Regev_bm1_GCATACATCCCACTTG-1_1-0-2                 True\n",
       "Name: lepr_prediction, Length: 109188, dtype: category\n",
       "Categories (2, object): ['False', 'True']"
      ]
     },
     "execution_count": 270,
     "metadata": {},
     "output_type": "execute_result"
    }
   ],
   "source": [
    "adata_sub.obs[\"lepr_prediction\"].astype(\"category\")"
   ]
  },
  {
   "cell_type": "code",
   "execution_count": 277,
   "id": "2078ed99",
   "metadata": {},
   "outputs": [],
   "source": [
    "test=adata_sub.obs['chondro_prediction'].astype(\"category\")"
   ]
  },
  {
   "cell_type": "code",
   "execution_count": 285,
   "id": "aae52172",
   "metadata": {},
   "outputs": [
    {
     "data": {
      "text/plain": [
       "Bmsc2019_Regev_b3_CTGATCCTCCAGAAGG-1_3-0-2                 False\n",
       "BmscEndosteal_Ono_Fgfr3CE_TCGACCTGTCCCTGTT-1_1-0-2          True\n",
       "Bmsc2019_Regev_samp2_baryawno:std2_CGGAGTCGTAGCTGCC-0-2    False\n",
       "Maxillary_Bian_E10.5_GGGGTCCTAACT_1-0                      False\n",
       "Frontal_Holmes_WTE18.5_4_ACTATTCGTCTACATG_12-0             False\n",
       "                                                           ...  \n",
       "SOXC_WT_E13.5_GGTAGAGGTGTAAATG-1_8-0                       False\n",
       "lambdoid_Holmes_P10_TGCCCTAGTTCGTGAT_2-0                   False\n",
       "BmscSpecification_Kishor_2_CGAATGTAGTGTCTCA_2-0-2           True\n",
       "BmscSpecification_Kishor_4_CTAACTTCACATCCGG_4-0-2          False\n",
       "Bmsc2019_Regev_bm1_GCATACATCCCACTTG-1_1-0-2                False\n",
       "Name: chondro_prediction, Length: 109188, dtype: object"
      ]
     },
     "execution_count": 285,
     "metadata": {},
     "output_type": "execute_result"
    }
   ],
   "source": [
    "adata_sub.obs['chondro_prediction']"
   ]
  },
  {
   "cell_type": "code",
   "execution_count": 284,
   "id": "12d72bf9",
   "metadata": {},
   "outputs": [
    {
     "data": {
      "text/plain": [
       "Bmsc2019_Regev_b3_CTGATCCTCCAGAAGG-1_3-0-2                 False\n",
       "BmscEndosteal_Ono_Fgfr3CE_TCGACCTGTCCCTGTT-1_1-0-2          True\n",
       "Bmsc2019_Regev_samp2_baryawno:std2_CGGAGTCGTAGCTGCC-0-2    False\n",
       "Maxillary_Bian_E10.5_GGGGTCCTAACT_1-0                      False\n",
       "Frontal_Holmes_WTE18.5_4_ACTATTCGTCTACATG_12-0             False\n",
       "                                                           ...  \n",
       "SOXC_WT_E13.5_GGTAGAGGTGTAAATG-1_8-0                       False\n",
       "lambdoid_Holmes_P10_TGCCCTAGTTCGTGAT_2-0                   False\n",
       "BmscSpecification_Kishor_2_CGAATGTAGTGTCTCA_2-0-2           True\n",
       "BmscSpecification_Kishor_4_CTAACTTCACATCCGG_4-0-2          False\n",
       "Bmsc2019_Regev_bm1_GCATACATCCCACTTG-1_1-0-2                False\n",
       "Name: chondro_prediction, Length: 109188, dtype: category\n",
       "Categories (2, object): ['False', 'True']"
      ]
     },
     "execution_count": 284,
     "metadata": {},
     "output_type": "execute_result"
    }
   ],
   "source": [
    "test"
   ]
  },
  {
   "cell_type": "code",
   "execution_count": 288,
   "id": "290771a6",
   "metadata": {},
   "outputs": [
    {
     "data": {
      "text/plain": [
       "AnnData object with n_obs × n_vars = 109188 × 2000\n",
       "    obs: 'orig.ident', 'nCount_originalexp', 'nFeature_originalexp', 'Sample', 'Project', 'Limb.Atlas', 'Organ', 'Tissue', 'Tissue.Specific.', 'Stage', 'Gene.type', 'Treatment', 'Age', 'Age.In.Detail.', 'Machine', 'Species', 'Isolation.approach', 'Digestion', 'Enzymes', 'Bone.Forming.Methods', 'Data.Source', 'Related.Assay', 'Origin', 'nCount_RNA', 'nFeature_RNA', 'paper_label', 'coarse_label', 'scDblFinder_class', 'short_id', 'temp_cluster', 'batch', 'batch_atlas', 'size_factors', 'n_genes_by_counts', 'log1p_n_genes_by_counts', 'total_counts', 'log1p_total_counts', 'pct_counts_in_top_50_genes', 'pct_counts_in_top_100_genes', 'pct_counts_in_top_200_genes', 'pct_counts_in_top_500_genes', 'new_totals_log', 'anno_level_1', 'anno_level_2', 'anno_level_3', 'anno_level_4', 'anno_level_5', 'mix_level_1', 'mix_level_2', 'merge_id_level3', 'merge_id_level4', 'merge_id_level5', 'cellid', 'leiden_clusters_level_1', 'leiden_clusters_level_2', 'leiden_clusters_level_3', 'leiden_clusters_level_4', 'leiden_clusters_level_5', 'leiden_clusters_level_6', 'leiden_clusters_level_7', 'K2', 'K7', 'K19', 'K36', 'K66', 'K112', 'K220', 'C2', 'C7', 'C19', 'C36', 'C49', 'C90', 'C137', 'C2_named', 'C7_named', 'C19_named', 'C36_named', 'C49_named', 'C90_named', 'C137_named', 'sample_coarse', 'Unnamed: 0', 'louvain', 'tissue', 'stage', 'lineage_chondro', 'lineage_laFibro', 'lineage_lepr', 'lineage_mesenchyme', 'mes_merge', 'mes_test', '_scvi_batch', '_scvi_labels', 'prediction', 'lepr_test', 'lepr_prediction', 'chondro_test', 'chondro_prediction'\n",
       "    uns: 'coarse_label_colors', 'draw_graph', 'hvg', 'mix_level_2_colors', 'mix_level_2_sizes', 'neighbors', 'paga', 'sample_coarse_sizes', 'C7_named_colors'\n",
       "    obsm: 'X_draw_graph_fa', 'X_scANVI', 'X_umap'\n",
       "    layers: 'counts'"
      ]
     },
     "execution_count": 288,
     "metadata": {},
     "output_type": "execute_result"
    }
   ],
   "source": [
    "adata_sub"
   ]
  },
  {
   "cell_type": "code",
   "execution_count": 266,
   "id": "4113f2e9",
   "metadata": {},
   "outputs": [
    {
     "name": "stderr",
     "output_type": "stream",
     "text": [
      "... storing 'mes_merge' as categorical\n",
      "... storing 'mes_test' as categorical\n",
      "... storing 'lepr_test' as categorical\n",
      "... storing 'lepr_prediction' as categorical\n",
      "... storing 'chondro_test' as categorical\n",
      "... storing 'chondro_prediction' as categorical\n"
     ]
    },
    {
     "ename": "TypeError",
     "evalue": "bad operand type for unary -: 'str'",
     "output_type": "error",
     "traceback": [
      "\u001b[0;31m---------------------------------------------------------------------------\u001b[0m",
      "\u001b[0;31mTypeError\u001b[0m                                 Traceback (most recent call last)",
      "Input \u001b[0;32mIn [266]\u001b[0m, in \u001b[0;36m<cell line: 1>\u001b[0;34m()\u001b[0m\n\u001b[0;32m----> 1\u001b[0m \u001b[43msc\u001b[49m\u001b[38;5;241;43m.\u001b[39;49m\u001b[43mpl\u001b[49m\u001b[38;5;241;43m.\u001b[39;49m\u001b[43mdraw_graph\u001b[49m\u001b[43m(\u001b[49m\u001b[43madata_sub\u001b[49m\u001b[43m,\u001b[49m\u001b[43mcolor\u001b[49m\u001b[38;5;241;43m=\u001b[39;49m\u001b[38;5;124;43m\"\u001b[39;49m\u001b[38;5;124;43mlepr_prediction\u001b[39;49m\u001b[38;5;124;43m\"\u001b[39;49m\u001b[43m)\u001b[49m\n",
      "File \u001b[0;32m~/miniconda3/envs/py3/lib/python3.9/site-packages/scanpy/plotting/_tools/scatterplots.py:795\u001b[0m, in \u001b[0;36mdraw_graph\u001b[0;34m(adata, layout, **kwargs)\u001b[0m\n\u001b[1;32m    788\u001b[0m \u001b[38;5;28;01mif\u001b[39;00m \u001b[38;5;124m'\u001b[39m\u001b[38;5;124mX_\u001b[39m\u001b[38;5;124m'\u001b[39m \u001b[38;5;241m+\u001b[39m basis \u001b[38;5;129;01mnot\u001b[39;00m \u001b[38;5;129;01min\u001b[39;00m adata\u001b[38;5;241m.\u001b[39mobsm_keys():\n\u001b[1;32m    789\u001b[0m     \u001b[38;5;28;01mraise\u001b[39;00m \u001b[38;5;167;01mValueError\u001b[39;00m(\n\u001b[1;32m    790\u001b[0m         \u001b[38;5;124m'\u001b[39m\u001b[38;5;124mDid not find \u001b[39m\u001b[38;5;132;01m{}\u001b[39;00m\u001b[38;5;124m in adata.obs. Did you compute layout \u001b[39m\u001b[38;5;132;01m{}\u001b[39;00m\u001b[38;5;124m?\u001b[39m\u001b[38;5;124m'\u001b[39m\u001b[38;5;241m.\u001b[39mformat(\n\u001b[1;32m    791\u001b[0m             \u001b[38;5;124m'\u001b[39m\u001b[38;5;124mdraw_graph_\u001b[39m\u001b[38;5;124m'\u001b[39m \u001b[38;5;241m+\u001b[39m layout, layout\n\u001b[1;32m    792\u001b[0m         )\n\u001b[1;32m    793\u001b[0m     )\n\u001b[0;32m--> 795\u001b[0m \u001b[38;5;28;01mreturn\u001b[39;00m \u001b[43membedding\u001b[49m\u001b[43m(\u001b[49m\u001b[43madata\u001b[49m\u001b[43m,\u001b[49m\u001b[43m \u001b[49m\u001b[43mbasis\u001b[49m\u001b[43m,\u001b[49m\u001b[43m \u001b[49m\u001b[38;5;241;43m*\u001b[39;49m\u001b[38;5;241;43m*\u001b[39;49m\u001b[43mkwargs\u001b[49m\u001b[43m)\u001b[49m\n",
      "File \u001b[0;32m~/miniconda3/envs/py3/lib/python3.9/site-packages/scanpy/plotting/_tools/scatterplots.py:264\u001b[0m, in \u001b[0;36membedding\u001b[0;34m(adata, basis, color, gene_symbols, use_raw, sort_order, edges, edges_width, edges_color, neighbors_key, arrows, arrows_kwds, groups, components, layer, projection, scale_factor, color_map, cmap, palette, na_color, na_in_legend, size, frameon, legend_fontsize, legend_fontweight, legend_loc, legend_fontoutline, vmax, vmin, vcenter, norm, add_outline, outline_width, outline_color, ncols, hspace, wspace, title, show, save, ax, return_fig, **kwargs)\u001b[0m\n\u001b[1;32m    261\u001b[0m order \u001b[38;5;241m=\u001b[39m \u001b[38;5;28mslice\u001b[39m(\u001b[38;5;28;01mNone\u001b[39;00m)\n\u001b[1;32m    262\u001b[0m \u001b[38;5;28;01mif\u001b[39;00m sort_order \u001b[38;5;129;01mis\u001b[39;00m \u001b[38;5;28;01mTrue\u001b[39;00m \u001b[38;5;129;01mand\u001b[39;00m value_to_plot \u001b[38;5;129;01mis\u001b[39;00m \u001b[38;5;129;01mnot\u001b[39;00m \u001b[38;5;28;01mNone\u001b[39;00m \u001b[38;5;129;01mand\u001b[39;00m categorical \u001b[38;5;129;01mis\u001b[39;00m \u001b[38;5;28;01mFalse\u001b[39;00m:\n\u001b[1;32m    263\u001b[0m     \u001b[38;5;66;03m# Higher values plotted on top, null values on bottom\u001b[39;00m\n\u001b[0;32m--> 264\u001b[0m     order \u001b[38;5;241m=\u001b[39m np\u001b[38;5;241m.\u001b[39margsort(\u001b[38;5;241;43m-\u001b[39;49m\u001b[43mcolor_vector\u001b[49m, kind\u001b[38;5;241m=\u001b[39m\u001b[38;5;124m\"\u001b[39m\u001b[38;5;124mstable\u001b[39m\u001b[38;5;124m\"\u001b[39m)[::\u001b[38;5;241m-\u001b[39m\u001b[38;5;241m1\u001b[39m]\n\u001b[1;32m    265\u001b[0m \u001b[38;5;28;01melif\u001b[39;00m sort_order \u001b[38;5;129;01mand\u001b[39;00m categorical:\n\u001b[1;32m    266\u001b[0m     \u001b[38;5;66;03m# Null points go on bottom\u001b[39;00m\n\u001b[1;32m    267\u001b[0m     order \u001b[38;5;241m=\u001b[39m np\u001b[38;5;241m.\u001b[39margsort(\u001b[38;5;241m~\u001b[39mpd\u001b[38;5;241m.\u001b[39misnull(color_source_vector), kind\u001b[38;5;241m=\u001b[39m\u001b[38;5;124m\"\u001b[39m\u001b[38;5;124mstable\u001b[39m\u001b[38;5;124m\"\u001b[39m)\n",
      "\u001b[0;31mTypeError\u001b[0m: bad operand type for unary -: 'str'"
     ]
    },
    {
     "data": {
      "image/png": "[encoded data removed]",
      "text/plain": [
       "<Figure size 800x800 with 1 Axes>"
      ]
     },
     "metadata": {
      "image/png": {
       "height": 720,
       "width": 776
      },
      "needs_background": "light"
     },
     "output_type": "display_data"
    }
   ],
   "source": [
    "sc.pl.draw_graph(adata_sub,color=\"lepr_prediction\")"
   ]
  },
  {
   "cell_type": "code",
   "execution_count": 295,
   "id": "78777ef8",
   "metadata": {},
   "outputs": [
    {
     "data": {
      "text/plain": [
       "Index(['1190002N15Rik', '1200007C13Rik', '1500009L16Rik', '1500015O10Rik',\n",
       "       '1700086L19Rik', '1810011O10Rik', '1810041L15Rik', '2010111I01Rik',\n",
       "       '2200002D01Rik', '2810001G20Rik',\n",
       "       ...\n",
       "       'Zfhx3', 'Zfhx4', 'Zfp36', 'Zfp36l1', 'Zfp36l2', 'Zfp503', 'Zfp618',\n",
       "       'Zfp703', 'Zim1', 'Zscan26'],\n",
       "      dtype='object', length=2000)"
      ]
     },
     "execution_count": 295,
     "metadata": {},
     "output_type": "execute_result"
    }
   ],
   "source": [
    "adata_sub.var_names"
   ]
  },
  {
   "cell_type": "code",
   "execution_count": 294,
   "id": "f6d2b689",
   "metadata": {},
   "outputs": [],
   "source": [
    "pd.DataFrame(adata.var_names[adata.var[\"highly_variable\"]]).to_csv(\"../data/soft_prepare/variable_2000.csv\")"
   ]
  },
  {
   "cell_type": "code",
   "execution_count": 300,
   "id": "24890780",
   "metadata": {},
   "outputs": [
    {
     "data": {
      "text/plain": [
       "AnnData object with n_obs × n_vars = 272369 × 62934\n",
       "    obs: 'orig.ident', 'nCount_originalexp', 'nFeature_originalexp', 'Sample', 'Project', 'Limb.Atlas', 'Organ', 'Tissue', 'Tissue.Specific.', 'Stage', 'Gene.type', 'Treatment', 'Age', 'Age.In.Detail.', 'Machine', 'Species', 'Isolation.approach', 'Digestion', 'Enzymes', 'Bone.Forming.Methods', 'Data.Source', 'Related.Assay', 'Origin', 'nCount_RNA', 'nFeature_RNA', 'paper_label', 'coarse_label', 'scDblFinder_class', 'short_id', 'temp_cluster', 'batch', 'batch_atlas', 'size_factors', 'n_genes_by_counts', 'log1p_n_genes_by_counts', 'total_counts', 'log1p_total_counts', 'pct_counts_in_top_50_genes', 'pct_counts_in_top_100_genes', 'pct_counts_in_top_200_genes', 'pct_counts_in_top_500_genes', 'new_totals_log', 'anno_level_1', 'anno_level_2', 'anno_level_3', 'anno_level_4', 'anno_level_5', 'mix_level_1', 'mix_level_2', 'merge_id_level3', 'merge_id_level4', 'merge_id_level5', 'cellid', 'leiden_clusters_level_1', 'leiden_clusters_level_2', 'leiden_clusters_level_3', 'leiden_clusters_level_4', 'leiden_clusters_level_5', 'leiden_clusters_level_6', 'leiden_clusters_level_7', 'K2', 'K7', 'K19', 'K36', 'K66', 'K112', 'K220', 'C2', 'C7', 'C19', 'C36', 'C49', 'C90', 'C137', 'C2_named', 'C7_named', 'C19_named', 'C36_named', 'C49_named', 'C90_named', 'C137_named', 'sample_coarse'\n",
       "    var: 'features-0', 'n_cells_by_counts-0', 'mean_counts-0', 'log1p_mean_counts-0', 'pct_dropout_by_counts-0', 'total_counts-0', 'log1p_total_counts-0', 'highly_variable-0', 'means-0', 'dispersions-0', 'dispersions_norm-0', 'highly_variable_nbatches-0', 'highly_variable_intersection-0', 'features-1', 'n_cells_by_counts-1', 'mean_counts-1', 'log1p_mean_counts-1', 'pct_dropout_by_counts-1', 'total_counts-1', 'log1p_total_counts-1', 'highly_variable-1', 'means-1', 'dispersions-1', 'dispersions_norm-1', 'highly_variable_nbatches-1', 'highly_variable_intersection-1', 'highly_variable-2', 'means-2', 'dispersions-2', 'dispersions_norm-2', 'highly_variable_nbatches-2', 'highly_variable_intersection-2', 'features.0-2', 'n_cells_by_counts', 'mean_counts', 'log1p_mean_counts', 'pct_dropout_by_counts', 'total_counts', 'log1p_total_counts', 'highly_variable', 'means', 'dispersions', 'dispersions_norm', 'highly_variable_nbatches', 'highly_variable_intersection'\n",
       "    uns: 'coarse_label_colors', 'draw_graph', 'hvg', 'mix_level_2_colors', 'mix_level_2_sizes', 'neighbors', 'paga', 'sample_coarse_sizes'\n",
       "    obsm: 'X_draw_graph_fa', 'X_scANVI', 'X_umap'\n",
       "    layers: 'counts'\n",
       "    obsp: 'connectivities', 'distances'"
      ]
     },
     "execution_count": 300,
     "metadata": {},
     "output_type": "execute_result"
    }
   ],
   "source": [
    "adata"
   ]
  }
 ],
 "metadata": {
  "kernelspec": {
   "display_name": "Python 3 (ipykernel)",
   "language": "python",
   "name": "python3"
  },
  "language_info": {
   "codemirror_mode": {
    "name": "ipython",
    "version": 3
   },
   "file_extension": ".py",
   "mimetype": "text/x-python",
   "name": "python",
   "nbconvert_exporter": "python",
   "pygments_lexer": "ipython3",
   "version": "3.10.12"
  }
 },
 "nbformat": 4,
 "nbformat_minor": 5
}
