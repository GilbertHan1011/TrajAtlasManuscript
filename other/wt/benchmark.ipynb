{
 "cells": [
  {
   "cell_type": "code",
   "execution_count": 1,
   "id": "10e0f191",
   "metadata": {},
   "outputs": [],
   "source": [
    "import numpy as np\n",
    "import scanpy as sc\n",
    "\n",
    "from scib_metrics.benchmark import Benchmarker,BioConservation\n",
    "\n",
    "%matplotlib inline\n",
    "import matplotlib\n",
    "from scib_metrics.nearest_neighbors import NeighborsOutput"
   ]
  },
  {
   "cell_type": "code",
   "execution_count": 2,
   "id": "5719499d",
   "metadata": {},
   "outputs": [],
   "source": [
    "adata=sc.read(\"../../imporatant_process_data/4.12_wt_integrate_SCRAN_log1p_gene_filtered.h5ad\")\n"
   ]
  },
  {
   "cell_type": "code",
   "execution_count": 3,
   "id": "453ff7c3",
   "metadata": {},
   "outputs": [
    {
     "name": "stdout",
     "output_type": "stream",
     "text": [
      "../processed_data/hypertune/gene_8000_latent_10_umap.h5ad\n",
      "scANVI_8000_10\n",
      "../processed_data/hypertune/gene_1500_latent_15_umap.h5ad\n",
      "scANVI_1500_15\n",
      "../processed_data/hypertune/gene_3000_latent_15_umap.h5ad\n",
      "scANVI_3000_15\n",
      "../processed_data/hypertune/gene_3000_latent_30_umap.h5ad\n",
      "scANVI_3000_30\n",
      "../processed_data/hypertune/gene_2000_latent_10_umap.h5ad\n",
      "scANVI_2000_10\n",
      "../processed_data/hypertune/gene_1000_latent_15_umap.h5ad\n",
      "scANVI_1000_15\n",
      "../processed_data/hypertune/gene_3000_latent_4_umap.h5ad\n",
      "scANVI_3000_4\n",
      "../processed_data/hypertune/gene_4000_latent_4_umap.h5ad\n",
      "scANVI_4000_4\n",
      "../processed_data/hypertune/gene_1500_latent_6_umap.h5ad\n",
      "scANVI_1500_6\n",
      "../processed_data/hypertune/gene_3000_latent_20_umap.h5ad\n",
      "scANVI_3000_20\n",
      "../processed_data/hypertune/gene_4000_latent_20_umap.h5ad\n",
      "scANVI_4000_20\n",
      "../processed_data/hypertune/gene_4000_latent_15_umap.h5ad\n",
      "scANVI_4000_15\n",
      "../processed_data/hypertune/gene_5000_latent_15_umap.h5ad\n",
      "scANVI_5000_15\n",
      "../processed_data/hypertune/gene_8000_latent_4_umap.h5ad\n",
      "scANVI_8000_4\n",
      "../processed_data/hypertune/gene_5000_latent_30_umap.h5ad\n",
      "scANVI_5000_30\n",
      "../processed_data/hypertune/gene_1500_latent_20_umap.h5ad\n",
      "scANVI_1500_20\n"
     ]
    }
   ],
   "source": [
    "import os\n",
    "\n",
    "directory = \"../processed_data/hypertune/\"\n",
    "\n",
    "files = os.listdir(directory)\n",
    "varList=list()\n",
    "\n",
    "for file in files:\n",
    "    print(os.path.join(directory, file))\n",
    "    var_name = \"scANVI_\" + file.split(\"/\")[-1].split(\"_\")[1] + \"_\" + file.split(\"/\")[-1].split(\"_\")[3]\n",
    "    print(var_name)\n",
    "    varList.append(var_name)"
   ]
  },
  {
   "cell_type": "code",
   "execution_count": 4,
   "id": "f605f586",
   "metadata": {},
   "outputs": [
    {
     "data": {
      "text/plain": [
       "['scANVI_8000_10',\n",
       " 'scANVI_1500_15',\n",
       " 'scANVI_3000_15',\n",
       " 'scANVI_3000_30',\n",
       " 'scANVI_2000_10',\n",
       " 'scANVI_1000_15',\n",
       " 'scANVI_3000_4',\n",
       " 'scANVI_4000_4',\n",
       " 'scANVI_1500_6',\n",
       " 'scANVI_3000_20',\n",
       " 'scANVI_4000_20',\n",
       " 'scANVI_4000_15',\n",
       " 'scANVI_5000_15',\n",
       " 'scANVI_8000_4',\n",
       " 'scANVI_5000_30',\n",
       " 'scANVI_1500_20']"
      ]
     },
     "execution_count": 4,
     "metadata": {},
     "output_type": "execute_result"
    }
   ],
   "source": [
    "varList"
   ]
  },
  {
   "cell_type": "code",
   "execution_count": 5,
   "id": "53dc1620",
   "metadata": {},
   "outputs": [],
   "source": [
    "# update adata.obsm dictionary with the loaded data\n",
    "for file in files:\n",
    "    # extract the variable name from the file path\n",
    "    var_name = \"scANVI_\" + file.split(\"/\")[-1].split(\"_\")[1] + \"_\" + file.split(\"/\")[-1].split(\"_\")[3]\n",
    "    # read the data file\n",
    "    data = sc.read(os.path.join(directory, file))\n",
    "    # update the adata.obsm dictionary\n",
    "    adata.obsm[var_name] = data.X"
   ]
  },
  {
   "cell_type": "code",
   "execution_count": 6,
   "id": "3abadcd3",
   "metadata": {},
   "outputs": [
    {
     "data": {
      "text/plain": [
       "AnnData object with n_obs × n_vars = 274670 × 2000\n",
       "    obs: 'orig.ident', 'nCount_originalexp', 'nFeature_originalexp', 'Sample', 'Project', 'Limb.Atlas', 'Organ', 'Tissue', 'Tissue.Specific.', 'Stage', 'Gene.type', 'Treatment', 'Age', 'Age.In.Detail.', 'Machine', 'Species', 'Isolation.approach', 'Digestion', 'Enzymes', 'Cre', 'Bone.Forming.Methods', 'Data.Source', 'Related.Assay', 'Origin', 'nCount_RNA', 'nFeature_RNA', 'paper_label', 'coarse_label', 'scDblFinder_class', 'short_id', 'temp_cluster', 'batch', 'K2', 'K6', 'K12', 'K24', 'K53', 'K2.1', 'K6.1', 'K12.1', 'K24.1', 'K53.1', 'K2.2', 'K6.2', 'K12.2', 'K24.2', 'K53.2', 'K2.3', 'K6.3', 'K12.3', 'K24.3', 'K53.3', 'C2', 'C6', 'C12', 'C21', 'C41', 'C2_named', 'C6_named', 'C12_named', 'C21_named', 'C41_named', 'K4', 'K11', 'K25', 'K57', 'C4', 'C9', 'C22', 'C42', 'C4_named', 'C9_named', 'C22_named', 'C42_named', 'K5', 'K19', 'K65', 'C17', 'C36', 'C5', 'C5_named', 'C17_named', 'C36_named', 'batch_atlas', 'size_factors', 'n_genes_by_counts', 'log1p_n_genes_by_counts', 'total_counts', 'log1p_total_counts', 'pct_counts_in_top_50_genes', 'pct_counts_in_top_100_genes', 'pct_counts_in_top_200_genes', 'pct_counts_in_top_500_genes', 'new_totals_log', 'scanvi_label', '_scvi_batch', '_scvi_labels'\n",
       "    var: 'features-0', 'n_cells_by_counts-0', 'mean_counts-0', 'log1p_mean_counts-0', 'pct_dropout_by_counts-0', 'total_counts-0', 'log1p_total_counts-0', 'highly_variable-0', 'means-0', 'dispersions-0', 'dispersions_norm-0', 'highly_variable_nbatches-0', 'highly_variable_intersection-0', 'features-1', 'n_cells_by_counts-1', 'mean_counts-1', 'log1p_mean_counts-1', 'pct_dropout_by_counts-1', 'total_counts-1', 'log1p_total_counts-1', 'highly_variable-1', 'means-1', 'dispersions-1', 'dispersions_norm-1', 'highly_variable_nbatches-1', 'highly_variable_intersection-1', 'highly_variable-2', 'means-2', 'dispersions-2', 'dispersions_norm-2', 'highly_variable_nbatches-2', 'highly_variable_intersection-2', 'features.0-2', 'n_cells_by_counts', 'mean_counts', 'log1p_mean_counts', 'pct_dropout_by_counts', 'total_counts', 'log1p_total_counts', 'highly_variable', 'means', 'dispersions', 'dispersions_norm', 'highly_variable_nbatches', 'highly_variable_intersection'\n",
       "    uns: '_scvi_manager_uuid', '_scvi_uuid', 'hvg'\n",
       "    obsm: 'X_draw_graph_fa', 'X_scANVI', 'X_umap', 'scANVI_8000_10', 'scANVI_1500_15', 'scANVI_3000_15', 'scANVI_3000_30', 'scANVI_2000_10', 'scANVI_1000_15', 'scANVI_3000_4', 'scANVI_4000_4', 'scANVI_1500_6', 'scANVI_3000_20', 'scANVI_4000_20', 'scANVI_4000_15', 'scANVI_5000_15', 'scANVI_8000_4', 'scANVI_5000_30', 'scANVI_1500_20'\n",
       "    layers: 'counts'"
      ]
     },
     "execution_count": 6,
     "metadata": {},
     "output_type": "execute_result"
    }
   ],
   "source": [
    "adata"
   ]
  },
  {
   "cell_type": "code",
   "execution_count": 7,
   "id": "aae99eb3",
   "metadata": {},
   "outputs": [],
   "source": [
    "biocons = BioConservation(isolated_labels=False)\n",
    "bm = Benchmarker(\n",
    "    adata,\n",
    "    batch_key=\"batch\",\n",
    "    label_key=\"coarse_label\",\n",
    "    embedding_obsm_keys=varList[8:16],\n",
    "    bio_conservation_metrics=biocons,\n",
    "    n_jobs=8,\n",
    ")\n"
   ]
  },
  {
   "cell_type": "code",
   "execution_count": 8,
   "id": "9988c914",
   "metadata": {},
   "outputs": [
    {
     "data": {
      "text/plain": [
       "['scANVI_1500_6',\n",
       " 'scANVI_3000_20',\n",
       " 'scANVI_4000_20',\n",
       " 'scANVI_4000_15',\n",
       " 'scANVI_5000_15',\n",
       " 'scANVI_8000_4',\n",
       " 'scANVI_5000_30',\n",
       " 'scANVI_1500_20']"
      ]
     },
     "execution_count": 8,
     "metadata": {},
     "output_type": "execute_result"
    }
   ],
   "source": [
    "varList[8:16]"
   ]
  },
  {
   "cell_type": "code",
   "execution_count": 9,
   "id": "cdd6827a",
   "metadata": {},
   "outputs": [
    {
     "name": "stderr",
     "output_type": "stream",
     "text": [
      "Computing neighbors: 100%|██████████| 8/8 [21:07<00:00, 158.40s/it]\n",
      "Embeddings:   0%|\u001b[32m          \u001b[0m| 0/8 [00:00<?, ?it/s]\n",
      "Metrics:   0%|\u001b[34m          \u001b[0m| 0/10 [00:00<?, ?it/s]\u001b[A/home/zhangyufeng/.local/lib/python3.9/site-packages/sklearn/metrics/cluster/_supervised.py:389: RuntimeWarning: overflow encountered in long_scalars\n",
      "  return 2. * (tp * tn - fn * fp) / ((tp + fn) * (fn + tn) +\n",
      "/home/zhangyufeng/.local/lib/python3.9/site-packages/sklearn/metrics/cluster/_supervised.py:390: RuntimeWarning: overflow encountered in long_scalars\n",
      "  (tp + fp) * (fp + tn))\n",
      "/home/zhangyufeng/.local/lib/python3.9/site-packages/sklearn/metrics/cluster/_supervised.py:389: RuntimeWarning: overflow encountered in long_scalars\n",
      "  return 2. * (tp * tn - fn * fp) / ((tp + fn) * (fn + tn) +\n",
      "/home/zhangyufeng/.local/lib/python3.9/site-packages/sklearn/metrics/cluster/_supervised.py:390: RuntimeWarning: overflow encountered in long_scalars\n",
      "  (tp + fp) * (fp + tn))\n",
      "/home/zhangyufeng/.local/lib/python3.9/site-packages/sklearn/metrics/cluster/_supervised.py:389: RuntimeWarning: overflow encountered in long_scalars\n",
      "  return 2. * (tp * tn - fn * fp) / ((tp + fn) * (fn + tn) +\n",
      "/home/zhangyufeng/.local/lib/python3.9/site-packages/sklearn/metrics/cluster/_supervised.py:390: RuntimeWarning: overflow encountered in long_scalars\n",
      "  (tp + fp) * (fp + tn))\n",
      "/home/zhangyufeng/.local/lib/python3.9/site-packages/sklearn/metrics/cluster/_supervised.py:389: RuntimeWarning: overflow encountered in long_scalars\n",
      "  return 2. * (tp * tn - fn * fp) / ((tp + fn) * (fn + tn) +\n",
      "/home/zhangyufeng/.local/lib/python3.9/site-packages/sklearn/metrics/cluster/_supervised.py:390: RuntimeWarning: overflow encountered in long_scalars\n",
      "  (tp + fp) * (fp + tn))\n",
      "/home/zhangyufeng/.local/lib/python3.9/site-packages/sklearn/metrics/cluster/_supervised.py:389: RuntimeWarning: overflow encountered in long_scalars\n",
      "  return 2. * (tp * tn - fn * fp) / ((tp + fn) * (fn + tn) +\n",
      "/home/zhangyufeng/.local/lib/python3.9/site-packages/sklearn/metrics/cluster/_supervised.py:390: RuntimeWarning: overflow encountered in long_scalars\n",
      "  (tp + fp) * (fp + tn))\n",
      "/home/zhangyufeng/.local/lib/python3.9/site-packages/sklearn/metrics/cluster/_supervised.py:389: RuntimeWarning: overflow encountered in long_scalars\n",
      "  return 2. * (tp * tn - fn * fp) / ((tp + fn) * (fn + tn) +\n",
      "/home/zhangyufeng/.local/lib/python3.9/site-packages/sklearn/metrics/cluster/_supervised.py:390: RuntimeWarning: overflow encountered in long_scalars\n",
      "  (tp + fp) * (fp + tn))\n",
      "/home/zhangyufeng/.local/lib/python3.9/site-packages/sklearn/metrics/cluster/_supervised.py:389: RuntimeWarning: overflow encountered in long_scalars\n",
      "  return 2. * (tp * tn - fn * fp) / ((tp + fn) * (fn + tn) +\n",
      "/home/zhangyufeng/.local/lib/python3.9/site-packages/sklearn/metrics/cluster/_supervised.py:390: RuntimeWarning: overflow encountered in long_scalars\n",
      "  (tp + fp) * (fp + tn))\n",
      "/home/zhangyufeng/.local/lib/python3.9/site-packages/sklearn/metrics/cluster/_supervised.py:389: RuntimeWarning: overflow encountered in long_scalars\n",
      "  return 2. * (tp * tn - fn * fp) / ((tp + fn) * (fn + tn) +\n",
      "/home/zhangyufeng/.local/lib/python3.9/site-packages/sklearn/metrics/cluster/_supervised.py:390: RuntimeWarning: overflow encountered in long_scalars\n",
      "  (tp + fp) * (fp + tn))\n",
      "/home/zhangyufeng/.local/lib/python3.9/site-packages/sklearn/metrics/cluster/_supervised.py:389: RuntimeWarning: overflow encountered in long_scalars\n",
      "  return 2. * (tp * tn - fn * fp) / ((tp + fn) * (fn + tn) +\n",
      "/home/zhangyufeng/.local/lib/python3.9/site-packages/sklearn/metrics/cluster/_supervised.py:390: RuntimeWarning: overflow encountered in long_scalars\n",
      "  (tp + fp) * (fp + tn))\n",
      "/home/zhangyufeng/.local/lib/python3.9/site-packages/sklearn/metrics/cluster/_supervised.py:389: RuntimeWarning: overflow encountered in long_scalars\n",
      "  return 2. * (tp * tn - fn * fp) / ((tp + fn) * (fn + tn) +\n",
      "/home/zhangyufeng/.local/lib/python3.9/site-packages/sklearn/metrics/cluster/_supervised.py:390: RuntimeWarning: overflow encountered in long_scalars\n",
      "  (tp + fp) * (fp + tn))\n",
      "\n",
      "Metrics:  10%|\u001b[34m█         \u001b[0m| 1/10 [01:55<17:17, 115.29s/it]\u001b[A2023-04-14 18:00:54.630290: E external/xla/xla/stream_executor/cuda/cuda_dnn.cc:429] Could not create cudnn handle: CUDNN_STATUS_INTERNAL_ERROR\n",
      "Embeddings:   0%|\u001b[32m          \u001b[0m| 0/8 [01:55<?, ?it/s]\n"
     ]
    },
    {
     "ename": "XlaRuntimeError",
     "evalue": "FAILED_PRECONDITION: DNN library initialization failed. Look at the errors above for more details.",
     "output_type": "error",
     "traceback": [
      "\u001b[0;31m---------------------------------------------------------------------------\u001b[0m",
      "\u001b[0;31mXlaRuntimeError\u001b[0m                           Traceback (most recent call last)",
      "\u001b[0;32m/tmp/ipykernel_3006412/1205659363.py\u001b[0m in \u001b[0;36m<module>\u001b[0;34m\u001b[0m\n\u001b[0;32m----> 1\u001b[0;31m \u001b[0mbm\u001b[0m\u001b[0;34m.\u001b[0m\u001b[0mbenchmark\u001b[0m\u001b[0;34m(\u001b[0m\u001b[0;34m)\u001b[0m\u001b[0;34m\u001b[0m\u001b[0;34m\u001b[0m\u001b[0m\n\u001b[0m",
      "\u001b[0;32m~/miniconda3/envs/py3/lib/python3.9/site-packages/scib_metrics/benchmark/_core.py\u001b[0m in \u001b[0;36mbenchmark\u001b[0;34m(self)\u001b[0m\n\u001b[1;32m    223\u001b[0m                             \u001b[0;31m# Kwargs in this case\u001b[0m\u001b[0;34m\u001b[0m\u001b[0;34m\u001b[0m\u001b[0;34m\u001b[0m\u001b[0m\n\u001b[1;32m    224\u001b[0m                             \u001b[0mmetric_fn\u001b[0m \u001b[0;34m=\u001b[0m \u001b[0mpartial\u001b[0m\u001b[0;34m(\u001b[0m\u001b[0mmetric_fn\u001b[0m\u001b[0;34m,\u001b[0m \u001b[0;34m**\u001b[0m\u001b[0muse_metric_or_kwargs\u001b[0m\u001b[0;34m)\u001b[0m\u001b[0;34m\u001b[0m\u001b[0;34m\u001b[0m\u001b[0m\n\u001b[0;32m--> 225\u001b[0;31m                         \u001b[0mmetric_value\u001b[0m \u001b[0;34m=\u001b[0m \u001b[0mgetattr\u001b[0m\u001b[0;34m(\u001b[0m\u001b[0mMetricAnnDataAPI\u001b[0m\u001b[0;34m,\u001b[0m \u001b[0mmetric_name\u001b[0m\u001b[0;34m)\u001b[0m\u001b[0;34m(\u001b[0m\u001b[0mad\u001b[0m\u001b[0;34m,\u001b[0m \u001b[0mmetric_fn\u001b[0m\u001b[0;34m)\u001b[0m\u001b[0;34m\u001b[0m\u001b[0;34m\u001b[0m\u001b[0m\n\u001b[0m\u001b[1;32m    226\u001b[0m                         \u001b[0;31m# nmi/ari metrics return a dict\u001b[0m\u001b[0;34m\u001b[0m\u001b[0;34m\u001b[0m\u001b[0;34m\u001b[0m\u001b[0m\n\u001b[1;32m    227\u001b[0m                         \u001b[0;32mif\u001b[0m \u001b[0misinstance\u001b[0m\u001b[0;34m(\u001b[0m\u001b[0mmetric_value\u001b[0m\u001b[0;34m,\u001b[0m \u001b[0mdict\u001b[0m\u001b[0;34m)\u001b[0m\u001b[0;34m:\u001b[0m\u001b[0;34m\u001b[0m\u001b[0;34m\u001b[0m\u001b[0m\n",
      "\u001b[0;32m~/miniconda3/envs/py3/lib/python3.9/site-packages/scib_metrics/benchmark/_core.py\u001b[0m in \u001b[0;36m<lambda>\u001b[0;34m(ad, fn)\u001b[0m\n\u001b[1;32m     85\u001b[0m     \u001b[0mnmi_ari_cluster_labels_leiden\u001b[0m \u001b[0;34m=\u001b[0m \u001b[0;32mlambda\u001b[0m \u001b[0mad\u001b[0m\u001b[0;34m,\u001b[0m \u001b[0mfn\u001b[0m\u001b[0;34m:\u001b[0m \u001b[0mfn\u001b[0m\u001b[0;34m(\u001b[0m\u001b[0mad\u001b[0m\u001b[0;34m.\u001b[0m\u001b[0mobsp\u001b[0m\u001b[0;34m[\u001b[0m\u001b[0;34m\"15_connectivities\"\u001b[0m\u001b[0;34m]\u001b[0m\u001b[0;34m,\u001b[0m \u001b[0mad\u001b[0m\u001b[0;34m.\u001b[0m\u001b[0mobs\u001b[0m\u001b[0;34m[\u001b[0m\u001b[0m_LABELS\u001b[0m\u001b[0;34m]\u001b[0m\u001b[0;34m)\u001b[0m\u001b[0;34m\u001b[0m\u001b[0;34m\u001b[0m\u001b[0m\n\u001b[1;32m     86\u001b[0m     \u001b[0mnmi_ari_cluster_labels_kmeans\u001b[0m \u001b[0;34m=\u001b[0m \u001b[0;32mlambda\u001b[0m \u001b[0mad\u001b[0m\u001b[0;34m,\u001b[0m \u001b[0mfn\u001b[0m\u001b[0;34m:\u001b[0m \u001b[0mfn\u001b[0m\u001b[0;34m(\u001b[0m\u001b[0mad\u001b[0m\u001b[0;34m.\u001b[0m\u001b[0mX\u001b[0m\u001b[0;34m,\u001b[0m \u001b[0mad\u001b[0m\u001b[0;34m.\u001b[0m\u001b[0mobs\u001b[0m\u001b[0;34m[\u001b[0m\u001b[0m_LABELS\u001b[0m\u001b[0;34m]\u001b[0m\u001b[0;34m)\u001b[0m\u001b[0;34m\u001b[0m\u001b[0;34m\u001b[0m\u001b[0m\n\u001b[0;32m---> 87\u001b[0;31m     \u001b[0msilhouette_label\u001b[0m \u001b[0;34m=\u001b[0m \u001b[0;32mlambda\u001b[0m \u001b[0mad\u001b[0m\u001b[0;34m,\u001b[0m \u001b[0mfn\u001b[0m\u001b[0;34m:\u001b[0m \u001b[0mfn\u001b[0m\u001b[0;34m(\u001b[0m\u001b[0mad\u001b[0m\u001b[0;34m.\u001b[0m\u001b[0mX\u001b[0m\u001b[0;34m,\u001b[0m \u001b[0mad\u001b[0m\u001b[0;34m.\u001b[0m\u001b[0mobs\u001b[0m\u001b[0;34m[\u001b[0m\u001b[0m_LABELS\u001b[0m\u001b[0;34m]\u001b[0m\u001b[0;34m)\u001b[0m\u001b[0;34m\u001b[0m\u001b[0;34m\u001b[0m\u001b[0m\n\u001b[0m\u001b[1;32m     88\u001b[0m     \u001b[0mclisi_knn\u001b[0m \u001b[0;34m=\u001b[0m \u001b[0;32mlambda\u001b[0m \u001b[0mad\u001b[0m\u001b[0;34m,\u001b[0m \u001b[0mfn\u001b[0m\u001b[0;34m:\u001b[0m \u001b[0mfn\u001b[0m\u001b[0;34m(\u001b[0m\u001b[0mad\u001b[0m\u001b[0;34m.\u001b[0m\u001b[0mobsp\u001b[0m\u001b[0;34m[\u001b[0m\u001b[0;34m\"90_distances\"\u001b[0m\u001b[0;34m]\u001b[0m\u001b[0;34m,\u001b[0m \u001b[0mad\u001b[0m\u001b[0;34m.\u001b[0m\u001b[0mobs\u001b[0m\u001b[0;34m[\u001b[0m\u001b[0m_LABELS\u001b[0m\u001b[0;34m]\u001b[0m\u001b[0;34m)\u001b[0m\u001b[0;34m\u001b[0m\u001b[0;34m\u001b[0m\u001b[0m\n\u001b[1;32m     89\u001b[0m     \u001b[0mgraph_connectivity\u001b[0m \u001b[0;34m=\u001b[0m \u001b[0;32mlambda\u001b[0m \u001b[0mad\u001b[0m\u001b[0;34m,\u001b[0m \u001b[0mfn\u001b[0m\u001b[0;34m:\u001b[0m \u001b[0mfn\u001b[0m\u001b[0;34m(\u001b[0m\u001b[0mad\u001b[0m\u001b[0;34m.\u001b[0m\u001b[0mobsp\u001b[0m\u001b[0;34m[\u001b[0m\u001b[0;34m\"15_distances\"\u001b[0m\u001b[0;34m]\u001b[0m\u001b[0;34m,\u001b[0m \u001b[0mad\u001b[0m\u001b[0;34m.\u001b[0m\u001b[0mobs\u001b[0m\u001b[0;34m[\u001b[0m\u001b[0m_LABELS\u001b[0m\u001b[0;34m]\u001b[0m\u001b[0;34m)\u001b[0m\u001b[0;34m\u001b[0m\u001b[0;34m\u001b[0m\u001b[0m\n",
      "\u001b[0;32m~/miniconda3/envs/py3/lib/python3.9/site-packages/scib_metrics/_silhouette.py\u001b[0m in \u001b[0;36msilhouette_label\u001b[0;34m(X, labels, rescale)\u001b[0m\n\u001b[1;32m     21\u001b[0m     \u001b[0msilhouette\u001b[0m \u001b[0mscore\u001b[0m\u001b[0;34m\u001b[0m\u001b[0;34m\u001b[0m\u001b[0m\n\u001b[1;32m     22\u001b[0m     \"\"\"\n\u001b[0;32m---> 23\u001b[0;31m     \u001b[0masw\u001b[0m \u001b[0;34m=\u001b[0m \u001b[0mnp\u001b[0m\u001b[0;34m.\u001b[0m\u001b[0mmean\u001b[0m\u001b[0;34m(\u001b[0m\u001b[0msilhouette_samples\u001b[0m\u001b[0;34m(\u001b[0m\u001b[0mX\u001b[0m\u001b[0;34m,\u001b[0m \u001b[0mlabels\u001b[0m\u001b[0;34m)\u001b[0m\u001b[0;34m)\u001b[0m\u001b[0;34m\u001b[0m\u001b[0;34m\u001b[0m\u001b[0m\n\u001b[0m\u001b[1;32m     24\u001b[0m     \u001b[0;32mif\u001b[0m \u001b[0mrescale\u001b[0m\u001b[0;34m:\u001b[0m\u001b[0;34m\u001b[0m\u001b[0;34m\u001b[0m\u001b[0m\n\u001b[1;32m     25\u001b[0m         \u001b[0masw\u001b[0m \u001b[0;34m=\u001b[0m \u001b[0;34m(\u001b[0m\u001b[0masw\u001b[0m \u001b[0;34m+\u001b[0m \u001b[0;36m1\u001b[0m\u001b[0;34m)\u001b[0m \u001b[0;34m/\u001b[0m \u001b[0;36m2\u001b[0m\u001b[0;34m\u001b[0m\u001b[0;34m\u001b[0m\u001b[0m\n",
      "\u001b[0;32m~/miniconda3/envs/py3/lib/python3.9/site-packages/scib_metrics/utils/_silhouette.py\u001b[0m in \u001b[0;36msilhouette_samples\u001b[0;34m(X, labels, chunk_size)\u001b[0m\n\u001b[1;32m     98\u001b[0m     \u001b[0mlabels\u001b[0m \u001b[0;34m=\u001b[0m \u001b[0mpd\u001b[0m\u001b[0;34m.\u001b[0m\u001b[0mCategorical\u001b[0m\u001b[0;34m(\u001b[0m\u001b[0mlabels\u001b[0m\u001b[0;34m)\u001b[0m\u001b[0;34m.\u001b[0m\u001b[0mcodes\u001b[0m\u001b[0;34m\u001b[0m\u001b[0;34m\u001b[0m\u001b[0m\n\u001b[1;32m     99\u001b[0m     \u001b[0mlabels\u001b[0m \u001b[0;34m=\u001b[0m \u001b[0mjnp\u001b[0m\u001b[0;34m.\u001b[0m\u001b[0masarray\u001b[0m\u001b[0;34m(\u001b[0m\u001b[0mlabels\u001b[0m\u001b[0;34m)\u001b[0m\u001b[0;34m\u001b[0m\u001b[0;34m\u001b[0m\u001b[0m\n\u001b[0;32m--> 100\u001b[0;31m     \u001b[0mlabel_freqs\u001b[0m \u001b[0;34m=\u001b[0m \u001b[0mjnp\u001b[0m\u001b[0;34m.\u001b[0m\u001b[0mbincount\u001b[0m\u001b[0;34m(\u001b[0m\u001b[0mlabels\u001b[0m\u001b[0;34m)\u001b[0m\u001b[0;34m\u001b[0m\u001b[0;34m\u001b[0m\u001b[0m\n\u001b[0m\u001b[1;32m    101\u001b[0m     \u001b[0mreduce_fn\u001b[0m \u001b[0;34m=\u001b[0m \u001b[0mpartial\u001b[0m\u001b[0;34m(\u001b[0m\u001b[0m_silhouette_reduce\u001b[0m\u001b[0;34m,\u001b[0m \u001b[0mlabels\u001b[0m\u001b[0;34m=\u001b[0m\u001b[0mlabels\u001b[0m\u001b[0;34m,\u001b[0m \u001b[0mlabel_freqs\u001b[0m\u001b[0;34m=\u001b[0m\u001b[0mlabel_freqs\u001b[0m\u001b[0;34m)\u001b[0m\u001b[0;34m\u001b[0m\u001b[0;34m\u001b[0m\u001b[0m\n\u001b[1;32m    102\u001b[0m     \u001b[0mresults\u001b[0m \u001b[0;34m=\u001b[0m \u001b[0m_pairwise_distances_chunked\u001b[0m\u001b[0;34m(\u001b[0m\u001b[0mX\u001b[0m\u001b[0;34m,\u001b[0m \u001b[0mchunk_size\u001b[0m\u001b[0;34m=\u001b[0m\u001b[0mchunk_size\u001b[0m\u001b[0;34m,\u001b[0m \u001b[0mreduce_fn\u001b[0m\u001b[0;34m=\u001b[0m\u001b[0mreduce_fn\u001b[0m\u001b[0;34m)\u001b[0m\u001b[0;34m\u001b[0m\u001b[0;34m\u001b[0m\u001b[0m\n",
      "\u001b[0;32m~/miniconda3/envs/py3/lib/python3.9/site-packages/jax/_src/numpy/lax_numpy.py\u001b[0m in \u001b[0;36mbincount\u001b[0;34m(x, weights, minlength, length)\u001b[0m\n\u001b[1;32m   1079\u001b[0m       \u001b[0;34m\"The error occurred because of argument 'x' of jnp.bincount. \"\u001b[0m\u001b[0;34m\u001b[0m\u001b[0;34m\u001b[0m\u001b[0m\n\u001b[1;32m   1080\u001b[0m       \"To avoid this error, pass a static `length` argument.\")\n\u001b[0;32m-> 1081\u001b[0;31m     \u001b[0mlength\u001b[0m \u001b[0;34m=\u001b[0m \u001b[0m_max\u001b[0m\u001b[0;34m(\u001b[0m\u001b[0mminlength\u001b[0m\u001b[0;34m,\u001b[0m \u001b[0mx_arr\u001b[0m\u001b[0;34m.\u001b[0m\u001b[0msize\u001b[0m \u001b[0;32mand\u001b[0m \u001b[0mint\u001b[0m\u001b[0;34m(\u001b[0m\u001b[0mx_arr\u001b[0m\u001b[0;34m.\u001b[0m\u001b[0mmax\u001b[0m\u001b[0;34m(\u001b[0m\u001b[0;34m)\u001b[0m\u001b[0;34m)\u001b[0m \u001b[0;34m+\u001b[0m \u001b[0;36m1\u001b[0m\u001b[0;34m)\u001b[0m\u001b[0;34m\u001b[0m\u001b[0;34m\u001b[0m\u001b[0m\n\u001b[0m\u001b[1;32m   1082\u001b[0m   \u001b[0;32melif\u001b[0m \u001b[0;32mnot\u001b[0m \u001b[0mcore\u001b[0m\u001b[0;34m.\u001b[0m\u001b[0mis_special_dim_size\u001b[0m\u001b[0;34m(\u001b[0m\u001b[0mlength\u001b[0m\u001b[0;34m)\u001b[0m\u001b[0;34m:\u001b[0m\u001b[0;34m\u001b[0m\u001b[0;34m\u001b[0m\u001b[0m\n\u001b[1;32m   1083\u001b[0m     length = core.concrete_or_error(operator.index, length,\n",
      "\u001b[0;32m~/miniconda3/envs/py3/lib/python3.9/site-packages/jax/_src/numpy/reductions.py\u001b[0m in \u001b[0;36mmax\u001b[0;34m(a, axis, out, keepdims, initial, where)\u001b[0m\n\u001b[1;32m    258\u001b[0m         \u001b[0mkeepdims\u001b[0m\u001b[0;34m:\u001b[0m \u001b[0mbool\u001b[0m \u001b[0;34m=\u001b[0m \u001b[0;32mFalse\u001b[0m\u001b[0;34m,\u001b[0m \u001b[0minitial\u001b[0m\u001b[0;34m:\u001b[0m \u001b[0mOptional\u001b[0m\u001b[0;34m[\u001b[0m\u001b[0mArrayLike\u001b[0m\u001b[0;34m]\u001b[0m \u001b[0;34m=\u001b[0m \u001b[0;32mNone\u001b[0m\u001b[0;34m,\u001b[0m\u001b[0;34m\u001b[0m\u001b[0;34m\u001b[0m\u001b[0m\n\u001b[1;32m    259\u001b[0m         where: Optional[ArrayLike] = None) -> Array:\n\u001b[0;32m--> 260\u001b[0;31m   return _reduce_max(a, axis=_ensure_optional_axes(axis), out=out,\n\u001b[0m\u001b[1;32m    261\u001b[0m                      keepdims=keepdims, initial=initial, where=where)\n\u001b[1;32m    262\u001b[0m \u001b[0;34m\u001b[0m\u001b[0m\n",
      "    \u001b[0;31m[... skipping hidden 11 frame]\u001b[0m\n",
      "\u001b[0;32m~/miniconda3/envs/py3/lib/python3.9/site-packages/jax/_src/dispatch.py\u001b[0m in \u001b[0;36mbackend_compile\u001b[0;34m(backend, built_c, options, host_callbacks)\u001b[0m\n\u001b[1;32m    469\u001b[0m   \u001b[0;31m# TODO(sharadmv): remove this fallback when all backends allow `compile`\u001b[0m\u001b[0;34m\u001b[0m\u001b[0;34m\u001b[0m\u001b[0;34m\u001b[0m\u001b[0m\n\u001b[1;32m    470\u001b[0m   \u001b[0;31m# to take in `host_callbacks`\u001b[0m\u001b[0;34m\u001b[0m\u001b[0;34m\u001b[0m\u001b[0;34m\u001b[0m\u001b[0m\n\u001b[0;32m--> 471\u001b[0;31m   \u001b[0;32mreturn\u001b[0m \u001b[0mbackend\u001b[0m\u001b[0;34m.\u001b[0m\u001b[0mcompile\u001b[0m\u001b[0;34m(\u001b[0m\u001b[0mbuilt_c\u001b[0m\u001b[0;34m,\u001b[0m \u001b[0mcompile_options\u001b[0m\u001b[0;34m=\u001b[0m\u001b[0moptions\u001b[0m\u001b[0;34m)\u001b[0m\u001b[0;34m\u001b[0m\u001b[0;34m\u001b[0m\u001b[0m\n\u001b[0m\u001b[1;32m    472\u001b[0m \u001b[0;34m\u001b[0m\u001b[0m\n\u001b[1;32m    473\u001b[0m \u001b[0m_ir_dump_counter\u001b[0m \u001b[0;34m=\u001b[0m \u001b[0mitertools\u001b[0m\u001b[0;34m.\u001b[0m\u001b[0mcount\u001b[0m\u001b[0;34m(\u001b[0m\u001b[0;34m)\u001b[0m\u001b[0;34m\u001b[0m\u001b[0;34m\u001b[0m\u001b[0m\n",
      "\u001b[0;31mXlaRuntimeError\u001b[0m: FAILED_PRECONDITION: DNN library initialization failed. Look at the errors above for more details."
     ]
    }
   ],
   "source": [
    "bm.benchmark()"
   ]
  },
  {
   "cell_type": "code",
   "execution_count": 11,
   "id": "2fb3d324",
   "metadata": {},
   "outputs": [
    {
     "data": {
      "text/plain": [
       "AnnData object with n_obs × n_vars = 274670 × 2000\n",
       "    obs: 'orig.ident', 'nCount_originalexp', 'nFeature_originalexp', 'Sample', 'Project', 'Limb.Atlas', 'Organ', 'Tissue', 'Tissue.Specific.', 'Stage', 'Gene.type', 'Treatment', 'Age', 'Age.In.Detail.', 'Machine', 'Species', 'Isolation.approach', 'Digestion', 'Enzymes', 'Cre', 'Bone.Forming.Methods', 'Data.Source', 'Related.Assay', 'Origin', 'nCount_RNA', 'nFeature_RNA', 'paper_label', 'coarse_label', 'scDblFinder_class', 'short_id', 'temp_cluster', 'batch', 'K2', 'K6', 'K12', 'K24', 'K53', 'K2.1', 'K6.1', 'K12.1', 'K24.1', 'K53.1', 'K2.2', 'K6.2', 'K12.2', 'K24.2', 'K53.2', 'K2.3', 'K6.3', 'K12.3', 'K24.3', 'K53.3', 'C2', 'C6', 'C12', 'C21', 'C41', 'C2_named', 'C6_named', 'C12_named', 'C21_named', 'C41_named', 'K4', 'K11', 'K25', 'K57', 'C4', 'C9', 'C22', 'C42', 'C4_named', 'C9_named', 'C22_named', 'C42_named', 'K5', 'K19', 'K65', 'C17', 'C36', 'C5', 'C5_named', 'C17_named', 'C36_named', 'batch_atlas', 'size_factors', 'n_genes_by_counts', 'log1p_n_genes_by_counts', 'total_counts', 'log1p_total_counts', 'pct_counts_in_top_50_genes', 'pct_counts_in_top_100_genes', 'pct_counts_in_top_200_genes', 'pct_counts_in_top_500_genes', 'new_totals_log', 'scanvi_label', '_scvi_batch', '_scvi_labels'\n",
       "    var: 'features-0', 'n_cells_by_counts-0', 'mean_counts-0', 'log1p_mean_counts-0', 'pct_dropout_by_counts-0', 'total_counts-0', 'log1p_total_counts-0', 'highly_variable-0', 'means-0', 'dispersions-0', 'dispersions_norm-0', 'highly_variable_nbatches-0', 'highly_variable_intersection-0', 'features-1', 'n_cells_by_counts-1', 'mean_counts-1', 'log1p_mean_counts-1', 'pct_dropout_by_counts-1', 'total_counts-1', 'log1p_total_counts-1', 'highly_variable-1', 'means-1', 'dispersions-1', 'dispersions_norm-1', 'highly_variable_nbatches-1', 'highly_variable_intersection-1', 'highly_variable-2', 'means-2', 'dispersions-2', 'dispersions_norm-2', 'highly_variable_nbatches-2', 'highly_variable_intersection-2', 'features.0-2', 'n_cells_by_counts', 'mean_counts', 'log1p_mean_counts', 'pct_dropout_by_counts', 'total_counts', 'log1p_total_counts', 'highly_variable', 'means', 'dispersions', 'dispersions_norm', 'highly_variable_nbatches', 'highly_variable_intersection'\n",
       "    uns: '_scvi_manager_uuid', '_scvi_uuid', 'hvg', 'pca'\n",
       "    obsm: 'X_draw_graph_fa', 'X_scANVI', 'X_umap', 'scANVI_8000_10', 'scANVI_1500_15', 'scANVI_3000_15', 'scANVI_3000_30', 'scANVI_2000_10', 'scANVI_1000_15', 'scANVI_3000_4', 'scANVI_4000_4', 'scANVI_1500_6', 'scANVI_3000_20', 'scANVI_4000_20', 'scANVI_4000_15', 'scANVI_5000_15', 'scANVI_8000_4', 'scANVI_5000_30', 'scANVI_1500_20', 'X_pca'\n",
       "    varm: 'PCs'\n",
       "    layers: 'counts'"
      ]
     },
     "execution_count": 11,
     "metadata": {},
     "output_type": "execute_result"
    }
   ],
   "source": [
    "adata"
   ]
  },
  {
   "cell_type": "code",
   "execution_count": 10,
   "id": "7fa597f6",
   "metadata": {},
   "outputs": [
    {
     "name": "stdout",
     "output_type": "stream",
     "text": [
      "scANVI_8000_10\n",
      "(274670, 10)\n",
      "(273479, 10)\n",
      "scANVI_1500_15\n",
      "(274670, 15)\n",
      "(273479, 15)\n",
      "scANVI_3000_15\n",
      "(274670, 15)\n",
      "(273479, 15)\n",
      "scANVI_3000_30\n",
      "(274670, 30)\n",
      "(273479, 30)\n",
      "scANVI_2000_10\n",
      "(274670, 10)\n",
      "(273479, 10)\n",
      "scANVI_1000_15\n",
      "(274670, 15)\n",
      "(273479, 15)\n",
      "scANVI_3000_4\n",
      "(274670, 4)\n",
      "(273479, 4)\n",
      "scANVI_4000_4\n",
      "(274670, 4)\n",
      "(273479, 4)\n",
      "scANVI_1500_6\n",
      "(274670, 6)\n",
      "(273479, 6)\n",
      "scANVI_3000_20\n",
      "(274670, 20)\n",
      "(273479, 20)\n",
      "scANVI_4000_20\n",
      "(274670, 20)\n",
      "(273479, 20)\n",
      "scANVI_4000_15\n",
      "(274670, 15)\n",
      "(273479, 15)\n",
      "scANVI_5000_15\n",
      "(274670, 15)\n",
      "(273479, 15)\n",
      "scANVI_8000_4\n",
      "(274670, 4)\n",
      "(273479, 4)\n",
      "scANVI_5000_30\n",
      "(274670, 30)\n",
      "(273479, 30)\n",
      "scANVI_1500_20\n",
      "(274670, 20)\n",
      "(273479, 20)\n"
     ]
    }
   ],
   "source": [
    "for embed in varList:\n",
    "  print(embed)\n",
    "  print(adata.obsm[embed].shape)\n",
    "  print(np.unique(adata.obsm[embed], axis=0).shape)"
   ]
  },
  {
   "cell_type": "code",
   "execution_count": 16,
   "id": "2412cf52",
   "metadata": {},
   "outputs": [
    {
     "data": {
      "text/plain": [
       "array([[-3.0533633e+00, -2.5918239e-01,  1.2213861e+00, ...,\n",
       "         1.9225857e-01,  1.7524362e-03,  1.6265273e-02],\n",
       "       [-2.8494253e+00, -1.7095826e+00,  7.9961157e-01, ...,\n",
       "        -5.9744012e-01, -5.1554418e-01,  2.5330967e-01],\n",
       "       [-2.8441525e+00,  2.7546060e-01,  2.0584798e+00, ...,\n",
       "        -1.7046844e+00,  6.3614273e-01, -4.0326414e-01],\n",
       "       ...,\n",
       "       [ 5.9371586e+00, -7.3823911e-01,  1.4137859e+00, ...,\n",
       "        -1.1973939e+00, -2.0977948e+00,  1.6339972e+00],\n",
       "       [ 5.9654741e+00, -1.4043847e+00,  1.5027944e+00, ...,\n",
       "        -1.5019494e+00, -2.8410308e+00,  1.9135022e+00],\n",
       "       [ 6.4117298e+00, -1.1852045e+00,  1.7255412e+00, ...,\n",
       "        -8.7169111e-01, -1.9057884e+00,  1.9017529e+00]], dtype=float32)"
      ]
     },
     "execution_count": 16,
     "metadata": {},
     "output_type": "execute_result"
    }
   ],
   "source": [
    "np.unique(adata.obsm[embed], axis=0)"
   ]
  },
  {
   "cell_type": "code",
   "execution_count": 18,
   "id": "0d617907",
   "metadata": {},
   "outputs": [],
   "source": [
    "unique_rows, indices = np.unique(adata.obsm[embed], axis=0, return_index=True)"
   ]
  },
  {
   "cell_type": "code",
   "execution_count": 23,
   "id": "150ec751",
   "metadata": {},
   "outputs": [],
   "source": []
  },
  {
   "cell_type": "code",
   "execution_count": 30,
   "id": "2e22d7bc",
   "metadata": {},
   "outputs": [],
   "source": [
    "indiceList=[]\n",
    "for var in varList:\n",
    "    _,indices=np.unique(adata.obsm[var], axis=0, return_index=True)\n",
    "    indiceList.append(indices)\n",
    "common_values = indiceList[0]\n",
    "for arr in indiceList[1:]:\n",
    "    common_values = np.intersect1d(common_values, arr)"
   ]
  },
  {
   "cell_type": "code",
   "execution_count": 33,
   "id": "db289a55",
   "metadata": {},
   "outputs": [
    {
     "data": {
      "text/plain": [
       "array([274669, 274668, 274667, ...,      2,      1,      0])"
      ]
     },
     "execution_count": 33,
     "metadata": {},
     "output_type": "execute_result"
    }
   ],
   "source": [
    "np.flip(common_values)"
   ]
  },
  {
   "cell_type": "code",
   "execution_count": 38,
   "id": "53d49ddf",
   "metadata": {},
   "outputs": [
    {
     "data": {
      "text/plain": [
       "26642990"
      ]
     },
     "execution_count": 38,
     "metadata": {},
     "output_type": "execute_result"
    }
   ],
   "source": [
    "adata.obs.size"
   ]
  },
  {
   "cell_type": "code",
   "execution_count": 41,
   "id": "f75e32b9",
   "metadata": {},
   "outputs": [
    {
     "data": {
      "text/plain": [
       "array([False, False, False, ...,  True,  True,  True])"
      ]
     },
     "execution_count": 41,
     "metadata": {},
     "output_type": "execute_result"
    }
   ],
   "source": [
    "adata.obs[\"Age\"]"
   ]
  },
  {
   "cell_type": "code",
   "execution_count": 45,
   "id": "5ad19e39",
   "metadata": {},
   "outputs": [],
   "source": [
    "mask = np.ones(adata.obs[\"Age\"].size, dtype=bool)\n",
    "mask[common_values] = False\n"
   ]
  },
  {
   "cell_type": "code",
   "execution_count": 49,
   "id": "db5746ca",
   "metadata": {},
   "outputs": [],
   "source": [
    "adata=adata[common_values,]"
   ]
  }
 ],
 "metadata": {
  "kernelspec": {
   "display_name": "Python [conda env:py3] *",
   "language": "python",
   "name": "conda-env-py3-py"
  },
  "language_info": {
   "codemirror_mode": {
    "name": "ipython",
    "version": 3
   },
   "file_extension": ".py",
   "mimetype": "text/x-python",
   "name": "python",
   "nbconvert_exporter": "python",
   "pygments_lexer": "ipython3",
   "version": "3.10.8"
  }
 },
 "nbformat": 4,
 "nbformat_minor": 5
}
