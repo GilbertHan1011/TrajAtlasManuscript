{
 "cells": [
  {
   "cell_type": "code",
   "execution_count": 492,
   "id": "1c1b887c-69ee-4ae4-a48d-eedaae3921c3",
   "metadata": {},
   "outputs": [],
   "source": [
    "import sys\n",
    "sys.path.append(\"../../function/\")\n",
    "import trajDiff_v143 as trajDiff\n",
    "milo2=trajDiff.Milo2()"
   ]
  },
  {
   "cell_type": "code",
   "execution_count": 547,
   "id": "5c062f77-a3cd-4b3f-9705-9cf8988c0532",
   "metadata": {},
   "outputs": [],
   "source": [
    "import PyComplexHeatmap as pch"
   ]
  },
  {
   "cell_type": "markdown",
   "id": "e4209808-671b-447e-bd69-601ea04499fb",
   "metadata": {},
   "source": [
    "## continue with core of 1.11_injury.ipynb"
   ]
  },
  {
   "cell_type": "code",
   "execution_count": 425,
   "id": "4f79ad19-6467-409f-bd94-f854bb3f027e",
   "metadata": {},
   "outputs": [],
   "source": [
    "mes_bool=extendAtlas.obs[\"lineage_mesenchyme\"]==True"
   ]
  },
  {
   "cell_type": "code",
   "execution_count": 426,
   "id": "1a41688c-a5bb-4e58-9ee1-cd2bc834b6d3",
   "metadata": {},
   "outputs": [],
   "source": [
    "mesAtlas=extendAtlas[mes_bool]"
   ]
  },
  {
   "cell_type": "code",
   "execution_count": 427,
   "id": "7b07ac35-a948-416f-910c-4af2d71378d7",
   "metadata": {},
   "outputs": [],
   "source": [
    "new_labels = np.where(np.isin(mesAtlas.obs[\"Stage\"], ['Injury(5-FU)', 'Injury(Non-Regeneration)', 'Injury(Radiation)', 'Injury(Regeneration)']),\n",
    "                      'Injury', 'Other')"
   ]
  },
  {
   "cell_type": "code",
   "execution_count": 428,
   "id": "cda54ebe-0df8-4fd0-9465-adfc55b7f0cd",
   "metadata": {},
   "outputs": [
    {
     "name": "stderr",
     "output_type": "stream",
     "text": [
      "/tmp/ipykernel_1573039/664343754.py:1: ImplicitModificationWarning: Trying to modify attribute `.obs` of view, initializing view as actual.\n",
      "  mesAtlas.obs[\"InjuryState\"]=new_labels\n",
      "/home/zhanglab/mambaforge/envs/celloracle/lib/python3.9/contextlib.py:124: FutureWarning: X.dtype being converted to np.float32 from float64. In the next version of anndata (0.9) conversion will not be automatic. Pass dtype explicitly to avoid this warning. Pass `AnnData(X, dtype=X.dtype, ...)` to get the future behavour.\n",
      "  next(self.gen)\n"
     ]
    }
   ],
   "source": [
    "mesAtlas.obs[\"InjuryState\"]=new_labels"
   ]
  },
  {
   "cell_type": "code",
   "execution_count": 522,
   "id": "4589ec7b-14b4-4977-ad95-de1c9a8b637f",
   "metadata": {},
   "outputs": [],
   "source": [
    "cellCount=mesAtlas.obs.groupby(\"Sample\").size()"
   ]
  },
  {
   "cell_type": "code",
   "execution_count": 536,
   "id": "04faed75-891d-4156-81cf-33edf6e6d75c",
   "metadata": {},
   "outputs": [],
   "source": [
    "selectSample=cellCount[cellCount>500].index"
   ]
  },
  {
   "cell_type": "code",
   "execution_count": 525,
   "id": "cb6fc4c5-64c4-4c3a-a975-463ce6e59eff",
   "metadata": {},
   "outputs": [
    {
     "data": {
      "text/plain": [
       "48"
      ]
     },
     "execution_count": 525,
     "metadata": {},
     "output_type": "execute_result"
    }
   ],
   "source": [
    "np.sum(cellCount>1000)"
   ]
  },
  {
   "cell_type": "code",
   "execution_count": 519,
   "id": "58c348b8-adee-4e7a-886b-2c1d3829cc06",
   "metadata": {},
   "outputs": [
    {
     "data": {
      "text/plain": [
       "Suture2021_Farmer_E17_AAACCTGCAGACTCGC-1_1-0_1_1            Suture2021_Farmer_E17\n",
       "Suture2021_Farmer_E17_AAACCTGGTGGTCTCG-1_1-0_1_1            Suture2021_Farmer_E17\n",
       "Suture2021_Farmer_E17_AAACCTGTCACCACCT-1_1-0_1_1            Suture2021_Farmer_E17\n",
       "Suture2021_Farmer_E17_AAAGATGAGGGAACGG-1_1-0_1_1            Suture2021_Farmer_E17\n",
       "Suture2021_Farmer_E17_AAAGTAGTCGGAGCAA-1_1-0_1_1            Suture2021_Farmer_E17\n",
       "                                                                ...              \n",
       "TTTCCTCGTGAAGCGT-1_8                                LimbG610C_Gorrell_calvariaWT4\n",
       "TTTCGATTCGCTGACG-1_8                                LimbG610C_Gorrell_calvariaWT4\n",
       "TTTCGATTCTCATTGT-1_8                                LimbG610C_Gorrell_calvariaWT4\n",
       "TTTCGATTCTCCCATG-1_8                                LimbG610C_Gorrell_calvariaWT4\n",
       "TTTGTTGAGGAATGTT-1_8                                LimbG610C_Gorrell_calvariaWT4\n",
       "Name: Sample, Length: 147808, dtype: category\n",
       "Categories (302, object): ['Ablation_Matsushita_abl7con2', 'Ablation_Matsushita_abl14', 'Ablation_Matsushita_cxcl1', 'Ablation_Matsushita_cxcl2', ..., 'lambdoid_Holmes_P28', 'sagittal_Holmes_E18', 'sagittal_Holmes_P10', 'sagittal_Holmes_P28']"
      ]
     },
     "execution_count": 519,
     "metadata": {},
     "output_type": "execute_result"
    }
   ],
   "source": [
    "mesAtlas.obs[\"Sample\"]"
   ]
  },
  {
   "cell_type": "code",
   "execution_count": 432,
   "id": "7245d1c3-8e7b-4179-b5e6-6d02f43af2d2",
   "metadata": {},
   "outputs": [],
   "source": [
    "mdata = milo2.load(mesAtlas)"
   ]
  },
  {
   "cell_type": "code",
   "execution_count": 433,
   "id": "78290553-7610-41f3-999d-e9ca6a1e0c80",
   "metadata": {},
   "outputs": [],
   "source": [
    "sc.pp.neighbors(mdata['rna'], use_rep='scANVI', n_neighbors=300, n_pcs=15)"
   ]
  },
  {
   "cell_type": "code",
   "execution_count": 434,
   "id": "5e4ac5df-adbe-4cd0-9a52-e098d2965c79",
   "metadata": {},
   "outputs": [],
   "source": [
    "milo2.make_nhoods(mdata['rna'], prop=0.015)\n"
   ]
  },
  {
   "cell_type": "code",
   "execution_count": 435,
   "id": "5445e6e7-63b9-4aa8-94b5-7d4671e1b0d2",
   "metadata": {},
   "outputs": [
    {
     "name": "stderr",
     "output_type": "stream",
     "text": [
      "/home/zhanglab/mambaforge/envs/celloracle/lib/python3.9/site-packages/anndata/_core/anndata.py:121: ImplicitModificationWarning: Transforming to str index.\n",
      "  warnings.warn(\"Transforming to str index.\", ImplicitModificationWarning)\n"
     ]
    }
   ],
   "source": [
    "mdata = milo2.count_nhoods(mdata, sample_col=\"Sample\")"
   ]
  },
  {
   "cell_type": "code",
   "execution_count": 443,
   "id": "4e180239-52c8-4db0-aa4c-352b57a8a25d",
   "metadata": {},
   "outputs": [
    {
     "name": "stderr",
     "output_type": "stream",
     "text": [
      " 19%|█▉        | 124/644 [1126:09:05<4722:34:14, 32694.72s/it]\n"
     ]
    }
   ],
   "source": [
    "milo2.make_null(mdata, design='~InjuryState',model_contrasts='InjuryStateInjury-InjuryStateOther',times=20)"
   ]
  },
  {
   "cell_type": "code",
   "execution_count": 445,
   "id": "1f8ccd84-f219-4d82-913e-97fcb745fe9a",
   "metadata": {},
   "outputs": [],
   "source": [
    "milo2.da_nhoods(mdata, design='~InjuryState',model_contrasts='InjuryStateInjury-InjuryStateOther')"
   ]
  },
  {
   "cell_type": "code",
   "execution_count": 446,
   "id": "b010f988-3674-4c94-b428-0ef00385654d",
   "metadata": {
    "scrolled": true
   },
   "outputs": [
    {
     "data": {
      "text/html": [
       "<pre>MuData object with n_obs × n_vars = 147808 × 20664\n",
       "  3 modalities\n",
       "    rna:\t147808 x 20664\n",
       "      obs:\t&#x27;Sample&#x27;, &#x27;Project&#x27;, &#x27;Core Dataset&#x27;, &#x27;Limb Atlas&#x27;, &#x27;Cranial Atlas&#x27;, &#x27;Organ&#x27;, &#x27;Tissue&#x27;, &#x27;Tissue(Specific)&#x27;, &#x27;Stage&#x27;, &#x27;Gene type&#x27;, &#x27;Treatment&#x27;, &#x27;Age&#x27;, &#x27;Age(In Detail)&#x27;, &#x27;Machine&#x27;, &#x27;Species&#x27;, &#x27;Isolation approach&#x27;, &#x27;Digestion&#x27;, &#x27;Enzymes&#x27;, &#x27;Cre&#x27;, &#x27;Bone Forming Methods&#x27;, &#x27;Data Source&#x27;, &#x27;Related Assay&#x27;, &#x27;Cell Count After QC&#x27;, &#x27;Origin&#x27;, &#x27;orig.ident&#x27;, &#x27;nCount_RNA&#x27;, &#x27;nFeature_RNA&#x27;, &#x27;paper_label&#x27;, &#x27;coarse_label&#x27;, &#x27;scDblFinder_class&#x27;, &#x27;short_id&#x27;, &#x27;nCount_originalexp&#x27;, &#x27;nFeature_originalexp&#x27;, &#x27;n_genes&#x27;, &#x27;n_genes_by_counts&#x27;, &#x27;log1p_n_genes_by_counts&#x27;, &#x27;total_counts&#x27;, &#x27;log1p_total_counts&#x27;, &#x27;pct_counts_in_top_50_genes&#x27;, &#x27;pct_counts_in_top_100_genes&#x27;, &#x27;pct_counts_in_top_200_genes&#x27;, &#x27;pct_counts_in_top_500_genes&#x27;, &#x27;new_totals_log&#x27;, &#x27;batch&#x27;, &#x27;log10_total_counts&#x27;, &#x27;n_genes_detected&#x27;, &#x27;mito_frac&#x27;, &#x27;ribo_frac&#x27;, &#x27;compl&#x27;, &#x27;transf_ann_level_7_label&#x27;, &#x27;transf_ann_level_6_label&#x27;, &#x27;transf_ann_level_5_label&#x27;, &#x27;transf_ann_level_4_label&#x27;, &#x27;transf_ann_level_3_label&#x27;, &#x27;transf_ann_level_2_label&#x27;, &#x27;transf_ann_level_1_label&#x27;, &#x27;most_confident_level&#x27;, &#x27;most_confident_uncert&#x27;, &#x27;most_confident_label&#x27;, &#x27;transf_ann_level_5_uncert&#x27;, &#x27;transf_ann_level_4_uncert&#x27;, &#x27;transf_ann_level_3_uncert&#x27;, &#x27;transf_ann_level_2_uncert&#x27;, &#x27;transf_ann_level_1_uncert&#x27;, &#x27;transf_ann_level_7_uncert&#x27;, &#x27;transf_ann_level_6_uncert&#x27;, &#x27;osteoIndex&#x27;, &#x27;Age_num&#x27;, &#x27;Age_detail_num&#x27;, &#x27;leiden_clusters_0.5&#x27;, &#x27;update_level2&#x27;, &#x27;C7_named&#x27;, &#x27;leiden_clusters_4&#x27;, &#x27;lineage_chondro&#x27;, &#x27;lineage_laFibro&#x27;, &#x27;lineage_lepr&#x27;, &#x27;lineage_mesenchyme&#x27;, &#x27;dpt_pred&#x27;, &#x27;lineage&#x27;, &#x27;lineage_str&#x27;, &#x27;Cell&#x27;, &#x27;InjuryState&#x27;, &#x27;nhood_ixs_random&#x27;, &#x27;nhood_ixs_refined&#x27;, &#x27;nhood_kth_distance&#x27;\n",
       "      var:\t&#x27;features&#x27;, &#x27;n_cells&#x27;, &#x27;n_cells_by_counts&#x27;, &#x27;mean_counts&#x27;, &#x27;log1p_mean_counts&#x27;, &#x27;pct_dropout_by_counts&#x27;, &#x27;total_counts&#x27;, &#x27;log1p_total_counts&#x27;, &#x27;highly_variable&#x27;, &#x27;means&#x27;, &#x27;dispersions&#x27;, &#x27;dispersions_norm&#x27;, &#x27;highly_variable_nbatches&#x27;, &#x27;highly_variable_intersection&#x27;\n",
       "      uns:\t&#x27;Age_colors&#x27;, &#x27;hvg&#x27;, &#x27;log1p&#x27;, &#x27;transf_ann_level_2_label_colors&#x27;, &#x27;C7_named_colors&#x27;, &#x27;neighbors&#x27;, &#x27;nhood_neighbors_key&#x27;\n",
       "      obsm:\t&#x27;X_umap&#x27;, &#x27;scANVI&#x27;, &#x27;nhoods&#x27;\n",
       "      layers:\t&#x27;counts&#x27;\n",
       "      obsp:\t&#x27;distances&#x27;, &#x27;connectivities&#x27;\n",
       "    milo:\t302 x 1984\n",
       "      obs:\t&#x27;InjuryState&#x27;, &#x27;Sample&#x27;\n",
       "      var:\t&#x27;index_cell&#x27;, &#x27;kth_distance&#x27;, &#x27;null&#x27;, &#x27;group1_cpm&#x27;, &#x27;group2_cpm&#x27;, &#x27;logFC&#x27;, &#x27;logCPM&#x27;, &#x27;F&#x27;, &#x27;PValue&#x27;, &#x27;FDR&#x27;, &#x27;SpatialFDR&#x27;\n",
       "      uns:\t&#x27;sample_col&#x27;\n",
       "    pseudobulk:\t0 x 0</pre>"
      ],
      "text/plain": [
       "MuData object with n_obs × n_vars = 147808 × 20664\n",
       "  3 modalities\n",
       "    rna:\t147808 x 20664\n",
       "      obs:\t'Sample', 'Project', 'Core Dataset', 'Limb Atlas', 'Cranial Atlas', 'Organ', 'Tissue', 'Tissue(Specific)', 'Stage', 'Gene type', 'Treatment', 'Age', 'Age(In Detail)', 'Machine', 'Species', 'Isolation approach', 'Digestion', 'Enzymes', 'Cre', 'Bone Forming Methods', 'Data Source', 'Related Assay', 'Cell Count After QC', 'Origin', 'orig.ident', 'nCount_RNA', 'nFeature_RNA', 'paper_label', 'coarse_label', 'scDblFinder_class', 'short_id', 'nCount_originalexp', 'nFeature_originalexp', 'n_genes', 'n_genes_by_counts', 'log1p_n_genes_by_counts', 'total_counts', 'log1p_total_counts', 'pct_counts_in_top_50_genes', 'pct_counts_in_top_100_genes', 'pct_counts_in_top_200_genes', 'pct_counts_in_top_500_genes', 'new_totals_log', 'batch', 'log10_total_counts', 'n_genes_detected', 'mito_frac', 'ribo_frac', 'compl', 'transf_ann_level_7_label', 'transf_ann_level_6_label', 'transf_ann_level_5_label', 'transf_ann_level_4_label', 'transf_ann_level_3_label', 'transf_ann_level_2_label', 'transf_ann_level_1_label', 'most_confident_level', 'most_confident_uncert', 'most_confident_label', 'transf_ann_level_5_uncert', 'transf_ann_level_4_uncert', 'transf_ann_level_3_uncert', 'transf_ann_level_2_uncert', 'transf_ann_level_1_uncert', 'transf_ann_level_7_uncert', 'transf_ann_level_6_uncert', 'osteoIndex', 'Age_num', 'Age_detail_num', 'leiden_clusters_0.5', 'update_level2', 'C7_named', 'leiden_clusters_4', 'lineage_chondro', 'lineage_laFibro', 'lineage_lepr', 'lineage_mesenchyme', 'dpt_pred', 'lineage', 'lineage_str', 'Cell', 'InjuryState', 'nhood_ixs_random', 'nhood_ixs_refined', 'nhood_kth_distance'\n",
       "      var:\t'features', 'n_cells', 'n_cells_by_counts', 'mean_counts', 'log1p_mean_counts', 'pct_dropout_by_counts', 'total_counts', 'log1p_total_counts', 'highly_variable', 'means', 'dispersions', 'dispersions_norm', 'highly_variable_nbatches', 'highly_variable_intersection'\n",
       "      uns:\t'Age_colors', 'hvg', 'log1p', 'transf_ann_level_2_label_colors', 'C7_named_colors', 'neighbors', 'nhood_neighbors_key'\n",
       "      obsm:\t'X_umap', 'scANVI', 'nhoods'\n",
       "      layers:\t'counts'\n",
       "      obsp:\t'distances', 'connectivities'\n",
       "    milo:\t302 x 1984\n",
       "      obs:\t'InjuryState', 'Sample'\n",
       "      var:\t'index_cell', 'kth_distance', 'null', 'group1_cpm', 'group2_cpm', 'logFC', 'logCPM', 'F', 'PValue', 'FDR', 'SpatialFDR'\n",
       "      uns:\t'sample_col'\n",
       "    pseudobulk:\t0 x 0"
      ]
     },
     "execution_count": 446,
     "metadata": {},
     "output_type": "execute_result"
    }
   ],
   "source": [
    "mdata"
   ]
  },
  {
   "cell_type": "code",
   "execution_count": 493,
   "id": "d8156318-0306-4a98-847d-68fd70d1fe1e",
   "metadata": {},
   "outputs": [],
   "source": [
    "milo2.make_range(mdata,time_col=\"dpt_pred\")"
   ]
  },
  {
   "cell_type": "code",
   "execution_count": 494,
   "id": "3cadb8af-2a43-4333-b687-b942c62dc561",
   "metadata": {
    "scrolled": true
   },
   "outputs": [
    {
     "name": "stderr",
     "output_type": "stream",
     "text": [
      "/home/zhanglab/mambaforge/envs/celloracle/lib/python3.9/site-packages/numpy/core/fromnumeric.py:3464: RuntimeWarning: Mean of empty slice.\n",
      "  return _methods._mean(a, axis=axis, dtype=dtype,\n",
      "/home/zhanglab/mambaforge/envs/celloracle/lib/python3.9/site-packages/numpy/core/_methods.py:192: RuntimeWarning: invalid value encountered in scalar divide\n",
      "  ret = ret.dtype.type(ret / rcount)\n",
      "../../function/trajDiff_v143.py:747: RuntimeWarning: invalid value encountered in scalar divide\n",
      "  permute_null[i]=np.sum(null_true_list)/(len(null_false_list)+len(null_true_list))\n",
      "/home/zhanglab/mambaforge/envs/celloracle/lib/python3.9/site-packages/numpy/core/fromnumeric.py:3464: RuntimeWarning: Mean of empty slice.\n",
      "  return _methods._mean(a, axis=axis, dtype=dtype,\n",
      "/home/zhanglab/mambaforge/envs/celloracle/lib/python3.9/site-packages/numpy/core/_methods.py:192: RuntimeWarning: invalid value encountered in scalar divide\n",
      "  ret = ret.dtype.type(ret / rcount)\n",
      "../../function/trajDiff_v143.py:747: RuntimeWarning: invalid value encountered in scalar divide\n",
      "  permute_null[i]=np.sum(null_true_list)/(len(null_false_list)+len(null_true_list))\n",
      "/home/zhanglab/mambaforge/envs/celloracle/lib/python3.9/site-packages/numpy/core/fromnumeric.py:3464: RuntimeWarning: Mean of empty slice.\n",
      "  return _methods._mean(a, axis=axis, dtype=dtype,\n",
      "/home/zhanglab/mambaforge/envs/celloracle/lib/python3.9/site-packages/numpy/core/_methods.py:192: RuntimeWarning: invalid value encountered in scalar divide\n",
      "  ret = ret.dtype.type(ret / rcount)\n",
      "../../function/trajDiff_v143.py:747: RuntimeWarning: invalid value encountered in scalar divide\n",
      "  permute_null[i]=np.sum(null_true_list)/(len(null_false_list)+len(null_true_list))\n",
      "/home/zhanglab/mambaforge/envs/celloracle/lib/python3.9/site-packages/numpy/core/fromnumeric.py:3464: RuntimeWarning: Mean of empty slice.\n",
      "  return _methods._mean(a, axis=axis, dtype=dtype,\n",
      "/home/zhanglab/mambaforge/envs/celloracle/lib/python3.9/site-packages/numpy/core/_methods.py:192: RuntimeWarning: invalid value encountered in scalar divide\n",
      "  ret = ret.dtype.type(ret / rcount)\n",
      "../../function/trajDiff_v143.py:747: RuntimeWarning: invalid value encountered in scalar divide\n",
      "  permute_null[i]=np.sum(null_true_list)/(len(null_false_list)+len(null_true_list))\n",
      "/home/zhanglab/mambaforge/envs/celloracle/lib/python3.9/site-packages/numpy/core/fromnumeric.py:3464: RuntimeWarning: Mean of empty slice.\n",
      "  return _methods._mean(a, axis=axis, dtype=dtype,\n",
      "/home/zhanglab/mambaforge/envs/celloracle/lib/python3.9/site-packages/numpy/core/_methods.py:192: RuntimeWarning: invalid value encountered in scalar divide\n",
      "  ret = ret.dtype.type(ret / rcount)\n",
      "../../function/trajDiff_v143.py:747: RuntimeWarning: invalid value encountered in scalar divide\n",
      "  permute_null[i]=np.sum(null_true_list)/(len(null_false_list)+len(null_true_list))\n",
      "/home/zhanglab/mambaforge/envs/celloracle/lib/python3.9/site-packages/numpy/core/fromnumeric.py:3464: RuntimeWarning: Mean of empty slice.\n",
      "  return _methods._mean(a, axis=axis, dtype=dtype,\n",
      "/home/zhanglab/mambaforge/envs/celloracle/lib/python3.9/site-packages/numpy/core/_methods.py:192: RuntimeWarning: invalid value encountered in scalar divide\n",
      "  ret = ret.dtype.type(ret / rcount)\n",
      "../../function/trajDiff_v143.py:747: RuntimeWarning: invalid value encountered in scalar divide\n",
      "  permute_null[i]=np.sum(null_true_list)/(len(null_false_list)+len(null_true_list))\n"
     ]
    }
   ],
   "source": [
    "lenDf=milo2.permute_test_point(mdata,n=100,include_null=True)"
   ]
  },
  {
   "cell_type": "code",
   "execution_count": 469,
   "id": "d23a8237-5fde-4652-9af8-9b3d4aa1806f",
   "metadata": {},
   "outputs": [
    {
     "data": {
      "text/plain": [
       "(array([503., 448., 436.,  93., 182., 187.,  87.,  24.,  15.,   9.]),\n",
       " array([0. , 0.1, 0.2, 0.3, 0.4, 0.5, 0.6, 0.7, 0.8, 0.9, 1. ]),\n",
       " <BarContainer object of 10 artists>)"
      ]
     },
     "execution_count": 469,
     "metadata": {},
     "output_type": "execute_result"
    },
    {
     "data": {
      "image/png": "[encoded data removed]",
      "text/plain": [
       "<Figure size 400x400 with 1 Axes>"
      ]
     },
     "metadata": {},
     "output_type": "display_data"
    }
   ],
   "source": [
    "plt.hist(mdata[\"milo\"].var[[\"null\"]])"
   ]
  },
  {
   "cell_type": "code",
   "execution_count": 495,
   "id": "69f770b2-de54-4e75-a167-7e8ee94a560f",
   "metadata": {},
   "outputs": [
    {
     "data": {
      "text/html": [
       "<div>\n",
       "<style scoped>\n",
       "    .dataframe tbody tr th:only-of-type {\n",
       "        vertical-align: middle;\n",
       "    }\n",
       "\n",
       "    .dataframe tbody tr th {\n",
       "        vertical-align: top;\n",
       "    }\n",
       "\n",
       "    .dataframe thead th {\n",
       "        text-align: right;\n",
       "    }\n",
       "</style>\n",
       "<table border=\"1\" class=\"dataframe\">\n",
       "  <thead>\n",
       "    <tr style=\"text-align: right;\">\n",
       "      <th></th>\n",
       "      <th>true</th>\n",
       "      <th>false</th>\n",
       "      <th>meanLogChange</th>\n",
       "      <th>null</th>\n",
       "      <th>rate</th>\n",
       "    </tr>\n",
       "  </thead>\n",
       "  <tbody>\n",
       "    <tr>\n",
       "      <th>1</th>\n",
       "      <td>0.0</td>\n",
       "      <td>0.0</td>\n",
       "      <td>NaN</td>\n",
       "      <td>NaN</td>\n",
       "      <td>NaN</td>\n",
       "    </tr>\n",
       "    <tr>\n",
       "      <th>2</th>\n",
       "      <td>0.0</td>\n",
       "      <td>0.0</td>\n",
       "      <td>NaN</td>\n",
       "      <td>NaN</td>\n",
       "      <td>NaN</td>\n",
       "    </tr>\n",
       "    <tr>\n",
       "      <th>3</th>\n",
       "      <td>9.0</td>\n",
       "      <td>0.0</td>\n",
       "      <td>-27.471266</td>\n",
       "      <td>0.238889</td>\n",
       "      <td>1.000000</td>\n",
       "    </tr>\n",
       "    <tr>\n",
       "      <th>4</th>\n",
       "      <td>11.0</td>\n",
       "      <td>1.0</td>\n",
       "      <td>-26.010051</td>\n",
       "      <td>0.216667</td>\n",
       "      <td>0.916667</td>\n",
       "    </tr>\n",
       "    <tr>\n",
       "      <th>5</th>\n",
       "      <td>23.0</td>\n",
       "      <td>2.0</td>\n",
       "      <td>-25.411124</td>\n",
       "      <td>0.268000</td>\n",
       "      <td>0.920000</td>\n",
       "    </tr>\n",
       "    <tr>\n",
       "      <th>6</th>\n",
       "      <td>46.0</td>\n",
       "      <td>3.0</td>\n",
       "      <td>-26.040018</td>\n",
       "      <td>0.300000</td>\n",
       "      <td>0.938776</td>\n",
       "    </tr>\n",
       "    <tr>\n",
       "      <th>7</th>\n",
       "      <td>73.0</td>\n",
       "      <td>11.0</td>\n",
       "      <td>-24.749514</td>\n",
       "      <td>0.264286</td>\n",
       "      <td>0.869048</td>\n",
       "    </tr>\n",
       "    <tr>\n",
       "      <th>8</th>\n",
       "      <td>179.0</td>\n",
       "      <td>50.0</td>\n",
       "      <td>-21.078863</td>\n",
       "      <td>0.330131</td>\n",
       "      <td>0.781659</td>\n",
       "    </tr>\n",
       "    <tr>\n",
       "      <th>9</th>\n",
       "      <td>267.0</td>\n",
       "      <td>136.0</td>\n",
       "      <td>-17.426505</td>\n",
       "      <td>0.295906</td>\n",
       "      <td>0.662531</td>\n",
       "    </tr>\n",
       "  </tbody>\n",
       "</table>\n",
       "</div>"
      ],
      "text/plain": [
       "    true  false  meanLogChange      null      rate\n",
       "1    0.0    0.0            NaN       NaN       NaN\n",
       "2    0.0    0.0            NaN       NaN       NaN\n",
       "3    9.0    0.0     -27.471266  0.238889  1.000000\n",
       "4   11.0    1.0     -26.010051  0.216667  0.916667\n",
       "5   23.0    2.0     -25.411124  0.268000  0.920000\n",
       "6   46.0    3.0     -26.040018  0.300000  0.938776\n",
       "7   73.0   11.0     -24.749514  0.264286  0.869048\n",
       "8  179.0   50.0     -21.078863  0.330131  0.781659\n",
       "9  267.0  136.0     -17.426505  0.295906  0.662531"
      ]
     },
     "execution_count": 495,
     "metadata": {},
     "output_type": "execute_result"
    }
   ],
   "source": [
    "lenDf[1:10]"
   ]
  },
  {
   "cell_type": "code",
   "execution_count": null,
   "id": "abca9032-c550-432b-8612-670049198e9f",
   "metadata": {},
   "outputs": [],
   "source": [
    "varTable[[\"range_down\",\"range_up\",\"Accept\",\"logChange\",\"null\"]]"
   ]
  },
  {
   "cell_type": "code",
   "execution_count": 496,
   "id": "3196d4e1-fb3f-4bb8-a57f-760b0e440923",
   "metadata": {},
   "outputs": [],
   "source": [
    "lenDf=milo2.test_binom(lenDf)"
   ]
  },
  {
   "cell_type": "code",
   "execution_count": 497,
   "id": "d2684166-4fc0-439a-aa15-eda5585446ff",
   "metadata": {},
   "outputs": [
    {
     "data": {
      "text/plain": [
       "<matplotlib.colorbar.Colorbar at 0x7fb9f7eab0d0>"
      ]
     },
     "execution_count": 497,
     "metadata": {},
     "output_type": "execute_result"
    },
    {
     "data": {
      "image/png": "[encoded data removed]",
      "text/plain": [
       "<Figure size 400x400 with 2 Axes>"
      ]
     },
     "metadata": {},
     "output_type": "display_data"
    }
   ],
   "source": [
    "y_values = pd.DataFrame(lenDf['meanLogChange']).T\n",
    "plt.imshow(y_values, cmap='RdBu_r', interpolation='nearest',vmax=20,vmin=-20, aspect='auto')\n",
    "\n",
    "# Add colorbar\n",
    "plt.colorbar()"
   ]
  },
  {
   "cell_type": "code",
   "execution_count": 460,
   "id": "80c84d64-ab81-42db-9f35-00b2c3991aa1",
   "metadata": {},
   "outputs": [
    {
     "data": {
      "text/html": [
       "<div>\n",
       "<style scoped>\n",
       "    .dataframe tbody tr th:only-of-type {\n",
       "        vertical-align: middle;\n",
       "    }\n",
       "\n",
       "    .dataframe tbody tr th {\n",
       "        vertical-align: top;\n",
       "    }\n",
       "\n",
       "    .dataframe thead th {\n",
       "        text-align: right;\n",
       "    }\n",
       "</style>\n",
       "<table border=\"1\" class=\"dataframe\">\n",
       "  <thead>\n",
       "    <tr style=\"text-align: right;\">\n",
       "      <th></th>\n",
       "      <th>true</th>\n",
       "      <th>false</th>\n",
       "      <th>meanLogChange</th>\n",
       "      <th>null</th>\n",
       "      <th>rate</th>\n",
       "      <th>binom_p</th>\n",
       "    </tr>\n",
       "  </thead>\n",
       "  <tbody>\n",
       "    <tr>\n",
       "      <th>0</th>\n",
       "      <td>0.0</td>\n",
       "      <td>0.0</td>\n",
       "      <td>NaN</td>\n",
       "      <td>NaN</td>\n",
       "      <td>NaN</td>\n",
       "      <td>1.0</td>\n",
       "    </tr>\n",
       "    <tr>\n",
       "      <th>1</th>\n",
       "      <td>0.0</td>\n",
       "      <td>0.0</td>\n",
       "      <td>NaN</td>\n",
       "      <td>NaN</td>\n",
       "      <td>NaN</td>\n",
       "      <td>1.0</td>\n",
       "    </tr>\n",
       "    <tr>\n",
       "      <th>2</th>\n",
       "      <td>0.0</td>\n",
       "      <td>0.0</td>\n",
       "      <td>NaN</td>\n",
       "      <td>NaN</td>\n",
       "      <td>NaN</td>\n",
       "      <td>1.0</td>\n",
       "    </tr>\n",
       "    <tr>\n",
       "      <th>3</th>\n",
       "      <td>9.0</td>\n",
       "      <td>0.0</td>\n",
       "      <td>-27.471266</td>\n",
       "      <td>inf</td>\n",
       "      <td>1.000000</td>\n",
       "      <td>NaN</td>\n",
       "    </tr>\n",
       "    <tr>\n",
       "      <th>4</th>\n",
       "      <td>11.0</td>\n",
       "      <td>1.0</td>\n",
       "      <td>-26.010051</td>\n",
       "      <td>inf</td>\n",
       "      <td>0.916667</td>\n",
       "      <td>NaN</td>\n",
       "    </tr>\n",
       "    <tr>\n",
       "      <th>...</th>\n",
       "      <td>...</td>\n",
       "      <td>...</td>\n",
       "      <td>...</td>\n",
       "      <td>...</td>\n",
       "      <td>...</td>\n",
       "      <td>...</td>\n",
       "    </tr>\n",
       "    <tr>\n",
       "      <th>95</th>\n",
       "      <td>2.0</td>\n",
       "      <td>3.0</td>\n",
       "      <td>-9.242456</td>\n",
       "      <td>inf</td>\n",
       "      <td>0.400000</td>\n",
       "      <td>NaN</td>\n",
       "    </tr>\n",
       "    <tr>\n",
       "      <th>96</th>\n",
       "      <td>1.0</td>\n",
       "      <td>0.0</td>\n",
       "      <td>-14.929884</td>\n",
       "      <td>inf</td>\n",
       "      <td>1.000000</td>\n",
       "      <td>NaN</td>\n",
       "    </tr>\n",
       "    <tr>\n",
       "      <th>97</th>\n",
       "      <td>0.0</td>\n",
       "      <td>0.0</td>\n",
       "      <td>NaN</td>\n",
       "      <td>NaN</td>\n",
       "      <td>NaN</td>\n",
       "      <td>1.0</td>\n",
       "    </tr>\n",
       "    <tr>\n",
       "      <th>98</th>\n",
       "      <td>0.0</td>\n",
       "      <td>0.0</td>\n",
       "      <td>NaN</td>\n",
       "      <td>NaN</td>\n",
       "      <td>NaN</td>\n",
       "      <td>1.0</td>\n",
       "    </tr>\n",
       "    <tr>\n",
       "      <th>99</th>\n",
       "      <td>0.0</td>\n",
       "      <td>0.0</td>\n",
       "      <td>NaN</td>\n",
       "      <td>NaN</td>\n",
       "      <td>NaN</td>\n",
       "      <td>1.0</td>\n",
       "    </tr>\n",
       "  </tbody>\n",
       "</table>\n",
       "<p>100 rows × 6 columns</p>\n",
       "</div>"
      ],
      "text/plain": [
       "    true  false  meanLogChange  null      rate  binom_p\n",
       "0    0.0    0.0            NaN   NaN       NaN      1.0\n",
       "1    0.0    0.0            NaN   NaN       NaN      1.0\n",
       "2    0.0    0.0            NaN   NaN       NaN      1.0\n",
       "3    9.0    0.0     -27.471266   inf  1.000000      NaN\n",
       "4   11.0    1.0     -26.010051   inf  0.916667      NaN\n",
       "..   ...    ...            ...   ...       ...      ...\n",
       "95   2.0    3.0      -9.242456   inf  0.400000      NaN\n",
       "96   1.0    0.0     -14.929884   inf  1.000000      NaN\n",
       "97   0.0    0.0            NaN   NaN       NaN      1.0\n",
       "98   0.0    0.0            NaN   NaN       NaN      1.0\n",
       "99   0.0    0.0            NaN   NaN       NaN      1.0\n",
       "\n",
       "[100 rows x 6 columns]"
      ]
     },
     "execution_count": 460,
     "metadata": {},
     "output_type": "execute_result"
    }
   ],
   "source": [
    "lenDf"
   ]
  },
  {
   "cell_type": "code",
   "execution_count": 452,
   "id": "6343002f-20fd-4f93-b1a9-ee006c9b0baa",
   "metadata": {},
   "outputs": [
    {
     "data": {
      "text/plain": [
       "<matplotlib.colorbar.Colorbar at 0x7fccfafcbee0>"
      ]
     },
     "execution_count": 452,
     "metadata": {},
     "output_type": "execute_result"
    },
    {
     "data": {
      "image/png": "[encoded data removed]",
      "text/plain": [
       "<Figure size 400x400 with 2 Axes>"
      ]
     },
     "metadata": {},
     "output_type": "display_data"
    }
   ],
   "source": [
    "y_values = pd.DataFrame(lenDf['meanLogChange']).T\n",
    "plt.imshow(y_values, cmap='PiYG_r', interpolation='nearest',vmax=20,vmin=-20, aspect='auto')\n",
    "\n",
    "# Add colorbar\n",
    "plt.colorbar()"
   ]
  },
  {
   "cell_type": "code",
   "execution_count": 498,
   "id": "1a1dfc3a-e58b-40c4-9f60-4c0275239843",
   "metadata": {},
   "outputs": [
    {
     "data": {
      "text/plain": [
       "<matplotlib.colorbar.Colorbar at 0x7fb9d180f2e0>"
      ]
     },
     "execution_count": 498,
     "metadata": {},
     "output_type": "execute_result"
    },
    {
     "data": {
      "image/png": "[encoded data removed]",
      "text/plain": [
       "<Figure size 400x400 with 2 Axes>"
      ]
     },
     "metadata": {},
     "output_type": "display_data"
    }
   ],
   "source": [
    "y_values = pd.DataFrame(lenDf['binom_p']).T\n",
    "y_values=np.log10(y_values+0.00000000001)\n",
    "plt.imshow(y_values, cmap='Spectral', interpolation='nearest',aspect='auto')\n",
    "\n",
    "# Add colorbar\n",
    "plt.colorbar()"
   ]
  },
  {
   "cell_type": "code",
   "execution_count": 454,
   "id": "a3b2129a-646e-4159-bdd2-d71cc376f55c",
   "metadata": {},
   "outputs": [
    {
     "data": {
      "text/html": [
       "<div>\n",
       "<style scoped>\n",
       "    .dataframe tbody tr th:only-of-type {\n",
       "        vertical-align: middle;\n",
       "    }\n",
       "\n",
       "    .dataframe tbody tr th {\n",
       "        vertical-align: top;\n",
       "    }\n",
       "\n",
       "    .dataframe thead th {\n",
       "        text-align: right;\n",
       "    }\n",
       "</style>\n",
       "<table border=\"1\" class=\"dataframe\">\n",
       "  <thead>\n",
       "    <tr style=\"text-align: right;\">\n",
       "      <th></th>\n",
       "      <th>0</th>\n",
       "      <th>1</th>\n",
       "      <th>2</th>\n",
       "      <th>3</th>\n",
       "      <th>4</th>\n",
       "      <th>5</th>\n",
       "      <th>6</th>\n",
       "      <th>7</th>\n",
       "      <th>8</th>\n",
       "      <th>9</th>\n",
       "      <th>...</th>\n",
       "      <th>90</th>\n",
       "      <th>91</th>\n",
       "      <th>92</th>\n",
       "      <th>93</th>\n",
       "      <th>94</th>\n",
       "      <th>95</th>\n",
       "      <th>96</th>\n",
       "      <th>97</th>\n",
       "      <th>98</th>\n",
       "      <th>99</th>\n",
       "    </tr>\n",
       "  </thead>\n",
       "  <tbody>\n",
       "    <tr>\n",
       "      <th>binom_p</th>\n",
       "      <td>4.342945e-12</td>\n",
       "      <td>4.342945e-12</td>\n",
       "      <td>4.342945e-12</td>\n",
       "      <td>NaN</td>\n",
       "      <td>NaN</td>\n",
       "      <td>NaN</td>\n",
       "      <td>NaN</td>\n",
       "      <td>NaN</td>\n",
       "      <td>NaN</td>\n",
       "      <td>NaN</td>\n",
       "      <td>...</td>\n",
       "      <td>NaN</td>\n",
       "      <td>NaN</td>\n",
       "      <td>NaN</td>\n",
       "      <td>NaN</td>\n",
       "      <td>NaN</td>\n",
       "      <td>NaN</td>\n",
       "      <td>NaN</td>\n",
       "      <td>4.342945e-12</td>\n",
       "      <td>4.342945e-12</td>\n",
       "      <td>4.342945e-12</td>\n",
       "    </tr>\n",
       "  </tbody>\n",
       "</table>\n",
       "<p>1 rows × 100 columns</p>\n",
       "</div>"
      ],
      "text/plain": [
       "                   0             1             2   3   4   5   6   7   8   9   \\\n",
       "binom_p  4.342945e-12  4.342945e-12  4.342945e-12 NaN NaN NaN NaN NaN NaN NaN   \n",
       "\n",
       "         ...  90  91  92  93  94  95  96            97            98  \\\n",
       "binom_p  ... NaN NaN NaN NaN NaN NaN NaN  4.342945e-12  4.342945e-12   \n",
       "\n",
       "                   99  \n",
       "binom_p  4.342945e-12  \n",
       "\n",
       "[1 rows x 100 columns]"
      ]
     },
     "execution_count": 454,
     "metadata": {},
     "output_type": "execute_result"
    }
   ],
   "source": [
    "y_values"
   ]
  },
  {
   "cell_type": "code",
   "execution_count": 499,
   "id": "3aaaa5c1-d3ab-4742-92b8-e0b721ce1cc9",
   "metadata": {},
   "outputs": [],
   "source": [
    "wholecpm=milo2.make_da_cpm(mdata)"
   ]
  },
  {
   "cell_type": "code",
   "execution_count": 503,
   "id": "8c83aa0e-7c0e-44cc-9f4c-f228d07c81b2",
   "metadata": {},
   "outputs": [],
   "source": [
    "varTable=mdata['milo'].var\n",
    "range_data=varTable[[\"range_down\",\"range_up\"]].values"
   ]
  },
  {
   "cell_type": "code",
   "execution_count": 509,
   "id": "967caf34-df39-49d0-b2e4-0b446bb51938",
   "metadata": {},
   "outputs": [
    {
     "data": {
      "text/plain": [
       "(1984, 2)"
      ]
     },
     "execution_count": 509,
     "metadata": {},
     "output_type": "execute_result"
    }
   ],
   "source": [
    "range_data.shape"
   ]
  },
  {
   "cell_type": "code",
   "execution_count": 507,
   "id": "b3607487-222b-4818-abb7-4bbc559e67d7",
   "metadata": {},
   "outputs": [
    {
     "data": {
      "text/plain": [
       "106"
      ]
     },
     "execution_count": 507,
     "metadata": {},
     "output_type": "execute_result"
    }
   ],
   "source": [
    " np.sum((0.5 >= range_data[:, 0]) & (0.5 <= range_data[:, 1]))"
   ]
  },
  {
   "cell_type": "code",
   "execution_count": 511,
   "id": "afe932d3-094a-47b5-8e73-d2d71c94d1e7",
   "metadata": {},
   "outputs": [],
   "source": [
    "n=100\n",
    "permute_point_group={}\n",
    "for j in range(n):\n",
    "    point=(j+1)/(n+1)\n",
    "    mask = (point >= range_data[:, 0]) & (point <= range_data[:, 1])\n",
    "    group1Array=wholecpm.loc[mask,:]\n",
    "    group1Mean=np.mean(group1Array,axis=0)\n",
    "    permute_point_group[j]=group1Mean\n",
    "groupDf=pd.DataFrame(permute_point_group)\n",
    "groupDf.columns=groupDf.columns.astype(\"str\")\n"
   ]
  },
  {
   "cell_type": "code",
   "execution_count": 538,
   "id": "a0de0ce8-2fdd-40e2-ad1f-bb44eaf8fff5",
   "metadata": {},
   "outputs": [
    {
     "data": {
      "text/html": [
       "<div>\n",
       "<style scoped>\n",
       "    .dataframe tbody tr th:only-of-type {\n",
       "        vertical-align: middle;\n",
       "    }\n",
       "\n",
       "    .dataframe tbody tr th {\n",
       "        vertical-align: top;\n",
       "    }\n",
       "\n",
       "    .dataframe thead th {\n",
       "        text-align: right;\n",
       "    }\n",
       "</style>\n",
       "<table border=\"1\" class=\"dataframe\">\n",
       "  <thead>\n",
       "    <tr style=\"text-align: right;\">\n",
       "      <th></th>\n",
       "      <th>0</th>\n",
       "      <th>1</th>\n",
       "      <th>2</th>\n",
       "      <th>3</th>\n",
       "      <th>4</th>\n",
       "      <th>5</th>\n",
       "      <th>6</th>\n",
       "      <th>7</th>\n",
       "      <th>8</th>\n",
       "      <th>9</th>\n",
       "      <th>...</th>\n",
       "      <th>90</th>\n",
       "      <th>91</th>\n",
       "      <th>92</th>\n",
       "      <th>93</th>\n",
       "      <th>94</th>\n",
       "      <th>95</th>\n",
       "      <th>96</th>\n",
       "      <th>97</th>\n",
       "      <th>98</th>\n",
       "      <th>99</th>\n",
       "    </tr>\n",
       "    <tr>\n",
       "      <th>Sample</th>\n",
       "      <th></th>\n",
       "      <th></th>\n",
       "      <th></th>\n",
       "      <th></th>\n",
       "      <th></th>\n",
       "      <th></th>\n",
       "      <th></th>\n",
       "      <th></th>\n",
       "      <th></th>\n",
       "      <th></th>\n",
       "      <th></th>\n",
       "      <th></th>\n",
       "      <th></th>\n",
       "      <th></th>\n",
       "      <th></th>\n",
       "      <th></th>\n",
       "      <th></th>\n",
       "      <th></th>\n",
       "      <th></th>\n",
       "      <th></th>\n",
       "      <th></th>\n",
       "    </tr>\n",
       "  </thead>\n",
       "  <tbody>\n",
       "    <tr>\n",
       "      <th>BmscSp7KO_Youlten_WT</th>\n",
       "      <td>NaN</td>\n",
       "      <td>NaN</td>\n",
       "      <td>NaN</td>\n",
       "      <td>283.588396</td>\n",
       "      <td>212.691297</td>\n",
       "      <td>272.244860</td>\n",
       "      <td>260.438323</td>\n",
       "      <td>222.819454</td>\n",
       "      <td>152.320405</td>\n",
       "      <td>409.549495</td>\n",
       "      <td>...</td>\n",
       "      <td>9571.108360</td>\n",
       "      <td>9868.876176</td>\n",
       "      <td>11910.712626</td>\n",
       "      <td>11910.712626</td>\n",
       "      <td>11910.712626</td>\n",
       "      <td>13101.783889</td>\n",
       "      <td>6806.121501</td>\n",
       "      <td>NaN</td>\n",
       "      <td>NaN</td>\n",
       "      <td>NaN</td>\n",
       "    </tr>\n",
       "    <tr>\n",
       "      <th>CalvariaP4_Ayturk</th>\n",
       "      <td>NaN</td>\n",
       "      <td>NaN</td>\n",
       "      <td>NaN</td>\n",
       "      <td>108.419479</td>\n",
       "      <td>81.314609</td>\n",
       "      <td>156.124050</td>\n",
       "      <td>159.310255</td>\n",
       "      <td>151.012846</td>\n",
       "      <td>123.569799</td>\n",
       "      <td>234.864033</td>\n",
       "      <td>...</td>\n",
       "      <td>58546.518761</td>\n",
       "      <td>66352.721263</td>\n",
       "      <td>75256.670991</td>\n",
       "      <td>83359.090998</td>\n",
       "      <td>83359.090998</td>\n",
       "      <td>77281.404765</td>\n",
       "      <td>63425.395325</td>\n",
       "      <td>NaN</td>\n",
       "      <td>NaN</td>\n",
       "      <td>NaN</td>\n",
       "    </tr>\n",
       "    <tr>\n",
       "      <th>CranioSoxc_Angelozzi_Prx1CreE11.5</th>\n",
       "      <td>NaN</td>\n",
       "      <td>NaN</td>\n",
       "      <td>NaN</td>\n",
       "      <td>233.667816</td>\n",
       "      <td>262.876293</td>\n",
       "      <td>1135.625588</td>\n",
       "      <td>1748.932075</td>\n",
       "      <td>2979.264659</td>\n",
       "      <td>3009.876163</td>\n",
       "      <td>2618.326158</td>\n",
       "      <td>...</td>\n",
       "      <td>0.000000</td>\n",
       "      <td>0.000000</td>\n",
       "      <td>0.000000</td>\n",
       "      <td>0.000000</td>\n",
       "      <td>0.000000</td>\n",
       "      <td>0.000000</td>\n",
       "      <td>0.000000</td>\n",
       "      <td>NaN</td>\n",
       "      <td>NaN</td>\n",
       "      <td>NaN</td>\n",
       "    </tr>\n",
       "    <tr>\n",
       "      <th>CranioSoxc_Angelozzi_Prx1CreE12.5</th>\n",
       "      <td>NaN</td>\n",
       "      <td>NaN</td>\n",
       "      <td>NaN</td>\n",
       "      <td>210.795526</td>\n",
       "      <td>316.193289</td>\n",
       "      <td>682.977505</td>\n",
       "      <td>3019.968559</td>\n",
       "      <td>2936.080544</td>\n",
       "      <td>2819.505226</td>\n",
       "      <td>2692.742851</td>\n",
       "      <td>...</td>\n",
       "      <td>0.000000</td>\n",
       "      <td>0.000000</td>\n",
       "      <td>0.000000</td>\n",
       "      <td>0.000000</td>\n",
       "      <td>0.000000</td>\n",
       "      <td>0.000000</td>\n",
       "      <td>0.000000</td>\n",
       "      <td>NaN</td>\n",
       "      <td>NaN</td>\n",
       "      <td>NaN</td>\n",
       "    </tr>\n",
       "    <tr>\n",
       "      <th>CranioSoxc_Angelozzi_Prx1CreE13.5</th>\n",
       "      <td>NaN</td>\n",
       "      <td>NaN</td>\n",
       "      <td>NaN</td>\n",
       "      <td>0.000000</td>\n",
       "      <td>46.545536</td>\n",
       "      <td>268.102286</td>\n",
       "      <td>3351.278574</td>\n",
       "      <td>3537.460717</td>\n",
       "      <td>4085.437854</td>\n",
       "      <td>3495.419588</td>\n",
       "      <td>...</td>\n",
       "      <td>0.000000</td>\n",
       "      <td>0.000000</td>\n",
       "      <td>0.000000</td>\n",
       "      <td>0.000000</td>\n",
       "      <td>0.000000</td>\n",
       "      <td>0.000000</td>\n",
       "      <td>0.000000</td>\n",
       "      <td>NaN</td>\n",
       "      <td>NaN</td>\n",
       "      <td>NaN</td>\n",
       "    </tr>\n",
       "    <tr>\n",
       "      <th>...</th>\n",
       "      <td>...</td>\n",
       "      <td>...</td>\n",
       "      <td>...</td>\n",
       "      <td>...</td>\n",
       "      <td>...</td>\n",
       "      <td>...</td>\n",
       "      <td>...</td>\n",
       "      <td>...</td>\n",
       "      <td>...</td>\n",
       "      <td>...</td>\n",
       "      <td>...</td>\n",
       "      <td>...</td>\n",
       "      <td>...</td>\n",
       "      <td>...</td>\n",
       "      <td>...</td>\n",
       "      <td>...</td>\n",
       "      <td>...</td>\n",
       "      <td>...</td>\n",
       "      <td>...</td>\n",
       "      <td>...</td>\n",
       "      <td>...</td>\n",
       "    </tr>\n",
       "    <tr>\n",
       "      <th>Suture2021_Farmer_E17</th>\n",
       "      <td>NaN</td>\n",
       "      <td>NaN</td>\n",
       "      <td>NaN</td>\n",
       "      <td>16924.836495</td>\n",
       "      <td>16981.252617</td>\n",
       "      <td>9775.785560</td>\n",
       "      <td>6396.897385</td>\n",
       "      <td>4408.516935</td>\n",
       "      <td>2193.577062</td>\n",
       "      <td>3396.726491</td>\n",
       "      <td>...</td>\n",
       "      <td>5810.860530</td>\n",
       "      <td>6499.137214</td>\n",
       "      <td>6177.565321</td>\n",
       "      <td>6673.221247</td>\n",
       "      <td>6673.221247</td>\n",
       "      <td>4738.954219</td>\n",
       "      <td>4061.960759</td>\n",
       "      <td>NaN</td>\n",
       "      <td>NaN</td>\n",
       "      <td>NaN</td>\n",
       "    </tr>\n",
       "    <tr>\n",
       "      <th>coronal_Holmes_E18_1</th>\n",
       "      <td>NaN</td>\n",
       "      <td>NaN</td>\n",
       "      <td>NaN</td>\n",
       "      <td>482.234317</td>\n",
       "      <td>361.675738</td>\n",
       "      <td>289.340590</td>\n",
       "      <td>236.196400</td>\n",
       "      <td>172.226542</td>\n",
       "      <td>202.159364</td>\n",
       "      <td>642.580219</td>\n",
       "      <td>...</td>\n",
       "      <td>25196.743075</td>\n",
       "      <td>28500.048148</td>\n",
       "      <td>28029.869689</td>\n",
       "      <td>30174.090135</td>\n",
       "      <td>30174.090135</td>\n",
       "      <td>26908.674901</td>\n",
       "      <td>30380.761985</td>\n",
       "      <td>NaN</td>\n",
       "      <td>NaN</td>\n",
       "      <td>NaN</td>\n",
       "    </tr>\n",
       "    <tr>\n",
       "      <th>coronal_Holmes_E18_2</th>\n",
       "      <td>NaN</td>\n",
       "      <td>NaN</td>\n",
       "      <td>NaN</td>\n",
       "      <td>109.329758</td>\n",
       "      <td>81.997319</td>\n",
       "      <td>39.358713</td>\n",
       "      <td>60.242928</td>\n",
       "      <td>46.855611</td>\n",
       "      <td>25.780816</td>\n",
       "      <td>102.547515</td>\n",
       "      <td>...</td>\n",
       "      <td>18941.380597</td>\n",
       "      <td>20663.324288</td>\n",
       "      <td>22139.276023</td>\n",
       "      <td>24177.495085</td>\n",
       "      <td>24177.495085</td>\n",
       "      <td>21253.704982</td>\n",
       "      <td>18695.388641</td>\n",
       "      <td>NaN</td>\n",
       "      <td>NaN</td>\n",
       "      <td>NaN</td>\n",
       "    </tr>\n",
       "    <tr>\n",
       "      <th>lambdoid_Holmes_P10</th>\n",
       "      <td>NaN</td>\n",
       "      <td>NaN</td>\n",
       "      <td>NaN</td>\n",
       "      <td>0.000000</td>\n",
       "      <td>0.000000</td>\n",
       "      <td>0.000000</td>\n",
       "      <td>71.764487</td>\n",
       "      <td>75.352712</td>\n",
       "      <td>55.280592</td>\n",
       "      <td>104.708483</td>\n",
       "      <td>...</td>\n",
       "      <td>47061.954626</td>\n",
       "      <td>44799.698775</td>\n",
       "      <td>38856.881590</td>\n",
       "      <td>34260.366186</td>\n",
       "      <td>34260.366186</td>\n",
       "      <td>31085.505272</td>\n",
       "      <td>39384.350571</td>\n",
       "      <td>NaN</td>\n",
       "      <td>NaN</td>\n",
       "      <td>NaN</td>\n",
       "    </tr>\n",
       "    <tr>\n",
       "      <th>sagittal_Holmes_E18</th>\n",
       "      <td>NaN</td>\n",
       "      <td>NaN</td>\n",
       "      <td>NaN</td>\n",
       "      <td>804.474133</td>\n",
       "      <td>1086.040080</td>\n",
       "      <td>752.987789</td>\n",
       "      <td>443.281665</td>\n",
       "      <td>293.058434</td>\n",
       "      <td>271.905231</td>\n",
       "      <td>873.143886</td>\n",
       "      <td>...</td>\n",
       "      <td>40545.496319</td>\n",
       "      <td>43151.992511</td>\n",
       "      <td>41450.529719</td>\n",
       "      <td>40752.361097</td>\n",
       "      <td>40752.361097</td>\n",
       "      <td>38807.832191</td>\n",
       "      <td>49233.816959</td>\n",
       "      <td>NaN</td>\n",
       "      <td>NaN</td>\n",
       "      <td>NaN</td>\n",
       "    </tr>\n",
       "  </tbody>\n",
       "</table>\n",
       "<p>77 rows × 100 columns</p>\n",
       "</div>"
      ],
      "text/plain": [
       "                                    0   1   2             3             4  \\\n",
       "Sample                                                                      \n",
       "BmscSp7KO_Youlten_WT              NaN NaN NaN    283.588396    212.691297   \n",
       "CalvariaP4_Ayturk                 NaN NaN NaN    108.419479     81.314609   \n",
       "CranioSoxc_Angelozzi_Prx1CreE11.5 NaN NaN NaN    233.667816    262.876293   \n",
       "CranioSoxc_Angelozzi_Prx1CreE12.5 NaN NaN NaN    210.795526    316.193289   \n",
       "CranioSoxc_Angelozzi_Prx1CreE13.5 NaN NaN NaN      0.000000     46.545536   \n",
       "...                                ..  ..  ..           ...           ...   \n",
       "Suture2021_Farmer_E17             NaN NaN NaN  16924.836495  16981.252617   \n",
       "coronal_Holmes_E18_1              NaN NaN NaN    482.234317    361.675738   \n",
       "coronal_Holmes_E18_2              NaN NaN NaN    109.329758     81.997319   \n",
       "lambdoid_Holmes_P10               NaN NaN NaN      0.000000      0.000000   \n",
       "sagittal_Holmes_E18               NaN NaN NaN    804.474133   1086.040080   \n",
       "\n",
       "                                             5            6            7  \\\n",
       "Sample                                                                     \n",
       "BmscSp7KO_Youlten_WT                272.244860   260.438323   222.819454   \n",
       "CalvariaP4_Ayturk                   156.124050   159.310255   151.012846   \n",
       "CranioSoxc_Angelozzi_Prx1CreE11.5  1135.625588  1748.932075  2979.264659   \n",
       "CranioSoxc_Angelozzi_Prx1CreE12.5   682.977505  3019.968559  2936.080544   \n",
       "CranioSoxc_Angelozzi_Prx1CreE13.5   268.102286  3351.278574  3537.460717   \n",
       "...                                        ...          ...          ...   \n",
       "Suture2021_Farmer_E17              9775.785560  6396.897385  4408.516935   \n",
       "coronal_Holmes_E18_1                289.340590   236.196400   172.226542   \n",
       "coronal_Holmes_E18_2                 39.358713    60.242928    46.855611   \n",
       "lambdoid_Holmes_P10                   0.000000    71.764487    75.352712   \n",
       "sagittal_Holmes_E18                 752.987789   443.281665   293.058434   \n",
       "\n",
       "                                             8            9  ...  \\\n",
       "Sample                                                       ...   \n",
       "BmscSp7KO_Youlten_WT                152.320405   409.549495  ...   \n",
       "CalvariaP4_Ayturk                   123.569799   234.864033  ...   \n",
       "CranioSoxc_Angelozzi_Prx1CreE11.5  3009.876163  2618.326158  ...   \n",
       "CranioSoxc_Angelozzi_Prx1CreE12.5  2819.505226  2692.742851  ...   \n",
       "CranioSoxc_Angelozzi_Prx1CreE13.5  4085.437854  3495.419588  ...   \n",
       "...                                        ...          ...  ...   \n",
       "Suture2021_Farmer_E17              2193.577062  3396.726491  ...   \n",
       "coronal_Holmes_E18_1                202.159364   642.580219  ...   \n",
       "coronal_Holmes_E18_2                 25.780816   102.547515  ...   \n",
       "lambdoid_Holmes_P10                  55.280592   104.708483  ...   \n",
       "sagittal_Holmes_E18                 271.905231   873.143886  ...   \n",
       "\n",
       "                                             90            91            92  \\\n",
       "Sample                                                                        \n",
       "BmscSp7KO_Youlten_WT                9571.108360   9868.876176  11910.712626   \n",
       "CalvariaP4_Ayturk                  58546.518761  66352.721263  75256.670991   \n",
       "CranioSoxc_Angelozzi_Prx1CreE11.5      0.000000      0.000000      0.000000   \n",
       "CranioSoxc_Angelozzi_Prx1CreE12.5      0.000000      0.000000      0.000000   \n",
       "CranioSoxc_Angelozzi_Prx1CreE13.5      0.000000      0.000000      0.000000   \n",
       "...                                         ...           ...           ...   \n",
       "Suture2021_Farmer_E17               5810.860530   6499.137214   6177.565321   \n",
       "coronal_Holmes_E18_1               25196.743075  28500.048148  28029.869689   \n",
       "coronal_Holmes_E18_2               18941.380597  20663.324288  22139.276023   \n",
       "lambdoid_Holmes_P10                47061.954626  44799.698775  38856.881590   \n",
       "sagittal_Holmes_E18                40545.496319  43151.992511  41450.529719   \n",
       "\n",
       "                                             93            94            95  \\\n",
       "Sample                                                                        \n",
       "BmscSp7KO_Youlten_WT               11910.712626  11910.712626  13101.783889   \n",
       "CalvariaP4_Ayturk                  83359.090998  83359.090998  77281.404765   \n",
       "CranioSoxc_Angelozzi_Prx1CreE11.5      0.000000      0.000000      0.000000   \n",
       "CranioSoxc_Angelozzi_Prx1CreE12.5      0.000000      0.000000      0.000000   \n",
       "CranioSoxc_Angelozzi_Prx1CreE13.5      0.000000      0.000000      0.000000   \n",
       "...                                         ...           ...           ...   \n",
       "Suture2021_Farmer_E17               6673.221247   6673.221247   4738.954219   \n",
       "coronal_Holmes_E18_1               30174.090135  30174.090135  26908.674901   \n",
       "coronal_Holmes_E18_2               24177.495085  24177.495085  21253.704982   \n",
       "lambdoid_Holmes_P10                34260.366186  34260.366186  31085.505272   \n",
       "sagittal_Holmes_E18                40752.361097  40752.361097  38807.832191   \n",
       "\n",
       "                                             96  97  98  99  \n",
       "Sample                                                       \n",
       "BmscSp7KO_Youlten_WT                6806.121501 NaN NaN NaN  \n",
       "CalvariaP4_Ayturk                  63425.395325 NaN NaN NaN  \n",
       "CranioSoxc_Angelozzi_Prx1CreE11.5      0.000000 NaN NaN NaN  \n",
       "CranioSoxc_Angelozzi_Prx1CreE12.5      0.000000 NaN NaN NaN  \n",
       "CranioSoxc_Angelozzi_Prx1CreE13.5      0.000000 NaN NaN NaN  \n",
       "...                                         ...  ..  ..  ..  \n",
       "Suture2021_Farmer_E17               4061.960759 NaN NaN NaN  \n",
       "coronal_Holmes_E18_1               30380.761985 NaN NaN NaN  \n",
       "coronal_Holmes_E18_2               18695.388641 NaN NaN NaN  \n",
       "lambdoid_Holmes_P10                39384.350571 NaN NaN NaN  \n",
       "sagittal_Holmes_E18                49233.816959 NaN NaN NaN  \n",
       "\n",
       "[77 rows x 100 columns]"
      ]
     },
     "execution_count": 538,
     "metadata": {},
     "output_type": "execute_result"
    }
   ],
   "source": [
    "groupDf.loc[selectSample]"
   ]
  },
  {
   "cell_type": "code",
   "execution_count": 550,
   "id": "39b550ec-1a45-4db7-8831-2d78dd7b3a81",
   "metadata": {},
   "outputs": [],
   "source": [
    "groupDf=groupDf.loc[selectSample]\n",
    "# Function to row scale using Z-score\n",
    "def row_scale(row):\n",
    "    return (row - row.mean()) / row.std()\n",
    "\n",
    "# Apply the row scaling function to each row\n",
    "scaled_df = groupDf.apply(row_scale, axis=1)"
   ]
  },
  {
   "cell_type": "code",
   "execution_count": 542,
   "id": "729e5071-2e06-4eaa-aecf-2400c9f61167",
   "metadata": {},
   "outputs": [
    {
     "data": {
      "text/plain": [
       "AnnData object with n_obs × n_vars = 147808 × 20664\n",
       "    obs: 'Sample', 'Project', 'Core Dataset', 'Limb Atlas', 'Cranial Atlas', 'Organ', 'Tissue', 'Tissue(Specific)', 'Stage', 'Gene type', 'Treatment', 'Age', 'Age(In Detail)', 'Machine', 'Species', 'Isolation approach', 'Digestion', 'Enzymes', 'Cre', 'Bone Forming Methods', 'Data Source', 'Related Assay', 'Cell Count After QC', 'Origin', 'orig.ident', 'nCount_RNA', 'nFeature_RNA', 'paper_label', 'coarse_label', 'scDblFinder_class', 'short_id', 'nCount_originalexp', 'nFeature_originalexp', 'n_genes', 'n_genes_by_counts', 'log1p_n_genes_by_counts', 'total_counts', 'log1p_total_counts', 'pct_counts_in_top_50_genes', 'pct_counts_in_top_100_genes', 'pct_counts_in_top_200_genes', 'pct_counts_in_top_500_genes', 'new_totals_log', 'batch', 'log10_total_counts', 'n_genes_detected', 'mito_frac', 'ribo_frac', 'compl', 'transf_ann_level_7_label', 'transf_ann_level_6_label', 'transf_ann_level_5_label', 'transf_ann_level_4_label', 'transf_ann_level_3_label', 'transf_ann_level_2_label', 'transf_ann_level_1_label', 'most_confident_level', 'most_confident_uncert', 'most_confident_label', 'transf_ann_level_5_uncert', 'transf_ann_level_4_uncert', 'transf_ann_level_3_uncert', 'transf_ann_level_2_uncert', 'transf_ann_level_1_uncert', 'transf_ann_level_7_uncert', 'transf_ann_level_6_uncert', 'osteoIndex', 'Age_num', 'Age_detail_num', 'leiden_clusters_0.5', 'update_level2', 'C7_named', 'leiden_clusters_4', 'lineage_chondro', 'lineage_laFibro', 'lineage_lepr', 'lineage_mesenchyme', 'dpt_pred', 'lineage', 'lineage_str', 'Cell', 'InjuryState', 'nhood_ixs_random', 'nhood_ixs_refined', 'nhood_kth_distance'\n",
       "    var: 'features', 'n_cells', 'n_cells_by_counts', 'mean_counts', 'log1p_mean_counts', 'pct_dropout_by_counts', 'total_counts', 'log1p_total_counts', 'highly_variable', 'means', 'dispersions', 'dispersions_norm', 'highly_variable_nbatches', 'highly_variable_intersection'\n",
       "    uns: 'Age_colors', 'hvg', 'log1p', 'transf_ann_level_2_label_colors', 'C7_named_colors', 'neighbors', 'nhood_neighbors_key'\n",
       "    obsm: 'X_umap', 'scANVI', 'nhoods'\n",
       "    layers: 'counts'\n",
       "    obsp: 'distances', 'connectivities'"
      ]
     },
     "execution_count": 542,
     "metadata": {},
     "output_type": "execute_result"
    }
   ],
   "source": [
    "mesAtlas"
   ]
  },
  {
   "cell_type": "code",
   "execution_count": 625,
   "id": "b293f271-9a36-4463-8f32-64f53c5624bb",
   "metadata": {},
   "outputs": [],
   "source": [
    "selectSample=cellCount[cellCount>500].index"
   ]
  },
  {
   "cell_type": "code",
   "execution_count": 626,
   "id": "187a6bb3-c2fc-4f57-a8ba-52b010c9901c",
   "metadata": {},
   "outputs": [],
   "source": [
    "meta=mesAtlas.obs\n",
    "sampleDf2=meta[[\"Sample\",\"Organ\",\"Tissue\",\"Age\",\"Project\",\"InjuryState\"]][meta[\"Sample\"].isin(selectSample)].drop_duplicates()"
   ]
  },
  {
   "cell_type": "code",
   "execution_count": 627,
   "id": "0cb2e4dd-3cfa-405b-9dcf-5c791213a783",
   "metadata": {},
   "outputs": [],
   "source": [
    "sampleDf2.index=sampleDf2['Sample']"
   ]
  },
  {
   "cell_type": "code",
   "execution_count": 628,
   "id": "5878c84d-c460-4236-a9d5-4932b907ee51",
   "metadata": {},
   "outputs": [],
   "source": [
    "sampleDf2.Project=sampleDf2.Project.astype(\"str\")\n",
    "sampleDf2.Tissue=sampleDf2.Tissue.astype(\"str\")"
   ]
  },
  {
   "cell_type": "code",
   "execution_count": 629,
   "id": "bbb62180-55ec-45ad-9012-fa35df6e0178",
   "metadata": {},
   "outputs": [],
   "source": [
    "row_ha = pch.HeatmapAnnotation(Injury=pch.anno_simple(sampleDf2.InjuryState,cmap='Set1',\n",
    "                                           add_text=True,text_kws={'color':'white','rotation':-90,'fontweight':'bold','fontsize':10,},\n",
    "                                          legend=True),\n",
    "                               Organ=pch.anno_simple(sampleDf2.Organ,cmap='Set3',\n",
    "                                           add_text=False,text_kws={'color':'black','rotation':-90,'fontweight':'bold','fontsize':10,},\n",
    "                                          legend=True),\n",
    "                                Tissue=pch.anno_simple(sampleDf2.Tissue,cmap='tab20',\n",
    "                                           add_text=False,text_kws={'color':'black','rotation':-90,'fontweight':'bold','fontsize':10,},\n",
    "                                          legend=True),\n",
    "                               Age=pch.anno_simple(sampleDf2.Age,cmap='Set2',\n",
    "                                           add_text=False,text_kws={'color':'black','rotation':-90,'fontweight':'bold','fontsize':10,},\n",
    "                                          legend=True),\n",
    "                           axis=0,verbose=0,label_kws={'rotation':90,'horizontalalignment':'left'})"
   ]
  },
  {
   "cell_type": "code",
   "execution_count": 630,
   "id": "9352f91f-ce55-4f96-add1-fc7890b998da",
   "metadata": {},
   "outputs": [],
   "source": [
    "pseudotimeCol=scaled_df.columns.astype(\"int\")\n",
    "pseudotimeDf=pd.DataFrame(pseudotimeCol)\n",
    "pseudotimeDf.index=scaled_df.columns\n",
    "col_ha = pch.HeatmapAnnotation(Pseudotime=pch.anno_simple(pseudotimeDf[0],cmap='jet',\n",
    "                                           add_text=False,text_kws={'color':'black','rotation':-90,'fontweight':'bold','fontsize':10,},\n",
    "                                          legend=True),\n",
    "                           verbose=0,label_side='left',label_kws={'horizontalalignment':'right'})"
   ]
  },
  {
   "cell_type": "code",
   "execution_count": 631,
   "id": "c4ee9705-2b9d-487d-8bf1-ba87ba60d7b8",
   "metadata": {},
   "outputs": [],
   "source": [
    "scaled_df=scaled_df.fillna(0)"
   ]
  },
  {
   "cell_type": "code",
   "execution_count": 633,
   "id": "7aa4b7e2-44c4-49e6-9dcd-47eeee5a995d",
   "metadata": {},
   "outputs": [
    {
     "name": "stdout",
     "output_type": "stream",
     "text": [
      "Starting plotting..\n",
      "Starting calculating row orders..\n",
      "Reordering rows..\n",
      "Starting calculating col orders..\n",
      "Reordering cols..\n",
      "Plotting matrix..\n",
      "Collecting legends..\n",
      "Plotting legends..\n",
      "Incresing ncol\n",
      "Incresing ncol\n",
      "More than 3 cols is not supported\n",
      "Legend too long, generating a new column..\n",
      "Incresing ncol\n",
      "Incresing ncol\n",
      "More than 3 cols is not supported\n",
      "Legend too long, generating a new column..\n",
      "Incresing ncol\n"
     ]
    },
    {
     "data": {
      "text/plain": [
       "<PyComplexHeatmap.clustermap.ClusterMapPlotter at 0x7fb8feb2ad00>"
      ]
     },
     "execution_count": 633,
     "metadata": {},
     "output_type": "execute_result"
    },
    {
     "data": {
      "image/png": "[encoded data removed]",
      "text/plain": [
       "<Figure size 400x400 with 22 Axes>"
      ]
     },
     "metadata": {},
     "output_type": "display_data"
    }
   ],
   "source": [
    "pch.ClusterMapPlotter(scaled_df,col_cluster=False,cmap=\"RdBu_r\",vmax=3,\n",
    "                      row_split=sampleDf2.InjuryState,left_annotation=row_ha,\n",
    "                      top_annotation=col_ha,row_split_gap=3\n",
    "                         )"
   ]
  },
  {
   "cell_type": "code",
   "execution_count": 638,
   "id": "cf15edbd-cffd-4e4d-a695-c9326fb30cb0",
   "metadata": {},
   "outputs": [
    {
     "data": {
      "text/plain": [
       "AnnData object with n_obs × n_vars = 302 × 1984\n",
       "    obs: 'InjuryState', 'Sample'\n",
       "    var: 'index_cell', 'kth_distance', 'null', 'group1_cpm', 'group2_cpm', 'logFC', 'logCPM', 'F', 'PValue', 'FDR', 'SpatialFDR', 'time', 'range_down', 'range_up', 'Accept', 'logChange'\n",
       "    uns: 'sample_col'\n",
       "    varm: 'whole_cpm'"
      ]
     },
     "execution_count": 638,
     "metadata": {},
     "output_type": "execute_result"
    }
   ],
   "source": [
    "mdata[\"milo\"]"
   ]
  },
  {
   "cell_type": "code",
   "execution_count": 639,
   "id": "5c2c1cd8-d81c-4d62-9bbc-826e508ed12c",
   "metadata": {},
   "outputs": [],
   "source": [
    "groupCPM=mdata[\"milo\"].var[['group1_cpm', 'group2_cpm']]"
   ]
  },
  {
   "cell_type": "code",
   "execution_count": 640,
   "id": "0d07748e-725c-46b3-a573-62fd1ef91809",
   "metadata": {},
   "outputs": [
    {
     "data": {
      "text/html": [
       "<div>\n",
       "<style scoped>\n",
       "    .dataframe tbody tr th:only-of-type {\n",
       "        vertical-align: middle;\n",
       "    }\n",
       "\n",
       "    .dataframe tbody tr th {\n",
       "        vertical-align: top;\n",
       "    }\n",
       "\n",
       "    .dataframe thead th {\n",
       "        text-align: right;\n",
       "    }\n",
       "</style>\n",
       "<table border=\"1\" class=\"dataframe\">\n",
       "  <thead>\n",
       "    <tr style=\"text-align: right;\">\n",
       "      <th></th>\n",
       "      <th>group1_cpm</th>\n",
       "      <th>group2_cpm</th>\n",
       "    </tr>\n",
       "    <tr>\n",
       "      <th>index_cell</th>\n",
       "      <th></th>\n",
       "      <th></th>\n",
       "    </tr>\n",
       "  </thead>\n",
       "  <tbody>\n",
       "    <tr>\n",
       "      <th>Suture2021_Farmer_E17_AGCGTATTCACGCATA-1_1-0_1_1</th>\n",
       "      <td>409.526472</td>\n",
       "      <td>975.868221</td>\n",
       "    </tr>\n",
       "    <tr>\n",
       "      <th>Suture2021_Farmer_E17_GGTATTGAGGCCCTTG-1_1-0_1_1</th>\n",
       "      <td>741.583659</td>\n",
       "      <td>4386.507137</td>\n",
       "    </tr>\n",
       "    <tr>\n",
       "      <th>Suture2021_Farmer_E17_GGTATTGCAATTCCTT-1_1-0_1_1</th>\n",
       "      <td>1047.697421</td>\n",
       "      <td>1788.049662</td>\n",
       "    </tr>\n",
       "    <tr>\n",
       "      <th>Suture2021_Farmer_E17_TACCTTATCTCGTATT-1_1-0_1_1</th>\n",
       "      <td>1303.193439</td>\n",
       "      <td>1584.357746</td>\n",
       "    </tr>\n",
       "    <tr>\n",
       "      <th>Suture2021_Farmer_E17_TTAGTTCCATGTCGAT-1_1-0_1_1</th>\n",
       "      <td>704.744969</td>\n",
       "      <td>5273.579282</td>\n",
       "    </tr>\n",
       "    <tr>\n",
       "      <th>...</th>\n",
       "      <td>...</td>\n",
       "      <td>...</td>\n",
       "    </tr>\n",
       "    <tr>\n",
       "      <th>GTGTCCTAGAATCGAT-1_7</th>\n",
       "      <td>1683.640418</td>\n",
       "      <td>941.062155</td>\n",
       "    </tr>\n",
       "    <tr>\n",
       "      <th>AATGCCAAGTGATAGT-1_8</th>\n",
       "      <td>425.005594</td>\n",
       "      <td>1476.855263</td>\n",
       "    </tr>\n",
       "    <tr>\n",
       "      <th>AATGGCTCAAGCTCTA-1_8</th>\n",
       "      <td>1244.580877</td>\n",
       "      <td>1872.830215</td>\n",
       "    </tr>\n",
       "    <tr>\n",
       "      <th>GGTGGCTAGTATAGGT-1_8</th>\n",
       "      <td>1837.632214</td>\n",
       "      <td>1362.135884</td>\n",
       "    </tr>\n",
       "    <tr>\n",
       "      <th>TGACCCTAGCTAGAGC-1_8</th>\n",
       "      <td>1793.848218</td>\n",
       "      <td>1047.423334</td>\n",
       "    </tr>\n",
       "  </tbody>\n",
       "</table>\n",
       "<p>1984 rows × 2 columns</p>\n",
       "</div>"
      ],
      "text/plain": [
       "                                                   group1_cpm   group2_cpm\n",
       "index_cell                                                                \n",
       "Suture2021_Farmer_E17_AGCGTATTCACGCATA-1_1-0_1_1   409.526472   975.868221\n",
       "Suture2021_Farmer_E17_GGTATTGAGGCCCTTG-1_1-0_1_1   741.583659  4386.507137\n",
       "Suture2021_Farmer_E17_GGTATTGCAATTCCTT-1_1-0_1_1  1047.697421  1788.049662\n",
       "Suture2021_Farmer_E17_TACCTTATCTCGTATT-1_1-0_1_1  1303.193439  1584.357746\n",
       "Suture2021_Farmer_E17_TTAGTTCCATGTCGAT-1_1-0_1_1   704.744969  5273.579282\n",
       "...                                                       ...          ...\n",
       "GTGTCCTAGAATCGAT-1_7                              1683.640418   941.062155\n",
       "AATGCCAAGTGATAGT-1_8                               425.005594  1476.855263\n",
       "AATGGCTCAAGCTCTA-1_8                              1244.580877  1872.830215\n",
       "GGTGGCTAGTATAGGT-1_8                              1837.632214  1362.135884\n",
       "TGACCCTAGCTAGAGC-1_8                              1793.848218  1047.423334\n",
       "\n",
       "[1984 rows x 2 columns]"
      ]
     },
     "execution_count": 640,
     "metadata": {},
     "output_type": "execute_result"
    }
   ],
   "source": [
    "groupCPM"
   ]
  },
  {
   "cell_type": "code",
   "execution_count": 641,
   "id": "e2edeebb-7a9e-43c1-94ed-49d0af1ae106",
   "metadata": {},
   "outputs": [],
   "source": [
    "n=100\n",
    "permute_point_group={}\n",
    "for j in range(n):\n",
    "    point=(j+1)/(n+1)\n",
    "    mask = (point >= range_data[:, 0]) & (point <= range_data[:, 1])\n",
    "    group1Array=groupCPM.loc[mask,:]\n",
    "    group1Mean=np.mean(group1Array,axis=0)\n",
    "    permute_point_group[j]=group1Mean\n",
    "groupCpmDf=pd.DataFrame(permute_point_group)\n",
    "groupCpmDf.columns=groupCpmDf.columns.astype(\"str\")\n"
   ]
  },
  {
   "cell_type": "code",
   "execution_count": 643,
   "id": "03ea1640-1934-4b24-a4a6-dba2344a2c49",
   "metadata": {},
   "outputs": [],
   "source": [
    "groupCpmDf=groupCpmDf.T[np.array(groupCpmDf.sum(axis=0)>0)].T\n",
    "\n",
    "scaled_df_group = groupCpmDf.apply(row_scale, axis=1)"
   ]
  },
  {
   "cell_type": "code",
   "execution_count": 642,
   "id": "e0b5968e-500c-4d41-bf18-b2299d799716",
   "metadata": {},
   "outputs": [],
   "source": [
    "fdr=pd.DataFrame(lenDf['binom_p'])\n",
    "fdr=-np.log10(fdr+0.00000000001)\n",
    "diff=pd.DataFrame(lenDf['meanLogChange']).T"
   ]
  },
  {
   "cell_type": "code",
   "execution_count": 657,
   "id": "e3f15b56-c8d0-4f83-88e3-3a20b9058802",
   "metadata": {},
   "outputs": [],
   "source": [
    "fdr=fdr.T"
   ]
  },
  {
   "cell_type": "code",
   "execution_count": 661,
   "id": "320d5a3f-4250-469c-a5f9-29fbaa66599b",
   "metadata": {},
   "outputs": [],
   "source": [
    "diff.index=diff.index.astype(\"str\")\n",
    "fdr.index=fdr.index.astype(\"str\")"
   ]
  },
  {
   "cell_type": "code",
   "execution_count": 665,
   "id": "e1121593-f0a5-4b30-9712-1074de5fc23c",
   "metadata": {},
   "outputs": [],
   "source": [
    "diff.columns=diff.columns.astype(\"str\")\n",
    "fdr.columns=fdr.columns.astype(\"str\")"
   ]
  },
  {
   "cell_type": "code",
   "execution_count": 674,
   "id": "ea39c1cc-5707-4fb8-9bb1-429b93ce66cb",
   "metadata": {},
   "outputs": [],
   "source": [
    "bottonCol=pd.concat([scaled_df_group,diff,fdr],axis=0).T.dropna()"
   ]
  },
  {
   "cell_type": "code",
   "execution_count": 675,
   "id": "f68bc25c-369e-4054-a2ce-8be7cfc63d8b",
   "metadata": {},
   "outputs": [
    {
     "data": {
      "text/html": [
       "<div>\n",
       "<style scoped>\n",
       "    .dataframe tbody tr th:only-of-type {\n",
       "        vertical-align: middle;\n",
       "    }\n",
       "\n",
       "    .dataframe tbody tr th {\n",
       "        vertical-align: top;\n",
       "    }\n",
       "\n",
       "    .dataframe thead th {\n",
       "        text-align: right;\n",
       "    }\n",
       "</style>\n",
       "<table border=\"1\" class=\"dataframe\">\n",
       "  <thead>\n",
       "    <tr style=\"text-align: right;\">\n",
       "      <th></th>\n",
       "      <th>group1_cpm</th>\n",
       "      <th>group2_cpm</th>\n",
       "      <th>meanLogChange</th>\n",
       "      <th>binom_p</th>\n",
       "    </tr>\n",
       "  </thead>\n",
       "  <tbody>\n",
       "    <tr>\n",
       "      <th>3</th>\n",
       "      <td>-1.789656</td>\n",
       "      <td>-1.633043</td>\n",
       "      <td>-27.471266</td>\n",
       "      <td>11.000000</td>\n",
       "    </tr>\n",
       "    <tr>\n",
       "      <th>4</th>\n",
       "      <td>-1.745542</td>\n",
       "      <td>-1.582645</td>\n",
       "      <td>-26.010051</td>\n",
       "      <td>7.970089</td>\n",
       "    </tr>\n",
       "    <tr>\n",
       "      <th>5</th>\n",
       "      <td>-1.722238</td>\n",
       "      <td>-1.536546</td>\n",
       "      <td>-25.411124</td>\n",
       "      <td>10.985062</td>\n",
       "    </tr>\n",
       "    <tr>\n",
       "      <th>6</th>\n",
       "      <td>-1.721515</td>\n",
       "      <td>-1.461976</td>\n",
       "      <td>-26.040018</td>\n",
       "      <td>11.000000</td>\n",
       "    </tr>\n",
       "    <tr>\n",
       "      <th>7</th>\n",
       "      <td>-1.657963</td>\n",
       "      <td>-1.460161</td>\n",
       "      <td>-24.749514</td>\n",
       "      <td>11.000000</td>\n",
       "    </tr>\n",
       "    <tr>\n",
       "      <th>...</th>\n",
       "      <td>...</td>\n",
       "      <td>...</td>\n",
       "      <td>...</td>\n",
       "      <td>...</td>\n",
       "    </tr>\n",
       "    <tr>\n",
       "      <th>92</th>\n",
       "      <td>-0.803763</td>\n",
       "      <td>0.999891</td>\n",
       "      <td>-9.704269</td>\n",
       "      <td>0.472253</td>\n",
       "    </tr>\n",
       "    <tr>\n",
       "      <th>93</th>\n",
       "      <td>-0.818924</td>\n",
       "      <td>0.791954</td>\n",
       "      <td>-9.321303</td>\n",
       "      <td>0.562587</td>\n",
       "    </tr>\n",
       "    <tr>\n",
       "      <th>94</th>\n",
       "      <td>-0.818924</td>\n",
       "      <td>0.791954</td>\n",
       "      <td>-9.321303</td>\n",
       "      <td>0.562587</td>\n",
       "    </tr>\n",
       "    <tr>\n",
       "      <th>95</th>\n",
       "      <td>-0.838050</td>\n",
       "      <td>0.792990</td>\n",
       "      <td>-9.242456</td>\n",
       "      <td>0.861231</td>\n",
       "    </tr>\n",
       "    <tr>\n",
       "      <th>96</th>\n",
       "      <td>-1.315382</td>\n",
       "      <td>-0.762947</td>\n",
       "      <td>-14.929884</td>\n",
       "      <td>11.000000</td>\n",
       "    </tr>\n",
       "  </tbody>\n",
       "</table>\n",
       "<p>94 rows × 4 columns</p>\n",
       "</div>"
      ],
      "text/plain": [
       "    group1_cpm  group2_cpm  meanLogChange    binom_p\n",
       "3    -1.789656   -1.633043     -27.471266  11.000000\n",
       "4    -1.745542   -1.582645     -26.010051   7.970089\n",
       "5    -1.722238   -1.536546     -25.411124  10.985062\n",
       "6    -1.721515   -1.461976     -26.040018  11.000000\n",
       "7    -1.657963   -1.460161     -24.749514  11.000000\n",
       "..         ...         ...            ...        ...\n",
       "92   -0.803763    0.999891      -9.704269   0.472253\n",
       "93   -0.818924    0.791954      -9.321303   0.562587\n",
       "94   -0.818924    0.791954      -9.321303   0.562587\n",
       "95   -0.838050    0.792990      -9.242456   0.861231\n",
       "96   -1.315382   -0.762947     -14.929884  11.000000\n",
       "\n",
       "[94 rows x 4 columns]"
      ]
     },
     "execution_count": 675,
     "metadata": {},
     "output_type": "execute_result"
    }
   ],
   "source": [
    "bottonCol"
   ]
  },
  {
   "cell_type": "code",
   "execution_count": 677,
   "id": "38229566-0dbc-428b-9c3f-282a0c2d9c57",
   "metadata": {},
   "outputs": [],
   "source": [
    "\n",
    "bottom_ha = pch.HeatmapAnnotation(Injury=pch.anno_simple(bottonCol.group1_cpm,cmap='RdBu_r',\n",
    "                                           add_text=False,text_kws={'color':'black','rotation':-90,'fontweight':'bold','fontsize':10,},\n",
    "                                          legend=True),\n",
    "                               Other=pch.anno_simple(bottonCol.group2_cpm,cmap='RdBu_r',\n",
    "                                           add_text=False,text_kws={'color':'black','rotation':-90,'fontweight':'bold','fontsize':10,},\n",
    "                                          legend=True),\n",
    "                               Diff_expression=pch.anno_simple(bottonCol.meanLogChange,cmap='PiYG_r',\n",
    "                                           add_text=False,text_kws={'color':'black','rotation':-90,'fontweight':'bold','fontsize':10,},\n",
    "                                          legend=True),\n",
    "                               FDR=pch.anno_simple(bottonCol.binom_p,cmap='Spectral_r',\n",
    "                                           add_text=False,text_kws={'color':'black','rotation':-90,'fontweight':'bold','fontsize':10,},\n",
    "                                          legend=True),\n",
    "                           verbose=0,label_side='left',label_kws={'horizontalalignment':'right'})"
   ]
  },
  {
   "cell_type": "code",
   "execution_count": 680,
   "id": "f5b1db76-966e-4c6e-a541-65a57373fe9a",
   "metadata": {},
   "outputs": [
    {
     "name": "stdout",
     "output_type": "stream",
     "text": [
      "Starting plotting..\n",
      "Starting calculating row orders..\n",
      "Reordering rows..\n",
      "Starting calculating col orders..\n",
      "Reordering cols..\n",
      "Plotting matrix..\n",
      "Collecting legends..\n",
      "Plotting legends..\n",
      "Incresing ncol\n",
      "Incresing ncol\n",
      "More than 3 cols is not supported\n",
      "Legend too long, generating a new column..\n",
      "Incresing ncol\n"
     ]
    },
    {
     "data": {
      "image/png": "[encoded data removed]",
      "text/plain": [
       "<Figure size 600x500 with 30 Axes>"
      ]
     },
     "metadata": {},
     "output_type": "display_data"
    }
   ],
   "source": [
    "plt.figure(figsize=(6, 5))\n",
    "pch.ClusterMapPlotter(scaled_df,col_cluster=False,cmap=\"RdBu_r\",vmax=3,\n",
    "                      row_split=sampleDf2.InjuryState,left_annotation=row_ha,\n",
    "                      top_annotation=col_ha,row_split_gap=3,bottom_annotation=bottom_ha\n",
    "                         )\n",
    "plt.savefig(\"../result/1.1_fig6/3.4_DA.pdf\")"
   ]
  },
  {
   "cell_type": "code",
   "execution_count": 682,
   "id": "f913ea34-06e9-41d1-a998-37c162d43cd2",
   "metadata": {},
   "outputs": [],
   "source": [
    "milo_DA=mdata[\"milo\"]"
   ]
  },
  {
   "cell_type": "code",
   "execution_count": 683,
   "id": "751619f5-cbae-4db8-8282-69874b7dd435",
   "metadata": {},
   "outputs": [],
   "source": [
    "milo_DA.write_h5ad(\"../process_data/traj_diff/24.3.4_da_milo.h5ad\")"
   ]
  },
  {
   "cell_type": "code",
   "execution_count": 684,
   "id": "7f5eac51-1d04-4f53-9c65-b65ad4b134ec",
   "metadata": {},
   "outputs": [],
   "source": [
    "scaled_df.to_csv(\"../process_data/traj_diff/24.3.4_milo_hmData.csv\")\n",
    "bottonCol.to_csv(\"../process_data/traj_diff/24.3.4_milo_hm_bottomAnno.csv\")"
   ]
  }
 ],
 "metadata": {
  "kernelspec": {
   "display_name": "Python 3 (ipykernel)",
   "language": "python",
   "name": "python3"
  },
  "language_info": {
   "codemirror_mode": {
    "name": "ipython",
    "version": 3
   },
   "file_extension": ".py",
   "mimetype": "text/x-python",
   "name": "python",
   "nbconvert_exporter": "python",
   "pygments_lexer": "ipython3",
   "version": "3.9.0"
  }
 },
 "nbformat": 4,
 "nbformat_minor": 5
}
